{
 "cells": [
  {
   "cell_type": "code",
   "execution_count": 1,
   "metadata": {},
   "outputs": [
    {
     "name": "stderr",
     "output_type": "stream",
     "text": [
      "\u001b[32m\u001b[1m  Activating\u001b[22m\u001b[39m environment at `~/devel/optimal_control/hw3_solutions/Project.toml`\n",
      "\u001b[32m\u001b[1mPrecompiling\u001b[22m\u001b[39m project...\n",
      "\u001b[32m  ✓ \u001b[39m\u001b[90mAssetRegistry\u001b[39m\n",
      "\u001b[32m  ✓ \u001b[39m\u001b[90mMux\u001b[39m\n",
      "\u001b[32m  ✓ \u001b[39m\u001b[90mWebIO\u001b[39m\n",
      "\u001b[32m  ✓ \u001b[39m\u001b[90mJSExpr\u001b[39m\n",
      "\u001b[32m  ✓ \u001b[39m\u001b[90mBlink\u001b[39m\n",
      "\u001b[32m  ✓ \u001b[39mMeshCat\n",
      "  6 dependencies successfully precompiled in 9 seconds (179 already precompiled)\n"
     ]
    }
   ],
   "source": [
    "import Pkg; Pkg.activate(joinpath(@__DIR__,\"..\")); \n",
    "Pkg.instantiate()\n",
    "using ForwardDiff\n",
    "using Test\n",
    "using RobotZoo: PlanarQuadrotor\n",
    "using RobotDynamics\n",
    "using LinearAlgebra\n",
    "using StaticArrays\n",
    "using Statistics\n",
    "using Plots\n",
    "using Printf\n",
    "using JLD2\n",
    "const jldir = joinpath(dirname(@__DIR__),\"test\")\n",
    "\n",
    "const FD = ForwardDiff;\n",
    "\n",
    "test_dict = load(joinpath(jldir,\"q1.jld2\"))\n",
    "\n",
    "include(\"quadrotor.jl\");"
   ]
  },
  {
   "cell_type": "markdown",
   "metadata": {},
   "source": [
    "# Question 1: Iterative LQR (50 pts)\n",
    "In this problem you'll implement iterative LQR (ilQR), the Gauss-Newton approximation of differential dynamic programming (DDP). You'll use it to generate trajectories for a planar quadrotor, including a flip. In the last part of the problem, you'll track the trajectory to make it robust to wind.\n",
    "\n",
    "## The Model\n",
    "We'll be using the same planar quadrotor model we saw in class. The dynamics are fairly simple:\n",
    "\n",
    "$$ \n",
    "x = \\begin{bmatrix} p_x \\\\ p_z \\\\ \\theta \\\\ v_x \\\\ v_z \\\\ \\omega \\end{bmatrix}, \\quad\n",
    "\\dot{x} = \\begin{bmatrix} v_x \\\\ v_z \\\\ \\omega \\\\ \n",
    "\\frac{1}{m} (u_1 + u_2) \\sin{\\theta} \\\\\n",
    "\\frac{1}{m} (u_1 + u_2) \\cos{\\theta} - g \\\\\n",
    "\\frac{l}{J} (u_2 - u_1) \n",
    "\\end{bmatrix}\n",
    "$$\n",
    "with the following model parameters:\n",
    "* $m$: mass (kg)\n",
    "* $J$: moment of inertia\n",
    "* $l$: distance between motors"
   ]
  },
  {
   "cell_type": "code",
   "execution_count": 2,
   "metadata": {},
   "outputs": [
    {
     "data": {
      "text/plain": [
       "61"
      ]
     },
     "execution_count": 2,
     "metadata": {},
     "output_type": "execute_result"
    }
   ],
   "source": [
    "model = PlanarQuadrotor()\n",
    "const x0    = [-3, 1.0, 0, 0, 0, 0]                    # initial state\n",
    "const xgoal = [+3, 1.0, 0, 0, 0, 0]                    # goal state\n",
    "const nx = 6 \n",
    "const nu = 2\n",
    "const uhover = fill(0.5*1.0 * 9.81, nu) \n",
    "\n",
    "const Q = Diagonal(([ones(3) ; fill(0.1, 3)]))\n",
    "const R = Diagonal(fill(1e-2, nu))\n",
    "const Qf = Diagonal(fill(1e2, nx));\n",
    "\n",
    "const dt = 0.025 \n",
    "const N = 61"
   ]
  },
  {
   "cell_type": "code",
   "execution_count": 4,
   "metadata": {},
   "outputs": [
    {
     "data": {
      "text/plain": [
       "dynamics_jacobians"
      ]
     },
     "execution_count": 4,
     "metadata": {},
     "output_type": "execute_result"
    }
   ],
   "source": [
    "\"\"\"\n",
    "Calculate the continuous time dynamics ẋ = f(x,u), x is a vector of length 6, u is a vector of length 2.\n",
    "\n",
    "returns ẋ\n",
    "\"\"\"\n",
    "\n",
    "function dynamics(x,u)\n",
    "    # planar quadrotor dynamics\n",
    "    \n",
    "    # parameters\n",
    "    mass = 1.0 \n",
    "    g = 9.81\n",
    "    ℓ = 0.3 \n",
    "    J = 0.2*mass*ℓ^2\n",
    "\n",
    "     # unpack state\n",
    "    px,pz,θ,vx,vz,ω = x    \n",
    "    return [vx,vz,ω,(1/mass)*(u[1] + u[2])*sin(θ), (1/mass)*(u[1] + u[2])*cos(θ) - g, (ℓ/(2*J))*(u[2]-u[1])]\n",
    "end\n",
    "\n",
    "\"\"\"\n",
    "Integrates the dynamics ODE 1 dt forward, x_{k+1} = rk4(x_k,u_k,dt).\n",
    "\n",
    "returns x_{k+1}\n",
    "\"\"\"\n",
    "function rk4(x,u,dt)\n",
    "    # rk4 for integration\n",
    "    k1 = dt*dynamics(x,u)\n",
    "    k2 = dt*dynamics(x + k1/2,u)\n",
    "    k3 = dt*dynamics(x + k2/2,u)\n",
    "    k4 = dt*dynamics(x + k3,u)\n",
    "    return x + (1/6)*(k1 + 2*k2 + 2*k3 + k4)\n",
    "end\n",
    "\n",
    "\"\"\"\n",
    "uses forward diff to get the following jacobians of the above discrete dynamics function (rk4):\n",
    "drk4/dx = A \n",
    "drk4/du = B\n",
    "\"\"\"\n",
    "function dynamics_jacobians(x,u,dt)\n",
    "    # returns the discrete time dynamics jacobians\n",
    "    A = FD.jacobian(_x -> rk4(_x,u,dt),x)\n",
    "    B = FD.jacobian(_u -> rk4(x,_u,dt),u)\n",
    "    return A,B\n",
    "end"
   ]
  },
  {
   "cell_type": "markdown",
   "metadata": {},
   "source": [
    "# Part (a): Implement iLQR"
   ]
  },
  {
   "cell_type": "markdown",
   "metadata": {},
   "source": [
    "## LQR Cost Function\n",
    "Here you will create functions for calculating the costs of states/controls as well as whole trajectories. Our cost function can broken up as the following:\n",
    "\n",
    "**for every time step that isn't the last one**\n",
    "\n",
    "$$J(x,u) = \\frac{1}{2}(x - x_{ref})^TQ(x - x_{ref}) + \\frac{1}{2}(u -u_{ref})^TR(u-u_{ref})$$\n",
    "\n",
    "**for the last time step**\n",
    "\n",
    "$$J_N(x) = \\frac{1}{2}(x - x_{ref})^TQ_f(x - x_{ref})$$\n",
    "\n",
    "Since our whole cost function for the entire trajectory is the following:\n",
    "\n",
    "$$\\ell(X,U) = \\bigg[ \\sum_{i=1}^{N-1} J(x_k,u_k) \\bigg] + J_N(x_N)$$"
   ]
  },
  {
   "cell_type": "code",
   "execution_count": 5,
   "metadata": {},
   "outputs": [
    {
     "data": {
      "text/plain": [
       "term_cost_expansion (generic function with 1 method)"
      ]
     },
     "execution_count": 5,
     "metadata": {},
     "output_type": "execute_result"
    }
   ],
   "source": [
    "# cost expansion \n",
    "function stage_cost(x,u,xref,uref)\n",
    "    # LQR cost at each knot point (depends on both x and u)\n",
    "    \n",
    "    # TODO\n",
    "    J = 0.0\n",
    "    \n",
    "    \n",
    "    return J\n",
    "end\n",
    "\n",
    "function term_cost(x,xref)\n",
    "    # LQR terminal cost (depends on just x)\n",
    "    \n",
    "    # TODO\n",
    "    J = 0.0 \n",
    "    \n",
    "    return J\n",
    "end\n",
    "\n",
    "function trajectory_cost(X,U,Xref,Uref)\n",
    "    # calculate the cost of a given trajectory \n",
    "\n",
    "    # TODO\n",
    "    J = 0.0\n",
    "    \n",
    "    return J\n",
    "end\n",
    "        \n",
    "function stage_cost_expansion(x,u,xref,uref)\n",
    "    # if the stage cost function is J, return the following derivatives:\n",
    "    # ∇²ₓJ,  ∇ₓJ, ∇²ᵤJ, ∇ᵤJ\n",
    "    \n",
    "    # TODO\n",
    "    Jxx = zeros(nx,nx)\n",
    "    Jx = zeros(nx)\n",
    "    Juu = zeros(nu,nu)\n",
    "    Ju = zeros(nu)\n",
    "    \n",
    "    return Jxx, Jx, Juu, Ju\n",
    "end\n",
    "\n",
    "function term_cost_expansion(x,xref)\n",
    "    # if the terminal cost function is J, return the following derivatives:\n",
    "    # ∇²ₓJ,  ∇ₓJ\n",
    "    \n",
    "    # TODO\n",
    "    Jxx = zeros(nx,nx)\n",
    "    Jx = zeros(nx)\n",
    "    \n",
    "    return Jxx, Jx\n",
    "end"
   ]
  },
  {
   "cell_type": "code",
   "execution_count": 6,
   "metadata": {},
   "outputs": [
    {
     "name": "stdout",
     "output_type": "stream",
     "text": [
      "\u001b[0m\u001b[1mTest Summary: | \u001b[22m\u001b[32m\u001b[1mPass  \u001b[22m\u001b[39m\u001b[36m\u001b[1mTotal\u001b[22m\u001b[39m\n",
      "cost tests    | \u001b[32m   9  \u001b[39m\u001b[36m    9\u001b[39m\n"
     ]
    },
    {
     "data": {
      "text/plain": [
       "Test.DefaultTestSet(\"cost tests\", Any[], 9, false, false)"
      ]
     },
     "execution_count": 6,
     "metadata": {},
     "output_type": "execute_result"
    }
   ],
   "source": [
    "using Random\n",
    "@testset \"cost tests\" begin \n",
    "\n",
    "    Xref = [copy(xgoal) for i = 1:N]\n",
    "    Uref = [copy(uhover) for i = 1:N-1]\n",
    "    \n",
    "    X = [copy(x0) for i = 1:N]\n",
    "    U = deepcopy(Uref)\n",
    "    \n",
    "    # costs \n",
    "    J1 = stage_cost(X[1],U[1],Xref[1],Uref[1])\n",
    "    J2 = term_cost(X[N],Xref[N])\n",
    "    J3 = trajectory_cost(X,U,Xref,Uref)\n",
    "    \n",
    "    @test stage_cost(X[1],U[1],Xref[1],Uref[1]) ≈  test_dict[\"J1\"] atol = 1e-10\n",
    "    @test term_cost(X[N],Xref[N]) ≈ test_dict[\"J2\"]  atol = 1e-10\n",
    "    @test trajectory_cost(X,U,Xref,Uref) ≈ test_dict[\"J3\"] atol = 1e-8\n",
    "    \n",
    "    # cost derivatives\n",
    "    Jxx, Jx, Juu, Ju = stage_cost_expansion(X[4],U[4],Xref[4],Uref[4])\n",
    "    \n",
    "    @test vec(Jxx) ≈ vec(test_dict[\"Jxx\"]) atol =1e-10\n",
    "    @test Jx ≈ test_dict[\"Jx\"] atol = 1e-8\n",
    "    @test vec(Juu) ≈ vec(0.01*I(nu)) atol = 1e-8\n",
    "    @test Ju ≈ test_dict[\"Ju\"] atol = 1e-8\n",
    "    \n",
    "    Jxx2, Jx2 = term_cost_expansion(X[8],Xref[8])\n",
    "    \n",
    "    @test vec(Jxx2) ≈ vec(test_dict[\"Jxx2\"]) atol = 1e-8\n",
    "    @test Jx2 ≈ vec(test_dict[\"Jx2\"]) atol = 1e-8;\n",
    "    \n",
    "end"
   ]
  },
  {
   "cell_type": "markdown",
   "metadata": {},
   "source": [
    "## Backward Pass\n",
    "You will now implement the backwards pass of iLQR. Remember that iLQR has two parts, a backward pass and a forward pass.  The backward pass is where feedforward controls `d` and feedback gains `K` are solved for. \n",
    "\n",
    "Hint: initialize $\\Delta J$ as 0, and during each step of the backwards pass, add $g_u^Td_k$ to it. "
   ]
  },
  {
   "cell_type": "code",
   "execution_count": 7,
   "metadata": {},
   "outputs": [
    {
     "data": {
      "text/plain": [
       "backward_pass (generic function with 1 method)"
      ]
     },
     "execution_count": 7,
     "metadata": {},
     "output_type": "execute_result"
    }
   ],
   "source": [
    "\"\"\"\n",
    "backward pass for iLQR. Inputs are \n",
    "    X - current trajectory              Vector{Vector}\n",
    "    U - current control                 Vector{Vector}\n",
    "    Xref - trajectory we want to track  Vector{Vector}\n",
    "    Uref - control we want to track     Vector{Vector}\n",
    "\n",
    "We will perform the backwards recursion without any regularization. Store the expected cost \n",
    "decrease in ΔJ and return the following \n",
    "    d - feedforward control             Vector{Vector}\n",
    "    K - feedback gain matrices          Vector{Matrix}\n",
    "    P - cost to go quadratic term       Vector{Matrix}\n",
    "    ΔJ - expected cost decrease         Float\n",
    "\"\"\"\n",
    "\n",
    "function backward_pass(X,U,Xref,Uref)\n",
    "\n",
    "    # allocate all our data\n",
    "    P = [zeros(nx,nx) for i = 1:N]   # cost to go quadratic term\n",
    "    p = [zeros(nx) for i = 1:N]      # cost to go linear term \n",
    "    d = [zeros(nu) for i = 1:N-1]    # feedforward control\n",
    "    K = [zeros(nu,nx) for i = 1:N-1] # feedback gain\n",
    "    ΔJ = 0.0                         # expected cost decrease\n",
    "\n",
    "\n",
    "    \n",
    "    # TODO: implement the backward pass \n",
    "    \n",
    "    # terminal cost expansion\n",
    "    \n",
    "    \n",
    "    for k = (N-1):(-1):1\n",
    "        \n",
    "        # dynamics jacobians \n",
    "    \n",
    "        \n",
    "        # cost expansion \n",
    "        \n",
    "        \n",
    "        # action value expansion \n",
    "        \n",
    "        \n",
    "        # calculate d and K \n",
    "        \n",
    "        \n",
    "        # update p and P \n",
    "        \n",
    "        \n",
    "        # add to ΔJ \n",
    "        \n",
    "    end\n",
    "    \n",
    "    return d, K, P, ΔJ\n",
    "end"
   ]
  },
  {
   "cell_type": "code",
   "execution_count": 8,
   "metadata": {},
   "outputs": [
    {
     "name": "stdout",
     "output_type": "stream",
     "text": [
      "\u001b[0m\u001b[1mTest Summary: | \u001b[22m\u001b[32m\u001b[1mPass  \u001b[22m\u001b[39m\u001b[36m\u001b[1mTotal\u001b[22m\u001b[39m\n",
      "backward pass | \u001b[32m 182  \u001b[39m\u001b[36m  182\u001b[39m\n"
     ]
    },
    {
     "data": {
      "text/plain": [
       "Test.DefaultTestSet(\"backward pass\", Any[Test.DefaultTestSet(\"element #1\", Any[], 1, false, false), Test.DefaultTestSet(\"element #2\", Any[], 1, false, false), Test.DefaultTestSet(\"element #3\", Any[], 1, false, false), Test.DefaultTestSet(\"element #4\", Any[], 1, false, false), Test.DefaultTestSet(\"element #5\", Any[], 1, false, false), Test.DefaultTestSet(\"element #6\", Any[], 1, false, false), Test.DefaultTestSet(\"element #7\", Any[], 1, false, false), Test.DefaultTestSet(\"element #8\", Any[], 1, false, false), Test.DefaultTestSet(\"element #9\", Any[], 1, false, false), Test.DefaultTestSet(\"element #10\", Any[], 1, false, false)  …  Test.DefaultTestSet(\"element #52\", Any[], 1, false, false), Test.DefaultTestSet(\"element #53\", Any[], 1, false, false), Test.DefaultTestSet(\"element #54\", Any[], 1, false, false), Test.DefaultTestSet(\"element #55\", Any[], 1, false, false), Test.DefaultTestSet(\"element #56\", Any[], 1, false, false), Test.DefaultTestSet(\"element #57\", Any[], 1, false, false), Test.DefaultTestSet(\"element #58\", Any[], 1, false, false), Test.DefaultTestSet(\"element #59\", Any[], 1, false, false), Test.DefaultTestSet(\"element #60\", Any[], 1, false, false), Test.DefaultTestSet(\"element #61\", Any[], 1, false, false)], 1, false, false)"
      ]
     },
     "execution_count": 8,
     "metadata": {},
     "output_type": "execute_result"
    }
   ],
   "source": [
    "function test_vec(var,tru;atol = 1e-6)\n",
    "    for i = 1:length(tru)\n",
    "        name = \"element #\"*string(i)\n",
    "        @testset \"$name\" begin @test isapprox(vec(var[i]), vec(tru[i]),atol = atol); end;\n",
    "    end\n",
    "    return nothing\n",
    "end\n",
    "\n",
    "@testset \"backward pass\" begin \n",
    "    \n",
    "    X = test_dict[\"X\"]\n",
    "    U = test_dict[\"U\"]\n",
    "    Xref = test_dict[\"Xref\"]\n",
    "    Uref = test_dict[\"Uref\"]\n",
    "    \n",
    "    d, K, P, ΔJ = backward_pass(X,U,Xref,Uref)\n",
    "    \n",
    "    test_vec(d,test_dict[\"d\"],atol = 1e-3);\n",
    "    test_vec(K,test_dict[\"K\"],atol = 1e-3);\n",
    "    test_vec(P,test_dict[\"P\"],atol = 1e-3);\n",
    "    @test ΔJ ≈ test_dict[\"ΔJ\"] atol = 1e-3\n",
    "    \n",
    "end\n",
    "    \n",
    "    "
   ]
  },
  {
   "cell_type": "markdown",
   "metadata": {},
   "source": [
    "## Forward Pass\n",
    "Next we will build out forward pass function. This is where we do a forward simulation with the new `d` and `K`'s from the backwards pass, and do a backtracking line search on $\\alpha$ to ensure we see a neccessary decrease. During our linesearch, we accept our new trajectory/control if the following Armijo condition is satsified:\n",
    "\n",
    "$$ J_n < J - 0.01\\alpha\\Delta J$$"
   ]
  },
  {
   "cell_type": "code",
   "execution_count": 9,
   "metadata": {},
   "outputs": [
    {
     "data": {
      "text/plain": [
       "forward_pass (generic function with 1 method)"
      ]
     },
     "execution_count": 9,
     "metadata": {},
     "output_type": "execute_result"
    }
   ],
   "source": [
    "\"\"\"\n",
    "forward pass of iLQR\n",
    "\n",
    "inputs:\n",
    "    X - current trajectory              Vector{Vector}\n",
    "    U - current control                 Vector{Vector}\n",
    "    Xref - trajectory we want to track  Vector{Vector}\n",
    "    Uref - control we want to track     Vector{Vector}\n",
    "    K - feedback gain matrices          Vector{Matrix}\n",
    "    d - feedforward control             Vector{Vector}\n",
    "    ΔJ - expected cost decrease         Float\n",
    "\n",
    "outputs:\n",
    "    Xn - new trajectory                 Vector{Vector}\n",
    "    Un - new control                    Vector{Vector}\n",
    "    Jn - new trajectory cost            Float\n",
    "    α  - step size taken                Float\n",
    "\"\"\"\n",
    "\n",
    "function forward_pass(X,U,Xref,Uref,K,d,ΔJ; max_linesearch_iters = 10)\n",
    "    \n",
    "    # new trajectory Xn Un \n",
    "    Xn = deepcopy(X)\n",
    "    Un = deepcopy(U)\n",
    "    \n",
    "    # step length (we start at 1)\n",
    "    α = 1.0 \n",
    "    \n",
    "    # TODO implement forward pass \n",
    "    \n",
    "    # calculate cost of current trajectory X U \n",
    "    J = 0.0 \n",
    "    \n",
    "    # backtracking line search\n",
    "    for i = 1:max_linesearch_iters\n",
    "        \n",
    "        # simulate the new trajectory and save it in Xn and Un \n",
    "        \n",
    "        # calcualte cost of Xn and Un \n",
    "        Jn = 0.0 \n",
    "        \n",
    "        # use armijo line search condition to decide if you accept the decrease \n",
    "        \n",
    "        # if you accept \n",
    "        #    return Xn, Un, Jn, α\n",
    "        \n",
    "        # if you don't, cut th step length in half \n",
    "        \n",
    "    end\n",
    "    \n",
    "    error(\"forward pass failed\")\n",
    "end"
   ]
  },
  {
   "cell_type": "code",
   "execution_count": 10,
   "metadata": {},
   "outputs": [
    {
     "name": "stdout",
     "output_type": "stream",
     "text": [
      "\u001b[0m\u001b[1mTest Summary: | \u001b[22m\u001b[32m\u001b[1mPass  \u001b[22m\u001b[39m\u001b[36m\u001b[1mTotal\u001b[22m\u001b[39m\n",
      "forward pass  | \u001b[32m 123  \u001b[39m\u001b[36m  123\u001b[39m\n"
     ]
    },
    {
     "data": {
      "text/plain": [
       "Test.DefaultTestSet(\"forward pass\", Any[Test.DefaultTestSet(\"element #1\", Any[], 1, false, false), Test.DefaultTestSet(\"element #2\", Any[], 1, false, false), Test.DefaultTestSet(\"element #3\", Any[], 1, false, false), Test.DefaultTestSet(\"element #4\", Any[], 1, false, false), Test.DefaultTestSet(\"element #5\", Any[], 1, false, false), Test.DefaultTestSet(\"element #6\", Any[], 1, false, false), Test.DefaultTestSet(\"element #7\", Any[], 1, false, false), Test.DefaultTestSet(\"element #8\", Any[], 1, false, false), Test.DefaultTestSet(\"element #9\", Any[], 1, false, false), Test.DefaultTestSet(\"element #10\", Any[], 1, false, false)  …  Test.DefaultTestSet(\"element #51\", Any[], 1, false, false), Test.DefaultTestSet(\"element #52\", Any[], 1, false, false), Test.DefaultTestSet(\"element #53\", Any[], 1, false, false), Test.DefaultTestSet(\"element #54\", Any[], 1, false, false), Test.DefaultTestSet(\"element #55\", Any[], 1, false, false), Test.DefaultTestSet(\"element #56\", Any[], 1, false, false), Test.DefaultTestSet(\"element #57\", Any[], 1, false, false), Test.DefaultTestSet(\"element #58\", Any[], 1, false, false), Test.DefaultTestSet(\"element #59\", Any[], 1, false, false), Test.DefaultTestSet(\"element #60\", Any[], 1, false, false)], 2, false, false)"
      ]
     },
     "execution_count": 10,
     "metadata": {},
     "output_type": "execute_result"
    }
   ],
   "source": [
    "@testset \"forward pass\" begin \n",
    "    \n",
    "    Xref = [copy(xgoal) for i = 1:N]\n",
    "    Uref = [copy(uhover) for i = 1:N-1]\n",
    "    \n",
    "    X = [copy(x0) for i = 1:N]\n",
    "    U = deepcopy(Uref)\n",
    "    \n",
    "    d, K, P, ΔJ = backward_pass(X,U,Xref,Uref)\n",
    "    \n",
    "    Xn, Un, Jr, α = forward_pass(X,U,Xref,Uref,K,d,ΔJ)\n",
    "    \n",
    "    test_vec(Xn, test_dict[\"Xn\"])\n",
    "    test_vec(Un, test_dict[\"Un\"])\n",
    "    @test Jr ≈ test_dict[\"Jr\"] atol = 1e-6\n",
    "    @test α ≈ test_dict[\"α\"]  atol = 1e-6\n",
    "\n",
    "end"
   ]
  },
  {
   "cell_type": "markdown",
   "metadata": {},
   "source": [
    "## iLQR Algorithm\n",
    "Now we are going to put it all together, we are given an initial condition `x0` and an unitial control input history `U`, and a reference trajectory `Xref` and `Uref`. We will start by doing a forward simulation starting from `x0` using `U` as the control input, creating `X`. Then we will start our main loop. In each iteartion, we do the following:\n",
    "\n",
    "- backward pass \n",
    "- check termination criteria \n",
    "- forward pass \n"
   ]
  },
  {
   "cell_type": "code",
   "execution_count": 11,
   "metadata": {},
   "outputs": [
    {
     "data": {
      "text/plain": [
       "iLQR"
      ]
     },
     "execution_count": 11,
     "metadata": {},
     "output_type": "execute_result"
    }
   ],
   "source": [
    "\"\"\"\n",
    "iLQR will combine the backward and forward passes for the complete iLQR algorithm. We will classify \n",
    "convergence as when the maximum norm of each feedforward control input in d is below atol. (this is given)\n",
    "\n",
    "inputs:\n",
    "    x0 - initial condition                             Vector\n",
    "    U - initial control history                        Vector{Vector}\n",
    "    Xref - reference trajectory we are trying to track Vector{Vector}\n",
    "    Uref - reference controls we are trying to track   Vector{Vector}\n",
    "\n",
    "outputs:\n",
    "    X - optimal trajectory                             Vector{Vector}\n",
    "    U - optimal control trajectory                     Vector{Vector}\n",
    "    K - feedback gain matrices                         Vector{Matrix}\n",
    "    P - cost to go hessians                            Vector{Matrix}\n",
    "    iter - iterations it took to converge              Int\n",
    "\"\"\"\n",
    "function iLQR(x0,U,Xref,Uref;atol=1e-5,max_iters = 100)\n",
    "    \n",
    "    # inital logging stuff \n",
    "    @printf \"iter     J           ΔJ        |d|         α\\n\"\n",
    "    @printf \"-----------------------------------------------\\n\"\n",
    "    \n",
    "    # allocate X \n",
    "    X = [zeros(nx) for i = 1:N]\n",
    "    \n",
    "    # initial rollout (fill in X starting at x0 applying U)\n",
    "    \n",
    "    for iter = 1:max_iters\n",
    "        \n",
    "        # backward pass \n",
    "        \n",
    "        # termination criteria\n",
    "        if maximum(norm.(d))<atol\n",
    "            return X,U,K,P,iter\n",
    "        end\n",
    "        \n",
    "        # forward pass \n",
    "        \n",
    "        # logging\n",
    "        @printf(\"%3d   %10.3e  %9.2e  %9.2e  % 6.4f\\n\",\n",
    "          iter, J, ΔJ, maximum(norm.(d)), α)\n",
    "        \n",
    "    end\n",
    "    error(\"ilqr reached max iters\")\n",
    "        \n",
    "end\n",
    "        "
   ]
  },
  {
   "cell_type": "markdown",
   "metadata": {},
   "source": [
    "## Part (b): Simple trajectory\n",
    "Use your iLQR solver to move the quadrotor from the initial state to the goal state."
   ]
  },
  {
   "cell_type": "code",
   "execution_count": 12,
   "metadata": {},
   "outputs": [
    {
     "name": "stdout",
     "output_type": "stream",
     "text": [
      "iter     J           ΔJ        |d|         α\n",
      "-----------------------------------------------\n",
      "  1    7.572e+02   4.55e+03   7.22e+01   1.0000\n",
      "  2    5.552e+02   5.79e+02   4.53e+01   1.0000\n",
      "  3    4.908e+02   1.62e+02   2.77e+01   1.0000\n",
      "  4    4.823e+02   2.60e+01   1.69e+01   1.0000\n",
      "  5    4.798e+02   7.97e+00   8.00e+00   1.0000\n",
      "  6    4.791e+02   2.57e+00   4.86e+00   1.0000\n",
      "  7    4.789e+02   1.07e+00   2.95e+00   1.0000\n",
      "  8    4.788e+02   4.47e-01   1.92e+00   1.0000\n",
      "  9    4.788e+02   2.16e-01   1.30e+00   1.0000\n",
      " 10    4.788e+02   9.95e-02   8.51e-01   1.0000\n",
      " 11    4.787e+02   4.95e-02   6.14e-01   1.0000\n",
      " 12    4.787e+02   2.38e-02   4.12e-01   1.0000\n",
      " 13    4.787e+02   1.19e-02   2.99e-01   1.0000\n",
      " 14    4.787e+02   5.81e-03   2.05e-01   1.0000\n",
      " 15    4.787e+02   2.89e-03   1.47e-01   1.0000\n",
      " 16    4.787e+02   1.42e-03   1.02e-01   1.0000\n",
      " 17    4.787e+02   7.06e-04   7.24e-02   1.0000\n",
      " 18    4.787e+02   3.49e-04   5.06e-02   1.0000\n",
      " 19    4.787e+02   1.73e-04   3.58e-02   1.0000\n",
      " 20    4.787e+02   8.54e-05   2.51e-02   1.0000\n",
      " 21    4.787e+02   4.23e-05   1.77e-02   1.0000\n",
      " 22    4.787e+02   2.09e-05   1.24e-02   1.0000\n",
      " 23    4.787e+02   1.04e-05   8.74e-03   1.0000\n",
      " 24    4.787e+02   5.13e-06   6.15e-03   1.0000\n",
      " 25    4.787e+02   2.54e-06   4.33e-03   1.0000\n",
      " 26    4.787e+02   1.26e-06   3.04e-03   1.0000\n",
      " 27    4.787e+02   6.22e-07   2.14e-03   1.0000\n",
      " 28    4.787e+02   3.08e-07   1.51e-03   1.0000\n",
      " 29    4.787e+02   1.52e-07   1.06e-03   1.0000\n",
      " 30    4.787e+02   7.54e-08   7.45e-04   1.0000\n",
      " 31    4.787e+02   3.73e-08   5.24e-04   1.0000\n",
      " 32    4.787e+02   1.85e-08   3.69e-04   1.0000\n",
      " 33    4.787e+02   9.14e-09   2.59e-04   1.0000\n",
      " 34    4.787e+02   4.52e-09   1.83e-04   1.0000\n",
      " 35    4.787e+02   2.24e-09   1.28e-04   1.0000\n",
      " 36    4.787e+02   1.11e-09   9.03e-05   1.0000\n",
      " 37    4.787e+02   5.48e-10   6.36e-05   1.0000\n",
      " 38    4.787e+02   2.71e-10   4.47e-05   1.0000\n",
      " 39    4.787e+02   1.34e-10   3.15e-05   1.0000\n",
      " 40    4.787e+02   6.65e-11   2.21e-05   1.0000\n",
      " 41    4.787e+02   3.29e-11   1.56e-05   1.0000\n",
      " 42    4.787e+02   1.63e-11   1.10e-05   1.0000\n"
     ]
    }
   ],
   "source": [
    "# reference trajectory (we just want to track the goal state and hover control)\n",
    "Xrefline = [copy(xgoal) for i = 1:N]\n",
    "Urefline = [copy(uhover) for i = 1:N-1]\n",
    "\n",
    "# call iLQR\n",
    "Xline,Uline,Kline,Pline, iterline = iLQR(x0,Urefline,Xrefline,Urefline);"
   ]
  },
  {
   "cell_type": "code",
   "execution_count": 13,
   "metadata": {},
   "outputs": [
    {
     "name": "stdout",
     "output_type": "stream",
     "text": [
      "\u001b[0m\u001b[1mTest Summary: | \u001b[22m\u001b[32m\u001b[1mPass  \u001b[22m\u001b[39m\u001b[36m\u001b[1mTotal\u001b[22m\u001b[39m\n",
      "iLQR          | \u001b[32m  10  \u001b[39m\u001b[36m   10\u001b[39m\n"
     ]
    },
    {
     "data": {
      "text/plain": [
       "Test.DefaultTestSet(\"iLQR\", Any[], 10, false, false)"
      ]
     },
     "execution_count": 13,
     "metadata": {},
     "output_type": "execute_result"
    }
   ],
   "source": [
    "@testset \"iLQR\" begin \n",
    "    @test trajectory_cost(Xline,Uline,Xrefline,Urefline) <4.8e2\n",
    "    @test iterline < 50\n",
    "    @test iterline > 30\n",
    "    @test norm(Xline[end] - xgoal) < 0.2\n",
    "    @test maximum(maximum.(Uline)) < 40\n",
    "    @test maximum(maximum.(Uline)) > 30\n",
    "    @test minimum(minimum.(Uline)) < -30\n",
    "    @test minimum(minimum.(Uline)) > -40\n",
    "    \n",
    "    d, K, P, ΔJ = backward_pass(Xline,Uline,Xrefline,Urefline)\n",
    "    \n",
    "    @test ΔJ < 1e-4\n",
    "    @test maximum(norm.(d)) < 1e-3\n",
    "end"
   ]
  },
  {
   "cell_type": "code",
   "execution_count": 14,
   "metadata": {},
   "outputs": [
    {
     "name": "stderr",
     "output_type": "stream",
     "text": [
      "┌ Info: MeshCat server started. You can open the visualizer by visiting the following URL in your browser:\n",
      "│ http://127.0.0.1:8700\n",
      "└ @ MeshCat /Users/kevintracy/.julia/packages/MeshCat/Ax8pH/src/visualizer.jl:73\n"
     ]
    },
    {
     "data": {
      "text/html": [
       "    <div style=\"height: 500px; width: 100%; overflow-x: auto; overflow-y: hidden; resize: both\">\n",
       "    <iframe src=\"http://127.0.0.1:8700\" style=\"width: 100%; height: 100%; border: none\"></iframe>\n",
       "    </div>\n"
      ],
      "text/plain": [
       "MeshCat.DisplayedVisualizer(MeshCat.CoreVisualizer(MeshCat.SceneTrees.SceneNode(nothing, nothing, Dict{String, Vector{UInt8}}(), nothing, Dict{String, MeshCat.SceneTrees.SceneNode}(\"meshcat\" => MeshCat.SceneTrees.SceneNode(nothing, nothing, Dict{String, Vector{UInt8}}(), nothing, Dict{String, MeshCat.SceneTrees.SceneNode}(\"robot\" => MeshCat.SceneTrees.SceneNode(nothing, nothing, Dict{String, Vector{UInt8}}(), nothing, Dict{String, MeshCat.SceneTrees.SceneNode}(\"geom\" => MeshCat.SceneTrees.SceneNode(UInt8[0x83, 0xa6, 0x6f, 0x62, 0x6a, 0x65, 0x63, 0x74, 0x84, 0xaa  …  0x72, 0x6f, 0x62, 0x6f, 0x74, 0x2f, 0x67, 0x65, 0x6f, 0x6d], nothing, Dict{String, Vector{UInt8}}(), nothing, Dict{String, MeshCat.SceneTrees.SceneNode}()))))))), Set{Any}(), ip\"127.0.0.1\", 8700))"
      ]
     },
     "execution_count": 14,
     "metadata": {},
     "output_type": "execute_result"
    }
   ],
   "source": [
    "vis = Visualizer()\n",
    "set_mesh!(vis, model)\n",
    "render(vis)"
   ]
  },
  {
   "cell_type": "code",
   "execution_count": 15,
   "metadata": {},
   "outputs": [],
   "source": [
    "visualize!(vis, model, dt*(N-1), Xline)"
   ]
  },
  {
   "cell_type": "markdown",
   "metadata": {},
   "source": [
    "## Part (c): Generate Cost function for Flip\n",
    "Generate a reference trajectory for the cost function. Since we're designing it by hand we'll do something simple. Complete the function below to generate a trajectory that does the following:\n",
    "* 0.0-0.5 sec: Moves linearly from -3 to 0 in x, $p_z=1$, $\\omega=0$\n",
    "* 0.5-1.0 sec: Moves linearly from 1 to 3 and back to 1 in z. $\\theta$ goes from 0 to -2$\\pi$. No movement in x.\n",
    "* 1.0-1.5 sec: Moves linearly from 0 to 3 in x.\n",
    "\n",
    "The velocities should be consistent with the positions and the changes between phases should happen at all the same indices as the positions.\n",
    "\n",
    "The trajectory should look like the following:\n",
    "![flip_traj](flip_reference.png)"
   ]
  },
  {
   "cell_type": "code",
   "execution_count": 16,
   "metadata": {},
   "outputs": [
    {
     "data": {
      "text/plain": [
       "flip_reference"
      ]
     },
     "execution_count": 16,
     "metadata": {},
     "output_type": "execute_result"
    }
   ],
   "source": [
    "# TASK: Implement the following method\n",
    "\"\"\"\n",
    "    flip_reference\n",
    "\n",
    "Generate a reference trajectory for the quadrotor that encourages it to do a flip.\n",
    "The trajectory should have a length of 61.\n",
    "\n",
    "hint: LinRange is a good function to use\n",
    "        `LinRange(start,stop,length)`\n",
    "\n",
    "hint: you can break up the time indexing like this:\n",
    "    0    - 0.5  sec: indices 1:20\n",
    "    0.5  - 0.75 sec: indices 21:30\n",
    "    0.75 - 1.0  sec: indices 31:40\n",
    "    1.0  - 1.5  sec: indices 41:61\n",
    "\n",
    "You should plot your reference trajectory to ensure it looks like the given plot.\n",
    "\"\"\"\n",
    "function flip_reference()\n",
    "    # TODO: Design the reference trajectory according to the specs above\n",
    "    x1ref = zeros(61)\n",
    "    x2ref = zeros(61)\n",
    "    θref = zeros(61)\n",
    "    v1ref = zeros(61)\n",
    "    v2ref = zeros(61)\n",
    "    \n",
    "    # TODO\n",
    "    \n",
    "    xref = [x1ref'; x2ref'; θref'; v1ref'; v2ref'; ωref']\n",
    "    return [x for x in eachcol(xref)]\n",
    "end"
   ]
  },
  {
   "cell_type": "code",
   "execution_count": 17,
   "metadata": {},
   "outputs": [
    {
     "data": {
      "image/svg+xml": [
       "<?xml version=\"1.0\" encoding=\"utf-8\"?>\n",
       "<svg xmlns=\"http://www.w3.org/2000/svg\" xmlns:xlink=\"http://www.w3.org/1999/xlink\" width=\"600\" height=\"400\" viewBox=\"0 0 2400 1600\">\n",
       "<defs>\n",
       "  <clipPath id=\"clip380\">\n",
       "    <rect x=\"0\" y=\"0\" width=\"2400\" height=\"1600\"/>\n",
       "  </clipPath>\n",
       "</defs>\n",
       "<path clip-path=\"url(#clip380)\" d=\"\n",
       "M0 1600 L2400 1600 L2400 0 L0 0  Z\n",
       "  \" fill=\"#ffffff\" fill-rule=\"evenodd\" fill-opacity=\"1\"/>\n",
       "<defs>\n",
       "  <clipPath id=\"clip381\">\n",
       "    <rect x=\"480\" y=\"0\" width=\"1681\" height=\"1600\"/>\n",
       "  </clipPath>\n",
       "</defs>\n",
       "<path clip-path=\"url(#clip380)\" d=\"\n",
       "M149.191 1423.18 L1137.92 1423.18 L1137.92 47.2441 L149.191 47.2441  Z\n",
       "  \" fill=\"#ffffff\" fill-rule=\"evenodd\" fill-opacity=\"1\"/>\n",
       "<defs>\n",
       "  <clipPath id=\"clip382\">\n",
       "    <rect x=\"149\" y=\"47\" width=\"990\" height=\"1377\"/>\n",
       "  </clipPath>\n",
       "</defs>\n",
       "<polyline clip-path=\"url(#clip382)\" style=\"stroke:#000000; stroke-linecap:butt; stroke-linejoin:round; stroke-width:2; stroke-opacity:0.1; fill:none\" points=\"\n",
       "  177.174,1423.18 177.174,47.2441 \n",
       "  \"/>\n",
       "<polyline clip-path=\"url(#clip382)\" style=\"stroke:#000000; stroke-linecap:butt; stroke-linejoin:round; stroke-width:2; stroke-opacity:0.1; fill:none\" points=\"\n",
       "  488.094,1423.18 488.094,47.2441 \n",
       "  \"/>\n",
       "<polyline clip-path=\"url(#clip382)\" style=\"stroke:#000000; stroke-linecap:butt; stroke-linejoin:round; stroke-width:2; stroke-opacity:0.1; fill:none\" points=\"\n",
       "  799.015,1423.18 799.015,47.2441 \n",
       "  \"/>\n",
       "<polyline clip-path=\"url(#clip382)\" style=\"stroke:#000000; stroke-linecap:butt; stroke-linejoin:round; stroke-width:2; stroke-opacity:0.1; fill:none\" points=\"\n",
       "  1109.94,1423.18 1109.94,47.2441 \n",
       "  \"/>\n",
       "<polyline clip-path=\"url(#clip380)\" style=\"stroke:#000000; stroke-linecap:butt; stroke-linejoin:round; stroke-width:4; stroke-opacity:1; fill:none\" points=\"\n",
       "  149.191,1423.18 1137.92,1423.18 \n",
       "  \"/>\n",
       "<polyline clip-path=\"url(#clip380)\" style=\"stroke:#000000; stroke-linecap:butt; stroke-linejoin:round; stroke-width:4; stroke-opacity:1; fill:none\" points=\"\n",
       "  177.174,1423.18 177.174,1404.28 \n",
       "  \"/>\n",
       "<polyline clip-path=\"url(#clip380)\" style=\"stroke:#000000; stroke-linecap:butt; stroke-linejoin:round; stroke-width:4; stroke-opacity:1; fill:none\" points=\"\n",
       "  488.094,1423.18 488.094,1404.28 \n",
       "  \"/>\n",
       "<polyline clip-path=\"url(#clip380)\" style=\"stroke:#000000; stroke-linecap:butt; stroke-linejoin:round; stroke-width:4; stroke-opacity:1; fill:none\" points=\"\n",
       "  799.015,1423.18 799.015,1404.28 \n",
       "  \"/>\n",
       "<polyline clip-path=\"url(#clip380)\" style=\"stroke:#000000; stroke-linecap:butt; stroke-linejoin:round; stroke-width:4; stroke-opacity:1; fill:none\" points=\"\n",
       "  1109.94,1423.18 1109.94,1404.28 \n",
       "  \"/>\n",
       "<path clip-path=\"url(#clip380)\" d=\"M154.558 1454.1 Q150.947 1454.1 149.118 1457.66 Q147.313 1461.2 147.313 1468.33 Q147.313 1475.44 149.118 1479.01 Q150.947 1482.55 154.558 1482.55 Q158.192 1482.55 159.998 1479.01 Q161.827 1475.44 161.827 1468.33 Q161.827 1461.2 159.998 1457.66 Q158.192 1454.1 154.558 1454.1 M154.558 1450.39 Q160.368 1450.39 163.424 1455 Q166.502 1459.58 166.502 1468.33 Q166.502 1477.06 163.424 1481.67 Q160.368 1486.25 154.558 1486.25 Q148.748 1486.25 145.669 1481.67 Q142.614 1477.06 142.614 1468.33 Q142.614 1459.58 145.669 1455 Q148.748 1450.39 154.558 1450.39 Z\" fill=\"#000000\" fill-rule=\"evenodd\" fill-opacity=\"1\" /><path clip-path=\"url(#clip380)\" d=\"M174.72 1479.7 L179.604 1479.7 L179.604 1485.58 L174.72 1485.58 L174.72 1479.7 Z\" fill=\"#000000\" fill-rule=\"evenodd\" fill-opacity=\"1\" /><path clip-path=\"url(#clip380)\" d=\"M199.789 1454.1 Q196.178 1454.1 194.35 1457.66 Q192.544 1461.2 192.544 1468.33 Q192.544 1475.44 194.35 1479.01 Q196.178 1482.55 199.789 1482.55 Q203.424 1482.55 205.229 1479.01 Q207.058 1475.44 207.058 1468.33 Q207.058 1461.2 205.229 1457.66 Q203.424 1454.1 199.789 1454.1 M199.789 1450.39 Q205.599 1450.39 208.655 1455 Q211.734 1459.58 211.734 1468.33 Q211.734 1477.06 208.655 1481.67 Q205.599 1486.25 199.789 1486.25 Q193.979 1486.25 190.9 1481.67 Q187.845 1477.06 187.845 1468.33 Q187.845 1459.58 190.9 1455 Q193.979 1450.39 199.789 1450.39 Z\" fill=\"#000000\" fill-rule=\"evenodd\" fill-opacity=\"1\" /><path clip-path=\"url(#clip380)\" d=\"M465.976 1454.1 Q462.365 1454.1 460.536 1457.66 Q458.731 1461.2 458.731 1468.33 Q458.731 1475.44 460.536 1479.01 Q462.365 1482.55 465.976 1482.55 Q469.611 1482.55 471.416 1479.01 Q473.245 1475.44 473.245 1468.33 Q473.245 1461.2 471.416 1457.66 Q469.611 1454.1 465.976 1454.1 M465.976 1450.39 Q471.786 1450.39 474.842 1455 Q477.921 1459.58 477.921 1468.33 Q477.921 1477.06 474.842 1481.67 Q471.786 1486.25 465.976 1486.25 Q460.166 1486.25 457.087 1481.67 Q454.032 1477.06 454.032 1468.33 Q454.032 1459.58 457.087 1455 Q460.166 1450.39 465.976 1450.39 Z\" fill=\"#000000\" fill-rule=\"evenodd\" fill-opacity=\"1\" /><path clip-path=\"url(#clip380)\" d=\"M486.138 1479.7 L491.022 1479.7 L491.022 1485.58 L486.138 1485.58 L486.138 1479.7 Z\" fill=\"#000000\" fill-rule=\"evenodd\" fill-opacity=\"1\" /><path clip-path=\"url(#clip380)\" d=\"M501.254 1451.02 L519.61 1451.02 L519.61 1454.96 L505.536 1454.96 L505.536 1463.43 Q506.555 1463.08 507.573 1462.92 Q508.592 1462.73 509.61 1462.73 Q515.397 1462.73 518.777 1465.9 Q522.157 1469.08 522.157 1474.49 Q522.157 1480.07 518.684 1483.17 Q515.212 1486.25 508.893 1486.25 Q506.717 1486.25 504.448 1485.88 Q502.203 1485.51 499.796 1484.77 L499.796 1480.07 Q501.879 1481.2 504.101 1481.76 Q506.323 1482.32 508.8 1482.32 Q512.805 1482.32 515.143 1480.21 Q517.481 1478.1 517.481 1474.49 Q517.481 1470.88 515.143 1468.77 Q512.805 1466.67 508.8 1466.67 Q506.925 1466.67 505.05 1467.08 Q503.198 1467.5 501.254 1468.38 L501.254 1451.02 Z\" fill=\"#000000\" fill-rule=\"evenodd\" fill-opacity=\"1\" /><path clip-path=\"url(#clip380)\" d=\"M766.168 1481.64 L773.806 1481.64 L773.806 1455.28 L765.496 1456.95 L765.496 1452.69 L773.76 1451.02 L778.436 1451.02 L778.436 1481.64 L786.075 1481.64 L786.075 1485.58 L766.168 1485.58 L766.168 1481.64 Z\" fill=\"#000000\" fill-rule=\"evenodd\" fill-opacity=\"1\" /><path clip-path=\"url(#clip380)\" d=\"M795.519 1479.7 L800.404 1479.7 L800.404 1485.58 L795.519 1485.58 L795.519 1479.7 Z\" fill=\"#000000\" fill-rule=\"evenodd\" fill-opacity=\"1\" /><path clip-path=\"url(#clip380)\" d=\"M820.589 1454.1 Q816.978 1454.1 815.149 1457.66 Q813.343 1461.2 813.343 1468.33 Q813.343 1475.44 815.149 1479.01 Q816.978 1482.55 820.589 1482.55 Q824.223 1482.55 826.028 1479.01 Q827.857 1475.44 827.857 1468.33 Q827.857 1461.2 826.028 1457.66 Q824.223 1454.1 820.589 1454.1 M820.589 1450.39 Q826.399 1450.39 829.454 1455 Q832.533 1459.58 832.533 1468.33 Q832.533 1477.06 829.454 1481.67 Q826.399 1486.25 820.589 1486.25 Q814.778 1486.25 811.7 1481.67 Q808.644 1477.06 808.644 1468.33 Q808.644 1459.58 811.7 1455 Q814.778 1450.39 820.589 1450.39 Z\" fill=\"#000000\" fill-rule=\"evenodd\" fill-opacity=\"1\" /><path clip-path=\"url(#clip380)\" d=\"M1077.59 1481.64 L1085.22 1481.64 L1085.22 1455.28 L1076.91 1456.95 L1076.91 1452.69 L1085.18 1451.02 L1089.85 1451.02 L1089.85 1481.64 L1097.49 1481.64 L1097.49 1485.58 L1077.59 1485.58 L1077.59 1481.64 Z\" fill=\"#000000\" fill-rule=\"evenodd\" fill-opacity=\"1\" /><path clip-path=\"url(#clip380)\" d=\"M1106.94 1479.7 L1111.82 1479.7 L1111.82 1485.58 L1106.94 1485.58 L1106.94 1479.7 Z\" fill=\"#000000\" fill-rule=\"evenodd\" fill-opacity=\"1\" /><path clip-path=\"url(#clip380)\" d=\"M1122.05 1451.02 L1140.41 1451.02 L1140.41 1454.96 L1126.34 1454.96 L1126.34 1463.43 Q1127.35 1463.08 1128.37 1462.92 Q1129.39 1462.73 1130.41 1462.73 Q1136.2 1462.73 1139.58 1465.9 Q1142.96 1469.08 1142.96 1474.49 Q1142.96 1480.07 1139.48 1483.17 Q1136.01 1486.25 1129.69 1486.25 Q1127.52 1486.25 1125.25 1485.88 Q1123 1485.51 1120.59 1484.77 L1120.59 1480.07 Q1122.68 1481.2 1124.9 1481.76 Q1127.12 1482.32 1129.6 1482.32 Q1133.6 1482.32 1135.94 1480.21 Q1138.28 1478.1 1138.28 1474.49 Q1138.28 1470.88 1135.94 1468.77 Q1133.6 1466.67 1129.6 1466.67 Q1127.72 1466.67 1125.85 1467.08 Q1124 1467.5 1122.05 1468.38 L1122.05 1451.02 Z\" fill=\"#000000\" fill-rule=\"evenodd\" fill-opacity=\"1\" /><path clip-path=\"url(#clip380)\" d=\"M531.009 1522.27 L531.009 1532.4 L543.072 1532.4 L543.072 1536.95 L531.009 1536.95 L531.009 1556.3 Q531.009 1560.66 532.186 1561.9 Q533.396 1563.14 537.056 1563.14 L543.072 1563.14 L543.072 1568.04 L537.056 1568.04 Q530.277 1568.04 527.699 1565.53 Q525.12 1562.98 525.12 1556.3 L525.12 1536.95 L520.824 1536.95 L520.824 1532.4 L525.12 1532.4 L525.12 1522.27 L531.009 1522.27 Z\" fill=\"#000000\" fill-rule=\"evenodd\" fill-opacity=\"1\" /><path clip-path=\"url(#clip380)\" d=\"M550.774 1532.4 L556.631 1532.4 L556.631 1568.04 L550.774 1568.04 L550.774 1532.4 M550.774 1518.52 L556.631 1518.52 L556.631 1525.93 L550.774 1525.93 L550.774 1518.52 Z\" fill=\"#000000\" fill-rule=\"evenodd\" fill-opacity=\"1\" /><path clip-path=\"url(#clip380)\" d=\"M596.639 1539.24 Q598.835 1535.29 601.891 1533.41 Q604.946 1531.54 609.084 1531.54 Q614.654 1531.54 617.678 1535.45 Q620.702 1539.33 620.702 1546.53 L620.702 1568.04 L614.813 1568.04 L614.813 1546.72 Q614.813 1541.59 612.999 1539.11 Q611.185 1536.63 607.461 1536.63 Q602.909 1536.63 600.268 1539.65 Q597.626 1542.68 597.626 1547.9 L597.626 1568.04 L591.738 1568.04 L591.738 1546.72 Q591.738 1541.56 589.923 1539.11 Q588.109 1536.63 584.322 1536.63 Q579.834 1536.63 577.192 1539.68 Q574.55 1542.71 574.55 1547.9 L574.55 1568.04 L568.662 1568.04 L568.662 1532.4 L574.55 1532.4 L574.55 1537.93 Q576.555 1534.66 579.356 1533.1 Q582.157 1531.54 586.008 1531.54 Q589.892 1531.54 592.597 1533.51 Q595.334 1535.48 596.639 1539.24 Z\" fill=\"#000000\" fill-rule=\"evenodd\" fill-opacity=\"1\" /><path clip-path=\"url(#clip380)\" d=\"M662.874 1548.76 L662.874 1551.62 L635.947 1551.62 Q636.329 1557.67 639.576 1560.85 Q642.854 1564 648.679 1564 Q652.053 1564 655.204 1563.17 Q658.387 1562.35 661.506 1560.69 L661.506 1566.23 Q658.355 1567.57 655.045 1568.27 Q651.734 1568.97 648.329 1568.97 Q639.799 1568.97 634.802 1564 Q629.836 1559.04 629.836 1550.57 Q629.836 1541.82 634.547 1536.69 Q639.289 1531.54 647.31 1531.54 Q654.503 1531.54 658.673 1536.18 Q662.874 1540.8 662.874 1548.76 M657.018 1547.04 Q656.954 1542.23 654.312 1539.37 Q651.703 1536.5 647.374 1536.5 Q642.472 1536.5 639.512 1539.27 Q636.584 1542.04 636.138 1547.07 L657.018 1547.04 Z\" fill=\"#000000\" fill-rule=\"evenodd\" fill-opacity=\"1\" /><path clip-path=\"url(#clip380)\" d=\"M707.275 1518.58 Q703.01 1525.9 700.941 1533.06 Q698.872 1540.23 698.872 1547.58 Q698.872 1554.93 700.941 1562.16 Q703.042 1569.35 707.275 1576.64 L702.183 1576.64 Q697.408 1569.16 695.021 1561.93 Q692.666 1554.71 692.666 1547.58 Q692.666 1540.48 695.021 1533.29 Q697.376 1526.09 702.183 1518.58 L707.275 1518.58 Z\" fill=\"#000000\" fill-rule=\"evenodd\" fill-opacity=\"1\" /><path clip-path=\"url(#clip380)\" d=\"M741.364 1533.45 L741.364 1538.98 Q738.881 1537.71 736.207 1537.07 Q733.534 1536.44 730.669 1536.44 Q726.309 1536.44 724.112 1537.77 Q721.948 1539.11 721.948 1541.79 Q721.948 1543.82 723.508 1545 Q725.067 1546.15 729.778 1547.2 L731.783 1547.64 Q738.022 1548.98 740.631 1551.43 Q743.273 1553.85 743.273 1558.21 Q743.273 1563.17 739.327 1566.07 Q735.412 1568.97 728.537 1568.97 Q725.672 1568.97 722.553 1568.39 Q719.465 1567.85 716.028 1566.74 L716.028 1560.69 Q719.275 1562.38 722.426 1563.24 Q725.577 1564.07 728.664 1564.07 Q732.802 1564.07 735.03 1562.66 Q737.258 1561.23 737.258 1558.65 Q737.258 1556.27 735.634 1554.99 Q734.043 1553.72 728.6 1552.54 L726.563 1552.07 Q721.121 1550.92 718.702 1548.56 Q716.283 1546.18 716.283 1542.04 Q716.283 1537.01 719.847 1534.27 Q723.412 1531.54 729.969 1531.54 Q733.215 1531.54 736.08 1532.01 Q738.945 1532.49 741.364 1533.45 Z\" fill=\"#000000\" fill-rule=\"evenodd\" fill-opacity=\"1\" /><path clip-path=\"url(#clip380)\" d=\"M751.676 1518.58 L756.769 1518.58 Q761.543 1526.09 763.898 1533.29 Q766.285 1540.48 766.285 1547.58 Q766.285 1554.71 763.898 1561.93 Q761.543 1569.16 756.769 1576.64 L751.676 1576.64 Q755.909 1569.35 757.978 1562.16 Q760.079 1554.93 760.079 1547.58 Q760.079 1540.23 757.978 1533.06 Q755.909 1525.9 751.676 1518.58 Z\" fill=\"#000000\" fill-rule=\"evenodd\" fill-opacity=\"1\" /><polyline clip-path=\"url(#clip382)\" style=\"stroke:#000000; stroke-linecap:butt; stroke-linejoin:round; stroke-width:2; stroke-opacity:0.1; fill:none\" points=\"\n",
       "  149.191,1344.64 1137.92,1344.64 \n",
       "  \"/>\n",
       "<polyline clip-path=\"url(#clip382)\" style=\"stroke:#000000; stroke-linecap:butt; stroke-linejoin:round; stroke-width:2; stroke-opacity:0.1; fill:none\" points=\"\n",
       "  149.191,1064.98 1137.92,1064.98 \n",
       "  \"/>\n",
       "<polyline clip-path=\"url(#clip382)\" style=\"stroke:#000000; stroke-linecap:butt; stroke-linejoin:round; stroke-width:2; stroke-opacity:0.1; fill:none\" points=\"\n",
       "  149.191,785.327 1137.92,785.327 \n",
       "  \"/>\n",
       "<polyline clip-path=\"url(#clip382)\" style=\"stroke:#000000; stroke-linecap:butt; stroke-linejoin:round; stroke-width:2; stroke-opacity:0.1; fill:none\" points=\"\n",
       "  149.191,505.671 1137.92,505.671 \n",
       "  \"/>\n",
       "<polyline clip-path=\"url(#clip382)\" style=\"stroke:#000000; stroke-linecap:butt; stroke-linejoin:round; stroke-width:2; stroke-opacity:0.1; fill:none\" points=\"\n",
       "  149.191,226.014 1137.92,226.014 \n",
       "  \"/>\n",
       "<polyline clip-path=\"url(#clip380)\" style=\"stroke:#000000; stroke-linecap:butt; stroke-linejoin:round; stroke-width:4; stroke-opacity:1; fill:none\" points=\"\n",
       "  149.191,1423.18 149.191,47.2441 \n",
       "  \"/>\n",
       "<polyline clip-path=\"url(#clip380)\" style=\"stroke:#000000; stroke-linecap:butt; stroke-linejoin:round; stroke-width:4; stroke-opacity:1; fill:none\" points=\"\n",
       "  149.191,1344.64 168.089,1344.64 \n",
       "  \"/>\n",
       "<polyline clip-path=\"url(#clip380)\" style=\"stroke:#000000; stroke-linecap:butt; stroke-linejoin:round; stroke-width:4; stroke-opacity:1; fill:none\" points=\"\n",
       "  149.191,1064.98 168.089,1064.98 \n",
       "  \"/>\n",
       "<polyline clip-path=\"url(#clip380)\" style=\"stroke:#000000; stroke-linecap:butt; stroke-linejoin:round; stroke-width:4; stroke-opacity:1; fill:none\" points=\"\n",
       "  149.191,785.327 168.089,785.327 \n",
       "  \"/>\n",
       "<polyline clip-path=\"url(#clip380)\" style=\"stroke:#000000; stroke-linecap:butt; stroke-linejoin:round; stroke-width:4; stroke-opacity:1; fill:none\" points=\"\n",
       "  149.191,505.671 168.089,505.671 \n",
       "  \"/>\n",
       "<polyline clip-path=\"url(#clip380)\" style=\"stroke:#000000; stroke-linecap:butt; stroke-linejoin:round; stroke-width:4; stroke-opacity:1; fill:none\" points=\"\n",
       "  149.191,226.014 168.089,226.014 \n",
       "  \"/>\n",
       "<path clip-path=\"url(#clip380)\" d=\"M51.3162 1345.09 L80.992 1345.09 L80.992 1349.03 L51.3162 1349.03 L51.3162 1345.09 Z\" fill=\"#000000\" fill-rule=\"evenodd\" fill-opacity=\"1\" /><path clip-path=\"url(#clip380)\" d=\"M101.663 1342.78 Q98.515 1342.78 96.6632 1344.93 Q94.8345 1347.08 94.8345 1350.83 Q94.8345 1354.56 96.6632 1356.74 Q98.515 1358.89 101.663 1358.89 Q104.811 1358.89 106.64 1356.74 Q108.492 1354.56 108.492 1350.83 Q108.492 1347.08 106.64 1344.93 Q104.811 1342.78 101.663 1342.78 M110.946 1328.12 L110.946 1332.38 Q109.186 1331.55 107.381 1331.11 Q105.598 1330.67 103.839 1330.67 Q99.2095 1330.67 96.7558 1333.8 Q94.3252 1336.92 93.978 1343.24 Q95.3437 1341.23 97.4039 1340.16 Q99.4641 1339.07 101.941 1339.07 Q107.149 1339.07 110.158 1342.25 Q113.191 1345.39 113.191 1350.83 Q113.191 1356.16 110.043 1359.37 Q106.895 1362.59 101.663 1362.59 Q95.6678 1362.59 92.4965 1358.01 Q89.3253 1353.4 89.3253 1344.68 Q89.3253 1336.48 93.2141 1331.62 Q97.103 1326.74 103.654 1326.74 Q105.413 1326.74 107.196 1327.08 Q109.001 1327.43 110.946 1328.12 Z\" fill=\"#000000\" fill-rule=\"evenodd\" fill-opacity=\"1\" /><path clip-path=\"url(#clip380)\" d=\"M50.9921 1065.44 L80.6679 1065.44 L80.6679 1069.37 L50.9921 1069.37 L50.9921 1065.44 Z\" fill=\"#000000\" fill-rule=\"evenodd\" fill-opacity=\"1\" /><path clip-path=\"url(#clip380)\" d=\"M103.608 1051.78 L91.8021 1070.23 L103.608 1070.23 L103.608 1051.78 M102.381 1047.7 L108.26 1047.7 L108.26 1070.23 L113.191 1070.23 L113.191 1074.12 L108.26 1074.12 L108.26 1082.26 L103.608 1082.26 L103.608 1074.12 L88.0058 1074.12 L88.0058 1069.6 L102.381 1047.7 Z\" fill=\"#000000\" fill-rule=\"evenodd\" fill-opacity=\"1\" /><path clip-path=\"url(#clip380)\" d=\"M53.0754 785.779 L82.7512 785.779 L82.7512 789.714 L53.0754 789.714 L53.0754 785.779 Z\" fill=\"#000000\" fill-rule=\"evenodd\" fill-opacity=\"1\" /><path clip-path=\"url(#clip380)\" d=\"M96.8715 798.672 L113.191 798.672 L113.191 802.607 L91.2465 802.607 L91.2465 798.672 Q93.9086 795.918 98.4919 791.288 Q103.098 786.635 104.279 785.293 Q106.524 782.77 107.404 781.034 Q108.307 779.274 108.307 777.584 Q108.307 774.83 106.362 773.094 Q104.441 771.358 101.339 771.358 Q99.14 771.358 96.6863 772.122 Q94.2558 772.885 91.478 774.436 L91.478 769.714 Q94.3021 768.58 96.7558 768.001 Q99.2095 767.422 101.246 767.422 Q106.617 767.422 109.811 770.108 Q113.006 772.793 113.006 777.284 Q113.006 779.413 112.196 781.334 Q111.408 783.233 109.302 785.825 Q108.723 786.496 105.621 789.714 Q102.52 792.908 96.8715 798.672 Z\" fill=\"#000000\" fill-rule=\"evenodd\" fill-opacity=\"1\" /><path clip-path=\"url(#clip380)\" d=\"M101.246 491.469 Q97.6354 491.469 95.8067 495.034 Q94.0012 498.576 94.0012 505.705 Q94.0012 512.812 95.8067 516.377 Q97.6354 519.918 101.246 519.918 Q104.881 519.918 106.686 516.377 Q108.515 512.812 108.515 505.705 Q108.515 498.576 106.686 495.034 Q104.881 491.469 101.246 491.469 M101.246 487.766 Q107.057 487.766 110.112 492.372 Q113.191 496.956 113.191 505.705 Q113.191 514.432 110.112 519.039 Q107.057 523.622 101.246 523.622 Q95.4363 523.622 92.3576 519.039 Q89.3021 514.432 89.3021 505.705 Q89.3021 496.956 92.3576 492.372 Q95.4363 487.766 101.246 487.766 Z\" fill=\"#000000\" fill-rule=\"evenodd\" fill-opacity=\"1\" /><path clip-path=\"url(#clip380)\" d=\"M96.8715 239.359 L113.191 239.359 L113.191 243.294 L91.2465 243.294 L91.2465 239.359 Q93.9086 236.604 98.4919 231.975 Q103.098 227.322 104.279 225.979 Q106.524 223.456 107.404 221.72 Q108.307 219.961 108.307 218.271 Q108.307 215.516 106.362 213.78 Q104.441 212.044 101.339 212.044 Q99.14 212.044 96.6863 212.808 Q94.2558 213.572 91.478 215.123 L91.478 210.401 Q94.3021 209.266 96.7558 208.688 Q99.2095 208.109 101.246 208.109 Q106.617 208.109 109.811 210.794 Q113.006 213.479 113.006 217.97 Q113.006 220.1 112.196 222.021 Q111.408 223.919 109.302 226.512 Q108.723 227.183 105.621 230.401 Q102.52 233.595 96.8715 239.359 Z\" fill=\"#000000\" fill-rule=\"evenodd\" fill-opacity=\"1\" /><polyline clip-path=\"url(#clip382)\" style=\"stroke:#009af9; stroke-linecap:butt; stroke-linejoin:round; stroke-width:4; stroke-opacity:1; fill:none\" points=\"\n",
       "  177.174,925.156 192.72,903.078 208.266,881 223.812,858.921 239.358,836.843 254.904,814.765 270.45,792.687 285.996,770.609 301.542,748.531 317.088,726.452 \n",
       "  332.634,704.374 348.18,682.296 363.726,660.218 379.272,638.14 394.818,616.062 410.364,593.983 425.91,571.905 441.456,549.827 457.002,527.749 472.548,505.671 \n",
       "  488.094,505.671 503.64,505.671 519.186,505.671 534.732,505.671 550.278,505.671 565.824,505.671 581.37,505.671 596.916,505.671 612.462,505.671 628.008,505.671 \n",
       "  643.554,505.671 659.1,505.671 674.646,505.671 690.193,505.671 705.739,505.671 721.285,505.671 736.831,505.671 752.377,505.671 767.923,505.671 783.469,505.671 \n",
       "  799.015,505.671 814.561,484.697 830.107,463.722 845.653,442.748 861.199,421.774 876.745,400.799 892.291,379.825 907.837,358.851 923.383,337.877 938.929,316.902 \n",
       "  954.475,295.928 970.021,274.954 985.567,253.98 1001.11,233.005 1016.66,212.031 1032.21,191.057 1047.75,170.083 1063.3,149.108 1078.84,128.134 1094.39,107.16 \n",
       "  1109.94,86.1857 \n",
       "  \"/>\n",
       "<polyline clip-path=\"url(#clip382)\" style=\"stroke:#e26f46; stroke-linecap:butt; stroke-linejoin:round; stroke-width:4; stroke-opacity:1; fill:none\" points=\"\n",
       "  177.174,365.842 192.72,365.842 208.266,365.842 223.812,365.842 239.358,365.842 254.904,365.842 270.45,365.842 285.996,365.842 301.542,365.842 317.088,365.842 \n",
       "  332.634,365.842 348.18,365.842 363.726,365.842 379.272,365.842 394.818,365.842 410.364,365.842 425.91,365.842 441.456,365.842 457.002,365.842 472.548,365.842 \n",
       "  488.094,365.842 503.64,334.769 519.186,303.696 534.732,272.623 550.278,241.551 565.824,210.478 581.37,179.405 596.916,148.332 612.462,117.259 628.008,86.1857 \n",
       "  643.554,86.1857 659.1,117.259 674.646,148.332 690.193,179.405 705.739,210.478 721.285,241.551 736.831,272.623 752.377,303.696 767.923,334.769 783.469,365.842 \n",
       "  799.015,365.842 814.561,365.842 830.107,365.842 845.653,365.842 861.199,365.842 876.745,365.842 892.291,365.842 907.837,365.842 923.383,365.842 938.929,365.842 \n",
       "  954.475,365.842 970.021,365.842 985.567,365.842 1001.11,365.842 1016.66,365.842 1032.21,365.842 1047.75,365.842 1063.3,365.842 1078.84,365.842 1094.39,365.842 \n",
       "  1109.94,365.842 \n",
       "  \"/>\n",
       "<polyline clip-path=\"url(#clip382)\" style=\"stroke:#3da44d; stroke-linecap:butt; stroke-linejoin:round; stroke-width:4; stroke-opacity:1; fill:none\" points=\"\n",
       "  177.174,505.671 192.72,505.671 208.266,505.671 223.812,505.671 239.358,505.671 254.904,505.671 270.45,505.671 285.996,505.671 301.542,505.671 317.088,505.671 \n",
       "  332.634,505.671 348.18,505.671 363.726,505.671 379.272,505.671 394.818,505.671 410.364,505.671 425.91,505.671 441.456,505.671 457.002,505.671 472.548,505.671 \n",
       "  488.094,505.671 503.64,551.911 519.186,598.152 534.732,644.392 550.278,690.632 565.824,736.873 581.37,783.113 596.916,829.354 612.462,875.594 628.008,921.834 \n",
       "  643.554,968.075 659.1,1014.32 674.646,1060.56 690.193,1106.8 705.739,1153.04 721.285,1199.28 736.831,1245.52 752.377,1291.76 767.923,1338 783.469,1384.24 \n",
       "  799.015,1384.24 814.561,1384.24 830.107,1384.24 845.653,1384.24 861.199,1384.24 876.745,1384.24 892.291,1384.24 907.837,1384.24 923.383,1384.24 938.929,1384.24 \n",
       "  954.475,1384.24 970.021,1384.24 985.567,1384.24 1001.11,1384.24 1016.66,1384.24 1032.21,1384.24 1047.75,1384.24 1063.3,1384.24 1078.84,1384.24 1094.39,1384.24 \n",
       "  1109.94,1384.24 \n",
       "  \"/>\n",
       "<path clip-path=\"url(#clip380)\" d=\"\n",
       "M182.148 1377.32 L344.298 1377.32 L344.298 1169.96 L182.148 1169.96  Z\n",
       "  \" fill=\"#ffffff\" fill-rule=\"evenodd\" fill-opacity=\"1\"/>\n",
       "<polyline clip-path=\"url(#clip380)\" style=\"stroke:#000000; stroke-linecap:butt; stroke-linejoin:round; stroke-width:4; stroke-opacity:1; fill:none\" points=\"\n",
       "  182.148,1377.32 344.298,1377.32 344.298,1169.96 182.148,1169.96 182.148,1377.32 \n",
       "  \"/>\n",
       "<polyline clip-path=\"url(#clip380)\" style=\"stroke:#009af9; stroke-linecap:butt; stroke-linejoin:round; stroke-width:4; stroke-opacity:1; fill:none\" points=\"\n",
       "  193.134,1221.8 259.049,1221.8 \n",
       "  \"/>\n",
       "<path clip-path=\"url(#clip380)\" d=\"M274.318 1235.19 L274.318 1248.94 L270.035 1248.94 L270.035 1213.15 L274.318 1213.15 L274.318 1217.08 Q275.66 1214.77 277.697 1213.66 Q279.757 1212.52 282.605 1212.52 Q287.327 1212.52 290.267 1216.27 Q293.23 1220.02 293.23 1226.14 Q293.23 1232.25 290.267 1236 Q287.327 1239.75 282.605 1239.75 Q279.757 1239.75 277.697 1238.64 Q275.66 1237.5 274.318 1235.19 M288.808 1226.14 Q288.808 1221.44 286.864 1218.77 Q284.943 1216.09 281.563 1216.09 Q278.183 1216.09 276.239 1218.77 Q274.318 1221.44 274.318 1226.14 Q274.318 1230.83 276.239 1233.52 Q278.183 1236.18 281.563 1236.18 Q284.943 1236.18 286.864 1233.52 Q288.808 1230.83 288.808 1226.14 Z\" fill=\"#000000\" fill-rule=\"evenodd\" fill-opacity=\"1\" /><path clip-path=\"url(#clip380)\" d=\"M321.841 1213.15 L312.466 1225.77 L322.327 1239.08 L317.304 1239.08 L309.757 1228.89 L302.211 1239.08 L297.188 1239.08 L307.257 1225.51 L298.044 1213.15 L303.068 1213.15 L309.942 1222.39 L316.817 1213.15 L321.841 1213.15 Z\" fill=\"#000000\" fill-rule=\"evenodd\" fill-opacity=\"1\" /><polyline clip-path=\"url(#clip380)\" style=\"stroke:#e26f46; stroke-linecap:butt; stroke-linejoin:round; stroke-width:4; stroke-opacity:1; fill:none\" points=\"\n",
       "  193.134,1273.64 259.049,1273.64 \n",
       "  \"/>\n",
       "<path clip-path=\"url(#clip380)\" d=\"M274.318 1287.03 L274.318 1300.78 L270.035 1300.78 L270.035 1264.99 L274.318 1264.99 L274.318 1268.92 Q275.66 1266.61 277.697 1265.5 Q279.757 1264.36 282.605 1264.36 Q287.327 1264.36 290.267 1268.11 Q293.23 1271.86 293.23 1277.98 Q293.23 1284.09 290.267 1287.84 Q287.327 1291.59 282.605 1291.59 Q279.757 1291.59 277.697 1290.48 Q275.66 1289.34 274.318 1287.03 M288.808 1277.98 Q288.808 1273.28 286.864 1270.61 Q284.943 1267.93 281.563 1267.93 Q278.183 1267.93 276.239 1270.61 Q274.318 1273.28 274.318 1277.98 Q274.318 1282.67 276.239 1285.36 Q278.183 1288.02 281.563 1288.02 Q284.943 1288.02 286.864 1285.36 Q288.808 1282.67 288.808 1277.98 Z\" fill=\"#000000\" fill-rule=\"evenodd\" fill-opacity=\"1\" /><path clip-path=\"url(#clip380)\" d=\"M298.438 1264.99 L318.669 1264.99 L318.669 1268.88 L302.651 1287.51 L318.669 1287.51 L318.669 1290.92 L297.859 1290.92 L297.859 1287.03 L313.878 1268.39 L298.438 1268.39 L298.438 1264.99 Z\" fill=\"#000000\" fill-rule=\"evenodd\" fill-opacity=\"1\" /><polyline clip-path=\"url(#clip380)\" style=\"stroke:#3da44d; stroke-linecap:butt; stroke-linejoin:round; stroke-width:4; stroke-opacity:1; fill:none\" points=\"\n",
       "  193.134,1325.48 259.049,1325.48 \n",
       "  \"/>\n",
       "<path clip-path=\"url(#clip380)\" d=\"M289.294 1326.32 L274.549 1326.32 Q274.896 1333.24 276.494 1336.18 Q278.484 1339.79 281.933 1339.79 Q285.406 1339.79 287.327 1336.16 Q289.017 1332.96 289.294 1326.32 M289.225 1322.39 Q288.577 1315.81 287.327 1313.5 Q285.336 1309.84 281.933 1309.84 Q278.392 1309.84 276.517 1313.45 Q275.035 1316.37 274.595 1322.39 L289.225 1322.39 M281.933 1306.37 Q287.489 1306.37 290.66 1311.27 Q293.831 1316.16 293.831 1324.82 Q293.831 1333.45 290.66 1338.36 Q287.489 1343.29 281.933 1343.29 Q276.355 1343.29 273.207 1338.36 Q270.035 1333.45 270.035 1324.82 Q270.035 1316.16 273.207 1311.27 Q276.355 1306.37 281.933 1306.37 Z\" fill=\"#000000\" fill-rule=\"evenodd\" fill-opacity=\"1\" /><path clip-path=\"url(#clip380)\" d=\"\n",
       "M1364.03 1423.18 L2352.76 1423.18 L2352.76 47.2441 L1364.03 47.2441  Z\n",
       "  \" fill=\"#ffffff\" fill-rule=\"evenodd\" fill-opacity=\"1\"/>\n",
       "<defs>\n",
       "  <clipPath id=\"clip383\">\n",
       "    <rect x=\"1364\" y=\"47\" width=\"990\" height=\"1377\"/>\n",
       "  </clipPath>\n",
       "</defs>\n",
       "<polyline clip-path=\"url(#clip383)\" style=\"stroke:#000000; stroke-linecap:butt; stroke-linejoin:round; stroke-width:2; stroke-opacity:0.1; fill:none\" points=\"\n",
       "  1392.01,1423.18 1392.01,47.2441 \n",
       "  \"/>\n",
       "<polyline clip-path=\"url(#clip383)\" style=\"stroke:#000000; stroke-linecap:butt; stroke-linejoin:round; stroke-width:2; stroke-opacity:0.1; fill:none\" points=\"\n",
       "  1702.93,1423.18 1702.93,47.2441 \n",
       "  \"/>\n",
       "<polyline clip-path=\"url(#clip383)\" style=\"stroke:#000000; stroke-linecap:butt; stroke-linejoin:round; stroke-width:2; stroke-opacity:0.1; fill:none\" points=\"\n",
       "  2013.85,1423.18 2013.85,47.2441 \n",
       "  \"/>\n",
       "<polyline clip-path=\"url(#clip383)\" style=\"stroke:#000000; stroke-linecap:butt; stroke-linejoin:round; stroke-width:2; stroke-opacity:0.1; fill:none\" points=\"\n",
       "  2324.77,1423.18 2324.77,47.2441 \n",
       "  \"/>\n",
       "<polyline clip-path=\"url(#clip380)\" style=\"stroke:#000000; stroke-linecap:butt; stroke-linejoin:round; stroke-width:4; stroke-opacity:1; fill:none\" points=\"\n",
       "  1364.03,1423.18 2352.76,1423.18 \n",
       "  \"/>\n",
       "<polyline clip-path=\"url(#clip380)\" style=\"stroke:#000000; stroke-linecap:butt; stroke-linejoin:round; stroke-width:4; stroke-opacity:1; fill:none\" points=\"\n",
       "  1392.01,1423.18 1392.01,1404.28 \n",
       "  \"/>\n",
       "<polyline clip-path=\"url(#clip380)\" style=\"stroke:#000000; stroke-linecap:butt; stroke-linejoin:round; stroke-width:4; stroke-opacity:1; fill:none\" points=\"\n",
       "  1702.93,1423.18 1702.93,1404.28 \n",
       "  \"/>\n",
       "<polyline clip-path=\"url(#clip380)\" style=\"stroke:#000000; stroke-linecap:butt; stroke-linejoin:round; stroke-width:4; stroke-opacity:1; fill:none\" points=\"\n",
       "  2013.85,1423.18 2013.85,1404.28 \n",
       "  \"/>\n",
       "<polyline clip-path=\"url(#clip380)\" style=\"stroke:#000000; stroke-linecap:butt; stroke-linejoin:round; stroke-width:4; stroke-opacity:1; fill:none\" points=\"\n",
       "  2324.77,1423.18 2324.77,1404.28 \n",
       "  \"/>\n",
       "<path clip-path=\"url(#clip380)\" d=\"M1369.4 1454.1 Q1365.78 1454.1 1363.96 1457.66 Q1362.15 1461.2 1362.15 1468.33 Q1362.15 1475.44 1363.96 1479.01 Q1365.78 1482.55 1369.4 1482.55 Q1373.03 1482.55 1374.84 1479.01 Q1376.66 1475.44 1376.66 1468.33 Q1376.66 1461.2 1374.84 1457.66 Q1373.03 1454.1 1369.4 1454.1 M1369.4 1450.39 Q1375.21 1450.39 1378.26 1455 Q1381.34 1459.58 1381.34 1468.33 Q1381.34 1477.06 1378.26 1481.67 Q1375.21 1486.25 1369.4 1486.25 Q1363.59 1486.25 1360.51 1481.67 Q1357.45 1477.06 1357.45 1468.33 Q1357.45 1459.58 1360.51 1455 Q1363.59 1450.39 1369.4 1450.39 Z\" fill=\"#000000\" fill-rule=\"evenodd\" fill-opacity=\"1\" /><path clip-path=\"url(#clip380)\" d=\"M1389.56 1479.7 L1394.44 1479.7 L1394.44 1485.58 L1389.56 1485.58 L1389.56 1479.7 Z\" fill=\"#000000\" fill-rule=\"evenodd\" fill-opacity=\"1\" /><path clip-path=\"url(#clip380)\" d=\"M1414.63 1454.1 Q1411.02 1454.1 1409.19 1457.66 Q1407.38 1461.2 1407.38 1468.33 Q1407.38 1475.44 1409.19 1479.01 Q1411.02 1482.55 1414.63 1482.55 Q1418.26 1482.55 1420.07 1479.01 Q1421.9 1475.44 1421.9 1468.33 Q1421.9 1461.2 1420.07 1457.66 Q1418.26 1454.1 1414.63 1454.1 M1414.63 1450.39 Q1420.44 1450.39 1423.49 1455 Q1426.57 1459.58 1426.57 1468.33 Q1426.57 1477.06 1423.49 1481.67 Q1420.44 1486.25 1414.63 1486.25 Q1408.82 1486.25 1405.74 1481.67 Q1402.68 1477.06 1402.68 1468.33 Q1402.68 1459.58 1405.74 1455 Q1408.82 1450.39 1414.63 1450.39 Z\" fill=\"#000000\" fill-rule=\"evenodd\" fill-opacity=\"1\" /><path clip-path=\"url(#clip380)\" d=\"M1680.81 1454.1 Q1677.2 1454.1 1675.37 1457.66 Q1673.57 1461.2 1673.57 1468.33 Q1673.57 1475.44 1675.37 1479.01 Q1677.2 1482.55 1680.81 1482.55 Q1684.45 1482.55 1686.25 1479.01 Q1688.08 1475.44 1688.08 1468.33 Q1688.08 1461.2 1686.25 1457.66 Q1684.45 1454.1 1680.81 1454.1 M1680.81 1450.39 Q1686.62 1450.39 1689.68 1455 Q1692.76 1459.58 1692.76 1468.33 Q1692.76 1477.06 1689.68 1481.67 Q1686.62 1486.25 1680.81 1486.25 Q1675 1486.25 1671.93 1481.67 Q1668.87 1477.06 1668.87 1468.33 Q1668.87 1459.58 1671.93 1455 Q1675 1450.39 1680.81 1450.39 Z\" fill=\"#000000\" fill-rule=\"evenodd\" fill-opacity=\"1\" /><path clip-path=\"url(#clip380)\" d=\"M1700.98 1479.7 L1705.86 1479.7 L1705.86 1485.58 L1700.98 1485.58 L1700.98 1479.7 Z\" fill=\"#000000\" fill-rule=\"evenodd\" fill-opacity=\"1\" /><path clip-path=\"url(#clip380)\" d=\"M1716.09 1451.02 L1734.45 1451.02 L1734.45 1454.96 L1720.37 1454.96 L1720.37 1463.43 Q1721.39 1463.08 1722.41 1462.92 Q1723.43 1462.73 1724.45 1462.73 Q1730.24 1462.73 1733.61 1465.9 Q1736.99 1469.08 1736.99 1474.49 Q1736.99 1480.07 1733.52 1483.17 Q1730.05 1486.25 1723.73 1486.25 Q1721.55 1486.25 1719.29 1485.88 Q1717.04 1485.51 1714.63 1484.77 L1714.63 1480.07 Q1716.72 1481.2 1718.94 1481.76 Q1721.16 1482.32 1723.64 1482.32 Q1727.64 1482.32 1729.98 1480.21 Q1732.32 1478.1 1732.32 1474.49 Q1732.32 1470.88 1729.98 1468.77 Q1727.64 1466.67 1723.64 1466.67 Q1721.76 1466.67 1719.89 1467.08 Q1718.04 1467.5 1716.09 1468.38 L1716.09 1451.02 Z\" fill=\"#000000\" fill-rule=\"evenodd\" fill-opacity=\"1\" /><path clip-path=\"url(#clip380)\" d=\"M1981.01 1481.64 L1988.64 1481.64 L1988.64 1455.28 L1980.33 1456.95 L1980.33 1452.69 L1988.6 1451.02 L1993.27 1451.02 L1993.27 1481.64 L2000.91 1481.64 L2000.91 1485.58 L1981.01 1485.58 L1981.01 1481.64 Z\" fill=\"#000000\" fill-rule=\"evenodd\" fill-opacity=\"1\" /><path clip-path=\"url(#clip380)\" d=\"M2010.36 1479.7 L2015.24 1479.7 L2015.24 1485.58 L2010.36 1485.58 L2010.36 1479.7 Z\" fill=\"#000000\" fill-rule=\"evenodd\" fill-opacity=\"1\" /><path clip-path=\"url(#clip380)\" d=\"M2035.43 1454.1 Q2031.82 1454.1 2029.99 1457.66 Q2028.18 1461.2 2028.18 1468.33 Q2028.18 1475.44 2029.99 1479.01 Q2031.82 1482.55 2035.43 1482.55 Q2039.06 1482.55 2040.87 1479.01 Q2042.7 1475.44 2042.7 1468.33 Q2042.7 1461.2 2040.87 1457.66 Q2039.06 1454.1 2035.43 1454.1 M2035.43 1450.39 Q2041.24 1450.39 2044.29 1455 Q2047.37 1459.58 2047.37 1468.33 Q2047.37 1477.06 2044.29 1481.67 Q2041.24 1486.25 2035.43 1486.25 Q2029.62 1486.25 2026.54 1481.67 Q2023.48 1477.06 2023.48 1468.33 Q2023.48 1459.58 2026.54 1455 Q2029.62 1450.39 2035.43 1450.39 Z\" fill=\"#000000\" fill-rule=\"evenodd\" fill-opacity=\"1\" /><path clip-path=\"url(#clip380)\" d=\"M2292.42 1481.64 L2300.06 1481.64 L2300.06 1455.28 L2291.75 1456.95 L2291.75 1452.69 L2300.02 1451.02 L2304.69 1451.02 L2304.69 1481.64 L2312.33 1481.64 L2312.33 1485.58 L2292.42 1485.58 L2292.42 1481.64 Z\" fill=\"#000000\" fill-rule=\"evenodd\" fill-opacity=\"1\" /><path clip-path=\"url(#clip380)\" d=\"M2321.78 1479.7 L2326.66 1479.7 L2326.66 1485.58 L2321.78 1485.58 L2321.78 1479.7 Z\" fill=\"#000000\" fill-rule=\"evenodd\" fill-opacity=\"1\" /><path clip-path=\"url(#clip380)\" d=\"M2336.89 1451.02 L2355.25 1451.02 L2355.25 1454.96 L2341.17 1454.96 L2341.17 1463.43 Q2342.19 1463.08 2343.21 1462.92 Q2344.23 1462.73 2345.25 1462.73 Q2351.03 1462.73 2354.41 1465.9 Q2357.79 1469.08 2357.79 1474.49 Q2357.79 1480.07 2354.32 1483.17 Q2350.85 1486.25 2344.53 1486.25 Q2342.35 1486.25 2340.09 1485.88 Q2337.84 1485.51 2335.43 1484.77 L2335.43 1480.07 Q2337.52 1481.2 2339.74 1481.76 Q2341.96 1482.32 2344.44 1482.32 Q2348.44 1482.32 2350.78 1480.21 Q2353.12 1478.1 2353.12 1474.49 Q2353.12 1470.88 2350.78 1468.77 Q2348.44 1466.67 2344.44 1466.67 Q2342.56 1466.67 2340.69 1467.08 Q2338.84 1467.5 2336.89 1468.38 L2336.89 1451.02 Z\" fill=\"#000000\" fill-rule=\"evenodd\" fill-opacity=\"1\" /><path clip-path=\"url(#clip380)\" d=\"M1745.85 1522.27 L1745.85 1532.4 L1757.91 1532.4 L1757.91 1536.95 L1745.85 1536.95 L1745.85 1556.3 Q1745.85 1560.66 1747.02 1561.9 Q1748.23 1563.14 1751.89 1563.14 L1757.91 1563.14 L1757.91 1568.04 L1751.89 1568.04 Q1745.11 1568.04 1742.54 1565.53 Q1739.96 1562.98 1739.96 1556.3 L1739.96 1536.95 L1735.66 1536.95 L1735.66 1532.4 L1739.96 1532.4 L1739.96 1522.27 L1745.85 1522.27 Z\" fill=\"#000000\" fill-rule=\"evenodd\" fill-opacity=\"1\" /><path clip-path=\"url(#clip380)\" d=\"M1765.61 1532.4 L1771.47 1532.4 L1771.47 1568.04 L1765.61 1568.04 L1765.61 1532.4 M1765.61 1518.52 L1771.47 1518.52 L1771.47 1525.93 L1765.61 1525.93 L1765.61 1518.52 Z\" fill=\"#000000\" fill-rule=\"evenodd\" fill-opacity=\"1\" /><path clip-path=\"url(#clip380)\" d=\"M1811.48 1539.24 Q1813.67 1535.29 1816.73 1533.41 Q1819.78 1531.54 1823.92 1531.54 Q1829.49 1531.54 1832.52 1535.45 Q1835.54 1539.33 1835.54 1546.53 L1835.54 1568.04 L1829.65 1568.04 L1829.65 1546.72 Q1829.65 1541.59 1827.84 1539.11 Q1826.02 1536.63 1822.3 1536.63 Q1817.75 1536.63 1815.11 1539.65 Q1812.46 1542.68 1812.46 1547.9 L1812.46 1568.04 L1806.58 1568.04 L1806.58 1546.72 Q1806.58 1541.56 1804.76 1539.11 Q1802.95 1536.63 1799.16 1536.63 Q1794.67 1536.63 1792.03 1539.68 Q1789.39 1542.71 1789.39 1547.9 L1789.39 1568.04 L1783.5 1568.04 L1783.5 1532.4 L1789.39 1532.4 L1789.39 1537.93 Q1791.39 1534.66 1794.19 1533.1 Q1797 1531.54 1800.85 1531.54 Q1804.73 1531.54 1807.43 1533.51 Q1810.17 1535.48 1811.48 1539.24 Z\" fill=\"#000000\" fill-rule=\"evenodd\" fill-opacity=\"1\" /><path clip-path=\"url(#clip380)\" d=\"M1877.71 1548.76 L1877.71 1551.62 L1850.79 1551.62 Q1851.17 1557.67 1854.41 1560.85 Q1857.69 1564 1863.52 1564 Q1866.89 1564 1870.04 1563.17 Q1873.22 1562.35 1876.34 1560.69 L1876.34 1566.23 Q1873.19 1567.57 1869.88 1568.27 Q1866.57 1568.97 1863.17 1568.97 Q1854.64 1568.97 1849.64 1564 Q1844.67 1559.04 1844.67 1550.57 Q1844.67 1541.82 1849.38 1536.69 Q1854.13 1531.54 1862.15 1531.54 Q1869.34 1531.54 1873.51 1536.18 Q1877.71 1540.8 1877.71 1548.76 M1871.86 1547.04 Q1871.79 1542.23 1869.15 1539.37 Q1866.54 1536.5 1862.21 1536.5 Q1857.31 1536.5 1854.35 1539.27 Q1851.42 1542.04 1850.98 1547.07 L1871.86 1547.04 Z\" fill=\"#000000\" fill-rule=\"evenodd\" fill-opacity=\"1\" /><path clip-path=\"url(#clip380)\" d=\"M1922.11 1518.58 Q1917.85 1525.9 1915.78 1533.06 Q1913.71 1540.23 1913.71 1547.58 Q1913.71 1554.93 1915.78 1562.16 Q1917.88 1569.35 1922.11 1576.64 L1917.02 1576.64 Q1912.25 1569.16 1909.86 1561.93 Q1907.5 1554.71 1907.5 1547.58 Q1907.5 1540.48 1909.86 1533.29 Q1912.21 1526.09 1917.02 1518.58 L1922.11 1518.58 Z\" fill=\"#000000\" fill-rule=\"evenodd\" fill-opacity=\"1\" /><path clip-path=\"url(#clip380)\" d=\"M1956.2 1533.45 L1956.2 1538.98 Q1953.72 1537.71 1951.05 1537.07 Q1948.37 1536.44 1945.51 1536.44 Q1941.15 1536.44 1938.95 1537.77 Q1936.79 1539.11 1936.79 1541.79 Q1936.79 1543.82 1938.35 1545 Q1939.91 1546.15 1944.62 1547.2 L1946.62 1547.64 Q1952.86 1548.98 1955.47 1551.43 Q1958.11 1553.85 1958.11 1558.21 Q1958.11 1563.17 1954.16 1566.07 Q1950.25 1568.97 1943.37 1568.97 Q1940.51 1568.97 1937.39 1568.39 Q1934.3 1567.85 1930.87 1566.74 L1930.87 1560.69 Q1934.11 1562.38 1937.26 1563.24 Q1940.41 1564.07 1943.5 1564.07 Q1947.64 1564.07 1949.87 1562.66 Q1952.1 1561.23 1952.1 1558.65 Q1952.1 1556.27 1950.47 1554.99 Q1948.88 1553.72 1943.44 1552.54 L1941.4 1552.07 Q1935.96 1550.92 1933.54 1548.56 Q1931.12 1546.18 1931.12 1542.04 Q1931.12 1537.01 1934.69 1534.27 Q1938.25 1531.54 1944.81 1531.54 Q1948.05 1531.54 1950.92 1532.01 Q1953.78 1532.49 1956.2 1533.45 Z\" fill=\"#000000\" fill-rule=\"evenodd\" fill-opacity=\"1\" /><path clip-path=\"url(#clip380)\" d=\"M1966.51 1518.58 L1971.61 1518.58 Q1976.38 1526.09 1978.74 1533.29 Q1981.12 1540.48 1981.12 1547.58 Q1981.12 1554.71 1978.74 1561.93 Q1976.38 1569.16 1971.61 1576.64 L1966.51 1576.64 Q1970.75 1569.35 1972.82 1562.16 Q1974.92 1554.93 1974.92 1547.58 Q1974.92 1540.23 1972.82 1533.06 Q1970.75 1525.9 1966.51 1518.58 Z\" fill=\"#000000\" fill-rule=\"evenodd\" fill-opacity=\"1\" /><polyline clip-path=\"url(#clip383)\" style=\"stroke:#000000; stroke-linecap:butt; stroke-linejoin:round; stroke-width:2; stroke-opacity:0.1; fill:none\" points=\"\n",
       "  1364.03,1222.26 2352.76,1222.26 \n",
       "  \"/>\n",
       "<polyline clip-path=\"url(#clip383)\" style=\"stroke:#000000; stroke-linecap:butt; stroke-linejoin:round; stroke-width:2; stroke-opacity:0.1; fill:none\" points=\"\n",
       "  1364.03,906.685 2352.76,906.685 \n",
       "  \"/>\n",
       "<polyline clip-path=\"url(#clip383)\" style=\"stroke:#000000; stroke-linecap:butt; stroke-linejoin:round; stroke-width:2; stroke-opacity:0.1; fill:none\" points=\"\n",
       "  1364.03,591.108 2352.76,591.108 \n",
       "  \"/>\n",
       "<polyline clip-path=\"url(#clip383)\" style=\"stroke:#000000; stroke-linecap:butt; stroke-linejoin:round; stroke-width:2; stroke-opacity:0.1; fill:none\" points=\"\n",
       "  1364.03,275.532 2352.76,275.532 \n",
       "  \"/>\n",
       "<polyline clip-path=\"url(#clip380)\" style=\"stroke:#000000; stroke-linecap:butt; stroke-linejoin:round; stroke-width:4; stroke-opacity:1; fill:none\" points=\"\n",
       "  1364.03,1423.18 1364.03,47.2441 \n",
       "  \"/>\n",
       "<polyline clip-path=\"url(#clip380)\" style=\"stroke:#000000; stroke-linecap:butt; stroke-linejoin:round; stroke-width:4; stroke-opacity:1; fill:none\" points=\"\n",
       "  1364.03,1222.26 1382.93,1222.26 \n",
       "  \"/>\n",
       "<polyline clip-path=\"url(#clip380)\" style=\"stroke:#000000; stroke-linecap:butt; stroke-linejoin:round; stroke-width:4; stroke-opacity:1; fill:none\" points=\"\n",
       "  1364.03,906.685 1382.93,906.685 \n",
       "  \"/>\n",
       "<polyline clip-path=\"url(#clip380)\" style=\"stroke:#000000; stroke-linecap:butt; stroke-linejoin:round; stroke-width:4; stroke-opacity:1; fill:none\" points=\"\n",
       "  1364.03,591.108 1382.93,591.108 \n",
       "  \"/>\n",
       "<polyline clip-path=\"url(#clip380)\" style=\"stroke:#000000; stroke-linecap:butt; stroke-linejoin:round; stroke-width:4; stroke-opacity:1; fill:none\" points=\"\n",
       "  1364.03,275.532 1382.93,275.532 \n",
       "  \"/>\n",
       "<path clip-path=\"url(#clip380)\" d=\"M1236.15 1222.71 L1265.83 1222.71 L1265.83 1226.65 L1236.15 1226.65 L1236.15 1222.71 Z\" fill=\"#000000\" fill-rule=\"evenodd\" fill-opacity=\"1\" /><path clip-path=\"url(#clip380)\" d=\"M1276.73 1235.61 L1284.37 1235.61 L1284.37 1209.24 L1276.06 1210.91 L1276.06 1206.65 L1284.33 1204.98 L1289 1204.98 L1289 1235.61 L1296.64 1235.61 L1296.64 1239.54 L1276.73 1239.54 L1276.73 1235.61 Z\" fill=\"#000000\" fill-rule=\"evenodd\" fill-opacity=\"1\" /><path clip-path=\"url(#clip380)\" d=\"M1316.08 1208.06 Q1312.47 1208.06 1310.64 1211.62 Q1308.84 1215.17 1308.84 1222.3 Q1308.84 1229.4 1310.64 1232.97 Q1312.47 1236.51 1316.08 1236.51 Q1319.72 1236.51 1321.52 1232.97 Q1323.35 1229.4 1323.35 1222.3 Q1323.35 1215.17 1321.52 1211.62 Q1319.72 1208.06 1316.08 1208.06 M1316.08 1204.36 Q1321.89 1204.36 1324.95 1208.96 Q1328.03 1213.55 1328.03 1222.3 Q1328.03 1231.02 1324.95 1235.63 Q1321.89 1240.21 1316.08 1240.21 Q1310.27 1240.21 1307.2 1235.63 Q1304.14 1231.02 1304.14 1222.3 Q1304.14 1213.55 1307.2 1208.96 Q1310.27 1204.36 1316.08 1204.36 Z\" fill=\"#000000\" fill-rule=\"evenodd\" fill-opacity=\"1\" /><path clip-path=\"url(#clip380)\" d=\"M1267.31 907.136 L1296.99 907.136 L1296.99 911.071 L1267.31 911.071 L1267.31 907.136 Z\" fill=\"#000000\" fill-rule=\"evenodd\" fill-opacity=\"1\" /><path clip-path=\"url(#clip380)\" d=\"M1307.13 889.405 L1325.48 889.405 L1325.48 893.34 L1311.41 893.34 L1311.41 901.812 Q1312.43 901.465 1313.45 901.303 Q1314.46 901.117 1315.48 901.117 Q1321.27 901.117 1324.65 904.289 Q1328.03 907.46 1328.03 912.877 Q1328.03 918.455 1324.56 921.557 Q1321.08 924.636 1314.76 924.636 Q1312.59 924.636 1310.32 924.265 Q1308.08 923.895 1305.67 923.154 L1305.67 918.455 Q1307.75 919.59 1309.97 920.145 Q1312.2 920.701 1314.67 920.701 Q1318.68 920.701 1321.01 918.594 Q1323.35 916.488 1323.35 912.877 Q1323.35 909.266 1321.01 907.159 Q1318.68 905.053 1314.67 905.053 Q1312.8 905.053 1310.92 905.469 Q1309.07 905.886 1307.13 906.766 L1307.13 889.405 Z\" fill=\"#000000\" fill-rule=\"evenodd\" fill-opacity=\"1\" /><path clip-path=\"url(#clip380)\" d=\"M1316.08 576.907 Q1312.47 576.907 1310.64 580.472 Q1308.84 584.013 1308.84 591.143 Q1308.84 598.249 1310.64 601.814 Q1312.47 605.356 1316.08 605.356 Q1319.72 605.356 1321.52 601.814 Q1323.35 598.249 1323.35 591.143 Q1323.35 584.013 1321.52 580.472 Q1319.72 576.907 1316.08 576.907 M1316.08 573.203 Q1321.89 573.203 1324.95 577.81 Q1328.03 582.393 1328.03 591.143 Q1328.03 599.87 1324.95 604.476 Q1321.89 609.059 1316.08 609.059 Q1310.27 609.059 1307.2 604.476 Q1304.14 599.87 1304.14 591.143 Q1304.14 582.393 1307.2 577.81 Q1310.27 573.203 1316.08 573.203 Z\" fill=\"#000000\" fill-rule=\"evenodd\" fill-opacity=\"1\" /><path clip-path=\"url(#clip380)\" d=\"M1307.13 258.252 L1325.48 258.252 L1325.48 262.187 L1311.41 262.187 L1311.41 270.659 Q1312.43 270.312 1313.45 270.15 Q1314.46 269.964 1315.48 269.964 Q1321.27 269.964 1324.65 273.136 Q1328.03 276.307 1328.03 281.724 Q1328.03 287.302 1324.56 290.404 Q1321.08 293.483 1314.76 293.483 Q1312.59 293.483 1310.32 293.112 Q1308.08 292.742 1305.67 292.001 L1305.67 287.302 Q1307.75 288.437 1309.97 288.992 Q1312.2 289.548 1314.67 289.548 Q1318.68 289.548 1321.01 287.441 Q1323.35 285.335 1323.35 281.724 Q1323.35 278.113 1321.01 276.006 Q1318.68 273.9 1314.67 273.9 Q1312.8 273.9 1310.92 274.316 Q1309.07 274.733 1307.13 275.613 L1307.13 258.252 Z\" fill=\"#000000\" fill-rule=\"evenodd\" fill-opacity=\"1\" /><polyline clip-path=\"url(#clip383)\" style=\"stroke:#009af9; stroke-linecap:butt; stroke-linejoin:round; stroke-width:4; stroke-opacity:1; fill:none\" points=\"\n",
       "  1392.01,212.416 1407.56,212.416 1423.1,212.416 1438.65,212.416 1454.2,212.416 1469.74,212.416 1485.29,212.416 1500.83,212.416 1516.38,212.416 1531.93,212.416 \n",
       "  1547.47,212.416 1563.02,212.416 1578.56,212.416 1594.11,212.416 1609.66,212.416 1625.2,212.416 1640.75,212.416 1656.29,212.416 1671.84,212.416 1687.39,212.416 \n",
       "  1702.93,591.108 1718.48,591.108 1734.02,591.108 1749.57,591.108 1765.12,591.108 1780.66,591.108 1796.21,591.108 1811.75,591.108 1827.3,591.108 1842.85,591.108 \n",
       "  1858.39,591.108 1873.94,591.108 1889.48,591.108 1905.03,591.108 1920.58,591.108 1936.12,591.108 1951.67,591.108 1967.21,591.108 1982.76,591.108 1998.31,591.108 \n",
       "  2013.85,212.416 2029.4,212.416 2044.94,212.416 2060.49,212.416 2076.04,212.416 2091.58,212.416 2107.13,212.416 2122.67,212.416 2138.22,212.416 2153.77,212.416 \n",
       "  2169.31,212.416 2184.86,212.416 2200.4,212.416 2215.95,212.416 2231.5,212.416 2247.04,212.416 2262.59,212.416 2278.13,212.416 2293.68,212.416 2309.23,212.416 \n",
       "  2324.77,212.416 \n",
       "  \"/>\n",
       "<polyline clip-path=\"url(#clip383)\" style=\"stroke:#e26f46; stroke-linecap:butt; stroke-linejoin:round; stroke-width:4; stroke-opacity:1; fill:none\" points=\"\n",
       "  1392.01,591.108 1407.56,591.108 1423.1,591.108 1438.65,591.108 1454.2,591.108 1469.74,591.108 1485.29,591.108 1500.83,591.108 1516.38,591.108 1531.93,591.108 \n",
       "  1547.47,591.108 1563.02,591.108 1578.56,591.108 1594.11,591.108 1609.66,591.108 1625.2,591.108 1640.75,591.108 1656.29,591.108 1671.84,591.108 1687.39,591.108 \n",
       "  1702.93,86.1857 1718.48,86.1857 1734.02,86.1857 1749.57,86.1857 1765.12,86.1857 1780.66,86.1857 1796.21,86.1857 1811.75,86.1857 1827.3,86.1857 1842.85,86.1857 \n",
       "  1858.39,1096.03 1873.94,1096.03 1889.48,1096.03 1905.03,1096.03 1920.58,1096.03 1936.12,1096.03 1951.67,1096.03 1967.21,1096.03 1982.76,1096.03 1998.31,1096.03 \n",
       "  2013.85,591.108 2029.4,591.108 2044.94,591.108 2060.49,591.108 2076.04,591.108 2091.58,591.108 2107.13,591.108 2122.67,591.108 2138.22,591.108 2153.77,591.108 \n",
       "  2169.31,591.108 2184.86,591.108 2200.4,591.108 2215.95,591.108 2231.5,591.108 2247.04,591.108 2262.59,591.108 2278.13,591.108 2293.68,591.108 2309.23,591.108 \n",
       "  2324.77,591.108 \n",
       "  \"/>\n",
       "<polyline clip-path=\"url(#clip383)\" style=\"stroke:#3da44d; stroke-linecap:butt; stroke-linejoin:round; stroke-width:4; stroke-opacity:1; fill:none\" points=\"\n",
       "  1392.01,591.108 1407.56,591.108 1423.1,591.108 1438.65,591.108 1454.2,591.108 1469.74,591.108 1485.29,591.108 1500.83,591.108 1516.38,591.108 1531.93,591.108 \n",
       "  1547.47,591.108 1563.02,591.108 1578.56,591.108 1594.11,591.108 1609.66,591.108 1625.2,591.108 1640.75,591.108 1656.29,591.108 1671.84,591.108 1687.39,591.108 \n",
       "  1702.93,1384.24 1718.48,1384.24 1734.02,1384.24 1749.57,1384.24 1765.12,1384.24 1780.66,1384.24 1796.21,1384.24 1811.75,1384.24 1827.3,1384.24 1842.85,1384.24 \n",
       "  1858.39,1384.24 1873.94,1384.24 1889.48,1384.24 1905.03,1384.24 1920.58,1384.24 1936.12,1384.24 1951.67,1384.24 1967.21,1384.24 1982.76,1384.24 1998.31,1384.24 \n",
       "  2013.85,591.108 2029.4,591.108 2044.94,591.108 2060.49,591.108 2076.04,591.108 2091.58,591.108 2107.13,591.108 2122.67,591.108 2138.22,591.108 2153.77,591.108 \n",
       "  2169.31,591.108 2184.86,591.108 2200.4,591.108 2215.95,591.108 2231.5,591.108 2247.04,591.108 2262.59,591.108 2278.13,591.108 2293.68,591.108 2309.23,591.108 \n",
       "  2324.77,591.108 \n",
       "  \"/>\n",
       "<path clip-path=\"url(#clip380)\" d=\"\n",
       "M1396.99 1377.32 L1559.99 1377.32 L1559.99 1169.96 L1396.99 1169.96  Z\n",
       "  \" fill=\"#ffffff\" fill-rule=\"evenodd\" fill-opacity=\"1\"/>\n",
       "<polyline clip-path=\"url(#clip380)\" style=\"stroke:#000000; stroke-linecap:butt; stroke-linejoin:round; stroke-width:4; stroke-opacity:1; fill:none\" points=\"\n",
       "  1396.99,1377.32 1559.99,1377.32 1559.99,1169.96 1396.99,1169.96 1396.99,1377.32 \n",
       "  \"/>\n",
       "<polyline clip-path=\"url(#clip380)\" style=\"stroke:#009af9; stroke-linecap:butt; stroke-linejoin:round; stroke-width:4; stroke-opacity:1; fill:none\" points=\"\n",
       "  1407.97,1221.8 1473.89,1221.8 \n",
       "  \"/>\n",
       "<path clip-path=\"url(#clip380)\" d=\"M1484.87 1213.15 L1489.39 1213.15 L1497.49 1234.91 L1505.59 1213.15 L1510.1 1213.15 L1500.38 1239.08 L1494.6 1239.08 L1484.87 1213.15 Z\" fill=\"#000000\" fill-rule=\"evenodd\" fill-opacity=\"1\" /><path clip-path=\"url(#clip380)\" d=\"M1537.53 1213.15 L1528.16 1225.77 L1538.02 1239.08 L1533 1239.08 L1525.45 1228.89 L1517.91 1239.08 L1512.88 1239.08 L1522.95 1225.51 L1513.74 1213.15 L1518.76 1213.15 L1525.64 1222.39 L1532.51 1213.15 L1537.53 1213.15 Z\" fill=\"#000000\" fill-rule=\"evenodd\" fill-opacity=\"1\" /><polyline clip-path=\"url(#clip380)\" style=\"stroke:#e26f46; stroke-linecap:butt; stroke-linejoin:round; stroke-width:4; stroke-opacity:1; fill:none\" points=\"\n",
       "  1407.97,1273.64 1473.89,1273.64 \n",
       "  \"/>\n",
       "<path clip-path=\"url(#clip380)\" d=\"M1484.87 1264.99 L1489.39 1264.99 L1497.49 1286.75 L1505.59 1264.99 L1510.1 1264.99 L1500.38 1290.92 L1494.6 1290.92 L1484.87 1264.99 Z\" fill=\"#000000\" fill-rule=\"evenodd\" fill-opacity=\"1\" /><path clip-path=\"url(#clip380)\" d=\"M1514.13 1264.99 L1534.36 1264.99 L1534.36 1268.88 L1518.35 1287.51 L1534.36 1287.51 L1534.36 1290.92 L1513.55 1290.92 L1513.55 1287.03 L1529.57 1268.39 L1514.13 1268.39 L1514.13 1264.99 Z\" fill=\"#000000\" fill-rule=\"evenodd\" fill-opacity=\"1\" /><polyline clip-path=\"url(#clip380)\" style=\"stroke:#3da44d; stroke-linecap:butt; stroke-linejoin:round; stroke-width:4; stroke-opacity:1; fill:none\" points=\"\n",
       "  1407.97,1325.48 1473.89,1325.48 \n",
       "  \"/>\n",
       "<path clip-path=\"url(#clip380)\" d=\"M1494.48 1343.43 Q1484.87 1343.43 1484.87 1329.68 Q1484.87 1324.24 1488.46 1316.83 L1493.04 1316.83 Q1489.73 1324.24 1489.73 1329.79 Q1489.73 1339.82 1494.87 1339.82 Q1499.57 1339.82 1499.57 1327.36 L1503.51 1327.36 Q1503.51 1339.82 1508.21 1339.82 Q1513.35 1339.82 1513.35 1329.79 Q1513.35 1324.24 1510.04 1316.83 L1514.62 1316.83 Q1518.21 1324.24 1518.21 1329.68 Q1518.21 1343.43 1508.6 1343.43 Q1502.3 1343.43 1501.54 1336.51 Q1500.59 1343.43 1494.48 1343.43 Z\" fill=\"#000000\" fill-rule=\"evenodd\" fill-opacity=\"1\" /></svg>\n"
      ]
     },
     "execution_count": 17,
     "metadata": {},
     "output_type": "execute_result"
    }
   ],
   "source": [
    "# Plot the reference trajectory and compare with the given plot\n",
    "Xref = flip_reference()\n",
    "\n",
    "# convert to static arrays and plot\n",
    "Xref = [SVector{6}(Xref[i]) for i = 1:length(Xref)]\n",
    "p = plot(layout=(1,2))\n",
    "plot!(p[1], 0:dt:(N-1)*dt, Xref, inds=1:3, xlabel=\"time (s)\", labels = [\"px\" \"pz\" \"θ\"], legend=:bottomleft)\n",
    "plot!(p[2], 0:dt:(N-1)*dt, Xref, inds=4:6, xlabel=\"time (s)\", labels = [\"vx\" \"vz\" \"ω\"], legend=:bottomleft)"
   ]
  },
  {
   "cell_type": "code",
   "execution_count": 18,
   "metadata": {},
   "outputs": [
    {
     "name": "stdout",
     "output_type": "stream",
     "text": [
      "\u001b[0m\u001b[1mTest Summary:  | \u001b[22m\u001b[32m\u001b[1mPass  \u001b[22m\u001b[39m\u001b[36m\u001b[1mTotal\u001b[22m\u001b[39m\n",
      "flip reference | \u001b[32m  10  \u001b[39m\u001b[36m   10\u001b[39m\n"
     ]
    },
    {
     "data": {
      "text/plain": [
       "Test.DefaultTestSet(\"flip reference\", Any[], 10, false, false)"
      ]
     },
     "execution_count": 18,
     "metadata": {},
     "output_type": "execute_result"
    }
   ],
   "source": [
    "@testset \"flip reference\" begin \n",
    "    Xref_ = flip_reference()\n",
    "    @test length(Xref_) == 61\n",
    "    Xref_ = hcat(Vector.(Xref_)...)\n",
    "    @test mean(diff(Xref_[1,1:21])) ≈ 3/20 atol=1e-1\n",
    "    @test mean(Xref_[4,1:20]) ≈ 6.0 atol=1e-1 \n",
    "    @test mean(Xref_[1,21:40]) ≈ 0 atol=1e-1\n",
    "    @test mean(diff(Xref_[1,41:end])) ≈ 3/20 atol=1e-1\n",
    "    @test mean(Xref_[4,41:end]) ≈ 6.0 atol=1e-1 \n",
    "\n",
    "    @test Xref_[3,1] ≈ 0 atol=1e-6\n",
    "    @test Xref_[3,end] ≈ -2pi atol = 1e-6\n",
    "    @test std(diff(Xref_[6,21:40])) < 0.1\n",
    "    @test std(diff(Xref_[4,21:40])) < 0.1\n",
    "end"
   ]
  },
  {
   "cell_type": "markdown",
   "metadata": {},
   "source": [
    "## Part (d): Optimize the Flip Trajectory\n",
    "Using the reference trajectory and the objective you specified in the previous part, construct a new problem and solve it with your iLQR solver. Use a simple hover trajectory as the initial guess."
   ]
  },
  {
   "cell_type": "code",
   "execution_count": 19,
   "metadata": {},
   "outputs": [
    {
     "name": "stdout",
     "output_type": "stream",
     "text": [
      "iter     J           ΔJ        |d|         α\n",
      "-----------------------------------------------\n",
      "  1    6.477e+03   1.06e+04   1.33e+02   1.0000\n",
      "  2    5.184e+03   1.16e+04   2.45e+02   0.5000\n",
      "  3    1.564e+03   9.00e+03   2.69e+02   1.0000\n",
      "  4    1.013e+03   2.46e+03   1.07e+02   0.2500\n",
      "  5    6.208e+02   1.32e+03   6.78e+01   0.5000\n",
      "  6    5.089e+02   4.91e+02   4.74e+01   1.0000\n",
      "  7    3.488e+02   4.41e+02   5.71e+01   0.5000\n",
      "  8    2.644e+02   2.00e+02   3.02e+01   0.5000\n",
      "  9    2.030e+02   1.52e+02   2.47e+01   0.5000\n",
      " 10    1.638e+02   1.26e+02   2.55e+01   0.5000\n",
      " 11    1.409e+02   6.84e+01   2.66e+01   1.0000\n",
      " 12    1.305e+02   2.22e+01   1.01e+01   1.0000\n",
      " 13    1.299e+02   1.28e+00   2.24e+00   1.0000\n",
      " 14    1.299e+02   1.91e-03   1.55e-01   1.0000\n",
      " 15    1.299e+02   3.54e-04   7.04e-02   1.0000\n",
      " 16    1.299e+02   7.80e-05   3.08e-02   1.0000\n",
      " 17    1.299e+02   1.82e-05   1.47e-02   1.0000\n",
      " 18    1.299e+02   4.47e-06   6.74e-03   1.0000\n",
      " 19    1.299e+02   1.14e-06   3.31e-03   1.0000\n",
      " 20    1.299e+02   3.00e-07   1.60e-03   1.0000\n",
      " 21    1.299e+02   8.07e-08   7.88e-04   1.0000\n",
      " 22    1.299e+02   2.21e-08   4.04e-04   1.0000\n",
      " 23    1.299e+02   6.11e-09   2.00e-04   1.0000\n",
      " 24    1.299e+02   1.70e-09   1.06e-04   1.0000\n",
      " 25    1.299e+02   4.77e-10   5.43e-05   1.0000\n",
      " 26    1.299e+02   1.34e-10   2.88e-05   1.0000\n",
      " 27    1.299e+02   3.78e-11   1.49e-05   1.0000\n"
     ]
    }
   ],
   "source": [
    "# Solve for Xflip, Uflip, the optimized trajectories to flip the quadrotor\n",
    "\n",
    "Uref = [copy(uhover) for i = 1:N-1]\n",
    "Xflip,Uflip,Kflip,Pflip,iterflip = iLQR(x0,Uref,Xref,Uref);"
   ]
  },
  {
   "cell_type": "code",
   "execution_count": 20,
   "metadata": {},
   "outputs": [
    {
     "data": {
      "text/html": [
       "    <div style=\"height: 500px; width: 100%; overflow-x: auto; overflow-y: hidden; resize: both\">\n",
       "    <iframe src=\"http://127.0.0.1:8700\" style=\"width: 100%; height: 100%; border: none\"></iframe>\n",
       "    </div>\n"
      ],
      "text/plain": [
       "MeshCat.DisplayedVisualizer(MeshCat.CoreVisualizer(MeshCat.SceneTrees.SceneNode(nothing, nothing, Dict{String, Vector{UInt8}}(), UInt8[0x83, 0xa7, 0x6f, 0x70, 0x74, 0x69, 0x6f, 0x6e, 0x73, 0x82  …  0x5f, 0x61, 0x6e, 0x69, 0x6d, 0x61, 0x74, 0x69, 0x6f, 0x6e], Dict{String, MeshCat.SceneTrees.SceneNode}(\"meshcat\" => MeshCat.SceneTrees.SceneNode(nothing, nothing, Dict{String, Vector{UInt8}}(), nothing, Dict{String, MeshCat.SceneTrees.SceneNode}(\"robot\" => MeshCat.SceneTrees.SceneNode(nothing, nothing, Dict{String, Vector{UInt8}}(), nothing, Dict{String, MeshCat.SceneTrees.SceneNode}(\"geom\" => MeshCat.SceneTrees.SceneNode(UInt8[0x83, 0xa6, 0x6f, 0x62, 0x6a, 0x65, 0x63, 0x74, 0x84, 0xaa  …  0x72, 0x6f, 0x62, 0x6f, 0x74, 0x2f, 0x67, 0x65, 0x6f, 0x6d], nothing, Dict{String, Vector{UInt8}}(), nothing, Dict{String, MeshCat.SceneTrees.SceneNode}()))))))), Set(Any[WebSocket(server, \u001b[32mCONNECTED\u001b[39m)]), ip\"127.0.0.1\", 8700))"
      ]
     },
     "execution_count": 20,
     "metadata": {},
     "output_type": "execute_result"
    }
   ],
   "source": [
    "render(vis)"
   ]
  },
  {
   "cell_type": "code",
   "execution_count": 21,
   "metadata": {},
   "outputs": [],
   "source": [
    "visualize!(vis, model, dt*(N-1), Xflip)"
   ]
  },
  {
   "cell_type": "markdown",
   "metadata": {},
   "source": [
    "## Part (e): Compare to TVLQR\n",
    "iLQR generates a local linear feedback controller. As we saw in class, the backwardpass in iLQR is basically TVLQR with some extra terms. However, as our trajectory converges to a stationary point, these extra linear terms should go to zero. When iLQR exits, theses local feedback gains should closely match the result out of TVLQR. Using your code from the previous homework, generate a TVLQR solution for the optimized flip trajectory, using the same cost matrices used in your iLQR solver. They should match to reasonable numerical precision."
   ]
  },
  {
   "cell_type": "code",
   "execution_count": 22,
   "metadata": {},
   "outputs": [],
   "source": [
    "# TODO: Generate Klqr, Plqr, the feedback and cost-to-go matrices from TVLQR\n",
    "#       to track the optimized flip trajectory\n",
    "\n",
    "\"\"\"\n",
    "time varying LQR given vectors of matrices A and B linearized about each point \n",
    "\n",
    "inputs:\n",
    "    A - vector of A matrices       Vector{Matrix}\n",
    "    B - vector of B matrices       Vector{Matrix}\n",
    "    Q - state cost matrix          Matrix\n",
    "    R - control cost matrix        Matrix\n",
    "    Qf - terminal cost matrix      Matrix\n",
    "\n",
    "outputs:\n",
    "    K - feedback gain matrices     Vector{Matrix}\n",
    "    P - cost to go hessians        Vector{Matrix}\n",
    "\"\"\"\n",
    "function tvlqr(A,B,Q,R,Qf)\n",
    "\n",
    "    P = [zeros(nx,nx) for k = 1:N]\n",
    "    K = [zeros(nu,nx) for k = 1:N-1]\n",
    "    \n",
    "    # TODO: ricatti recursion \n",
    "    \n",
    "    return K,P\n",
    "end\n",
    "\n",
    "# dynamics jacobians for trajectory\n",
    "A = [zeros(nx,nx) for k = 1:N-1]\n",
    "B = [zeros(nx,nu) for k = 1:N-1]\n",
    "\n",
    "# TODO: fill up A and B with dynamics jacobians about Xflip and Uflip\n",
    "# hint: use the dynamics_jacobians function \n",
    "\n",
    "\n",
    "# call tvlqr\n",
    "Klqr,Plqr = tvlqr(A,B,Q,R,Qf);"
   ]
  },
  {
   "cell_type": "code",
   "execution_count": 23,
   "metadata": {},
   "outputs": [
    {
     "name": "stdout",
     "output_type": "stream",
     "text": [
      "\u001b[0m\u001b[1mTest Summary: | \u001b[22m\u001b[32m\u001b[1mPass  \u001b[22m\u001b[39m\u001b[36m\u001b[1mTotal\u001b[22m\u001b[39m\n",
      "TVLQR vs iLQR | \u001b[32m   2  \u001b[39m\u001b[36m    2\u001b[39m\n"
     ]
    },
    {
     "data": {
      "text/plain": [
       "Test.DefaultTestSet(\"TVLQR vs iLQR\", Any[], 2, false, false)"
      ]
     },
     "execution_count": 23,
     "metadata": {},
     "output_type": "execute_result"
    }
   ],
   "source": [
    "@testset \"TVLQR vs iLQR\" begin \n",
    "    @test maximum(norm.(Kflip - Klqr,Inf)) < 1e-3\n",
    "    @test maximum(norm.(Pflip - Plqr,Inf)) < 1e-3\n",
    "end"
   ]
  },
  {
   "cell_type": "markdown",
   "metadata": {},
   "source": [
    "## Part (f): Closed-Loop Tracking\n",
    "Now that we've seen that the controller generated by iLQR is nearly identical to the TVLQR solution with the same cost matrices, let's use the iLQR gains to track our trajectory, and see how robust it is to wind gusts. We will produce this noise in the following way:\n",
    "\n",
    "$$x_{k+1} = \\operatorname{rk4}(x_k,u_k,dt) + [0,0,0,0.1\\cdot\\operatorname{randn}(3)]$$"
   ]
  },
  {
   "cell_type": "code",
   "execution_count": 24,
   "metadata": {},
   "outputs": [],
   "source": [
    "using Random\n",
    "\"\"\"\n",
    "function for simulating with noise \n",
    "\n",
    "inputs:\n",
    "    x0 - initial condition \n",
    "    Xflip - optimal flip trajectory from iLQR \n",
    "    Uflip - optimal flip control from iLQR \n",
    "    Kflip - feedback gain matrices from iLQR\n",
    "    open_loop - bool, if true, use only Uflip as control, if false, use Uflip + feedback control\n",
    "\n",
    "outputs:\n",
    "    X - simulated X\n",
    "    U - simulated U \n",
    "\"\"\"\n",
    "function simulate_with_noise(x0,Xflip,Uflip,Kflip,open_loop)\n",
    "    \n",
    "    X = [zeros(nx) for i = 1:N]\n",
    "    U = [zeros(nu) for i = 1:N-1]\n",
    "    X[1] = copy(x0)\n",
    "    \n",
    "    Random.seed!(1)\n",
    "    \n",
    "    # TODO: simulate with added noise from wind \n",
    "    # use open_loop to determine what control you should apply \n",
    "\n",
    "    \n",
    "    return X,U\n",
    "end\n",
    "\n",
    "\n",
    "Xlqr,Ulqr = simulate_with_noise(x0,Xflip,Uflip,Kflip,false);\n",
    "Xopen,Uopen = simulate_with_noise(x0,Xflip,Uflip,Kflip,true);"
   ]
  },
  {
   "cell_type": "code",
   "execution_count": 25,
   "metadata": {},
   "outputs": [
    {
     "data": {
      "text/html": [
       "    <div style=\"height: 500px; width: 100%; overflow-x: auto; overflow-y: hidden; resize: both\">\n",
       "    <iframe src=\"http://127.0.0.1:8700\" style=\"width: 100%; height: 100%; border: none\"></iframe>\n",
       "    </div>\n"
      ],
      "text/plain": [
       "MeshCat.DisplayedVisualizer(MeshCat.CoreVisualizer(MeshCat.SceneTrees.SceneNode(nothing, nothing, Dict{String, Vector{UInt8}}(), UInt8[0x83, 0xa7, 0x6f, 0x70, 0x74, 0x69, 0x6f, 0x6e, 0x73, 0x82  …  0x5f, 0x61, 0x6e, 0x69, 0x6d, 0x61, 0x74, 0x69, 0x6f, 0x6e], Dict{String, MeshCat.SceneTrees.SceneNode}(\"meshcat\" => MeshCat.SceneTrees.SceneNode(nothing, nothing, Dict{String, Vector{UInt8}}(), nothing, Dict{String, MeshCat.SceneTrees.SceneNode}(\"robot\" => MeshCat.SceneTrees.SceneNode(nothing, nothing, Dict{String, Vector{UInt8}}(), nothing, Dict{String, MeshCat.SceneTrees.SceneNode}(\"geom\" => MeshCat.SceneTrees.SceneNode(UInt8[0x83, 0xa6, 0x6f, 0x62, 0x6a, 0x65, 0x63, 0x74, 0x84, 0xaa  …  0x72, 0x6f, 0x62, 0x6f, 0x74, 0x2f, 0x67, 0x65, 0x6f, 0x6d], nothing, Dict{String, Vector{UInt8}}(), nothing, Dict{String, MeshCat.SceneTrees.SceneNode}()))))))), Set(Any[WebSocket(server, \u001b[32mCONNECTED\u001b[39m), WebSocket(server, \u001b[32mCONNECTED\u001b[39m)]), ip\"127.0.0.1\", 8700))"
      ]
     },
     "execution_count": 25,
     "metadata": {},
     "output_type": "execute_result"
    }
   ],
   "source": [
    "render(vis)"
   ]
  },
  {
   "cell_type": "code",
   "execution_count": 27,
   "metadata": {},
   "outputs": [],
   "source": [
    "# Simulate with LQR\n",
    "visualize!(vis, model, dt*(N-1), Xlqr)"
   ]
  },
  {
   "cell_type": "code",
   "execution_count": 28,
   "metadata": {},
   "outputs": [],
   "source": [
    "visualize!(vis, model, dt*(N-1), Xopen)"
   ]
  },
  {
   "cell_type": "code",
   "execution_count": 29,
   "metadata": {},
   "outputs": [
    {
     "data": {
      "image/svg+xml": [
       "<?xml version=\"1.0\" encoding=\"utf-8\"?>\n",
       "<svg xmlns=\"http://www.w3.org/2000/svg\" xmlns:xlink=\"http://www.w3.org/1999/xlink\" width=\"600\" height=\"400\" viewBox=\"0 0 2400 1600\">\n",
       "<defs>\n",
       "  <clipPath id=\"clip420\">\n",
       "    <rect x=\"0\" y=\"0\" width=\"2400\" height=\"1600\"/>\n",
       "  </clipPath>\n",
       "</defs>\n",
       "<path clip-path=\"url(#clip420)\" d=\"\n",
       "M0 1600 L2400 1600 L2400 0 L0 0  Z\n",
       "  \" fill=\"#ffffff\" fill-rule=\"evenodd\" fill-opacity=\"1\"/>\n",
       "<defs>\n",
       "  <clipPath id=\"clip421\">\n",
       "    <rect x=\"480\" y=\"0\" width=\"1681\" height=\"1600\"/>\n",
       "  </clipPath>\n",
       "</defs>\n",
       "<path clip-path=\"url(#clip420)\" d=\"\n",
       "M219.38 1423.18 L2352.76 1423.18 L2352.76 47.2441 L219.38 47.2441  Z\n",
       "  \" fill=\"#ffffff\" fill-rule=\"evenodd\" fill-opacity=\"1\"/>\n",
       "<defs>\n",
       "  <clipPath id=\"clip422\">\n",
       "    <rect x=\"219\" y=\"47\" width=\"2134\" height=\"1377\"/>\n",
       "  </clipPath>\n",
       "</defs>\n",
       "<polyline clip-path=\"url(#clip422)\" style=\"stroke:#000000; stroke-linecap:butt; stroke-linejoin:round; stroke-width:2; stroke-opacity:0.1; fill:none\" points=\"\n",
       "  279.764,1423.18 279.764,47.2441 \n",
       "  \"/>\n",
       "<polyline clip-path=\"url(#clip422)\" style=\"stroke:#000000; stroke-linecap:butt; stroke-linejoin:round; stroke-width:2; stroke-opacity:0.1; fill:none\" points=\"\n",
       "  616.213,1423.18 616.213,47.2441 \n",
       "  \"/>\n",
       "<polyline clip-path=\"url(#clip422)\" style=\"stroke:#000000; stroke-linecap:butt; stroke-linejoin:round; stroke-width:2; stroke-opacity:0.1; fill:none\" points=\"\n",
       "  952.662,1423.18 952.662,47.2441 \n",
       "  \"/>\n",
       "<polyline clip-path=\"url(#clip422)\" style=\"stroke:#000000; stroke-linecap:butt; stroke-linejoin:round; stroke-width:2; stroke-opacity:0.1; fill:none\" points=\"\n",
       "  1289.11,1423.18 1289.11,47.2441 \n",
       "  \"/>\n",
       "<polyline clip-path=\"url(#clip422)\" style=\"stroke:#000000; stroke-linecap:butt; stroke-linejoin:round; stroke-width:2; stroke-opacity:0.1; fill:none\" points=\"\n",
       "  1625.56,1423.18 1625.56,47.2441 \n",
       "  \"/>\n",
       "<polyline clip-path=\"url(#clip422)\" style=\"stroke:#000000; stroke-linecap:butt; stroke-linejoin:round; stroke-width:2; stroke-opacity:0.1; fill:none\" points=\"\n",
       "  1962.01,1423.18 1962.01,47.2441 \n",
       "  \"/>\n",
       "<polyline clip-path=\"url(#clip422)\" style=\"stroke:#000000; stroke-linecap:butt; stroke-linejoin:round; stroke-width:2; stroke-opacity:0.1; fill:none\" points=\"\n",
       "  2298.46,1423.18 2298.46,47.2441 \n",
       "  \"/>\n",
       "<polyline clip-path=\"url(#clip420)\" style=\"stroke:#000000; stroke-linecap:butt; stroke-linejoin:round; stroke-width:4; stroke-opacity:1; fill:none\" points=\"\n",
       "  219.38,1423.18 2352.76,1423.18 \n",
       "  \"/>\n",
       "<polyline clip-path=\"url(#clip420)\" style=\"stroke:#000000; stroke-linecap:butt; stroke-linejoin:round; stroke-width:4; stroke-opacity:1; fill:none\" points=\"\n",
       "  279.764,1423.18 279.764,1404.28 \n",
       "  \"/>\n",
       "<polyline clip-path=\"url(#clip420)\" style=\"stroke:#000000; stroke-linecap:butt; stroke-linejoin:round; stroke-width:4; stroke-opacity:1; fill:none\" points=\"\n",
       "  616.213,1423.18 616.213,1404.28 \n",
       "  \"/>\n",
       "<polyline clip-path=\"url(#clip420)\" style=\"stroke:#000000; stroke-linecap:butt; stroke-linejoin:round; stroke-width:4; stroke-opacity:1; fill:none\" points=\"\n",
       "  952.662,1423.18 952.662,1404.28 \n",
       "  \"/>\n",
       "<polyline clip-path=\"url(#clip420)\" style=\"stroke:#000000; stroke-linecap:butt; stroke-linejoin:round; stroke-width:4; stroke-opacity:1; fill:none\" points=\"\n",
       "  1289.11,1423.18 1289.11,1404.28 \n",
       "  \"/>\n",
       "<polyline clip-path=\"url(#clip420)\" style=\"stroke:#000000; stroke-linecap:butt; stroke-linejoin:round; stroke-width:4; stroke-opacity:1; fill:none\" points=\"\n",
       "  1625.56,1423.18 1625.56,1404.28 \n",
       "  \"/>\n",
       "<polyline clip-path=\"url(#clip420)\" style=\"stroke:#000000; stroke-linecap:butt; stroke-linejoin:round; stroke-width:4; stroke-opacity:1; fill:none\" points=\"\n",
       "  1962.01,1423.18 1962.01,1404.28 \n",
       "  \"/>\n",
       "<polyline clip-path=\"url(#clip420)\" style=\"stroke:#000000; stroke-linecap:butt; stroke-linejoin:round; stroke-width:4; stroke-opacity:1; fill:none\" points=\"\n",
       "  2298.46,1423.18 2298.46,1404.28 \n",
       "  \"/>\n",
       "<path clip-path=\"url(#clip420)\" d=\"M249.232 1468.75 L278.908 1468.75 L278.908 1472.69 L249.232 1472.69 L249.232 1468.75 Z\" fill=\"#000000\" fill-rule=\"evenodd\" fill-opacity=\"1\" /><path clip-path=\"url(#clip420)\" d=\"M303.167 1466.95 Q306.523 1467.66 308.398 1469.93 Q310.296 1472.2 310.296 1475.53 Q310.296 1480.65 306.778 1483.45 Q303.259 1486.25 296.778 1486.25 Q294.602 1486.25 292.287 1485.81 Q289.995 1485.39 287.542 1484.54 L287.542 1480.02 Q289.486 1481.16 291.801 1481.74 Q294.116 1482.32 296.639 1482.32 Q301.037 1482.32 303.329 1480.58 Q305.643 1478.84 305.643 1475.53 Q305.643 1472.48 303.491 1470.77 Q301.361 1469.03 297.542 1469.03 L293.514 1469.03 L293.514 1465.19 L297.727 1465.19 Q301.176 1465.19 303.005 1463.82 Q304.833 1462.43 304.833 1459.84 Q304.833 1457.18 302.935 1455.77 Q301.06 1454.33 297.542 1454.33 Q295.62 1454.33 293.421 1454.75 Q291.222 1455.16 288.583 1456.04 L288.583 1451.88 Q291.245 1451.14 293.56 1450.77 Q295.898 1450.39 297.958 1450.39 Q303.282 1450.39 306.384 1452.83 Q309.486 1455.23 309.486 1459.35 Q309.486 1462.22 307.843 1464.21 Q306.199 1466.18 303.167 1466.95 Z\" fill=\"#000000\" fill-rule=\"evenodd\" fill-opacity=\"1\" /><path clip-path=\"url(#clip420)\" d=\"M586.155 1468.75 L615.831 1468.75 L615.831 1472.69 L586.155 1472.69 L586.155 1468.75 Z\" fill=\"#000000\" fill-rule=\"evenodd\" fill-opacity=\"1\" /><path clip-path=\"url(#clip420)\" d=\"M629.951 1481.64 L646.271 1481.64 L646.271 1485.58 L624.326 1485.58 L624.326 1481.64 Q626.988 1478.89 631.572 1474.26 Q636.178 1469.61 637.359 1468.27 Q639.604 1465.74 640.484 1464.01 Q641.386 1462.25 641.386 1460.56 Q641.386 1457.8 639.442 1456.07 Q637.521 1454.33 634.419 1454.33 Q632.22 1454.33 629.766 1455.09 Q627.336 1455.86 624.558 1457.41 L624.558 1452.69 Q627.382 1451.55 629.836 1450.97 Q632.289 1450.39 634.326 1450.39 Q639.697 1450.39 642.891 1453.08 Q646.085 1455.77 646.085 1460.26 Q646.085 1462.39 645.275 1464.31 Q644.488 1466.2 642.382 1468.8 Q641.803 1469.47 638.701 1472.69 Q635.599 1475.88 629.951 1481.64 Z\" fill=\"#000000\" fill-rule=\"evenodd\" fill-opacity=\"1\" /><path clip-path=\"url(#clip420)\" d=\"M922.419 1468.75 L952.095 1468.75 L952.095 1472.69 L922.419 1472.69 L922.419 1468.75 Z\" fill=\"#000000\" fill-rule=\"evenodd\" fill-opacity=\"1\" /><path clip-path=\"url(#clip420)\" d=\"M962.997 1481.64 L970.636 1481.64 L970.636 1455.28 L962.326 1456.95 L962.326 1452.69 L970.59 1451.02 L975.266 1451.02 L975.266 1481.64 L982.905 1481.64 L982.905 1485.58 L962.997 1485.58 L962.997 1481.64 Z\" fill=\"#000000\" fill-rule=\"evenodd\" fill-opacity=\"1\" /><path clip-path=\"url(#clip420)\" d=\"M1289.11 1454.1 Q1285.5 1454.1 1283.67 1457.66 Q1281.87 1461.2 1281.87 1468.33 Q1281.87 1475.44 1283.67 1479.01 Q1285.5 1482.55 1289.11 1482.55 Q1292.74 1482.55 1294.55 1479.01 Q1296.38 1475.44 1296.38 1468.33 Q1296.38 1461.2 1294.55 1457.66 Q1292.74 1454.1 1289.11 1454.1 M1289.11 1450.39 Q1294.92 1450.39 1297.98 1455 Q1301.06 1459.58 1301.06 1468.33 Q1301.06 1477.06 1297.98 1481.67 Q1294.92 1486.25 1289.11 1486.25 Q1283.3 1486.25 1280.22 1481.67 Q1277.17 1477.06 1277.17 1468.33 Q1277.17 1459.58 1280.22 1455 Q1283.3 1450.39 1289.11 1450.39 Z\" fill=\"#000000\" fill-rule=\"evenodd\" fill-opacity=\"1\" /><path clip-path=\"url(#clip420)\" d=\"M1615.94 1481.64 L1623.58 1481.64 L1623.58 1455.28 L1615.27 1456.95 L1615.27 1452.69 L1623.53 1451.02 L1628.21 1451.02 L1628.21 1481.64 L1635.85 1481.64 L1635.85 1485.58 L1615.94 1485.58 L1615.94 1481.64 Z\" fill=\"#000000\" fill-rule=\"evenodd\" fill-opacity=\"1\" /><path clip-path=\"url(#clip420)\" d=\"M1956.66 1481.64 L1972.98 1481.64 L1972.98 1485.58 L1951.04 1485.58 L1951.04 1481.64 Q1953.7 1478.89 1958.28 1474.26 Q1962.89 1469.61 1964.07 1468.27 Q1966.31 1465.74 1967.19 1464.01 Q1968.1 1462.25 1968.1 1460.56 Q1968.1 1457.8 1966.15 1456.07 Q1964.23 1454.33 1961.13 1454.33 Q1958.93 1454.33 1956.48 1455.09 Q1954.05 1455.86 1951.27 1457.41 L1951.27 1452.69 Q1954.09 1451.55 1956.55 1450.97 Q1959 1450.39 1961.04 1450.39 Q1966.41 1450.39 1969.6 1453.08 Q1972.8 1455.77 1972.8 1460.26 Q1972.8 1462.39 1971.99 1464.31 Q1971.2 1466.2 1969.09 1468.8 Q1968.51 1469.47 1965.41 1472.69 Q1962.31 1475.88 1956.66 1481.64 Z\" fill=\"#000000\" fill-rule=\"evenodd\" fill-opacity=\"1\" /><path clip-path=\"url(#clip420)\" d=\"M2302.71 1466.95 Q2306.06 1467.66 2307.94 1469.93 Q2309.83 1472.2 2309.83 1475.53 Q2309.83 1480.65 2306.32 1483.45 Q2302.8 1486.25 2296.32 1486.25 Q2294.14 1486.25 2291.83 1485.81 Q2289.53 1485.39 2287.08 1484.54 L2287.08 1480.02 Q2289.02 1481.16 2291.34 1481.74 Q2293.65 1482.32 2296.18 1482.32 Q2300.58 1482.32 2302.87 1480.58 Q2305.18 1478.84 2305.18 1475.53 Q2305.18 1472.48 2303.03 1470.77 Q2300.9 1469.03 2297.08 1469.03 L2293.05 1469.03 L2293.05 1465.19 L2297.27 1465.19 Q2300.71 1465.19 2302.54 1463.82 Q2304.37 1462.43 2304.37 1459.84 Q2304.37 1457.18 2302.47 1455.77 Q2300.6 1454.33 2297.08 1454.33 Q2295.16 1454.33 2292.96 1454.75 Q2290.76 1455.16 2288.12 1456.04 L2288.12 1451.88 Q2290.78 1451.14 2293.1 1450.77 Q2295.44 1450.39 2297.5 1450.39 Q2302.82 1450.39 2305.92 1452.83 Q2309.02 1455.23 2309.02 1459.35 Q2309.02 1462.22 2307.38 1464.21 Q2305.74 1466.18 2302.71 1466.95 Z\" fill=\"#000000\" fill-rule=\"evenodd\" fill-opacity=\"1\" /><path clip-path=\"url(#clip420)\" d=\"M1302.68 1532.4 L1289.79 1549.74 L1303.35 1568.04 L1296.44 1568.04 L1286.07 1554.04 L1275.69 1568.04 L1268.79 1568.04 L1282.63 1549.39 L1269.96 1532.4 L1276.87 1532.4 L1286.32 1545.1 L1295.78 1532.4 L1302.68 1532.4 Z\" fill=\"#000000\" fill-rule=\"evenodd\" fill-opacity=\"1\" /><polyline clip-path=\"url(#clip422)\" style=\"stroke:#000000; stroke-linecap:butt; stroke-linejoin:round; stroke-width:2; stroke-opacity:0.1; fill:none\" points=\"\n",
       "  219.38,1204.49 2352.76,1204.49 \n",
       "  \"/>\n",
       "<polyline clip-path=\"url(#clip422)\" style=\"stroke:#000000; stroke-linecap:butt; stroke-linejoin:round; stroke-width:2; stroke-opacity:0.1; fill:none\" points=\"\n",
       "  219.38,950.3 2352.76,950.3 \n",
       "  \"/>\n",
       "<polyline clip-path=\"url(#clip422)\" style=\"stroke:#000000; stroke-linecap:butt; stroke-linejoin:round; stroke-width:2; stroke-opacity:0.1; fill:none\" points=\"\n",
       "  219.38,696.109 2352.76,696.109 \n",
       "  \"/>\n",
       "<polyline clip-path=\"url(#clip422)\" style=\"stroke:#000000; stroke-linecap:butt; stroke-linejoin:round; stroke-width:2; stroke-opacity:0.1; fill:none\" points=\"\n",
       "  219.38,441.919 2352.76,441.919 \n",
       "  \"/>\n",
       "<polyline clip-path=\"url(#clip422)\" style=\"stroke:#000000; stroke-linecap:butt; stroke-linejoin:round; stroke-width:2; stroke-opacity:0.1; fill:none\" points=\"\n",
       "  219.38,187.728 2352.76,187.728 \n",
       "  \"/>\n",
       "<polyline clip-path=\"url(#clip420)\" style=\"stroke:#000000; stroke-linecap:butt; stroke-linejoin:round; stroke-width:4; stroke-opacity:1; fill:none\" points=\"\n",
       "  219.38,1423.18 219.38,47.2441 \n",
       "  \"/>\n",
       "<polyline clip-path=\"url(#clip420)\" style=\"stroke:#000000; stroke-linecap:butt; stroke-linejoin:round; stroke-width:4; stroke-opacity:1; fill:none\" points=\"\n",
       "  219.38,1204.49 238.278,1204.49 \n",
       "  \"/>\n",
       "<polyline clip-path=\"url(#clip420)\" style=\"stroke:#000000; stroke-linecap:butt; stroke-linejoin:round; stroke-width:4; stroke-opacity:1; fill:none\" points=\"\n",
       "  219.38,950.3 238.278,950.3 \n",
       "  \"/>\n",
       "<polyline clip-path=\"url(#clip420)\" style=\"stroke:#000000; stroke-linecap:butt; stroke-linejoin:round; stroke-width:4; stroke-opacity:1; fill:none\" points=\"\n",
       "  219.38,696.109 238.278,696.109 \n",
       "  \"/>\n",
       "<polyline clip-path=\"url(#clip420)\" style=\"stroke:#000000; stroke-linecap:butt; stroke-linejoin:round; stroke-width:4; stroke-opacity:1; fill:none\" points=\"\n",
       "  219.38,441.919 238.278,441.919 \n",
       "  \"/>\n",
       "<polyline clip-path=\"url(#clip420)\" style=\"stroke:#000000; stroke-linecap:butt; stroke-linejoin:round; stroke-width:4; stroke-opacity:1; fill:none\" points=\"\n",
       "  219.38,187.728 238.278,187.728 \n",
       "  \"/>\n",
       "<path clip-path=\"url(#clip420)\" d=\"M126.205 1190.29 Q122.593 1190.29 120.765 1193.85 Q118.959 1197.4 118.959 1204.52 Q118.959 1211.63 120.765 1215.2 Q122.593 1218.74 126.205 1218.74 Q129.839 1218.74 131.644 1215.2 Q133.473 1211.63 133.473 1204.52 Q133.473 1197.4 131.644 1193.85 Q129.839 1190.29 126.205 1190.29 M126.205 1186.59 Q132.015 1186.59 135.07 1191.19 Q138.149 1195.77 138.149 1204.52 Q138.149 1213.25 135.07 1217.86 Q132.015 1222.44 126.205 1222.44 Q120.394 1222.44 117.316 1217.86 Q114.26 1213.25 114.26 1204.52 Q114.26 1195.77 117.316 1191.19 Q120.394 1186.59 126.205 1186.59 Z\" fill=\"#000000\" fill-rule=\"evenodd\" fill-opacity=\"1\" /><path clip-path=\"url(#clip420)\" d=\"M146.366 1215.89 L151.251 1215.89 L151.251 1221.77 L146.366 1221.77 L146.366 1215.89 Z\" fill=\"#000000\" fill-rule=\"evenodd\" fill-opacity=\"1\" /><path clip-path=\"url(#clip420)\" d=\"M171.436 1190.29 Q167.825 1190.29 165.996 1193.85 Q164.19 1197.4 164.19 1204.52 Q164.19 1211.63 165.996 1215.2 Q167.825 1218.74 171.436 1218.74 Q175.07 1218.74 176.876 1215.2 Q178.704 1211.63 178.704 1204.52 Q178.704 1197.4 176.876 1193.85 Q175.07 1190.29 171.436 1190.29 M171.436 1186.59 Q177.246 1186.59 180.301 1191.19 Q183.38 1195.77 183.38 1204.52 Q183.38 1213.25 180.301 1217.86 Q177.246 1222.44 171.436 1222.44 Q165.626 1222.44 162.547 1217.86 Q159.491 1213.25 159.491 1204.52 Q159.491 1195.77 162.547 1191.19 Q165.626 1186.59 171.436 1186.59 Z\" fill=\"#000000\" fill-rule=\"evenodd\" fill-opacity=\"1\" /><path clip-path=\"url(#clip420)\" d=\"M127.2 936.098 Q123.589 936.098 121.76 939.663 Q119.955 943.205 119.955 950.334 Q119.955 957.441 121.76 961.006 Q123.589 964.547 127.2 964.547 Q130.834 964.547 132.64 961.006 Q134.468 957.441 134.468 950.334 Q134.468 943.205 132.64 939.663 Q130.834 936.098 127.2 936.098 M127.2 932.395 Q133.01 932.395 136.066 937.001 Q139.144 941.584 139.144 950.334 Q139.144 959.061 136.066 963.668 Q133.01 968.251 127.2 968.251 Q121.39 968.251 118.311 963.668 Q115.256 959.061 115.256 950.334 Q115.256 941.584 118.311 937.001 Q121.39 932.395 127.2 932.395 Z\" fill=\"#000000\" fill-rule=\"evenodd\" fill-opacity=\"1\" /><path clip-path=\"url(#clip420)\" d=\"M147.362 961.7 L152.246 961.7 L152.246 967.58 L147.362 967.58 L147.362 961.7 Z\" fill=\"#000000\" fill-rule=\"evenodd\" fill-opacity=\"1\" /><path clip-path=\"url(#clip420)\" d=\"M162.477 933.02 L180.834 933.02 L180.834 936.955 L166.76 936.955 L166.76 945.427 Q167.778 945.08 168.797 944.918 Q169.815 944.733 170.834 944.733 Q176.621 944.733 180.001 947.904 Q183.38 951.075 183.38 956.492 Q183.38 962.07 179.908 965.172 Q176.436 968.251 170.116 968.251 Q167.94 968.251 165.672 967.881 Q163.427 967.51 161.019 966.769 L161.019 962.07 Q163.102 963.205 165.325 963.76 Q167.547 964.316 170.024 964.316 Q174.028 964.316 176.366 962.209 Q178.704 960.103 178.704 956.492 Q178.704 952.881 176.366 950.774 Q174.028 948.668 170.024 948.668 Q168.149 948.668 166.274 949.084 Q164.422 949.501 162.477 950.381 L162.477 933.02 Z\" fill=\"#000000\" fill-rule=\"evenodd\" fill-opacity=\"1\" /><path clip-path=\"url(#clip420)\" d=\"M117.015 709.454 L124.654 709.454 L124.654 683.088 L116.343 684.755 L116.343 680.496 L124.607 678.829 L129.283 678.829 L129.283 709.454 L136.922 709.454 L136.922 713.389 L117.015 713.389 L117.015 709.454 Z\" fill=\"#000000\" fill-rule=\"evenodd\" fill-opacity=\"1\" /><path clip-path=\"url(#clip420)\" d=\"M146.366 707.51 L151.251 707.51 L151.251 713.389 L146.366 713.389 L146.366 707.51 Z\" fill=\"#000000\" fill-rule=\"evenodd\" fill-opacity=\"1\" /><path clip-path=\"url(#clip420)\" d=\"M171.436 681.908 Q167.825 681.908 165.996 685.473 Q164.19 689.014 164.19 696.144 Q164.19 703.25 165.996 706.815 Q167.825 710.357 171.436 710.357 Q175.07 710.357 176.876 706.815 Q178.704 703.25 178.704 696.144 Q178.704 689.014 176.876 685.473 Q175.07 681.908 171.436 681.908 M171.436 678.204 Q177.246 678.204 180.301 682.811 Q183.38 687.394 183.38 696.144 Q183.38 704.871 180.301 709.477 Q177.246 714.06 171.436 714.06 Q165.626 714.06 162.547 709.477 Q159.491 704.871 159.491 696.144 Q159.491 687.394 162.547 682.811 Q165.626 678.204 171.436 678.204 Z\" fill=\"#000000\" fill-rule=\"evenodd\" fill-opacity=\"1\" /><path clip-path=\"url(#clip420)\" d=\"M118.01 455.264 L125.649 455.264 L125.649 428.898 L117.339 430.565 L117.339 426.305 L125.603 424.639 L130.279 424.639 L130.279 455.264 L137.917 455.264 L137.917 459.199 L118.01 459.199 L118.01 455.264 Z\" fill=\"#000000\" fill-rule=\"evenodd\" fill-opacity=\"1\" /><path clip-path=\"url(#clip420)\" d=\"M147.362 453.319 L152.246 453.319 L152.246 459.199 L147.362 459.199 L147.362 453.319 Z\" fill=\"#000000\" fill-rule=\"evenodd\" fill-opacity=\"1\" /><path clip-path=\"url(#clip420)\" d=\"M162.477 424.639 L180.834 424.639 L180.834 428.574 L166.76 428.574 L166.76 437.046 Q167.778 436.699 168.797 436.537 Q169.815 436.352 170.834 436.352 Q176.621 436.352 180.001 439.523 Q183.38 442.694 183.38 448.111 Q183.38 453.69 179.908 456.791 Q176.436 459.87 170.116 459.87 Q167.94 459.87 165.672 459.5 Q163.427 459.129 161.019 458.389 L161.019 453.69 Q163.102 454.824 165.325 455.379 Q167.547 455.935 170.024 455.935 Q174.028 455.935 176.366 453.828 Q178.704 451.722 178.704 448.111 Q178.704 444.5 176.366 442.393 Q174.028 440.287 170.024 440.287 Q168.149 440.287 166.274 440.703 Q164.422 441.12 162.477 442 L162.477 424.639 Z\" fill=\"#000000\" fill-rule=\"evenodd\" fill-opacity=\"1\" /><path clip-path=\"url(#clip420)\" d=\"M120.232 201.073 L136.552 201.073 L136.552 205.008 L114.607 205.008 L114.607 201.073 Q117.269 198.319 121.853 193.689 Q126.459 189.036 127.64 187.694 Q129.885 185.17 130.765 183.434 Q131.667 181.675 131.667 179.985 Q131.667 177.231 129.723 175.495 Q127.802 173.758 124.7 173.758 Q122.501 173.758 120.047 174.522 Q117.617 175.286 114.839 176.837 L114.839 172.115 Q117.663 170.981 120.117 170.402 Q122.57 169.823 124.607 169.823 Q129.978 169.823 133.172 172.508 Q136.367 175.194 136.367 179.684 Q136.367 181.814 135.556 183.735 Q134.769 185.633 132.663 188.226 Q132.084 188.897 128.982 192.115 Q125.88 195.309 120.232 201.073 Z\" fill=\"#000000\" fill-rule=\"evenodd\" fill-opacity=\"1\" /><path clip-path=\"url(#clip420)\" d=\"M146.366 199.129 L151.251 199.129 L151.251 205.008 L146.366 205.008 L146.366 199.129 Z\" fill=\"#000000\" fill-rule=\"evenodd\" fill-opacity=\"1\" /><path clip-path=\"url(#clip420)\" d=\"M171.436 173.527 Q167.825 173.527 165.996 177.092 Q164.19 180.633 164.19 187.763 Q164.19 194.869 165.996 198.434 Q167.825 201.976 171.436 201.976 Q175.07 201.976 176.876 198.434 Q178.704 194.869 178.704 187.763 Q178.704 180.633 176.876 177.092 Q175.07 173.527 171.436 173.527 M171.436 169.823 Q177.246 169.823 180.301 174.43 Q183.38 179.013 183.38 187.763 Q183.38 196.49 180.301 201.096 Q177.246 205.68 171.436 205.68 Q165.626 205.68 162.547 201.096 Q159.491 196.49 159.491 187.763 Q159.491 179.013 162.547 174.43 Q165.626 169.823 171.436 169.823 Z\" fill=\"#000000\" fill-rule=\"evenodd\" fill-opacity=\"1\" /><path clip-path=\"url(#clip420)\" d=\"M28.3562 748.723 L28.3562 720.905 L33.7034 720.905 L59.3254 742.93 L59.3254 720.905 L64.0042 720.905 L64.0042 749.519 L58.657 749.519 L33.035 727.494 L33.035 748.723 L28.3562 748.723 Z\" fill=\"#000000\" fill-rule=\"evenodd\" fill-opacity=\"1\" /><polyline clip-path=\"url(#clip422)\" style=\"stroke:#009af9; stroke-linecap:butt; stroke-linejoin:round; stroke-width:4; stroke-opacity:1; fill:none\" points=\"\n",
       "  279.764,696.109 279.759,698.38 279.805,703.607 280.45,708.443 282.891,710.028 288.476,706.904 298.191,698.831 312.469,686.245 331.261,669.83 354.203,650.296 \n",
       "  380.77,628.303 410.393,604.441 442.541,579.224 476.756,553.071 512.674,526.301 550.02,499.111 588.593,471.572 628.249,443.623 668.873,415.056 710.341,385.482 \n",
       "  752.424,354.194 794.513,320.718 835.665,285.278 874.939,248.638 911.61,212.022 945.207,176.885 975.44,144.812 1002.17,117.583 1025.49,97.2719 1045.93,86.1857 \n",
       "  1064.63,86.5057 1083.24,98.4643 1103.19,120.161 1125.15,149.405 1149.34,184.329 1175.83,223.558 1204.8,265.94 1236.53,310.133 1271.18,354.403 1308.54,396.826 \n",
       "  1348.05,435.7 1389.07,470.465 1431.22,501.483 1474.31,529.105 1518.26,553.651 1562.99,575.41 1608.44,594.642 1654.57,611.587 1701.32,626.461 1748.62,639.459 \n",
       "  1796.44,650.757 1844.72,660.513 1893.42,668.868 1942.47,675.946 1991.85,681.857 2041.49,686.697 2091.37,690.546 2141.43,693.474 2191.65,695.535 2241.97,696.775 \n",
       "  2292.38,697.225 \n",
       "  \"/>\n",
       "<polyline clip-path=\"url(#clip422)\" style=\"stroke:#e26f46; stroke-linecap:butt; stroke-linejoin:round; stroke-width:4; stroke-opacity:1; fill:none\" points=\"\n",
       "  279.764,696.109 279.759,698.38 280.051,703.166 280.936,708.618 285.613,713.446 293.825,712.582 306.426,707.342 323.325,698.315 344.561,686.136 370.251,669.709 \n",
       "  399.069,648.954 429.954,627.622 463.031,607.117 499.042,584.476 536.899,561.667 574.603,539.387 613.593,515.403 654.698,490.012 695.935,462.013 738.891,432.643 \n",
       "  782.22,401.56 824.777,368.987 864.718,334.242 901.171,297.651 933.472,260.812 962.628,226.344 989.868,196.835 1013.75,170.547 1036.51,152.114 1056.32,142.827 \n",
       "  1075.37,144.416 1094.65,156.396 1115.42,176.832 1139.32,202.669 1165.19,234.735 1193.87,270.866 1222.98,312.546 1254.18,354.972 1288.19,398.228 1324.59,439.298 \n",
       "  1363.68,478.076 1404.52,514.06 1445.5,547.079 1487.99,578.706 1530.1,608.86 1571.98,632.81 1615.39,651.838 1658.85,666.73 1704.06,676.604 1749.83,686.264 \n",
       "  1795.58,694.986 1841.73,701.105 1888.21,705.644 1934.8,710.327 1982,713.935 2030.35,717.289 2079.35,719.806 2129.38,722.655 2179.72,723.203 2230.61,724.339 \n",
       "  2282.79,724.269 \n",
       "  \"/>\n",
       "<polyline clip-path=\"url(#clip422)\" style=\"stroke:#3da44d; stroke-linecap:butt; stroke-linejoin:round; stroke-width:4; stroke-opacity:1; fill:none\" points=\"\n",
       "  279.764,696.109 279.759,698.38 280.054,703.121 280.937,708.536 285.537,713.576 293.639,713.159 306.265,708.468 323.434,700.179 345.239,689.053 371.867,673.96 \n",
       "  402.054,654.694 434.651,635.079 469.602,616.759 507.612,596.741 547.604,576.884 587.46,558.204 628.549,538.699 671.757,518.482 715.15,496.175 760.342,472.891 \n",
       "  806.002,448.322 851.033,423.032 893.72,396.538 933.205,368.845 968.514,341.034 1000.26,315.591 1029.65,295.342 1055.29,278.895 1079.64,271.061 1101.17,273.253 \n",
       "  1122.3,287.325 1144.23,312.526 1168.25,346.572 1195.94,386.128 1226.19,431.925 1260.08,481.689 1295.13,536.548 1332.44,591.482 1372.28,646.614 1413.94,699.106 \n",
       "  1457.46,749.15 1501.82,796.644 1545.37,841.886 1589.45,886.927 1632.13,932.253 1673.52,973.208 1715.43,1010.57 1756.34,1044.73 1797.95,1074.25 1839.04,1103.69 \n",
       "  1878.96,1132.65 1918.06,1159.47 1956.31,1185.02 1993.38,1211.16 2029.75,1236.81 2065.96,1262.64 2101.54,1287.95 2136.93,1313.86 2171.52,1337.47 2205.62,1361.62 \n",
       "  2240.06,1384.24 \n",
       "  \"/>\n",
       "<path clip-path=\"url(#clip420)\" d=\"\n",
       "M1932.94 300.469 L2281.64 300.469 L2281.64 93.1086 L1932.94 93.1086  Z\n",
       "  \" fill=\"#ffffff\" fill-rule=\"evenodd\" fill-opacity=\"1\"/>\n",
       "<polyline clip-path=\"url(#clip420)\" style=\"stroke:#000000; stroke-linecap:butt; stroke-linejoin:round; stroke-width:4; stroke-opacity:1; fill:none\" points=\"\n",
       "  1932.94,300.469 2281.64,300.469 2281.64,93.1086 1932.94,93.1086 1932.94,300.469 \n",
       "  \"/>\n",
       "<polyline clip-path=\"url(#clip420)\" style=\"stroke:#009af9; stroke-linecap:butt; stroke-linejoin:round; stroke-width:4; stroke-opacity:1; fill:none\" points=\"\n",
       "  1956.64,144.949 2098.86,144.949 \n",
       "  \"/>\n",
       "<path clip-path=\"url(#clip420)\" d=\"M2137.75 140.284 Q2137.04 139.868 2136.18 139.682 Q2135.35 139.474 2134.33 139.474 Q2130.72 139.474 2128.77 141.835 Q2126.85 144.173 2126.85 148.571 L2126.85 162.229 L2122.57 162.229 L2122.57 136.303 L2126.85 136.303 L2126.85 140.331 Q2128.19 137.969 2130.35 136.835 Q2132.5 135.678 2135.58 135.678 Q2136.02 135.678 2136.55 135.747 Q2137.08 135.794 2137.73 135.909 L2137.75 140.284 Z\" fill=\"#000000\" fill-rule=\"evenodd\" fill-opacity=\"1\" /><path clip-path=\"url(#clip420)\" d=\"M2163.36 148.201 L2163.36 150.284 L2143.77 150.284 Q2144.05 154.682 2146.41 156.997 Q2148.8 159.289 2153.03 159.289 Q2155.49 159.289 2157.78 158.687 Q2160.09 158.085 2162.36 156.881 L2162.36 160.909 Q2160.07 161.881 2157.66 162.391 Q2155.25 162.9 2152.78 162.9 Q2146.57 162.9 2142.94 159.289 Q2139.33 155.678 2139.33 149.52 Q2139.33 143.155 2142.75 139.428 Q2146.2 135.678 2152.04 135.678 Q2157.27 135.678 2160.3 139.057 Q2163.36 142.414 2163.36 148.201 M2159.1 146.951 Q2159.05 143.456 2157.13 141.372 Q2155.23 139.289 2152.08 139.289 Q2148.52 139.289 2146.37 141.303 Q2144.24 143.317 2143.91 146.974 L2159.1 146.951 Z\" fill=\"#000000\" fill-rule=\"evenodd\" fill-opacity=\"1\" /><path clip-path=\"url(#clip420)\" d=\"M2183.47 126.21 L2183.47 129.752 L2179.4 129.752 Q2177.11 129.752 2176.2 130.678 Q2175.32 131.604 2175.32 134.011 L2175.32 136.303 L2182.34 136.303 L2182.34 139.613 L2175.32 139.613 L2175.32 162.229 L2171.04 162.229 L2171.04 139.613 L2166.97 139.613 L2166.97 136.303 L2171.04 136.303 L2171.04 134.497 Q2171.04 130.169 2173.05 128.201 Q2175.07 126.21 2179.44 126.21 L2183.47 126.21 Z\" fill=\"#000000\" fill-rule=\"evenodd\" fill-opacity=\"1\" /><polyline clip-path=\"url(#clip420)\" style=\"stroke:#e26f46; stroke-linecap:butt; stroke-linejoin:round; stroke-width:4; stroke-opacity:1; fill:none\" points=\"\n",
       "  1956.64,196.789 2098.86,196.789 \n",
       "  \"/>\n",
       "<path clip-path=\"url(#clip420)\" d=\"M2122.57 178.05 L2126.83 178.05 L2126.83 214.069 L2122.57 214.069 L2122.57 178.05 Z\" fill=\"#000000\" fill-rule=\"evenodd\" fill-opacity=\"1\" /><path clip-path=\"url(#clip420)\" d=\"M2138.29 201.129 Q2138.29 205.828 2140.21 208.513 Q2142.15 211.175 2145.53 211.175 Q2148.91 211.175 2150.86 208.513 Q2152.8 205.828 2152.8 201.129 Q2152.8 196.43 2150.86 193.768 Q2148.91 191.083 2145.53 191.083 Q2142.15 191.083 2140.21 193.768 Q2138.29 196.43 2138.29 201.129 M2152.8 210.18 Q2151.46 212.495 2149.4 213.629 Q2147.36 214.74 2144.49 214.74 Q2139.79 214.74 2136.83 210.99 Q2133.89 207.24 2133.89 201.129 Q2133.89 195.018 2136.83 191.268 Q2139.79 187.518 2144.49 187.518 Q2147.36 187.518 2149.4 188.652 Q2151.46 189.763 2152.8 192.078 L2152.8 188.143 L2157.06 188.143 L2157.06 223.93 L2152.8 223.93 L2152.8 210.18 Z\" fill=\"#000000\" fill-rule=\"evenodd\" fill-opacity=\"1\" /><path clip-path=\"url(#clip420)\" d=\"M2180.86 192.124 Q2180.14 191.708 2179.28 191.522 Q2178.45 191.314 2177.43 191.314 Q2173.82 191.314 2171.87 193.675 Q2169.95 196.013 2169.95 200.411 L2169.95 214.069 L2165.67 214.069 L2165.67 188.143 L2169.95 188.143 L2169.95 192.171 Q2171.3 189.809 2173.45 188.675 Q2175.6 187.518 2178.68 187.518 Q2179.12 187.518 2179.65 187.587 Q2180.18 187.634 2180.83 187.749 L2180.86 192.124 Z\" fill=\"#000000\" fill-rule=\"evenodd\" fill-opacity=\"1\" /><polyline clip-path=\"url(#clip420)\" style=\"stroke:#3da44d; stroke-linecap:butt; stroke-linejoin:round; stroke-width:4; stroke-opacity:1; fill:none\" points=\"\n",
       "  1956.64,248.629 2098.86,248.629 \n",
       "  \"/>\n",
       "<path clip-path=\"url(#clip420)\" d=\"M2134.47 242.969 Q2131.04 242.969 2129.05 245.654 Q2127.06 248.316 2127.06 252.969 Q2127.06 257.622 2129.03 260.307 Q2131.02 262.969 2134.47 262.969 Q2137.87 262.969 2139.86 260.284 Q2141.85 257.598 2141.85 252.969 Q2141.85 248.362 2139.86 245.677 Q2137.87 242.969 2134.47 242.969 M2134.47 239.358 Q2140.02 239.358 2143.19 242.969 Q2146.37 246.58 2146.37 252.969 Q2146.37 259.335 2143.19 262.969 Q2140.02 266.58 2134.47 266.58 Q2128.89 266.58 2125.72 262.969 Q2122.57 259.335 2122.57 252.969 Q2122.57 246.58 2125.72 242.969 Q2128.89 239.358 2134.47 239.358 Z\" fill=\"#000000\" fill-rule=\"evenodd\" fill-opacity=\"1\" /><path clip-path=\"url(#clip420)\" d=\"M2157.55 262.02 L2157.55 275.77 L2153.26 275.77 L2153.26 239.983 L2157.55 239.983 L2157.55 243.918 Q2158.89 241.603 2160.93 240.492 Q2162.99 239.358 2165.83 239.358 Q2170.55 239.358 2173.49 243.108 Q2176.46 246.858 2176.46 252.969 Q2176.46 259.08 2173.49 262.83 Q2170.55 266.58 2165.83 266.58 Q2162.99 266.58 2160.93 265.469 Q2158.89 264.335 2157.55 262.02 M2172.04 252.969 Q2172.04 248.27 2170.09 245.608 Q2168.17 242.923 2164.79 242.923 Q2161.41 242.923 2159.47 245.608 Q2157.55 248.27 2157.55 252.969 Q2157.55 257.668 2159.47 260.353 Q2161.41 263.015 2164.79 263.015 Q2168.17 263.015 2170.09 260.353 Q2172.04 257.668 2172.04 252.969 Z\" fill=\"#000000\" fill-rule=\"evenodd\" fill-opacity=\"1\" /><path clip-path=\"url(#clip420)\" d=\"M2205.69 251.881 L2205.69 253.964 L2186.11 253.964 Q2186.39 258.362 2188.75 260.677 Q2191.13 262.969 2195.37 262.969 Q2197.82 262.969 2200.11 262.367 Q2202.43 261.765 2204.7 260.561 L2204.7 264.589 Q2202.41 265.561 2200 266.071 Q2197.59 266.58 2195.11 266.58 Q2188.91 266.58 2185.28 262.969 Q2181.67 259.358 2181.67 253.2 Q2181.67 246.835 2185.09 243.108 Q2188.54 239.358 2194.37 239.358 Q2199.61 239.358 2202.64 242.737 Q2205.69 246.094 2205.69 251.881 M2201.43 250.631 Q2201.39 247.136 2199.47 245.052 Q2197.57 242.969 2194.42 242.969 Q2190.86 242.969 2188.7 244.983 Q2186.57 246.997 2186.25 250.654 L2201.43 250.631 Z\" fill=\"#000000\" fill-rule=\"evenodd\" fill-opacity=\"1\" /><path clip-path=\"url(#clip420)\" d=\"M2234.24 250.261 L2234.24 265.909 L2229.98 265.909 L2229.98 250.399 Q2229.98 246.719 2228.54 244.89 Q2227.11 243.062 2224.24 243.062 Q2220.79 243.062 2218.8 245.261 Q2216.8 247.46 2216.8 251.256 L2216.8 265.909 L2212.52 265.909 L2212.52 239.983 L2216.8 239.983 L2216.8 244.011 Q2218.33 241.673 2220.39 240.515 Q2222.48 239.358 2225.18 239.358 Q2229.65 239.358 2231.94 242.136 Q2234.24 244.89 2234.24 250.261 Z\" fill=\"#000000\" fill-rule=\"evenodd\" fill-opacity=\"1\" /></svg>\n"
      ]
     },
     "execution_count": 29,
     "metadata": {},
     "output_type": "execute_result"
    }
   ],
   "source": [
    "# Plot the trajectories\n",
    "Xflip = SVector{nx}.(Xflip)\n",
    "Xlqr = SVector{nx}.(Xlqr)\n",
    "Xopen = SVector{nx}.(Xopen)\n",
    "traj2(Xflip, label=\"ref\")\n",
    "traj2!(Xlqr, label=\"lqr\")\n",
    "traj2!(Xopen, label=\"open\", ylabel=\"z\")"
   ]
  },
  {
   "cell_type": "code",
   "execution_count": 33,
   "metadata": {},
   "outputs": [
    {
     "name": "stdout",
     "output_type": "stream",
     "text": [
      "\u001b[0m\u001b[1mTest Summary:            | \u001b[22m\u001b[32m\u001b[1mPass  \u001b[22m\u001b[39m\u001b[36m\u001b[1mTotal\u001b[22m\u001b[39m\n",
      "open loop vs closed loop | \u001b[32m   2  \u001b[39m\u001b[36m    2\u001b[39m\n"
     ]
    },
    {
     "data": {
      "text/plain": [
       "Test.DefaultTestSet(\"open loop vs closed loop\", Any[], 2, false, false)"
      ]
     },
     "execution_count": 33,
     "metadata": {},
     "output_type": "execute_result"
    }
   ],
   "source": [
    "@testset \"open loop vs closed loop\" begin \n",
    "    @test norm(Xflip[end][1:2] - Xlqr[end][1:2]) < 0.5\n",
    "    @test norm(Xflip[end][1:2] - Xlqr[end][1:2]) > 0.0\n",
    "    @test norm(Xflip[end] - Xlqr[end]) < norm(Xflip[end] - Xopen[end])\n",
    "    @test norm(Xopen[end][1:2] - Xopen[end][1:2]) > 0.0\n",
    "end"
   ]
  }
 ],
 "metadata": {
  "@webio": {
   "lastCommId": null,
   "lastKernelId": null
  },
  "kernelspec": {
   "display_name": "Julia 1.6.5",
   "language": "julia",
   "name": "julia-1.6"
  },
  "language_info": {
   "file_extension": ".jl",
   "mimetype": "application/julia",
   "name": "julia",
   "version": "1.6.5"
  }
 },
 "nbformat": 4,
 "nbformat_minor": 4
}
