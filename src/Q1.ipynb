{
 "cells": [
  {
   "cell_type": "code",
   "execution_count": 1,
   "metadata": {},
   "outputs": [
    {
     "name": "stderr",
     "output_type": "stream",
     "text": [
      "\u001b[32m\u001b[1m  Activating\u001b[22m\u001b[39m environment at `~/Classes/16745_OptimalControl/hw3_solutions/Project.toml`\n"
     ]
    }
   ],
   "source": [
    "import Pkg; Pkg.activate(joinpath(@__DIR__,\"..\")); \n",
    "Pkg.instantiate()\n",
    "using ForwardDiff\n",
    "using Test\n",
    "using RobotZoo: PlanarQuadrotor\n",
    "using RobotDynamics\n",
    "using LinearAlgebra\n",
    "using StaticArrays\n",
    "using Statistics\n",
    "using Plots\n",
    "using Printf\n",
    "using JLD2\n",
    "const jldir = joinpath(dirname(@__DIR__),\"test\")\n",
    "\n",
    "const FD = ForwardDiff;\n",
    "\n",
    "# test_dict = Dict()\n",
    "test_dict = load(joinpath(jldir,\"q1.jld2\"))\n",
    "\n",
    "const isautograder = @isdefined autograder\n",
    "\n",
    "include(\"quadrotor.jl\");"
   ]
  },
  {
   "cell_type": "markdown",
   "metadata": {},
   "source": [
    "# Question 1: Iterative LQR (50 pts)\n",
    "In this problem you'll implement iterative LQR (ilQR), the Gauss-Newton approximation of differential dynamic programming (DDP). You'll use it to generate trajectories for a planar quadrotor, including a flip. In the last part of the problem, you'll track the trajectory to make it robust to wind.\n",
    "\n",
    "## The Model\n",
    "We'll be using the same planar quadrotor model we saw in class. The dynamics are fairly simple:\n",
    "\n",
    "$$ \n",
    "x = \\begin{bmatrix} p_x \\\\ p_z \\\\ \\theta \\\\ v_x \\\\ v_z \\\\ \\omega \\end{bmatrix}, \\quad\n",
    "\\dot{x} = \\begin{bmatrix} v_x \\\\ v_z \\\\ \\omega \\\\ \n",
    "\\frac{1}{m} (u_1 + u_2) \\sin{\\theta} \\\\\n",
    "\\frac{1}{m} (u_1 + u_2) \\cos{\\theta} - g \\\\\n",
    "\\frac{l}{J} (u_2 - u_1) \n",
    "\\end{bmatrix}\n",
    "$$\n",
    "with the following model parameters:\n",
    "* $m$: mass (kg)\n",
    "* $J$: moment of inertia\n",
    "* $l$: distance between motors"
   ]
  },
  {
   "cell_type": "code",
   "execution_count": 2,
   "metadata": {},
   "outputs": [
    {
     "data": {
      "text/plain": [
       "61"
      ]
     },
     "execution_count": 2,
     "metadata": {},
     "output_type": "execute_result"
    }
   ],
   "source": [
    "model = PlanarQuadrotor()\n",
    "const x0    = [-3, 1.0, 0, 0, 0, 0]                    # initial state\n",
    "const xgoal = [+3, 1.0, 0, 0, 0, 0]                    # goal state\n",
    "const nx = 6 \n",
    "const nu = 2\n",
    "const uhover = fill(0.5*1.0 * 9.81, nu) \n",
    "\n",
    "const Q = Diagonal(([ones(3) ; fill(0.1, 3)]))\n",
    "const R = Diagonal(fill(1e-2, nu))\n",
    "const Qf = Diagonal(fill(1e2, nx));\n",
    "\n",
    "const dt = 0.025 \n",
    "const N = 61"
   ]
  },
  {
   "cell_type": "markdown",
   "metadata": {},
   "source": [
    "Use these functions to evaluate the continuous and discrete dynamics, as well as the discrete dynamics Jacobians."
   ]
  },
  {
   "cell_type": "code",
   "execution_count": 3,
   "metadata": {},
   "outputs": [
    {
     "data": {
      "text/plain": [
       "dynamics_jacobians"
      ]
     },
     "execution_count": 3,
     "metadata": {},
     "output_type": "execute_result"
    }
   ],
   "source": [
    "\"\"\"\n",
    "Calculate the continuous time dynamics ẋ = f(x,u), x is a vector of length 6, u is a vector of length 2.\n",
    "\n",
    "returns ẋ\n",
    "\"\"\"\n",
    "\n",
    "function dynamics(x,u)\n",
    "    # planar quadrotor dynamics\n",
    "    \n",
    "    # parameters\n",
    "    mass = 1.0 \n",
    "    g = 9.81\n",
    "    ℓ = 0.3 \n",
    "    J = 0.2*mass*ℓ^2\n",
    "\n",
    "     # unpack state\n",
    "    px,pz,θ,vx,vz,ω = x    \n",
    "    return [vx,vz,ω,(1/mass)*(u[1] + u[2])*sin(θ), (1/mass)*(u[1] + u[2])*cos(θ) - g, (ℓ/(2*J))*(u[2]-u[1])]\n",
    "end\n",
    "\n",
    "\"\"\"\n",
    "Integrates the dynamics ODE 1 dt forward, x_{k+1} = rk4(x_k,u_k,dt).\n",
    "\n",
    "returns x_{k+1}\n",
    "\"\"\"\n",
    "function rk4(x,u,dt)\n",
    "    # rk4 for integration\n",
    "    k1 = dt*dynamics(x,u)\n",
    "    k2 = dt*dynamics(x + k1/2,u)\n",
    "    k3 = dt*dynamics(x + k2/2,u)\n",
    "    k4 = dt*dynamics(x + k3,u)\n",
    "    return x + (1/6)*(k1 + 2*k2 + 2*k3 + k4)\n",
    "end\n",
    "\n",
    "\"\"\"\n",
    "uses forward diff to get the following jacobians of the above discrete dynamics function (rk4):\n",
    "drk4/dx = A \n",
    "drk4/du = B\n",
    "\"\"\"\n",
    "function dynamics_jacobians(x,u,dt)\n",
    "    # returns the discrete time dynamics jacobians\n",
    "    A = FD.jacobian(_x -> rk4(_x,u,dt),x)\n",
    "    B = FD.jacobian(_u -> rk4(x,_u,dt),u)\n",
    "    return A,B\n",
    "end"
   ]
  },
  {
   "cell_type": "markdown",
   "metadata": {},
   "source": [
    "# Part (a): Implement iLQR (30 pts)"
   ]
  },
  {
   "cell_type": "markdown",
   "metadata": {},
   "source": [
    "## LQR Cost Function (5 pts)\n",
    "Here you will create functions for calculating the costs of states/controls as well as whole trajectories. \n",
    "\n",
    "The objective / cost function for our optimization problem is of the following form:\n",
    "\n",
    "$$\\ell(x_{1:N}, u_{1:N-1}) = J_N(x_N) + \\sum_{i=1}^{N-1} J(x_k,u_k) $$\n",
    "\n",
    "Where the *stage cost* $J(x_k,u_k)$ is defined as:\n",
    "\n",
    "$$J(x,u) = \\frac{1}{2}(x - x_{ref})^TQ(x - x_{ref}) + \\frac{1}{2}(u -u_{ref})^TR(u-u_{ref})$$\n",
    "\n",
    "And the *terminal cost* is\n",
    "\n",
    "$$J_N(x) = \\frac{1}{2}(x - x_{ref})^TQ_f(x - x_{ref})$$\n",
    "\n",
    "These cost functions penalize distance from a given reference trajectory. Quadratic cost functions of this form are often referred to as LQR costs."
   ]
  },
  {
   "cell_type": "code",
   "execution_count": 4,
   "metadata": {},
   "outputs": [
    {
     "data": {
      "text/plain": [
       "term_cost_expansion (generic function with 1 method)"
      ]
     },
     "execution_count": 4,
     "metadata": {},
     "output_type": "execute_result"
    }
   ],
   "source": [
    "# TASK: Fill out the following methods (10 pts)\n",
    "\n",
    "function stage_cost(x,u,xref,uref)\n",
    "    # LQR cost at each knot point (depends on both x and u)\n",
    "    J = 0.0\n",
    "    \n",
    "    return J\n",
    "end\n",
    "\n",
    "function term_cost(x,xref)\n",
    "    # LQR terminal cost (depends on just x)\n",
    "    J = 0.0 \n",
    "    \n",
    "    return J\n",
    "end\n",
    "\n",
    "function trajectory_cost(X,U,Xref,Uref)\n",
    "    # calculate the cost of a given trajectory \n",
    "    J = 0.0\n",
    "    \n",
    "    return J\n",
    "end\n",
    "        \n",
    "function stage_cost_expansion(x,u,xref,uref)\n",
    "    # if the stage cost function is J, return the following derivatives:\n",
    "    # ∇²ₓJ,  ∇ₓJ, ∇²ᵤJ, ∇ᵤJ\n",
    "    Jxx = zeros(nx,nx)\n",
    "    Jx = zeros(nx)\n",
    "    Juu = zeros(nu,nu)\n",
    "    Ju = zeros(nu)\n",
    "    \n",
    "    return Jxx, Jx, Juu, Ju\n",
    "end\n",
    "\n",
    "function term_cost_expansion(x,xref)\n",
    "    # if the terminal cost function is J, return the following derivatives:\n",
    "    # ∇²ₓJ,  ∇ₓJ\n",
    "    Jxx = zeros(nx,nx)\n",
    "    Jx = zeros(nx)\n",
    "    \n",
    "    return Jxx, Jx\n",
    "end"
   ]
  },
  {
   "cell_type": "code",
   "execution_count": 5,
   "metadata": {},
   "outputs": [
    {
     "name": "stdout",
     "output_type": "stream",
     "text": [
      "cost tests: \u001b[91m\u001b[1mTest Failed\u001b[22m\u001b[39m at \u001b[39m\u001b[1mIn[5]:15\u001b[22m\n",
      "  Expression: ≈(stage_cost(X[1], U[1], Xref[1], Uref[1]), test_dict[\"J1\"], atol = 1.0e-10)\n",
      "   Evaluated: 0.0 ≈ 18.0 (atol=1.0e-10)\n",
      "Stacktrace:\n",
      " [1] \u001b[0m\u001b[1mmacro expansion\u001b[22m\n",
      "\u001b[90m   @ \u001b[39m\u001b[90;4mIn[5]:15\u001b[0m\u001b[90m [inlined]\u001b[39m\n",
      " [2] \u001b[0m\u001b[1mmacro expansion\u001b[22m\n",
      "\u001b[90m   @ \u001b[39m\u001b[90m/buildworker/worker/package_linux64/build/usr/share/julia/stdlib/v1.6/Test/src/\u001b[39m\u001b[90;4mTest.jl:1151\u001b[0m\u001b[90m [inlined]\u001b[39m\n",
      " [3] top-level scope\n",
      "\u001b[90m   @ \u001b[39m\u001b[90;4mIn[5]:4\u001b[0m\n",
      "cost tests: \u001b[91m\u001b[1mTest Failed\u001b[22m\u001b[39m at \u001b[39m\u001b[1mIn[5]:16\u001b[22m\n",
      "  Expression: ≈(term_cost(X[N], Xref[N]), test_dict[\"J2\"], atol = 1.0e-10)\n",
      "   Evaluated: 0.0 ≈ 1800.0 (atol=1.0e-10)\n",
      "Stacktrace:\n",
      " [1] \u001b[0m\u001b[1mmacro expansion\u001b[22m\n",
      "\u001b[90m   @ \u001b[39m\u001b[90;4mIn[5]:16\u001b[0m\u001b[90m [inlined]\u001b[39m\n",
      " [2] \u001b[0m\u001b[1mmacro expansion\u001b[22m\n",
      "\u001b[90m   @ \u001b[39m\u001b[90m/buildworker/worker/package_linux64/build/usr/share/julia/stdlib/v1.6/Test/src/\u001b[39m\u001b[90;4mTest.jl:1151\u001b[0m\u001b[90m [inlined]\u001b[39m\n",
      " [3] top-level scope\n",
      "\u001b[90m   @ \u001b[39m\u001b[90;4mIn[5]:4\u001b[0m\n",
      "cost tests: \u001b[91m\u001b[1mTest Failed\u001b[22m\u001b[39m at \u001b[39m\u001b[1mIn[5]:17\u001b[22m\n",
      "  Expression: ≈(trajectory_cost(X, U, Xref, Uref), test_dict[\"J3\"], atol = 1.0e-8)\n",
      "   Evaluated: 0.0 ≈ 2880.0 (atol=1.0e-8)\n",
      "Stacktrace:\n",
      " [1] \u001b[0m\u001b[1mmacro expansion\u001b[22m\n",
      "\u001b[90m   @ \u001b[39m\u001b[90;4mIn[5]:17\u001b[0m\u001b[90m [inlined]\u001b[39m\n",
      " [2] \u001b[0m\u001b[1mmacro expansion\u001b[22m\n",
      "\u001b[90m   @ \u001b[39m\u001b[90m/buildworker/worker/package_linux64/build/usr/share/julia/stdlib/v1.6/Test/src/\u001b[39m\u001b[90;4mTest.jl:1151\u001b[0m\u001b[90m [inlined]\u001b[39m\n",
      " [3] top-level scope\n",
      "\u001b[90m   @ \u001b[39m\u001b[90;4mIn[5]:4\u001b[0m\n",
      "cost tests: \u001b[91m\u001b[1mTest Failed\u001b[22m\u001b[39m at \u001b[39m\u001b[1mIn[5]:22\u001b[22m\n",
      "  Expression: ≈(vec(Jxx), vec(test_dict[\"Jxx\"]), atol = 1.0e-10)\n",
      "   Evaluated: [0.0, 0.0, 0.0, 0.0, 0.0, 0.0, 0.0, 0.0, 0.0, 0.0  …  0.0, 0.0, 0.0, 0.0, 0.0, 0.0, 0.0, 0.0, 0.0, 0.0] ≈ [1.0, 0.0, 0.0, 0.0, 0.0, 0.0, 0.0, 1.0, 0.0, 0.0  …  0.0, 0.0, 0.1, 0.0, 0.0, 0.0, 0.0, 0.0, 0.0, 0.1] (atol=1.0e-10)\n",
      "Stacktrace:\n",
      " [1] \u001b[0m\u001b[1mmacro expansion\u001b[22m\n",
      "\u001b[90m   @ \u001b[39m\u001b[90;4mIn[5]:22\u001b[0m\u001b[90m [inlined]\u001b[39m\n",
      " [2] \u001b[0m\u001b[1mmacro expansion\u001b[22m\n",
      "\u001b[90m   @ \u001b[39m\u001b[90m/buildworker/worker/package_linux64/build/usr/share/julia/stdlib/v1.6/Test/src/\u001b[39m\u001b[90;4mTest.jl:1151\u001b[0m\u001b[90m [inlined]\u001b[39m\n",
      " [3] top-level scope\n",
      "\u001b[90m   @ \u001b[39m\u001b[90;4mIn[5]:4\u001b[0m\n",
      "cost tests: \u001b[91m\u001b[1mTest Failed\u001b[22m\u001b[39m at \u001b[39m\u001b[1mIn[5]:23\u001b[22m\n",
      "  Expression: ≈(Jx, test_dict[\"Jx\"], atol = 1.0e-8)\n",
      "   Evaluated: [0.0, 0.0, 0.0, 0.0, 0.0, 0.0] ≈ [-6.0, 0.0, 0.0, 0.0, 0.0, 0.0] (atol=1.0e-8)\n",
      "Stacktrace:\n",
      " [1] \u001b[0m\u001b[1mmacro expansion\u001b[22m\n",
      "\u001b[90m   @ \u001b[39m\u001b[90;4mIn[5]:23\u001b[0m\u001b[90m [inlined]\u001b[39m\n",
      " [2] \u001b[0m\u001b[1mmacro expansion\u001b[22m\n",
      "\u001b[90m   @ \u001b[39m\u001b[90m/buildworker/worker/package_linux64/build/usr/share/julia/stdlib/v1.6/Test/src/\u001b[39m\u001b[90;4mTest.jl:1151\u001b[0m\u001b[90m [inlined]\u001b[39m\n",
      " [3] top-level scope\n",
      "\u001b[90m   @ \u001b[39m\u001b[90;4mIn[5]:4\u001b[0m\n",
      "cost tests: \u001b[91m\u001b[1mTest Failed\u001b[22m\u001b[39m at \u001b[39m\u001b[1mIn[5]:24\u001b[22m\n",
      "  Expression: ≈(vec(Juu), vec(0.01 * I(nu)), atol = 1.0e-8)\n",
      "   Evaluated: [0.0, 0.0, 0.0, 0.0] ≈ [0.01, 0.0, 0.0, 0.01] (atol=1.0e-8)\n",
      "Stacktrace:\n",
      " [1] \u001b[0m\u001b[1mmacro expansion\u001b[22m\n",
      "\u001b[90m   @ \u001b[39m\u001b[90;4mIn[5]:24\u001b[0m\u001b[90m [inlined]\u001b[39m\n",
      " [2] \u001b[0m\u001b[1mmacro expansion\u001b[22m\n",
      "\u001b[90m   @ \u001b[39m\u001b[90m/buildworker/worker/package_linux64/build/usr/share/julia/stdlib/v1.6/Test/src/\u001b[39m\u001b[90;4mTest.jl:1151\u001b[0m\u001b[90m [inlined]\u001b[39m\n",
      " [3] top-level scope\n",
      "\u001b[90m   @ \u001b[39m\u001b[90;4mIn[5]:4\u001b[0m\n",
      "cost tests: \u001b[91m\u001b[1mTest Failed\u001b[22m\u001b[39m at \u001b[39m\u001b[1mIn[5]:29\u001b[22m\n",
      "  Expression: ≈(vec(Jxx2), vec(test_dict[\"Jxx2\"]), atol = 1.0e-8)\n",
      "   Evaluated: [0.0, 0.0, 0.0, 0.0, 0.0, 0.0, 0.0, 0.0, 0.0, 0.0  …  0.0, 0.0, 0.0, 0.0, 0.0, 0.0, 0.0, 0.0, 0.0, 0.0] ≈ [100.0, 0.0, 0.0, 0.0, 0.0, 0.0, 0.0, 100.0, 0.0, 0.0  …  0.0, 0.0, 100.0, 0.0, 0.0, 0.0, 0.0, 0.0, 0.0, 100.0] (atol=1.0e-8)\n",
      "Stacktrace:\n",
      " [1] \u001b[0m\u001b[1mmacro expansion\u001b[22m\n",
      "\u001b[90m   @ \u001b[39m\u001b[90;4mIn[5]:29\u001b[0m\u001b[90m [inlined]\u001b[39m\n",
      " [2] \u001b[0m\u001b[1mmacro expansion\u001b[22m\n",
      "\u001b[90m   @ \u001b[39m\u001b[90m/buildworker/worker/package_linux64/build/usr/share/julia/stdlib/v1.6/Test/src/\u001b[39m\u001b[90;4mTest.jl:1151\u001b[0m\u001b[90m [inlined]\u001b[39m\n",
      " [3] top-level scope\n",
      "\u001b[90m   @ \u001b[39m\u001b[90;4mIn[5]:4\u001b[0m\n",
      "cost tests: \u001b[91m\u001b[1mTest Failed\u001b[22m\u001b[39m at \u001b[39m\u001b[1mIn[5]:30\u001b[22m\n",
      "  Expression: ≈(Jx2, vec(test_dict[\"Jx2\"]), atol = 1.0e-8)\n",
      "   Evaluated: [0.0, 0.0, 0.0, 0.0, 0.0, 0.0] ≈ [-600.0, 0.0, 0.0, 0.0, 0.0, 0.0] (atol=1.0e-8)\n",
      "Stacktrace:\n",
      " [1] \u001b[0m\u001b[1mmacro expansion\u001b[22m\n",
      "\u001b[90m   @ \u001b[39m\u001b[90;4mIn[5]:30\u001b[0m\u001b[90m [inlined]\u001b[39m\n",
      " [2] \u001b[0m\u001b[1mmacro expansion\u001b[22m\n",
      "\u001b[90m   @ \u001b[39m\u001b[90m/buildworker/worker/package_linux64/build/usr/share/julia/stdlib/v1.6/Test/src/\u001b[39m\u001b[90;4mTest.jl:1151\u001b[0m\u001b[90m [inlined]\u001b[39m\n",
      " [3] top-level scope\n",
      "\u001b[90m   @ \u001b[39m\u001b[90;4mIn[5]:4\u001b[0m\n",
      "\u001b[0m\u001b[1mTest Summary: | \u001b[22m\u001b[32m\u001b[1mPass  \u001b[22m\u001b[39m\u001b[91m\u001b[1mFail  \u001b[22m\u001b[39m\u001b[36m\u001b[1mTotal\u001b[22m\u001b[39m\n",
      "cost tests    | \u001b[32m   1  \u001b[39m\u001b[91m   8  \u001b[39m\u001b[36m    9\u001b[39m\n"
     ]
    },
    {
     "ename": "LoadError",
     "evalue": "\u001b[91mSome tests did not pass: 1 passed, 8 failed, 0 errored, 0 broken.\u001b[39m",
     "output_type": "error",
     "traceback": [
      "\u001b[91mSome tests did not pass: 1 passed, 8 failed, 0 errored, 0 broken.\u001b[39m",
      "",
      "Stacktrace:",
      " [1] finish(ts::Test.DefaultTestSet)",
      "   @ Test /buildworker/worker/package_linux64/build/usr/share/julia/stdlib/v1.6/Test/src/Test.jl:913",
      " [2] macro expansion",
      "   @ /buildworker/worker/package_linux64/build/usr/share/julia/stdlib/v1.6/Test/src/Test.jl:1161 [inlined]",
      " [3] top-level scope",
      "   @ In[5]:4",
      " [4] eval",
      "   @ ./boot.jl:360 [inlined]",
      " [5] include_string(mapexpr::typeof(REPL.softscope), mod::Module, code::String, filename::String)",
      "   @ Base ./loading.jl:1116"
     ]
    }
   ],
   "source": [
    "using Random\n",
    "@testset \"cost tests\" begin                                                             # POINTS = 5\n",
    "\n",
    "    Xref = [copy(xgoal) for i = 1:N]\n",
    "    Uref = [copy(uhover) for i = 1:N-1]\n",
    "    \n",
    "    X = [copy(x0) for i = 1:N]\n",
    "    U = deepcopy(Uref)\n",
    "    \n",
    "    # costs \n",
    "    J1 = stage_cost(X[1],U[1],Xref[1],Uref[1])\n",
    "    J2 = term_cost(X[N],Xref[N])\n",
    "    J3 = trajectory_cost(X,U,Xref,Uref)\n",
    "    \n",
    "    @test stage_cost(X[1],U[1],Xref[1],Uref[1]) ≈  test_dict[\"J1\"] atol = 1e-10        # POINTS = 0.5\n",
    "    @test term_cost(X[N],Xref[N]) ≈ test_dict[\"J2\"]  atol = 1e-10                      # POINTS = 0.5\n",
    "    @test trajectory_cost(X,U,Xref,Uref) ≈ test_dict[\"J3\"] atol = 1e-8                 # POINTS = 0.5\n",
    "    \n",
    "    # cost derivatives\n",
    "    Jxx, Jx, Juu, Ju = stage_cost_expansion(X[4],U[4],Xref[4],Uref[4])                 # POINTS = 1\n",
    "    \n",
    "    @test vec(Jxx) ≈ vec(test_dict[\"Jxx\"]) atol =1e-10                                 # POINTS = 0.5\n",
    "    @test Jx ≈ test_dict[\"Jx\"] atol = 1e-8                                             # POINTS = 0.5\n",
    "    @test vec(Juu) ≈ vec(0.01*I(nu)) atol = 1e-8                                       # POINTS = 0.5\n",
    "    @test Ju ≈ test_dict[\"Ju\"] atol = 1e-8\n",
    "    \n",
    "    Jxx2, Jx2 = term_cost_expansion(X[8],Xref[8])\n",
    "    \n",
    "    @test vec(Jxx2) ≈ vec(test_dict[\"Jxx2\"]) atol = 1e-8                               # POINTS = 0.5\n",
    "    @test Jx2 ≈ vec(test_dict[\"Jx2\"]) atol = 1e-8;                                     # POINTS = 0.5\n",
    "\n",
    "end;"
   ]
  },
  {
   "cell_type": "markdown",
   "metadata": {},
   "source": [
    "## Backward Pass (10 pts)\n",
    "You will now implement the backwards pass of iLQR. Remember that iLQR has two parts, a backward pass and a forward pass.  The backward pass is where feedforward controls `d` and feedback gains `K` are solved for. \n",
    "\n",
    "Hint: initialize $\\Delta J$ as 0, and during each step of the backwards pass, add $g_u^Td_k$ to it. "
   ]
  },
  {
   "cell_type": "code",
   "execution_count": 48,
   "metadata": {},
   "outputs": [
    {
     "data": {
      "text/plain": [
       "backward_pass (generic function with 1 method)"
      ]
     },
     "execution_count": 48,
     "metadata": {},
     "output_type": "execute_result"
    }
   ],
   "source": [
    "\"\"\"\n",
    "backward pass for iLQR. Inputs are \n",
    "    X - current trajectory              Vector{Vector}\n",
    "    U - current control                 Vector{Vector}\n",
    "    Xref - trajectory we want to track  Vector{Vector}\n",
    "    Uref - control we want to track     Vector{Vector}\n",
    "\n",
    "We will perform the backwards recursion without any regularization. Store the expected cost \n",
    "decrease in ΔJ and return the following \n",
    "    d - feedforward control             Vector{Vector}\n",
    "    K - feedback gain matrices          Vector{Matrix}\n",
    "    P - cost to go quadratic term       Vector{Matrix}\n",
    "    ΔJ - expected cost decrease         Float\n",
    "\"\"\"\n",
    "\n",
    "function backward_pass(X,U,Xref,Uref)\n",
    "\n",
    "    # allocate all our data\n",
    "    P = [zeros(nx,nx) for i = 1:N]     # cost to go quadratic term\n",
    "    p = [zeros(nx) for i = 1:N]        # cost to go linear term \n",
    "    d = [zeros(nu)*NaN for i = 1:N-1]  # feedforward control\n",
    "    K = [zeros(nu,nx) for i = 1:N-1]   # feedback gain\n",
    "    ΔJ = NaN                           # expected cost decrease\n",
    "    \n",
    "    return d, K, P, ΔJ\n",
    "end"
   ]
  },
  {
   "cell_type": "code",
   "execution_count": 26,
   "metadata": {},
   "outputs": [
    {
     "name": "stdout",
     "output_type": "stream",
     "text": [
      "backward pass: \u001b[91m\u001b[1mTest Failed\u001b[22m\u001b[39m at \u001b[39m\u001b[1mIn[26]:10\u001b[22m\n",
      "  Expression: ≈(d, test_dict[\"d\"], atol = 1.0e-6)\n",
      "   Evaluated: [[0.0, 0.0], [0.0, 0.0], [0.0, 0.0], [0.0, 0.0], [0.0, 0.0], [0.0, 0.0], [0.0, 0.0], [0.0, 0.0], [0.0, 0.0], [0.0, 0.0]  …  [0.0, 0.0], [0.0, 0.0], [0.0, 0.0], [0.0, 0.0], [0.0, 0.0], [0.0, 0.0], [0.0, 0.0], [0.0, 0.0], [0.0, 0.0], [0.0, 0.0]] ≈ [[26.960963421436393, -26.960965259570152], [27.292382823477517, -27.292384228113573], [27.659827118342697, -27.659828192964863], [28.065852669639007, -28.065853493225234], [28.513034981159393, -28.513035613886622], [29.003939359943104, -29.00393984758843], [29.541084151408036, -29.541084528739617], [30.126894882756783, -30.12689517614206], [30.76364734329729, -30.763647572706144], [31.453397304254445, -31.453397484794568]  …  [13.316362609268298, -13.316362609270874], [11.479666513922316, -11.479666513923947], [9.65271229599513, -9.652712295996151], [7.797929634992102, -7.797929634992723], [5.918558882245144, -5.918558882245498], [4.091659973416608, -4.0916599734167844], [2.463458306292212, -2.463458306292283], [1.1786895208909502, -1.1786895208909685], [0.3247809285350677, -0.3247809285350677], [9.184849329408552e-5, -9.18484932940858e-5]] (atol=1.0e-6)\n",
      "Stacktrace:\n",
      " [1] \u001b[0m\u001b[1mmacro expansion\u001b[22m\n",
      "\u001b[90m   @ \u001b[39m\u001b[90;4mIn[26]:10\u001b[0m\u001b[90m [inlined]\u001b[39m\n",
      " [2] \u001b[0m\u001b[1mmacro expansion\u001b[22m\n",
      "\u001b[90m   @ \u001b[39m\u001b[90m/buildworker/worker/package_linux64/build/usr/share/julia/stdlib/v1.6/Test/src/\u001b[39m\u001b[90;4mTest.jl:1151\u001b[0m\u001b[90m [inlined]\u001b[39m\n",
      " [3] top-level scope\n",
      "\u001b[90m   @ \u001b[39m\u001b[90;4mIn[26]:3\u001b[0m\n",
      "backward pass: \u001b[91m\u001b[1mTest Failed\u001b[22m\u001b[39m at \u001b[39m\u001b[1mIn[26]:11\u001b[22m\n",
      "  Expression: ≈(K, test_dict[\"K\"], atol = 1.0e-6)\n",
      "   Evaluated: [[0.0 0.0 … 0.0 0.0; 0.0 0.0 … 0.0 0.0], [0.0 0.0 … 0.0 0.0; 0.0 0.0 … 0.0 0.0], [0.0 0.0 … 0.0 0.0; 0.0 0.0 … 0.0 0.0], [0.0 0.0 … 0.0 0.0; 0.0 0.0 … 0.0 0.0], [0.0 0.0 … 0.0 0.0; 0.0 0.0 … 0.0 0.0], [0.0 0.0 … 0.0 0.0; 0.0 0.0 … 0.0 0.0], [0.0 0.0 … 0.0 0.0; 0.0 0.0 … 0.0 0.0], [0.0 0.0 … 0.0 0.0; 0.0 0.0 … 0.0 0.0], [0.0 0.0 … 0.0 0.0; 0.0 0.0 … 0.0 0.0], [0.0 0.0 … 0.0 0.0; 0.0 0.0 … 0.0 0.0]  …  [0.0 0.0 … 0.0 0.0; 0.0 0.0 … 0.0 0.0], [0.0 0.0 … 0.0 0.0; 0.0 0.0 … 0.0 0.0], [0.0 0.0 … 0.0 0.0; 0.0 0.0 … 0.0 0.0], [0.0 0.0 … 0.0 0.0; 0.0 0.0 … 0.0 0.0], [0.0 0.0 … 0.0 0.0; 0.0 0.0 … 0.0 0.0], [0.0 0.0 … 0.0 0.0; 0.0 0.0 … 0.0 0.0], [0.0 0.0 … 0.0 0.0; 0.0 0.0 … 0.0 0.0], [0.0 0.0 … 0.0 0.0; 0.0 0.0 … 0.0 0.0], [0.0 0.0 … 0.0 0.0; 0.0 0.0 … 0.0 0.0], [0.0 0.0 … 0.0 0.0; 0.0 0.0 … 0.0 0.0]] ≈ [[-4.493493903572728 6.488747638192262 … 3.270876879367916 -1.739425059799243; 4.493494209928355 6.48875135892906 … 3.270878852472324 1.7394239170354553], [-4.5487304705795815 6.490115605038791 … 3.271295603082128 -1.7407669463544106; 4.548730704685588 6.490118474896075 … 3.271297124713286 1.740766064346937], [-4.609971186390442 6.491783027922058 … 3.2717978575110256 -1.7422047404450116; 4.609971365494137 6.491785239933149 … 3.271799030107594 1.742204060152619], [-4.677642111606497 6.493809577452574 … 3.272398801879185 -1.7437396226545523; 4.6776422488708675 6.4938112811642315 … 3.2723997048035804 1.743739098319179], [-4.752172496859895 6.496265629270223 … 3.2731160333839657 -1.7453720149070702; 4.752172602314435 6.49626694048496 … 3.2731167280914084 1.745371611079941], [-4.833989893323847 6.499233963904708 … 3.2739699217579723 -1.7471014631760067; 4.833989974598068 6.499234972249097 … 3.273970455812243 1.7471011524072961], [-4.923514025234668 6.50281169407315 … 3.2749839780262295 -1.7489265089162842; 4.923514088123264 6.50281246887611 … 3.274984388218873 1.7489262699605868], [-5.021149147126121 6.507112442644302 … 3.2761852588212603 -1.7508445484849098; 5.021149196023671 6.507113037501721 … 3.2761855735938283 1.7508443649076117], [-5.127274557216207 6.512268795711013 … 3.277604807197653 -1.7528516801784944; 5.127274595451017 6.512269252029359 … 3.27760504852224 1.7528515392737394], [-5.2422328840424015 6.518435056369461 … 3.2792781303567136 -1.7549425391285003; 5.2422329141324235 6.518435406115926 … 3.279278315195485 1.7549424310792796]  …  [-2.2193937682113822 16.88952341641221 … 4.545051897768396 -1.9664275513581613; 2.2193937682118117 16.88952341641444 … 4.545051897769021 1.9664275513578635], [-1.9132777523203859 16.814315929132583 … 4.534055674463833 -1.9839267938822343; 1.9132777523206577 16.814315929134054 … 4.534055674464245 1.9839267938820337], [-1.6087853826658545 16.316153732972026 … 4.5266481068117415 -1.9971704387241958; 1.6087853826660248 16.31615373297298 … 4.526648106812017 1.9971704387240605], [-1.2996549391653498 15.316992171525344 … 4.553144560128238 -2.0049387741172406; 1.2996549391654528 15.316992171525944 … 4.553144560128425 2.0049387741171474], [-0.9864264803741902 13.77848912903429 … 4.666631805530257 -2.00805089733188; 0.9864264803742497 13.77848912903465 … 4.666631805530388 2.0080508973318163], [-0.681943328902768 11.718117331436593 … 4.956739780381768 -2.0098943983464985; 0.6819433289027975 11.718117331436783 … 4.956739780381865 2.0098943983464546], [-0.41057638438203525 9.211336766450623 … 5.58309445580815 -2.0106932056283218; 0.41057638438204724 9.211336766450692 … 5.5830944558082285 2.010693205628294], [-0.19644825348182507 6.37614845066038 … 6.879128482782335 -1.9877730926913246; 0.19644825348182812 6.376148450660374 … 6.879128482782415 1.9877730926913089], [-0.0541301547558446 3.3447911956824457 … 9.768784528229881 -1.912153952855349; 0.054130154755844616 3.3447911956824115 … 9.768784528229997 1.9121539528553493], [-1.530808221568095e-5 0.2314479965282807 … 18.521625922175655 -2.397618330896276; 1.5308082215680935e-5 0.2314479965282807 … 18.521625922175655 2.3976183308962686]] (atol=1.0e-6)\n",
      "Stacktrace:\n",
      " [1] \u001b[0m\u001b[1mmacro expansion\u001b[22m\n",
      "\u001b[90m   @ \u001b[39m\u001b[90;4mIn[26]:11\u001b[0m\u001b[90m [inlined]\u001b[39m\n",
      " [2] \u001b[0m\u001b[1mmacro expansion\u001b[22m\n",
      "\u001b[90m   @ \u001b[39m\u001b[90m/buildworker/worker/package_linux64/build/usr/share/julia/stdlib/v1.6/Test/src/\u001b[39m\u001b[90;4mTest.jl:1151\u001b[0m\u001b[90m [inlined]\u001b[39m\n",
      " [3] top-level scope\n",
      "\u001b[90m   @ \u001b[39m\u001b[90;4mIn[26]:3\u001b[0m\n",
      "backward pass: \u001b[91m\u001b[1mTest Failed\u001b[22m\u001b[39m at \u001b[39m\u001b[1mIn[26]:12\u001b[22m\n",
      "  Expression: ≈(P, test_dict[\"P\"], atol = 1.0e-6)\n"
     ]
    },
    {
     "name": "stdout",
     "output_type": "stream",
     "text": [
      "   Evaluated: [[0.0 0.0 … 0.0 0.0; 0.0 0.0 … 0.0 0.0; … ; 0.0 0.0 … 0.0 0.0; 0.0 0.0 … 0.0 0.0], [0.0 0.0 … 0.0 0.0; 0.0 0.0 … 0.0 0.0; … ; 0.0 0.0 … 0.0 0.0; 0.0 0.0 … 0.0 0.0], [0.0 0.0 … 0.0 0.0; 0.0 0.0 … 0.0 0.0; … ; 0.0 0.0 … 0.0 0.0; 0.0 0.0 … 0.0 0.0], [0.0 0.0 … 0.0 0.0; 0.0 0.0 … 0.0 0.0; … ; 0.0 0.0 … 0.0 0.0; 0.0 0.0 … 0.0 0.0], [0.0 0.0 … 0.0 0.0; 0.0 0.0 … 0.0 0.0; … ; 0.0 0.0 … 0.0 0.0; 0.0 0.0 … 0.0 0.0], [0.0 0.0 … 0.0 0.0; 0.0 0.0 … 0.0 0.0; … ; 0.0 0.0 … 0.0 0.0; 0.0 0.0 … 0.0 0.0], [0.0 0.0 … 0.0 0.0; 0.0 0.0 … 0.0 0.0; … ; 0.0 0.0 … 0.0 0.0; 0.0 0.0 … 0.0 0.0], [0.0 0.0 … 0.0 0.0; 0.0 0.0 … 0.0 0.0; … ; 0.0 0.0 … 0.0 0.0; 0.0 0.0 … 0.0 0.0], [0.0 0.0 … 0.0 0.0; 0.0 0.0 … 0.0 0.0; … ; 0.0 0.0 … 0.0 0.0; 0.0 0.0 … 0.0 0.0], [0.0 0.0 … 0.0 0.0; 0.0 0.0 … 0.0 0.0; … ; 0.0 0.0 … 0.0 0.0; 0.0 0.0 … 0.0 0.0]  …  [0.0 0.0 … 0.0 0.0; 0.0 0.0 … 0.0 0.0; … ; 0.0 0.0 … 0.0 0.0; 0.0 0.0 … 0.0 0.0], [0.0 0.0 … 0.0 0.0; 0.0 0.0 … 0.0 0.0; … ; 0.0 0.0 … 0.0 0.0; 0.0 0.0 … 0.0 0.0], [0.0 0.0 … 0.0 0.0; 0.0 0.0 … 0.0 0.0; … ; 0.0 0.0 … 0.0 0.0; 0.0 0.0 … 0.0 0.0], [0.0 0.0 … 0.0 0.0; 0.0 0.0 … 0.0 0.0; … ; 0.0 0.0 … 0.0 0.0; 0.0 0.0 … 0.0 0.0], [0.0 0.0 … 0.0 0.0; 0.0 0.0 … 0.0 0.0; … ; 0.0 0.0 … 0.0 0.0; 0.0 0.0 … 0.0 0.0], [0.0 0.0 … 0.0 0.0; 0.0 0.0 … 0.0 0.0; … ; 0.0 0.0 … 0.0 0.0; 0.0 0.0 … 0.0 0.0], [0.0 0.0 … 0.0 0.0; 0.0 0.0 … 0.0 0.0; … ; 0.0 0.0 … 0.0 0.0; 0.0 0.0 … 0.0 0.0], [0.0 0.0 … 0.0 0.0; 0.0 0.0 … 0.0 0.0; … ; 0.0 0.0 … 0.0 0.0; 0.0 0.0 … 0.0 0.0], [0.0 0.0 … 0.0 0.0; 0.0 0.0 … 0.0 0.0; … ; 0.0 0.0 … 0.0 0.0; 0.0 0.0 … 0.0 0.0], [0.0 0.0 … 0.0 0.0; 0.0 0.0 … 0.0 0.0; … ; 0.0 0.0 … 0.0 0.0; 0.0 0.0 … 0.0 0.0]] ≈ [[33.5184831840345 -1.8611682455101044e-7 … -1.6933255051837536e-7 0.41486532969580336; -2.8670564438250216e-6 20.176267052569802 … 2.835203137580635 -1.3557798197218232e-6; … ; -1.7632843167102824e-6 2.8352031375806463 … 1.4437911855874135 -9.37909636722337e-7; 0.41486532969594614 4.070574935473016e-7 … 2.0577887509620487e-7 0.19604461324881528], [33.7261432376854 -1.428723242925113e-7 … -1.308547262779665e-7 0.4198966333326797; -2.243485040089987e-6 20.17812999652816 … 2.8357734409431288 -1.0484610588467606e-6; … ; -1.3797573937370032e-6 2.835773440943134 … 1.4439657135706383 -7.247165640724904e-7; 0.4198966333327614 3.1439681188782143e-7 … 1.5891677523310275e-7 0.19616683891224274], [33.96476785726065 -1.0979413660357164e-7 … -1.0121208478269479e-7 0.4254837779261423; -1.7565740502291198e-6 20.180439215458964 … 2.836469143764015 -8.104184744224651e-7; … ; -1.0801941261116312e-6 2.836469143764017 … 1.444175241820635 -5.596559540185583e-7; 0.42548377792618763 2.426832088041391e-7 … 1.226495306640866e-7 0.1962980063843116], [34.23817039690246 -8.449878701084725e-8 … -7.837302641208245e-8 0.4316677917037527; -1.3761593831286383e-6 20.18329213017603 … 2.8373153233504054 -6.26108968527476e-7; … ; -8.460867405230281e-7 2.8373153233504054 … 1.4444261428783505 -4.319204235513161e-7; 0.43166779170377645 1.872092930263293e-7 … 9.459625741326114e-8 0.19643825975961735], [34.550553539994326 -6.515577520745066e-8 … -6.077095233630198e-8 0.43849033735542287; -1.0787716619576997e-6 20.18680554417527 … 2.838341583253136 -4.834640820406531e-7; … ; -6.630303395143952e-7 2.8383415832531345 … 1.4447258220856904 -3.3311927397706025e-7; 0.4384903373554342 1.4432072190731534e-7 … 7.290863503094874e-8 0.19658767667856658], [34.90654169459304 -5.0360969882159566e-8 … -4.71986434750964e-8 0.44599330562986705; -8.461451595632823e-7 20.191119140958577 … 2.8395827764926898 -3.731151946923454e-7; … ; -5.198098436608677e-7 2.8395827764926884 … 1.445082860220173 -2.567395816640677e-7; 0.4459933056298713 1.1118137240237053e-7 … 5.615215635412384e-8 0.19674625755956854], [35.31121432431238 -3.9038619991174215e-8 … -3.672643046475172e-8 0.4542182990036798; -6.640593648433828e-7 20.19639954789388 … 2.841079826938495 -2.8779124080396027e-7; … ; -4.076905305046199e-7 2.8410798269384934 … 1.4455071710857346 -1.9772727053899828e-7; 0.4542182990036796 8.559078310138494e-8 … 4.3213807441363227e-8 0.19691391371527034], [35.77013939139374 -3.0365577706816936e-8 … -2.8638832959464787e-8 0.4632059798435617; -5.214389584696881e-7 20.202845048251156 … 2.8428806591323275 -2.218505533970138e-7; … ; -3.1986674504360045e-7 2.842880659132325 … 1.4460101747221616 -1.5216147111100165e-7; 0.46320597984355905 6.584224182639096e-8 … 3.323030090418697e-8 0.1970904542656385], [36.289405695891794 -2.371276068731345e-8 … -2.238553635562662e-8 0.4729952525286989; -4.096545379718257e-7 20.210691033818584 … 2.8450412474707987 -1.7091699044969518e-7; … ; -2.5103349797163305e-7 2.845041247470796 … 1.4466049867373576 -1.1700141271687293e-7; 0.47299525252869523 5.061247805014029e-8 … 2.5532289921205276e-8 0.1972755717883881], [36.875652382530845 -1.85999784341885e-8 … -1.754348767170199e-8 0.48362224365576856; -3.219792811949389e-7 20.220216302845404 … 2.8476267962826407 -1.315971369068917e-7; … ; -1.9705352766792194e-7 2.847626796282638 … 1.4473066240639696 -8.988970922123954e-8; 0.48362224365576467 3.887592971441155e-8 … 1.9601009397706163e-8 0.19746882669697785]  …  [108.31841656835999 -8.30325387541134e-14 … -2.968286279950486e-14 0.21412621744931626; -3.902013261114501e-13 76.46164658117543 … 7.668996953918027 -3.878504978814196e-13; … ; -1.2610217774502997e-13 7.668996953918022 … 2.009484731709591 -2.2704382554737526e-13; 0.21412621744931637 2.3080548715221066e-13 … 6.045626333698354e-14 0.21954303431045163], [107.57687856173207 -4.467433325331424e-14 … -1.7172340677956338e-14 0.18419061534023928; -2.0423896948673637e-13 82.67570621087725 … 7.547407820824975 -2.2071410885553908e-13; … ; -6.978716649702621e-14 7.547407820824969 … 2.0050018404850647 -1.5569103501229448e-13; 0.18419061534023942 1.531950689167584e-13 … 4.072035415175094e-14 0.22108069091494215], [106.76112300379219 -2.1526183189879726e-14 … -9.5842698918396e-15 0.15339071620918038; -9.832369293749643e-14 88.46812092151951 … 7.220148380129259 -1.1690901760092803e-13; … ; -3.7311419145286126e-14 7.220148380129252 … 2.0115096788029483 -1.0763760787327674e-13; 0.15339071620918052 9.999641992635906e-14 … 2.796950923575353e-14 0.22209385414719274], [105.88190367654711 -8.592084952996652e-15 … -5.136742486631273e-15 0.1214526679080411; -4.192436328653848e-14 93.469028475713 … 6.6672585075602075 -5.591771497985391e-14; … ; -1.9096486544856184e-14 6.6672585075602 … 2.0499934535566324 -7.519626808057925e-14; 0.12145266790804121 6.304864684316061e-14 … 1.971135334318997e-14 0.2225856034502932], [104.95161633808435 -2.2638137126332596e-15 … -2.6445953835440046e-15 0.08918505623656393; -1.4723899183222144e-14 97.36653056900747 … 5.891828564687275 -2.2842315171619347e-14; … ; -9.222104416922727e-15 5.891828564687268 … 2.1563437692113174 -5.300889219858415e-14; 0.08918505623656398 3.779836783671269e-14 … 1.4399173554787404e-14 0.22285631094403535], [103.98499873768354 -5.724545119076101e-17 … -1.3247744055218619e-15 0.0586584754690824; -3.774324602856538e-15 99.98250566138718 … 4.9218160273476075 -6.806328994607858e-15; … ; -4.097048221518573e-15 4.921816027347601 … 2.39476048266512 -3.7172205519808996e-14; 0.05865847546908243 2.0890582482609646e-14 … 1.1486493923520904e-14 0.22323146586923637], [102.99709369597214 2.341880927733426e-16 … -6.228619296426581e-16 0.03244382541390876; -5.338611497318624e-16 101.31799834299649 … 3.804434359551612 -1.100397283364218e-15; … ; -1.5856998873686745e-15 3.804434359551607 … 2.8992068226073435 -2.531425204609217e-14; 0.032443825413908764 9.33659548612077e-15 … 1.01419490109799e-14 0.22257384235663036], [101.9997981733486 6.418519212761549e-17 … -2.1507181911532206e-16 0.012695397665535874; -6.5052130349130266e-18 101.54992268193385 … 2.5947905117971493 -2.220446049250313e-16; … ; -4.198030811863873e-16 2.594790511797144 … 4.039948692689441 -1.4932499681208355e-14; 0.012695397665535874 2.5118632055517506e-15 … 1.1106729482439787e-14 0.21719787643651634], [100.99999999592632 4.235164736271502e-22 … 3.3881317890172014e-20 0.001916649418780045; 0.0 100.98553450021699 … 1.342398379864021 0.0; … ; 0.0 1.342398379864016 … 7.525430348617903 0.0; 0.001916649418780045 2.3592239273284576e-16 … 1.865174681370263e-14 0.23114412092138537], [100.0 0.0 … 0.0 0.0; 0.0 100.0 … 0.0 0.0; … ; 0.0 0.0 … 100.0 0.0; 0.0 0.0 … 0.0 100.0]] (atol=1.0e-6)\n",
      "Stacktrace:\n",
      " [1] \u001b[0m\u001b[1mmacro expansion\u001b[22m\n",
      "\u001b[90m   @ \u001b[39m\u001b[90;4mIn[26]:12\u001b[0m\u001b[90m [inlined]\u001b[39m\n",
      " [2] \u001b[0m\u001b[1mmacro expansion\u001b[22m\n",
      "\u001b[90m   @ \u001b[39m\u001b[90m/buildworker/worker/package_linux64/build/usr/share/julia/stdlib/v1.6/Test/src/\u001b[39m\u001b[90;4mTest.jl:1151\u001b[0m\u001b[90m [inlined]\u001b[39m\n",
      " [3] top-level scope\n",
      "\u001b[90m   @ \u001b[39m\u001b[90;4mIn[26]:3\u001b[0m\n",
      "backward pass: \u001b[91m\u001b[1mTest Failed\u001b[22m\u001b[39m at \u001b[39m\u001b[1mIn[26]:13\u001b[22m\n",
      "  Expression: ≈(ΔJ, test_dict[\"ΔJ\"], atol = 0.001)\n",
      "   Evaluated: NaN ≈ 4553.334605374755 (atol=0.001)\n",
      "Stacktrace:\n",
      " [1] \u001b[0m\u001b[1mmacro expansion\u001b[22m\n",
      "\u001b[90m   @ \u001b[39m\u001b[90;4mIn[26]:13\u001b[0m\u001b[90m [inlined]\u001b[39m\n",
      " [2] \u001b[0m\u001b[1mmacro expansion\u001b[22m\n",
      "\u001b[90m   @ \u001b[39m\u001b[90m/buildworker/worker/package_linux64/build/usr/share/julia/stdlib/v1.6/Test/src/\u001b[39m\u001b[90;4mTest.jl:1151\u001b[0m\u001b[90m [inlined]\u001b[39m\n",
      " [3] top-level scope\n",
      "\u001b[90m   @ \u001b[39m\u001b[90;4mIn[26]:3\u001b[0m\n",
      "\u001b[0m\u001b[1mTest Summary: | \u001b[22m\u001b[91m\u001b[1mFail  \u001b[22m\u001b[39m\u001b[36m\u001b[1mTotal\u001b[22m\u001b[39m\n",
      "backward pass | \u001b[91m   4  \u001b[39m\u001b[36m    4\u001b[39m\n"
     ]
    },
    {
     "ename": "LoadError",
     "evalue": "\u001b[91mSome tests did not pass: 0 passed, 4 failed, 0 errored, 0 broken.\u001b[39m",
     "output_type": "error",
     "traceback": [
      "\u001b[91mSome tests did not pass: 0 passed, 4 failed, 0 errored, 0 broken.\u001b[39m",
      "",
      "Stacktrace:",
      " [1] finish(ts::Test.DefaultTestSet)",
      "   @ Test /buildworker/worker/package_linux64/build/usr/share/julia/stdlib/v1.6/Test/src/Test.jl:913",
      " [2] macro expansion",
      "   @ /buildworker/worker/package_linux64/build/usr/share/julia/stdlib/v1.6/Test/src/Test.jl:1161 [inlined]",
      " [3] top-level scope",
      "   @ In[26]:3",
      " [4] eval",
      "   @ ./boot.jl:360 [inlined]",
      " [5] include_string(mapexpr::typeof(REPL.softscope), mod::Module, code::String, filename::String)",
      "   @ Base ./loading.jl:1116"
     ]
    }
   ],
   "source": [
    "@testset \"backward pass\" begin                       # POINTS = 10\n",
    "    \n",
    "    X = test_dict[\"X\"]\n",
    "    U = test_dict[\"U\"]\n",
    "    Xref = test_dict[\"Xref\"]\n",
    "    Uref = test_dict[\"Uref\"]\n",
    "    \n",
    "    d, K, P, ΔJ = backward_pass(X,U,Xref,Uref)\n",
    "    \n",
    "    @test d ≈ test_dict[\"d\"] atol=1e-6              # POINTS = 3\n",
    "    @test K ≈ test_dict[\"K\"] atol=1e-6              # POINTS = 3\n",
    "    @test P ≈ test_dict[\"P\"] atol=1e-6              # POINTS = 2\n",
    "    @test ΔJ ≈ test_dict[\"ΔJ\"] atol = 1e-3          # POINTS = 2\n",
    "    \n",
    "end;\n",
    "    "
   ]
  },
  {
   "cell_type": "markdown",
   "metadata": {},
   "source": [
    "## Forward Pass (10 pts)\n",
    "Next we will build out forward pass function. This is where we do a forward simulation with the new `d` and `K`'s from the backwards pass, and do a backtracking line search on $\\alpha$ to ensure we see a neccessary decrease. During our linesearch, we accept our new trajectory/control if the following Armijo condition is satsified:\n",
    "\n",
    "$$ J_n < J - 0.01\\alpha\\Delta J$$"
   ]
  },
  {
   "cell_type": "code",
   "execution_count": 49,
   "metadata": {},
   "outputs": [
    {
     "data": {
      "text/plain": [
       "forward_pass (generic function with 1 method)"
      ]
     },
     "execution_count": 49,
     "metadata": {},
     "output_type": "execute_result"
    }
   ],
   "source": [
    "function forward_pass(X,U,Xref,Uref,K,d,ΔJ; max_linesearch_iters = 10)\n",
    "    \n",
    "    Xn = deepcopy(X)\n",
    "    Un = deepcopy(U)\n",
    "    Jn = NaN\n",
    "    α = NaN\n",
    "        \n",
    "    return Xn, Un, Jn, α\n",
    "end"
   ]
  },
  {
   "cell_type": "code",
   "execution_count": 50,
   "metadata": {},
   "outputs": [
    {
     "name": "stdout",
     "output_type": "stream",
     "text": [
      "forward pass: \u001b[91m\u001b[1mTest Failed\u001b[22m\u001b[39m at \u001b[39m\u001b[1mIn[50]:13\u001b[22m\n",
      "  Expression: ≈(Xn, test_dict[\"Xn\"], atol = 1.0e-6)\n",
      "   Evaluated: [[-3.0, 1.0, 0.0, 0.0, 0.0, 0.0], [-3.0, 1.0, 0.0, 0.0, 0.0, 0.0], [-3.0, 1.0, 0.0, 0.0, 0.0, 0.0], [-3.0, 1.0, 0.0, 0.0, 0.0, 0.0], [-3.0, 1.0, 0.0, 0.0, 0.0, 0.0], [-3.0, 1.0, 0.0, 0.0, 0.0, 0.0], [-3.0, 1.0, 0.0, 0.0, 0.0, 0.0], [-3.0, 1.0, 0.0, 0.0, 0.0, 0.0], [-3.0, 1.0, 0.0, 0.0, 0.0, 0.0], [-3.0, 1.0, 0.0, 0.0, 0.0, 0.0]  …  [-3.0, 1.0, 0.0, 0.0, 0.0, 0.0], [-3.0, 1.0, 0.0, 0.0, 0.0, 0.0], [-3.0, 1.0, 0.0, 0.0, 0.0, 0.0], [-3.0, 1.0, 0.0, 0.0, 0.0, 0.0], [-3.0, 1.0, 0.0, 0.0, 0.0, 0.0], [-3.0, 1.0, 0.0, 0.0, 0.0, 0.0], [-3.0, 1.0, 0.0, 0.0, 0.0, 0.0], [-3.0, 1.0, 0.0, 0.0, 0.0, 0.0], [-3.0, 1.0, 0.0, 0.0, 0.0, 0.0], [-3.0, 1.0, 0.0, 0.0, 0.0, 0.0]] ≈ [[-3.0, 1.0, 0.0, 0.0, 0.0, 0.0], [-2.9999283122118254, 0.9999974829100041, 0.14042168927345458, 0.011455916335940439, -0.0006036972702069118, 11.233735141876366], [-2.998916698915424, 0.9998888858268639, 0.45278869652466847, 0.08163899338510423, -0.01180220113732416, 13.75562543822075], [-2.9952243632549322, 0.9991285158776109, 0.7866231715996177, 0.22489312783552273, -0.056979155474610965, 12.951132567775186], [-2.987132125704131, 0.9966367480369517, 1.0861152253249169, 0.4299978072533418, -0.15256984595845785, 11.008231730248744], [-2.973261180322974, 0.9910671906394861, 1.3338938897771446, 0.6836229657066977, -0.30345079822970833, 8.814061425929484], [-2.952504490116417, 0.9810363529877315, 1.5280083248593037, 0.9782532245281115, -0.5085426076605836, 6.71509338064324], [-2.923867599513092, 0.9652185335081801, 1.672265334895896, 1.312462162700515, -0.7649193961358216, 4.825467422284144], [-2.8863298588219646, 0.9423725345161698, 1.7720527704271618, 1.6895998628105244, -1.0690362316182027, 3.15752742021712], [-2.8387382787407156, 0.9113590295565296, 1.832513769713293, 2.1167113024776607, -1.4163512840519052, 1.6793525226733679]  …  [1.9321810303517206, 0.5861066048625907, -0.21038438064753184, 0.92817805297144, 2.042927741241214, -2.158753492408305], [1.955017979444447, 0.6356979597052272, -0.26213970652601515, 0.8976871175478294, 1.9241180371788533, -1.9816725778703612], [1.9770931145661603, 0.6820208300342425, -0.3084536907584434, 0.867531511203062, 1.7814792442045924, -1.7234461607239022], [1.9984521560488633, 0.7244787421232459, -0.3473060886520432, 0.8406817405573566, 1.6149802197296248, -1.384745670764082], [2.019214173287303, 0.762469435091406, -0.3764319812234122, 0.8200152537568414, 1.4241751379931058, -0.9453257349454365], [2.039567573297987, 0.7953728959158325, -0.3928066416376299, 0.8081771697379424, 1.20806951672536, -0.36464709819197916], [2.0597611689762916, 0.8225350467666848, -0.39253890927835783, 0.8073105775379968, 0.964902589866625, 0.3860656869337463], [2.0800859371793448, 0.8432441427719711, -0.37249510250057305, 0.8185777266685742, 0.6917876123048143, 1.2174388552890372], [2.100844027472831, 0.85669650991118, -0.3367232626579557, 0.8416981019235614, 0.3842642459116411, 1.6443083321203495], [2.1223231821182127, 0.8619475617942588, -0.3161060811831371, 0.8762796648929747, 0.03569986256786645, 0.005066185865138406]] (atol=1.0e-6)\n",
      "Stacktrace:\n",
      " [1] \u001b[0m\u001b[1mmacro expansion\u001b[22m\n",
      "\u001b[90m   @ \u001b[39m\u001b[90;4mIn[50]:13\u001b[0m\u001b[90m [inlined]\u001b[39m\n",
      " [2] \u001b[0m\u001b[1mmacro expansion\u001b[22m\n",
      "\u001b[90m   @ \u001b[39m\u001b[90m/buildworker/worker/package_linux64/build/usr/share/julia/stdlib/v1.6/Test/src/\u001b[39m\u001b[90;4mTest.jl:1151\u001b[0m\u001b[90m [inlined]\u001b[39m\n",
      " [3] top-level scope\n",
      "\u001b[90m   @ \u001b[39m\u001b[90;4mIn[50]:3\u001b[0m\n",
      "forward pass: \u001b[91m\u001b[1mTest Failed\u001b[22m\u001b[39m at \u001b[39m\u001b[1mIn[50]:14\u001b[22m\n",
      "  Expression: ≈(Un, test_dict[\"Un\"], atol = 1.0e-6)\n",
      "   Evaluated: [[4.905, 4.905], [4.905, 4.905], [4.905, 4.905], [4.905, 4.905], [4.905, 4.905], [4.905, 4.905], [4.905, 4.905], [4.905, 4.905], [4.905, 4.905], [4.905, 4.905]  …  [4.905, 4.905], [4.905, 4.905], [4.905, 4.905], [4.905, 4.905], [4.905, 4.905], [4.905, 4.905], [4.905, 4.905], [4.905, 4.905], [4.905, 4.905], [4.905, 4.905]] ≈ [[-22.05596342143639, 31.865965259570153], [-1.1455397082013974, 10.959533714251645], [6.875124202969655, 3.013558424830947], [9.760084081504054, 0.4341600613771277], [10.692239210880523, 0.16022175014807516], [10.99407068694407, 0.9190240695700993], [11.228889742073854, 2.158685141950194], [11.640401645512032, 3.634289635590317], [12.3317843628998, 5.2365448546897895], [13.340518002687254, 6.914303518829694]  …  [2.864602123679356, 3.260325409562789], [2.1765919942358822, 3.026580384018013], [1.5194594232550207, 2.7589462255580237], [0.8512707514382556, 2.477033103245393], [0.11014075181521177, 2.2193564437447098], [-0.7644832595282658, 2.0227741968883297], [-1.7565877380992285, 1.8468336305042534], [-2.5964416065095763, 1.39414960159582], [-2.3530952571715877, -0.3041217683812878], [1.7551498386467483, -6.1132124633782645]] (atol=1.0e-6)\n",
      "Stacktrace:\n",
      " [1] \u001b[0m\u001b[1mmacro expansion\u001b[22m\n",
      "\u001b[90m   @ \u001b[39m\u001b[90;4mIn[50]:14\u001b[0m\u001b[90m [inlined]\u001b[39m\n",
      " [2] \u001b[0m\u001b[1mmacro expansion\u001b[22m\n",
      "\u001b[90m   @ \u001b[39m\u001b[90m/buildworker/worker/package_linux64/build/usr/share/julia/stdlib/v1.6/Test/src/\u001b[39m\u001b[90;4mTest.jl:1151\u001b[0m\u001b[90m [inlined]\u001b[39m\n",
      " [3] top-level scope\n",
      "\u001b[90m   @ \u001b[39m\u001b[90;4mIn[50]:3\u001b[0m\n",
      "forward pass: \u001b[91m\u001b[1mTest Failed\u001b[22m\u001b[39m at \u001b[39m\u001b[1mIn[50]:15\u001b[22m\n",
      "  Expression: ≈(Jr, test_dict[\"Jr\"], atol = 1.0e-6)\n",
      "   Evaluated: NaN ≈ 757.2129309380703 (atol=1.0e-6)\n",
      "Stacktrace:\n",
      " [1] \u001b[0m\u001b[1mmacro expansion\u001b[22m\n",
      "\u001b[90m   @ \u001b[39m\u001b[90;4mIn[50]:15\u001b[0m\u001b[90m [inlined]\u001b[39m\n",
      " [2] \u001b[0m\u001b[1mmacro expansion\u001b[22m\n",
      "\u001b[90m   @ \u001b[39m\u001b[90m/buildworker/worker/package_linux64/build/usr/share/julia/stdlib/v1.6/Test/src/\u001b[39m\u001b[90;4mTest.jl:1151\u001b[0m\u001b[90m [inlined]\u001b[39m\n",
      " [3] top-level scope\n",
      "\u001b[90m   @ \u001b[39m\u001b[90;4mIn[50]:3\u001b[0m\n",
      "forward pass: \u001b[91m\u001b[1mTest Failed\u001b[22m\u001b[39m at \u001b[39m\u001b[1mIn[50]:16\u001b[22m\n",
      "  Expression: ≈(α, test_dict[\"α\"], atol = 1.0e-6)\n",
      "   Evaluated: NaN ≈ 1.0 (atol=1.0e-6)\n",
      "Stacktrace:\n",
      " [1] \u001b[0m\u001b[1mmacro expansion\u001b[22m\n",
      "\u001b[90m   @ \u001b[39m\u001b[90;4mIn[50]:16\u001b[0m\u001b[90m [inlined]\u001b[39m\n",
      " [2] \u001b[0m\u001b[1mmacro expansion\u001b[22m\n",
      "\u001b[90m   @ \u001b[39m\u001b[90m/buildworker/worker/package_linux64/build/usr/share/julia/stdlib/v1.6/Test/src/\u001b[39m\u001b[90;4mTest.jl:1151\u001b[0m\u001b[90m [inlined]\u001b[39m\n",
      " [3] top-level scope\n",
      "\u001b[90m   @ \u001b[39m\u001b[90;4mIn[50]:3\u001b[0m\n",
      "\u001b[0m\u001b[1mTest Summary: | \u001b[22m\u001b[91m\u001b[1mFail  \u001b[22m\u001b[39m\u001b[36m\u001b[1mTotal\u001b[22m\u001b[39m\n",
      "forward pass  | \u001b[91m   4  \u001b[39m\u001b[36m    4\u001b[39m\n"
     ]
    },
    {
     "ename": "LoadError",
     "evalue": "\u001b[91mSome tests did not pass: 0 passed, 4 failed, 0 errored, 0 broken.\u001b[39m",
     "output_type": "error",
     "traceback": [
      "\u001b[91mSome tests did not pass: 0 passed, 4 failed, 0 errored, 0 broken.\u001b[39m",
      "",
      "Stacktrace:",
      " [1] finish(ts::Test.DefaultTestSet)",
      "   @ Test /buildworker/worker/package_linux64/build/usr/share/julia/stdlib/v1.6/Test/src/Test.jl:913",
      " [2] macro expansion",
      "   @ /buildworker/worker/package_linux64/build/usr/share/julia/stdlib/v1.6/Test/src/Test.jl:1161 [inlined]",
      " [3] top-level scope",
      "   @ In[50]:3",
      " [4] eval",
      "   @ ./boot.jl:360 [inlined]",
      " [5] include_string(mapexpr::typeof(REPL.softscope), mod::Module, code::String, filename::String)",
      "   @ Base ./loading.jl:1116"
     ]
    }
   ],
   "source": [
    "@testset \"forward pass\" begin                              # POINTS = 10\n",
    "    \n",
    "    Xref = [copy(xgoal) for i = 1:N]\n",
    "    Uref = [copy(uhover) for i = 1:N-1]\n",
    "    \n",
    "    X = [copy(x0) for i = 1:N]\n",
    "    U = deepcopy(Uref)\n",
    "    \n",
    "    d, K, P, ΔJ = backward_pass(X,U,Xref,Uref)\n",
    "    \n",
    "    Xn, Un, Jr, α = forward_pass(X,U,Xref,Uref,K,d,ΔJ)\n",
    "    \n",
    "    @test Xn ≈ test_dict[\"Xn\"] atol=1e-6                  # POINTS = 4\n",
    "    @test Un ≈ test_dict[\"Un\"] atol=1e-6                  # POINTS = 2\n",
    "    @test Jr ≈ test_dict[\"Jr\"] atol = 1e-6                # POINTS = 2\n",
    "    @test α ≈ test_dict[\"α\"]  atol = 1e-6                 # POINTS = 2\n",
    "    \n",
    "end;"
   ]
  },
  {
   "cell_type": "markdown",
   "metadata": {},
   "source": [
    "## iLQR Algorithm (5 pts)\n",
    "Now we are going to put it all together, we are given an initial condition `x0` and an unitial control input history `U`, and a reference trajectory `Xref` and `Uref`. We will start by doing a forward simulation starting from `x0` using `U` as the control input, creating `X`. Then we will start our main loop. In each iteartion, we do the following:\n",
    "\n",
    "- backward pass \n",
    "- check termination criteria \n",
    "- forward pass \n"
   ]
  },
  {
   "cell_type": "code",
   "execution_count": 51,
   "metadata": {},
   "outputs": [
    {
     "data": {
      "text/plain": [
       "iLQR"
      ]
     },
     "execution_count": 51,
     "metadata": {},
     "output_type": "execute_result"
    }
   ],
   "source": [
    "\"\"\"\n",
    "iLQR will combine the backward and forward passes for the complete iLQR algorithm. We will classify \n",
    "convergence as when the maximum norm of each feedforward control input in d is below atol. (this is given)\n",
    "\n",
    "inputs:\n",
    "    x0 - initial condition Vector\n",
    "    U - initial control history Vector{Vector}\n",
    "    Xref - reference trajectory we are trying to track Vector{Vector}\n",
    "    Uref - reference controls we are trying to track Vector{Vector}\n",
    "\n",
    "outputs:\n",
    "    X - optimal trajectory Vector{Vector}\n",
    "    U - optimal control trajectory Vector{Vector}\n",
    "    K - feedback gain matrices Vector{Matrix}\n",
    "    P - cost to go hessians Vector{Matrix}\n",
    "    iter - iterations it took to converge Int\n",
    "\"\"\"\n",
    "function iLQR(x0,U,Xref,Uref;atol=1e-5,max_iters = 100,verbose = true)\n",
    "    \n",
    "    # inital logging stuff \n",
    "    if isautograder\n",
    "        verbose = false\n",
    "    end\n",
    "    if verbose\n",
    "        @printf \"iter     J           ΔJ        |d|         α\\n\"\n",
    "        @printf \"-----------------------------------------------\\n\"\n",
    "    end\n",
    "    X = [zeros(nx)*NaN for i = 1:N]\n",
    "    U = [u * NaN for u in U]\n",
    "    K = [zeros(nu,nx)*NaN for i = 1:N-1]\n",
    "    P = [zeros(nx,nx)*NaN for i = 1:N]\n",
    "    iter = -1\n",
    "\n",
    "    return X,U,K,P,iter\n",
    "\n",
    "end\n",
    "        "
   ]
  },
  {
   "cell_type": "markdown",
   "metadata": {},
   "source": [
    "## Part (b): Simple trajectory (5 pts)\n",
    "Use your iLQR solver to move the quadrotor from the initial state to the goal state."
   ]
  },
  {
   "cell_type": "code",
   "execution_count": 52,
   "metadata": {},
   "outputs": [
    {
     "name": "stdout",
     "output_type": "stream",
     "text": [
      "iter     J           ΔJ        |d|         α\n",
      "-----------------------------------------------\n"
     ]
    }
   ],
   "source": [
    "# reference trajectory (we just want to track the goal state and hover control)\n",
    "Xrefline = [copy(xgoal) for i = 1:N]\n",
    "Urefline = [copy(uhover) for i = 1:N-1]\n",
    "\n",
    "# call iLQR\n",
    "Xline,Uline,Kline,Pline, iterline = iLQR(x0,Urefline,Xrefline,Urefline);"
   ]
  },
  {
   "cell_type": "code",
   "execution_count": 53,
   "metadata": {},
   "outputs": [
    {
     "name": "stdout",
     "output_type": "stream",
     "text": [
      "iLQR: \u001b[91m\u001b[1mTest Failed\u001b[22m\u001b[39m at \u001b[39m\u001b[1mIn[53]:4\u001b[22m\n",
      "  Expression: iterline > 30\n",
      "   Evaluated: -1 > 30\n",
      "Stacktrace:\n",
      " [1] \u001b[0m\u001b[1mmacro expansion\u001b[22m\n",
      "\u001b[90m   @ \u001b[39m\u001b[90;4mIn[53]:4\u001b[0m\u001b[90m [inlined]\u001b[39m\n",
      " [2] \u001b[0m\u001b[1mmacro expansion\u001b[22m\n",
      "\u001b[90m   @ \u001b[39m\u001b[90m/buildworker/worker/package_linux64/build/usr/share/julia/stdlib/v1.6/Test/src/\u001b[39m\u001b[90;4mTest.jl:1151\u001b[0m\u001b[90m [inlined]\u001b[39m\n",
      " [3] top-level scope\n",
      "\u001b[90m   @ \u001b[39m\u001b[90;4mIn[53]:2\u001b[0m\n",
      "iLQR: \u001b[91m\u001b[1mTest Failed\u001b[22m\u001b[39m at \u001b[39m\u001b[1mIn[53]:5\u001b[22m\n",
      "  Expression: norm(Xline[end] - xgoal) < 0.2\n",
      "   Evaluated: NaN < 0.2\n",
      "Stacktrace:\n",
      " [1] \u001b[0m\u001b[1mmacro expansion\u001b[22m\n",
      "\u001b[90m   @ \u001b[39m\u001b[90;4mIn[53]:5\u001b[0m\u001b[90m [inlined]\u001b[39m\n",
      " [2] \u001b[0m\u001b[1mmacro expansion\u001b[22m\n",
      "\u001b[90m   @ \u001b[39m\u001b[90m/buildworker/worker/package_linux64/build/usr/share/julia/stdlib/v1.6/Test/src/\u001b[39m\u001b[90;4mTest.jl:1151\u001b[0m\u001b[90m [inlined]\u001b[39m\n",
      " [3] top-level scope\n",
      "\u001b[90m   @ \u001b[39m\u001b[90;4mIn[53]:2\u001b[0m\n",
      "iLQR: \u001b[91m\u001b[1mTest Failed\u001b[22m\u001b[39m at \u001b[39m\u001b[1mIn[53]:6\u001b[22m\n",
      "  Expression: maximum(maximum.(Uline)) < 40\n",
      "   Evaluated: NaN < 40\n",
      "Stacktrace:\n",
      " [1] \u001b[0m\u001b[1mmacro expansion\u001b[22m\n",
      "\u001b[90m   @ \u001b[39m\u001b[90;4mIn[53]:6\u001b[0m\u001b[90m [inlined]\u001b[39m\n",
      " [2] \u001b[0m\u001b[1mmacro expansion\u001b[22m\n",
      "\u001b[90m   @ \u001b[39m\u001b[90m/buildworker/worker/package_linux64/build/usr/share/julia/stdlib/v1.6/Test/src/\u001b[39m\u001b[90;4mTest.jl:1151\u001b[0m\u001b[90m [inlined]\u001b[39m\n",
      " [3] top-level scope\n",
      "\u001b[90m   @ \u001b[39m\u001b[90;4mIn[53]:2\u001b[0m\n",
      "iLQR: \u001b[91m\u001b[1mTest Failed\u001b[22m\u001b[39m at \u001b[39m\u001b[1mIn[53]:7\u001b[22m\n",
      "  Expression: maximum(maximum.(Uline)) > 30\n",
      "   Evaluated: NaN > 30\n",
      "Stacktrace:\n",
      " [1] \u001b[0m\u001b[1mmacro expansion\u001b[22m\n",
      "\u001b[90m   @ \u001b[39m\u001b[90;4mIn[53]:7\u001b[0m\u001b[90m [inlined]\u001b[39m\n",
      " [2] \u001b[0m\u001b[1mmacro expansion\u001b[22m\n",
      "\u001b[90m   @ \u001b[39m\u001b[90m/buildworker/worker/package_linux64/build/usr/share/julia/stdlib/v1.6/Test/src/\u001b[39m\u001b[90;4mTest.jl:1151\u001b[0m\u001b[90m [inlined]\u001b[39m\n",
      " [3] top-level scope\n",
      "\u001b[90m   @ \u001b[39m\u001b[90;4mIn[53]:2\u001b[0m\n",
      "iLQR: \u001b[91m\u001b[1mTest Failed\u001b[22m\u001b[39m at \u001b[39m\u001b[1mIn[53]:8\u001b[22m\n",
      "  Expression: minimum(minimum.(Uline)) < -30\n",
      "   Evaluated: NaN < -30\n",
      "Stacktrace:\n",
      " [1] \u001b[0m\u001b[1mmacro expansion\u001b[22m\n",
      "\u001b[90m   @ \u001b[39m\u001b[90;4mIn[53]:8\u001b[0m\u001b[90m [inlined]\u001b[39m\n",
      " [2] \u001b[0m\u001b[1mmacro expansion\u001b[22m\n",
      "\u001b[90m   @ \u001b[39m\u001b[90m/buildworker/worker/package_linux64/build/usr/share/julia/stdlib/v1.6/Test/src/\u001b[39m\u001b[90;4mTest.jl:1151\u001b[0m\u001b[90m [inlined]\u001b[39m\n",
      " [3] top-level scope\n",
      "\u001b[90m   @ \u001b[39m\u001b[90;4mIn[53]:2\u001b[0m\n",
      "iLQR: \u001b[91m\u001b[1mTest Failed\u001b[22m\u001b[39m at \u001b[39m\u001b[1mIn[53]:9\u001b[22m\n",
      "  Expression: minimum(minimum.(Uline)) > -40\n",
      "   Evaluated: NaN > -40\n",
      "Stacktrace:\n",
      " [1] \u001b[0m\u001b[1mmacro expansion\u001b[22m\n",
      "\u001b[90m   @ \u001b[39m\u001b[90;4mIn[53]:9\u001b[0m\u001b[90m [inlined]\u001b[39m\n",
      " [2] \u001b[0m\u001b[1mmacro expansion\u001b[22m\n",
      "\u001b[90m   @ \u001b[39m\u001b[90m/buildworker/worker/package_linux64/build/usr/share/julia/stdlib/v1.6/Test/src/\u001b[39m\u001b[90;4mTest.jl:1151\u001b[0m\u001b[90m [inlined]\u001b[39m\n",
      " [3] top-level scope\n",
      "\u001b[90m   @ \u001b[39m\u001b[90;4mIn[53]:2\u001b[0m\n",
      "iLQR: \u001b[91m\u001b[1mTest Failed\u001b[22m\u001b[39m at \u001b[39m\u001b[1mIn[53]:13\u001b[22m\n",
      "  Expression: ΔJ < 0.0001\n",
      "   Evaluated: NaN < 0.0001\n",
      "Stacktrace:\n",
      " [1] \u001b[0m\u001b[1mmacro expansion\u001b[22m\n",
      "\u001b[90m   @ \u001b[39m\u001b[90;4mIn[53]:13\u001b[0m\u001b[90m [inlined]\u001b[39m\n",
      " [2] \u001b[0m\u001b[1mmacro expansion\u001b[22m\n",
      "\u001b[90m   @ \u001b[39m\u001b[90m/buildworker/worker/package_linux64/build/usr/share/julia/stdlib/v1.6/Test/src/\u001b[39m\u001b[90;4mTest.jl:1151\u001b[0m\u001b[90m [inlined]\u001b[39m\n",
      " [3] top-level scope\n",
      "\u001b[90m   @ \u001b[39m\u001b[90;4mIn[53]:2\u001b[0m\n",
      "iLQR: \u001b[91m\u001b[1mTest Failed\u001b[22m\u001b[39m at \u001b[39m\u001b[1mIn[53]:14\u001b[22m\n",
      "  Expression: maximum(norm.(d)) < 0.001\n",
      "   Evaluated: NaN < 0.001\n",
      "Stacktrace:\n",
      " [1] \u001b[0m\u001b[1mmacro expansion\u001b[22m\n",
      "\u001b[90m   @ \u001b[39m\u001b[90;4mIn[53]:14\u001b[0m\u001b[90m [inlined]\u001b[39m\n",
      " [2] \u001b[0m\u001b[1mmacro expansion\u001b[22m\n",
      "\u001b[90m   @ \u001b[39m\u001b[90m/buildworker/worker/package_linux64/build/usr/share/julia/stdlib/v1.6/Test/src/\u001b[39m\u001b[90;4mTest.jl:1151\u001b[0m\u001b[90m [inlined]\u001b[39m\n",
      " [3] top-level scope\n",
      "\u001b[90m   @ \u001b[39m\u001b[90;4mIn[53]:2\u001b[0m\n",
      "\u001b[0m\u001b[1mTest Summary: | \u001b[22m\u001b[32m\u001b[1mPass  \u001b[22m\u001b[39m\u001b[91m\u001b[1mFail  \u001b[22m\u001b[39m\u001b[36m\u001b[1mTotal\u001b[22m\u001b[39m\n",
      "iLQR          | \u001b[32m   2  \u001b[39m\u001b[91m   8  \u001b[39m\u001b[36m   10\u001b[39m\n"
     ]
    },
    {
     "ename": "LoadError",
     "evalue": "\u001b[91mSome tests did not pass: 2 passed, 8 failed, 0 errored, 0 broken.\u001b[39m",
     "output_type": "error",
     "traceback": [
      "\u001b[91mSome tests did not pass: 2 passed, 8 failed, 0 errored, 0 broken.\u001b[39m",
      "",
      "Stacktrace:",
      " [1] finish(ts::Test.DefaultTestSet)",
      "   @ Test /buildworker/worker/package_linux64/build/usr/share/julia/stdlib/v1.6/Test/src/Test.jl:913",
      " [2] macro expansion",
      "   @ /buildworker/worker/package_linux64/build/usr/share/julia/stdlib/v1.6/Test/src/Test.jl:1161 [inlined]",
      " [3] top-level scope",
      "   @ In[53]:2",
      " [4] eval",
      "   @ ./boot.jl:360 [inlined]",
      " [5] include_string(mapexpr::typeof(REPL.softscope), mod::Module, code::String, filename::String)",
      "   @ Base ./loading.jl:1116"
     ]
    }
   ],
   "source": [
    "@testset \"iLQR\" begin                                                     # POINTS = 10\n",
    "    @test trajectory_cost(Xline,Uline,Xrefline,Urefline) <4.8e2           # POINTS = 1\n",
    "    @test iterline < 50                                                   # POINTS = 1                      \n",
    "    @test iterline > 30                                                   # POINTS = 1\n",
    "    @test norm(Xline[end] - xgoal) < 0.2                                  # POINTS = 1\n",
    "    @test maximum(maximum.(Uline)) < 40                                   # POINTS = 1\n",
    "    @test maximum(maximum.(Uline)) > 30                                   # POINTS = 1\n",
    "    @test minimum(minimum.(Uline)) < -30                                  # POINTS = 1\n",
    "    @test minimum(minimum.(Uline)) > -40                                  # POINTS = 1\n",
    "    \n",
    "    d, K, P, ΔJ = backward_pass(Xline,Uline,Xrefline,Urefline)\n",
    "    \n",
    "    @test ΔJ < 1e-4                                                       # POINTS = 1\n",
    "    @test maximum(norm.(d)) < 1e-3                                        # POINTS = 1\n",
    "end;"
   ]
  },
  {
   "cell_type": "code",
   "execution_count": 33,
   "metadata": {},
   "outputs": [
    {
     "name": "stderr",
     "output_type": "stream",
     "text": [
      "┌ Info: MeshCat server started. You can open the visualizer by visiting the following URL in your browser:\n",
      "│ http://127.0.0.1:8701\n",
      "└ @ MeshCat /home/brian/.julia/packages/MeshCat/Ax8pH/src/visualizer.jl:73\n"
     ]
    },
    {
     "data": {
      "text/html": [
       "    <div style=\"height: 500px; width: 100%; overflow-x: auto; overflow-y: hidden; resize: both\">\n",
       "    <iframe src=\"http://127.0.0.1:8701\" style=\"width: 100%; height: 100%; border: none\"></iframe>\n",
       "    </div>\n"
      ],
      "text/plain": [
       "MeshCat.DisplayedVisualizer(MeshCat.CoreVisualizer(MeshCat.SceneTrees.SceneNode(nothing, nothing, Dict{String, Vector{UInt8}}(), nothing, Dict{String, MeshCat.SceneTrees.SceneNode}(\"meshcat\" => MeshCat.SceneTrees.SceneNode(nothing, nothing, Dict{String, Vector{UInt8}}(), nothing, Dict{String, MeshCat.SceneTrees.SceneNode}(\"robot\" => MeshCat.SceneTrees.SceneNode(nothing, nothing, Dict{String, Vector{UInt8}}(), nothing, Dict{String, MeshCat.SceneTrees.SceneNode}(\"geom\" => MeshCat.SceneTrees.SceneNode(UInt8[0x83, 0xa6, 0x6f, 0x62, 0x6a, 0x65, 0x63, 0x74, 0x84, 0xaa  …  0x72, 0x6f, 0x62, 0x6f, 0x74, 0x2f, 0x67, 0x65, 0x6f, 0x6d], nothing, Dict{String, Vector{UInt8}}(), nothing, Dict{String, MeshCat.SceneTrees.SceneNode}()))))))), Set{Any}(), ip\"127.0.0.1\", 8701))"
      ]
     },
     "execution_count": 33,
     "metadata": {},
     "output_type": "execute_result"
    }
   ],
   "source": [
    "if !isautograder\n",
    "    vis = Visualizer()\n",
    "    set_mesh!(vis, model)\n",
    "    render(vis)\n",
    "end"
   ]
  },
  {
   "cell_type": "code",
   "execution_count": 34,
   "metadata": {},
   "outputs": [],
   "source": [
    "isautograder || visualize!(vis, model, dt*(N-1), Xline)"
   ]
  },
  {
   "cell_type": "markdown",
   "metadata": {},
   "source": [
    "## Part (c): Generate Cost function for Flip (5 pts)\n",
    "Now that we have a working iLQR solver, let's do something more interesting than just getting it to fly in a straight line. Let's do a flip!\n",
    "\n",
    "Generate a reference trajectory for the cost function. Since we're designing it by hand we'll do something simple. Complete the function below to generate a trajectory that does the following:\n",
    "* 0.0-0.5 sec: Moves linearly from -3 to 0 in x, $p_z=1$, $\\omega=0$\n",
    "* 0.5-1.0 sec: Moves linearly from 1 to 3 and back to 1 in z. $\\theta$ goes from 0 to -2$\\pi$. No movement in x.\n",
    "* 1.0-1.5 sec: Moves linearly from 0 to 3 in x.\n",
    "\n",
    "The velocities should be consistent with the positions and the changes between phases should happen at all the same indices as the positions.\n",
    "\n",
    "The trajectory should look like the following:\n",
    "![flip_traj](flip_reference.png)"
   ]
  },
  {
   "cell_type": "code",
   "execution_count": 42,
   "metadata": {},
   "outputs": [
    {
     "data": {
      "text/plain": [
       "flip_reference"
      ]
     },
     "execution_count": 42,
     "metadata": {},
     "output_type": "execute_result"
    }
   ],
   "source": [
    "# TASK: Implement the following method\n",
    "\"\"\"\n",
    "    flip_reference\n",
    "\n",
    "Generate a reference trajectory for the quadrotor that encourages it to do a flip.\n",
    "The trajectory should have a length of 61.\n",
    "\n",
    "hint: LinRange is a good function to use\n",
    "        `LinRange(start,stop,length)`\n",
    "\n",
    "hint: you can break up the time indexing like this:\n",
    "    0    - 0.5  sec: indices 1:20\n",
    "    0.5  - 0.75 sec: indices 21:30\n",
    "    0.75 - 1.0  sec: indices 31:40\n",
    "    1.0  - 1.5  sec: indices 41:61\n",
    "\n",
    "You should plot your reference trajectory to ensure it looks like the given plot.\n",
    "\"\"\"\n",
    "function flip_reference()\n",
    "    # TODO: Design the reference trajectory according to the specs above\n",
    "    x1ref = zeros(61)*NaN\n",
    "    x2ref = zeros(61)*NaN\n",
    "    θref = zeros(61)*NaN\n",
    "    v1ref = zeros(61)*NaN\n",
    "    v2ref = zeros(61)*NaN\n",
    "    ωref = zeros(61)*NaN\n",
    "    \n",
    "    xref = [x1ref'; x2ref'; θref'; v1ref'; v2ref'; ωref']\n",
    "    return [x for x in eachcol(xref)]\n",
    "end"
   ]
  },
  {
   "cell_type": "code",
   "execution_count": 43,
   "metadata": {},
   "outputs": [
    {
     "data": {
      "image/svg+xml": [
       "<?xml version=\"1.0\" encoding=\"utf-8\"?>\n",
       "<svg xmlns=\"http://www.w3.org/2000/svg\" xmlns:xlink=\"http://www.w3.org/1999/xlink\" width=\"600\" height=\"400\" viewBox=\"0 0 2400 1600\">\n",
       "<defs>\n",
       "  <clipPath id=\"clip260\">\n",
       "    <rect x=\"0\" y=\"0\" width=\"2400\" height=\"1600\"/>\n",
       "  </clipPath>\n",
       "</defs>\n",
       "<path clip-path=\"url(#clip260)\" d=\"\n",
       "M0 1600 L2400 1600 L2400 0 L0 0  Z\n",
       "  \" fill=\"#ffffff\" fill-rule=\"evenodd\" fill-opacity=\"1\"/>\n",
       "<defs>\n",
       "  <clipPath id=\"clip261\">\n",
       "    <rect x=\"480\" y=\"0\" width=\"1681\" height=\"1600\"/>\n",
       "  </clipPath>\n",
       "</defs>\n",
       "<path clip-path=\"url(#clip260)\" d=\"\n",
       "M186.274 1423.18 L1152.76 1423.18 L1152.76 47.2441 L186.274 47.2441  Z\n",
       "  \" fill=\"#ffffff\" fill-rule=\"evenodd\" fill-opacity=\"1\"/>\n",
       "<defs>\n",
       "  <clipPath id=\"clip262\">\n",
       "    <rect x=\"186\" y=\"47\" width=\"967\" height=\"1377\"/>\n",
       "  </clipPath>\n",
       "</defs>\n",
       "<polyline clip-path=\"url(#clip262)\" style=\"stroke:#000000; stroke-linecap:butt; stroke-linejoin:round; stroke-width:2; stroke-opacity:0.1; fill:none\" points=\"\n",
       "  213.627,1423.18 213.627,47.2441 \n",
       "  \"/>\n",
       "<polyline clip-path=\"url(#clip262)\" style=\"stroke:#000000; stroke-linecap:butt; stroke-linejoin:round; stroke-width:2; stroke-opacity:0.1; fill:none\" points=\"\n",
       "  517.552,1423.18 517.552,47.2441 \n",
       "  \"/>\n",
       "<polyline clip-path=\"url(#clip262)\" style=\"stroke:#000000; stroke-linecap:butt; stroke-linejoin:round; stroke-width:2; stroke-opacity:0.1; fill:none\" points=\"\n",
       "  821.478,1423.18 821.478,47.2441 \n",
       "  \"/>\n",
       "<polyline clip-path=\"url(#clip262)\" style=\"stroke:#000000; stroke-linecap:butt; stroke-linejoin:round; stroke-width:2; stroke-opacity:0.1; fill:none\" points=\"\n",
       "  1125.4,1423.18 1125.4,47.2441 \n",
       "  \"/>\n",
       "<polyline clip-path=\"url(#clip260)\" style=\"stroke:#000000; stroke-linecap:butt; stroke-linejoin:round; stroke-width:4; stroke-opacity:1; fill:none\" points=\"\n",
       "  186.274,1423.18 1152.76,1423.18 \n",
       "  \"/>\n",
       "<polyline clip-path=\"url(#clip260)\" style=\"stroke:#000000; stroke-linecap:butt; stroke-linejoin:round; stroke-width:4; stroke-opacity:1; fill:none\" points=\"\n",
       "  213.627,1423.18 213.627,1404.28 \n",
       "  \"/>\n",
       "<polyline clip-path=\"url(#clip260)\" style=\"stroke:#000000; stroke-linecap:butt; stroke-linejoin:round; stroke-width:4; stroke-opacity:1; fill:none\" points=\"\n",
       "  517.552,1423.18 517.552,1404.28 \n",
       "  \"/>\n",
       "<polyline clip-path=\"url(#clip260)\" style=\"stroke:#000000; stroke-linecap:butt; stroke-linejoin:round; stroke-width:4; stroke-opacity:1; fill:none\" points=\"\n",
       "  821.478,1423.18 821.478,1404.28 \n",
       "  \"/>\n",
       "<polyline clip-path=\"url(#clip260)\" style=\"stroke:#000000; stroke-linecap:butt; stroke-linejoin:round; stroke-width:4; stroke-opacity:1; fill:none\" points=\"\n",
       "  1125.4,1423.18 1125.4,1404.28 \n",
       "  \"/>\n",
       "<path clip-path=\"url(#clip260)\" d=\"M191.012 1454.1 Q187.401 1454.1 185.572 1457.66 Q183.766 1461.2 183.766 1468.33 Q183.766 1475.44 185.572 1479.01 Q187.401 1482.55 191.012 1482.55 Q194.646 1482.55 196.451 1479.01 Q198.28 1475.44 198.28 1468.33 Q198.28 1461.2 196.451 1457.66 Q194.646 1454.1 191.012 1454.1 M191.012 1450.39 Q196.822 1450.39 199.877 1455 Q202.956 1459.58 202.956 1468.33 Q202.956 1477.06 199.877 1481.67 Q196.822 1486.25 191.012 1486.25 Q185.201 1486.25 182.123 1481.67 Q179.067 1477.06 179.067 1468.33 Q179.067 1459.58 182.123 1455 Q185.201 1450.39 191.012 1450.39 Z\" fill=\"#000000\" fill-rule=\"evenodd\" fill-opacity=\"1\" /><path clip-path=\"url(#clip260)\" d=\"M211.174 1479.7 L216.058 1479.7 L216.058 1485.58 L211.174 1485.58 L211.174 1479.7 Z\" fill=\"#000000\" fill-rule=\"evenodd\" fill-opacity=\"1\" /><path clip-path=\"url(#clip260)\" d=\"M236.243 1454.1 Q232.632 1454.1 230.803 1457.66 Q228.998 1461.2 228.998 1468.33 Q228.998 1475.44 230.803 1479.01 Q232.632 1482.55 236.243 1482.55 Q239.877 1482.55 241.683 1479.01 Q243.511 1475.44 243.511 1468.33 Q243.511 1461.2 241.683 1457.66 Q239.877 1454.1 236.243 1454.1 M236.243 1450.39 Q242.053 1450.39 245.109 1455 Q248.187 1459.58 248.187 1468.33 Q248.187 1477.06 245.109 1481.67 Q242.053 1486.25 236.243 1486.25 Q230.433 1486.25 227.354 1481.67 Q224.299 1477.06 224.299 1468.33 Q224.299 1459.58 227.354 1455 Q230.433 1450.39 236.243 1450.39 Z\" fill=\"#000000\" fill-rule=\"evenodd\" fill-opacity=\"1\" /><path clip-path=\"url(#clip260)\" d=\"M495.434 1454.1 Q491.823 1454.1 489.995 1457.66 Q488.189 1461.2 488.189 1468.33 Q488.189 1475.44 489.995 1479.01 Q491.823 1482.55 495.434 1482.55 Q499.069 1482.55 500.874 1479.01 Q502.703 1475.44 502.703 1468.33 Q502.703 1461.2 500.874 1457.66 Q499.069 1454.1 495.434 1454.1 M495.434 1450.39 Q501.245 1450.39 504.3 1455 Q507.379 1459.58 507.379 1468.33 Q507.379 1477.06 504.3 1481.67 Q501.245 1486.25 495.434 1486.25 Q489.624 1486.25 486.546 1481.67 Q483.49 1477.06 483.49 1468.33 Q483.49 1459.58 486.546 1455 Q489.624 1450.39 495.434 1450.39 Z\" fill=\"#000000\" fill-rule=\"evenodd\" fill-opacity=\"1\" /><path clip-path=\"url(#clip260)\" d=\"M515.596 1479.7 L520.481 1479.7 L520.481 1485.58 L515.596 1485.58 L515.596 1479.7 Z\" fill=\"#000000\" fill-rule=\"evenodd\" fill-opacity=\"1\" /><path clip-path=\"url(#clip260)\" d=\"M530.712 1451.02 L549.068 1451.02 L549.068 1454.96 L534.994 1454.96 L534.994 1463.43 Q536.013 1463.08 537.031 1462.92 Q538.05 1462.73 539.068 1462.73 Q544.855 1462.73 548.235 1465.9 Q551.615 1469.08 551.615 1474.49 Q551.615 1480.07 548.143 1483.17 Q544.67 1486.25 538.351 1486.25 Q536.175 1486.25 533.906 1485.88 Q531.661 1485.51 529.254 1484.77 L529.254 1480.07 Q531.337 1481.2 533.559 1481.76 Q535.781 1482.32 538.258 1482.32 Q542.263 1482.32 544.601 1480.21 Q546.939 1478.1 546.939 1474.49 Q546.939 1470.88 544.601 1468.77 Q542.263 1466.67 538.258 1466.67 Q536.383 1466.67 534.508 1467.08 Q532.656 1467.5 530.712 1468.38 L530.712 1451.02 Z\" fill=\"#000000\" fill-rule=\"evenodd\" fill-opacity=\"1\" /><path clip-path=\"url(#clip260)\" d=\"M788.63 1481.64 L796.269 1481.64 L796.269 1455.28 L787.959 1456.95 L787.959 1452.69 L796.223 1451.02 L800.899 1451.02 L800.899 1481.64 L808.538 1481.64 L808.538 1485.58 L788.63 1485.58 L788.63 1481.64 Z\" fill=\"#000000\" fill-rule=\"evenodd\" fill-opacity=\"1\" /><path clip-path=\"url(#clip260)\" d=\"M817.982 1479.7 L822.866 1479.7 L822.866 1485.58 L817.982 1485.58 L817.982 1479.7 Z\" fill=\"#000000\" fill-rule=\"evenodd\" fill-opacity=\"1\" /><path clip-path=\"url(#clip260)\" d=\"M843.051 1454.1 Q839.44 1454.1 837.612 1457.66 Q835.806 1461.2 835.806 1468.33 Q835.806 1475.44 837.612 1479.01 Q839.44 1482.55 843.051 1482.55 Q846.686 1482.55 848.491 1479.01 Q850.32 1475.44 850.32 1468.33 Q850.32 1461.2 848.491 1457.66 Q846.686 1454.1 843.051 1454.1 M843.051 1450.39 Q848.862 1450.39 851.917 1455 Q854.996 1459.58 854.996 1468.33 Q854.996 1477.06 851.917 1481.67 Q848.862 1486.25 843.051 1486.25 Q837.241 1486.25 834.163 1481.67 Q831.107 1477.06 831.107 1468.33 Q831.107 1459.58 834.163 1455 Q837.241 1450.39 843.051 1450.39 Z\" fill=\"#000000\" fill-rule=\"evenodd\" fill-opacity=\"1\" /><path clip-path=\"url(#clip260)\" d=\"M1093.05 1481.64 L1100.69 1481.64 L1100.69 1455.28 L1092.38 1456.95 L1092.38 1452.69 L1100.65 1451.02 L1105.32 1451.02 L1105.32 1481.64 L1112.96 1481.64 L1112.96 1485.58 L1093.05 1485.58 L1093.05 1481.64 Z\" fill=\"#000000\" fill-rule=\"evenodd\" fill-opacity=\"1\" /><path clip-path=\"url(#clip260)\" d=\"M1122.4 1479.7 L1127.29 1479.7 L1127.29 1485.58 L1122.4 1485.58 L1122.4 1479.7 Z\" fill=\"#000000\" fill-rule=\"evenodd\" fill-opacity=\"1\" /><path clip-path=\"url(#clip260)\" d=\"M1137.52 1451.02 L1155.88 1451.02 L1155.88 1454.96 L1141.8 1454.96 L1141.8 1463.43 Q1142.82 1463.08 1143.84 1462.92 Q1144.86 1462.73 1145.88 1462.73 Q1151.66 1462.73 1155.04 1465.9 Q1158.42 1469.08 1158.42 1474.49 Q1158.42 1480.07 1154.95 1483.17 Q1151.48 1486.25 1145.16 1486.25 Q1142.98 1486.25 1140.72 1485.88 Q1138.47 1485.51 1136.06 1484.77 L1136.06 1480.07 Q1138.15 1481.2 1140.37 1481.76 Q1142.59 1482.32 1145.07 1482.32 Q1149.07 1482.32 1151.41 1480.21 Q1153.75 1478.1 1153.75 1474.49 Q1153.75 1470.88 1151.41 1468.77 Q1149.07 1466.67 1145.07 1466.67 Q1143.19 1466.67 1141.32 1467.08 Q1139.47 1467.5 1137.52 1468.38 L1137.52 1451.02 Z\" fill=\"#000000\" fill-rule=\"evenodd\" fill-opacity=\"1\" /><path clip-path=\"url(#clip260)\" d=\"M556.969 1522.27 L556.969 1532.4 L569.032 1532.4 L569.032 1536.95 L556.969 1536.95 L556.969 1556.3 Q556.969 1560.66 558.147 1561.9 Q559.356 1563.14 563.017 1563.14 L569.032 1563.14 L569.032 1568.04 L563.017 1568.04 Q556.237 1568.04 553.659 1565.53 Q551.081 1562.98 551.081 1556.3 L551.081 1536.95 L546.784 1536.95 L546.784 1532.4 L551.081 1532.4 L551.081 1522.27 L556.969 1522.27 Z\" fill=\"#000000\" fill-rule=\"evenodd\" fill-opacity=\"1\" /><path clip-path=\"url(#clip260)\" d=\"M576.735 1532.4 L582.591 1532.4 L582.591 1568.04 L576.735 1568.04 L576.735 1532.4 M576.735 1518.52 L582.591 1518.52 L582.591 1525.93 L576.735 1525.93 L576.735 1518.52 Z\" fill=\"#000000\" fill-rule=\"evenodd\" fill-opacity=\"1\" /><path clip-path=\"url(#clip260)\" d=\"M622.6 1539.24 Q624.796 1535.29 627.851 1533.41 Q630.907 1531.54 635.045 1531.54 Q640.615 1531.54 643.638 1535.45 Q646.662 1539.33 646.662 1546.53 L646.662 1568.04 L640.774 1568.04 L640.774 1546.72 Q640.774 1541.59 638.96 1539.11 Q637.145 1536.63 633.421 1536.63 Q628.87 1536.63 626.228 1539.65 Q623.586 1542.68 623.586 1547.9 L623.586 1568.04 L617.698 1568.04 L617.698 1546.72 Q617.698 1541.56 615.884 1539.11 Q614.07 1536.63 610.282 1536.63 Q605.794 1536.63 603.152 1539.68 Q600.511 1542.71 600.511 1547.9 L600.511 1568.04 L594.622 1568.04 L594.622 1532.4 L600.511 1532.4 L600.511 1537.93 Q602.516 1534.66 605.317 1533.1 Q608.118 1531.54 611.969 1531.54 Q615.852 1531.54 618.557 1533.51 Q621.295 1535.48 622.6 1539.24 Z\" fill=\"#000000\" fill-rule=\"evenodd\" fill-opacity=\"1\" /><path clip-path=\"url(#clip260)\" d=\"M688.835 1548.76 L688.835 1551.62 L661.908 1551.62 Q662.29 1557.67 665.536 1560.85 Q668.815 1564 674.639 1564 Q678.013 1564 681.164 1563.17 Q684.347 1562.35 687.466 1560.69 L687.466 1566.23 Q684.315 1567.57 681.005 1568.27 Q677.695 1568.97 674.289 1568.97 Q665.759 1568.97 660.762 1564 Q655.797 1559.04 655.797 1550.57 Q655.797 1541.82 660.507 1536.69 Q665.25 1531.54 673.271 1531.54 Q680.464 1531.54 684.634 1536.18 Q688.835 1540.8 688.835 1548.76 M682.978 1547.04 Q682.915 1542.23 680.273 1539.37 Q677.663 1536.5 673.334 1536.5 Q668.433 1536.5 665.473 1539.27 Q662.545 1542.04 662.099 1547.07 L682.978 1547.04 Z\" fill=\"#000000\" fill-rule=\"evenodd\" fill-opacity=\"1\" /><path clip-path=\"url(#clip260)\" d=\"M733.236 1518.58 Q728.971 1525.9 726.902 1533.06 Q724.833 1540.23 724.833 1547.58 Q724.833 1554.93 726.902 1562.16 Q729.002 1569.35 733.236 1576.64 L728.143 1576.64 Q723.369 1569.16 720.982 1561.93 Q718.626 1554.71 718.626 1547.58 Q718.626 1540.48 720.982 1533.29 Q723.337 1526.09 728.143 1518.58 L733.236 1518.58 Z\" fill=\"#000000\" fill-rule=\"evenodd\" fill-opacity=\"1\" /><path clip-path=\"url(#clip260)\" d=\"M767.324 1533.45 L767.324 1538.98 Q764.841 1537.71 762.168 1537.07 Q759.494 1536.44 756.63 1536.44 Q752.269 1536.44 750.073 1537.77 Q747.909 1539.11 747.909 1541.79 Q747.909 1543.82 749.468 1545 Q751.028 1546.15 755.738 1547.2 L757.744 1547.64 Q763.982 1548.98 766.592 1551.43 Q769.234 1553.85 769.234 1558.21 Q769.234 1563.17 765.287 1566.07 Q761.372 1568.97 754.497 1568.97 Q751.633 1568.97 748.513 1568.39 Q745.426 1567.85 741.989 1566.74 L741.989 1560.69 Q745.235 1562.38 748.386 1563.24 Q751.537 1564.07 754.624 1564.07 Q758.762 1564.07 760.99 1562.66 Q763.218 1561.23 763.218 1558.65 Q763.218 1556.27 761.595 1554.99 Q760.003 1553.72 754.561 1552.54 L752.524 1552.07 Q747.081 1550.92 744.662 1548.56 Q742.243 1546.18 742.243 1542.04 Q742.243 1537.01 745.808 1534.27 Q749.373 1531.54 755.929 1531.54 Q759.176 1531.54 762.04 1532.01 Q764.905 1532.49 767.324 1533.45 Z\" fill=\"#000000\" fill-rule=\"evenodd\" fill-opacity=\"1\" /><path clip-path=\"url(#clip260)\" d=\"M777.636 1518.58 L782.729 1518.58 Q787.503 1526.09 789.859 1533.29 Q792.246 1540.48 792.246 1547.58 Q792.246 1554.71 789.859 1561.93 Q787.503 1569.16 782.729 1576.64 L777.636 1576.64 Q781.87 1569.35 783.939 1562.16 Q786.039 1554.93 786.039 1547.58 Q786.039 1540.23 783.939 1533.06 Q781.87 1525.9 777.636 1518.58 Z\" fill=\"#000000\" fill-rule=\"evenodd\" fill-opacity=\"1\" /><polyline clip-path=\"url(#clip262)\" style=\"stroke:#000000; stroke-linecap:butt; stroke-linejoin:round; stroke-width:2; stroke-opacity:0.1; fill:none\" points=\"\n",
       "  186.274,1384.24 1152.76,1384.24 \n",
       "  \"/>\n",
       "<polyline clip-path=\"url(#clip262)\" style=\"stroke:#000000; stroke-linecap:butt; stroke-linejoin:round; stroke-width:2; stroke-opacity:0.1; fill:none\" points=\"\n",
       "  186.274,1059.73 1152.76,1059.73 \n",
       "  \"/>\n",
       "<polyline clip-path=\"url(#clip262)\" style=\"stroke:#000000; stroke-linecap:butt; stroke-linejoin:round; stroke-width:2; stroke-opacity:0.1; fill:none\" points=\"\n",
       "  186.274,735.212 1152.76,735.212 \n",
       "  \"/>\n",
       "<polyline clip-path=\"url(#clip262)\" style=\"stroke:#000000; stroke-linecap:butt; stroke-linejoin:round; stroke-width:2; stroke-opacity:0.1; fill:none\" points=\"\n",
       "  186.274,410.699 1152.76,410.699 \n",
       "  \"/>\n",
       "<polyline clip-path=\"url(#clip262)\" style=\"stroke:#000000; stroke-linecap:butt; stroke-linejoin:round; stroke-width:2; stroke-opacity:0.1; fill:none\" points=\"\n",
       "  186.274,86.1857 1152.76,86.1857 \n",
       "  \"/>\n",
       "<polyline clip-path=\"url(#clip260)\" style=\"stroke:#000000; stroke-linecap:butt; stroke-linejoin:round; stroke-width:4; stroke-opacity:1; fill:none\" points=\"\n",
       "  186.274,1423.18 186.274,47.2441 \n",
       "  \"/>\n",
       "<polyline clip-path=\"url(#clip260)\" style=\"stroke:#000000; stroke-linecap:butt; stroke-linejoin:round; stroke-width:4; stroke-opacity:1; fill:none\" points=\"\n",
       "  186.274,1384.24 205.172,1384.24 \n",
       "  \"/>\n",
       "<polyline clip-path=\"url(#clip260)\" style=\"stroke:#000000; stroke-linecap:butt; stroke-linejoin:round; stroke-width:4; stroke-opacity:1; fill:none\" points=\"\n",
       "  186.274,1059.73 205.172,1059.73 \n",
       "  \"/>\n",
       "<polyline clip-path=\"url(#clip260)\" style=\"stroke:#000000; stroke-linecap:butt; stroke-linejoin:round; stroke-width:4; stroke-opacity:1; fill:none\" points=\"\n",
       "  186.274,735.212 205.172,735.212 \n",
       "  \"/>\n",
       "<polyline clip-path=\"url(#clip260)\" style=\"stroke:#000000; stroke-linecap:butt; stroke-linejoin:round; stroke-width:4; stroke-opacity:1; fill:none\" points=\"\n",
       "  186.274,410.699 205.172,410.699 \n",
       "  \"/>\n",
       "<polyline clip-path=\"url(#clip260)\" style=\"stroke:#000000; stroke-linecap:butt; stroke-linejoin:round; stroke-width:4; stroke-opacity:1; fill:none\" points=\"\n",
       "  186.274,86.1857 205.172,86.1857 \n",
       "  \"/>\n",
       "<path clip-path=\"url(#clip260)\" d=\"M62.9365 1370.04 Q59.3254 1370.04 57.4967 1373.6 Q55.6912 1377.14 55.6912 1384.27 Q55.6912 1391.38 57.4967 1394.94 Q59.3254 1398.49 62.9365 1398.49 Q66.5707 1398.49 68.3763 1394.94 Q70.205 1391.38 70.205 1384.27 Q70.205 1377.14 68.3763 1373.6 Q66.5707 1370.04 62.9365 1370.04 M62.9365 1366.33 Q68.7467 1366.33 71.8022 1370.94 Q74.8809 1375.52 74.8809 1384.27 Q74.8809 1393 71.8022 1397.61 Q68.7467 1402.19 62.9365 1402.19 Q57.1264 1402.19 54.0477 1397.61 Q50.9921 1393 50.9921 1384.27 Q50.9921 1375.52 54.0477 1370.94 Q57.1264 1366.33 62.9365 1366.33 Z\" fill=\"#000000\" fill-rule=\"evenodd\" fill-opacity=\"1\" /><path clip-path=\"url(#clip260)\" d=\"M83.0984 1395.64 L87.9827 1395.64 L87.9827 1401.52 L83.0984 1401.52 L83.0984 1395.64 Z\" fill=\"#000000\" fill-rule=\"evenodd\" fill-opacity=\"1\" /><path clip-path=\"url(#clip260)\" d=\"M108.168 1370.04 Q104.557 1370.04 102.728 1373.6 Q100.922 1377.14 100.922 1384.27 Q100.922 1391.38 102.728 1394.94 Q104.557 1398.49 108.168 1398.49 Q111.802 1398.49 113.608 1394.94 Q115.436 1391.38 115.436 1384.27 Q115.436 1377.14 113.608 1373.6 Q111.802 1370.04 108.168 1370.04 M108.168 1366.33 Q113.978 1366.33 117.033 1370.94 Q120.112 1375.52 120.112 1384.27 Q120.112 1393 117.033 1397.61 Q113.978 1402.19 108.168 1402.19 Q102.358 1402.19 99.2789 1397.61 Q96.2234 1393 96.2234 1384.27 Q96.2234 1375.52 99.2789 1370.94 Q102.358 1366.33 108.168 1366.33 Z\" fill=\"#000000\" fill-rule=\"evenodd\" fill-opacity=\"1\" /><path clip-path=\"url(#clip260)\" d=\"M138.33 1370.04 Q134.719 1370.04 132.89 1373.6 Q131.084 1377.14 131.084 1384.27 Q131.084 1391.38 132.89 1394.94 Q134.719 1398.49 138.33 1398.49 Q141.964 1398.49 143.769 1394.94 Q145.598 1391.38 145.598 1384.27 Q145.598 1377.14 143.769 1373.6 Q141.964 1370.04 138.33 1370.04 M138.33 1366.33 Q144.14 1366.33 147.195 1370.94 Q150.274 1375.52 150.274 1384.27 Q150.274 1393 147.195 1397.61 Q144.14 1402.19 138.33 1402.19 Q132.519 1402.19 129.441 1397.61 Q126.385 1393 126.385 1384.27 Q126.385 1375.52 129.441 1370.94 Q132.519 1366.33 138.33 1366.33 Z\" fill=\"#000000\" fill-rule=\"evenodd\" fill-opacity=\"1\" /><path clip-path=\"url(#clip260)\" d=\"M63.9319 1045.52 Q60.3208 1045.52 58.4921 1049.09 Q56.6865 1052.63 56.6865 1059.76 Q56.6865 1066.87 58.4921 1070.43 Q60.3208 1073.97 63.9319 1073.97 Q67.5661 1073.97 69.3717 1070.43 Q71.2004 1066.87 71.2004 1059.76 Q71.2004 1052.63 69.3717 1049.09 Q67.5661 1045.52 63.9319 1045.52 M63.9319 1041.82 Q69.742 1041.82 72.7976 1046.43 Q75.8763 1051.01 75.8763 1059.76 Q75.8763 1068.49 72.7976 1073.09 Q69.742 1077.68 63.9319 1077.68 Q58.1217 1077.68 55.043 1073.09 Q51.9875 1068.49 51.9875 1059.76 Q51.9875 1051.01 55.043 1046.43 Q58.1217 1041.82 63.9319 1041.82 Z\" fill=\"#000000\" fill-rule=\"evenodd\" fill-opacity=\"1\" /><path clip-path=\"url(#clip260)\" d=\"M84.0938 1071.13 L88.978 1071.13 L88.978 1077.01 L84.0938 1077.01 L84.0938 1071.13 Z\" fill=\"#000000\" fill-rule=\"evenodd\" fill-opacity=\"1\" /><path clip-path=\"url(#clip260)\" d=\"M103.191 1073.07 L119.51 1073.07 L119.51 1077.01 L97.566 1077.01 L97.566 1073.07 Q100.228 1070.32 104.811 1065.69 Q109.418 1061.03 110.598 1059.69 Q112.844 1057.17 113.723 1055.43 Q114.626 1053.67 114.626 1051.98 Q114.626 1049.23 112.682 1047.49 Q110.76 1045.76 107.658 1045.76 Q105.459 1045.76 103.006 1046.52 Q100.575 1047.28 97.7974 1048.83 L97.7974 1044.11 Q100.621 1042.98 103.075 1042.4 Q105.529 1041.82 107.566 1041.82 Q112.936 1041.82 116.131 1044.51 Q119.325 1047.19 119.325 1051.68 Q119.325 1053.81 118.515 1055.73 Q117.728 1057.63 115.621 1060.22 Q115.043 1060.89 111.941 1064.11 Q108.839 1067.31 103.191 1073.07 Z\" fill=\"#000000\" fill-rule=\"evenodd\" fill-opacity=\"1\" /><path clip-path=\"url(#clip260)\" d=\"M129.371 1042.45 L147.728 1042.45 L147.728 1046.38 L133.654 1046.38 L133.654 1054.85 Q134.672 1054.51 135.691 1054.34 Q136.709 1054.16 137.728 1054.16 Q143.515 1054.16 146.894 1057.33 Q150.274 1060.5 150.274 1065.92 Q150.274 1071.5 146.802 1074.6 Q143.33 1077.68 137.01 1077.68 Q134.834 1077.68 132.566 1077.31 Q130.32 1076.94 127.913 1076.19 L127.913 1071.5 Q129.996 1072.63 132.219 1073.19 Q134.441 1073.74 136.918 1073.74 Q140.922 1073.74 143.26 1071.63 Q145.598 1069.53 145.598 1065.92 Q145.598 1062.31 143.26 1060.2 Q140.922 1058.09 136.918 1058.09 Q135.043 1058.09 133.168 1058.51 Q131.316 1058.93 129.371 1059.81 L129.371 1042.45 Z\" fill=\"#000000\" fill-rule=\"evenodd\" fill-opacity=\"1\" /><path clip-path=\"url(#clip260)\" d=\"M62.9365 721.011 Q59.3254 721.011 57.4967 724.575 Q55.6912 728.117 55.6912 735.247 Q55.6912 742.353 57.4967 745.918 Q59.3254 749.46 62.9365 749.46 Q66.5707 749.46 68.3763 745.918 Q70.205 742.353 70.205 735.247 Q70.205 728.117 68.3763 724.575 Q66.5707 721.011 62.9365 721.011 M62.9365 717.307 Q68.7467 717.307 71.8022 721.913 Q74.8809 726.497 74.8809 735.247 Q74.8809 743.973 71.8022 748.58 Q68.7467 753.163 62.9365 753.163 Q57.1264 753.163 54.0477 748.58 Q50.9921 743.973 50.9921 735.247 Q50.9921 726.497 54.0477 721.913 Q57.1264 717.307 62.9365 717.307 Z\" fill=\"#000000\" fill-rule=\"evenodd\" fill-opacity=\"1\" /><path clip-path=\"url(#clip260)\" d=\"M83.0984 746.612 L87.9827 746.612 L87.9827 752.492 L83.0984 752.492 L83.0984 746.612 Z\" fill=\"#000000\" fill-rule=\"evenodd\" fill-opacity=\"1\" /><path clip-path=\"url(#clip260)\" d=\"M98.2141 717.932 L116.57 717.932 L116.57 721.867 L102.496 721.867 L102.496 730.339 Q103.515 729.992 104.534 729.83 Q105.552 729.645 106.571 729.645 Q112.358 729.645 115.737 732.816 Q119.117 735.987 119.117 741.404 Q119.117 746.983 115.645 750.085 Q112.172 753.163 105.853 753.163 Q103.677 753.163 101.409 752.793 Q99.1632 752.423 96.7558 751.682 L96.7558 746.983 Q98.8391 748.117 101.061 748.673 Q103.284 749.228 105.76 749.228 Q109.765 749.228 112.103 747.122 Q114.441 745.015 114.441 741.404 Q114.441 737.793 112.103 735.687 Q109.765 733.58 105.76 733.58 Q103.885 733.58 102.01 733.997 Q100.159 734.413 98.2141 735.293 L98.2141 717.932 Z\" fill=\"#000000\" fill-rule=\"evenodd\" fill-opacity=\"1\" /><path clip-path=\"url(#clip260)\" d=\"M138.33 721.011 Q134.719 721.011 132.89 724.575 Q131.084 728.117 131.084 735.247 Q131.084 742.353 132.89 745.918 Q134.719 749.46 138.33 749.46 Q141.964 749.46 143.769 745.918 Q145.598 742.353 145.598 735.247 Q145.598 728.117 143.769 724.575 Q141.964 721.011 138.33 721.011 M138.33 717.307 Q144.14 717.307 147.195 721.913 Q150.274 726.497 150.274 735.247 Q150.274 743.973 147.195 748.58 Q144.14 753.163 138.33 753.163 Q132.519 753.163 129.441 748.58 Q126.385 743.973 126.385 735.247 Q126.385 726.497 129.441 721.913 Q132.519 717.307 138.33 717.307 Z\" fill=\"#000000\" fill-rule=\"evenodd\" fill-opacity=\"1\" /><path clip-path=\"url(#clip260)\" d=\"M63.9319 396.498 Q60.3208 396.498 58.4921 400.062 Q56.6865 403.604 56.6865 410.734 Q56.6865 417.84 58.4921 421.405 Q60.3208 424.946 63.9319 424.946 Q67.5661 424.946 69.3717 421.405 Q71.2004 417.84 71.2004 410.734 Q71.2004 403.604 69.3717 400.062 Q67.5661 396.498 63.9319 396.498 M63.9319 392.794 Q69.742 392.794 72.7976 397.4 Q75.8763 401.984 75.8763 410.734 Q75.8763 419.46 72.7976 424.067 Q69.742 428.65 63.9319 428.65 Q58.1217 428.65 55.043 424.067 Q51.9875 419.46 51.9875 410.734 Q51.9875 401.984 55.043 397.4 Q58.1217 392.794 63.9319 392.794 Z\" fill=\"#000000\" fill-rule=\"evenodd\" fill-opacity=\"1\" /><path clip-path=\"url(#clip260)\" d=\"M84.0938 422.099 L88.978 422.099 L88.978 427.979 L84.0938 427.979 L84.0938 422.099 Z\" fill=\"#000000\" fill-rule=\"evenodd\" fill-opacity=\"1\" /><path clip-path=\"url(#clip260)\" d=\"M97.9826 393.419 L120.205 393.419 L120.205 395.41 L107.658 427.979 L102.774 427.979 L114.58 397.354 L97.9826 397.354 L97.9826 393.419 Z\" fill=\"#000000\" fill-rule=\"evenodd\" fill-opacity=\"1\" /><path clip-path=\"url(#clip260)\" d=\"M129.371 393.419 L147.728 393.419 L147.728 397.354 L133.654 397.354 L133.654 405.826 Q134.672 405.479 135.691 405.317 Q136.709 405.132 137.728 405.132 Q143.515 405.132 146.894 408.303 Q150.274 411.474 150.274 416.891 Q150.274 422.47 146.802 425.571 Q143.33 428.65 137.01 428.65 Q134.834 428.65 132.566 428.28 Q130.32 427.909 127.913 427.169 L127.913 422.47 Q129.996 423.604 132.219 424.159 Q134.441 424.715 136.918 424.715 Q140.922 424.715 143.26 422.608 Q145.598 420.502 145.598 416.891 Q145.598 413.28 143.26 411.173 Q140.922 409.067 136.918 409.067 Q135.043 409.067 133.168 409.484 Q131.316 409.9 129.371 410.78 L129.371 393.419 Z\" fill=\"#000000\" fill-rule=\"evenodd\" fill-opacity=\"1\" /><path clip-path=\"url(#clip260)\" d=\"M53.7467 99.5305 L61.3856 99.5305 L61.3856 73.1649 L53.0754 74.8316 L53.0754 70.5723 L61.3393 68.9057 L66.0152 68.9057 L66.0152 99.5305 L73.654 99.5305 L73.654 103.466 L53.7467 103.466 L53.7467 99.5305 Z\" fill=\"#000000\" fill-rule=\"evenodd\" fill-opacity=\"1\" /><path clip-path=\"url(#clip260)\" d=\"M83.0984 97.5861 L87.9827 97.5861 L87.9827 103.466 L83.0984 103.466 L83.0984 97.5861 Z\" fill=\"#000000\" fill-rule=\"evenodd\" fill-opacity=\"1\" /><path clip-path=\"url(#clip260)\" d=\"M108.168 71.9844 Q104.557 71.9844 102.728 75.5492 Q100.922 79.0908 100.922 86.2204 Q100.922 93.3268 102.728 96.8916 Q104.557 100.433 108.168 100.433 Q111.802 100.433 113.608 96.8916 Q115.436 93.3268 115.436 86.2204 Q115.436 79.0908 113.608 75.5492 Q111.802 71.9844 108.168 71.9844 M108.168 68.2807 Q113.978 68.2807 117.033 72.8871 Q120.112 77.4704 120.112 86.2204 Q120.112 94.9472 117.033 99.5537 Q113.978 104.137 108.168 104.137 Q102.358 104.137 99.2789 99.5537 Q96.2234 94.9472 96.2234 86.2204 Q96.2234 77.4704 99.2789 72.8871 Q102.358 68.2807 108.168 68.2807 Z\" fill=\"#000000\" fill-rule=\"evenodd\" fill-opacity=\"1\" /><path clip-path=\"url(#clip260)\" d=\"M138.33 71.9844 Q134.719 71.9844 132.89 75.5492 Q131.084 79.0908 131.084 86.2204 Q131.084 93.3268 132.89 96.8916 Q134.719 100.433 138.33 100.433 Q141.964 100.433 143.769 96.8916 Q145.598 93.3268 145.598 86.2204 Q145.598 79.0908 143.769 75.5492 Q141.964 71.9844 138.33 71.9844 M138.33 68.2807 Q144.14 68.2807 147.195 72.8871 Q150.274 77.4704 150.274 86.2204 Q150.274 94.9472 147.195 99.5537 Q144.14 104.137 138.33 104.137 Q132.519 104.137 129.441 99.5537 Q126.385 94.9472 126.385 86.2204 Q126.385 77.4704 129.441 72.8871 Q132.519 68.2807 138.33 68.2807 Z\" fill=\"#000000\" fill-rule=\"evenodd\" fill-opacity=\"1\" /><path clip-path=\"url(#clip260)\" d=\"\n",
       "M218.49 1377.32 L378.168 1377.32 L378.168 1169.96 L218.49 1169.96  Z\n",
       "  \" fill=\"#ffffff\" fill-rule=\"evenodd\" fill-opacity=\"1\"/>\n",
       "<polyline clip-path=\"url(#clip260)\" style=\"stroke:#000000; stroke-linecap:butt; stroke-linejoin:round; stroke-width:4; stroke-opacity:1; fill:none\" points=\"\n",
       "  218.49,1377.32 378.168,1377.32 378.168,1169.96 218.49,1169.96 218.49,1377.32 \n",
       "  \"/>\n",
       "<polyline clip-path=\"url(#clip260)\" style=\"stroke:#009af9; stroke-linecap:butt; stroke-linejoin:round; stroke-width:4; stroke-opacity:1; fill:none\" points=\"\n",
       "  229.229,1221.8 293.661,1221.8 \n",
       "  \"/>\n",
       "<path clip-path=\"url(#clip260)\" d=\"M308.682 1235.19 L308.682 1248.94 L304.4 1248.94 L304.4 1213.15 L308.682 1213.15 L308.682 1217.08 Q310.025 1214.77 312.062 1213.66 Q314.122 1212.52 316.969 1212.52 Q321.691 1212.52 324.631 1216.27 Q327.594 1220.02 327.594 1226.14 Q327.594 1232.25 324.631 1236 Q321.691 1239.75 316.969 1239.75 Q314.122 1239.75 312.062 1238.64 Q310.025 1237.5 308.682 1235.19 M323.173 1226.14 Q323.173 1221.44 321.228 1218.77 Q319.307 1216.09 315.927 1216.09 Q312.548 1216.09 310.603 1218.77 Q308.682 1221.44 308.682 1226.14 Q308.682 1230.83 310.603 1233.52 Q312.548 1236.18 315.927 1236.18 Q319.307 1236.18 321.228 1233.52 Q323.173 1230.83 323.173 1226.14 Z\" fill=\"#000000\" fill-rule=\"evenodd\" fill-opacity=\"1\" /><path clip-path=\"url(#clip260)\" d=\"M356.205 1213.15 L346.83 1225.77 L356.691 1239.08 L351.668 1239.08 L344.122 1228.89 L336.575 1239.08 L331.552 1239.08 L341.622 1225.51 L332.409 1213.15 L337.432 1213.15 L344.307 1222.39 L351.182 1213.15 L356.205 1213.15 Z\" fill=\"#000000\" fill-rule=\"evenodd\" fill-opacity=\"1\" /><polyline clip-path=\"url(#clip260)\" style=\"stroke:#e26f46; stroke-linecap:butt; stroke-linejoin:round; stroke-width:4; stroke-opacity:1; fill:none\" points=\"\n",
       "  229.229,1273.64 293.661,1273.64 \n",
       "  \"/>\n",
       "<path clip-path=\"url(#clip260)\" d=\"M308.682 1287.03 L308.682 1300.78 L304.4 1300.78 L304.4 1264.99 L308.682 1264.99 L308.682 1268.92 Q310.025 1266.61 312.062 1265.5 Q314.122 1264.36 316.969 1264.36 Q321.691 1264.36 324.631 1268.11 Q327.594 1271.86 327.594 1277.98 Q327.594 1284.09 324.631 1287.84 Q321.691 1291.59 316.969 1291.59 Q314.122 1291.59 312.062 1290.48 Q310.025 1289.34 308.682 1287.03 M323.173 1277.98 Q323.173 1273.28 321.228 1270.61 Q319.307 1267.93 315.927 1267.93 Q312.548 1267.93 310.603 1270.61 Q308.682 1273.28 308.682 1277.98 Q308.682 1282.67 310.603 1285.36 Q312.548 1288.02 315.927 1288.02 Q319.307 1288.02 321.228 1285.36 Q323.173 1282.67 323.173 1277.98 Z\" fill=\"#000000\" fill-rule=\"evenodd\" fill-opacity=\"1\" /><path clip-path=\"url(#clip260)\" d=\"M332.802 1264.99 L353.034 1264.99 L353.034 1268.88 L337.015 1287.51 L353.034 1287.51 L353.034 1290.92 L332.223 1290.92 L332.223 1287.03 L348.242 1268.39 L332.802 1268.39 L332.802 1264.99 Z\" fill=\"#000000\" fill-rule=\"evenodd\" fill-opacity=\"1\" /><polyline clip-path=\"url(#clip260)\" style=\"stroke:#3da44d; stroke-linecap:butt; stroke-linejoin:round; stroke-width:4; stroke-opacity:1; fill:none\" points=\"\n",
       "  229.229,1325.48 293.661,1325.48 \n",
       "  \"/>\n",
       "<path clip-path=\"url(#clip260)\" d=\"M323.659 1326.32 L308.913 1326.32 Q309.261 1333.24 310.858 1336.18 Q312.849 1339.79 316.298 1339.79 Q319.77 1339.79 321.691 1336.16 Q323.381 1332.96 323.659 1326.32 M323.589 1322.39 Q322.941 1315.81 321.691 1313.5 Q319.7 1309.84 316.298 1309.84 Q312.756 1309.84 310.881 1313.45 Q309.4 1316.37 308.96 1322.39 L323.589 1322.39 M316.298 1306.37 Q321.853 1306.37 325.024 1311.27 Q328.196 1316.16 328.196 1324.82 Q328.196 1333.45 325.024 1338.36 Q321.853 1343.29 316.298 1343.29 Q310.719 1343.29 307.571 1338.36 Q304.4 1333.45 304.4 1324.82 Q304.4 1316.16 307.571 1311.27 Q310.719 1306.37 316.298 1306.37 Z\" fill=\"#000000\" fill-rule=\"evenodd\" fill-opacity=\"1\" /><path clip-path=\"url(#clip260)\" d=\"\n",
       "M1386.27 1423.18 L2352.76 1423.18 L2352.76 47.2441 L1386.27 47.2441  Z\n",
       "  \" fill=\"#ffffff\" fill-rule=\"evenodd\" fill-opacity=\"1\"/>\n",
       "<defs>\n",
       "  <clipPath id=\"clip263\">\n",
       "    <rect x=\"1386\" y=\"47\" width=\"967\" height=\"1377\"/>\n",
       "  </clipPath>\n",
       "</defs>\n",
       "<polyline clip-path=\"url(#clip263)\" style=\"stroke:#000000; stroke-linecap:butt; stroke-linejoin:round; stroke-width:2; stroke-opacity:0.1; fill:none\" points=\"\n",
       "  1413.63,1423.18 1413.63,47.2441 \n",
       "  \"/>\n",
       "<polyline clip-path=\"url(#clip263)\" style=\"stroke:#000000; stroke-linecap:butt; stroke-linejoin:round; stroke-width:2; stroke-opacity:0.1; fill:none\" points=\"\n",
       "  1717.55,1423.18 1717.55,47.2441 \n",
       "  \"/>\n",
       "<polyline clip-path=\"url(#clip263)\" style=\"stroke:#000000; stroke-linecap:butt; stroke-linejoin:round; stroke-width:2; stroke-opacity:0.1; fill:none\" points=\"\n",
       "  2021.48,1423.18 2021.48,47.2441 \n",
       "  \"/>\n",
       "<polyline clip-path=\"url(#clip263)\" style=\"stroke:#000000; stroke-linecap:butt; stroke-linejoin:round; stroke-width:2; stroke-opacity:0.1; fill:none\" points=\"\n",
       "  2325.4,1423.18 2325.4,47.2441 \n",
       "  \"/>\n",
       "<polyline clip-path=\"url(#clip260)\" style=\"stroke:#000000; stroke-linecap:butt; stroke-linejoin:round; stroke-width:4; stroke-opacity:1; fill:none\" points=\"\n",
       "  1386.27,1423.18 2352.76,1423.18 \n",
       "  \"/>\n",
       "<polyline clip-path=\"url(#clip260)\" style=\"stroke:#000000; stroke-linecap:butt; stroke-linejoin:round; stroke-width:4; stroke-opacity:1; fill:none\" points=\"\n",
       "  1413.63,1423.18 1413.63,1404.28 \n",
       "  \"/>\n",
       "<polyline clip-path=\"url(#clip260)\" style=\"stroke:#000000; stroke-linecap:butt; stroke-linejoin:round; stroke-width:4; stroke-opacity:1; fill:none\" points=\"\n",
       "  1717.55,1423.18 1717.55,1404.28 \n",
       "  \"/>\n",
       "<polyline clip-path=\"url(#clip260)\" style=\"stroke:#000000; stroke-linecap:butt; stroke-linejoin:round; stroke-width:4; stroke-opacity:1; fill:none\" points=\"\n",
       "  2021.48,1423.18 2021.48,1404.28 \n",
       "  \"/>\n",
       "<polyline clip-path=\"url(#clip260)\" style=\"stroke:#000000; stroke-linecap:butt; stroke-linejoin:round; stroke-width:4; stroke-opacity:1; fill:none\" points=\"\n",
       "  2325.4,1423.18 2325.4,1404.28 \n",
       "  \"/>\n",
       "<path clip-path=\"url(#clip260)\" d=\"M1391.01 1454.1 Q1387.4 1454.1 1385.57 1457.66 Q1383.77 1461.2 1383.77 1468.33 Q1383.77 1475.44 1385.57 1479.01 Q1387.4 1482.55 1391.01 1482.55 Q1394.65 1482.55 1396.45 1479.01 Q1398.28 1475.44 1398.28 1468.33 Q1398.28 1461.2 1396.45 1457.66 Q1394.65 1454.1 1391.01 1454.1 M1391.01 1450.39 Q1396.82 1450.39 1399.88 1455 Q1402.96 1459.58 1402.96 1468.33 Q1402.96 1477.06 1399.88 1481.67 Q1396.82 1486.25 1391.01 1486.25 Q1385.2 1486.25 1382.12 1481.67 Q1379.07 1477.06 1379.07 1468.33 Q1379.07 1459.58 1382.12 1455 Q1385.2 1450.39 1391.01 1450.39 Z\" fill=\"#000000\" fill-rule=\"evenodd\" fill-opacity=\"1\" /><path clip-path=\"url(#clip260)\" d=\"M1411.17 1479.7 L1416.06 1479.7 L1416.06 1485.58 L1411.17 1485.58 L1411.17 1479.7 Z\" fill=\"#000000\" fill-rule=\"evenodd\" fill-opacity=\"1\" /><path clip-path=\"url(#clip260)\" d=\"M1436.24 1454.1 Q1432.63 1454.1 1430.8 1457.66 Q1429 1461.2 1429 1468.33 Q1429 1475.44 1430.8 1479.01 Q1432.63 1482.55 1436.24 1482.55 Q1439.88 1482.55 1441.68 1479.01 Q1443.51 1475.44 1443.51 1468.33 Q1443.51 1461.2 1441.68 1457.66 Q1439.88 1454.1 1436.24 1454.1 M1436.24 1450.39 Q1442.05 1450.39 1445.11 1455 Q1448.19 1459.58 1448.19 1468.33 Q1448.19 1477.06 1445.11 1481.67 Q1442.05 1486.25 1436.24 1486.25 Q1430.43 1486.25 1427.35 1481.67 Q1424.3 1477.06 1424.3 1468.33 Q1424.3 1459.58 1427.35 1455 Q1430.43 1450.39 1436.24 1450.39 Z\" fill=\"#000000\" fill-rule=\"evenodd\" fill-opacity=\"1\" /><path clip-path=\"url(#clip260)\" d=\"M1695.43 1454.1 Q1691.82 1454.1 1689.99 1457.66 Q1688.19 1461.2 1688.19 1468.33 Q1688.19 1475.44 1689.99 1479.01 Q1691.82 1482.55 1695.43 1482.55 Q1699.07 1482.55 1700.87 1479.01 Q1702.7 1475.44 1702.7 1468.33 Q1702.7 1461.2 1700.87 1457.66 Q1699.07 1454.1 1695.43 1454.1 M1695.43 1450.39 Q1701.24 1450.39 1704.3 1455 Q1707.38 1459.58 1707.38 1468.33 Q1707.38 1477.06 1704.3 1481.67 Q1701.24 1486.25 1695.43 1486.25 Q1689.62 1486.25 1686.55 1481.67 Q1683.49 1477.06 1683.49 1468.33 Q1683.49 1459.58 1686.55 1455 Q1689.62 1450.39 1695.43 1450.39 Z\" fill=\"#000000\" fill-rule=\"evenodd\" fill-opacity=\"1\" /><path clip-path=\"url(#clip260)\" d=\"M1715.6 1479.7 L1720.48 1479.7 L1720.48 1485.58 L1715.6 1485.58 L1715.6 1479.7 Z\" fill=\"#000000\" fill-rule=\"evenodd\" fill-opacity=\"1\" /><path clip-path=\"url(#clip260)\" d=\"M1730.71 1451.02 L1749.07 1451.02 L1749.07 1454.96 L1734.99 1454.96 L1734.99 1463.43 Q1736.01 1463.08 1737.03 1462.92 Q1738.05 1462.73 1739.07 1462.73 Q1744.86 1462.73 1748.24 1465.9 Q1751.61 1469.08 1751.61 1474.49 Q1751.61 1480.07 1748.14 1483.17 Q1744.67 1486.25 1738.35 1486.25 Q1736.17 1486.25 1733.91 1485.88 Q1731.66 1485.51 1729.25 1484.77 L1729.25 1480.07 Q1731.34 1481.2 1733.56 1481.76 Q1735.78 1482.32 1738.26 1482.32 Q1742.26 1482.32 1744.6 1480.21 Q1746.94 1478.1 1746.94 1474.49 Q1746.94 1470.88 1744.6 1468.77 Q1742.26 1466.67 1738.26 1466.67 Q1736.38 1466.67 1734.51 1467.08 Q1732.66 1467.5 1730.71 1468.38 L1730.71 1451.02 Z\" fill=\"#000000\" fill-rule=\"evenodd\" fill-opacity=\"1\" /><path clip-path=\"url(#clip260)\" d=\"M1988.63 1481.64 L1996.27 1481.64 L1996.27 1455.28 L1987.96 1456.95 L1987.96 1452.69 L1996.22 1451.02 L2000.9 1451.02 L2000.9 1481.64 L2008.54 1481.64 L2008.54 1485.58 L1988.63 1485.58 L1988.63 1481.64 Z\" fill=\"#000000\" fill-rule=\"evenodd\" fill-opacity=\"1\" /><path clip-path=\"url(#clip260)\" d=\"M2017.98 1479.7 L2022.87 1479.7 L2022.87 1485.58 L2017.98 1485.58 L2017.98 1479.7 Z\" fill=\"#000000\" fill-rule=\"evenodd\" fill-opacity=\"1\" /><path clip-path=\"url(#clip260)\" d=\"M2043.05 1454.1 Q2039.44 1454.1 2037.61 1457.66 Q2035.81 1461.2 2035.81 1468.33 Q2035.81 1475.44 2037.61 1479.01 Q2039.44 1482.55 2043.05 1482.55 Q2046.69 1482.55 2048.49 1479.01 Q2050.32 1475.44 2050.32 1468.33 Q2050.32 1461.2 2048.49 1457.66 Q2046.69 1454.1 2043.05 1454.1 M2043.05 1450.39 Q2048.86 1450.39 2051.92 1455 Q2055 1459.58 2055 1468.33 Q2055 1477.06 2051.92 1481.67 Q2048.86 1486.25 2043.05 1486.25 Q2037.24 1486.25 2034.16 1481.67 Q2031.11 1477.06 2031.11 1468.33 Q2031.11 1459.58 2034.16 1455 Q2037.24 1450.39 2043.05 1450.39 Z\" fill=\"#000000\" fill-rule=\"evenodd\" fill-opacity=\"1\" /><path clip-path=\"url(#clip260)\" d=\"M2293.05 1481.64 L2300.69 1481.64 L2300.69 1455.28 L2292.38 1456.95 L2292.38 1452.69 L2300.65 1451.02 L2305.32 1451.02 L2305.32 1481.64 L2312.96 1481.64 L2312.96 1485.58 L2293.05 1485.58 L2293.05 1481.64 Z\" fill=\"#000000\" fill-rule=\"evenodd\" fill-opacity=\"1\" /><path clip-path=\"url(#clip260)\" d=\"M2322.4 1479.7 L2327.29 1479.7 L2327.29 1485.58 L2322.4 1485.58 L2322.4 1479.7 Z\" fill=\"#000000\" fill-rule=\"evenodd\" fill-opacity=\"1\" /><path clip-path=\"url(#clip260)\" d=\"M2337.52 1451.02 L2355.88 1451.02 L2355.88 1454.96 L2341.8 1454.96 L2341.8 1463.43 Q2342.82 1463.08 2343.84 1462.92 Q2344.86 1462.73 2345.88 1462.73 Q2351.66 1462.73 2355.04 1465.9 Q2358.42 1469.08 2358.42 1474.49 Q2358.42 1480.07 2354.95 1483.17 Q2351.48 1486.25 2345.16 1486.25 Q2342.98 1486.25 2340.72 1485.88 Q2338.47 1485.51 2336.06 1484.77 L2336.06 1480.07 Q2338.15 1481.2 2340.37 1481.76 Q2342.59 1482.32 2345.07 1482.32 Q2349.07 1482.32 2351.41 1480.21 Q2353.75 1478.1 2353.75 1474.49 Q2353.75 1470.88 2351.41 1468.77 Q2349.07 1466.67 2345.07 1466.67 Q2343.19 1466.67 2341.32 1467.08 Q2339.47 1467.5 2337.52 1468.38 L2337.52 1451.02 Z\" fill=\"#000000\" fill-rule=\"evenodd\" fill-opacity=\"1\" /><path clip-path=\"url(#clip260)\" d=\"M1756.97 1522.27 L1756.97 1532.4 L1769.03 1532.4 L1769.03 1536.95 L1756.97 1536.95 L1756.97 1556.3 Q1756.97 1560.66 1758.15 1561.9 Q1759.36 1563.14 1763.02 1563.14 L1769.03 1563.14 L1769.03 1568.04 L1763.02 1568.04 Q1756.24 1568.04 1753.66 1565.53 Q1751.08 1562.98 1751.08 1556.3 L1751.08 1536.95 L1746.78 1536.95 L1746.78 1532.4 L1751.08 1532.4 L1751.08 1522.27 L1756.97 1522.27 Z\" fill=\"#000000\" fill-rule=\"evenodd\" fill-opacity=\"1\" /><path clip-path=\"url(#clip260)\" d=\"M1776.73 1532.4 L1782.59 1532.4 L1782.59 1568.04 L1776.73 1568.04 L1776.73 1532.4 M1776.73 1518.52 L1782.59 1518.52 L1782.59 1525.93 L1776.73 1525.93 L1776.73 1518.52 Z\" fill=\"#000000\" fill-rule=\"evenodd\" fill-opacity=\"1\" /><path clip-path=\"url(#clip260)\" d=\"M1822.6 1539.24 Q1824.8 1535.29 1827.85 1533.41 Q1830.91 1531.54 1835.04 1531.54 Q1840.61 1531.54 1843.64 1535.45 Q1846.66 1539.33 1846.66 1546.53 L1846.66 1568.04 L1840.77 1568.04 L1840.77 1546.72 Q1840.77 1541.59 1838.96 1539.11 Q1837.15 1536.63 1833.42 1536.63 Q1828.87 1536.63 1826.23 1539.65 Q1823.59 1542.68 1823.59 1547.9 L1823.59 1568.04 L1817.7 1568.04 L1817.7 1546.72 Q1817.7 1541.56 1815.88 1539.11 Q1814.07 1536.63 1810.28 1536.63 Q1805.79 1536.63 1803.15 1539.68 Q1800.51 1542.71 1800.51 1547.9 L1800.51 1568.04 L1794.62 1568.04 L1794.62 1532.4 L1800.51 1532.4 L1800.51 1537.93 Q1802.52 1534.66 1805.32 1533.1 Q1808.12 1531.54 1811.97 1531.54 Q1815.85 1531.54 1818.56 1533.51 Q1821.29 1535.48 1822.6 1539.24 Z\" fill=\"#000000\" fill-rule=\"evenodd\" fill-opacity=\"1\" /><path clip-path=\"url(#clip260)\" d=\"M1888.83 1548.76 L1888.83 1551.62 L1861.91 1551.62 Q1862.29 1557.67 1865.54 1560.85 Q1868.81 1564 1874.64 1564 Q1878.01 1564 1881.16 1563.17 Q1884.35 1562.35 1887.47 1560.69 L1887.47 1566.23 Q1884.32 1567.57 1881.01 1568.27 Q1877.69 1568.97 1874.29 1568.97 Q1865.76 1568.97 1860.76 1564 Q1855.8 1559.04 1855.8 1550.57 Q1855.8 1541.82 1860.51 1536.69 Q1865.25 1531.54 1873.27 1531.54 Q1880.46 1531.54 1884.63 1536.18 Q1888.83 1540.8 1888.83 1548.76 M1882.98 1547.04 Q1882.91 1542.23 1880.27 1539.37 Q1877.66 1536.5 1873.33 1536.5 Q1868.43 1536.5 1865.47 1539.27 Q1862.54 1542.04 1862.1 1547.07 L1882.98 1547.04 Z\" fill=\"#000000\" fill-rule=\"evenodd\" fill-opacity=\"1\" /><path clip-path=\"url(#clip260)\" d=\"M1933.24 1518.58 Q1928.97 1525.9 1926.9 1533.06 Q1924.83 1540.23 1924.83 1547.58 Q1924.83 1554.93 1926.9 1562.16 Q1929 1569.35 1933.24 1576.64 L1928.14 1576.64 Q1923.37 1569.16 1920.98 1561.93 Q1918.63 1554.71 1918.63 1547.58 Q1918.63 1540.48 1920.98 1533.29 Q1923.34 1526.09 1928.14 1518.58 L1933.24 1518.58 Z\" fill=\"#000000\" fill-rule=\"evenodd\" fill-opacity=\"1\" /><path clip-path=\"url(#clip260)\" d=\"M1967.32 1533.45 L1967.32 1538.98 Q1964.84 1537.71 1962.17 1537.07 Q1959.49 1536.44 1956.63 1536.44 Q1952.27 1536.44 1950.07 1537.77 Q1947.91 1539.11 1947.91 1541.79 Q1947.91 1543.82 1949.47 1545 Q1951.03 1546.15 1955.74 1547.2 L1957.74 1547.64 Q1963.98 1548.98 1966.59 1551.43 Q1969.23 1553.85 1969.23 1558.21 Q1969.23 1563.17 1965.29 1566.07 Q1961.37 1568.97 1954.5 1568.97 Q1951.63 1568.97 1948.51 1568.39 Q1945.43 1567.85 1941.99 1566.74 L1941.99 1560.69 Q1945.24 1562.38 1948.39 1563.24 Q1951.54 1564.07 1954.62 1564.07 Q1958.76 1564.07 1960.99 1562.66 Q1963.22 1561.23 1963.22 1558.65 Q1963.22 1556.27 1961.59 1554.99 Q1960 1553.72 1954.56 1552.54 L1952.52 1552.07 Q1947.08 1550.92 1944.66 1548.56 Q1942.24 1546.18 1942.24 1542.04 Q1942.24 1537.01 1945.81 1534.27 Q1949.37 1531.54 1955.93 1531.54 Q1959.18 1531.54 1962.04 1532.01 Q1964.91 1532.49 1967.32 1533.45 Z\" fill=\"#000000\" fill-rule=\"evenodd\" fill-opacity=\"1\" /><path clip-path=\"url(#clip260)\" d=\"M1977.64 1518.58 L1982.73 1518.58 Q1987.5 1526.09 1989.86 1533.29 Q1992.25 1540.48 1992.25 1547.58 Q1992.25 1554.71 1989.86 1561.93 Q1987.5 1569.16 1982.73 1576.64 L1977.64 1576.64 Q1981.87 1569.35 1983.94 1562.16 Q1986.04 1554.93 1986.04 1547.58 Q1986.04 1540.23 1983.94 1533.06 Q1981.87 1525.9 1977.64 1518.58 Z\" fill=\"#000000\" fill-rule=\"evenodd\" fill-opacity=\"1\" /><polyline clip-path=\"url(#clip263)\" style=\"stroke:#000000; stroke-linecap:butt; stroke-linejoin:round; stroke-width:2; stroke-opacity:0.1; fill:none\" points=\"\n",
       "  1386.27,1384.24 2352.76,1384.24 \n",
       "  \"/>\n",
       "<polyline clip-path=\"url(#clip263)\" style=\"stroke:#000000; stroke-linecap:butt; stroke-linejoin:round; stroke-width:2; stroke-opacity:0.1; fill:none\" points=\"\n",
       "  1386.27,1059.73 2352.76,1059.73 \n",
       "  \"/>\n",
       "<polyline clip-path=\"url(#clip263)\" style=\"stroke:#000000; stroke-linecap:butt; stroke-linejoin:round; stroke-width:2; stroke-opacity:0.1; fill:none\" points=\"\n",
       "  1386.27,735.212 2352.76,735.212 \n",
       "  \"/>\n",
       "<polyline clip-path=\"url(#clip263)\" style=\"stroke:#000000; stroke-linecap:butt; stroke-linejoin:round; stroke-width:2; stroke-opacity:0.1; fill:none\" points=\"\n",
       "  1386.27,410.699 2352.76,410.699 \n",
       "  \"/>\n",
       "<polyline clip-path=\"url(#clip263)\" style=\"stroke:#000000; stroke-linecap:butt; stroke-linejoin:round; stroke-width:2; stroke-opacity:0.1; fill:none\" points=\"\n",
       "  1386.27,86.1857 2352.76,86.1857 \n",
       "  \"/>\n",
       "<polyline clip-path=\"url(#clip260)\" style=\"stroke:#000000; stroke-linecap:butt; stroke-linejoin:round; stroke-width:4; stroke-opacity:1; fill:none\" points=\"\n",
       "  1386.27,1423.18 1386.27,47.2441 \n",
       "  \"/>\n",
       "<polyline clip-path=\"url(#clip260)\" style=\"stroke:#000000; stroke-linecap:butt; stroke-linejoin:round; stroke-width:4; stroke-opacity:1; fill:none\" points=\"\n",
       "  1386.27,1384.24 1405.17,1384.24 \n",
       "  \"/>\n",
       "<polyline clip-path=\"url(#clip260)\" style=\"stroke:#000000; stroke-linecap:butt; stroke-linejoin:round; stroke-width:4; stroke-opacity:1; fill:none\" points=\"\n",
       "  1386.27,1059.73 1405.17,1059.73 \n",
       "  \"/>\n",
       "<polyline clip-path=\"url(#clip260)\" style=\"stroke:#000000; stroke-linecap:butt; stroke-linejoin:round; stroke-width:4; stroke-opacity:1; fill:none\" points=\"\n",
       "  1386.27,735.212 1405.17,735.212 \n",
       "  \"/>\n",
       "<polyline clip-path=\"url(#clip260)\" style=\"stroke:#000000; stroke-linecap:butt; stroke-linejoin:round; stroke-width:4; stroke-opacity:1; fill:none\" points=\"\n",
       "  1386.27,410.699 1405.17,410.699 \n",
       "  \"/>\n",
       "<polyline clip-path=\"url(#clip260)\" style=\"stroke:#000000; stroke-linecap:butt; stroke-linejoin:round; stroke-width:4; stroke-opacity:1; fill:none\" points=\"\n",
       "  1386.27,86.1857 1405.17,86.1857 \n",
       "  \"/>\n",
       "<path clip-path=\"url(#clip260)\" d=\"M1262.94 1370.04 Q1259.33 1370.04 1257.5 1373.6 Q1255.69 1377.14 1255.69 1384.27 Q1255.69 1391.38 1257.5 1394.94 Q1259.33 1398.49 1262.94 1398.49 Q1266.57 1398.49 1268.38 1394.94 Q1270.2 1391.38 1270.2 1384.27 Q1270.2 1377.14 1268.38 1373.6 Q1266.57 1370.04 1262.94 1370.04 M1262.94 1366.33 Q1268.75 1366.33 1271.8 1370.94 Q1274.88 1375.52 1274.88 1384.27 Q1274.88 1393 1271.8 1397.61 Q1268.75 1402.19 1262.94 1402.19 Q1257.13 1402.19 1254.05 1397.61 Q1250.99 1393 1250.99 1384.27 Q1250.99 1375.52 1254.05 1370.94 Q1257.13 1366.33 1262.94 1366.33 Z\" fill=\"#000000\" fill-rule=\"evenodd\" fill-opacity=\"1\" /><path clip-path=\"url(#clip260)\" d=\"M1283.1 1395.64 L1287.98 1395.64 L1287.98 1401.52 L1283.1 1401.52 L1283.1 1395.64 Z\" fill=\"#000000\" fill-rule=\"evenodd\" fill-opacity=\"1\" /><path clip-path=\"url(#clip260)\" d=\"M1308.17 1370.04 Q1304.56 1370.04 1302.73 1373.6 Q1300.92 1377.14 1300.92 1384.27 Q1300.92 1391.38 1302.73 1394.94 Q1304.56 1398.49 1308.17 1398.49 Q1311.8 1398.49 1313.61 1394.94 Q1315.44 1391.38 1315.44 1384.27 Q1315.44 1377.14 1313.61 1373.6 Q1311.8 1370.04 1308.17 1370.04 M1308.17 1366.33 Q1313.98 1366.33 1317.03 1370.94 Q1320.11 1375.52 1320.11 1384.27 Q1320.11 1393 1317.03 1397.61 Q1313.98 1402.19 1308.17 1402.19 Q1302.36 1402.19 1299.28 1397.61 Q1296.22 1393 1296.22 1384.27 Q1296.22 1375.52 1299.28 1370.94 Q1302.36 1366.33 1308.17 1366.33 Z\" fill=\"#000000\" fill-rule=\"evenodd\" fill-opacity=\"1\" /><path clip-path=\"url(#clip260)\" d=\"M1338.33 1370.04 Q1334.72 1370.04 1332.89 1373.6 Q1331.08 1377.14 1331.08 1384.27 Q1331.08 1391.38 1332.89 1394.94 Q1334.72 1398.49 1338.33 1398.49 Q1341.96 1398.49 1343.77 1394.94 Q1345.6 1391.38 1345.6 1384.27 Q1345.6 1377.14 1343.77 1373.6 Q1341.96 1370.04 1338.33 1370.04 M1338.33 1366.33 Q1344.14 1366.33 1347.2 1370.94 Q1350.27 1375.52 1350.27 1384.27 Q1350.27 1393 1347.2 1397.61 Q1344.14 1402.19 1338.33 1402.19 Q1332.52 1402.19 1329.44 1397.61 Q1326.39 1393 1326.39 1384.27 Q1326.39 1375.52 1329.44 1370.94 Q1332.52 1366.33 1338.33 1366.33 Z\" fill=\"#000000\" fill-rule=\"evenodd\" fill-opacity=\"1\" /><path clip-path=\"url(#clip260)\" d=\"M1263.93 1045.52 Q1260.32 1045.52 1258.49 1049.09 Q1256.69 1052.63 1256.69 1059.76 Q1256.69 1066.87 1258.49 1070.43 Q1260.32 1073.97 1263.93 1073.97 Q1267.57 1073.97 1269.37 1070.43 Q1271.2 1066.87 1271.2 1059.76 Q1271.2 1052.63 1269.37 1049.09 Q1267.57 1045.52 1263.93 1045.52 M1263.93 1041.82 Q1269.74 1041.82 1272.8 1046.43 Q1275.88 1051.01 1275.88 1059.76 Q1275.88 1068.49 1272.8 1073.09 Q1269.74 1077.68 1263.93 1077.68 Q1258.12 1077.68 1255.04 1073.09 Q1251.99 1068.49 1251.99 1059.76 Q1251.99 1051.01 1255.04 1046.43 Q1258.12 1041.82 1263.93 1041.82 Z\" fill=\"#000000\" fill-rule=\"evenodd\" fill-opacity=\"1\" /><path clip-path=\"url(#clip260)\" d=\"M1284.09 1071.13 L1288.98 1071.13 L1288.98 1077.01 L1284.09 1077.01 L1284.09 1071.13 Z\" fill=\"#000000\" fill-rule=\"evenodd\" fill-opacity=\"1\" /><path clip-path=\"url(#clip260)\" d=\"M1303.19 1073.07 L1319.51 1073.07 L1319.51 1077.01 L1297.57 1077.01 L1297.57 1073.07 Q1300.23 1070.32 1304.81 1065.69 Q1309.42 1061.03 1310.6 1059.69 Q1312.84 1057.17 1313.72 1055.43 Q1314.63 1053.67 1314.63 1051.98 Q1314.63 1049.23 1312.68 1047.49 Q1310.76 1045.76 1307.66 1045.76 Q1305.46 1045.76 1303.01 1046.52 Q1300.58 1047.28 1297.8 1048.83 L1297.8 1044.11 Q1300.62 1042.98 1303.08 1042.4 Q1305.53 1041.82 1307.57 1041.82 Q1312.94 1041.82 1316.13 1044.51 Q1319.33 1047.19 1319.33 1051.68 Q1319.33 1053.81 1318.51 1055.73 Q1317.73 1057.63 1315.62 1060.22 Q1315.04 1060.89 1311.94 1064.11 Q1308.84 1067.31 1303.19 1073.07 Z\" fill=\"#000000\" fill-rule=\"evenodd\" fill-opacity=\"1\" /><path clip-path=\"url(#clip260)\" d=\"M1329.37 1042.45 L1347.73 1042.45 L1347.73 1046.38 L1333.65 1046.38 L1333.65 1054.85 Q1334.67 1054.51 1335.69 1054.34 Q1336.71 1054.16 1337.73 1054.16 Q1343.51 1054.16 1346.89 1057.33 Q1350.27 1060.5 1350.27 1065.92 Q1350.27 1071.5 1346.8 1074.6 Q1343.33 1077.68 1337.01 1077.68 Q1334.83 1077.68 1332.57 1077.31 Q1330.32 1076.94 1327.91 1076.19 L1327.91 1071.5 Q1330 1072.63 1332.22 1073.19 Q1334.44 1073.74 1336.92 1073.74 Q1340.92 1073.74 1343.26 1071.63 Q1345.6 1069.53 1345.6 1065.92 Q1345.6 1062.31 1343.26 1060.2 Q1340.92 1058.09 1336.92 1058.09 Q1335.04 1058.09 1333.17 1058.51 Q1331.32 1058.93 1329.37 1059.81 L1329.37 1042.45 Z\" fill=\"#000000\" fill-rule=\"evenodd\" fill-opacity=\"1\" /><path clip-path=\"url(#clip260)\" d=\"M1262.94 721.011 Q1259.33 721.011 1257.5 724.575 Q1255.69 728.117 1255.69 735.247 Q1255.69 742.353 1257.5 745.918 Q1259.33 749.46 1262.94 749.46 Q1266.57 749.46 1268.38 745.918 Q1270.2 742.353 1270.2 735.247 Q1270.2 728.117 1268.38 724.575 Q1266.57 721.011 1262.94 721.011 M1262.94 717.307 Q1268.75 717.307 1271.8 721.913 Q1274.88 726.497 1274.88 735.247 Q1274.88 743.973 1271.8 748.58 Q1268.75 753.163 1262.94 753.163 Q1257.13 753.163 1254.05 748.58 Q1250.99 743.973 1250.99 735.247 Q1250.99 726.497 1254.05 721.913 Q1257.13 717.307 1262.94 717.307 Z\" fill=\"#000000\" fill-rule=\"evenodd\" fill-opacity=\"1\" /><path clip-path=\"url(#clip260)\" d=\"M1283.1 746.612 L1287.98 746.612 L1287.98 752.492 L1283.1 752.492 L1283.1 746.612 Z\" fill=\"#000000\" fill-rule=\"evenodd\" fill-opacity=\"1\" /><path clip-path=\"url(#clip260)\" d=\"M1298.21 717.932 L1316.57 717.932 L1316.57 721.867 L1302.5 721.867 L1302.5 730.339 Q1303.51 729.992 1304.53 729.83 Q1305.55 729.645 1306.57 729.645 Q1312.36 729.645 1315.74 732.816 Q1319.12 735.987 1319.12 741.404 Q1319.12 746.983 1315.64 750.085 Q1312.17 753.163 1305.85 753.163 Q1303.68 753.163 1301.41 752.793 Q1299.16 752.423 1296.76 751.682 L1296.76 746.983 Q1298.84 748.117 1301.06 748.673 Q1303.28 749.228 1305.76 749.228 Q1309.76 749.228 1312.1 747.122 Q1314.44 745.015 1314.44 741.404 Q1314.44 737.793 1312.1 735.687 Q1309.76 733.58 1305.76 733.58 Q1303.89 733.58 1302.01 733.997 Q1300.16 734.413 1298.21 735.293 L1298.21 717.932 Z\" fill=\"#000000\" fill-rule=\"evenodd\" fill-opacity=\"1\" /><path clip-path=\"url(#clip260)\" d=\"M1338.33 721.011 Q1334.72 721.011 1332.89 724.575 Q1331.08 728.117 1331.08 735.247 Q1331.08 742.353 1332.89 745.918 Q1334.72 749.46 1338.33 749.46 Q1341.96 749.46 1343.77 745.918 Q1345.6 742.353 1345.6 735.247 Q1345.6 728.117 1343.77 724.575 Q1341.96 721.011 1338.33 721.011 M1338.33 717.307 Q1344.14 717.307 1347.2 721.913 Q1350.27 726.497 1350.27 735.247 Q1350.27 743.973 1347.2 748.58 Q1344.14 753.163 1338.33 753.163 Q1332.52 753.163 1329.44 748.58 Q1326.39 743.973 1326.39 735.247 Q1326.39 726.497 1329.44 721.913 Q1332.52 717.307 1338.33 717.307 Z\" fill=\"#000000\" fill-rule=\"evenodd\" fill-opacity=\"1\" /><path clip-path=\"url(#clip260)\" d=\"M1263.93 396.498 Q1260.32 396.498 1258.49 400.062 Q1256.69 403.604 1256.69 410.734 Q1256.69 417.84 1258.49 421.405 Q1260.32 424.946 1263.93 424.946 Q1267.57 424.946 1269.37 421.405 Q1271.2 417.84 1271.2 410.734 Q1271.2 403.604 1269.37 400.062 Q1267.57 396.498 1263.93 396.498 M1263.93 392.794 Q1269.74 392.794 1272.8 397.4 Q1275.88 401.984 1275.88 410.734 Q1275.88 419.46 1272.8 424.067 Q1269.74 428.65 1263.93 428.65 Q1258.12 428.65 1255.04 424.067 Q1251.99 419.46 1251.99 410.734 Q1251.99 401.984 1255.04 397.4 Q1258.12 392.794 1263.93 392.794 Z\" fill=\"#000000\" fill-rule=\"evenodd\" fill-opacity=\"1\" /><path clip-path=\"url(#clip260)\" d=\"M1284.09 422.099 L1288.98 422.099 L1288.98 427.979 L1284.09 427.979 L1284.09 422.099 Z\" fill=\"#000000\" fill-rule=\"evenodd\" fill-opacity=\"1\" /><path clip-path=\"url(#clip260)\" d=\"M1297.98 393.419 L1320.2 393.419 L1320.2 395.41 L1307.66 427.979 L1302.77 427.979 L1314.58 397.354 L1297.98 397.354 L1297.98 393.419 Z\" fill=\"#000000\" fill-rule=\"evenodd\" fill-opacity=\"1\" /><path clip-path=\"url(#clip260)\" d=\"M1329.37 393.419 L1347.73 393.419 L1347.73 397.354 L1333.65 397.354 L1333.65 405.826 Q1334.67 405.479 1335.69 405.317 Q1336.71 405.132 1337.73 405.132 Q1343.51 405.132 1346.89 408.303 Q1350.27 411.474 1350.27 416.891 Q1350.27 422.47 1346.8 425.571 Q1343.33 428.65 1337.01 428.65 Q1334.83 428.65 1332.57 428.28 Q1330.32 427.909 1327.91 427.169 L1327.91 422.47 Q1330 423.604 1332.22 424.159 Q1334.44 424.715 1336.92 424.715 Q1340.92 424.715 1343.26 422.608 Q1345.6 420.502 1345.6 416.891 Q1345.6 413.28 1343.26 411.173 Q1340.92 409.067 1336.92 409.067 Q1335.04 409.067 1333.17 409.484 Q1331.32 409.9 1329.37 410.78 L1329.37 393.419 Z\" fill=\"#000000\" fill-rule=\"evenodd\" fill-opacity=\"1\" /><path clip-path=\"url(#clip260)\" d=\"M1253.75 99.5305 L1261.39 99.5305 L1261.39 73.1649 L1253.08 74.8316 L1253.08 70.5723 L1261.34 68.9057 L1266.02 68.9057 L1266.02 99.5305 L1273.65 99.5305 L1273.65 103.466 L1253.75 103.466 L1253.75 99.5305 Z\" fill=\"#000000\" fill-rule=\"evenodd\" fill-opacity=\"1\" /><path clip-path=\"url(#clip260)\" d=\"M1283.1 97.5861 L1287.98 97.5861 L1287.98 103.466 L1283.1 103.466 L1283.1 97.5861 Z\" fill=\"#000000\" fill-rule=\"evenodd\" fill-opacity=\"1\" /><path clip-path=\"url(#clip260)\" d=\"M1308.17 71.9844 Q1304.56 71.9844 1302.73 75.5492 Q1300.92 79.0908 1300.92 86.2204 Q1300.92 93.3268 1302.73 96.8916 Q1304.56 100.433 1308.17 100.433 Q1311.8 100.433 1313.61 96.8916 Q1315.44 93.3268 1315.44 86.2204 Q1315.44 79.0908 1313.61 75.5492 Q1311.8 71.9844 1308.17 71.9844 M1308.17 68.2807 Q1313.98 68.2807 1317.03 72.8871 Q1320.11 77.4704 1320.11 86.2204 Q1320.11 94.9472 1317.03 99.5537 Q1313.98 104.137 1308.17 104.137 Q1302.36 104.137 1299.28 99.5537 Q1296.22 94.9472 1296.22 86.2204 Q1296.22 77.4704 1299.28 72.8871 Q1302.36 68.2807 1308.17 68.2807 Z\" fill=\"#000000\" fill-rule=\"evenodd\" fill-opacity=\"1\" /><path clip-path=\"url(#clip260)\" d=\"M1338.33 71.9844 Q1334.72 71.9844 1332.89 75.5492 Q1331.08 79.0908 1331.08 86.2204 Q1331.08 93.3268 1332.89 96.8916 Q1334.72 100.433 1338.33 100.433 Q1341.96 100.433 1343.77 96.8916 Q1345.6 93.3268 1345.6 86.2204 Q1345.6 79.0908 1343.77 75.5492 Q1341.96 71.9844 1338.33 71.9844 M1338.33 68.2807 Q1344.14 68.2807 1347.2 72.8871 Q1350.27 77.4704 1350.27 86.2204 Q1350.27 94.9472 1347.2 99.5537 Q1344.14 104.137 1338.33 104.137 Q1332.52 104.137 1329.44 99.5537 Q1326.39 94.9472 1326.39 86.2204 Q1326.39 77.4704 1329.44 72.8871 Q1332.52 68.2807 1338.33 68.2807 Z\" fill=\"#000000\" fill-rule=\"evenodd\" fill-opacity=\"1\" /><path clip-path=\"url(#clip260)\" d=\"\n",
       "M1418.49 1377.32 L1579.02 1377.32 L1579.02 1169.96 L1418.49 1169.96  Z\n",
       "  \" fill=\"#ffffff\" fill-rule=\"evenodd\" fill-opacity=\"1\"/>\n",
       "<polyline clip-path=\"url(#clip260)\" style=\"stroke:#000000; stroke-linecap:butt; stroke-linejoin:round; stroke-width:4; stroke-opacity:1; fill:none\" points=\"\n",
       "  1418.49,1377.32 1579.02,1377.32 1579.02,1169.96 1418.49,1169.96 1418.49,1377.32 \n",
       "  \"/>\n",
       "<polyline clip-path=\"url(#clip260)\" style=\"stroke:#009af9; stroke-linecap:butt; stroke-linejoin:round; stroke-width:4; stroke-opacity:1; fill:none\" points=\"\n",
       "  1429.23,1221.8 1493.66,1221.8 \n",
       "  \"/>\n",
       "<path clip-path=\"url(#clip260)\" d=\"M1504.4 1213.15 L1508.91 1213.15 L1517.02 1234.91 L1525.12 1213.15 L1529.63 1213.15 L1519.91 1239.08 L1514.12 1239.08 L1504.4 1213.15 Z\" fill=\"#000000\" fill-rule=\"evenodd\" fill-opacity=\"1\" /><path clip-path=\"url(#clip260)\" d=\"M1557.06 1213.15 L1547.69 1225.77 L1557.55 1239.08 L1552.52 1239.08 L1544.98 1228.89 L1537.43 1239.08 L1532.41 1239.08 L1542.48 1225.51 L1533.27 1213.15 L1538.29 1213.15 L1545.16 1222.39 L1552.04 1213.15 L1557.06 1213.15 Z\" fill=\"#000000\" fill-rule=\"evenodd\" fill-opacity=\"1\" /><polyline clip-path=\"url(#clip260)\" style=\"stroke:#e26f46; stroke-linecap:butt; stroke-linejoin:round; stroke-width:4; stroke-opacity:1; fill:none\" points=\"\n",
       "  1429.23,1273.64 1493.66,1273.64 \n",
       "  \"/>\n",
       "<path clip-path=\"url(#clip260)\" d=\"M1504.4 1264.99 L1508.91 1264.99 L1517.02 1286.75 L1525.12 1264.99 L1529.63 1264.99 L1519.91 1290.92 L1514.12 1290.92 L1504.4 1264.99 Z\" fill=\"#000000\" fill-rule=\"evenodd\" fill-opacity=\"1\" /><path clip-path=\"url(#clip260)\" d=\"M1533.66 1264.99 L1553.89 1264.99 L1553.89 1268.88 L1537.87 1287.51 L1553.89 1287.51 L1553.89 1290.92 L1533.08 1290.92 L1533.08 1287.03 L1549.1 1268.39 L1533.66 1268.39 L1533.66 1264.99 Z\" fill=\"#000000\" fill-rule=\"evenodd\" fill-opacity=\"1\" /><polyline clip-path=\"url(#clip260)\" style=\"stroke:#3da44d; stroke-linecap:butt; stroke-linejoin:round; stroke-width:4; stroke-opacity:1; fill:none\" points=\"\n",
       "  1429.23,1325.48 1493.66,1325.48 \n",
       "  \"/>\n",
       "<path clip-path=\"url(#clip260)\" d=\"M1514.01 1343.43 Q1504.4 1343.43 1504.4 1329.68 Q1504.4 1324.24 1507.99 1316.83 L1512.57 1316.83 Q1509.26 1324.24 1509.26 1329.79 Q1509.26 1339.82 1514.4 1339.82 Q1519.1 1339.82 1519.1 1327.36 L1523.03 1327.36 Q1523.03 1339.82 1527.73 1339.82 Q1532.87 1339.82 1532.87 1329.79 Q1532.87 1324.24 1529.56 1316.83 L1534.14 1316.83 Q1537.73 1324.24 1537.73 1329.68 Q1537.73 1343.43 1528.13 1343.43 Q1521.83 1343.43 1521.07 1336.51 Q1520.12 1343.43 1514.01 1343.43 Z\" fill=\"#000000\" fill-rule=\"evenodd\" fill-opacity=\"1\" /></svg>\n"
      ]
     },
     "execution_count": 43,
     "metadata": {},
     "output_type": "execute_result"
    }
   ],
   "source": [
    "# Plot the reference trajectory and compare with the given plot\n",
    "Xref = flip_reference()\n",
    "\n",
    "# convert to static arrays and plot\n",
    "Xref = [SVector{6}(Xref[i]) for i = 1:length(Xref)]\n",
    "if !isautograder\n",
    "    p = plot(layout=(1,2))\n",
    "    plot!(p[1], 0:dt:(N-1)*dt, Xref, inds=1:3, xlabel=\"time (s)\", labels = [\"px\" \"pz\" \"θ\"], legend=:bottomleft)\n",
    "    plot!(p[2], 0:dt:(N-1)*dt, Xref, inds=4:6, xlabel=\"time (s)\", labels = [\"vx\" \"vz\" \"ω\"], legend=:bottomleft)\n",
    "end"
   ]
  },
  {
   "cell_type": "code",
   "execution_count": 54,
   "metadata": {},
   "outputs": [
    {
     "name": "stdout",
     "output_type": "stream",
     "text": [
      "flip reference: \u001b[91m\u001b[1mTest Failed\u001b[22m\u001b[39m at \u001b[39m\u001b[1mIn[54]:5\u001b[22m\n",
      "  Expression: ≈(mean(diff(Xref_[1, 1:21])), 3 / 20, atol = 0.1)\n",
      "   Evaluated: NaN ≈ 0.15 (atol=0.1)\n",
      "Stacktrace:\n",
      " [1] \u001b[0m\u001b[1mmacro expansion\u001b[22m\n",
      "\u001b[90m   @ \u001b[39m\u001b[90;4mIn[54]:5\u001b[0m\u001b[90m [inlined]\u001b[39m\n",
      " [2] \u001b[0m\u001b[1mmacro expansion\u001b[22m\n",
      "\u001b[90m   @ \u001b[39m\u001b[90m/buildworker/worker/package_linux64/build/usr/share/julia/stdlib/v1.6/Test/src/\u001b[39m\u001b[90;4mTest.jl:1151\u001b[0m\u001b[90m [inlined]\u001b[39m\n",
      " [3] top-level scope\n",
      "\u001b[90m   @ \u001b[39m\u001b[90;4mIn[54]:2\u001b[0m\n",
      "flip reference: \u001b[91m\u001b[1mTest Failed\u001b[22m\u001b[39m at \u001b[39m\u001b[1mIn[54]:6\u001b[22m\n",
      "  Expression: ≈(mean(Xref_[4, 1:20]), 6.0, atol = 0.1)\n",
      "   Evaluated: NaN ≈ 6.0 (atol=0.1)\n",
      "Stacktrace:\n",
      " [1] \u001b[0m\u001b[1mmacro expansion\u001b[22m\n",
      "\u001b[90m   @ \u001b[39m\u001b[90;4mIn[54]:6\u001b[0m\u001b[90m [inlined]\u001b[39m\n",
      " [2] \u001b[0m\u001b[1mmacro expansion\u001b[22m\n",
      "\u001b[90m   @ \u001b[39m\u001b[90m/buildworker/worker/package_linux64/build/usr/share/julia/stdlib/v1.6/Test/src/\u001b[39m\u001b[90;4mTest.jl:1151\u001b[0m\u001b[90m [inlined]\u001b[39m\n",
      " [3] top-level scope\n",
      "\u001b[90m   @ \u001b[39m\u001b[90;4mIn[54]:2\u001b[0m\n",
      "flip reference: \u001b[91m\u001b[1mTest Failed\u001b[22m\u001b[39m at \u001b[39m\u001b[1mIn[54]:7\u001b[22m\n",
      "  Expression: ≈(mean(Xref_[1, 21:40]), 0, atol = 0.1)\n",
      "   Evaluated: NaN ≈ 0 (atol=0.1)\n",
      "Stacktrace:\n",
      " [1] \u001b[0m\u001b[1mmacro expansion\u001b[22m\n",
      "\u001b[90m   @ \u001b[39m\u001b[90;4mIn[54]:7\u001b[0m\u001b[90m [inlined]\u001b[39m\n",
      " [2] \u001b[0m\u001b[1mmacro expansion\u001b[22m\n",
      "\u001b[90m   @ \u001b[39m\u001b[90m/buildworker/worker/package_linux64/build/usr/share/julia/stdlib/v1.6/Test/src/\u001b[39m\u001b[90;4mTest.jl:1151\u001b[0m\u001b[90m [inlined]\u001b[39m\n",
      " [3] top-level scope\n",
      "\u001b[90m   @ \u001b[39m\u001b[90;4mIn[54]:2\u001b[0m\n",
      "flip reference: \u001b[91m\u001b[1mTest Failed\u001b[22m\u001b[39m at \u001b[39m\u001b[1mIn[54]:8\u001b[22m\n",
      "  Expression: ≈(mean(diff(Xref_[1, 41:end])), 3 / 20, atol = 0.1)\n",
      "   Evaluated: NaN ≈ 0.15 (atol=0.1)\n",
      "Stacktrace:\n",
      " [1] \u001b[0m\u001b[1mmacro expansion\u001b[22m\n",
      "\u001b[90m   @ \u001b[39m\u001b[90;4mIn[54]:8\u001b[0m\u001b[90m [inlined]\u001b[39m\n",
      " [2] \u001b[0m\u001b[1mmacro expansion\u001b[22m\n",
      "\u001b[90m   @ \u001b[39m\u001b[90m/buildworker/worker/package_linux64/build/usr/share/julia/stdlib/v1.6/Test/src/\u001b[39m\u001b[90;4mTest.jl:1151\u001b[0m\u001b[90m [inlined]\u001b[39m\n",
      " [3] top-level scope\n",
      "\u001b[90m   @ \u001b[39m\u001b[90;4mIn[54]:2\u001b[0m\n",
      "flip reference: \u001b[91m\u001b[1mTest Failed\u001b[22m\u001b[39m at \u001b[39m\u001b[1mIn[54]:9\u001b[22m\n",
      "  Expression: ≈(mean(Xref_[4, 41:end]), 6.0, atol = 0.1)\n",
      "   Evaluated: NaN ≈ 6.0 (atol=0.1)\n",
      "Stacktrace:\n",
      " [1] \u001b[0m\u001b[1mmacro expansion\u001b[22m\n",
      "\u001b[90m   @ \u001b[39m\u001b[90;4mIn[54]:9\u001b[0m\u001b[90m [inlined]\u001b[39m\n",
      " [2] \u001b[0m\u001b[1mmacro expansion\u001b[22m\n",
      "\u001b[90m   @ \u001b[39m\u001b[90m/buildworker/worker/package_linux64/build/usr/share/julia/stdlib/v1.6/Test/src/\u001b[39m\u001b[90;4mTest.jl:1151\u001b[0m\u001b[90m [inlined]\u001b[39m\n",
      " [3] top-level scope\n",
      "\u001b[90m   @ \u001b[39m\u001b[90;4mIn[54]:2\u001b[0m\n",
      "flip reference: \u001b[91m\u001b[1mTest Failed\u001b[22m\u001b[39m at \u001b[39m\u001b[1mIn[54]:11\u001b[22m\n",
      "  Expression: ≈(Xref_[3, 1], 0, atol = 1.0e-6)\n",
      "   Evaluated: NaN ≈ 0 (atol=1.0e-6)\n",
      "Stacktrace:\n",
      " [1] \u001b[0m\u001b[1mmacro expansion\u001b[22m\n",
      "\u001b[90m   @ \u001b[39m\u001b[90;4mIn[54]:11\u001b[0m\u001b[90m [inlined]\u001b[39m\n",
      " [2] \u001b[0m\u001b[1mmacro expansion\u001b[22m\n",
      "\u001b[90m   @ \u001b[39m\u001b[90m/buildworker/worker/package_linux64/build/usr/share/julia/stdlib/v1.6/Test/src/\u001b[39m\u001b[90;4mTest.jl:1151\u001b[0m\u001b[90m [inlined]\u001b[39m\n",
      " [3] top-level scope\n",
      "\u001b[90m   @ \u001b[39m\u001b[90;4mIn[54]:2\u001b[0m\n",
      "flip reference: \u001b[91m\u001b[1mTest Failed\u001b[22m\u001b[39m at \u001b[39m\u001b[1mIn[54]:12\u001b[22m\n",
      "  Expression: ≈(Xref_[3, end], -2pi, atol = 1.0e-6)\n",
      "   Evaluated: NaN ≈ -6.283185307179586 (atol=1.0e-6)\n",
      "Stacktrace:\n",
      " [1] \u001b[0m\u001b[1mmacro expansion\u001b[22m\n",
      "\u001b[90m   @ \u001b[39m\u001b[90;4mIn[54]:12\u001b[0m\u001b[90m [inlined]\u001b[39m\n",
      " [2] \u001b[0m\u001b[1mmacro expansion\u001b[22m\n",
      "\u001b[90m   @ \u001b[39m\u001b[90m/buildworker/worker/package_linux64/build/usr/share/julia/stdlib/v1.6/Test/src/\u001b[39m\u001b[90;4mTest.jl:1151\u001b[0m\u001b[90m [inlined]\u001b[39m\n",
      " [3] top-level scope\n",
      "\u001b[90m   @ \u001b[39m\u001b[90;4mIn[54]:2\u001b[0m\n",
      "flip reference: \u001b[91m\u001b[1mTest Failed\u001b[22m\u001b[39m at \u001b[39m\u001b[1mIn[54]:13\u001b[22m\n",
      "  Expression: std(diff(Xref_[6, 21:40])) < 0.1\n",
      "   Evaluated: NaN < 0.1\n",
      "Stacktrace:\n",
      " [1] \u001b[0m\u001b[1mmacro expansion\u001b[22m\n",
      "\u001b[90m   @ \u001b[39m\u001b[90;4mIn[54]:13\u001b[0m\u001b[90m [inlined]\u001b[39m\n",
      " [2] \u001b[0m\u001b[1mmacro expansion\u001b[22m\n",
      "\u001b[90m   @ \u001b[39m\u001b[90m/buildworker/worker/package_linux64/build/usr/share/julia/stdlib/v1.6/Test/src/\u001b[39m\u001b[90;4mTest.jl:1151\u001b[0m\u001b[90m [inlined]\u001b[39m\n",
      " [3] top-level scope\n",
      "\u001b[90m   @ \u001b[39m\u001b[90;4mIn[54]:2\u001b[0m\n",
      "flip reference: \u001b[91m\u001b[1mTest Failed\u001b[22m\u001b[39m at \u001b[39m\u001b[1mIn[54]:14\u001b[22m\n",
      "  Expression: std(diff(Xref_[4, 21:40])) < 0.1\n",
      "   Evaluated: NaN < 0.1\n",
      "Stacktrace:\n",
      " [1] \u001b[0m\u001b[1mmacro expansion\u001b[22m\n",
      "\u001b[90m   @ \u001b[39m\u001b[90;4mIn[54]:14\u001b[0m\u001b[90m [inlined]\u001b[39m\n",
      " [2] \u001b[0m\u001b[1mmacro expansion\u001b[22m\n",
      "\u001b[90m   @ \u001b[39m\u001b[90m/buildworker/worker/package_linux64/build/usr/share/julia/stdlib/v1.6/Test/src/\u001b[39m\u001b[90;4mTest.jl:1151\u001b[0m\u001b[90m [inlined]\u001b[39m\n",
      " [3] top-level scope\n",
      "\u001b[90m   @ \u001b[39m\u001b[90;4mIn[54]:2\u001b[0m\n",
      "\u001b[0m\u001b[1mTest Summary:  | \u001b[22m\u001b[32m\u001b[1mPass  \u001b[22m\u001b[39m\u001b[91m\u001b[1mFail  \u001b[22m\u001b[39m\u001b[36m\u001b[1mTotal\u001b[22m\u001b[39m\n",
      "flip reference | \u001b[32m   1  \u001b[39m\u001b[91m   9  \u001b[39m\u001b[36m   10\u001b[39m\n"
     ]
    },
    {
     "ename": "LoadError",
     "evalue": "\u001b[91mSome tests did not pass: 1 passed, 9 failed, 0 errored, 0 broken.\u001b[39m",
     "output_type": "error",
     "traceback": [
      "\u001b[91mSome tests did not pass: 1 passed, 9 failed, 0 errored, 0 broken.\u001b[39m",
      "",
      "Stacktrace:",
      " [1] finish(ts::Test.DefaultTestSet)",
      "   @ Test /buildworker/worker/package_linux64/build/usr/share/julia/stdlib/v1.6/Test/src/Test.jl:913",
      " [2] macro expansion",
      "   @ /buildworker/worker/package_linux64/build/usr/share/julia/stdlib/v1.6/Test/src/Test.jl:1161 [inlined]",
      " [3] top-level scope",
      "   @ In[54]:2",
      " [4] eval",
      "   @ ./boot.jl:360 [inlined]",
      " [5] include_string(mapexpr::typeof(REPL.softscope), mod::Module, code::String, filename::String)",
      "   @ Base ./loading.jl:1116"
     ]
    }
   ],
   "source": [
    "@testset \"flip reference\" begin                            # POINTS = 5\n",
    "    Xref_ = flip_reference()\n",
    "    @test length(Xref_) == 61                              # POINTS = 0.5\n",
    "    Xref_ = hcat(Vector.(Xref_)...)\n",
    "    @test mean(diff(Xref_[1,1:21])) ≈ 3/20 atol=1e-1       # POINTS = 0.5\n",
    "    @test mean(Xref_[4,1:20]) ≈ 6.0 atol=1e-1              # POINTS = 0.5\n",
    "    @test mean(Xref_[1,21:40]) ≈ 0 atol=1e-1               # POINTS = 0.5 \n",
    "    @test mean(diff(Xref_[1,41:end])) ≈ 3/20 atol=1e-1     # POINTS = 0.5\n",
    "    @test mean(Xref_[4,41:end]) ≈ 6.0 atol=1e-1            # POINTS = 0.5\n",
    "\n",
    "    @test Xref_[3,1] ≈ 0 atol=1e-6                         # POINTS = 0.5\n",
    "    @test Xref_[3,end] ≈ -2pi atol = 1e-6                  # POINTS = 0.5\n",
    "    @test std(diff(Xref_[6,21:40])) < 0.1                  # POINTS = 0.5\n",
    "    @test std(diff(Xref_[4,21:40])) < 0.1                  # POINTS = 0.5\n",
    "end;"
   ]
  },
  {
   "cell_type": "markdown",
   "metadata": {},
   "source": [
    "## Part (d): Optimize the Flip Trajectory (2 pts)\n",
    "Using the reference trajectory and the objective you specified in the previous part, construct a new problem and solve it with your iLQR solver. Use a simple hover trajectory as the initial guess."
   ]
  },
  {
   "cell_type": "code",
   "execution_count": 45,
   "metadata": {},
   "outputs": [
    {
     "name": "stdout",
     "output_type": "stream",
     "text": [
      "iter     J           ΔJ        |d|         α\n",
      "-----------------------------------------------\n"
     ]
    }
   ],
   "source": [
    "# TODO: Solve for Xflip, Uflip, the optimized trajectories to flip the quadrotor\n",
    "\n",
    "Uref = [copy(uhover) for i = 1:N-1]\n",
    "Xflip,Uflip,Kflip,Pflip,iterflip = iLQR(x0,Uref,Xref,Uref);"
   ]
  },
  {
   "cell_type": "code",
   "execution_count": 46,
   "metadata": {},
   "outputs": [
    {
     "data": {
      "text/html": [
       "    <div style=\"height: 500px; width: 100%; overflow-x: auto; overflow-y: hidden; resize: both\">\n",
       "    <iframe src=\"http://127.0.0.1:8701\" style=\"width: 100%; height: 100%; border: none\"></iframe>\n",
       "    </div>\n"
      ],
      "text/plain": [
       "MeshCat.DisplayedVisualizer(MeshCat.CoreVisualizer(MeshCat.SceneTrees.SceneNode(nothing, nothing, Dict{String, Vector{UInt8}}(), UInt8[0x83, 0xa7, 0x6f, 0x70, 0x74, 0x69, 0x6f, 0x6e, 0x73, 0x82  …  0x5f, 0x61, 0x6e, 0x69, 0x6d, 0x61, 0x74, 0x69, 0x6f, 0x6e], Dict{String, MeshCat.SceneTrees.SceneNode}(\"meshcat\" => MeshCat.SceneTrees.SceneNode(nothing, nothing, Dict{String, Vector{UInt8}}(), nothing, Dict{String, MeshCat.SceneTrees.SceneNode}(\"robot\" => MeshCat.SceneTrees.SceneNode(nothing, nothing, Dict{String, Vector{UInt8}}(), nothing, Dict{String, MeshCat.SceneTrees.SceneNode}(\"geom\" => MeshCat.SceneTrees.SceneNode(UInt8[0x83, 0xa6, 0x6f, 0x62, 0x6a, 0x65, 0x63, 0x74, 0x84, 0xaa  …  0x72, 0x6f, 0x62, 0x6f, 0x74, 0x2f, 0x67, 0x65, 0x6f, 0x6d], nothing, Dict{String, Vector{UInt8}}(), nothing, Dict{String, MeshCat.SceneTrees.SceneNode}()))))))), Set(Any[WebSocket(server, \u001b[32mCONNECTED\u001b[39m)]), ip\"127.0.0.1\", 8701))"
      ]
     },
     "execution_count": 46,
     "metadata": {},
     "output_type": "execute_result"
    }
   ],
   "source": [
    "isautograder || render(vis)"
   ]
  },
  {
   "cell_type": "code",
   "execution_count": 22,
   "metadata": {},
   "outputs": [],
   "source": [
    "isautograder || visualize!(vis, model, dt*(N-1), Xflip)"
   ]
  },
  {
   "cell_type": "code",
   "execution_count": 55,
   "metadata": {},
   "outputs": [
    {
     "name": "stdout",
     "output_type": "stream",
     "text": [
      "Flip trajectory: \u001b[91m\u001b[1mTest Failed\u001b[22m\u001b[39m at \u001b[39m\u001b[1mIn[55]:2\u001b[22m\n",
      "  Expression: minimum([abs(rad2deg(x[3]) + 180) for x = Xflip]) < 5\n",
      "   Evaluated: NaN < 5\n",
      "Stacktrace:\n",
      " [1] \u001b[0m\u001b[1mmacro expansion\u001b[22m\n",
      "\u001b[90m   @ \u001b[39m\u001b[90;4mIn[55]:2\u001b[0m\u001b[90m [inlined]\u001b[39m\n",
      " [2] \u001b[0m\u001b[1mmacro expansion\u001b[22m\n",
      "\u001b[90m   @ \u001b[39m\u001b[90m/buildworker/worker/package_linux64/build/usr/share/julia/stdlib/v1.6/Test/src/\u001b[39m\u001b[90;4mTest.jl:1151\u001b[0m\u001b[90m [inlined]\u001b[39m\n",
      " [3] top-level scope\n",
      "\u001b[90m   @ \u001b[39m\u001b[90;4mIn[55]:2\u001b[0m\n",
      "Flip trajectory: \u001b[91m\u001b[1mTest Failed\u001b[22m\u001b[39m at \u001b[39m\u001b[1mIn[55]:4\u001b[22m\n",
      "  Expression: norm(d, Inf) < 1.0e-5\n",
      "   Evaluated: NaN < 1.0e-5\n",
      "Stacktrace:\n",
      " [1] \u001b[0m\u001b[1mmacro expansion\u001b[22m\n",
      "\u001b[90m   @ \u001b[39m\u001b[90;4mIn[55]:4\u001b[0m\u001b[90m [inlined]\u001b[39m\n",
      " [2] \u001b[0m\u001b[1mmacro expansion\u001b[22m\n",
      "\u001b[90m   @ \u001b[39m\u001b[90m/buildworker/worker/package_linux64/build/usr/share/julia/stdlib/v1.6/Test/src/\u001b[39m\u001b[90;4mTest.jl:1151\u001b[0m\u001b[90m [inlined]\u001b[39m\n",
      " [3] top-level scope\n",
      "\u001b[90m   @ \u001b[39m\u001b[90;4mIn[55]:2\u001b[0m\n",
      "\u001b[0m\u001b[1mTest Summary:   | \u001b[22m\u001b[91m\u001b[1mFail  \u001b[22m\u001b[39m\u001b[36m\u001b[1mTotal\u001b[22m\u001b[39m\n",
      "Flip trajectory | \u001b[91m   2  \u001b[39m\u001b[36m    2\u001b[39m\n"
     ]
    },
    {
     "ename": "LoadError",
     "evalue": "\u001b[91mSome tests did not pass: 0 passed, 2 failed, 0 errored, 0 broken.\u001b[39m",
     "output_type": "error",
     "traceback": [
      "\u001b[91mSome tests did not pass: 0 passed, 2 failed, 0 errored, 0 broken.\u001b[39m",
      "",
      "Stacktrace:",
      " [1] finish(ts::Test.DefaultTestSet)",
      "   @ Test /buildworker/worker/package_linux64/build/usr/share/julia/stdlib/v1.6/Test/src/Test.jl:913",
      " [2] macro expansion",
      "   @ /buildworker/worker/package_linux64/build/usr/share/julia/stdlib/v1.6/Test/src/Test.jl:1161 [inlined]",
      " [3] top-level scope",
      "   @ In[55]:2",
      " [4] eval",
      "   @ ./boot.jl:360 [inlined]",
      " [5] include_string(mapexpr::typeof(REPL.softscope), mod::Module, code::String, filename::String)",
      "   @ Base ./loading.jl:1116"
     ]
    }
   ],
   "source": [
    "@testset \"Flip trajectory\" begin                                # POINTS = 2\n",
    "    @test minimum([abs(rad2deg(x[3])+180) for x in Xflip]) < 5  # POINTS = 1\n",
    "    d, K, P, ΔJ = backward_pass(Xflip,Uflip,Xref,Uref)\n",
    "    @test norm(d, Inf) < 1e-5                                   # POINTS = 1\n",
    "end;"
   ]
  },
  {
   "cell_type": "markdown",
   "metadata": {},
   "source": [
    "## Part (e): Compare to TVLQR (3 pts)\n",
    "iLQR generates a local linear feedback controller. As we saw in class, the backwardpass in iLQR is basically TVLQR with some extra terms. However, as our trajectory converges to a stationary point, these extra linear terms should go to zero. When iLQR exits, theses local feedback gains should closely match the result out of TVLQR. Using your code from the previous homework, generate a TVLQR solution for the optimized flip trajectory, using the same cost matrices used in your iLQR solver. They should match to reasonable numerical precision."
   ]
  },
  {
   "cell_type": "code",
   "execution_count": 56,
   "metadata": {},
   "outputs": [
    {
     "data": {
      "text/plain": [
       "61-element Vector{Matrix{Float64}}:\n",
       " [NaN NaN … NaN NaN; NaN NaN … NaN NaN; … ; NaN NaN … NaN NaN; NaN NaN … NaN NaN]\n",
       " [NaN NaN … NaN NaN; NaN NaN … NaN NaN; … ; NaN NaN … NaN NaN; NaN NaN … NaN NaN]\n",
       " [NaN NaN … NaN NaN; NaN NaN … NaN NaN; … ; NaN NaN … NaN NaN; NaN NaN … NaN NaN]\n",
       " [NaN NaN … NaN NaN; NaN NaN … NaN NaN; … ; NaN NaN … NaN NaN; NaN NaN … NaN NaN]\n",
       " [NaN NaN … NaN NaN; NaN NaN … NaN NaN; … ; NaN NaN … NaN NaN; NaN NaN … NaN NaN]\n",
       " [NaN NaN … NaN NaN; NaN NaN … NaN NaN; … ; NaN NaN … NaN NaN; NaN NaN … NaN NaN]\n",
       " [NaN NaN … NaN NaN; NaN NaN … NaN NaN; … ; NaN NaN … NaN NaN; NaN NaN … NaN NaN]\n",
       " [NaN NaN … NaN NaN; NaN NaN … NaN NaN; … ; NaN NaN … NaN NaN; NaN NaN … NaN NaN]\n",
       " [NaN NaN … NaN NaN; NaN NaN … NaN NaN; … ; NaN NaN … NaN NaN; NaN NaN … NaN NaN]\n",
       " [NaN NaN … NaN NaN; NaN NaN … NaN NaN; … ; NaN NaN … NaN NaN; NaN NaN … NaN NaN]\n",
       " [NaN NaN … NaN NaN; NaN NaN … NaN NaN; … ; NaN NaN … NaN NaN; NaN NaN … NaN NaN]\n",
       " [NaN NaN … NaN NaN; NaN NaN … NaN NaN; … ; NaN NaN … NaN NaN; NaN NaN … NaN NaN]\n",
       " [NaN NaN … NaN NaN; NaN NaN … NaN NaN; … ; NaN NaN … NaN NaN; NaN NaN … NaN NaN]\n",
       " ⋮\n",
       " [NaN NaN … NaN NaN; NaN NaN … NaN NaN; … ; NaN NaN … NaN NaN; NaN NaN … NaN NaN]\n",
       " [NaN NaN … NaN NaN; NaN NaN … NaN NaN; … ; NaN NaN … NaN NaN; NaN NaN … NaN NaN]\n",
       " [NaN NaN … NaN NaN; NaN NaN … NaN NaN; … ; NaN NaN … NaN NaN; NaN NaN … NaN NaN]\n",
       " [NaN NaN … NaN NaN; NaN NaN … NaN NaN; … ; NaN NaN … NaN NaN; NaN NaN … NaN NaN]\n",
       " [NaN NaN … NaN NaN; NaN NaN … NaN NaN; … ; NaN NaN … NaN NaN; NaN NaN … NaN NaN]\n",
       " [NaN NaN … NaN NaN; NaN NaN … NaN NaN; … ; NaN NaN … NaN NaN; NaN NaN … NaN NaN]\n",
       " [NaN NaN … NaN NaN; NaN NaN … NaN NaN; … ; NaN NaN … NaN NaN; NaN NaN … NaN NaN]\n",
       " [NaN NaN … NaN NaN; NaN NaN … NaN NaN; … ; NaN NaN … NaN NaN; NaN NaN … NaN NaN]\n",
       " [NaN NaN … NaN NaN; NaN NaN … NaN NaN; … ; NaN NaN … NaN NaN; NaN NaN … NaN NaN]\n",
       " [NaN NaN … NaN NaN; NaN NaN … NaN NaN; … ; NaN NaN … NaN NaN; NaN NaN … NaN NaN]\n",
       " [NaN NaN … NaN NaN; NaN NaN … NaN NaN; … ; NaN NaN … NaN NaN; NaN NaN … NaN NaN]\n",
       " [NaN NaN … NaN NaN; NaN NaN … NaN NaN; … ; NaN NaN … NaN NaN; NaN NaN … NaN NaN]"
      ]
     },
     "execution_count": 56,
     "metadata": {},
     "output_type": "execute_result"
    }
   ],
   "source": [
    "# TODO: Generate Klqr, Plqr, the feedback and cost-to-go matrices from TVLQR\n",
    "#       to track the optimized flip trajectory\n",
    "\n",
    "Klqr = deepcopy(Kflip) .* NaN\n",
    "Plqr = deepcopy(Pflip) .* NaN\n"
   ]
  },
  {
   "cell_type": "code",
   "execution_count": 57,
   "metadata": {},
   "outputs": [
    {
     "name": "stdout",
     "output_type": "stream",
     "text": [
      "TVLQR vs iLQR: \u001b[91m\u001b[1mTest Failed\u001b[22m\u001b[39m at \u001b[39m\u001b[1mIn[57]:2\u001b[22m\n",
      "  Expression: maximum(norm.(Kflip - Klqr, Inf)) < 0.001\n",
      "   Evaluated: NaN < 0.001\n",
      "Stacktrace:\n",
      " [1] \u001b[0m\u001b[1mmacro expansion\u001b[22m\n",
      "\u001b[90m   @ \u001b[39m\u001b[90;4mIn[57]:2\u001b[0m\u001b[90m [inlined]\u001b[39m\n",
      " [2] \u001b[0m\u001b[1mmacro expansion\u001b[22m\n",
      "\u001b[90m   @ \u001b[39m\u001b[90m/buildworker/worker/package_linux64/build/usr/share/julia/stdlib/v1.6/Test/src/\u001b[39m\u001b[90;4mTest.jl:1151\u001b[0m\u001b[90m [inlined]\u001b[39m\n",
      " [3] top-level scope\n",
      "\u001b[90m   @ \u001b[39m\u001b[90;4mIn[57]:2\u001b[0m\n",
      "TVLQR vs iLQR: \u001b[91m\u001b[1mTest Failed\u001b[22m\u001b[39m at \u001b[39m\u001b[1mIn[57]:3\u001b[22m\n",
      "  Expression: maximum(norm.(Pflip - Plqr, Inf)) < 0.001\n",
      "   Evaluated: NaN < 0.001\n",
      "Stacktrace:\n",
      " [1] \u001b[0m\u001b[1mmacro expansion\u001b[22m\n",
      "\u001b[90m   @ \u001b[39m\u001b[90;4mIn[57]:3\u001b[0m\u001b[90m [inlined]\u001b[39m\n",
      " [2] \u001b[0m\u001b[1mmacro expansion\u001b[22m\n",
      "\u001b[90m   @ \u001b[39m\u001b[90m/buildworker/worker/package_linux64/build/usr/share/julia/stdlib/v1.6/Test/src/\u001b[39m\u001b[90;4mTest.jl:1151\u001b[0m\u001b[90m [inlined]\u001b[39m\n",
      " [3] top-level scope\n",
      "\u001b[90m   @ \u001b[39m\u001b[90;4mIn[57]:2\u001b[0m\n",
      "\u001b[0m\u001b[1mTest Summary: | \u001b[22m\u001b[91m\u001b[1mFail  \u001b[22m\u001b[39m\u001b[36m\u001b[1mTotal\u001b[22m\u001b[39m\n",
      "TVLQR vs iLQR | \u001b[91m   2  \u001b[39m\u001b[36m    2\u001b[39m\n"
     ]
    },
    {
     "ename": "LoadError",
     "evalue": "\u001b[91mSome tests did not pass: 0 passed, 2 failed, 0 errored, 0 broken.\u001b[39m",
     "output_type": "error",
     "traceback": [
      "\u001b[91mSome tests did not pass: 0 passed, 2 failed, 0 errored, 0 broken.\u001b[39m",
      "",
      "Stacktrace:",
      " [1] finish(ts::Test.DefaultTestSet)",
      "   @ Test /buildworker/worker/package_linux64/build/usr/share/julia/stdlib/v1.6/Test/src/Test.jl:913",
      " [2] macro expansion",
      "   @ /buildworker/worker/package_linux64/build/usr/share/julia/stdlib/v1.6/Test/src/Test.jl:1161 [inlined]",
      " [3] top-level scope",
      "   @ In[57]:2",
      " [4] eval",
      "   @ ./boot.jl:360 [inlined]",
      " [5] include_string(mapexpr::typeof(REPL.softscope), mod::Module, code::String, filename::String)",
      "   @ Base ./loading.jl:1116"
     ]
    }
   ],
   "source": [
    "@testset \"TVLQR vs iLQR\" begin                      # POINTS = 3\n",
    "    @test maximum(norm.(Kflip - Klqr,Inf)) < 1e-3   # POINTS = 2\n",
    "    @test maximum(norm.(Pflip - Plqr,Inf)) < 1e-3   # POINTS = 1\n",
    "end;"
   ]
  },
  {
   "cell_type": "markdown",
   "metadata": {},
   "source": [
    "## Part (f): Closed-Loop Tracking (5 pts)\n",
    "Now that we've seen that the controller generated by iLQR is nearly identical to the TVLQR solution with the same cost matrices, let's use the iLQR gains to track our trajectory, and see how robust it is to wind gusts. We will produce this noise in the following way:\n",
    "\n",
    "$$x_{k+1} = \\operatorname{rk4}(x_k,u_k,dt) + [0,0,0,0.1\\cdot\\operatorname{randn}(3)]$$\n",
    "\n",
    "**NOTE** This is a pretty simple approximation of disturbances like wind. A better way to do this would be to inject external forces directly into the continuous dynamics."
   ]
  },
  {
   "cell_type": "code",
   "execution_count": 58,
   "metadata": {},
   "outputs": [],
   "source": [
    "using Random\n",
    "\"\"\"\n",
    "function for simulating with noise \n",
    "\n",
    "inputs:\n",
    "    x0 - initial condition \n",
    "    Xflip - optimal flip trajectory from iLQR \n",
    "    Uflip - optimal flip control from iLQR \n",
    "    Kflip - feedback gain matrices from iLQR\n",
    "    open_loop - bool, if true, use only Uflip as control, if false, use the feedback gain as well \n",
    "\n",
    "outputs:\n",
    "    X - simulated X\n",
    "    U - simulated U \n",
    "\"\"\"\n",
    "function simulate_with_noise(x0,Xflip,Uflip,Kflip,open_loop)\n",
    "    \n",
    "    X = [zeros(nx) for i = 1:N]\n",
    "    U = [zeros(nu) for i = 1:N-1]\n",
    "    X[1] = copy(x0)\n",
    "    \n",
    "    Random.seed!(1)\n",
    "    \n",
    "    # TODO: simulate with added noise from wind \n",
    "    # use open_loop to determine what control you should apply \n",
    "\n",
    "    return X,U\n",
    "end\n",
    "\n",
    "\n",
    "Xlqr,Ulqr = simulate_with_noise(x0,Xflip,Uflip,Kflip,false);\n",
    "Xopen,Uopen = simulate_with_noise(x0,Xflip,Uflip,Kflip,true);"
   ]
  },
  {
   "cell_type": "code",
   "execution_count": 59,
   "metadata": {},
   "outputs": [
    {
     "data": {
      "text/html": [
       "    <div style=\"height: 500px; width: 100%; overflow-x: auto; overflow-y: hidden; resize: both\">\n",
       "    <iframe src=\"http://127.0.0.1:8701\" style=\"width: 100%; height: 100%; border: none\"></iframe>\n",
       "    </div>\n"
      ],
      "text/plain": [
       "MeshCat.DisplayedVisualizer(MeshCat.CoreVisualizer(MeshCat.SceneTrees.SceneNode(nothing, nothing, Dict{String, Vector{UInt8}}(), UInt8[0x83, 0xa7, 0x6f, 0x70, 0x74, 0x69, 0x6f, 0x6e, 0x73, 0x82  …  0x5f, 0x61, 0x6e, 0x69, 0x6d, 0x61, 0x74, 0x69, 0x6f, 0x6e], Dict{String, MeshCat.SceneTrees.SceneNode}(\"meshcat\" => MeshCat.SceneTrees.SceneNode(nothing, nothing, Dict{String, Vector{UInt8}}(), nothing, Dict{String, MeshCat.SceneTrees.SceneNode}(\"robot\" => MeshCat.SceneTrees.SceneNode(nothing, nothing, Dict{String, Vector{UInt8}}(), nothing, Dict{String, MeshCat.SceneTrees.SceneNode}(\"geom\" => MeshCat.SceneTrees.SceneNode(UInt8[0x83, 0xa6, 0x6f, 0x62, 0x6a, 0x65, 0x63, 0x74, 0x84, 0xaa  …  0x72, 0x6f, 0x62, 0x6f, 0x74, 0x2f, 0x67, 0x65, 0x6f, 0x6d], nothing, Dict{String, Vector{UInt8}}(), nothing, Dict{String, MeshCat.SceneTrees.SceneNode}()))))))), Set(Any[WebSocket(server, \u001b[32mCONNECTED\u001b[39m), WebSocket(server, \u001b[32mCONNECTED\u001b[39m)]), ip\"127.0.0.1\", 8701))"
      ]
     },
     "execution_count": 59,
     "metadata": {},
     "output_type": "execute_result"
    }
   ],
   "source": [
    "isautograder || render(vis)"
   ]
  },
  {
   "cell_type": "code",
   "execution_count": 60,
   "metadata": {},
   "outputs": [],
   "source": [
    "# Simulate with LQR\n",
    "isautograder || visualize!(vis, model, dt*(N-1), Xlqr)"
   ]
  },
  {
   "cell_type": "code",
   "execution_count": 61,
   "metadata": {},
   "outputs": [],
   "source": [
    "isautograder || visualize!(vis, model, dt*(N-1), Xopen)"
   ]
  },
  {
   "cell_type": "code",
   "execution_count": 62,
   "metadata": {},
   "outputs": [
    {
     "data": {
      "image/svg+xml": [
       "<?xml version=\"1.0\" encoding=\"utf-8\"?>\n",
       "<svg xmlns=\"http://www.w3.org/2000/svg\" xmlns:xlink=\"http://www.w3.org/1999/xlink\" width=\"600\" height=\"400\" viewBox=\"0 0 2400 1600\">\n",
       "<defs>\n",
       "  <clipPath id=\"clip300\">\n",
       "    <rect x=\"0\" y=\"0\" width=\"2400\" height=\"1600\"/>\n",
       "  </clipPath>\n",
       "</defs>\n",
       "<path clip-path=\"url(#clip300)\" d=\"\n",
       "M0 1600 L2400 1600 L2400 0 L0 0  Z\n",
       "  \" fill=\"#ffffff\" fill-rule=\"evenodd\" fill-opacity=\"1\"/>\n",
       "<defs>\n",
       "  <clipPath id=\"clip301\">\n",
       "    <rect x=\"480\" y=\"0\" width=\"1681\" height=\"1600\"/>\n",
       "  </clipPath>\n",
       "</defs>\n",
       "<path clip-path=\"url(#clip300)\" d=\"\n",
       "M249.542 1423.18 L2352.76 1423.18 L2352.76 47.2441 L249.542 47.2441  Z\n",
       "  \" fill=\"#ffffff\" fill-rule=\"evenodd\" fill-opacity=\"1\"/>\n",
       "<defs>\n",
       "  <clipPath id=\"clip302\">\n",
       "    <rect x=\"249\" y=\"47\" width=\"2104\" height=\"1377\"/>\n",
       "  </clipPath>\n",
       "</defs>\n",
       "<polyline clip-path=\"url(#clip302)\" style=\"stroke:#000000; stroke-linecap:butt; stroke-linejoin:round; stroke-width:2; stroke-opacity:0.1; fill:none\" points=\"\n",
       "  309.067,1423.18 309.067,47.2441 \n",
       "  \"/>\n",
       "<polyline clip-path=\"url(#clip302)\" style=\"stroke:#000000; stroke-linecap:butt; stroke-linejoin:round; stroke-width:2; stroke-opacity:0.1; fill:none\" points=\"\n",
       "  970.455,1423.18 970.455,47.2441 \n",
       "  \"/>\n",
       "<polyline clip-path=\"url(#clip302)\" style=\"stroke:#000000; stroke-linecap:butt; stroke-linejoin:round; stroke-width:2; stroke-opacity:0.1; fill:none\" points=\"\n",
       "  1631.84,1423.18 1631.84,47.2441 \n",
       "  \"/>\n",
       "<polyline clip-path=\"url(#clip302)\" style=\"stroke:#000000; stroke-linecap:butt; stroke-linejoin:round; stroke-width:2; stroke-opacity:0.1; fill:none\" points=\"\n",
       "  2293.23,1423.18 2293.23,47.2441 \n",
       "  \"/>\n",
       "<polyline clip-path=\"url(#clip300)\" style=\"stroke:#000000; stroke-linecap:butt; stroke-linejoin:round; stroke-width:4; stroke-opacity:1; fill:none\" points=\"\n",
       "  249.542,1423.18 2352.76,1423.18 \n",
       "  \"/>\n",
       "<polyline clip-path=\"url(#clip300)\" style=\"stroke:#000000; stroke-linecap:butt; stroke-linejoin:round; stroke-width:4; stroke-opacity:1; fill:none\" points=\"\n",
       "  309.067,1423.18 309.067,1404.28 \n",
       "  \"/>\n",
       "<polyline clip-path=\"url(#clip300)\" style=\"stroke:#000000; stroke-linecap:butt; stroke-linejoin:round; stroke-width:4; stroke-opacity:1; fill:none\" points=\"\n",
       "  970.455,1423.18 970.455,1404.28 \n",
       "  \"/>\n",
       "<polyline clip-path=\"url(#clip300)\" style=\"stroke:#000000; stroke-linecap:butt; stroke-linejoin:round; stroke-width:4; stroke-opacity:1; fill:none\" points=\"\n",
       "  1631.84,1423.18 1631.84,1404.28 \n",
       "  \"/>\n",
       "<polyline clip-path=\"url(#clip300)\" style=\"stroke:#000000; stroke-linecap:butt; stroke-linejoin:round; stroke-width:4; stroke-opacity:1; fill:none\" points=\"\n",
       "  2293.23,1423.18 2293.23,1404.28 \n",
       "  \"/>\n",
       "<path clip-path=\"url(#clip300)\" d=\"M278.535 1468.75 L308.21 1468.75 L308.21 1472.69 L278.535 1472.69 L278.535 1468.75 Z\" fill=\"#000000\" fill-rule=\"evenodd\" fill-opacity=\"1\" /><path clip-path=\"url(#clip300)\" d=\"M332.47 1466.95 Q335.826 1467.66 337.701 1469.93 Q339.599 1472.2 339.599 1475.53 Q339.599 1480.65 336.081 1483.45 Q332.562 1486.25 326.081 1486.25 Q323.905 1486.25 321.59 1485.81 Q319.298 1485.39 316.845 1484.54 L316.845 1480.02 Q318.789 1481.16 321.104 1481.74 Q323.419 1482.32 325.942 1482.32 Q330.34 1482.32 332.632 1480.58 Q334.946 1478.84 334.946 1475.53 Q334.946 1472.48 332.794 1470.77 Q330.664 1469.03 326.845 1469.03 L322.817 1469.03 L322.817 1465.19 L327.03 1465.19 Q330.479 1465.19 332.308 1463.82 Q334.136 1462.43 334.136 1459.84 Q334.136 1457.18 332.238 1455.77 Q330.363 1454.33 326.845 1454.33 Q324.923 1454.33 322.724 1454.75 Q320.525 1455.16 317.886 1456.04 L317.886 1451.88 Q320.548 1451.14 322.863 1450.77 Q325.201 1450.39 327.261 1450.39 Q332.585 1450.39 335.687 1452.83 Q338.789 1455.23 338.789 1459.35 Q338.789 1462.22 337.146 1464.21 Q335.502 1466.18 332.47 1466.95 Z\" fill=\"#000000\" fill-rule=\"evenodd\" fill-opacity=\"1\" /><path clip-path=\"url(#clip300)\" d=\"M940.397 1468.75 L970.073 1468.75 L970.073 1472.69 L940.397 1472.69 L940.397 1468.75 Z\" fill=\"#000000\" fill-rule=\"evenodd\" fill-opacity=\"1\" /><path clip-path=\"url(#clip300)\" d=\"M984.193 1481.64 L1000.51 1481.64 L1000.51 1485.58 L978.568 1485.58 L978.568 1481.64 Q981.23 1478.89 985.814 1474.26 Q990.42 1469.61 991.601 1468.27 Q993.846 1465.74 994.726 1464.01 Q995.628 1462.25 995.628 1460.56 Q995.628 1457.8 993.684 1456.07 Q991.763 1454.33 988.661 1454.33 Q986.462 1454.33 984.008 1455.09 Q981.578 1455.86 978.8 1457.41 L978.8 1452.69 Q981.624 1451.55 984.078 1450.97 Q986.531 1450.39 988.568 1450.39 Q993.939 1450.39 997.133 1453.08 Q1000.33 1455.77 1000.33 1460.26 Q1000.33 1462.39 999.517 1464.31 Q998.73 1466.2 996.624 1468.8 Q996.045 1469.47 992.943 1472.69 Q989.841 1475.88 984.193 1481.64 Z\" fill=\"#000000\" fill-rule=\"evenodd\" fill-opacity=\"1\" /><path clip-path=\"url(#clip300)\" d=\"M1601.6 1468.75 L1631.28 1468.75 L1631.28 1472.69 L1601.6 1472.69 L1601.6 1468.75 Z\" fill=\"#000000\" fill-rule=\"evenodd\" fill-opacity=\"1\" /><path clip-path=\"url(#clip300)\" d=\"M1642.18 1481.64 L1649.82 1481.64 L1649.82 1455.28 L1641.51 1456.95 L1641.51 1452.69 L1649.77 1451.02 L1654.45 1451.02 L1654.45 1481.64 L1662.09 1481.64 L1662.09 1485.58 L1642.18 1485.58 L1642.18 1481.64 Z\" fill=\"#000000\" fill-rule=\"evenodd\" fill-opacity=\"1\" /><path clip-path=\"url(#clip300)\" d=\"M2293.23 1454.1 Q2289.62 1454.1 2287.79 1457.66 Q2285.99 1461.2 2285.99 1468.33 Q2285.99 1475.44 2287.79 1479.01 Q2289.62 1482.55 2293.23 1482.55 Q2296.87 1482.55 2298.67 1479.01 Q2300.5 1475.44 2300.5 1468.33 Q2300.5 1461.2 2298.67 1457.66 Q2296.87 1454.1 2293.23 1454.1 M2293.23 1450.39 Q2299.04 1450.39 2302.1 1455 Q2305.18 1459.58 2305.18 1468.33 Q2305.18 1477.06 2302.1 1481.67 Q2299.04 1486.25 2293.23 1486.25 Q2287.42 1486.25 2284.34 1481.67 Q2281.29 1477.06 2281.29 1468.33 Q2281.29 1459.58 2284.34 1455 Q2287.42 1450.39 2293.23 1450.39 Z\" fill=\"#000000\" fill-rule=\"evenodd\" fill-opacity=\"1\" /><path clip-path=\"url(#clip300)\" d=\"M1317.76 1532.4 L1304.87 1549.74 L1318.43 1568.04 L1311.53 1568.04 L1301.15 1554.04 L1290.77 1568.04 L1283.87 1568.04 L1297.71 1549.39 L1285.04 1532.4 L1291.95 1532.4 L1301.4 1545.1 L1310.86 1532.4 L1317.76 1532.4 Z\" fill=\"#000000\" fill-rule=\"evenodd\" fill-opacity=\"1\" /><polyline clip-path=\"url(#clip302)\" style=\"stroke:#000000; stroke-linecap:butt; stroke-linejoin:round; stroke-width:2; stroke-opacity:0.1; fill:none\" points=\"\n",
       "  249.542,1384.24 2352.76,1384.24 \n",
       "  \"/>\n",
       "<polyline clip-path=\"url(#clip302)\" style=\"stroke:#000000; stroke-linecap:butt; stroke-linejoin:round; stroke-width:2; stroke-opacity:0.1; fill:none\" points=\"\n",
       "  249.542,1059.73 2352.76,1059.73 \n",
       "  \"/>\n",
       "<polyline clip-path=\"url(#clip302)\" style=\"stroke:#000000; stroke-linecap:butt; stroke-linejoin:round; stroke-width:2; stroke-opacity:0.1; fill:none\" points=\"\n",
       "  249.542,735.212 2352.76,735.212 \n",
       "  \"/>\n",
       "<polyline clip-path=\"url(#clip302)\" style=\"stroke:#000000; stroke-linecap:butt; stroke-linejoin:round; stroke-width:2; stroke-opacity:0.1; fill:none\" points=\"\n",
       "  249.542,410.699 2352.76,410.699 \n",
       "  \"/>\n",
       "<polyline clip-path=\"url(#clip302)\" style=\"stroke:#000000; stroke-linecap:butt; stroke-linejoin:round; stroke-width:2; stroke-opacity:0.1; fill:none\" points=\"\n",
       "  249.542,86.1857 2352.76,86.1857 \n",
       "  \"/>\n",
       "<polyline clip-path=\"url(#clip300)\" style=\"stroke:#000000; stroke-linecap:butt; stroke-linejoin:round; stroke-width:4; stroke-opacity:1; fill:none\" points=\"\n",
       "  249.542,1423.18 249.542,47.2441 \n",
       "  \"/>\n",
       "<polyline clip-path=\"url(#clip300)\" style=\"stroke:#000000; stroke-linecap:butt; stroke-linejoin:round; stroke-width:4; stroke-opacity:1; fill:none\" points=\"\n",
       "  249.542,1384.24 268.44,1384.24 \n",
       "  \"/>\n",
       "<polyline clip-path=\"url(#clip300)\" style=\"stroke:#000000; stroke-linecap:butt; stroke-linejoin:round; stroke-width:4; stroke-opacity:1; fill:none\" points=\"\n",
       "  249.542,1059.73 268.44,1059.73 \n",
       "  \"/>\n",
       "<polyline clip-path=\"url(#clip300)\" style=\"stroke:#000000; stroke-linecap:butt; stroke-linejoin:round; stroke-width:4; stroke-opacity:1; fill:none\" points=\"\n",
       "  249.542,735.212 268.44,735.212 \n",
       "  \"/>\n",
       "<polyline clip-path=\"url(#clip300)\" style=\"stroke:#000000; stroke-linecap:butt; stroke-linejoin:round; stroke-width:4; stroke-opacity:1; fill:none\" points=\"\n",
       "  249.542,410.699 268.44,410.699 \n",
       "  \"/>\n",
       "<polyline clip-path=\"url(#clip300)\" style=\"stroke:#000000; stroke-linecap:butt; stroke-linejoin:round; stroke-width:4; stroke-opacity:1; fill:none\" points=\"\n",
       "  249.542,86.1857 268.44,86.1857 \n",
       "  \"/>\n",
       "<path clip-path=\"url(#clip300)\" d=\"M126.205 1370.04 Q122.593 1370.04 120.765 1373.6 Q118.959 1377.14 118.959 1384.27 Q118.959 1391.38 120.765 1394.94 Q122.593 1398.49 126.205 1398.49 Q129.839 1398.49 131.644 1394.94 Q133.473 1391.38 133.473 1384.27 Q133.473 1377.14 131.644 1373.6 Q129.839 1370.04 126.205 1370.04 M126.205 1366.33 Q132.015 1366.33 135.07 1370.94 Q138.149 1375.52 138.149 1384.27 Q138.149 1393 135.07 1397.61 Q132.015 1402.19 126.205 1402.19 Q120.394 1402.19 117.316 1397.61 Q114.26 1393 114.26 1384.27 Q114.26 1375.52 117.316 1370.94 Q120.394 1366.33 126.205 1366.33 Z\" fill=\"#000000\" fill-rule=\"evenodd\" fill-opacity=\"1\" /><path clip-path=\"url(#clip300)\" d=\"M146.366 1395.64 L151.251 1395.64 L151.251 1401.52 L146.366 1401.52 L146.366 1395.64 Z\" fill=\"#000000\" fill-rule=\"evenodd\" fill-opacity=\"1\" /><path clip-path=\"url(#clip300)\" d=\"M171.436 1370.04 Q167.825 1370.04 165.996 1373.6 Q164.19 1377.14 164.19 1384.27 Q164.19 1391.38 165.996 1394.94 Q167.825 1398.49 171.436 1398.49 Q175.07 1398.49 176.876 1394.94 Q178.704 1391.38 178.704 1384.27 Q178.704 1377.14 176.876 1373.6 Q175.07 1370.04 171.436 1370.04 M171.436 1366.33 Q177.246 1366.33 180.301 1370.94 Q183.38 1375.52 183.38 1384.27 Q183.38 1393 180.301 1397.61 Q177.246 1402.19 171.436 1402.19 Q165.626 1402.19 162.547 1397.61 Q159.491 1393 159.491 1384.27 Q159.491 1375.52 162.547 1370.94 Q165.626 1366.33 171.436 1366.33 Z\" fill=\"#000000\" fill-rule=\"evenodd\" fill-opacity=\"1\" /><path clip-path=\"url(#clip300)\" d=\"M201.598 1370.04 Q197.987 1370.04 196.158 1373.6 Q194.352 1377.14 194.352 1384.27 Q194.352 1391.38 196.158 1394.94 Q197.987 1398.49 201.598 1398.49 Q205.232 1398.49 207.037 1394.94 Q208.866 1391.38 208.866 1384.27 Q208.866 1377.14 207.037 1373.6 Q205.232 1370.04 201.598 1370.04 M201.598 1366.33 Q207.408 1366.33 210.463 1370.94 Q213.542 1375.52 213.542 1384.27 Q213.542 1393 210.463 1397.61 Q207.408 1402.19 201.598 1402.19 Q195.787 1402.19 192.709 1397.61 Q189.653 1393 189.653 1384.27 Q189.653 1375.52 192.709 1370.94 Q195.787 1366.33 201.598 1366.33 Z\" fill=\"#000000\" fill-rule=\"evenodd\" fill-opacity=\"1\" /><path clip-path=\"url(#clip300)\" d=\"M127.2 1045.52 Q123.589 1045.52 121.76 1049.09 Q119.955 1052.63 119.955 1059.76 Q119.955 1066.87 121.76 1070.43 Q123.589 1073.97 127.2 1073.97 Q130.834 1073.97 132.64 1070.43 Q134.468 1066.87 134.468 1059.76 Q134.468 1052.63 132.64 1049.09 Q130.834 1045.52 127.2 1045.52 M127.2 1041.82 Q133.01 1041.82 136.066 1046.43 Q139.144 1051.01 139.144 1059.76 Q139.144 1068.49 136.066 1073.09 Q133.01 1077.68 127.2 1077.68 Q121.39 1077.68 118.311 1073.09 Q115.256 1068.49 115.256 1059.76 Q115.256 1051.01 118.311 1046.43 Q121.39 1041.82 127.2 1041.82 Z\" fill=\"#000000\" fill-rule=\"evenodd\" fill-opacity=\"1\" /><path clip-path=\"url(#clip300)\" d=\"M147.362 1071.13 L152.246 1071.13 L152.246 1077.01 L147.362 1077.01 L147.362 1071.13 Z\" fill=\"#000000\" fill-rule=\"evenodd\" fill-opacity=\"1\" /><path clip-path=\"url(#clip300)\" d=\"M166.459 1073.07 L182.778 1073.07 L182.778 1077.01 L160.834 1077.01 L160.834 1073.07 Q163.496 1070.32 168.079 1065.69 Q172.686 1061.03 173.866 1059.69 Q176.112 1057.17 176.991 1055.43 Q177.894 1053.67 177.894 1051.98 Q177.894 1049.23 175.95 1047.49 Q174.028 1045.76 170.927 1045.76 Q168.727 1045.76 166.274 1046.52 Q163.843 1047.28 161.065 1048.83 L161.065 1044.11 Q163.89 1042.98 166.343 1042.4 Q168.797 1041.82 170.834 1041.82 Q176.204 1041.82 179.399 1044.51 Q182.593 1047.19 182.593 1051.68 Q182.593 1053.81 181.783 1055.73 Q180.996 1057.63 178.889 1060.22 Q178.311 1060.89 175.209 1064.11 Q172.107 1067.31 166.459 1073.07 Z\" fill=\"#000000\" fill-rule=\"evenodd\" fill-opacity=\"1\" /><path clip-path=\"url(#clip300)\" d=\"M192.639 1042.45 L210.996 1042.45 L210.996 1046.38 L196.922 1046.38 L196.922 1054.85 Q197.94 1054.51 198.959 1054.34 Q199.977 1054.16 200.996 1054.16 Q206.783 1054.16 210.162 1057.33 Q213.542 1060.5 213.542 1065.92 Q213.542 1071.5 210.07 1074.6 Q206.598 1077.68 200.278 1077.68 Q198.102 1077.68 195.834 1077.31 Q193.588 1076.94 191.181 1076.19 L191.181 1071.5 Q193.264 1072.63 195.487 1073.19 Q197.709 1073.74 200.186 1073.74 Q204.19 1073.74 206.528 1071.63 Q208.866 1069.53 208.866 1065.92 Q208.866 1062.31 206.528 1060.2 Q204.19 1058.09 200.186 1058.09 Q198.311 1058.09 196.436 1058.51 Q194.584 1058.93 192.639 1059.81 L192.639 1042.45 Z\" fill=\"#000000\" fill-rule=\"evenodd\" fill-opacity=\"1\" /><path clip-path=\"url(#clip300)\" d=\"M126.205 721.011 Q122.593 721.011 120.765 724.575 Q118.959 728.117 118.959 735.247 Q118.959 742.353 120.765 745.918 Q122.593 749.46 126.205 749.46 Q129.839 749.46 131.644 745.918 Q133.473 742.353 133.473 735.247 Q133.473 728.117 131.644 724.575 Q129.839 721.011 126.205 721.011 M126.205 717.307 Q132.015 717.307 135.07 721.913 Q138.149 726.497 138.149 735.247 Q138.149 743.973 135.07 748.58 Q132.015 753.163 126.205 753.163 Q120.394 753.163 117.316 748.58 Q114.26 743.973 114.26 735.247 Q114.26 726.497 117.316 721.913 Q120.394 717.307 126.205 717.307 Z\" fill=\"#000000\" fill-rule=\"evenodd\" fill-opacity=\"1\" /><path clip-path=\"url(#clip300)\" d=\"M146.366 746.612 L151.251 746.612 L151.251 752.492 L146.366 752.492 L146.366 746.612 Z\" fill=\"#000000\" fill-rule=\"evenodd\" fill-opacity=\"1\" /><path clip-path=\"url(#clip300)\" d=\"M161.482 717.932 L179.839 717.932 L179.839 721.867 L165.765 721.867 L165.765 730.339 Q166.783 729.992 167.802 729.83 Q168.82 729.645 169.839 729.645 Q175.626 729.645 179.005 732.816 Q182.385 735.987 182.385 741.404 Q182.385 746.983 178.913 750.085 Q175.44 753.163 169.121 753.163 Q166.945 753.163 164.677 752.793 Q162.431 752.423 160.024 751.682 L160.024 746.983 Q162.107 748.117 164.329 748.673 Q166.552 749.228 169.028 749.228 Q173.033 749.228 175.371 747.122 Q177.709 745.015 177.709 741.404 Q177.709 737.793 175.371 735.687 Q173.033 733.58 169.028 733.58 Q167.153 733.58 165.278 733.997 Q163.427 734.413 161.482 735.293 L161.482 717.932 Z\" fill=\"#000000\" fill-rule=\"evenodd\" fill-opacity=\"1\" /><path clip-path=\"url(#clip300)\" d=\"M201.598 721.011 Q197.987 721.011 196.158 724.575 Q194.352 728.117 194.352 735.247 Q194.352 742.353 196.158 745.918 Q197.987 749.46 201.598 749.46 Q205.232 749.46 207.037 745.918 Q208.866 742.353 208.866 735.247 Q208.866 728.117 207.037 724.575 Q205.232 721.011 201.598 721.011 M201.598 717.307 Q207.408 717.307 210.463 721.913 Q213.542 726.497 213.542 735.247 Q213.542 743.973 210.463 748.58 Q207.408 753.163 201.598 753.163 Q195.787 753.163 192.709 748.58 Q189.653 743.973 189.653 735.247 Q189.653 726.497 192.709 721.913 Q195.787 717.307 201.598 717.307 Z\" fill=\"#000000\" fill-rule=\"evenodd\" fill-opacity=\"1\" /><path clip-path=\"url(#clip300)\" d=\"M127.2 396.498 Q123.589 396.498 121.76 400.062 Q119.955 403.604 119.955 410.734 Q119.955 417.84 121.76 421.405 Q123.589 424.946 127.2 424.946 Q130.834 424.946 132.64 421.405 Q134.468 417.84 134.468 410.734 Q134.468 403.604 132.64 400.062 Q130.834 396.498 127.2 396.498 M127.2 392.794 Q133.01 392.794 136.066 397.4 Q139.144 401.984 139.144 410.734 Q139.144 419.46 136.066 424.067 Q133.01 428.65 127.2 428.65 Q121.39 428.65 118.311 424.067 Q115.256 419.46 115.256 410.734 Q115.256 401.984 118.311 397.4 Q121.39 392.794 127.2 392.794 Z\" fill=\"#000000\" fill-rule=\"evenodd\" fill-opacity=\"1\" /><path clip-path=\"url(#clip300)\" d=\"M147.362 422.099 L152.246 422.099 L152.246 427.979 L147.362 427.979 L147.362 422.099 Z\" fill=\"#000000\" fill-rule=\"evenodd\" fill-opacity=\"1\" /><path clip-path=\"url(#clip300)\" d=\"M161.251 393.419 L183.473 393.419 L183.473 395.41 L170.927 427.979 L166.042 427.979 L177.848 397.354 L161.251 397.354 L161.251 393.419 Z\" fill=\"#000000\" fill-rule=\"evenodd\" fill-opacity=\"1\" /><path clip-path=\"url(#clip300)\" d=\"M192.639 393.419 L210.996 393.419 L210.996 397.354 L196.922 397.354 L196.922 405.826 Q197.94 405.479 198.959 405.317 Q199.977 405.132 200.996 405.132 Q206.783 405.132 210.162 408.303 Q213.542 411.474 213.542 416.891 Q213.542 422.47 210.07 425.571 Q206.598 428.65 200.278 428.65 Q198.102 428.65 195.834 428.28 Q193.588 427.909 191.181 427.169 L191.181 422.47 Q193.264 423.604 195.487 424.159 Q197.709 424.715 200.186 424.715 Q204.19 424.715 206.528 422.608 Q208.866 420.502 208.866 416.891 Q208.866 413.28 206.528 411.173 Q204.19 409.067 200.186 409.067 Q198.311 409.067 196.436 409.484 Q194.584 409.9 192.639 410.78 L192.639 393.419 Z\" fill=\"#000000\" fill-rule=\"evenodd\" fill-opacity=\"1\" /><path clip-path=\"url(#clip300)\" d=\"M117.015 99.5305 L124.654 99.5305 L124.654 73.1649 L116.343 74.8316 L116.343 70.5723 L124.607 68.9057 L129.283 68.9057 L129.283 99.5305 L136.922 99.5305 L136.922 103.466 L117.015 103.466 L117.015 99.5305 Z\" fill=\"#000000\" fill-rule=\"evenodd\" fill-opacity=\"1\" /><path clip-path=\"url(#clip300)\" d=\"M146.366 97.5861 L151.251 97.5861 L151.251 103.466 L146.366 103.466 L146.366 97.5861 Z\" fill=\"#000000\" fill-rule=\"evenodd\" fill-opacity=\"1\" /><path clip-path=\"url(#clip300)\" d=\"M171.436 71.9844 Q167.825 71.9844 165.996 75.5492 Q164.19 79.0908 164.19 86.2204 Q164.19 93.3268 165.996 96.8916 Q167.825 100.433 171.436 100.433 Q175.07 100.433 176.876 96.8916 Q178.704 93.3268 178.704 86.2204 Q178.704 79.0908 176.876 75.5492 Q175.07 71.9844 171.436 71.9844 M171.436 68.2807 Q177.246 68.2807 180.301 72.8871 Q183.38 77.4704 183.38 86.2204 Q183.38 94.9472 180.301 99.5537 Q177.246 104.137 171.436 104.137 Q165.626 104.137 162.547 99.5537 Q159.491 94.9472 159.491 86.2204 Q159.491 77.4704 162.547 72.8871 Q165.626 68.2807 171.436 68.2807 Z\" fill=\"#000000\" fill-rule=\"evenodd\" fill-opacity=\"1\" /><path clip-path=\"url(#clip300)\" d=\"M201.598 71.9844 Q197.987 71.9844 196.158 75.5492 Q194.352 79.0908 194.352 86.2204 Q194.352 93.3268 196.158 96.8916 Q197.987 100.433 201.598 100.433 Q205.232 100.433 207.037 96.8916 Q208.866 93.3268 208.866 86.2204 Q208.866 79.0908 207.037 75.5492 Q205.232 71.9844 201.598 71.9844 M201.598 68.2807 Q207.408 68.2807 210.463 72.8871 Q213.542 77.4704 213.542 86.2204 Q213.542 94.9472 210.463 99.5537 Q207.408 104.137 201.598 104.137 Q195.787 104.137 192.709 99.5537 Q189.653 94.9472 189.653 86.2204 Q189.653 77.4704 192.709 72.8871 Q195.787 68.2807 201.598 68.2807 Z\" fill=\"#000000\" fill-rule=\"evenodd\" fill-opacity=\"1\" /><path clip-path=\"url(#clip300)\" d=\"M28.3562 748.723 L28.3562 720.905 L33.7034 720.905 L59.3254 742.93 L59.3254 720.905 L64.0042 720.905 L64.0042 749.519 L58.657 749.519 L33.035 727.494 L33.035 748.723 L28.3562 748.723 Z\" fill=\"#000000\" fill-rule=\"evenodd\" fill-opacity=\"1\" /><polyline clip-path=\"url(#clip302)\" style=\"stroke:#e26f46; stroke-linecap:butt; stroke-linejoin:round; stroke-width:4; stroke-opacity:1; fill:none\" points=\"\n",
       "  309.067,86.1857 2293.23,1384.24 \n",
       "  \n",
       "  \n",
       "  \n",
       "  \n",
       "  \n",
       "  \n",
       "  \"/>\n",
       "<polyline clip-path=\"url(#clip302)\" style=\"stroke:#3da44d; stroke-linecap:butt; stroke-linejoin:round; stroke-width:4; stroke-opacity:1; fill:none\" points=\"\n",
       "  309.067,86.1857 2293.23,1384.24 \n",
       "  \n",
       "  \n",
       "  \n",
       "  \n",
       "  \n",
       "  \n",
       "  \"/>\n",
       "<path clip-path=\"url(#clip300)\" d=\"\n",
       "M1937.29 300.469 L2282.65 300.469 L2282.65 93.1086 L1937.29 93.1086  Z\n",
       "  \" fill=\"#ffffff\" fill-rule=\"evenodd\" fill-opacity=\"1\"/>\n",
       "<polyline clip-path=\"url(#clip300)\" style=\"stroke:#000000; stroke-linecap:butt; stroke-linejoin:round; stroke-width:4; stroke-opacity:1; fill:none\" points=\"\n",
       "  1937.29,300.469 2282.65,300.469 2282.65,93.1086 1937.29,93.1086 1937.29,300.469 \n",
       "  \"/>\n",
       "<polyline clip-path=\"url(#clip300)\" style=\"stroke:#009af9; stroke-linecap:butt; stroke-linejoin:round; stroke-width:4; stroke-opacity:1; fill:none\" points=\"\n",
       "  1960.66,144.949 2100.88,144.949 \n",
       "  \"/>\n",
       "<path clip-path=\"url(#clip300)\" d=\"M2139.43 140.284 Q2138.71 139.868 2137.86 139.682 Q2137.02 139.474 2136 139.474 Q2132.39 139.474 2130.45 141.835 Q2128.53 144.173 2128.53 148.571 L2128.53 162.229 L2124.24 162.229 L2124.24 136.303 L2128.53 136.303 L2128.53 140.331 Q2129.87 137.969 2132.02 136.835 Q2134.18 135.678 2137.25 135.678 Q2137.69 135.678 2138.23 135.747 Q2138.76 135.794 2139.41 135.909 L2139.43 140.284 Z\" fill=\"#000000\" fill-rule=\"evenodd\" fill-opacity=\"1\" /><path clip-path=\"url(#clip300)\" d=\"M2165.03 148.201 L2165.03 150.284 L2145.45 150.284 Q2145.73 154.682 2148.09 156.997 Q2150.47 159.289 2154.71 159.289 Q2157.16 159.289 2159.45 158.687 Q2161.77 158.085 2164.04 156.881 L2164.04 160.909 Q2161.74 161.881 2159.34 162.391 Q2156.93 162.9 2154.45 162.9 Q2148.25 162.9 2144.61 159.289 Q2141 155.678 2141 149.52 Q2141 143.155 2144.43 139.428 Q2147.88 135.678 2153.71 135.678 Q2158.94 135.678 2161.98 139.057 Q2165.03 142.414 2165.03 148.201 M2160.77 146.951 Q2160.73 143.456 2158.8 141.372 Q2156.91 139.289 2153.76 139.289 Q2150.19 139.289 2148.04 141.303 Q2145.91 143.317 2145.59 146.974 L2160.77 146.951 Z\" fill=\"#000000\" fill-rule=\"evenodd\" fill-opacity=\"1\" /><path clip-path=\"url(#clip300)\" d=\"M2185.15 126.21 L2185.15 129.752 L2181.07 129.752 Q2178.78 129.752 2177.88 130.678 Q2177 131.604 2177 134.011 L2177 136.303 L2184.01 136.303 L2184.01 139.613 L2177 139.613 L2177 162.229 L2172.72 162.229 L2172.72 139.613 L2168.64 139.613 L2168.64 136.303 L2172.72 136.303 L2172.72 134.497 Q2172.72 130.169 2174.73 128.201 Q2176.74 126.21 2181.12 126.21 L2185.15 126.21 Z\" fill=\"#000000\" fill-rule=\"evenodd\" fill-opacity=\"1\" /><polyline clip-path=\"url(#clip300)\" style=\"stroke:#e26f46; stroke-linecap:butt; stroke-linejoin:round; stroke-width:4; stroke-opacity:1; fill:none\" points=\"\n",
       "  1960.66,196.789 2100.88,196.789 \n",
       "  \"/>\n",
       "<path clip-path=\"url(#clip300)\" d=\"M2124.24 178.05 L2128.5 178.05 L2128.5 214.069 L2124.24 214.069 L2124.24 178.05 Z\" fill=\"#000000\" fill-rule=\"evenodd\" fill-opacity=\"1\" /><path clip-path=\"url(#clip300)\" d=\"M2139.96 201.129 Q2139.96 205.828 2141.88 208.513 Q2143.83 211.175 2147.21 211.175 Q2150.59 211.175 2152.53 208.513 Q2154.48 205.828 2154.48 201.129 Q2154.48 196.43 2152.53 193.768 Q2150.59 191.083 2147.21 191.083 Q2143.83 191.083 2141.88 193.768 Q2139.96 196.43 2139.96 201.129 M2154.48 210.18 Q2153.13 212.495 2151.07 213.629 Q2149.04 214.74 2146.17 214.74 Q2141.47 214.74 2138.5 210.99 Q2135.56 207.24 2135.56 201.129 Q2135.56 195.018 2138.5 191.268 Q2141.47 187.518 2146.17 187.518 Q2149.04 187.518 2151.07 188.652 Q2153.13 189.763 2154.48 192.078 L2154.48 188.143 L2158.74 188.143 L2158.74 223.93 L2154.48 223.93 L2154.48 210.18 Z\" fill=\"#000000\" fill-rule=\"evenodd\" fill-opacity=\"1\" /><path clip-path=\"url(#clip300)\" d=\"M2182.53 192.124 Q2181.81 191.708 2180.96 191.522 Q2180.12 191.314 2179.11 191.314 Q2175.49 191.314 2173.55 193.675 Q2171.63 196.013 2171.63 200.411 L2171.63 214.069 L2167.35 214.069 L2167.35 188.143 L2171.63 188.143 L2171.63 192.171 Q2172.97 189.809 2175.12 188.675 Q2177.28 187.518 2180.36 187.518 Q2180.8 187.518 2181.33 187.587 Q2181.86 187.634 2182.51 187.749 L2182.53 192.124 Z\" fill=\"#000000\" fill-rule=\"evenodd\" fill-opacity=\"1\" /><polyline clip-path=\"url(#clip300)\" style=\"stroke:#3da44d; stroke-linecap:butt; stroke-linejoin:round; stroke-width:4; stroke-opacity:1; fill:none\" points=\"\n",
       "  1960.66,248.629 2100.88,248.629 \n",
       "  \"/>\n",
       "<path clip-path=\"url(#clip300)\" d=\"M2136.14 242.969 Q2132.72 242.969 2130.73 245.654 Q2128.74 248.316 2128.74 252.969 Q2128.74 257.622 2130.7 260.307 Q2132.69 262.969 2136.14 262.969 Q2139.55 262.969 2141.54 260.284 Q2143.53 257.598 2143.53 252.969 Q2143.53 248.362 2141.54 245.677 Q2139.55 242.969 2136.14 242.969 M2136.14 239.358 Q2141.7 239.358 2144.87 242.969 Q2148.04 246.58 2148.04 252.969 Q2148.04 259.335 2144.87 262.969 Q2141.7 266.58 2136.14 266.58 Q2130.56 266.58 2127.39 262.969 Q2124.24 259.335 2124.24 252.969 Q2124.24 246.58 2127.39 242.969 Q2130.56 239.358 2136.14 239.358 Z\" fill=\"#000000\" fill-rule=\"evenodd\" fill-opacity=\"1\" /><path clip-path=\"url(#clip300)\" d=\"M2159.22 262.02 L2159.22 275.77 L2154.94 275.77 L2154.94 239.983 L2159.22 239.983 L2159.22 243.918 Q2160.56 241.603 2162.6 240.492 Q2164.66 239.358 2167.51 239.358 Q2172.23 239.358 2175.17 243.108 Q2178.13 246.858 2178.13 252.969 Q2178.13 259.08 2175.17 262.83 Q2172.23 266.58 2167.51 266.58 Q2164.66 266.58 2162.6 265.469 Q2160.56 264.335 2159.22 262.02 M2173.71 252.969 Q2173.71 248.27 2171.77 245.608 Q2169.85 242.923 2166.47 242.923 Q2163.09 242.923 2161.14 245.608 Q2159.22 248.27 2159.22 252.969 Q2159.22 257.668 2161.14 260.353 Q2163.09 263.015 2166.47 263.015 Q2169.85 263.015 2171.77 260.353 Q2173.71 257.668 2173.71 252.969 Z\" fill=\"#000000\" fill-rule=\"evenodd\" fill-opacity=\"1\" /><path clip-path=\"url(#clip300)\" d=\"M2207.37 251.881 L2207.37 253.964 L2187.79 253.964 Q2188.06 258.362 2190.42 260.677 Q2192.81 262.969 2197.05 262.969 Q2199.5 262.969 2201.79 262.367 Q2204.11 261.765 2206.37 260.561 L2206.37 264.589 Q2204.08 265.561 2201.67 266.071 Q2199.27 266.58 2196.79 266.58 Q2190.59 266.58 2186.95 262.969 Q2183.34 259.358 2183.34 253.2 Q2183.34 246.835 2186.77 243.108 Q2190.22 239.358 2196.05 239.358 Q2201.28 239.358 2204.31 242.737 Q2207.37 246.094 2207.37 251.881 M2203.11 250.631 Q2203.06 247.136 2201.14 245.052 Q2199.24 242.969 2196.1 242.969 Q2192.53 242.969 2190.38 244.983 Q2188.25 246.997 2187.92 250.654 L2203.11 250.631 Z\" fill=\"#000000\" fill-rule=\"evenodd\" fill-opacity=\"1\" /><path clip-path=\"url(#clip300)\" d=\"M2235.91 250.261 L2235.91 265.909 L2231.65 265.909 L2231.65 250.399 Q2231.65 246.719 2230.22 244.89 Q2228.78 243.062 2225.91 243.062 Q2222.46 243.062 2220.47 245.261 Q2218.48 247.46 2218.48 251.256 L2218.48 265.909 L2214.2 265.909 L2214.2 239.983 L2218.48 239.983 L2218.48 244.011 Q2220.01 241.673 2222.07 240.515 Q2224.15 239.358 2226.86 239.358 Q2231.33 239.358 2233.62 242.136 Q2235.91 244.89 2235.91 250.261 Z\" fill=\"#000000\" fill-rule=\"evenodd\" fill-opacity=\"1\" /></svg>\n"
      ]
     },
     "execution_count": 62,
     "metadata": {},
     "output_type": "execute_result"
    }
   ],
   "source": [
    "# Plot the trajectories\n",
    "Xflip = SVector{nx}.(Xflip)\n",
    "Xlqr = SVector{nx}.(Xlqr)\n",
    "Xopen = SVector{nx}.(Xopen)\n",
    "if !isautograder\n",
    "    traj2(Xflip, label=\"ref\")\n",
    "    traj2!(Xlqr, label=\"lqr\")\n",
    "    traj2!(Xopen, label=\"open\", ylabel=\"z\")\n",
    "end"
   ]
  },
  {
   "cell_type": "code",
   "execution_count": 63,
   "metadata": {},
   "outputs": [
    {
     "name": "stdout",
     "output_type": "stream",
     "text": [
      "open loop vs closed loop: \u001b[91m\u001b[1mTest Failed\u001b[22m\u001b[39m at \u001b[39m\u001b[1mIn[63]:2\u001b[22m\n",
      "  Expression: norm((Xflip[end])[1:2] - (Xlqr[end])[1:2]) < 0.5\n",
      "   Evaluated: NaN < 0.5\n",
      "Stacktrace:\n",
      " [1] \u001b[0m\u001b[1mmacro expansion\u001b[22m\n",
      "\u001b[90m   @ \u001b[39m\u001b[90;4mIn[63]:2\u001b[0m\u001b[90m [inlined]\u001b[39m\n",
      " [2] \u001b[0m\u001b[1mmacro expansion\u001b[22m\n",
      "\u001b[90m   @ \u001b[39m\u001b[90m/buildworker/worker/package_linux64/build/usr/share/julia/stdlib/v1.6/Test/src/\u001b[39m\u001b[90;4mTest.jl:1151\u001b[0m\u001b[90m [inlined]\u001b[39m\n",
      " [3] top-level scope\n",
      "\u001b[90m   @ \u001b[39m\u001b[90;4mIn[63]:2\u001b[0m\n",
      "open loop vs closed loop: \u001b[91m\u001b[1mTest Failed\u001b[22m\u001b[39m at \u001b[39m\u001b[1mIn[63]:3\u001b[22m\n",
      "  Expression: norm(Xflip[end] - Xlqr[end]) < norm(Xflip[end] - Xopen[end])\n",
      "   Evaluated: NaN < NaN\n",
      "Stacktrace:\n",
      " [1] \u001b[0m\u001b[1mmacro expansion\u001b[22m\n",
      "\u001b[90m   @ \u001b[39m\u001b[90;4mIn[63]:3\u001b[0m\u001b[90m [inlined]\u001b[39m\n",
      " [2] \u001b[0m\u001b[1mmacro expansion\u001b[22m\n",
      "\u001b[90m   @ \u001b[39m\u001b[90m/buildworker/worker/package_linux64/build/usr/share/julia/stdlib/v1.6/Test/src/\u001b[39m\u001b[90;4mTest.jl:1151\u001b[0m\u001b[90m [inlined]\u001b[39m\n",
      " [3] top-level scope\n",
      "\u001b[90m   @ \u001b[39m\u001b[90;4mIn[63]:2\u001b[0m\n",
      "\u001b[0m\u001b[1mTest Summary:            | \u001b[22m\u001b[91m\u001b[1mFail  \u001b[22m\u001b[39m\u001b[36m\u001b[1mTotal\u001b[22m\u001b[39m\n",
      "open loop vs closed loop | \u001b[91m   2  \u001b[39m\u001b[36m    2\u001b[39m\n"
     ]
    },
    {
     "ename": "LoadError",
     "evalue": "\u001b[91mSome tests did not pass: 0 passed, 2 failed, 0 errored, 0 broken.\u001b[39m",
     "output_type": "error",
     "traceback": [
      "\u001b[91mSome tests did not pass: 0 passed, 2 failed, 0 errored, 0 broken.\u001b[39m",
      "",
      "Stacktrace:",
      " [1] finish(ts::Test.DefaultTestSet)",
      "   @ Test /buildworker/worker/package_linux64/build/usr/share/julia/stdlib/v1.6/Test/src/Test.jl:913",
      " [2] macro expansion",
      "   @ /buildworker/worker/package_linux64/build/usr/share/julia/stdlib/v1.6/Test/src/Test.jl:1161 [inlined]",
      " [3] top-level scope",
      "   @ In[63]:2",
      " [4] eval",
      "   @ ./boot.jl:360 [inlined]",
      " [5] include_string(mapexpr::typeof(REPL.softscope), mod::Module, code::String, filename::String)",
      "   @ Base ./loading.jl:1116"
     ]
    }
   ],
   "source": [
    "@testset \"open loop vs closed loop\" begin                                  # POINTS = 5\n",
    "    @test norm(Xflip[end][1:2] - Xlqr[end][1:2]) < 0.5                     # POINTS = 3\n",
    "    @test norm(Xflip[end] - Xlqr[end]) < norm(Xflip[end] - Xopen[end])     # POINTS = 2\n",
    "end;"
   ]
  }
 ],
 "metadata": {
  "@webio": {
   "lastCommId": null,
   "lastKernelId": null
  },
  "kernelspec": {
   "display_name": "Julia 1.6.5",
   "language": "julia",
   "name": "julia-1.6"
  },
  "language_info": {
   "file_extension": ".jl",
   "mimetype": "application/julia",
   "name": "julia",
   "version": "1.6.5"
  }
 },
 "nbformat": 4,
 "nbformat_minor": 4
}
