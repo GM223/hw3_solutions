{
 "cells": [
  {
   "cell_type": "code",
   "execution_count": 1,
   "metadata": {},
   "outputs": [
    {
     "name": "stderr",
     "output_type": "stream",
     "text": [
      "\u001b[32m\u001b[1m  Activating\u001b[22m\u001b[39m environment at `~/devel/optimal_control/hw3_solutions/Project.toml`\n"
     ]
    }
   ],
   "source": [
    "import Pkg; Pkg.activate(joinpath(@__DIR__,\"..\")); \n",
    "Pkg.instantiate()\n",
    "using ForwardDiff\n",
    "using Test\n",
    "using RobotZoo: PlanarQuadrotor\n",
    "using RobotDynamics\n",
    "using LinearAlgebra\n",
    "using StaticArrays\n",
    "using Statistics\n",
    "using Plots\n",
    "using Printf\n",
    "using JLD2\n",
    "const jldir = joinpath(dirname(@__DIR__),\"test\")\n",
    "\n",
    "const FD = ForwardDiff;\n",
    "\n",
    "# test_dict = Dict()\n",
    "test_dict = load(joinpath(jldir,\"q1.jld2\"))\n",
    "\n",
    "include(\"quadratic_cost.jl\");\n",
    "include(\"quadrotor.jl\");"
   ]
  },
  {
   "cell_type": "markdown",
   "metadata": {},
   "source": [
    "# Question 1: Iterative LQR (50 pts)\n",
    "In this problem you'll implement iterative LQR (ilQR), the Gauss-Newton approximation of differential dynamic programming (DDP). You'll use it to generate trajectories for a planar quadrotor, including a flip. In the last part of the problem, you'll track the trajectory to make it robust to wind.\n",
    "\n",
    "## The Model\n",
    "We'll be using the same planar quadrotor model we saw in class. The dynamics are fairly simple:\n",
    "\n",
    "$$ \n",
    "x = \\begin{bmatrix} p_x \\\\ p_z \\\\ \\theta \\\\ v_x \\\\ v_z \\\\ \\omega \\end{bmatrix}, \\quad\n",
    "\\dot{x} = \\begin{bmatrix} v_x \\\\ v_z \\\\ \\omega \\\\ \n",
    "\\frac{1}{m} (u_1 + u_2) \\sin{\\theta} \\\\\n",
    "\\frac{1}{m} (u_1 + u_2) \\cos{\\theta} - g \\\\\n",
    "\\frac{l}{J} (u_2 - u_1) \n",
    "\\end{bmatrix}\n",
    "$$\n",
    "with the following model parameters:\n",
    "* $m$: mass (kg)\n",
    "* $J$: moment of inertia\n",
    "* $l$: distance between motors"
   ]
  },
  {
   "cell_type": "code",
   "execution_count": 2,
   "metadata": {},
   "outputs": [
    {
     "data": {
      "text/plain": [
       "61"
      ]
     },
     "execution_count": 2,
     "metadata": {},
     "output_type": "execute_result"
    }
   ],
   "source": [
    "model = PlanarQuadrotor()\n",
    "const x0    = [-3, 1.0, 0, 0, 0, 0]                    # initial state\n",
    "const xgoal = [+3, 1.0, 0, 0, 0, 0]                    # goal state\n",
    "const nx = 6 \n",
    "const nu = 2\n",
    "const uhover = fill(0.5*1.0 * 9.81, nu) \n",
    "\n",
    "const Q = Diagonal(([ones(3) ; fill(0.1, 3)]))\n",
    "const R = Diagonal(fill(1e-2, nu))\n",
    "const Qf = Diagonal(fill(1e2, nx));\n",
    "\n",
    "const dt = 0.025 \n",
    "const N = 61"
   ]
  },
  {
   "cell_type": "code",
   "execution_count": 3,
   "metadata": {},
   "outputs": [
    {
     "data": {
      "text/plain": [
       "dynamics_jacobians (generic function with 1 method)"
      ]
     },
     "execution_count": 3,
     "metadata": {},
     "output_type": "execute_result"
    }
   ],
   "source": [
    "\"\"\"\n",
    "Calculate the continuous time dynamics ẋ = f(x,u), x is a vector of length 6, u is a vector of length 2.\n",
    "\n",
    "returns ẋ\n",
    "\"\"\"\n",
    "\n",
    "function dynamics(x,u)\n",
    "    # planar quadrotor dynamics\n",
    "    \n",
    "    # parameters\n",
    "    mass = 1.0 \n",
    "    g = 9.81\n",
    "    ℓ = 0.3 \n",
    "    J = 0.2*mass*ℓ^2\n",
    "\n",
    "     # unpack state\n",
    "    px,pz,θ,vx,vz,ω = x    \n",
    "    return [vx,vz,ω,(1/mass)*(u[1] + u[2])*sin(θ), (1/mass)*(u[1] + u[2])*cos(θ) - g, (ℓ/(2*J))*(u[2]-u[1])]\n",
    "end\n",
    "\n",
    "\"\"\"\n",
    "Integrates the dynamics ODE 1 dt forward, x_{k+1} = rk4(x_k,u_k,dt).\n",
    "\n",
    "returns x_{k+1}\n",
    "\"\"\"\n",
    "function rk4(x,u,dt)\n",
    "    # rk4 for integration\n",
    "    k1 = dt*dynamics(x,u)\n",
    "    k2 = dt*dynamics(x + k1/2,u)\n",
    "    k3 = dt*dynamics(x + k2/2,u)\n",
    "    k4 = dt*dynamics(x + k3,u)\n",
    "    return x + (1/6)*(k1 + 2*k2 + 2*k3 + k4)\n",
    "end\n",
    "\n",
    "\"\"\"\n",
    "uses forward diff to get the following jacobians of the above discrete dynamics function (rk4):\n",
    "\\frac{\\partial rk4}{\\partial x} = A \n",
    "\\frac{\\partial rk4}{\\partial u} = B \n",
    "\"\"\"\n",
    "function dynamics_jacobians(x,u,dt)\n",
    "    # returns the discrete time dynamics jacobians\n",
    "    A = FD.jacobian(_x -> rk4(_x,u,dt),x)\n",
    "    B = FD.jacobian(_u -> rk4(x,_u,dt),u)\n",
    "    return A,B\n",
    "end"
   ]
  },
  {
   "cell_type": "markdown",
   "metadata": {},
   "source": [
    "# Part (a): Implement iLQR"
   ]
  },
  {
   "cell_type": "markdown",
   "metadata": {},
   "source": [
    "## LQR Cost Function\n",
    "Here you will create functions for calculating the costs of states/controls as well as whole trajectories. Our cost function can broken up as the following:\n",
    "\n",
    "**for every time step that isn't the last one**\n",
    "\n",
    "$$J(x,u) = \\frac{1}{2}(x - x_{ref})^TQ(x - x_{ref}) + \\frac{1}{2}(u -u_{ref})^TR(u-u_{ref})$$\n",
    "\n",
    "**for the last time step**\n",
    "\n",
    "$$J_N(x) = \\frac{1}{2}(x - x_{ref})^TQ_f(x - x_{ref})$$\n",
    "\n",
    "Since our whole cost function for the entire trajectory is the following:\n",
    "\n",
    "$$\\ell(X,U) = \\bigg[ \\sum_{i=1}^{N-1} J(x_k,u_k) \\bigg] + J_N(x_N)$$"
   ]
  },
  {
   "cell_type": "code",
   "execution_count": 8,
   "metadata": {},
   "outputs": [
    {
     "data": {
      "text/plain": [
       "term_cost_expansion (generic function with 1 method)"
      ]
     },
     "execution_count": 8,
     "metadata": {},
     "output_type": "execute_result"
    }
   ],
   "source": [
    "# cost expansion \n",
    "function stage_cost(x,u,xref,uref)\n",
    "    # LQR cost at each knot point (depends on both x and u)\n",
    "    J = 0.0\n",
    "    \n",
    "    # SOLUTION\n",
    "    J = 0.5*(x - xref)'*Q*(x - xref) + 0.5*(u - uref)'*R*(u - uref)\n",
    "    \n",
    "    return J\n",
    "end\n",
    "\n",
    "function term_cost(x,xref)\n",
    "    # LQR terminal cost (depends on just x)\n",
    "    J = 0.0 \n",
    "    \n",
    "    # SOLUTION\n",
    "    J = 0.5*(x - xref)'*Qf*(x - xref)\n",
    "    \n",
    "    return J\n",
    "end\n",
    "\n",
    "function trajectory_cost(X,U,Xref,Uref)\n",
    "    # calculate the cost of a given trajectory \n",
    "    J = 0.0\n",
    "    \n",
    "    # SOLUTION\n",
    "    for i = 1:(N-1)\n",
    "        J += stage_cost(X[i],U[i],Xref[i],Uref[i])\n",
    "    end\n",
    "    J += term_cost(X[N],Xref[N])\n",
    "    return J\n",
    "end\n",
    "        \n",
    "function stage_cost_expansion(x,u,xref,uref)\n",
    "    # if the stage cost function is J, return the following derivatives:\n",
    "    # ∇²ₓJ,  ∇ₓJ, ∇²ᵤJ, ∇ᵤJ\n",
    "    Jxx = zeros(nx,nx)\n",
    "    Jx = zeros(nx)\n",
    "    Juu = zeros(nu,nu)\n",
    "    Ju = zeros(nu)\n",
    "    \n",
    "    # SOLUTION\n",
    "    Jxx = Q\n",
    "    Jx = Q*(x - xref)\n",
    "    Juu = R\n",
    "    Ju = R*(u - uref)\n",
    "    \n",
    "    return Jxx, Jx, Juu, Ju\n",
    "end\n",
    "\n",
    "function term_cost_expansion(x,xref)\n",
    "    # if the terminal cost function is J, return the following derivatives:\n",
    "    # ∇²ₓJ,  ∇ₓJ\n",
    "    Jxx = zeros(nx,nx)\n",
    "    Jx = zeros(nx)\n",
    "    \n",
    "    # SOLUTION\n",
    "    Jxx = copy(Qf)\n",
    "    Jx = Qf*(x - xref)\n",
    "    \n",
    "    return Jxx, Jx\n",
    "end"
   ]
  },
  {
   "cell_type": "code",
   "execution_count": 9,
   "metadata": {},
   "outputs": [
    {
     "name": "stdout",
     "output_type": "stream",
     "text": [
      "\u001b[0m\u001b[1mTest Summary: | \u001b[22m\u001b[32m\u001b[1mPass  \u001b[22m\u001b[39m\u001b[36m\u001b[1mTotal\u001b[22m\u001b[39m\n",
      "cost tests    | \u001b[32m   9  \u001b[39m\u001b[36m    9\u001b[39m\n"
     ]
    },
    {
     "data": {
      "text/plain": [
       "Test.DefaultTestSet(\"cost tests\", Any[], 9, false, false)"
      ]
     },
     "execution_count": 9,
     "metadata": {},
     "output_type": "execute_result"
    }
   ],
   "source": [
    "using Random\n",
    "@testset \"cost tests\" begin \n",
    "\n",
    "    Xref = [copy(xgoal) for i = 1:N]\n",
    "    Uref = [copy(uhover) for i = 1:N-1]\n",
    "    \n",
    "    X = [copy(x0) for i = 1:N]\n",
    "    U = deepcopy(Uref)\n",
    "    \n",
    "    # costs \n",
    "    J1 = stage_cost(X[1],U[1],Xref[1],Uref[1])\n",
    "    J2 = term_cost(X[N],Xref[N])\n",
    "    J3 = trajectory_cost(X,U,Xref,Uref)\n",
    "    \n",
    "    @test stage_cost(X[1],U[1],Xref[1],Uref[1]) ≈  test_dict[\"J1\"] atol = 1e-10\n",
    "    @test term_cost(X[N],Xref[N]) ≈ test_dict[\"J2\"]  atol = 1e-10\n",
    "    @test trajectory_cost(X,U,Xref,Uref) ≈ test_dict[\"J3\"] atol = 1e-8\n",
    "    \n",
    "    # cost derivatives\n",
    "    Jxx, Jx, Juu, Ju = stage_cost_expansion(X[4],U[4],Xref[4],Uref[4])\n",
    "    \n",
    "    @test vec(Jxx) ≈ vec(test_dict[\"Jxx\"]) atol =1e-10\n",
    "    @test Jx ≈ test_dict[\"Jx\"] atol = 1e-8\n",
    "    @test vec(Juu) ≈ vec(0.01*I(nu)) atol = 1e-8\n",
    "    @test Ju ≈ test_dict[\"Ju\"] atol = 1e-8\n",
    "    \n",
    "    Jxx2, Jx2 = term_cost_expansion(X[8],Xref[8])\n",
    "    \n",
    "    @test vec(Jxx2) ≈ vec(test_dict[\"Jxx2\"]) atol = 1e-8\n",
    "    @test Jx2 ≈ vec(test_dict[\"Jx2\"]) atol = 1e-8;\n",
    "    \n",
    "#     test_dict[\"X\"] = X\n",
    "#     test_dict[\"U\"] = U\n",
    "#     test_dict[\"Xref\"] = Xref\n",
    "#     test_dict[\"Uref\"] = Uref\n",
    "#     test_dict[\"J1\"]=J1\n",
    "#     test_dict[\"J2\"]=J2\n",
    "#     test_dict[\"J3\"]=J3\n",
    "#     test_dict[\"Jxx\"]=Jxx\n",
    "#     test_dict[\"Jx\"]=Jx\n",
    "#     test_dict[\"Juu\"]=Juu\n",
    "#     test_dict[\"Ju\"]=Ju\n",
    "#     test_dict[\"Jxx2\"]=Jxx2\n",
    "#     test_dict[\"Jx2\"]=Jx2\n",
    "end"
   ]
  },
  {
   "cell_type": "markdown",
   "metadata": {},
   "source": [
    "## Backward Pass\n",
    "You will now implement the backwards pass of iLQR. Remember that iLQR has two parts, a backward pass and a forward pass.  The backward pass is where feedforward controls `d` and feedback gains `K` are solved for. \n",
    "\n",
    "Hint: initialize $\\Delta J$ as 0, and during each step of the backwards pass, add $g_u^Td_k$ to it. "
   ]
  },
  {
   "cell_type": "code",
   "execution_count": 12,
   "metadata": {},
   "outputs": [
    {
     "data": {
      "text/plain": [
       "backward_pass (generic function with 1 method)"
      ]
     },
     "execution_count": 12,
     "metadata": {},
     "output_type": "execute_result"
    }
   ],
   "source": [
    "\"\"\"\n",
    "backward pass for iLQR. Inputs are \n",
    "    X - current trajectory              Vector{Vector}\n",
    "    U - current control                 Vector{Vector}\n",
    "    Xref - trajectory we want to track  Vector{Vector}\n",
    "    Uref - control we want to track     Vector{Vector}\n",
    "\n",
    "We will perform the backwards recursion without any regularization. Store the expected cost \n",
    "decrease in ΔJ and return the following \n",
    "    d - feedforward control             Vector{Vector}\n",
    "    K - feedback gain matrices          Vector{Matrix}\n",
    "    P - cost to go quadratic term       Vector{Matrix}\n",
    "    ΔJ - expected cost decrease         Float\n",
    "\"\"\"\n",
    "\n",
    "function backward_pass(X,U,Xref,Uref)\n",
    "\n",
    "    # allocate all our data\n",
    "    P = [zeros(nx,nx) for i = 1:N]   # cost to go quadratic term\n",
    "    p = [zeros(nx) for i = 1:N]      # cost to go linear term \n",
    "    d = [zeros(nu) for i = 1:N-1]    # feedforward control\n",
    "    K = [zeros(nu,nx) for i = 1:N-1] # feedback gain\n",
    "    ΔJ = 0.0                         # expected cost decrease\n",
    "\n",
    "\n",
    "    \n",
    "#     # TODO: implement the backward pass \n",
    "    \n",
    "#     # terminal cost expansion\n",
    "    \n",
    "    \n",
    "#     for k = (N-1):(-1):1\n",
    "        \n",
    "#         # dynamics jacobians \n",
    "    \n",
    "        \n",
    "#         # cost expansion \n",
    "        \n",
    "        \n",
    "#         # action value expansion \n",
    "        \n",
    "        \n",
    "#         # calculate d and K \n",
    "        \n",
    "        \n",
    "#         # update p and P \n",
    "        \n",
    "        \n",
    "#         # add to ΔJ \n",
    "        \n",
    "#     end\n",
    "        \n",
    "    \n",
    "    # SOLUTION\n",
    "    \n",
    "    # terminal cost expansion\n",
    "    P[N],p[N] = term_cost_expansion(X[N],Xref[N])\n",
    "    \n",
    "    for k = (N-1):(-1):1\n",
    "        \n",
    "        # dynamics jacobians \n",
    "        A,B = dynamics_jacobians(X[k],U[k],dt)\n",
    "        \n",
    "        # cost expansion \n",
    "        Jxx, Jx, Juu, Ju = stage_cost_expansion(X[k],U[k],Xref[k],Uref[k])\n",
    "        \n",
    "        # Q expansion \n",
    "        gx = Jx + A'*p[k+1]\n",
    "        gu = Ju + B'*p[k+1]\n",
    "    \n",
    "        Gxx = Jxx + A'*P[k+1]*A\n",
    "        Guu = Juu + B'*P[k+1]*B\n",
    "        Gux = B'*P[k+1]*A\n",
    "        \n",
    "        # Calculate Gains\n",
    "        d[k] = Guu\\gu\n",
    "        K[k] = Guu\\Gux\n",
    "    \n",
    "        # Cost-to-go Recurrence\n",
    "        p[k] = gx - K[k]'*gu + K[k]'*Guu*d[k] - Gux'*d[k]\n",
    "        P[k] = Gxx + K[k]'*Guu*K[k] - Gux'*K[k] - K[k]'*Gux\n",
    "        ΔJ += gu'*d[k]\n",
    "    end\n",
    "    \n",
    "    return d, K, P, ΔJ\n",
    "end"
   ]
  },
  {
   "cell_type": "code",
   "execution_count": 13,
   "metadata": {},
   "outputs": [
    {
     "name": "stdout",
     "output_type": "stream",
     "text": [
      "\u001b[0m\u001b[1mTest Summary: | \u001b[22m\u001b[32m\u001b[1mPass  \u001b[22m\u001b[39m\u001b[36m\u001b[1mTotal\u001b[22m\u001b[39m\n",
      "backward pass | \u001b[32m 182  \u001b[39m\u001b[36m  182\u001b[39m\n"
     ]
    },
    {
     "data": {
      "text/plain": [
       "Test.DefaultTestSet(\"backward pass\", Any[Test.DefaultTestSet(\"element #1\", Any[], 1, false, false), Test.DefaultTestSet(\"element #2\", Any[], 1, false, false), Test.DefaultTestSet(\"element #3\", Any[], 1, false, false), Test.DefaultTestSet(\"element #4\", Any[], 1, false, false), Test.DefaultTestSet(\"element #5\", Any[], 1, false, false), Test.DefaultTestSet(\"element #6\", Any[], 1, false, false), Test.DefaultTestSet(\"element #7\", Any[], 1, false, false), Test.DefaultTestSet(\"element #8\", Any[], 1, false, false), Test.DefaultTestSet(\"element #9\", Any[], 1, false, false), Test.DefaultTestSet(\"element #10\", Any[], 1, false, false)  …  Test.DefaultTestSet(\"element #52\", Any[], 1, false, false), Test.DefaultTestSet(\"element #53\", Any[], 1, false, false), Test.DefaultTestSet(\"element #54\", Any[], 1, false, false), Test.DefaultTestSet(\"element #55\", Any[], 1, false, false), Test.DefaultTestSet(\"element #56\", Any[], 1, false, false), Test.DefaultTestSet(\"element #57\", Any[], 1, false, false), Test.DefaultTestSet(\"element #58\", Any[], 1, false, false), Test.DefaultTestSet(\"element #59\", Any[], 1, false, false), Test.DefaultTestSet(\"element #60\", Any[], 1, false, false), Test.DefaultTestSet(\"element #61\", Any[], 1, false, false)], 1, false, false)"
      ]
     },
     "execution_count": 13,
     "metadata": {},
     "output_type": "execute_result"
    }
   ],
   "source": [
    "function test_vec(var,tru;atol = 1e-6)\n",
    "    for i = 1:length(tru)\n",
    "        name = \"element #\"*string(i)\n",
    "        @testset \"$name\" begin @test isapprox(vec(var[i]), vec(tru[i]),atol = atol); end;\n",
    "    end\n",
    "    return nothing\n",
    "end\n",
    "\n",
    "@testset \"backward pass\" begin \n",
    "    \n",
    "    X = test_dict[\"X\"]\n",
    "    U = test_dict[\"U\"]\n",
    "    Xref = test_dict[\"Xref\"]\n",
    "    Uref = test_dict[\"Uref\"]\n",
    "    \n",
    "    d, K, P, ΔJ = backward_pass(X,U,Xref,Uref)\n",
    "    \n",
    "    test_vec(d,test_dict[\"d\"]);\n",
    "    test_vec(K,test_dict[\"K\"]);\n",
    "    test_vec(P,test_dict[\"P\"]);\n",
    "    @test ΔJ ≈ test_dict[\"ΔJ\"] atol = 1e-3\n",
    "    \n",
    "#     test_dict[\"d\"] = d\n",
    "#     test_dict[\"K\"] = K\n",
    "#     test_dict[\"P\"] = P\n",
    "#     test_dict[\"ΔJ\"] = ΔJ\n",
    "    \n",
    "end\n",
    "    \n",
    "    "
   ]
  },
  {
   "cell_type": "markdown",
   "metadata": {},
   "source": [
    "## Forward Pass\n",
    "Next we will build out forward pass function. This is where we do a forward simulation with the new `d` and `K`'s from the backwards pass, and do a backtracking line search on $\\alpha$ to ensure we see a neccessary decrease. During our linesearch, we accept our new trajectory/control if the following Armijo condition is satsified:\n",
    "\n",
    "$$ J_n < J - 0.01\\alpha\\Delta J$$"
   ]
  },
  {
   "cell_type": "code",
   "execution_count": 38,
   "metadata": {},
   "outputs": [
    {
     "data": {
      "text/plain": [
       "forward_pass (generic function with 1 method)"
      ]
     },
     "execution_count": 38,
     "metadata": {},
     "output_type": "execute_result"
    }
   ],
   "source": [
    "function forward_pass(X,U,Xref,Uref,K,d,ΔJ; max_linesearch_iters = 10)\n",
    "    \n",
    "    Xn = deepcopy(X)\n",
    "    Un = deepcopy(U)\n",
    "    α = 1.0 \n",
    "    \n",
    "#     # calculate cost of current trajectory X U \n",
    "#     J = 0.0 \n",
    "    \n",
    "#     # backtracking line search\n",
    "#     for i = 1:max_linesearch_iters\n",
    "        \n",
    "#         # simulate the new trajectory and save it in Xn and Un \n",
    "        \n",
    "#         # calcualte cost of Xn and Un \n",
    "#         Jn = 0.0 \n",
    "        \n",
    "#         # use armijo line search condition to decide if you accept the decrease \n",
    "        \n",
    "#         # if you accept \n",
    "#         #    return Xn, Un, Jn, α\n",
    "        \n",
    "#         # if you don't, cut th step length in half \n",
    "        \n",
    "#     end\n",
    "    \n",
    "        \n",
    "    # SOLUTION\n",
    "    J = trajectory_cost(X,U,Xref,Uref)\n",
    "    for i = 1:max_linesearch_iters\n",
    "        \n",
    "        # Forward Rollout\n",
    "        for k = 1:(N-1)\n",
    "            Un[k] = U[k] - α*d[k] - K[k]*(Xn[k]-X[k])\n",
    "            Xn[k+1] = rk4(Xn[k],Un[k],dt)\n",
    "        end\n",
    "        Jn = trajectory_cost(Xn,Un,Xref,Uref)\n",
    "        \n",
    "        # armijo line search\n",
    "        if Jn < (J - 1e-2*α*ΔJ)\n",
    "            return Xn, Un, Jn, α\n",
    "        else\n",
    "            α *= 0.5\n",
    "        end\n",
    "    end\n",
    "    \n",
    "    \n",
    "    error(\"forward pass failed\")\n",
    "end"
   ]
  },
  {
   "cell_type": "code",
   "execution_count": 41,
   "metadata": {},
   "outputs": [
    {
     "name": "stdout",
     "output_type": "stream",
     "text": [
      "\u001b[0m\u001b[1mTest Summary: | \u001b[22m\u001b[32m\u001b[1mPass  \u001b[22m\u001b[39m\u001b[36m\u001b[1mTotal\u001b[22m\u001b[39m\n",
      "forward pass  | \u001b[32m 123  \u001b[39m\u001b[36m  123\u001b[39m\n"
     ]
    },
    {
     "data": {
      "text/plain": [
       "Test.DefaultTestSet(\"forward pass\", Any[Test.DefaultTestSet(\"element #1\", Any[], 1, false, false), Test.DefaultTestSet(\"element #2\", Any[], 1, false, false), Test.DefaultTestSet(\"element #3\", Any[], 1, false, false), Test.DefaultTestSet(\"element #4\", Any[], 1, false, false), Test.DefaultTestSet(\"element #5\", Any[], 1, false, false), Test.DefaultTestSet(\"element #6\", Any[], 1, false, false), Test.DefaultTestSet(\"element #7\", Any[], 1, false, false), Test.DefaultTestSet(\"element #8\", Any[], 1, false, false), Test.DefaultTestSet(\"element #9\", Any[], 1, false, false), Test.DefaultTestSet(\"element #10\", Any[], 1, false, false)  …  Test.DefaultTestSet(\"element #51\", Any[], 1, false, false), Test.DefaultTestSet(\"element #52\", Any[], 1, false, false), Test.DefaultTestSet(\"element #53\", Any[], 1, false, false), Test.DefaultTestSet(\"element #54\", Any[], 1, false, false), Test.DefaultTestSet(\"element #55\", Any[], 1, false, false), Test.DefaultTestSet(\"element #56\", Any[], 1, false, false), Test.DefaultTestSet(\"element #57\", Any[], 1, false, false), Test.DefaultTestSet(\"element #58\", Any[], 1, false, false), Test.DefaultTestSet(\"element #59\", Any[], 1, false, false), Test.DefaultTestSet(\"element #60\", Any[], 1, false, false)], 2, false, false)"
      ]
     },
     "execution_count": 41,
     "metadata": {},
     "output_type": "execute_result"
    }
   ],
   "source": [
    "@testset \"forward pass\" begin \n",
    "    \n",
    "    Xref = [copy(xgoal) for i = 1:N]\n",
    "    Uref = [copy(uhover) for i = 1:N-1]\n",
    "    \n",
    "    X = [copy(x0) for i = 1:N]\n",
    "    U = deepcopy(Uref)\n",
    "    \n",
    "    d, K, P, ΔJ = backward_pass(X,U,Xref,Uref)\n",
    "    \n",
    "    Xn, Un, Jr, α = forward_pass(X,U,Xref,Uref,K,d,ΔJ)\n",
    "    \n",
    "    test_vec(Xn, test_dict[\"Xn\"])\n",
    "    test_vec(Un, test_dict[\"Un\"])\n",
    "    @test Jr ≈ test_dict[\"Jr\"] atol = 1e-6\n",
    "    @test α ≈ test_dict[\"α\"]  atol = 1e-6\n",
    "    \n",
    "    #     test_dict[\"Xn\"] = Xn\n",
    "    #     test_dict[\"Un\"] = Un\n",
    "#         test_dict[\"Jr\"] = Jr\n",
    "    #     test_dict[\"α\"] = α\n",
    "end"
   ]
  },
  {
   "cell_type": "markdown",
   "metadata": {},
   "source": [
    "## iLQR Algorithm\n",
    "Now we are going to put it all together, we are given an initial condition `x0` and an unitial control input history `U`, and a reference trajectory `Xref` and `Uref`. We will start by doing a forward simulation starting from `x0` using `U` as the control input, creating `X`. Then we will start our main loop. In each iteartion, we do the following:\n",
    "\n",
    "- backward pass \n",
    "- check termination criteria \n",
    "- forward pass \n"
   ]
  },
  {
   "cell_type": "code",
   "execution_count": 17,
   "metadata": {},
   "outputs": [
    {
     "data": {
      "text/plain": [
       "iLQR (generic function with 1 method)"
      ]
     },
     "execution_count": 17,
     "metadata": {},
     "output_type": "execute_result"
    }
   ],
   "source": [
    "\"\"\"\n",
    "iLQR will combine the backward and forward passes for the complete iLQR algorithm. We will classify \n",
    "convergence as when the maximum norm of each feedforward control input in d is below atol. (this is given)\n",
    "\n",
    "inputs:\n",
    "    x0 - initial condition Vector\n",
    "    U - initial control history Vector{Vector}\n",
    "    Xref - reference trajectory we are trying to track Vector{Vector}\n",
    "    Uref - reference controls we are trying to track Vector{Vector}\n",
    "\n",
    "outputs:\n",
    "    X - optimal trajectory Vector{Vector}\n",
    "    U - optimal control trajectory Vector{Vector}\n",
    "    K - feedback gain matrices Vector{Matrix}\n",
    "    P - cost to go hessians Vector{Matrix}\n",
    "    iter - iterations it took to converge Int\n",
    "\"\"\"\n",
    "function iLQR(x0,U,Xref,Uref;atol=1e-5,max_iters = 100)\n",
    "    \n",
    "    # inital logging stuff \n",
    "    @printf \"iter     J           ΔJ        |d|         α\\n\"\n",
    "    @printf \"-----------------------------------------------\\n\"\n",
    "    \n",
    "#     # allocate X \n",
    "#     X = [zeros(nx) for i = 1:N]\n",
    "    \n",
    "#     # initial rollout (fill in X starting at x0 applying U)\n",
    "    \n",
    "#     for iter = 1:max_iters\n",
    "        \n",
    "#         # backward pass \n",
    "        \n",
    "#         # termination criteria\n",
    "#         if maximum(norm.(d))<atol\n",
    "#             return X,U,K,P,iter\n",
    "#         end\n",
    "        \n",
    "#         # forward pass \n",
    "        \n",
    "#         # logging\n",
    "#         @printf(\"%3d   %10.3e  %9.2e  %9.2e  % 6.4f\\n\",\n",
    "#           iter, J, ΔJ, maximum(norm.(d)), α)\n",
    "        \n",
    "#     end\n",
    "#     error(\"ilqr reached max iters\")\n",
    "        \n",
    "    \n",
    "    \n",
    "    # SOLUTION:\n",
    "    \n",
    "    # initial rollout \n",
    "    X = [zeros(nx) for i = 1:N]\n",
    "    X[1] = deepcopy(x0)\n",
    "    for i = 1:N-1\n",
    "        X[i+1] = rk4(X[i],U[i],dt)\n",
    "    end\n",
    "    \n",
    "    for iter = 1:max_iters\n",
    "        \n",
    "        d, K, P, ΔJ = backward_pass(X,U,Xref,Uref)\n",
    "        \n",
    "        # termination criteria\n",
    "        if maximum(norm.(d))<atol\n",
    "            return X,U,K,P,iter\n",
    "        end\n",
    "        \n",
    "        X, U, J,α = forward_pass(X,U,Xref,Uref,K,d,ΔJ)\n",
    "        \n",
    "        # logging\n",
    "        @printf(\"%3d   %10.3e  %9.2e  %9.2e  % 6.4f\\n\",\n",
    "          iter, J, ΔJ, maximum(norm.(d)), α)\n",
    "        \n",
    "    end\n",
    "    error(\"ilqr reached max iters\")\n",
    "end\n",
    "        "
   ]
  },
  {
   "cell_type": "markdown",
   "metadata": {},
   "source": [
    "## Part (b): Simple trajectory\n",
    "Use your iLQR solver to move the quadrotor from the initial state to the goal state."
   ]
  },
  {
   "cell_type": "code",
   "execution_count": 18,
   "metadata": {},
   "outputs": [
    {
     "name": "stdout",
     "output_type": "stream",
     "text": [
      "iter     J           ΔJ        |d|         α\n",
      "-----------------------------------------------\n",
      "  1    2.880e+03   4.55e+03   7.22e+01   1.0000\n",
      "  2    7.572e+02   5.79e+02   4.53e+01   1.0000\n",
      "  3    5.552e+02   1.62e+02   2.77e+01   1.0000\n",
      "  4    4.908e+02   2.60e+01   1.69e+01   1.0000\n",
      "  5    4.823e+02   7.97e+00   8.00e+00   1.0000\n",
      "  6    4.798e+02   2.57e+00   4.86e+00   1.0000\n",
      "  7    4.791e+02   1.07e+00   2.95e+00   1.0000\n",
      "  8    4.789e+02   4.47e-01   1.92e+00   1.0000\n",
      "  9    4.788e+02   2.16e-01   1.30e+00   1.0000\n",
      " 10    4.788e+02   9.95e-02   8.51e-01   1.0000\n",
      " 11    4.788e+02   4.95e-02   6.14e-01   1.0000\n",
      " 12    4.787e+02   2.38e-02   4.12e-01   1.0000\n",
      " 13    4.787e+02   1.19e-02   2.99e-01   1.0000\n",
      " 14    4.787e+02   5.81e-03   2.05e-01   1.0000\n",
      " 15    4.787e+02   2.89e-03   1.47e-01   1.0000\n",
      " 16    4.787e+02   1.42e-03   1.02e-01   1.0000\n",
      " 17    4.787e+02   7.06e-04   7.24e-02   1.0000\n",
      " 18    4.787e+02   3.49e-04   5.06e-02   1.0000\n",
      " 19    4.787e+02   1.73e-04   3.58e-02   1.0000\n",
      " 20    4.787e+02   8.54e-05   2.51e-02   1.0000\n",
      " 21    4.787e+02   4.23e-05   1.77e-02   1.0000\n",
      " 22    4.787e+02   2.09e-05   1.24e-02   1.0000\n",
      " 23    4.787e+02   1.04e-05   8.74e-03   1.0000\n",
      " 24    4.787e+02   5.13e-06   6.15e-03   1.0000\n",
      " 25    4.787e+02   2.54e-06   4.33e-03   1.0000\n",
      " 26    4.787e+02   1.26e-06   3.04e-03   1.0000\n",
      " 27    4.787e+02   6.22e-07   2.14e-03   1.0000\n",
      " 28    4.787e+02   3.08e-07   1.51e-03   1.0000\n",
      " 29    4.787e+02   1.52e-07   1.06e-03   1.0000\n",
      " 30    4.787e+02   7.54e-08   7.45e-04   1.0000\n",
      " 31    4.787e+02   3.73e-08   5.24e-04   1.0000\n",
      " 32    4.787e+02   1.85e-08   3.69e-04   1.0000\n",
      " 33    4.787e+02   9.14e-09   2.59e-04   1.0000\n",
      " 34    4.787e+02   4.52e-09   1.83e-04   1.0000\n",
      " 35    4.787e+02   2.24e-09   1.28e-04   1.0000\n",
      " 36    4.787e+02   1.11e-09   9.03e-05   1.0000\n",
      " 37    4.787e+02   5.48e-10   6.36e-05   1.0000\n",
      " 38    4.787e+02   2.71e-10   4.47e-05   1.0000\n",
      " 39    4.787e+02   1.34e-10   3.15e-05   1.0000\n",
      " 40    4.787e+02   6.65e-11   2.21e-05   1.0000\n",
      " 41    4.787e+02   3.29e-11   1.56e-05   1.0000\n",
      " 42    4.787e+02   1.63e-11   1.10e-05   1.0000\n"
     ]
    }
   ],
   "source": [
    "# reference trajectory (we just want to track the goal state and hover control)\n",
    "Xrefline = [copy(xgoal) for i = 1:N]\n",
    "Urefline = [copy(uhover) for i = 1:N-1]\n",
    "\n",
    "# call iLQR\n",
    "Xline,Uline,Kline,Pline, iterline = iLQR(x0,Urefline,Xrefline,Urefline);"
   ]
  },
  {
   "cell_type": "code",
   "execution_count": 19,
   "metadata": {},
   "outputs": [
    {
     "name": "stdout",
     "output_type": "stream",
     "text": [
      "\u001b[0m\u001b[1mTest Summary: | \u001b[22m\u001b[32m\u001b[1mPass  \u001b[22m\u001b[39m\u001b[36m\u001b[1mTotal\u001b[22m\u001b[39m\n",
      "iLQR          | \u001b[32m  10  \u001b[39m\u001b[36m   10\u001b[39m\n"
     ]
    },
    {
     "data": {
      "text/plain": [
       "Test.DefaultTestSet(\"iLQR\", Any[], 10, false, false)"
      ]
     },
     "execution_count": 19,
     "metadata": {},
     "output_type": "execute_result"
    }
   ],
   "source": [
    "@testset \"iLQR\" begin \n",
    "    @test trajectory_cost(Xline,Uline,Xrefline,Urefline) <4.8e2\n",
    "    @test iterline < 50\n",
    "    @test iterline > 30\n",
    "    @test norm(Xline[end] - xgoal) < 0.2\n",
    "    @test maximum(maximum.(Uline)) < 40\n",
    "    @test maximum(maximum.(Uline)) > 30\n",
    "    @test minimum(minimum.(Uline)) < -30\n",
    "    @test minimum(minimum.(Uline)) > -40\n",
    "    \n",
    "    d, K, P, ΔJ = backward_pass(Xline,Uline,Xrefline,Urefline)\n",
    "    \n",
    "    @test ΔJ < 1e-4\n",
    "    @test maximum(norm.(d)) < 1e-3\n",
    "end"
   ]
  },
  {
   "cell_type": "code",
   "execution_count": 45,
   "metadata": {},
   "outputs": [
    {
     "name": "stderr",
     "output_type": "stream",
     "text": [
      "┌ Info: MeshCat server started. You can open the visualizer by visiting the following URL in your browser:\n",
      "│ http://127.0.0.1:8700\n",
      "└ @ MeshCat /Users/kevintracy/.julia/packages/MeshCat/Ax8pH/src/visualizer.jl:73\n"
     ]
    },
    {
     "data": {
      "text/html": [
       "    <div style=\"height: 500px; width: 100%; overflow-x: auto; overflow-y: hidden; resize: both\">\n",
       "    <iframe src=\"http://127.0.0.1:8700\" style=\"width: 100%; height: 100%; border: none\"></iframe>\n",
       "    </div>\n"
      ],
      "text/plain": [
       "MeshCat.DisplayedVisualizer(MeshCat.CoreVisualizer(MeshCat.SceneTrees.SceneNode(nothing, nothing, Dict{String, Vector{UInt8}}(), nothing, Dict{String, MeshCat.SceneTrees.SceneNode}(\"meshcat\" => MeshCat.SceneTrees.SceneNode(nothing, nothing, Dict{String, Vector{UInt8}}(), nothing, Dict{String, MeshCat.SceneTrees.SceneNode}(\"robot\" => MeshCat.SceneTrees.SceneNode(nothing, nothing, Dict{String, Vector{UInt8}}(), nothing, Dict{String, MeshCat.SceneTrees.SceneNode}(\"geom\" => MeshCat.SceneTrees.SceneNode(UInt8[0x83, 0xa6, 0x6f, 0x62, 0x6a, 0x65, 0x63, 0x74, 0x84, 0xaa  …  0x72, 0x6f, 0x62, 0x6f, 0x74, 0x2f, 0x67, 0x65, 0x6f, 0x6d], nothing, Dict{String, Vector{UInt8}}(), nothing, Dict{String, MeshCat.SceneTrees.SceneNode}()))))))), Set{Any}(), ip\"127.0.0.1\", 8700))"
      ]
     },
     "execution_count": 45,
     "metadata": {},
     "output_type": "execute_result"
    }
   ],
   "source": [
    "vis = Visualizer()\n",
    "set_mesh!(vis, model)\n",
    "render(vis)"
   ]
  },
  {
   "cell_type": "code",
   "execution_count": 46,
   "metadata": {},
   "outputs": [],
   "source": [
    "visualize!(vis, model, dt*(N-1), Xline)"
   ]
  },
  {
   "cell_type": "markdown",
   "metadata": {},
   "source": [
    "## Part (c): Generate Cost function for Flip\n",
    "Generate a reference trajectory for the cost function. Since we're designing it by hand we'll do something simple. Complete the function below to generate a trajectory that does the following:\n",
    "* 0.0-0.5 sec: Moves linearly from -3 to 0 in x, $p_z=1$, $\\omega=0$\n",
    "* 0.5-1.0 sec: Moves linearly from 1 to 3 and back to 1 in z. $\\theta$ goes from 0 to -2$\\pi$. No movement in x.\n",
    "* 1.0-1.5 sec: Moves linearly from 0 to 3 in x.\n",
    "\n",
    "The velocities should be consistent with the positions and the changes between phases should happen at all the same indices as the positions.\n",
    "\n",
    "The trajectory should look like the following:\n",
    "![flip_traj](flip_reference.png)"
   ]
  },
  {
   "cell_type": "code",
   "execution_count": 35,
   "metadata": {},
   "outputs": [
    {
     "data": {
      "text/plain": [
       "flip_reference"
      ]
     },
     "execution_count": 35,
     "metadata": {},
     "output_type": "execute_result"
    }
   ],
   "source": [
    "# TASK: Implement the following method\n",
    "\"\"\"\n",
    "    flip_reference\n",
    "\n",
    "Generate a reference trajectory for the quadrotor that encourages it to do a flip.\n",
    "The trajectory should have a length of 61.\n",
    "\n",
    "hint: LinRange is a good function to use\n",
    "        `LinRange(start,stop,length)`\n",
    "\n",
    "hint: you can break up the time indexing like this:\n",
    "    0    - 0.5  sec: indices 1:20\n",
    "    0.5  - 0.75 sec: indices 21:30\n",
    "    0.75 - 1.0  sec: indices 31:40\n",
    "    1.0  - 1.5  sec: indices 41:61\n",
    "\n",
    "You should plot your reference trajectory to ensure it looks like the given plot.\n",
    "\"\"\"\n",
    "function flip_reference()\n",
    "    # TODO: Design the reference trajectory according to the specs above\n",
    "    x1ref = zeros(61)\n",
    "    x2ref = zeros(61)\n",
    "    θref = zeros(61)\n",
    "    v1ref = zeros(61)\n",
    "    v2ref = zeros(61)\n",
    "    \n",
    "    # SOLUTION\n",
    "    x1ref = [LinRange(-3,0,20); zeros(20); LinRange(0,3,21)]\n",
    "    x2ref = [ones(20); LinRange(1,3,10); LinRange(3,1,10); ones(21)]\n",
    "    θref = [zeros(20); LinRange(0,-2*pi,20); -2*pi*ones(21)]\n",
    "    v1ref = [6.0*ones(20); zeros(20); 6.0*ones(21)]\n",
    "    v2ref = [zeros(20); 8.0*ones(10); -8.0*ones(10); zeros(21)]\n",
    "    ωref = [zeros(20); -4*pi*ones(20); zeros(21)]\n",
    "    # END SOLUTION\n",
    "    \n",
    "    xref = [x1ref'; x2ref'; θref'; v1ref'; v2ref'; ωref']\n",
    "    return [x for x in eachcol(xref)]\n",
    "end"
   ]
  },
  {
   "cell_type": "code",
   "execution_count": null,
   "metadata": {},
   "outputs": [],
   "source": [
    "# Plot the reference trajectory and compare with the given plot\n",
    "Xref = flip_reference()\n",
    "\n",
    "# convert to static arrays and plot\n",
    "Xref = [SVector{6}(Xref[i]) for i = 1:length(Xref)]\n",
    "p = plot(layout=(1,2))\n",
    "plot!(p[1], 0:dt:(N-1)*dt, Xref, inds=1:3, xlabel=\"time (s)\", labels = [\"px\" \"pz\" \"θ\"], legend=:bottomleft)\n",
    "plot!(p[2], 0:dt:(N-1)*dt, Xref, inds=4:6, xlabel=\"time (s)\", labels = [\"vx\" \"vz\" \"ω\"], legend=:bottomleft)"
   ]
  },
  {
   "cell_type": "code",
   "execution_count": 34,
   "metadata": {},
   "outputs": [
    {
     "name": "stdout",
     "output_type": "stream",
     "text": [
      "\u001b[0m\u001b[1mTest Summary:  | \u001b[22m\u001b[32m\u001b[1mPass  \u001b[22m\u001b[39m\u001b[36m\u001b[1mTotal\u001b[22m\u001b[39m\n",
      "flip reference | \u001b[32m  10  \u001b[39m\u001b[36m   10\u001b[39m\n"
     ]
    },
    {
     "data": {
      "text/plain": [
       "Test.DefaultTestSet(\"flip reference\", Any[], 10, false, false)"
      ]
     },
     "execution_count": 34,
     "metadata": {},
     "output_type": "execute_result"
    }
   ],
   "source": [
    "@testset \"flip reference\" begin \n",
    "    Xref_ = flip_reference()\n",
    "    @test length(Xref_) == 61\n",
    "    Xref_ = hcat(Vector.(Xref_)...)\n",
    "    @test mean(diff(Xref_[1,1:21])) ≈ 3/20 atol=1e-1\n",
    "    @test mean(Xref_[4,1:20]) ≈ 6.0 atol=1e-1 \n",
    "    @test mean(Xref_[1,21:40]) ≈ 0 atol=1e-1\n",
    "    @test mean(diff(Xref_[1,41:end])) ≈ 3/20 atol=1e-1\n",
    "    @test mean(Xref_[4,41:end]) ≈ 6.0 atol=1e-1 \n",
    "\n",
    "    @test Xref_[3,1] ≈ 0 atol=1e-6\n",
    "    @test Xref_[3,end] ≈ -2pi atol = 1e-6\n",
    "    @test std(diff(Xref_[6,21:40])) < 0.1\n",
    "    @test std(diff(Xref_[4,21:40])) < 0.1\n",
    "end"
   ]
  },
  {
   "cell_type": "markdown",
   "metadata": {},
   "source": [
    "## Part (d): Optimize the Flip Trajectory\n",
    "Using the reference trajectory and the objective you specified in the previous part, construct a new problem and solve it with your iLQR solver. Use a simple hover trajectory as the initial guess."
   ]
  },
  {
   "cell_type": "code",
   "execution_count": 33,
   "metadata": {},
   "outputs": [
    {
     "name": "stdout",
     "output_type": "stream",
     "text": [
      "iter     J           ΔJ        |d|         α\n",
      "-----------------------------------------------\n",
      "  1    6.719e+03   1.06e+04   1.33e+02   1.0000\n",
      "  2    6.557e+03   1.17e+04   2.47e+02   0.5000\n",
      "  3    4.403e+03   7.42e+03   2.34e+02   1.0000\n",
      "  4    1.318e+03   2.03e+03   8.06e+01   0.2500\n",
      "  5    8.434e+02   9.88e+02   5.75e+01   0.5000\n",
      "  6    5.627e+02   4.03e+02   4.44e+01   0.5000\n",
      "  7    4.433e+02   2.21e+02   3.21e+01   1.0000\n",
      "  8    3.530e+02   2.01e+02   2.32e+01   1.0000\n",
      "  9    2.918e+02   3.05e+02   4.37e+01   0.5000\n",
      " 10    1.759e+02   9.74e+01   2.79e+01   1.0000\n",
      " 11    1.696e+02   8.56e+01   2.47e+01   1.0000\n",
      " 12    1.320e+02   1.02e+01   5.90e+00   1.0000\n",
      " 13    1.269e+02   9.91e-03   2.87e-01   1.0000\n",
      " 14    1.269e+02   1.97e-03   1.40e-01   1.0000\n",
      " 15    1.269e+02   5.05e-04   6.50e-02   1.0000\n",
      " 16    1.269e+02   1.33e-04   3.13e-02   1.0000\n",
      " 17    1.269e+02   3.58e-05   1.60e-02   1.0000\n",
      " 18    1.269e+02   9.68e-06   7.78e-03   1.0000\n",
      " 19    1.269e+02   2.64e-06   4.14e-03   1.0000\n",
      " 20    1.269e+02   7.21e-07   2.09e-03   1.0000\n",
      " 21    1.269e+02   1.98e-07   1.10e-03   1.0000\n",
      " 22    1.269e+02   5.42e-08   5.63e-04   1.0000\n",
      " 23    1.269e+02   1.49e-08   2.95e-04   1.0000\n",
      " 24    1.269e+02   4.10e-09   1.53e-04   1.0000\n",
      " 25    1.269e+02   1.13e-09   8.00e-05   1.0000\n",
      " 26    1.269e+02   3.11e-10   4.17e-05   1.0000\n",
      " 27    1.269e+02   8.57e-11   2.18e-05   1.0000\n",
      " 28    1.269e+02   2.36e-11   1.14e-05   1.0000\n"
     ]
    }
   ],
   "source": [
    "# # TODO: Solve for Xflip, Uflip, the optimized trajectories to flip the quadrotor\n",
    "\n",
    "Uref = [copy(uhover) for i = 1:N-1]\n",
    "Xflip,Uflip,Kflip,Pflip,iterflip = iLQR(x0,Uref,Xref,Uref);"
   ]
  },
  {
   "cell_type": "code",
   "execution_count": 21,
   "metadata": {},
   "outputs": [
    {
     "data": {
      "text/html": [
       "    <div style=\"height: 500px; width: 100%; overflow-x: auto; overflow-y: hidden; resize: both\">\n",
       "    <iframe src=\"http://127.0.0.1:8700\" style=\"width: 100%; height: 100%; border: none\"></iframe>\n",
       "    </div>\n"
      ],
      "text/plain": [
       "MeshCat.DisplayedVisualizer(MeshCat.CoreVisualizer(MeshCat.SceneTrees.SceneNode(nothing, nothing, Dict{String, Vector{UInt8}}(), UInt8[0x83, 0xa7, 0x6f, 0x70, 0x74, 0x69, 0x6f, 0x6e, 0x73, 0x82  …  0x5f, 0x61, 0x6e, 0x69, 0x6d, 0x61, 0x74, 0x69, 0x6f, 0x6e], Dict{String, MeshCat.SceneTrees.SceneNode}(\"meshcat\" => MeshCat.SceneTrees.SceneNode(nothing, nothing, Dict{String, Vector{UInt8}}(), nothing, Dict{String, MeshCat.SceneTrees.SceneNode}(\"robot\" => MeshCat.SceneTrees.SceneNode(nothing, nothing, Dict{String, Vector{UInt8}}(), nothing, Dict{String, MeshCat.SceneTrees.SceneNode}(\"geom\" => MeshCat.SceneTrees.SceneNode(UInt8[0x83, 0xa6, 0x6f, 0x62, 0x6a, 0x65, 0x63, 0x74, 0x84, 0xaa  …  0x72, 0x6f, 0x62, 0x6f, 0x74, 0x2f, 0x67, 0x65, 0x6f, 0x6d], nothing, Dict{String, Vector{UInt8}}(), nothing, Dict{String, MeshCat.SceneTrees.SceneNode}()))))))), Set(Any[WebSocket(server, \u001b[32mCONNECTED\u001b[39m)]), ip\"127.0.0.1\", 8700))"
      ]
     },
     "execution_count": 21,
     "metadata": {},
     "output_type": "execute_result"
    }
   ],
   "source": [
    "render(vis)"
   ]
  },
  {
   "cell_type": "code",
   "execution_count": 22,
   "metadata": {},
   "outputs": [],
   "source": [
    "visualize!(vis, model, dt*(N-1), Xflip)"
   ]
  },
  {
   "cell_type": "markdown",
   "metadata": {},
   "source": [
    "## Part (e): Compare to TVLQR\n",
    "iLQR generates a local linear feedback controller. As we saw in class, the backwardpass in iLQR is basically TVLQR with some extra terms. However, as our trajectory converges to a stationary point, these extra linear terms should go to zero. When iLQR exits, theses local feedback gains should closely match the result out of TVLQR. Using your code from the previous homework, generate a TVLQR solution for the optimized flip trajectory, using the same cost matrices used in your iLQR solver. They should match to reasonable numerical precision."
   ]
  },
  {
   "cell_type": "code",
   "execution_count": 26,
   "metadata": {},
   "outputs": [],
   "source": [
    "# TODO: Generate Klqr, Plqr, the feedback and cost-to-go matrices from TVLQR\n",
    "#       to track the optimized flip trajectory\n",
    "\n",
    "# SOLUTION:\n",
    "function tvlqr(A,B,Q,R,Qf)\n",
    "\n",
    "    P = [zeros(nx,nx) for k = 1:N]\n",
    "    K = [zeros(nu,nx) for k = 1:N-1]\n",
    "    \n",
    "    P[end] = Qf\n",
    "    for k = reverse(1:N-1) \n",
    "        K[k] = (R + B[k]'P[k+1]*B[k])\\(B[k]'P[k+1]*A[k])\n",
    "        P[k] = Q + A[k]'P[k+1]*A[k] - A[k]'P[k+1]*B[k]*K[k]\n",
    "    end\n",
    "    \n",
    "    return K,P\n",
    "end\n",
    "\n",
    "# dynamics jacobians for trajectory\n",
    "A = [zeros(nx,nx) for k = 1:N-1]\n",
    "B = [zeros(nx,nu) for k = 1:N-1]\n",
    "for k = 1:N-1\n",
    "    A[k],B[k] = dynamics_jacobians(Xflip[k],Uflip[k],dt)\n",
    "end\n",
    "\n",
    "Klqr,Plqr = tvlqr(A,B,Q,R,Qf);"
   ]
  },
  {
   "cell_type": "code",
   "execution_count": 27,
   "metadata": {},
   "outputs": [
    {
     "name": "stdout",
     "output_type": "stream",
     "text": [
      "\u001b[0m\u001b[1mTest Summary: | \u001b[22m\u001b[32m\u001b[1mPass  \u001b[22m\u001b[39m\u001b[36m\u001b[1mTotal\u001b[22m\u001b[39m\n",
      "TVLQR vs iLQR | \u001b[32m   2  \u001b[39m\u001b[36m    2\u001b[39m\n"
     ]
    },
    {
     "data": {
      "text/plain": [
       "Test.DefaultTestSet(\"TVLQR vs iLQR\", Any[], 2, false, false)"
      ]
     },
     "execution_count": 27,
     "metadata": {},
     "output_type": "execute_result"
    }
   ],
   "source": [
    "@testset \"TVLQR vs iLQR\" begin \n",
    "    @test maximum(norm.(Kflip - Klqr,Inf)) < 1e-3\n",
    "    @test maximum(norm.(Pflip - Plqr,Inf)) < 1e-3\n",
    "end"
   ]
  },
  {
   "cell_type": "markdown",
   "metadata": {},
   "source": [
    "## Part (f): Closed-Loop Tracking\n",
    "Now that we've seen that the controller generated by iLQR is nearly identical to the TVLQR solution with the same cost matrices, let's use the iLQR gains to track our trajectory, and see how robust it is to wind gusts. We will produce this noise in the following way:\n",
    "\n",
    "$$x_{k+1} = \\operatorname{rk4}(x_k,u_k,dt) + [0,0,0,0.1\\cdot\\operatorname{randn}(3)]$$"
   ]
  },
  {
   "cell_type": "code",
   "execution_count": 28,
   "metadata": {},
   "outputs": [],
   "source": [
    "using Random\n",
    "\"\"\"\n",
    "function for simulating with noise \n",
    "\n",
    "inputs:\n",
    "    x0 - initial condition \n",
    "    Xflip - optimal flip trajectory from iLQR \n",
    "    Uflip - optimal flip control from iLQR \n",
    "    Kflip - feedback gain matrices from iLQR\n",
    "    open_loop - bool, if true, use only Uflip as control, if false, use the feedback gain as well \n",
    "\n",
    "outputs:\n",
    "    X - simulated X\n",
    "    U - simulated U \n",
    "\"\"\"\n",
    "function simulate_with_noise(x0,Xflip,Uflip,Kflip,open_loop)\n",
    "    \n",
    "    X = [zeros(nx) for i = 1:N]\n",
    "    U = [zeros(nu) for i = 1:N-1]\n",
    "    X[1] = copy(x0)\n",
    "    \n",
    "    Random.seed!(1)\n",
    "    \n",
    "    # TODO: simulate with added noise from wind \n",
    "    # use open_loop to determine what control you should apply \n",
    "\n",
    "    # solution:\n",
    "    for k = 1:(N-1)\n",
    "        if open_loop\n",
    "            U[k] = Uflip[k]\n",
    "        else\n",
    "            U[k] = Uflip[k] - Kflip[k]*(X[k]-Xflip[k])\n",
    "        end\n",
    "\n",
    "        X[k+1] = rk4(X[k],U[k],dt) + [.0;0;0;.1*randn(3)]\n",
    "    end\n",
    "    \n",
    "    return X,U\n",
    "end\n",
    "\n",
    "\n",
    "Xlqr,Ulqr = simulate_with_noise(x0,Xflip,Uflip,Kflip,false);\n",
    "Xopen,Uopen = simulate_with_noise(x0,Xflip,Uflip,Kflip,true);"
   ]
  },
  {
   "cell_type": "code",
   "execution_count": 27,
   "metadata": {},
   "outputs": [
    {
     "data": {
      "text/html": [
       "    <div style=\"height: 500px; width: 100%; overflow-x: auto; overflow-y: hidden; resize: both\">\n",
       "    <iframe src=\"http://127.0.0.1:8700\" style=\"width: 100%; height: 100%; border: none\"></iframe>\n",
       "    </div>\n"
      ],
      "text/plain": [
       "MeshCat.DisplayedVisualizer(MeshCat.CoreVisualizer(MeshCat.SceneTrees.SceneNode(nothing, nothing, Dict{String, Vector{UInt8}}(), UInt8[0x83, 0xa7, 0x6f, 0x70, 0x74, 0x69, 0x6f, 0x6e, 0x73, 0x82  …  0x5f, 0x61, 0x6e, 0x69, 0x6d, 0x61, 0x74, 0x69, 0x6f, 0x6e], Dict{String, MeshCat.SceneTrees.SceneNode}(\"meshcat\" => MeshCat.SceneTrees.SceneNode(nothing, nothing, Dict{String, Vector{UInt8}}(), nothing, Dict{String, MeshCat.SceneTrees.SceneNode}(\"robot\" => MeshCat.SceneTrees.SceneNode(nothing, nothing, Dict{String, Vector{UInt8}}(), nothing, Dict{String, MeshCat.SceneTrees.SceneNode}(\"geom\" => MeshCat.SceneTrees.SceneNode(UInt8[0x83, 0xa6, 0x6f, 0x62, 0x6a, 0x65, 0x63, 0x74, 0x84, 0xaa  …  0x72, 0x6f, 0x62, 0x6f, 0x74, 0x2f, 0x67, 0x65, 0x6f, 0x6d], nothing, Dict{String, Vector{UInt8}}(), nothing, Dict{String, MeshCat.SceneTrees.SceneNode}()))))))), Set(Any[WebSocket(server, \u001b[32mCONNECTED\u001b[39m), WebSocket(server, \u001b[32mCONNECTED\u001b[39m)]), ip\"127.0.0.1\", 8700))"
      ]
     },
     "execution_count": 27,
     "metadata": {},
     "output_type": "execute_result"
    }
   ],
   "source": [
    "render(vis)"
   ]
  },
  {
   "cell_type": "code",
   "execution_count": 28,
   "metadata": {},
   "outputs": [],
   "source": [
    "# Simulate with LQR\n",
    "visualize!(vis, model, dt*(N-1), Xlqr)"
   ]
  },
  {
   "cell_type": "code",
   "execution_count": 29,
   "metadata": {},
   "outputs": [],
   "source": [
    "visualize!(vis, model, dt*(N-1), Xopen)"
   ]
  },
  {
   "cell_type": "code",
   "execution_count": 29,
   "metadata": {},
   "outputs": [
    {
     "data": {
      "image/svg+xml": [
       "<?xml version=\"1.0\" encoding=\"utf-8\"?>\n",
       "<svg xmlns=\"http://www.w3.org/2000/svg\" xmlns:xlink=\"http://www.w3.org/1999/xlink\" width=\"600\" height=\"400\" viewBox=\"0 0 2400 1600\">\n",
       "<defs>\n",
       "  <clipPath id=\"clip920\">\n",
       "    <rect x=\"0\" y=\"0\" width=\"2400\" height=\"1600\"/>\n",
       "  </clipPath>\n",
       "</defs>\n",
       "<path clip-path=\"url(#clip920)\" d=\"\n",
       "M0 1600 L2400 1600 L2400 0 L0 0  Z\n",
       "  \" fill=\"#ffffff\" fill-rule=\"evenodd\" fill-opacity=\"1\"/>\n",
       "<defs>\n",
       "  <clipPath id=\"clip921\">\n",
       "    <rect x=\"480\" y=\"0\" width=\"1681\" height=\"1600\"/>\n",
       "  </clipPath>\n",
       "</defs>\n",
       "<path clip-path=\"url(#clip920)\" d=\"\n",
       "M219.38 1423.18 L2352.76 1423.18 L2352.76 47.2441 L219.38 47.2441  Z\n",
       "  \" fill=\"#ffffff\" fill-rule=\"evenodd\" fill-opacity=\"1\"/>\n",
       "<defs>\n",
       "  <clipPath id=\"clip922\">\n",
       "    <rect x=\"219\" y=\"47\" width=\"2134\" height=\"1377\"/>\n",
       "  </clipPath>\n",
       "</defs>\n",
       "<polyline clip-path=\"url(#clip922)\" style=\"stroke:#000000; stroke-linecap:butt; stroke-linejoin:round; stroke-width:2; stroke-opacity:0.1; fill:none\" points=\"\n",
       "  279.764,1423.18 279.764,47.2441 \n",
       "  \"/>\n",
       "<polyline clip-path=\"url(#clip922)\" style=\"stroke:#000000; stroke-linecap:butt; stroke-linejoin:round; stroke-width:2; stroke-opacity:0.1; fill:none\" points=\"\n",
       "  616.213,1423.18 616.213,47.2441 \n",
       "  \"/>\n",
       "<polyline clip-path=\"url(#clip922)\" style=\"stroke:#000000; stroke-linecap:butt; stroke-linejoin:round; stroke-width:2; stroke-opacity:0.1; fill:none\" points=\"\n",
       "  952.662,1423.18 952.662,47.2441 \n",
       "  \"/>\n",
       "<polyline clip-path=\"url(#clip922)\" style=\"stroke:#000000; stroke-linecap:butt; stroke-linejoin:round; stroke-width:2; stroke-opacity:0.1; fill:none\" points=\"\n",
       "  1289.11,1423.18 1289.11,47.2441 \n",
       "  \"/>\n",
       "<polyline clip-path=\"url(#clip922)\" style=\"stroke:#000000; stroke-linecap:butt; stroke-linejoin:round; stroke-width:2; stroke-opacity:0.1; fill:none\" points=\"\n",
       "  1625.56,1423.18 1625.56,47.2441 \n",
       "  \"/>\n",
       "<polyline clip-path=\"url(#clip922)\" style=\"stroke:#000000; stroke-linecap:butt; stroke-linejoin:round; stroke-width:2; stroke-opacity:0.1; fill:none\" points=\"\n",
       "  1962.01,1423.18 1962.01,47.2441 \n",
       "  \"/>\n",
       "<polyline clip-path=\"url(#clip922)\" style=\"stroke:#000000; stroke-linecap:butt; stroke-linejoin:round; stroke-width:2; stroke-opacity:0.1; fill:none\" points=\"\n",
       "  2298.46,1423.18 2298.46,47.2441 \n",
       "  \"/>\n",
       "<polyline clip-path=\"url(#clip920)\" style=\"stroke:#000000; stroke-linecap:butt; stroke-linejoin:round; stroke-width:4; stroke-opacity:1; fill:none\" points=\"\n",
       "  219.38,1423.18 2352.76,1423.18 \n",
       "  \"/>\n",
       "<polyline clip-path=\"url(#clip920)\" style=\"stroke:#000000; stroke-linecap:butt; stroke-linejoin:round; stroke-width:4; stroke-opacity:1; fill:none\" points=\"\n",
       "  279.764,1423.18 279.764,1404.28 \n",
       "  \"/>\n",
       "<polyline clip-path=\"url(#clip920)\" style=\"stroke:#000000; stroke-linecap:butt; stroke-linejoin:round; stroke-width:4; stroke-opacity:1; fill:none\" points=\"\n",
       "  616.213,1423.18 616.213,1404.28 \n",
       "  \"/>\n",
       "<polyline clip-path=\"url(#clip920)\" style=\"stroke:#000000; stroke-linecap:butt; stroke-linejoin:round; stroke-width:4; stroke-opacity:1; fill:none\" points=\"\n",
       "  952.662,1423.18 952.662,1404.28 \n",
       "  \"/>\n",
       "<polyline clip-path=\"url(#clip920)\" style=\"stroke:#000000; stroke-linecap:butt; stroke-linejoin:round; stroke-width:4; stroke-opacity:1; fill:none\" points=\"\n",
       "  1289.11,1423.18 1289.11,1404.28 \n",
       "  \"/>\n",
       "<polyline clip-path=\"url(#clip920)\" style=\"stroke:#000000; stroke-linecap:butt; stroke-linejoin:round; stroke-width:4; stroke-opacity:1; fill:none\" points=\"\n",
       "  1625.56,1423.18 1625.56,1404.28 \n",
       "  \"/>\n",
       "<polyline clip-path=\"url(#clip920)\" style=\"stroke:#000000; stroke-linecap:butt; stroke-linejoin:round; stroke-width:4; stroke-opacity:1; fill:none\" points=\"\n",
       "  1962.01,1423.18 1962.01,1404.28 \n",
       "  \"/>\n",
       "<polyline clip-path=\"url(#clip920)\" style=\"stroke:#000000; stroke-linecap:butt; stroke-linejoin:round; stroke-width:4; stroke-opacity:1; fill:none\" points=\"\n",
       "  2298.46,1423.18 2298.46,1404.28 \n",
       "  \"/>\n",
       "<path clip-path=\"url(#clip920)\" d=\"M249.232 1468.75 L278.908 1468.75 L278.908 1472.69 L249.232 1472.69 L249.232 1468.75 Z\" fill=\"#000000\" fill-rule=\"evenodd\" fill-opacity=\"1\" /><path clip-path=\"url(#clip920)\" d=\"M303.167 1466.95 Q306.523 1467.66 308.398 1469.93 Q310.296 1472.2 310.296 1475.53 Q310.296 1480.65 306.778 1483.45 Q303.259 1486.25 296.778 1486.25 Q294.602 1486.25 292.287 1485.81 Q289.995 1485.39 287.542 1484.54 L287.542 1480.02 Q289.486 1481.16 291.801 1481.74 Q294.116 1482.32 296.639 1482.32 Q301.037 1482.32 303.329 1480.58 Q305.643 1478.84 305.643 1475.53 Q305.643 1472.48 303.491 1470.77 Q301.361 1469.03 297.542 1469.03 L293.514 1469.03 L293.514 1465.19 L297.727 1465.19 Q301.176 1465.19 303.005 1463.82 Q304.833 1462.43 304.833 1459.84 Q304.833 1457.18 302.935 1455.77 Q301.06 1454.33 297.542 1454.33 Q295.62 1454.33 293.421 1454.75 Q291.222 1455.16 288.583 1456.04 L288.583 1451.88 Q291.245 1451.14 293.56 1450.77 Q295.898 1450.39 297.958 1450.39 Q303.282 1450.39 306.384 1452.83 Q309.486 1455.23 309.486 1459.35 Q309.486 1462.22 307.843 1464.21 Q306.199 1466.18 303.167 1466.95 Z\" fill=\"#000000\" fill-rule=\"evenodd\" fill-opacity=\"1\" /><path clip-path=\"url(#clip920)\" d=\"M586.155 1468.75 L615.831 1468.75 L615.831 1472.69 L586.155 1472.69 L586.155 1468.75 Z\" fill=\"#000000\" fill-rule=\"evenodd\" fill-opacity=\"1\" /><path clip-path=\"url(#clip920)\" d=\"M629.951 1481.64 L646.271 1481.64 L646.271 1485.58 L624.326 1485.58 L624.326 1481.64 Q626.988 1478.89 631.572 1474.26 Q636.178 1469.61 637.359 1468.27 Q639.604 1465.74 640.484 1464.01 Q641.386 1462.25 641.386 1460.56 Q641.386 1457.8 639.442 1456.07 Q637.521 1454.33 634.419 1454.33 Q632.22 1454.33 629.766 1455.09 Q627.336 1455.86 624.558 1457.41 L624.558 1452.69 Q627.382 1451.55 629.836 1450.97 Q632.289 1450.39 634.326 1450.39 Q639.697 1450.39 642.891 1453.08 Q646.085 1455.77 646.085 1460.26 Q646.085 1462.39 645.275 1464.31 Q644.488 1466.2 642.382 1468.8 Q641.803 1469.47 638.701 1472.69 Q635.599 1475.88 629.951 1481.64 Z\" fill=\"#000000\" fill-rule=\"evenodd\" fill-opacity=\"1\" /><path clip-path=\"url(#clip920)\" d=\"M922.419 1468.75 L952.095 1468.75 L952.095 1472.69 L922.419 1472.69 L922.419 1468.75 Z\" fill=\"#000000\" fill-rule=\"evenodd\" fill-opacity=\"1\" /><path clip-path=\"url(#clip920)\" d=\"M962.997 1481.64 L970.636 1481.64 L970.636 1455.28 L962.326 1456.95 L962.326 1452.69 L970.59 1451.02 L975.266 1451.02 L975.266 1481.64 L982.905 1481.64 L982.905 1485.58 L962.997 1485.58 L962.997 1481.64 Z\" fill=\"#000000\" fill-rule=\"evenodd\" fill-opacity=\"1\" /><path clip-path=\"url(#clip920)\" d=\"M1289.11 1454.1 Q1285.5 1454.1 1283.67 1457.66 Q1281.87 1461.2 1281.87 1468.33 Q1281.87 1475.44 1283.67 1479.01 Q1285.5 1482.55 1289.11 1482.55 Q1292.74 1482.55 1294.55 1479.01 Q1296.38 1475.44 1296.38 1468.33 Q1296.38 1461.2 1294.55 1457.66 Q1292.74 1454.1 1289.11 1454.1 M1289.11 1450.39 Q1294.92 1450.39 1297.98 1455 Q1301.06 1459.58 1301.06 1468.33 Q1301.06 1477.06 1297.98 1481.67 Q1294.92 1486.25 1289.11 1486.25 Q1283.3 1486.25 1280.22 1481.67 Q1277.17 1477.06 1277.17 1468.33 Q1277.17 1459.58 1280.22 1455 Q1283.3 1450.39 1289.11 1450.39 Z\" fill=\"#000000\" fill-rule=\"evenodd\" fill-opacity=\"1\" /><path clip-path=\"url(#clip920)\" d=\"M1615.94 1481.64 L1623.58 1481.64 L1623.58 1455.28 L1615.27 1456.95 L1615.27 1452.69 L1623.53 1451.02 L1628.21 1451.02 L1628.21 1481.64 L1635.85 1481.64 L1635.85 1485.58 L1615.94 1485.58 L1615.94 1481.64 Z\" fill=\"#000000\" fill-rule=\"evenodd\" fill-opacity=\"1\" /><path clip-path=\"url(#clip920)\" d=\"M1956.66 1481.64 L1972.98 1481.64 L1972.98 1485.58 L1951.04 1485.58 L1951.04 1481.64 Q1953.7 1478.89 1958.28 1474.26 Q1962.89 1469.61 1964.07 1468.27 Q1966.31 1465.74 1967.19 1464.01 Q1968.1 1462.25 1968.1 1460.56 Q1968.1 1457.8 1966.15 1456.07 Q1964.23 1454.33 1961.13 1454.33 Q1958.93 1454.33 1956.48 1455.09 Q1954.05 1455.86 1951.27 1457.41 L1951.27 1452.69 Q1954.09 1451.55 1956.55 1450.97 Q1959 1450.39 1961.04 1450.39 Q1966.41 1450.39 1969.6 1453.08 Q1972.8 1455.77 1972.8 1460.26 Q1972.8 1462.39 1971.99 1464.31 Q1971.2 1466.2 1969.09 1468.8 Q1968.51 1469.47 1965.41 1472.69 Q1962.31 1475.88 1956.66 1481.64 Z\" fill=\"#000000\" fill-rule=\"evenodd\" fill-opacity=\"1\" /><path clip-path=\"url(#clip920)\" d=\"M2302.71 1466.95 Q2306.06 1467.66 2307.94 1469.93 Q2309.83 1472.2 2309.83 1475.53 Q2309.83 1480.65 2306.32 1483.45 Q2302.8 1486.25 2296.32 1486.25 Q2294.14 1486.25 2291.83 1485.81 Q2289.53 1485.39 2287.08 1484.54 L2287.08 1480.02 Q2289.02 1481.16 2291.34 1481.74 Q2293.65 1482.32 2296.18 1482.32 Q2300.58 1482.32 2302.87 1480.58 Q2305.18 1478.84 2305.18 1475.53 Q2305.18 1472.48 2303.03 1470.77 Q2300.9 1469.03 2297.08 1469.03 L2293.05 1469.03 L2293.05 1465.19 L2297.27 1465.19 Q2300.71 1465.19 2302.54 1463.82 Q2304.37 1462.43 2304.37 1459.84 Q2304.37 1457.18 2302.47 1455.77 Q2300.6 1454.33 2297.08 1454.33 Q2295.16 1454.33 2292.96 1454.75 Q2290.76 1455.16 2288.12 1456.04 L2288.12 1451.88 Q2290.78 1451.14 2293.1 1450.77 Q2295.44 1450.39 2297.5 1450.39 Q2302.82 1450.39 2305.92 1452.83 Q2309.02 1455.23 2309.02 1459.35 Q2309.02 1462.22 2307.38 1464.21 Q2305.74 1466.18 2302.71 1466.95 Z\" fill=\"#000000\" fill-rule=\"evenodd\" fill-opacity=\"1\" /><path clip-path=\"url(#clip920)\" d=\"M1302.68 1532.4 L1289.79 1549.74 L1303.35 1568.04 L1296.44 1568.04 L1286.07 1554.04 L1275.69 1568.04 L1268.79 1568.04 L1282.63 1549.39 L1269.96 1532.4 L1276.87 1532.4 L1286.32 1545.1 L1295.78 1532.4 L1302.68 1532.4 Z\" fill=\"#000000\" fill-rule=\"evenodd\" fill-opacity=\"1\" /><polyline clip-path=\"url(#clip922)\" style=\"stroke:#000000; stroke-linecap:butt; stroke-linejoin:round; stroke-width:2; stroke-opacity:0.1; fill:none\" points=\"\n",
       "  219.38,1204.49 2352.76,1204.49 \n",
       "  \"/>\n",
       "<polyline clip-path=\"url(#clip922)\" style=\"stroke:#000000; stroke-linecap:butt; stroke-linejoin:round; stroke-width:2; stroke-opacity:0.1; fill:none\" points=\"\n",
       "  219.38,950.3 2352.76,950.3 \n",
       "  \"/>\n",
       "<polyline clip-path=\"url(#clip922)\" style=\"stroke:#000000; stroke-linecap:butt; stroke-linejoin:round; stroke-width:2; stroke-opacity:0.1; fill:none\" points=\"\n",
       "  219.38,696.109 2352.76,696.109 \n",
       "  \"/>\n",
       "<polyline clip-path=\"url(#clip922)\" style=\"stroke:#000000; stroke-linecap:butt; stroke-linejoin:round; stroke-width:2; stroke-opacity:0.1; fill:none\" points=\"\n",
       "  219.38,441.919 2352.76,441.919 \n",
       "  \"/>\n",
       "<polyline clip-path=\"url(#clip922)\" style=\"stroke:#000000; stroke-linecap:butt; stroke-linejoin:round; stroke-width:2; stroke-opacity:0.1; fill:none\" points=\"\n",
       "  219.38,187.728 2352.76,187.728 \n",
       "  \"/>\n",
       "<polyline clip-path=\"url(#clip920)\" style=\"stroke:#000000; stroke-linecap:butt; stroke-linejoin:round; stroke-width:4; stroke-opacity:1; fill:none\" points=\"\n",
       "  219.38,1423.18 219.38,47.2441 \n",
       "  \"/>\n",
       "<polyline clip-path=\"url(#clip920)\" style=\"stroke:#000000; stroke-linecap:butt; stroke-linejoin:round; stroke-width:4; stroke-opacity:1; fill:none\" points=\"\n",
       "  219.38,1204.49 238.278,1204.49 \n",
       "  \"/>\n",
       "<polyline clip-path=\"url(#clip920)\" style=\"stroke:#000000; stroke-linecap:butt; stroke-linejoin:round; stroke-width:4; stroke-opacity:1; fill:none\" points=\"\n",
       "  219.38,950.3 238.278,950.3 \n",
       "  \"/>\n",
       "<polyline clip-path=\"url(#clip920)\" style=\"stroke:#000000; stroke-linecap:butt; stroke-linejoin:round; stroke-width:4; stroke-opacity:1; fill:none\" points=\"\n",
       "  219.38,696.109 238.278,696.109 \n",
       "  \"/>\n",
       "<polyline clip-path=\"url(#clip920)\" style=\"stroke:#000000; stroke-linecap:butt; stroke-linejoin:round; stroke-width:4; stroke-opacity:1; fill:none\" points=\"\n",
       "  219.38,441.919 238.278,441.919 \n",
       "  \"/>\n",
       "<polyline clip-path=\"url(#clip920)\" style=\"stroke:#000000; stroke-linecap:butt; stroke-linejoin:round; stroke-width:4; stroke-opacity:1; fill:none\" points=\"\n",
       "  219.38,187.728 238.278,187.728 \n",
       "  \"/>\n",
       "<path clip-path=\"url(#clip920)\" d=\"M126.205 1190.29 Q122.593 1190.29 120.765 1193.85 Q118.959 1197.4 118.959 1204.52 Q118.959 1211.63 120.765 1215.2 Q122.593 1218.74 126.205 1218.74 Q129.839 1218.74 131.644 1215.2 Q133.473 1211.63 133.473 1204.52 Q133.473 1197.4 131.644 1193.85 Q129.839 1190.29 126.205 1190.29 M126.205 1186.59 Q132.015 1186.59 135.07 1191.19 Q138.149 1195.77 138.149 1204.52 Q138.149 1213.25 135.07 1217.86 Q132.015 1222.44 126.205 1222.44 Q120.394 1222.44 117.316 1217.86 Q114.26 1213.25 114.26 1204.52 Q114.26 1195.77 117.316 1191.19 Q120.394 1186.59 126.205 1186.59 Z\" fill=\"#000000\" fill-rule=\"evenodd\" fill-opacity=\"1\" /><path clip-path=\"url(#clip920)\" d=\"M146.366 1215.89 L151.251 1215.89 L151.251 1221.77 L146.366 1221.77 L146.366 1215.89 Z\" fill=\"#000000\" fill-rule=\"evenodd\" fill-opacity=\"1\" /><path clip-path=\"url(#clip920)\" d=\"M171.436 1190.29 Q167.825 1190.29 165.996 1193.85 Q164.19 1197.4 164.19 1204.52 Q164.19 1211.63 165.996 1215.2 Q167.825 1218.74 171.436 1218.74 Q175.07 1218.74 176.876 1215.2 Q178.704 1211.63 178.704 1204.52 Q178.704 1197.4 176.876 1193.85 Q175.07 1190.29 171.436 1190.29 M171.436 1186.59 Q177.246 1186.59 180.301 1191.19 Q183.38 1195.77 183.38 1204.52 Q183.38 1213.25 180.301 1217.86 Q177.246 1222.44 171.436 1222.44 Q165.626 1222.44 162.547 1217.86 Q159.491 1213.25 159.491 1204.52 Q159.491 1195.77 162.547 1191.19 Q165.626 1186.59 171.436 1186.59 Z\" fill=\"#000000\" fill-rule=\"evenodd\" fill-opacity=\"1\" /><path clip-path=\"url(#clip920)\" d=\"M127.2 936.098 Q123.589 936.098 121.76 939.663 Q119.955 943.205 119.955 950.334 Q119.955 957.441 121.76 961.006 Q123.589 964.547 127.2 964.547 Q130.834 964.547 132.64 961.006 Q134.468 957.441 134.468 950.334 Q134.468 943.205 132.64 939.663 Q130.834 936.098 127.2 936.098 M127.2 932.395 Q133.01 932.395 136.066 937.001 Q139.144 941.584 139.144 950.334 Q139.144 959.061 136.066 963.668 Q133.01 968.251 127.2 968.251 Q121.39 968.251 118.311 963.668 Q115.256 959.061 115.256 950.334 Q115.256 941.584 118.311 937.001 Q121.39 932.395 127.2 932.395 Z\" fill=\"#000000\" fill-rule=\"evenodd\" fill-opacity=\"1\" /><path clip-path=\"url(#clip920)\" d=\"M147.362 961.7 L152.246 961.7 L152.246 967.58 L147.362 967.58 L147.362 961.7 Z\" fill=\"#000000\" fill-rule=\"evenodd\" fill-opacity=\"1\" /><path clip-path=\"url(#clip920)\" d=\"M162.477 933.02 L180.834 933.02 L180.834 936.955 L166.76 936.955 L166.76 945.427 Q167.778 945.08 168.797 944.918 Q169.815 944.733 170.834 944.733 Q176.621 944.733 180.001 947.904 Q183.38 951.075 183.38 956.492 Q183.38 962.07 179.908 965.172 Q176.436 968.251 170.116 968.251 Q167.94 968.251 165.672 967.881 Q163.427 967.51 161.019 966.769 L161.019 962.07 Q163.102 963.205 165.325 963.76 Q167.547 964.316 170.024 964.316 Q174.028 964.316 176.366 962.209 Q178.704 960.103 178.704 956.492 Q178.704 952.881 176.366 950.774 Q174.028 948.668 170.024 948.668 Q168.149 948.668 166.274 949.084 Q164.422 949.501 162.477 950.381 L162.477 933.02 Z\" fill=\"#000000\" fill-rule=\"evenodd\" fill-opacity=\"1\" /><path clip-path=\"url(#clip920)\" d=\"M117.015 709.454 L124.654 709.454 L124.654 683.088 L116.343 684.755 L116.343 680.496 L124.607 678.829 L129.283 678.829 L129.283 709.454 L136.922 709.454 L136.922 713.389 L117.015 713.389 L117.015 709.454 Z\" fill=\"#000000\" fill-rule=\"evenodd\" fill-opacity=\"1\" /><path clip-path=\"url(#clip920)\" d=\"M146.366 707.51 L151.251 707.51 L151.251 713.389 L146.366 713.389 L146.366 707.51 Z\" fill=\"#000000\" fill-rule=\"evenodd\" fill-opacity=\"1\" /><path clip-path=\"url(#clip920)\" d=\"M171.436 681.908 Q167.825 681.908 165.996 685.473 Q164.19 689.014 164.19 696.144 Q164.19 703.25 165.996 706.815 Q167.825 710.357 171.436 710.357 Q175.07 710.357 176.876 706.815 Q178.704 703.25 178.704 696.144 Q178.704 689.014 176.876 685.473 Q175.07 681.908 171.436 681.908 M171.436 678.204 Q177.246 678.204 180.301 682.811 Q183.38 687.394 183.38 696.144 Q183.38 704.871 180.301 709.477 Q177.246 714.06 171.436 714.06 Q165.626 714.06 162.547 709.477 Q159.491 704.871 159.491 696.144 Q159.491 687.394 162.547 682.811 Q165.626 678.204 171.436 678.204 Z\" fill=\"#000000\" fill-rule=\"evenodd\" fill-opacity=\"1\" /><path clip-path=\"url(#clip920)\" d=\"M118.01 455.264 L125.649 455.264 L125.649 428.898 L117.339 430.565 L117.339 426.305 L125.603 424.639 L130.279 424.639 L130.279 455.264 L137.917 455.264 L137.917 459.199 L118.01 459.199 L118.01 455.264 Z\" fill=\"#000000\" fill-rule=\"evenodd\" fill-opacity=\"1\" /><path clip-path=\"url(#clip920)\" d=\"M147.362 453.319 L152.246 453.319 L152.246 459.199 L147.362 459.199 L147.362 453.319 Z\" fill=\"#000000\" fill-rule=\"evenodd\" fill-opacity=\"1\" /><path clip-path=\"url(#clip920)\" d=\"M162.477 424.639 L180.834 424.639 L180.834 428.574 L166.76 428.574 L166.76 437.046 Q167.778 436.699 168.797 436.537 Q169.815 436.352 170.834 436.352 Q176.621 436.352 180.001 439.523 Q183.38 442.694 183.38 448.111 Q183.38 453.69 179.908 456.791 Q176.436 459.87 170.116 459.87 Q167.94 459.87 165.672 459.5 Q163.427 459.129 161.019 458.389 L161.019 453.69 Q163.102 454.824 165.325 455.379 Q167.547 455.935 170.024 455.935 Q174.028 455.935 176.366 453.828 Q178.704 451.722 178.704 448.111 Q178.704 444.5 176.366 442.393 Q174.028 440.287 170.024 440.287 Q168.149 440.287 166.274 440.703 Q164.422 441.12 162.477 442 L162.477 424.639 Z\" fill=\"#000000\" fill-rule=\"evenodd\" fill-opacity=\"1\" /><path clip-path=\"url(#clip920)\" d=\"M120.232 201.073 L136.552 201.073 L136.552 205.008 L114.607 205.008 L114.607 201.073 Q117.269 198.319 121.853 193.689 Q126.459 189.036 127.64 187.694 Q129.885 185.17 130.765 183.434 Q131.667 181.675 131.667 179.985 Q131.667 177.231 129.723 175.495 Q127.802 173.758 124.7 173.758 Q122.501 173.758 120.047 174.522 Q117.617 175.286 114.839 176.837 L114.839 172.115 Q117.663 170.981 120.117 170.402 Q122.57 169.823 124.607 169.823 Q129.978 169.823 133.172 172.508 Q136.367 175.194 136.367 179.684 Q136.367 181.814 135.556 183.735 Q134.769 185.633 132.663 188.226 Q132.084 188.897 128.982 192.115 Q125.88 195.309 120.232 201.073 Z\" fill=\"#000000\" fill-rule=\"evenodd\" fill-opacity=\"1\" /><path clip-path=\"url(#clip920)\" d=\"M146.366 199.129 L151.251 199.129 L151.251 205.008 L146.366 205.008 L146.366 199.129 Z\" fill=\"#000000\" fill-rule=\"evenodd\" fill-opacity=\"1\" /><path clip-path=\"url(#clip920)\" d=\"M171.436 173.527 Q167.825 173.527 165.996 177.092 Q164.19 180.633 164.19 187.763 Q164.19 194.869 165.996 198.434 Q167.825 201.976 171.436 201.976 Q175.07 201.976 176.876 198.434 Q178.704 194.869 178.704 187.763 Q178.704 180.633 176.876 177.092 Q175.07 173.527 171.436 173.527 M171.436 169.823 Q177.246 169.823 180.301 174.43 Q183.38 179.013 183.38 187.763 Q183.38 196.49 180.301 201.096 Q177.246 205.68 171.436 205.68 Q165.626 205.68 162.547 201.096 Q159.491 196.49 159.491 187.763 Q159.491 179.013 162.547 174.43 Q165.626 169.823 171.436 169.823 Z\" fill=\"#000000\" fill-rule=\"evenodd\" fill-opacity=\"1\" /><path clip-path=\"url(#clip920)\" d=\"M28.3562 748.723 L28.3562 720.905 L33.7034 720.905 L59.3254 742.93 L59.3254 720.905 L64.0042 720.905 L64.0042 749.519 L58.657 749.519 L33.035 727.494 L33.035 748.723 L28.3562 748.723 Z\" fill=\"#000000\" fill-rule=\"evenodd\" fill-opacity=\"1\" /><polyline clip-path=\"url(#clip922)\" style=\"stroke:#009af9; stroke-linecap:butt; stroke-linejoin:round; stroke-width:4; stroke-opacity:1; fill:none\" points=\"\n",
       "  279.764,696.109 279.759,698.38 279.805,703.607 280.45,708.443 282.891,710.028 288.476,706.904 298.191,698.831 312.469,686.245 331.261,669.83 354.203,650.296 \n",
       "  380.77,628.303 410.393,604.441 442.541,579.224 476.756,553.071 512.674,526.301 550.02,499.111 588.593,471.572 628.249,443.623 668.873,415.056 710.341,385.482 \n",
       "  752.424,354.194 794.513,320.718 835.665,285.278 874.939,248.638 911.61,212.022 945.207,176.885 975.44,144.812 1002.17,117.583 1025.49,97.2719 1045.93,86.1857 \n",
       "  1064.63,86.5057 1083.24,98.4643 1103.19,120.161 1125.15,149.405 1149.34,184.329 1175.83,223.558 1204.8,265.94 1236.53,310.133 1271.18,354.403 1308.54,396.826 \n",
       "  1348.05,435.7 1389.07,470.465 1431.22,501.483 1474.31,529.105 1518.26,553.651 1562.99,575.41 1608.44,594.642 1654.57,611.587 1701.32,626.461 1748.62,639.459 \n",
       "  1796.44,650.757 1844.72,660.513 1893.42,668.868 1942.47,675.946 1991.85,681.857 2041.49,686.697 2091.37,690.546 2141.43,693.474 2191.65,695.535 2241.97,696.775 \n",
       "  2292.38,697.225 \n",
       "  \"/>\n",
       "<polyline clip-path=\"url(#clip922)\" style=\"stroke:#e26f46; stroke-linecap:butt; stroke-linejoin:round; stroke-width:4; stroke-opacity:1; fill:none\" points=\"\n",
       "  279.764,696.109 279.759,698.38 280.051,703.166 280.936,708.618 285.613,713.446 293.825,712.582 306.426,707.342 323.325,698.315 344.561,686.136 370.251,669.709 \n",
       "  399.069,648.954 429.954,627.622 463.031,607.117 499.042,584.476 536.899,561.667 574.603,539.387 613.593,515.403 654.698,490.012 695.935,462.013 738.891,432.643 \n",
       "  782.22,401.56 824.777,368.987 864.718,334.242 901.171,297.651 933.472,260.812 962.628,226.344 989.868,196.835 1013.75,170.547 1036.51,152.114 1056.32,142.827 \n",
       "  1075.37,144.416 1094.65,156.396 1115.42,176.832 1139.32,202.669 1165.19,234.735 1193.87,270.866 1222.98,312.546 1254.18,354.972 1288.19,398.228 1324.59,439.298 \n",
       "  1363.68,478.076 1404.52,514.06 1445.5,547.079 1487.99,578.706 1530.1,608.86 1571.98,632.81 1615.39,651.838 1658.85,666.73 1704.06,676.604 1749.83,686.264 \n",
       "  1795.58,694.986 1841.73,701.105 1888.21,705.644 1934.8,710.327 1982,713.935 2030.35,717.289 2079.35,719.806 2129.38,722.655 2179.72,723.203 2230.61,724.339 \n",
       "  2282.79,724.269 \n",
       "  \"/>\n",
       "<polyline clip-path=\"url(#clip922)\" style=\"stroke:#3da44d; stroke-linecap:butt; stroke-linejoin:round; stroke-width:4; stroke-opacity:1; fill:none\" points=\"\n",
       "  279.764,696.109 279.759,698.38 280.054,703.121 280.937,708.536 285.537,713.576 293.639,713.159 306.265,708.468 323.434,700.179 345.239,689.053 371.867,673.96 \n",
       "  402.054,654.694 434.651,635.079 469.602,616.759 507.612,596.741 547.604,576.884 587.46,558.204 628.549,538.699 671.757,518.482 715.15,496.175 760.342,472.891 \n",
       "  806.002,448.322 851.033,423.032 893.72,396.538 933.205,368.845 968.514,341.034 1000.26,315.591 1029.65,295.342 1055.29,278.895 1079.64,271.061 1101.17,273.253 \n",
       "  1122.3,287.325 1144.23,312.526 1168.25,346.572 1195.94,386.128 1226.19,431.925 1260.08,481.689 1295.13,536.548 1332.44,591.482 1372.28,646.614 1413.94,699.106 \n",
       "  1457.46,749.15 1501.82,796.644 1545.37,841.886 1589.45,886.927 1632.13,932.253 1673.52,973.208 1715.43,1010.57 1756.34,1044.73 1797.95,1074.25 1839.04,1103.69 \n",
       "  1878.96,1132.65 1918.06,1159.47 1956.31,1185.02 1993.38,1211.16 2029.75,1236.81 2065.96,1262.64 2101.54,1287.95 2136.93,1313.86 2171.52,1337.47 2205.62,1361.62 \n",
       "  2240.06,1384.24 \n",
       "  \"/>\n",
       "<path clip-path=\"url(#clip920)\" d=\"\n",
       "M1932.94 300.469 L2281.64 300.469 L2281.64 93.1086 L1932.94 93.1086  Z\n",
       "  \" fill=\"#ffffff\" fill-rule=\"evenodd\" fill-opacity=\"1\"/>\n",
       "<polyline clip-path=\"url(#clip920)\" style=\"stroke:#000000; stroke-linecap:butt; stroke-linejoin:round; stroke-width:4; stroke-opacity:1; fill:none\" points=\"\n",
       "  1932.94,300.469 2281.64,300.469 2281.64,93.1086 1932.94,93.1086 1932.94,300.469 \n",
       "  \"/>\n",
       "<polyline clip-path=\"url(#clip920)\" style=\"stroke:#009af9; stroke-linecap:butt; stroke-linejoin:round; stroke-width:4; stroke-opacity:1; fill:none\" points=\"\n",
       "  1956.64,144.949 2098.86,144.949 \n",
       "  \"/>\n",
       "<path clip-path=\"url(#clip920)\" d=\"M2137.75 140.284 Q2137.04 139.868 2136.18 139.682 Q2135.35 139.474 2134.33 139.474 Q2130.72 139.474 2128.77 141.835 Q2126.85 144.173 2126.85 148.571 L2126.85 162.229 L2122.57 162.229 L2122.57 136.303 L2126.85 136.303 L2126.85 140.331 Q2128.19 137.969 2130.35 136.835 Q2132.5 135.678 2135.58 135.678 Q2136.02 135.678 2136.55 135.747 Q2137.08 135.794 2137.73 135.909 L2137.75 140.284 Z\" fill=\"#000000\" fill-rule=\"evenodd\" fill-opacity=\"1\" /><path clip-path=\"url(#clip920)\" d=\"M2163.36 148.201 L2163.36 150.284 L2143.77 150.284 Q2144.05 154.682 2146.41 156.997 Q2148.8 159.289 2153.03 159.289 Q2155.49 159.289 2157.78 158.687 Q2160.09 158.085 2162.36 156.881 L2162.36 160.909 Q2160.07 161.881 2157.66 162.391 Q2155.25 162.9 2152.78 162.9 Q2146.57 162.9 2142.94 159.289 Q2139.33 155.678 2139.33 149.52 Q2139.33 143.155 2142.75 139.428 Q2146.2 135.678 2152.04 135.678 Q2157.27 135.678 2160.3 139.057 Q2163.36 142.414 2163.36 148.201 M2159.1 146.951 Q2159.05 143.456 2157.13 141.372 Q2155.23 139.289 2152.08 139.289 Q2148.52 139.289 2146.37 141.303 Q2144.24 143.317 2143.91 146.974 L2159.1 146.951 Z\" fill=\"#000000\" fill-rule=\"evenodd\" fill-opacity=\"1\" /><path clip-path=\"url(#clip920)\" d=\"M2183.47 126.21 L2183.47 129.752 L2179.4 129.752 Q2177.11 129.752 2176.2 130.678 Q2175.32 131.604 2175.32 134.011 L2175.32 136.303 L2182.34 136.303 L2182.34 139.613 L2175.32 139.613 L2175.32 162.229 L2171.04 162.229 L2171.04 139.613 L2166.97 139.613 L2166.97 136.303 L2171.04 136.303 L2171.04 134.497 Q2171.04 130.169 2173.05 128.201 Q2175.07 126.21 2179.44 126.21 L2183.47 126.21 Z\" fill=\"#000000\" fill-rule=\"evenodd\" fill-opacity=\"1\" /><polyline clip-path=\"url(#clip920)\" style=\"stroke:#e26f46; stroke-linecap:butt; stroke-linejoin:round; stroke-width:4; stroke-opacity:1; fill:none\" points=\"\n",
       "  1956.64,196.789 2098.86,196.789 \n",
       "  \"/>\n",
       "<path clip-path=\"url(#clip920)\" d=\"M2122.57 178.05 L2126.83 178.05 L2126.83 214.069 L2122.57 214.069 L2122.57 178.05 Z\" fill=\"#000000\" fill-rule=\"evenodd\" fill-opacity=\"1\" /><path clip-path=\"url(#clip920)\" d=\"M2138.29 201.129 Q2138.29 205.828 2140.21 208.513 Q2142.15 211.175 2145.53 211.175 Q2148.91 211.175 2150.86 208.513 Q2152.8 205.828 2152.8 201.129 Q2152.8 196.43 2150.86 193.768 Q2148.91 191.083 2145.53 191.083 Q2142.15 191.083 2140.21 193.768 Q2138.29 196.43 2138.29 201.129 M2152.8 210.18 Q2151.46 212.495 2149.4 213.629 Q2147.36 214.74 2144.49 214.74 Q2139.79 214.74 2136.83 210.99 Q2133.89 207.24 2133.89 201.129 Q2133.89 195.018 2136.83 191.268 Q2139.79 187.518 2144.49 187.518 Q2147.36 187.518 2149.4 188.652 Q2151.46 189.763 2152.8 192.078 L2152.8 188.143 L2157.06 188.143 L2157.06 223.93 L2152.8 223.93 L2152.8 210.18 Z\" fill=\"#000000\" fill-rule=\"evenodd\" fill-opacity=\"1\" /><path clip-path=\"url(#clip920)\" d=\"M2180.86 192.124 Q2180.14 191.708 2179.28 191.522 Q2178.45 191.314 2177.43 191.314 Q2173.82 191.314 2171.87 193.675 Q2169.95 196.013 2169.95 200.411 L2169.95 214.069 L2165.67 214.069 L2165.67 188.143 L2169.95 188.143 L2169.95 192.171 Q2171.3 189.809 2173.45 188.675 Q2175.6 187.518 2178.68 187.518 Q2179.12 187.518 2179.65 187.587 Q2180.18 187.634 2180.83 187.749 L2180.86 192.124 Z\" fill=\"#000000\" fill-rule=\"evenodd\" fill-opacity=\"1\" /><polyline clip-path=\"url(#clip920)\" style=\"stroke:#3da44d; stroke-linecap:butt; stroke-linejoin:round; stroke-width:4; stroke-opacity:1; fill:none\" points=\"\n",
       "  1956.64,248.629 2098.86,248.629 \n",
       "  \"/>\n",
       "<path clip-path=\"url(#clip920)\" d=\"M2134.47 242.969 Q2131.04 242.969 2129.05 245.654 Q2127.06 248.316 2127.06 252.969 Q2127.06 257.622 2129.03 260.307 Q2131.02 262.969 2134.47 262.969 Q2137.87 262.969 2139.86 260.284 Q2141.85 257.598 2141.85 252.969 Q2141.85 248.362 2139.86 245.677 Q2137.87 242.969 2134.47 242.969 M2134.47 239.358 Q2140.02 239.358 2143.19 242.969 Q2146.37 246.58 2146.37 252.969 Q2146.37 259.335 2143.19 262.969 Q2140.02 266.58 2134.47 266.58 Q2128.89 266.58 2125.72 262.969 Q2122.57 259.335 2122.57 252.969 Q2122.57 246.58 2125.72 242.969 Q2128.89 239.358 2134.47 239.358 Z\" fill=\"#000000\" fill-rule=\"evenodd\" fill-opacity=\"1\" /><path clip-path=\"url(#clip920)\" d=\"M2157.55 262.02 L2157.55 275.77 L2153.26 275.77 L2153.26 239.983 L2157.55 239.983 L2157.55 243.918 Q2158.89 241.603 2160.93 240.492 Q2162.99 239.358 2165.83 239.358 Q2170.55 239.358 2173.49 243.108 Q2176.46 246.858 2176.46 252.969 Q2176.46 259.08 2173.49 262.83 Q2170.55 266.58 2165.83 266.58 Q2162.99 266.58 2160.93 265.469 Q2158.89 264.335 2157.55 262.02 M2172.04 252.969 Q2172.04 248.27 2170.09 245.608 Q2168.17 242.923 2164.79 242.923 Q2161.41 242.923 2159.47 245.608 Q2157.55 248.27 2157.55 252.969 Q2157.55 257.668 2159.47 260.353 Q2161.41 263.015 2164.79 263.015 Q2168.17 263.015 2170.09 260.353 Q2172.04 257.668 2172.04 252.969 Z\" fill=\"#000000\" fill-rule=\"evenodd\" fill-opacity=\"1\" /><path clip-path=\"url(#clip920)\" d=\"M2205.69 251.881 L2205.69 253.964 L2186.11 253.964 Q2186.39 258.362 2188.75 260.677 Q2191.13 262.969 2195.37 262.969 Q2197.82 262.969 2200.11 262.367 Q2202.43 261.765 2204.7 260.561 L2204.7 264.589 Q2202.41 265.561 2200 266.071 Q2197.59 266.58 2195.11 266.58 Q2188.91 266.58 2185.28 262.969 Q2181.67 259.358 2181.67 253.2 Q2181.67 246.835 2185.09 243.108 Q2188.54 239.358 2194.37 239.358 Q2199.61 239.358 2202.64 242.737 Q2205.69 246.094 2205.69 251.881 M2201.43 250.631 Q2201.39 247.136 2199.47 245.052 Q2197.57 242.969 2194.42 242.969 Q2190.86 242.969 2188.7 244.983 Q2186.57 246.997 2186.25 250.654 L2201.43 250.631 Z\" fill=\"#000000\" fill-rule=\"evenodd\" fill-opacity=\"1\" /><path clip-path=\"url(#clip920)\" d=\"M2234.24 250.261 L2234.24 265.909 L2229.98 265.909 L2229.98 250.399 Q2229.98 246.719 2228.54 244.89 Q2227.11 243.062 2224.24 243.062 Q2220.79 243.062 2218.8 245.261 Q2216.8 247.46 2216.8 251.256 L2216.8 265.909 L2212.52 265.909 L2212.52 239.983 L2216.8 239.983 L2216.8 244.011 Q2218.33 241.673 2220.39 240.515 Q2222.48 239.358 2225.18 239.358 Q2229.65 239.358 2231.94 242.136 Q2234.24 244.89 2234.24 250.261 Z\" fill=\"#000000\" fill-rule=\"evenodd\" fill-opacity=\"1\" /></svg>\n"
      ]
     },
     "execution_count": 29,
     "metadata": {},
     "output_type": "execute_result"
    }
   ],
   "source": [
    "# Plot the trajectories\n",
    "Xflip = SVector{nx}.(Xflip)\n",
    "Xlqr = SVector{nx}.(Xlqr)\n",
    "Xopen = SVector{nx}.(Xopen)\n",
    "traj2(Xflip, label=\"ref\")\n",
    "traj2!(Xlqr, label=\"lqr\")\n",
    "traj2!(Xopen, label=\"open\", ylabel=\"z\")"
   ]
  },
  {
   "cell_type": "code",
   "execution_count": 46,
   "metadata": {},
   "outputs": [
    {
     "name": "stdout",
     "output_type": "stream",
     "text": [
      "\u001b[0m\u001b[1mTest Summary:            | \u001b[22m\u001b[32m\u001b[1mPass  \u001b[22m\u001b[39m\u001b[36m\u001b[1mTotal\u001b[22m\u001b[39m\n",
      "open loop vs closed loop | \u001b[32m   2  \u001b[39m\u001b[36m    2\u001b[39m\n"
     ]
    },
    {
     "data": {
      "text/plain": [
       "Test.DefaultTestSet(\"open loop vs closed loop\", Any[], 2, false, false)"
      ]
     },
     "execution_count": 46,
     "metadata": {},
     "output_type": "execute_result"
    }
   ],
   "source": [
    "@testset \"open loop vs closed loop\" begin \n",
    "    @test norm(Xflip[end] - Xlqr[end]) < 1.0\n",
    "    @test norm(Xflip[end] - Xlqr[end]) < norm(Xflip[end] - Xopen[end])\n",
    "end"
   ]
  },
  {
   "cell_type": "code",
   "execution_count": null,
   "metadata": {},
   "outputs": [],
   "source": [
    "# save(joinpath(jldir,\"q1.jld2\"), test_dict)"
   ]
  }
 ],
 "metadata": {
  "@webio": {
   "lastCommId": null,
   "lastKernelId": null
  },
  "kernelspec": {
   "display_name": "Julia 1.6.5",
   "language": "julia",
   "name": "julia-1.6"
  },
  "language_info": {
   "file_extension": ".jl",
   "mimetype": "application/julia",
   "name": "julia",
   "version": "1.6.5"
  }
 },
 "nbformat": 4,
 "nbformat_minor": 4
}
