{
 "cells": [
  {
   "cell_type": "code",
   "execution_count": null,
   "metadata": {},
   "outputs": [],
   "source": [
    "import Pkg; Pkg.activate(joinpath(@__DIR__,\"..\")); \n",
    "using ForwardDiff\n",
    "using Test\n",
    "using RobotZoo: PlanarQuadrotor\n",
    "using RobotDynamics\n",
    "using LinearAlgebra\n",
    "using StaticArrays\n",
    "using SparseArrays\n",
    "using Plots\n",
    "using Printf\n",
    "\n",
    "include(\"quadratic_cost.jl\")\n",
    "include(\"quadrotor.jl\")"
   ]
  },
  {
   "cell_type": "markdown",
   "metadata": {},
   "source": [
    "# Question 1: Iterative LQR (50 pts)\n",
    "In this problem you'll implement iterative LQR (ilQR), the Gauss-Newton approximation of differential dynamic programming (DDP). You'll use it to generate trajectories for a planar quadrotor, including a flip. In the last part of the problem, you'll track the trajectory to make it robust to wind.\n",
    "\n",
    "## The Model\n",
    "We'll be using the same planar quadrotor model we saw in class. The dynamics are fairly simple:\n",
    "\n",
    "$$ \n",
    "x = \\begin{bmatrix} p_x \\\\ p_z \\\\ \\theta \\\\ v_x \\\\ v_z \\\\ \\omega \\end{bmatrix}, \\quad\n",
    "\\dot{x} = \\begin{bmatrix} v_x \\\\ v_y \\\\ \\omega \\\\ \n",
    "\\frac{1}{m} (u_1 + u_2) \\sin{\\theta} \\\\\n",
    "\\frac{1}{m} (u_1 + u_2) \\cos{\\theta} - g \\\\\n",
    "\\frac{l}{J} (u_2 - u_1) \n",
    "\\end{bmatrix}\n",
    "$$\n",
    "with the following model parameters:\n",
    "* $m$: mass (kg)\n",
    "* $J$: moment of inertia\n",
    "* $l$: distance between motors"
   ]
  },
  {
   "cell_type": "code",
   "execution_count": null,
   "metadata": {},
   "outputs": [],
   "source": [
    "# Problem Setup\n",
    "model = PlanarQuadrotor()\n",
    "n,m = size(model)          # state and control dimensions\n",
    "dt = 0.025                 # time step (sec)\n",
    "tf = 1.5                   # time horizon (sec)\n",
    "T = Int(tf/dt) + 1         # number of time steps\n",
    "\n",
    "# Initial & final condition\n",
    "x0    = SA_F64[-3, 1, 0, 0, 0, 0]                    # initial state\n",
    "xgoal = SA_F64[+3, 1, 0, 0, 0, 0]                    # goal state\n",
    "uhover = @SVector fill(0.5*model.mass * model.g, m)  # hover controls\n",
    "\n",
    "# Cost matrices\n",
    "Q = Diagonal(SVector{6}([ones(3) ; fill(0.1, 3)]))\n",
    "R = Diagonal(@SVector fill(1e-2, m))\n",
    "Qf = Diagonal(@SVector fill(1e2, n));"
   ]
  },
  {
   "cell_type": "markdown",
   "metadata": {},
   "source": [
    "## Part (a): Implement iLQR (35 pts)\n",
    "Implement iLQR by completing the provided methods. We provide the following struct that stores the problem definition. Reference the cells below for a brief example of using this struct."
   ]
  },
  {
   "cell_type": "code",
   "execution_count": null,
   "metadata": {},
   "outputs": [],
   "source": [
    "\"\"\"\n",
    "    Problem{n,m,L}\n",
    "\n",
    "Describes a trajectory optimization problem with `n` states, `m` controls, and \n",
    "a model of type `L`. \n",
    "\n",
    "# Constructor\n",
    "    Problem(model::L, obj::Vector{<:QuadraticCost{n,m}}, tf, x0, xf) where {n,m,L}\n",
    "\n",
    "where `tf` is the final time, and `x0` is the initial state. \n",
    "\"\"\"\n",
    "struct Problem{n,m,L}\n",
    "    model::L\n",
    "    obj::Vector{QuadraticCost{n,m,Float64}}\n",
    "    T::Int\n",
    "    tf::Float64\n",
    "    x0::MVector{n,Float64}\n",
    "    times::Vector{Float64}\n",
    "    function Problem(model::L, obj::Vector{<:QuadraticCost{n,m}}, tf, x0) where {n,m,L}\n",
    "        @assert length(x0) == n == length(obj[1].q) == state_dim(model)\n",
    "        @assert length(obj[1].r) == m == control_dim(model)\n",
    "        T = length(obj)\n",
    "        times = range(0, tf, length=T)\n",
    "        new{n,m,L}(model, obj, T, tf, x0, times)\n",
    "    end\n",
    "end\n",
    "Base.size(prob::Problem{n,m}) where {n,m} = (n,m,prob.T)"
   ]
  },
  {
   "cell_type": "code",
   "execution_count": null,
   "metadata": {},
   "outputs": [],
   "source": [
    "# Cost function\n",
    "cost_stage = LQRCost(Q, R, xgoal, uhover)\n",
    "cost_term = LQRCost(Qf, R, xgoal, uhover)\n",
    "obj = [cost_stage for k = 1:T-1]\n",
    "push!(obj, cost_term)\n",
    "\n",
    "# Build Problem\n",
    "prob = Problem(model, obj, tf, x0);\n",
    "n,m,T = size(prob)   # get problem dimensions\n",
    "\n",
    "# Random trajectory\n",
    "Xrand = [@SVector randn(n) for k = 1:T]\n",
    "Urand = [@SVector randn(m) for k = 1:T-1]\n",
    "\n",
    "# Evaluate the cost\n",
    "t = prob.times[1]\n",
    "dt = prob.times[2]-prob.times[1]\n",
    "cost(prob.obj, Xrand, Urand)\n",
    "\n",
    "# Evaluate the dynamics\n",
    "discrete_dynamics(RK4, prob.model, Xrand[1], Urand[1], t, dt)\n",
    "∇f = zeros(n,n+m)\n",
    "discrete_jacobian!(RK4, ∇f, prob.model, Xrand[1], Urand[1], t, dt)"
   ]
  },
  {
   "cell_type": "markdown",
   "metadata": {},
   "source": [
    "### Backward Pass"
   ]
  },
  {
   "cell_type": "code",
   "execution_count": null,
   "metadata": {},
   "outputs": [],
   "source": [
    "# TASK: Complete the code below for the backward pass (15 pts)\n",
    "\"\"\"\n",
    "    backwardpass!(prob, P, p, K, d, X, U)\n",
    "\n",
    "Evaluate the iLQR backward pass at state and control trajectories `X` and `U`, \n",
    "storing the cost-to-go expansion in `P` and `p` and the gains in `K` and `d`.\n",
    "\n",
    "Should return ΔJ, expected cost reduction.\n",
    "\"\"\"\n",
    "function backwardpass!(prob::Problem{n,m}, P, p, K, d, X, U; \n",
    "        β=1e-6, ddp::Bool=false\n",
    "    ) where {n,m}\n",
    "    T = prob.T\n",
    "    obj = prob.obj\n",
    "    ΔJ = 0.0\n",
    "    failed = false\n",
    "    \n",
    "    # TODO: Implement the backward pass\n",
    "   \n",
    "    return ΔJ\n",
    "end"
   ]
  },
  {
   "cell_type": "markdown",
   "metadata": {},
   "source": [
    "### Forward Pass"
   ]
  },
  {
   "cell_type": "code",
   "execution_count": null,
   "metadata": {},
   "outputs": [],
   "source": [
    "# TASK: Complete the method for the forward pass (10 pts)\n",
    "\"\"\"\n",
    "    forwardpass!(prob, X, U, K, d, ΔJ, J)\n",
    "\n",
    "Evaluate the iLQR forward pass at state and control trajectories `X` and `U`, using\n",
    "the gains `K` and `d` to simulate the system forward. The new cost should be less than \n",
    "the current cost `J` together with the expected cost decrease `ΔJ`.\n",
    "\n",
    "Should return the new cost `Jn` and the step length `α`.\n",
    "\"\"\"\n",
    "function forwardpass!(prob::Problem{n,m}, X, U, K, d, ΔJ, J,\n",
    "        Xbar = deepcopy(X), Ubar = deepcopy(U);\n",
    "        max_iters=10,\n",
    "    ) where {n,m}\n",
    "    T = prob.T\n",
    "\n",
    "    # TODO: Implement the forward pass w/ line search\n",
    "    Jn = J\n",
    "    α = 0.0\n",
    "    \n",
    "    return Jn, α\n",
    "end\n"
   ]
  },
  {
   "cell_type": "markdown",
   "metadata": {},
   "source": [
    "### iLQR Algorithm"
   ]
  },
  {
   "cell_type": "code",
   "execution_count": null,
   "metadata": {},
   "outputs": [],
   "source": [
    "# TASK: Complete the code below to implement iLQR (10 pts)\n",
    "\"\"\"\n",
    "    solve_ilqr(prob, X, U; kwargs...)\n",
    "\n",
    "Solve the trajectory optimization problem specified by `prob` using iterative LQR.\n",
    "Returns the optimized state and control trajectories, as well as the local control gains,\n",
    "`K` and `d`.\n",
    "\n",
    "Should return the optimized state and control trajectories `X` and `U`, and the \n",
    "list of feedback gains `K` and cost-to-go hessians `P`.\n",
    "\"\"\"\n",
    "function solve_ilqr(prob::Problem{n,m}, X0, U0; \n",
    "        iters=100,     # max iterations\n",
    "        ls_iters=10,   # max line search iterations\n",
    "        reg_min=1e-6,  # minimum regularizatio for the backwardpass\n",
    "        verbose=0,     # print verbosity\n",
    "        eps=1e-5,      # termination tolerance\n",
    "        eps_ddp=eps    # tolerance to switch to ddp\n",
    "    ) where {n,m}\n",
    "    t_start = time_ns()\n",
    "    Nx,Nu,Nt = size(prob)\n",
    "\n",
    "    # Initialization\n",
    "    T = prob.T\n",
    "    p = [zeros(n) for k = 1:T]      # ctg gradient\n",
    "    P = [zeros(n,n) for k = 1:T]    # ctg hessian\n",
    "    d = [zeros(m) for k = 1:T-1]    # feedforward gains\n",
    "    K = [zeros(m,n) for k = 1:T-1]  # feedback gains\n",
    "    Xbar = [@SVector zeros(n) for k = 1:T]    # line search trajectory\n",
    "    Ubar = [@SVector zeros(m) for k = 1:T-1]  # line search trajectory\n",
    "    ΔJ = 0.0\n",
    "\n",
    "    # Don't modify the trajectories that are passed in\n",
    "    X = deepcopy(X0)\n",
    "    U = deepcopy(U0)\n",
    "\n",
    "    # Initial cost\n",
    "    J = cost(prob.obj, X, U)\n",
    "    \n",
    "    # Initialize parameters\n",
    "    Jn = Inf\n",
    "    iter = 0\n",
    "    tol = 1.0\n",
    "    β = reg_min\n",
    "    while tol > eps \n",
    "        iter += 1\n",
    "        \n",
    "        # TODO: Implement iLQR\n",
    "\n",
    "        # Output\n",
    "        if verbose > 0\n",
    "            @printf(\"Iter: %3d, Cost: % 6.2f → % 6.2f (% 7.2e), res: % .2e, β= %.2e, α = %.3f\\n\",\n",
    "                iter, J, Jn, J-Jn, tol, β, α\n",
    "            )\n",
    "        end\n",
    "        J = Jn\n",
    "\n",
    "        if iter >= iters\n",
    "            @warn \"Reached max iterations\"\n",
    "            break\n",
    "        end\n",
    "\n",
    "    end\n",
    "    println(\"Total Time: \", (time_ns() - t_start)*1e-6, \" ms\")\n",
    "    return X,U,K,P\n",
    "end\n"
   ]
  },
  {
   "cell_type": "markdown",
   "metadata": {},
   "source": [
    "## Part (b): Simple trajectory (3 pts)\n",
    "Use your iLQR solver to move the quadrotor from the initial state to the goal state. Initialize it with a simple hover trajectory (i.e. holding it's initial position)."
   ]
  },
  {
   "cell_type": "code",
   "execution_count": null,
   "metadata": {},
   "outputs": [],
   "source": [
    "# TASK: Solve for the optimized trajectories using iLQR (3 pts)\n",
    "#       Store the results in Xline, Uline\n",
    "\n",
    "# Initial guess\n",
    "X0 = [copy(x0) for k = 1:T]\n",
    "U0 = [copy(uhover) for k = 1:T-1]\n",
    "\n",
    "# TODO: Solve for optimal trajectories\n",
    "Xline = deepcopy(X0)\n",
    "Uline = deepcopy(U0);"
   ]
  },
  {
   "cell_type": "code",
   "execution_count": null,
   "metadata": {},
   "outputs": [],
   "source": [
    "vis = Visualizer()\n",
    "set_mesh!(vis, model)\n",
    "render(vis)"
   ]
  },
  {
   "cell_type": "code",
   "execution_count": null,
   "metadata": {},
   "outputs": [],
   "source": [
    "visualize!(vis, model, tf, Xline)"
   ]
  },
  {
   "cell_type": "markdown",
   "metadata": {},
   "source": [
    "## Part (c): Generate Cost function for Flip (4 pts)\n",
    "Generate a reference trajectory for the cost function. Since we're designing it by hand we'll do something simple. Complete the function below to generate a trajectory that does the following:\n",
    "* 0.0-0.5 sec: Moves linearly from -2 to 0 in x\n",
    "* 0.5-1.0 sec: Moves linearly from 1 to 3 and back to 1 in y. Rotates 360 degrees. No movement in x.\n",
    "* 1.0-1.5 sec: Moves linearly from 0 to 3 in x.\n",
    "\n",
    "The velocities should be consistent with the positions.\n",
    "\n",
    "The trajectory should look like the following:\n",
    "![flip_traj](flip_reference.png)"
   ]
  },
  {
   "cell_type": "code",
   "execution_count": 57,
   "metadata": {},
   "outputs": [
    {
     "data": {
      "text/plain": [
       "flip_reference"
      ]
     },
     "execution_count": 57,
     "metadata": {},
     "output_type": "execute_result"
    }
   ],
   "source": [
    "# TASK: Implement the following method (2 pts)\n",
    "\"\"\"\n",
    "    flip_reference\n",
    "\n",
    "Generate a reference trajectory for the quadrotor that encourages it to do a flip.\n",
    "The trajectory should have a length of 61.\n",
    "\"\"\"\n",
    "function flip_reference()\n",
    "    # TODO: Design the reference trajectory according to the specs above\n",
    "    x1ref = zeros(61)\n",
    "    x2ref = zeros(61)\n",
    "    θref = zeros(61)\n",
    "    v1ref = zeros(61)\n",
    "    v2ref = zeros(61)\n",
    "    ωref = zeros(61)\n",
    "    \n",
    "    xref = [x1ref'; x2ref'; θref'; v1ref'; v2ref'; ωref']\n",
    "    return [SVector{6}(x) for x in eachcol(xref)]\n",
    "end"
   ]
  },
  {
   "cell_type": "code",
   "execution_count": null,
   "metadata": {},
   "outputs": [],
   "source": [
    "# Plot the reference trajectory\n",
    "Xref = flip_reference()\n",
    "p = plot(layout=(1,2))\n",
    "prob.times\n",
    "plot!(p[1], prob.times, Xref, inds=1:3, xlabel=\"time (s)\", labels = [\"px\" \"pz\" \"θ\"], legend=:bottomleft)\n",
    "plot!(p[2], prob.times, Xref, inds=4:6, xlabel=\"time (s)\", labels = [\"vx\" \"vz\" \"ω\"], legend=:bottomleft)"
   ]
  },
  {
   "cell_type": "markdown",
   "metadata": {},
   "source": [
    "Generate a new time-varying objective that tracks the reference trajectory. Check out the types in `quadratic_cost.jl` for some convenient constructors."
   ]
  },
  {
   "cell_type": "code",
   "execution_count": null,
   "metadata": {},
   "outputs": [],
   "source": [
    "# TASK: design the time-varying tracking objective (2 pts)\n",
    "#       save it as the variable obj_flip::Vector{<:QuadraticCost}\n",
    "obj_flip = copy(obj);"
   ]
  },
  {
   "cell_type": "markdown",
   "metadata": {},
   "source": [
    "## Part (d): Optimize the Flip Trajectory (2 pts)\n",
    "Using the reference trajectory and the objective you specified in the previous part, construct a new problem and solve it with your iLQR solver. Use a simple hover trajectory as the initial guess."
   ]
  },
  {
   "cell_type": "code",
   "execution_count": 58,
   "metadata": {},
   "outputs": [],
   "source": [
    "# TASK: Solve for Xflip, Uflip, the optimized trajectories to flip the quadrotor (2 pts)\n",
    "#       Also save the feedback matrices and ctg Hessians as K and P, respectively\n",
    "\n",
    "Xflip, Uflip, K, P = deepcopy(X0), deepcopy(U0), [zeros(m,n) for k = 1:T-1], [zeros(n,n) for k = 1:T];"
   ]
  },
  {
   "cell_type": "code",
   "execution_count": null,
   "metadata": {},
   "outputs": [],
   "source": [
    "render(vis)"
   ]
  },
  {
   "cell_type": "code",
   "execution_count": null,
   "metadata": {},
   "outputs": [],
   "source": [
    "visualize!(vis, model, tf, Xflip)"
   ]
  },
  {
   "cell_type": "markdown",
   "metadata": {},
   "source": [
    "## Part (e): Compare to TVLQR (3 pts)\n",
    "iLQR generates a local linear feedback controller. As we saw in class, the backwardpass in iLQR is basically TVLQR with some extra terms. However, as our trajectory converges to a stationary point, these extra linear terms should go to zero. When iLQR exits, theses local feedback gains should closely match the result out of TVLQR. Using your code from the previous homework, generate a TVLQR solution for the optimized flip trajectory, using the same cost matrices used in your iLQR solver. They should match to reasonable numerical precision."
   ]
  },
  {
   "cell_type": "code",
   "execution_count": null,
   "metadata": {},
   "outputs": [],
   "source": [
    "# TODO: Generate Klqr, Plqr, the feedback and cost-to-go matrices from TVLQR (3 pts)\n",
    "#       to track the optimized flip trajectory\n",
    "\n",
    "Klqr = [zeros(m,n) for k = 1:T-1]\n",
    "Plqr = [zeros(n,n) for k = 1:T];"
   ]
  },
  {
   "cell_type": "code",
   "execution_count": null,
   "metadata": {},
   "outputs": [],
   "source": [
    "@test maximum(norm.(K - Klqr,Inf)) < 1e-3\n",
    "@test maximum(norm.(P - Plqr,Inf)) < 1e-3"
   ]
  },
  {
   "cell_type": "markdown",
   "metadata": {},
   "source": [
    "## Part (f): Closed-Loop Tracking (3 pts)\n",
    "Now that we've seen that the controller generated by iLQR is nearly identical to the TVLQR solution with the same cost matrices, let's use the iLQR gains to track our trajectory, and see how robust it is to wind gusts."
   ]
  },
  {
   "cell_type": "code",
   "execution_count": null,
   "metadata": {},
   "outputs": [],
   "source": [
    "# TODO: Generate two controllers to use in the simulations below: (3 pts)\n",
    "#       1. LQR controller: Should use the time-varying gains from your iLQR solver\n",
    "#       2. Open loop: Should use the control trajectory from your iLQR. No feedback.\n",
    "#       Both controllers should be types that implement the `get_control(ctrl, x, t)` method\n",
    "#       TIP: Feel free to use structs from HW2\n",
    "\n",
    "\"\"\"\n",
    "    LQRController\n",
    "\n",
    "A TVLQR controller that tracks the trajectory specified by `Xref` and `Uref`\n",
    "using the linear feedback gains `K`.\n",
    "\"\"\"\n",
    "struct LQRController\n",
    "    # TODO: add the fields you need\n",
    "end\n",
    "\n",
    "function get_control(ctrl::LQRController, x, t)\n",
    "    # TODO: implement the controller\n",
    "    u = zeros(2)\n",
    "    return u\n",
    "end\n",
    "\n",
    "\"\"\"\n",
    "    OpenLoopController\n",
    "\n",
    "A controller that just applies an open-loop control policy of sending a \n",
    "set trajectory of control values.\n",
    "\"\"\"\n",
    "struct OpenLoopController\n",
    "    # TODO: add the fields you need\n",
    "end\n",
    "\n",
    "function get_control(ctrl::OpenLoopController, x, t)\n",
    "    # TODO: implement the controller\n",
    "    u = zeros(2)\n",
    "    return u\n",
    "end\n",
    "\n",
    "# TODO: Generate controllers\n",
    "lqr = LQRController()\n",
    "openloop = OpenLoopController()\n",
    "\n",
    "@test get_control(lqr, Xflip[1], 0.0) - Uflip[1] ≈ zeros(2)"
   ]
  },
  {
   "cell_type": "code",
   "execution_count": null,
   "metadata": {},
   "outputs": [],
   "source": [
    "render(vis)"
   ]
  },
  {
   "cell_type": "code",
   "execution_count": null,
   "metadata": {},
   "outputs": [],
   "source": [
    "# Simulate with LQR\n",
    "Xlqr, Ulqr, tlqr = simulate(prob.model, Xflip[1], lqr)\n",
    "visualize!(vis, model, tlqr[end], Xlqr)"
   ]
  },
  {
   "cell_type": "code",
   "execution_count": null,
   "metadata": {},
   "outputs": [],
   "source": [
    "# Simulate with open-loop controls\n",
    "Xopen, Uopen, topen = simulate(model, Xflip[1], openloop)\n",
    "visualize!(vis, model, topen[end], Xopen)"
   ]
  },
  {
   "cell_type": "code",
   "execution_count": null,
   "metadata": {},
   "outputs": [],
   "source": [
    "# Plot the trajectories\n",
    "traj2(Xflip, label=\"ref\")\n",
    "traj2!(Xlqr, label=\"lqr\")\n",
    "traj2!(Xopen, label=\"open\", ylabel=\"z\")"
   ]
  },
  {
   "cell_type": "markdown",
   "metadata": {},
   "source": [
    "## Tests"
   ]
  },
  {
   "cell_type": "markdown",
   "metadata": {},
   "source": [
    "run_tests();"
   ]
  },
  {
   "cell_type": "markdown",
   "metadata": {},
   "source": [
    "## EXTRA CREDIT\n",
    "If we plot the controls for the flip trajectory (shown below), you'll notice that the controls go negative, which is unrealistic for most quadrotors. Find a way to ensure that the inputs don't go negative while executing the flip trajectory."
   ]
  },
  {
   "cell_type": "code",
   "execution_count": null,
   "metadata": {},
   "outputs": [],
   "source": [
    "plot(prob.times[1:end-1], Uflip, xlabel=\"time (s)\", ylabel=\"controls\", label=[\"u₁\" \"u₂\"])"
   ]
  }
 ],
 "metadata": {
  "kernelspec": {
   "display_name": "Julia 1.5.3",
   "language": "julia",
   "name": "julia-1.5"
  },
  "language_info": {
   "file_extension": ".jl",
   "mimetype": "application/julia",
   "name": "julia",
   "version": "1.5.3"
  }
 },
 "nbformat": 4,
 "nbformat_minor": 4
}
