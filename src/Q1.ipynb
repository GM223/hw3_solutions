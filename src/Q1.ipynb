{
 "cells": [
  {
   "cell_type": "code",
   "execution_count": null,
   "metadata": {},
   "outputs": [],
   "source": [
    "import Pkg; Pkg.activate(joinpath(@__DIR__,\"..\")); \n",
    "Pkg.instantiate()\n",
    "using ForwardDiff\n",
    "using Test\n",
    "using RobotZoo: PlanarQuadrotor\n",
    "using RobotDynamics\n",
    "using LinearAlgebra\n",
    "using StaticArrays\n",
    "using Statistics\n",
    "using Plots\n",
    "using Printf\n",
    "using JLD2\n",
    "const jldir = joinpath(dirname(@__DIR__),\"test\")\n",
    "\n",
    "const FD = ForwardDiff;\n",
    "\n",
    "# test_dict = Dict()\n",
    "test_dict = load(joinpath(jldir,\"q1.jld2\"))\n",
    "\n",
    "const isautograder = @isdefined autograder\n",
    "\n",
    "include(\"quadrotor.jl\");"
   ]
  },
  {
   "cell_type": "markdown",
   "metadata": {},
   "source": [
    "# Question 1: Iterative LQR (50 pts)\n",
    "In this problem you'll implement iterative LQR (ilQR), the Gauss-Newton approximation of differential dynamic programming (DDP). You'll use it to generate trajectories for a planar quadrotor, including a flip. In the last part of the problem, you'll track the trajectory to make it robust to wind.\n",
    "\n",
    "## The Model\n",
    "We'll be using the same planar quadrotor model we saw in class. The dynamics are fairly simple:\n",
    "\n",
    "$$ \n",
    "x = \\begin{bmatrix} p_x \\\\ p_z \\\\ \\theta \\\\ v_x \\\\ v_z \\\\ \\omega \\end{bmatrix}, \\quad\n",
    "\\dot{x} = \\begin{bmatrix} v_x \\\\ v_z \\\\ \\omega \\\\ \n",
    "\\frac{1}{m} (u_1 + u_2) \\sin{\\theta} \\\\\n",
    "\\frac{1}{m} (u_1 + u_2) \\cos{\\theta} - g \\\\\n",
    "\\frac{l}{J} (u_2 - u_1) \n",
    "\\end{bmatrix}\n",
    "$$\n",
    "with the following model parameters:\n",
    "* $m$: mass (kg)\n",
    "* $J$: moment of inertia\n",
    "* $l$: distance between motors"
   ]
  },
  {
   "cell_type": "code",
   "execution_count": null,
   "metadata": {},
   "outputs": [],
   "source": [
    "model = PlanarQuadrotor()\n",
    "const x0    = [-3, 1.0, 0, 0, 0, 0]                    # initial state\n",
    "const xgoal = [+3, 1.0, 0, 0, 0, 0]                    # goal state\n",
    "const nx = 6 \n",
    "const nu = 2\n",
    "const uhover = fill(0.5*1.0 * 9.81, nu) \n",
    "\n",
    "const Q = Diagonal(([ones(3) ; fill(0.1, 3)]))\n",
    "const R = Diagonal(fill(1e-2, nu))\n",
    "const Qf = Diagonal(fill(1e2, nx));\n",
    "\n",
    "const dt = 0.025 \n",
    "const N = 61"
   ]
  },
  {
   "cell_type": "markdown",
   "metadata": {},
   "source": [
    "Use these functions to evaluate the continuous and discrete dynamics, as well as the discrete dynamics Jacobians."
   ]
  },
  {
   "cell_type": "code",
   "execution_count": null,
   "metadata": {},
   "outputs": [],
   "source": [
    "\"\"\"\n",
    "Calculate the continuous time dynamics ẋ = f(x,u), x is a vector of length 6, u is a vector of length 2.\n",
    "\n",
    "returns ẋ\n",
    "\"\"\"\n",
    "\n",
    "function dynamics(x,u)\n",
    "    # planar quadrotor dynamics\n",
    "    \n",
    "    # parameters\n",
    "    mass = 1.0 \n",
    "    g = 9.81\n",
    "    ℓ = 0.3 \n",
    "    J = 0.2*mass*ℓ^2\n",
    "\n",
    "     # unpack state\n",
    "    px,pz,θ,vx,vz,ω = x    \n",
    "    return [vx,vz,ω,(1/mass)*(u[1] + u[2])*sin(θ), (1/mass)*(u[1] + u[2])*cos(θ) - g, (ℓ/(2*J))*(u[2]-u[1])]\n",
    "end\n",
    "\n",
    "\"\"\"\n",
    "Integrates the dynamics ODE 1 dt forward, x_{k+1} = rk4(x_k,u_k,dt).\n",
    "\n",
    "returns x_{k+1}\n",
    "\"\"\"\n",
    "function rk4(x,u,dt)\n",
    "    # rk4 for integration\n",
    "    k1 = dt*dynamics(x,u)\n",
    "    k2 = dt*dynamics(x + k1/2,u)\n",
    "    k3 = dt*dynamics(x + k2/2,u)\n",
    "    k4 = dt*dynamics(x + k3,u)\n",
    "    return x + (1/6)*(k1 + 2*k2 + 2*k3 + k4)\n",
    "end\n",
    "\n",
    "\"\"\"\n",
    "uses forward diff to get the following jacobians of the above discrete dynamics function (rk4):\n",
    "drk4/dx = A \n",
    "drk4/du = B\n",
    "\"\"\"\n",
    "function dynamics_jacobians(x,u,dt)\n",
    "    # returns the discrete time dynamics jacobians\n",
    "    A = FD.jacobian(_x -> rk4(_x,u,dt),x)\n",
    "    B = FD.jacobian(_u -> rk4(x,_u,dt),u)\n",
    "    return A,B\n",
    "end"
   ]
  },
  {
   "cell_type": "markdown",
   "metadata": {},
   "source": [
    "# Part (a): Implement iLQR (30 pts)"
   ]
  },
  {
   "cell_type": "markdown",
   "metadata": {},
   "source": [
    "## LQR Cost Function (5 pts)\n",
    "Here you will create functions for calculating the costs of states/controls as well as whole trajectories. \n",
    "\n",
    "The objective / cost function for our optimization problem is of the following form:\n",
    "\n",
    "$$\\ell(x_{1:N}, u_{1:N-1}) = J_N(x_N) + \\sum_{i=1}^{N-1} J(x_k,u_k) $$\n",
    "\n",
    "Where the *stage cost* $J(x_k,u_k)$ is defined as:\n",
    "\n",
    "$$J(x,u) = \\frac{1}{2}(x - x_{ref})^TQ(x - x_{ref}) + \\frac{1}{2}(u -u_{ref})^TR(u-u_{ref})$$\n",
    "\n",
    "And the *terminal cost* is\n",
    "\n",
    "$$J_N(x) = \\frac{1}{2}(x - x_{ref})^TQ_f(x - x_{ref})$$\n",
    "\n",
    "These cost functions penalize distance from a given reference trajectory. Quadratic cost functions of this form are often referred to as LQR costs."
   ]
  },
  {
   "cell_type": "code",
   "execution_count": null,
   "metadata": {},
   "outputs": [],
   "source": [
    "# TASK: Fill out the following methods (10 pts)\n",
    "\n",
    "function stage_cost(x,u,xref,uref)\n",
    "    # LQR cost at each knot point (depends on both x and u)\n",
    "    J = 0.0\n",
    "    \n",
    "    return J\n",
    "end\n",
    "\n",
    "function term_cost(x,xref)\n",
    "    # LQR terminal cost (depends on just x)\n",
    "    J = 0.0 \n",
    "    \n",
    "    return J\n",
    "end\n",
    "\n",
    "function trajectory_cost(X,U,Xref,Uref)\n",
    "    # calculate the cost of a given trajectory \n",
    "    J = 0.0\n",
    "    \n",
    "    return J\n",
    "end\n",
    "        \n",
    "function stage_cost_expansion(x,u,xref,uref)\n",
    "    # if the stage cost function is J, return the following derivatives:\n",
    "    # ∇²ₓJ,  ∇ₓJ, ∇²ᵤJ, ∇ᵤJ\n",
    "    Jxx = zeros(nx,nx)\n",
    "    Jx = zeros(nx)\n",
    "    Juu = zeros(nu,nu)\n",
    "    Ju = zeros(nu)\n",
    "    \n",
    "    return Jxx, Jx, Juu, Ju\n",
    "end\n",
    "\n",
    "function term_cost_expansion(x,xref)\n",
    "    # if the terminal cost function is J, return the following derivatives:\n",
    "    # ∇²ₓJ,  ∇ₓJ\n",
    "    Jxx = zeros(nx,nx)\n",
    "    Jx = zeros(nx)\n",
    "    \n",
    "    return Jxx, Jx\n",
    "end"
   ]
  },
  {
   "cell_type": "code",
   "execution_count": null,
   "metadata": {},
   "outputs": [],
   "source": [
    "using Random\n",
    "@testset \"cost tests\" begin                                                             # POINTS = 5\n",
    "\n",
    "    Xref = [copy(xgoal) for i = 1:N]\n",
    "    Uref = [copy(uhover) for i = 1:N-1]\n",
    "    \n",
    "    X = [copy(x0) for i = 1:N]\n",
    "    U = deepcopy(Uref)\n",
    "    \n",
    "    # costs \n",
    "    J1 = stage_cost(X[1],U[1],Xref[1],Uref[1])\n",
    "    J2 = term_cost(X[N],Xref[N])\n",
    "    J3 = trajectory_cost(X,U,Xref,Uref)\n",
    "    \n",
    "    @test stage_cost(X[1],U[1],Xref[1],Uref[1]) ≈  test_dict[\"J1\"] atol = 1e-10        # POINTS = 0.5\n",
    "    @test term_cost(X[N],Xref[N]) ≈ test_dict[\"J2\"]  atol = 1e-10                      # POINTS = 0.5\n",
    "    @test trajectory_cost(X,U,Xref,Uref) ≈ test_dict[\"J3\"] atol = 1e-8                 # POINTS = 0.5\n",
    "    \n",
    "    # cost derivatives\n",
    "    Jxx, Jx, Juu, Ju = stage_cost_expansion(X[4],U[4],Xref[4],Uref[4])                 # POINTS = 1\n",
    "    \n",
    "    @test vec(Jxx) ≈ vec(test_dict[\"Jxx\"]) atol =1e-10                                 # POINTS = 0.5\n",
    "    @test Jx ≈ test_dict[\"Jx\"] atol = 1e-8                                             # POINTS = 0.5\n",
    "    @test vec(Juu) ≈ vec(0.01*I(nu)) atol = 1e-8                                       # POINTS = 0.5\n",
    "    @test Ju ≈ test_dict[\"Ju\"] atol = 1e-8\n",
    "    \n",
    "    Jxx2, Jx2 = term_cost_expansion(X[8],Xref[8])\n",
    "    \n",
    "    @test vec(Jxx2) ≈ vec(test_dict[\"Jxx2\"]) atol = 1e-8                               # POINTS = 0.5\n",
    "    @test Jx2 ≈ vec(test_dict[\"Jx2\"]) atol = 1e-8;                                     # POINTS = 0.5\n",
    "\n",
    "end;"
   ]
  },
  {
   "cell_type": "markdown",
   "metadata": {},
   "source": [
    "## Backward Pass (10 pts)\n",
    "You will now implement the backwards pass of iLQR. Remember that iLQR has two parts, a backward pass and a forward pass.  The backward pass is where feedforward controls `d` and feedback gains `K` are solved for. \n",
    "\n",
    "Hint: initialize $\\Delta J$ as 0, and during each step of the backwards pass, add $g_u^Td_k$ to it. "
   ]
  },
  {
   "cell_type": "code",
   "execution_count": null,
   "metadata": {},
   "outputs": [],
   "source": [
    "\"\"\"\n",
    "backward pass for iLQR. Inputs are \n",
    "    X - current trajectory              Vector{Vector}\n",
    "    U - current control                 Vector{Vector}\n",
    "    Xref - trajectory we want to track  Vector{Vector}\n",
    "    Uref - control we want to track     Vector{Vector}\n",
    "\n",
    "We will perform the backwards recursion without any regularization. Store the expected cost \n",
    "decrease in ΔJ and return the following \n",
    "    d - feedforward control             Vector{Vector}\n",
    "    K - feedback gain matrices          Vector{Matrix}\n",
    "    P - cost to go quadratic term       Vector{Matrix}\n",
    "    ΔJ - expected cost decrease         Float\n",
    "\"\"\"\n",
    "\n",
    "function backward_pass(X,U,Xref,Uref)\n",
    "\n",
    "    # allocate all our data\n",
    "    P = [zeros(nx,nx) for i = 1:N]     # cost to go quadratic term\n",
    "    p = [zeros(nx) for i = 1:N]        # cost to go linear term \n",
    "    d = [zeros(nu)*NaN for i = 1:N-1]  # feedforward control\n",
    "    K = [zeros(nu,nx) for i = 1:N-1]   # feedback gain\n",
    "    ΔJ = NaN                           # expected cost decrease\n",
    "    \n",
    "    return d, K, P, ΔJ\n",
    "end"
   ]
  },
  {
   "cell_type": "code",
   "execution_count": null,
   "metadata": {},
   "outputs": [],
   "source": [
    "@testset \"backward pass\" begin                       # POINTS = 10\n",
    "    \n",
    "    X = test_dict[\"X\"]\n",
    "    U = test_dict[\"U\"]\n",
    "    Xref = test_dict[\"Xref\"]\n",
    "    Uref = test_dict[\"Uref\"]\n",
    "    \n",
    "    d, K, P, ΔJ = backward_pass(X,U,Xref,Uref)\n",
    "    \n",
    "    @test d ≈ test_dict[\"d\"] atol=1e-6              # POINTS = 3\n",
    "    @test K ≈ test_dict[\"K\"] atol=1e-6              # POINTS = 3\n",
    "    @test P ≈ test_dict[\"P\"] atol=1e-6              # POINTS = 2\n",
    "    @test ΔJ ≈ test_dict[\"ΔJ\"] atol = 1e-3          # POINTS = 2\n",
    "    \n",
    "end;\n",
    "    "
   ]
  },
  {
   "cell_type": "markdown",
   "metadata": {},
   "source": [
    "## Forward Pass (10 pts)\n",
    "Next we will build out forward pass function. This is where we do a forward simulation with the new `d` and `K`'s from the backwards pass, and do a backtracking line search on $\\alpha$ to ensure we see a neccessary decrease. During our linesearch, we accept our new trajectory/control if the following Armijo condition is satsified:\n",
    "\n",
    "$$ J_n < J - 0.01\\alpha\\Delta J$$"
   ]
  },
  {
   "cell_type": "code",
   "execution_count": null,
   "metadata": {},
   "outputs": [],
   "source": [
    "function forward_pass(X,U,Xref,Uref,K,d,ΔJ; max_linesearch_iters = 10)\n",
    "    \n",
    "    Xn = deepcopy(X)\n",
    "    Un = deepcopy(U)\n",
    "    Jn = NaN\n",
    "    α = NaN\n",
    "        \n",
    "    return Xn, Un, Jn, α\n",
    "end"
   ]
  },
  {
   "cell_type": "code",
   "execution_count": null,
   "metadata": {},
   "outputs": [],
   "source": [
    "@testset \"forward pass\" begin                              # POINTS = 10\n",
    "    \n",
    "    Xref = [copy(xgoal) for i = 1:N]\n",
    "    Uref = [copy(uhover) for i = 1:N-1]\n",
    "    \n",
    "    X = [copy(x0) for i = 1:N]\n",
    "    U = deepcopy(Uref)\n",
    "    \n",
    "    d, K, P, ΔJ = backward_pass(X,U,Xref,Uref)\n",
    "    \n",
    "    Xn, Un, Jr, α = forward_pass(X,U,Xref,Uref,K,d,ΔJ)\n",
    "    \n",
    "    @test Xn ≈ test_dict[\"Xn\"] atol=1e-6                  # POINTS = 4\n",
    "    @test Un ≈ test_dict[\"Un\"] atol=1e-6                  # POINTS = 2\n",
    "    @test Jr ≈ test_dict[\"Jr\"] atol = 1e-6                # POINTS = 2\n",
    "    @test α ≈ test_dict[\"α\"]  atol = 1e-6                 # POINTS = 2\n",
    "    \n",
    "end;"
   ]
  },
  {
   "cell_type": "markdown",
   "metadata": {},
   "source": [
    "## iLQR Algorithm (5 pts)\n",
    "Now we are going to put it all together, we are given an initial condition `x0` and an unitial control input history `U`, and a reference trajectory `Xref` and `Uref`. We will start by doing a forward simulation starting from `x0` using `U` as the control input, creating `X`. Then we will start our main loop. In each iteartion, we do the following:\n",
    "\n",
    "- backward pass \n",
    "- check termination criteria \n",
    "- forward pass \n"
   ]
  },
  {
   "cell_type": "code",
   "execution_count": null,
   "metadata": {},
   "outputs": [],
   "source": [
    "\"\"\"\n",
    "iLQR will combine the backward and forward passes for the complete iLQR algorithm. We will classify \n",
    "convergence as when the maximum norm of each feedforward control input in d is below atol. (this is given)\n",
    "\n",
    "inputs:\n",
    "    x0 - initial condition Vector\n",
    "    U - initial control history Vector{Vector}\n",
    "    Xref - reference trajectory we are trying to track Vector{Vector}\n",
    "    Uref - reference controls we are trying to track Vector{Vector}\n",
    "\n",
    "outputs:\n",
    "    X - optimal trajectory Vector{Vector}\n",
    "    U - optimal control trajectory Vector{Vector}\n",
    "    K - feedback gain matrices Vector{Matrix}\n",
    "    P - cost to go hessians Vector{Matrix}\n",
    "    iter - iterations it took to converge Int\n",
    "\"\"\"\n",
    "function iLQR(x0,U,Xref,Uref;atol=1e-5,max_iters = 100,verbose = true)\n",
    "    \n",
    "    # inital logging stuff \n",
    "    if isautograder\n",
    "        verbose = false\n",
    "    end\n",
    "    if verbose\n",
    "        @printf \"iter     J           ΔJ        |d|         α\\n\"\n",
    "        @printf \"-----------------------------------------------\\n\"\n",
    "    end\n",
    "    X = [zeros(nx)*NaN for i = 1:N]\n",
    "    U = [u * NaN for u in U]\n",
    "    K = [zeros(nu,nx)*NaN for i = 1:N-1]\n",
    "    P = [zeros(nx,nx)*NaN for i = 1:N]\n",
    "    iter = -1\n",
    "\n",
    "    return X,U,K,P,iter\n",
    "\n",
    "end\n",
    "        "
   ]
  },
  {
   "cell_type": "markdown",
   "metadata": {},
   "source": [
    "## Part (b): Simple trajectory (5 pts)\n",
    "Use your iLQR solver to move the quadrotor from the initial state to the goal state."
   ]
  },
  {
   "cell_type": "code",
   "execution_count": null,
   "metadata": {},
   "outputs": [],
   "source": [
    "# reference trajectory (we just want to track the goal state and hover control)\n",
    "Xrefline = [copy(xgoal) for i = 1:N]\n",
    "Urefline = [copy(uhover) for i = 1:N-1]\n",
    "\n",
    "# call iLQR\n",
    "Xline,Uline,Kline,Pline, iterline = iLQR(x0,Urefline,Xrefline,Urefline);"
   ]
  },
  {
   "cell_type": "code",
   "execution_count": null,
   "metadata": {},
   "outputs": [],
   "source": [
    "@testset \"iLQR\" begin                                                     # POINTS = 10\n",
    "    @test trajectory_cost(Xline,Uline,Xrefline,Urefline) <4.8e2           # POINTS = 1\n",
    "    @test iterline < 50                                                   # POINTS = 1                      \n",
    "    @test iterline > 30                                                   # POINTS = 1\n",
    "    @test norm(Xline[end] - xgoal) < 0.2                                  # POINTS = 1\n",
    "    @test maximum(maximum.(Uline)) < 40                                   # POINTS = 1\n",
    "    @test maximum(maximum.(Uline)) > 30                                   # POINTS = 1\n",
    "    @test minimum(minimum.(Uline)) < -30                                  # POINTS = 1\n",
    "    @test minimum(minimum.(Uline)) > -40                                  # POINTS = 1\n",
    "    \n",
    "    d, K, P, ΔJ = backward_pass(Xline,Uline,Xrefline,Urefline)\n",
    "    \n",
    "    @test ΔJ < 1e-4                                                       # POINTS = 1\n",
    "    @test maximum(norm.(d)) < 1e-3                                        # POINTS = 1\n",
    "end;"
   ]
  },
  {
   "cell_type": "code",
   "execution_count": null,
   "metadata": {},
   "outputs": [],
   "source": [
    "if !isautograder\n",
    "    vis = Visualizer()\n",
    "    set_mesh!(vis, model)\n",
    "    render(vis)\n",
    "end"
   ]
  },
  {
   "cell_type": "code",
   "execution_count": null,
   "metadata": {},
   "outputs": [],
   "source": [
    "isautograder || visualize!(vis, model, dt*(N-1), Xline)"
   ]
  },
  {
   "cell_type": "markdown",
   "metadata": {},
   "source": [
    "## Part (c): Generate Cost function for Flip (5 pts)\n",
    "Now that we have a working iLQR solver, let's do something more interesting than just getting it to fly in a straight line. Let's do a flip!\n",
    "\n",
    "Generate a reference trajectory for the cost function. Since we're designing it by hand we'll do something simple. Complete the function below to generate a trajectory that does the following:\n",
    "* 0.0-0.5 sec: Moves linearly from -3 to 0 in x, $p_z=1$, $\\omega=0$\n",
    "* 0.5-1.0 sec: Moves linearly from 1 to 3 and back to 1 in z. $\\theta$ goes from 0 to -2$\\pi$. No movement in x.\n",
    "* 1.0-1.5 sec: Moves linearly from 0 to 3 in x.\n",
    "\n",
    "The velocities should be consistent with the positions and the changes between phases should happen at all the same indices as the positions.\n",
    "\n",
    "The trajectory should look like the following:\n",
    "![flip_traj](flip_reference.png)"
   ]
  },
  {
   "cell_type": "code",
   "execution_count": null,
   "metadata": {},
   "outputs": [],
   "source": [
    "# TASK: Implement the following method\n",
    "\"\"\"\n",
    "    flip_reference\n",
    "\n",
    "Generate a reference trajectory for the quadrotor that encourages it to do a flip.\n",
    "The trajectory should have a length of 61.\n",
    "\n",
    "hint: LinRange is a good function to use\n",
    "        `LinRange(start,stop,length)`\n",
    "\n",
    "hint: you can break up the time indexing like this:\n",
    "    0    - 0.5  sec: indices 1:20\n",
    "    0.5  - 0.75 sec: indices 21:30\n",
    "    0.75 - 1.0  sec: indices 31:40\n",
    "    1.0  - 1.5  sec: indices 41:61\n",
    "\n",
    "You should plot your reference trajectory to ensure it looks like the given plot.\n",
    "\"\"\"\n",
    "function flip_reference()\n",
    "    # TODO: Design the reference trajectory according to the specs above\n",
    "    x1ref = zeros(61)*NaN\n",
    "    x2ref = zeros(61)*NaN\n",
    "    θref = zeros(61)*NaN\n",
    "    v1ref = zeros(61)*NaN\n",
    "    v2ref = zeros(61)*NaN\n",
    "    ωref = zeros(61)*NaN\n",
    "    \n",
    "    xref = [x1ref'; x2ref'; θref'; v1ref'; v2ref'; ωref']\n",
    "    return [x for x in eachcol(xref)]\n",
    "end"
   ]
  },
  {
   "cell_type": "code",
   "execution_count": null,
   "metadata": {},
   "outputs": [],
   "source": [
    "# Plot the reference trajectory and compare with the given plot\n",
    "Xref = flip_reference()\n",
    "\n",
    "# convert to static arrays and plot\n",
    "Xref = [SVector{6}(Xref[i]) for i = 1:length(Xref)]\n",
    "if !isautograder\n",
    "    p = plot(layout=(1,2))\n",
    "    plot!(p[1], 0:dt:(N-1)*dt, Xref, inds=1:3, xlabel=\"time (s)\", labels = [\"px\" \"pz\" \"θ\"], legend=:bottomleft)\n",
    "    plot!(p[2], 0:dt:(N-1)*dt, Xref, inds=4:6, xlabel=\"time (s)\", labels = [\"vx\" \"vz\" \"ω\"], legend=:bottomleft)\n",
    "end"
   ]
  },
  {
   "cell_type": "code",
   "execution_count": null,
   "metadata": {},
   "outputs": [],
   "source": [
    "@testset \"flip reference\" begin                            # POINTS = 5\n",
    "    Xref_ = flip_reference()\n",
    "    @test length(Xref_) == 61                              # POINTS = 0.5\n",
    "    Xref_ = hcat(Vector.(Xref_)...)\n",
    "    @test mean(diff(Xref_[1,1:21])) ≈ 3/20 atol=1e-1       # POINTS = 0.5\n",
    "    @test mean(Xref_[4,1:20]) ≈ 6.0 atol=1e-1              # POINTS = 0.5\n",
    "    @test mean(Xref_[1,21:40]) ≈ 0 atol=1e-1               # POINTS = 0.5 \n",
    "    @test mean(diff(Xref_[1,41:end])) ≈ 3/20 atol=1e-1     # POINTS = 0.5\n",
    "    @test mean(Xref_[4,41:end]) ≈ 6.0 atol=1e-1            # POINTS = 0.5\n",
    "\n",
    "    @test Xref_[3,1] ≈ 0 atol=1e-6                         # POINTS = 0.5\n",
    "    @test Xref_[3,end] ≈ -2pi atol = 1e-6                  # POINTS = 0.5\n",
    "    @test std(diff(Xref_[6,21:40])) < 0.1                  # POINTS = 0.5\n",
    "    @test std(diff(Xref_[4,21:40])) < 0.1                  # POINTS = 0.5\n",
    "end;"
   ]
  },
  {
   "cell_type": "markdown",
   "metadata": {},
   "source": [
    "## Part (d): Optimize the Flip Trajectory (2 pts)\n",
    "Using the reference trajectory and the objective you specified in the previous part, construct a new problem and solve it with your iLQR solver. Use a simple hover trajectory as the initial guess."
   ]
  },
  {
   "cell_type": "code",
   "execution_count": null,
   "metadata": {},
   "outputs": [],
   "source": [
    "# TODO: Solve for Xflip, Uflip, the optimized trajectories to flip the quadrotor\n",
    "\n",
    "Uref = [copy(uhover) for i = 1:N-1]\n",
    "Xflip,Uflip,Kflip,Pflip,iterflip = iLQR(x0,Uref,Xref,Uref);"
   ]
  },
  {
   "cell_type": "code",
   "execution_count": null,
   "metadata": {},
   "outputs": [],
   "source": [
    "isautograder || render(vis)"
   ]
  },
  {
   "cell_type": "code",
   "execution_count": null,
   "metadata": {},
   "outputs": [],
   "source": [
    "isautograder || visualize!(vis, model, dt*(N-1), Xflip)"
   ]
  },
  {
   "cell_type": "code",
   "execution_count": null,
   "metadata": {},
   "outputs": [],
   "source": [
    "@testset \"Flip trajectory\" begin                                # POINTS = 2\n",
    "    @test minimum([abs(rad2deg(x[3])+180) for x in Xflip]) < 5  # POINTS = 1\n",
    "    d, K, P, ΔJ = backward_pass(Xflip,Uflip,Xref,Uref)\n",
    "    @test norm(d, Inf) < 1e-5                                   # POINTS = 1\n",
    "end;"
   ]
  },
  {
   "cell_type": "markdown",
   "metadata": {},
   "source": [
    "## Part (e): Compare to TVLQR (3 pts)\n",
    "iLQR generates a local linear feedback controller. As we saw in class, the backwardpass in iLQR is basically TVLQR with some extra terms. However, as our trajectory converges to a stationary point, these extra linear terms should go to zero. When iLQR exits, theses local feedback gains should closely match the result out of TVLQR. Using your code from the previous homework, generate a TVLQR solution for the optimized flip trajectory, using the same cost matrices used in your iLQR solver. They should match to reasonable numerical precision."
   ]
  },
  {
   "cell_type": "code",
   "execution_count": null,
   "metadata": {},
   "outputs": [],
   "source": [
    "# TODO: Generate Klqr, Plqr, the feedback and cost-to-go matrices from TVLQR\n",
    "#       to track the optimized flip trajectory\n",
    "\n",
    "Klqr = deepcopy(Kflip) .* NaN\n",
    "Plqr = deepcopy(Pflip) .* NaN\n"
   ]
  },
  {
   "cell_type": "code",
   "execution_count": null,
   "metadata": {},
   "outputs": [],
   "source": [
    "@testset \"TVLQR vs iLQR\" begin                      # POINTS = 3\n",
    "    @test maximum(norm.(Kflip - Klqr,Inf)) < 1e-3   # POINTS = 2\n",
    "    @test maximum(norm.(Pflip - Plqr,Inf)) < 1e-3   # POINTS = 1\n",
    "end;"
   ]
  },
  {
   "cell_type": "markdown",
   "metadata": {},
   "source": [
    "## Part (f): Closed-Loop Tracking (5 pts)\n",
    "Now that we've seen that the controller generated by iLQR is nearly identical to the TVLQR solution with the same cost matrices, let's use the iLQR gains to track our trajectory, and see how robust it is to wind gusts. We will produce this noise in the following way:\n",
    "\n",
    "$$x_{k+1} = \\operatorname{rk4}(x_k,u_k,dt) + [0,0,0,0.1\\cdot\\operatorname{randn}(3)]$$\n",
    "\n",
    "**NOTE** This is a pretty simple approximation of disturbances like wind. A better way to do this would be to inject external forces directly into the continuous dynamics."
   ]
  },
  {
   "cell_type": "code",
   "execution_count": null,
   "metadata": {},
   "outputs": [],
   "source": [
    "using Random\n",
    "\"\"\"\n",
    "function for simulating with noise \n",
    "\n",
    "inputs:\n",
    "    x0 - initial condition \n",
    "    Xflip - optimal flip trajectory from iLQR \n",
    "    Uflip - optimal flip control from iLQR \n",
    "    Kflip - feedback gain matrices from iLQR\n",
    "    open_loop - bool, if true, use only Uflip as control, if false, use the feedback gain as well \n",
    "\n",
    "outputs:\n",
    "    X - simulated X\n",
    "    U - simulated U \n",
    "\"\"\"\n",
    "function simulate_with_noise(x0,Xflip,Uflip,Kflip,open_loop)\n",
    "    \n",
    "    X = [zeros(nx) for i = 1:N]\n",
    "    U = [zeros(nu) for i = 1:N-1]\n",
    "    X[1] = copy(x0)\n",
    "    \n",
    "    Random.seed!(1)\n",
    "    \n",
    "    # TODO: simulate with added noise from wind \n",
    "    # use open_loop to determine what control you should apply \n",
    "\n",
    "    return X,U\n",
    "end\n",
    "\n",
    "\n",
    "Xlqr,Ulqr = simulate_with_noise(x0,Xflip,Uflip,Kflip,false);\n",
    "Xopen,Uopen = simulate_with_noise(x0,Xflip,Uflip,Kflip,true);"
   ]
  },
  {
   "cell_type": "code",
   "execution_count": null,
   "metadata": {},
   "outputs": [],
   "source": [
    "isautograder || render(vis)"
   ]
  },
  {
   "cell_type": "code",
   "execution_count": null,
   "metadata": {},
   "outputs": [],
   "source": [
    "# Simulate with LQR\n",
    "isautograder || visualize!(vis, model, dt*(N-1), Xlqr)"
   ]
  },
  {
   "cell_type": "code",
   "execution_count": null,
   "metadata": {},
   "outputs": [],
   "source": [
    "isautograder || visualize!(vis, model, dt*(N-1), Xopen)"
   ]
  },
  {
   "cell_type": "code",
   "execution_count": null,
   "metadata": {},
   "outputs": [],
   "source": [
    "# Plot the trajectories\n",
    "Xflip = SVector{nx}.(Xflip)\n",
    "Xlqr = SVector{nx}.(Xlqr)\n",
    "Xopen = SVector{nx}.(Xopen)\n",
    "if !isautograder\n",
    "    traj2(Xflip, label=\"ref\")\n",
    "    traj2!(Xlqr, label=\"lqr\")\n",
    "    traj2!(Xopen, label=\"open\", ylabel=\"z\")\n",
    "end"
   ]
  },
  {
   "cell_type": "code",
   "execution_count": null,
   "metadata": {},
   "outputs": [],
   "source": [
    "@testset \"open loop vs closed loop\" begin                                  # POINTS = 5\n",
    "    @test norm(Xflip[end][1:2] - Xlqr[end][1:2]) < 0.5                     # POINTS = 3\n",
    "    @test norm(Xflip[end] - Xlqr[end]) < norm(Xflip[end] - Xopen[end])     # POINTS = 2\n",
    "end;"
   ]
  }
 ],
 "metadata": {
  "@webio": {
   "lastCommId": null,
   "lastKernelId": null
  },
  "kernelspec": {
   "display_name": "Julia 1.6.5",
   "language": "julia",
   "name": "julia-1.6"
  },
  "language_info": {
   "file_extension": ".jl",
   "mimetype": "application/julia",
   "name": "julia",
   "version": "1.6.5"
  }
 },
 "nbformat": 4,
 "nbformat_minor": 4
}
