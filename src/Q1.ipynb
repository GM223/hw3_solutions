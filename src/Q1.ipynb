{
 "cells": [
  {
   "cell_type": "code",
   "execution_count": 1,
   "metadata": {},
   "outputs": [
    {
     "name": "stderr",
     "output_type": "stream",
     "text": [
      "\u001b[32m\u001b[1m  Activating\u001b[22m\u001b[39m environment at `~/devel/optimal_control/hw3_solutions/Project.toml`\n"
     ]
    }
   ],
   "source": [
    "import Pkg; Pkg.activate(joinpath(@__DIR__,\"..\")); \n",
    "Pkg.instantiate()\n",
    "using ForwardDiff\n",
    "using Test\n",
    "# using RobotZoo: PlanarQuadrotor\n",
    "# using RobotDynamics\n",
    "# using LinearAlgebra\n",
    "# using StaticArrays\n",
    "# using SparseArrays\n",
    "# using Plots\n",
    "# using Printf\n",
    "\n",
    "# include(\"quadratic_cost.jl\")\n",
    "# include(\"quadrotor.jl\")"
   ]
  },
  {
   "cell_type": "markdown",
   "metadata": {},
   "source": [
    "# Question 1: Iterative LQR (50 pts)\n",
    "In this problem you'll implement iterative LQR (ilQR), the Gauss-Newton approximation of differential dynamic programming (DDP). You'll use it to generate trajectories for a planar quadrotor, including a flip. In the last part of the problem, you'll track the trajectory to make it robust to wind.\n",
    "\n",
    "## The Model\n",
    "We'll be using the same planar quadrotor model we saw in class. The dynamics are fairly simple:\n",
    "\n",
    "$$ \n",
    "x = \\begin{bmatrix} p_x \\\\ p_z \\\\ \\theta \\\\ v_x \\\\ v_z \\\\ \\omega \\end{bmatrix}, \\quad\n",
    "\\dot{x} = \\begin{bmatrix} v_x \\\\ v_z \\\\ \\omega \\\\ \n",
    "\\frac{1}{m} (u_1 + u_2) \\sin{\\theta} \\\\\n",
    "\\frac{1}{m} (u_1 + u_2) \\cos{\\theta} - g \\\\\n",
    "\\frac{l}{J} (u_2 - u_1) \n",
    "\\end{bmatrix}\n",
    "$$\n",
    "with the following model parameters:\n",
    "* $m$: mass (kg)\n",
    "* $J$: moment of inertia\n",
    "* $l$: distance between motors"
   ]
  },
  {
   "cell_type": "code",
   "execution_count": 68,
   "metadata": {},
   "outputs": [
    {
     "data": {
      "text/plain": [
       "dynamics_jacobians (generic function with 1 method)"
      ]
     },
     "execution_count": 68,
     "metadata": {},
     "output_type": "execute_result"
    }
   ],
   "source": [
    "# dynamics stuff\n",
    "using LinearAlgebra\n",
    "const FD = ForwardDiff\n",
    "function dynamics(x,u)\n",
    "    # planar quadrotor dynamics\n",
    "    \n",
    "    # parameters\n",
    "    mass = 1.0 \n",
    "    g = 9.81\n",
    "    ℓ = 0.3 \n",
    "    J = 0.2*mass*ℓ^2\n",
    "\n",
    "     # unpack state\n",
    "    px,pz,θ,vx,vz,ω = x    \n",
    "    return [vx,vz,ω,(1/mass)*(u[1] + u[2])*sin(θ), (1/mass)*(u[1] + u[2])*cos(θ) - g, (ℓ/(2*J))*(u[2]-u[1])]\n",
    "end\n",
    "\n",
    "function rk4(x,u,dt)\n",
    "    # rk4 for integration\n",
    "    k1 = dt*dynamics(x,u)\n",
    "    k2 = dt*dynamics(x + k1/2,u)\n",
    "    k3 = dt*dynamics(x + k2/2,u)\n",
    "    k4 = dt*dynamics(x + k3,u)\n",
    "    return x + (1/6)*(k1 + 2*k2 + 2*k3 + k4)\n",
    "end\n",
    "\n",
    "function dynamics_jacobians(x,u,dt)\n",
    "    # returns the discrete time dynamics jacobians\n",
    "    A = FD.jacobian(_x -> rk4(_x,u,dt),x)\n",
    "    B = FD.jacobian(_u -> rk4(x,_u,dt),u)\n",
    "    return A,B\n",
    "end"
   ]
  },
  {
   "cell_type": "code",
   "execution_count": 69,
   "metadata": {},
   "outputs": [
    {
     "data": {
      "text/plain": [
       "term_cost_expansion (generic function with 2 methods)"
      ]
     },
     "execution_count": 69,
     "metadata": {},
     "output_type": "execute_result"
    }
   ],
   "source": [
    "# cost expansion \n",
    "function stage_cost(x,u,xref,uref)\n",
    "    # LQR cost at each knot point (depends on both x and u)\n",
    "    0.5*(x - xref)'*Q*(x - xref) + 0.5*(u - uref)'*R*(u - uref)\n",
    "end\n",
    "\n",
    "function term_cost(x,xref)\n",
    "    # LQR terminal cost (depends on just x)\n",
    "    0.5*(x - xref)'*Qf*(x - xref)\n",
    "end\n",
    "\n",
    "function trajectory_cost(X,U,Xref,Uref)\n",
    "    # calculate the cost of a given trajectory \n",
    "    J = 0.0\n",
    "    for i = 1:(T-1)\n",
    "        J += stage_cost(X[i],U[i],Xref[i],Uref[i])\n",
    "    end\n",
    "    J += term_cost(X[T],Xref[T])\n",
    "    return J\n",
    "end\n",
    "        \n",
    "function stage_cost_expansion(x,u,xref,uref)\n",
    "    # if the cost function is J, return the following derivatives:\n",
    "    # ∇²ₓJ,  ∇ₓJ, ∇²ᵤJ, ∇ᵤJ\n",
    "    Jxx = Q\n",
    "    Jx = Q*(x - xref)\n",
    "    Juu = R\n",
    "    Ju = R*(u - uref)\n",
    "    return Jxx, Jx, Juu, Ju\n",
    "end\n",
    "\n",
    "function term_cost_expansion(x,xref)\n",
    "    # if the terminal cost function is J, return the following derivatives:\n",
    "    # ∇²ₓJ,  ∇ₓJ\n",
    "    Jxx = Qf\n",
    "    Jx = Qf*(x - xref)\n",
    "    return Jxx, Jx\n",
    "end"
   ]
  },
  {
   "cell_type": "code",
   "execution_count": 70,
   "metadata": {},
   "outputs": [
    {
     "data": {
      "text/plain": [
       "backward_pass (generic function with 2 methods)"
      ]
     },
     "execution_count": 70,
     "metadata": {},
     "output_type": "execute_result"
    }
   ],
   "source": [
    "function backward_pass(X,U,Xref,Uref)\n",
    "\n",
    "    # allocate all our data\n",
    "    P = [zeros(nx,nx) for i = 1:T]   # cost to go quadratic term\n",
    "    p = [zeros(nx) for i = 1:T]      # cost to go linear term \n",
    "    d = [zeros(nu) for i = 1:T-1]    # feedforward control\n",
    "    K = [zeros(nu,nx) for i = 1:T-1] # feedback gain\n",
    "    ΔJ = 0.0                         # expected cost decrease\n",
    "\n",
    "\n",
    "    # terminal cost expansion\n",
    "    P[T],p[T] = term_cost_expansion(X[T],Xref[T])\n",
    "    \n",
    "    for k = (T-1):(-1):1\n",
    "        \n",
    "        # dynamics jacobians \n",
    "        A,B = dynamics_jacobians(X[k],U[k],dt)\n",
    "        \n",
    "        # cost expansion \n",
    "        Jxx, Jx, Juu, Ju = stage_cost_expansion(X[k],U[k],Xref[k],Uref[k])\n",
    "        \n",
    "        # Q expansion \n",
    "        gx = Jx + A'*p[k+1]\n",
    "        gu = Ju + B'*p[k+1]\n",
    "    \n",
    "        Gxx = Jxx + A'*P[k+1]*A\n",
    "        Guu = Juu + B'*P[k+1]*B\n",
    "        Gux = B'*P[k+1]*A\n",
    "        \n",
    "        # Calculate Gains\n",
    "        d[k] = Guu\\gu\n",
    "        K[k] = Guu\\Gux\n",
    "    \n",
    "        # Cost-to-go Recurrence\n",
    "        p[k] = gx - K[k]'*gu + K[k]'*Guu*d[k] - Gux'*d[k]\n",
    "        P[k] = Gxx + K[k]'*Guu*K[k] - Gux'*K[k] - K[k]'*Gux\n",
    "        ΔJ += gu'*d[k]\n",
    "    end\n",
    "    \n",
    "    return d, K, ΔJ\n",
    "end"
   ]
  },
  {
   "cell_type": "code",
   "execution_count": 71,
   "metadata": {},
   "outputs": [
    {
     "data": {
      "text/plain": [
       "forward_pass (generic function with 2 methods)"
      ]
     },
     "execution_count": 71,
     "metadata": {},
     "output_type": "execute_result"
    }
   ],
   "source": [
    "function forward_pass(X,U,Xref,Uref,K,d,ΔJ)\n",
    "    \n",
    "    Xn = deepcopy(X)\n",
    "    Un = deepcopy(U)\n",
    "    α = 1.0 \n",
    "    J = trajectory_cost(X,U,Xref,Uref)\n",
    "\n",
    "    for i = 1:10\n",
    "        \n",
    "        \n",
    "        # Forward Rollout\n",
    "        for k = 1:(T-1)\n",
    "            Un[k] = U[k] - α*d[k] - K[k]*(Xn[k]-X[k])\n",
    "            Xn[k+1] = rk4(Xn[k],Un[k],dt)\n",
    "        end\n",
    "        Jn = trajectory_cost(Xn,Un,Xref,Uref)\n",
    "        \n",
    "        # armijo line search\n",
    "        if Jn< (J - 1e-2*α*ΔJ)\n",
    "            return Xn, Un, J, α\n",
    "        else\n",
    "            α *= 0.5\n",
    "        end\n",
    "    end\n",
    "    error(\"forward pass failed\")\n",
    "end"
   ]
  },
  {
   "cell_type": "code",
   "execution_count": 72,
   "metadata": {},
   "outputs": [
    {
     "data": {
      "text/plain": [
       "iLQR (generic function with 3 methods)"
      ]
     },
     "execution_count": 72,
     "metadata": {},
     "output_type": "execute_result"
    }
   ],
   "source": [
    "using Printf\n",
    "function iLQR(x0,U,Xref,Uref)\n",
    "    \n",
    "    # inital logging stuff \n",
    "    @printf \"iter     J           ΔJ        |d|         α\\n\"\n",
    "    @printf \"-----------------------------------------------\\n\"\n",
    "    \n",
    "    # initial rollout \n",
    "    X = [zeros(nx) for i = 1:(length(U)+1)]\n",
    "    X[1] = deepcopy(x0)\n",
    "    for i = 1:T-1\n",
    "        X[i+1] = rk4(X[i],U[i],dt)\n",
    "    end\n",
    "    \n",
    "    for iter = 1:100\n",
    "        \n",
    "        d, K, ΔJ = backward_pass(X,U,Xref,Uref)\n",
    "        \n",
    "        if maximum(norm.(d))<1e-5\n",
    "            return X,U\n",
    "        end\n",
    "        \n",
    "        X, U,J,α = forward_pass(X,U,Xref,Uref,K,d,ΔJ)\n",
    "        \n",
    "        @printf(\"%3d   %10.3e  %9.2e  %9.2e  % 6.4f\\n\",\n",
    "          iter, J, ΔJ, maximum(norm.(d)), α)\n",
    "        \n",
    "    end\n",
    "    error(\"ilqr reached max iters\")\n",
    "end\n",
    "        "
   ]
  },
  {
   "cell_type": "code",
   "execution_count": 73,
   "metadata": {},
   "outputs": [
    {
     "name": "stdout",
     "output_type": "stream",
     "text": [
      "iter     J           ΔJ        |d|         α\n",
      "-----------------------------------------------\n"
     ]
    },
    {
     "name": "stderr",
     "output_type": "stream",
     "text": [
      "WARNING: redefinition of constant x0. This may fail, cause incorrect answers, or produce other errors.\n",
      "WARNING: redefinition of constant xgoal. This may fail, cause incorrect answers, or produce other errors.\n",
      "WARNING: redefinition of constant uhover. This may fail, cause incorrect answers, or produce other errors.\n",
      "WARNING: redefinition of constant Q. This may fail, cause incorrect answers, or produce other errors.\n",
      "WARNING: redefinition of constant R. This may fail, cause incorrect answers, or produce other errors.\n",
      "WARNING: redefinition of constant Qf. This may fail, cause incorrect answers, or produce other errors.\n"
     ]
    },
    {
     "name": "stdout",
     "output_type": "stream",
     "text": [
      "  1    2.917e+03   4.62e+03   7.27e+01   1.0000\n",
      "  2    7.597e+02   5.84e+02   4.55e+01   1.0000\n",
      "  3    5.566e+02   1.64e+02   2.77e+01   1.0000\n",
      "  4    4.904e+02   2.52e+01   1.68e+01   1.0000\n",
      "  5    4.823e+02   7.84e+00   8.05e+00   1.0000\n",
      "  6    4.798e+02   2.52e+00   4.88e+00   1.0000\n",
      "  7    4.791e+02   1.05e+00   2.95e+00   1.0000\n",
      "  8    4.789e+02   4.38e-01   1.91e+00   1.0000\n",
      "  9    4.788e+02   2.11e-01   1.29e+00   1.0000\n",
      " 10    4.788e+02   9.73e-02   8.45e-01   1.0000\n",
      " 11    4.788e+02   4.85e-02   6.09e-01   1.0000\n",
      " 12    4.788e+02   2.33e-02   4.08e-01   1.0000\n",
      " 13    4.788e+02   1.16e-02   2.96e-01   1.0000\n",
      " 14    4.788e+02   5.69e-03   2.03e-01   1.0000\n",
      " 15    4.788e+02   2.83e-03   1.45e-01   1.0000\n",
      " 16    4.788e+02   1.39e-03   1.01e-01   1.0000\n",
      " 17    4.788e+02   6.91e-04   7.16e-02   1.0000\n",
      " 18    4.788e+02   3.41e-04   5.01e-02   1.0000\n",
      " 19    4.788e+02   1.69e-04   3.54e-02   1.0000\n",
      " 20    4.788e+02   8.37e-05   2.48e-02   1.0000\n",
      " 21    4.788e+02   4.14e-05   1.75e-02   1.0000\n",
      " 22    4.788e+02   2.05e-05   1.23e-02   1.0000\n",
      " 23    4.788e+02   1.02e-05   8.65e-03   1.0000\n",
      " 24    4.788e+02   5.02e-06   6.08e-03   1.0000\n",
      " 25    4.788e+02   2.49e-06   4.28e-03   1.0000\n",
      " 26    4.788e+02   1.23e-06   3.01e-03   1.0000\n",
      " 27    4.788e+02   6.09e-07   2.12e-03   1.0000\n",
      " 28    4.788e+02   3.02e-07   1.49e-03   1.0000\n",
      " 29    4.788e+02   1.49e-07   1.05e-03   1.0000\n",
      " 30    4.788e+02   7.39e-08   7.38e-04   1.0000\n",
      " 31    4.788e+02   3.66e-08   5.19e-04   1.0000\n",
      " 32    4.788e+02   1.81e-08   3.65e-04   1.0000\n",
      " 33    4.788e+02   8.96e-09   2.57e-04   1.0000\n",
      " 34    4.788e+02   4.44e-09   1.81e-04   1.0000\n",
      " 35    4.788e+02   2.20e-09   1.27e-04   1.0000\n",
      " 36    4.788e+02   1.09e-09   8.95e-05   1.0000\n",
      " 37    4.788e+02   5.38e-10   6.30e-05   1.0000\n",
      " 38    4.788e+02   2.66e-10   4.43e-05   1.0000\n",
      " 39    4.788e+02   1.32e-10   3.12e-05   1.0000\n",
      " 40    4.788e+02   6.52e-11   2.19e-05   1.0000\n",
      " 41    4.788e+02   3.23e-11   1.54e-05   1.0000\n",
      " 42    4.788e+02   1.60e-11   1.09e-05   1.0000\n"
     ]
    }
   ],
   "source": [
    "const x0    = [-3, 1, 0, 0, 0, 0]                    # initial state\n",
    "const xgoal = [+3, 1, 0, 0, 0, 0]                    # goal state\n",
    "const nx = 6 \n",
    "const nu = 2\n",
    "const uhover = fill(0.5*1.0 * 9.8, nu) \n",
    "\n",
    "const Q = Diagonal(([ones(3) ; fill(0.1, 3)]))\n",
    "const R = Diagonal(fill(1e-2, nu))\n",
    "const Qf = Diagonal(fill(1e2, nx));\n",
    "\n",
    "const dt = 0.025 \n",
    "const T = 61\n",
    "\n",
    "Urand = [(.1*randn(nu) + uhover ) for k = 1:T-1]\n",
    "\n",
    "Xref1 = [copy(xgoal) for i = 1:T]\n",
    "Uref1 = [copy(uhover) for i = 1:T-1]\n",
    "Xstar,Ustar = iLQR(x0,Urand,Xref1,Uref1);"
   ]
  },
  {
   "cell_type": "code",
   "execution_count": 44,
   "metadata": {},
   "outputs": [
    {
     "name": "stdout",
     "output_type": "stream",
     "text": [
      "model.mass = 1.0\n",
      "model.J = 0.018\n",
      "model.ℓ = 0.3\n"
     ]
    },
    {
     "data": {
      "text/plain": [
       "0.3"
      ]
     },
     "execution_count": 44,
     "metadata": {},
     "output_type": "execute_result"
    }
   ],
   "source": [
    "# Problem Setup\n",
    "model = PlanarQuadrotor()\n",
    "n,m = size(model)          # state and control dimensions\n",
    "dt = 0.025                 # time step (sec)\n",
    "tf = 1.5                   # time horizon (sec)\n",
    "T = Int(tf/dt) + 1         # number of time steps\n",
    "\n",
    "# Initial & final condition\n",
    "x0    = SA_F64[-3, 1, 0, 0, 0, 0]                    # initial state\n",
    "xgoal = SA_F64[+3, 1, 0, 0, 0, 0]                    # goal state\n",
    "uhover = @SVector fill(0.5*model.mass * model.g, m)  # hover controls\n",
    "\n",
    "# Cost matrices\n",
    "Q = Diagonal(SVector{6}([ones(3) ; fill(0.1, 3)]))\n",
    "R = Diagonal(@SVector fill(1e-2, m))\n",
    "Qf = Diagonal(@SVector fill(1e2, n));\n",
    "\n",
    "@show model.mass\n",
    "@show model.J\n",
    "@show model.ℓ"
   ]
  },
  {
   "cell_type": "markdown",
   "metadata": {},
   "source": [
    "## Part (a): Implement iLQR\n",
    "Implement iLQR by completing the provided methods. We provide the following struct that stores the problem definition. Reference the cells below for a brief example of using this struct."
   ]
  },
  {
   "cell_type": "code",
   "execution_count": 5,
   "metadata": {},
   "outputs": [],
   "source": [
    "\"\"\"\n",
    "    Problem{n,m,L}\n",
    "\n",
    "Describes a trajectory optimization problem with `n` states, `m` controls, and \n",
    "a model of type `L`. \n",
    "\n",
    "# Constructor\n",
    "    Problem(model::L, obj::Vector{<:QuadraticCost{n,m}}, tf, x0, xf) where {n,m,L}\n",
    "\n",
    "where `tf` is the final time, and `x0` is the initial state. \n",
    "\"\"\"\n",
    "struct Problem{n,m,L}\n",
    "    model::L\n",
    "    obj::Vector{QuadraticCost{n,m,Float64}}\n",
    "    T::Int\n",
    "    tf::Float64\n",
    "    x0::MVector{n,Float64}\n",
    "    times::Vector{Float64}\n",
    "    function Problem(model::L, obj::Vector{<:QuadraticCost{n,m}}, tf, x0) where {n,m,L}\n",
    "        @assert length(x0) == n == length(obj[1].q) == state_dim(model)\n",
    "        @assert length(obj[1].r) == m == control_dim(model)\n",
    "        T = length(obj)\n",
    "        times = range(0, tf, length=T)\n",
    "        new{n,m,L}(model, obj, T, tf, x0, times)\n",
    "    end\n",
    "end\n",
    "Base.size(prob::Problem{n,m}) where {n,m} = (n,m,prob.T)"
   ]
  },
  {
   "cell_type": "code",
   "execution_count": 6,
   "metadata": {},
   "outputs": [],
   "source": [
    "# Cost function\n",
    "cost_stage = LQRCost(Q, R, xgoal, uhover)\n",
    "cost_term = LQRCost(Qf, R, xgoal, uhover)\n",
    "obj = [cost_stage for k = 1:T-1]\n",
    "push!(obj, cost_term)\n",
    "\n",
    "# Build Problem\n",
    "prob = Problem(model, obj, tf, x0);\n",
    "n,m,T = size(prob)   # get problem dimensions\n",
    "\n",
    "# Random trajectory\n",
    "Xrand = [@SVector randn(n) for k = 1:T]\n",
    "Urand = [@SVector randn(m) for k = 1:T-1]\n",
    "\n",
    "# Evaluate the cost\n",
    "t = prob.times[1]\n",
    "dt = prob.times[2]-prob.times[1]\n",
    "cost(prob.obj, Xrand, Urand)\n",
    "\n",
    "# Evaluate the dynamics\n",
    "discrete_dynamics(RK4, prob.model, Xrand[1], Urand[1], t, dt)\n",
    "∇f = zeros(n,n+m)\n",
    "discrete_jacobian!(RK4, ∇f, prob.model, Xrand[1], Urand[1], t, dt)"
   ]
  },
  {
   "cell_type": "code",
   "execution_count": 7,
   "metadata": {},
   "outputs": [
    {
     "name": "stdout",
     "output_type": "stream",
     "text": [
      "search: \u001b[0m\u001b[1mL\u001b[22m\u001b[0m\u001b[1mQ\u001b[22m\u001b[0m\u001b[1mR\u001b[22m\u001b[0m\u001b[1mC\u001b[22m\u001b[0m\u001b[1mo\u001b[22m\u001b[0m\u001b[1ms\u001b[22m\u001b[0m\u001b[1mt\u001b[22m\n",
      "\n"
     ]
    },
    {
     "data": {
      "text/latex": [
       "\\begin{verbatim}\n",
       "LQRCost(Q, R, xf, uf)\n",
       "\\end{verbatim}\n",
       "Creates a \\texttt{QuadraticCost} cost function of the form:\n",
       "\n",
       "$$\\frac{1}{2} (x^T - x_f) Q (x - x_f) + \\frac{1}{2} (u^T - u_f) R (u - u_f)$$\n"
      ],
      "text/markdown": [
       "```\n",
       "LQRCost(Q, R, xf, uf)\n",
       "```\n",
       "\n",
       "Creates a `QuadraticCost` cost function of the form:\n",
       "\n",
       "$$\n",
       "\\frac{1}{2} (x^T - x_f) Q (x - x_f) + \\frac{1}{2} (u^T - u_f) R (u - u_f)\n",
       "$$\n"
      ],
      "text/plain": [
       "\u001b[36m  LQRCost(Q, R, xf, uf)\u001b[39m\n",
       "\n",
       "  Creates a \u001b[36mQuadraticCost\u001b[39m cost function of the form:\n",
       "\n",
       "\u001b[35m  \\frac{1}{2} (x^T - x_f) Q (x - x_f) + \\frac{1}{2} (u^T - u_f) R (u - u_f)\u001b[39m"
      ]
     },
     "execution_count": 7,
     "metadata": {},
     "output_type": "execute_result"
    }
   ],
   "source": [
    "?LQRCost  # run this to print docstring for LQRCost"
   ]
  },
  {
   "cell_type": "code",
   "execution_count": 8,
   "metadata": {},
   "outputs": [
    {
     "name": "stdout",
     "output_type": "stream",
     "text": [
      "search: \u001b[0m\u001b[1mQ\u001b[22m\u001b[0m\u001b[1mu\u001b[22m\u001b[0m\u001b[1ma\u001b[22m\u001b[0m\u001b[1md\u001b[22m\u001b[0m\u001b[1mr\u001b[22m\u001b[0m\u001b[1ma\u001b[22m\u001b[0m\u001b[1mt\u001b[22m\u001b[0m\u001b[1mi\u001b[22m\u001b[0m\u001b[1mc\u001b[22m\u001b[0m\u001b[1mC\u001b[22m\u001b[0m\u001b[1mo\u001b[22m\u001b[0m\u001b[1ms\u001b[22m\u001b[0m\u001b[1mt\u001b[22m\n",
      "\n"
     ]
    },
    {
     "data": {
      "text/latex": [
       "\\begin{verbatim}\n",
       "QuadraticCost\n",
       "\\end{verbatim}\n",
       "Represents a stage cost function of the form\n",
       "\n",
       "$$\\frac{1}{2} x^T Q x + q^T x + \\frac{1}{2} u^T R u + r^T u + c$$\n",
       "\\section{Methods}\n",
       "\\begin{verbatim}\n",
       "stagecost(cost, x, u)  # evaluate the stage cost at x,u\n",
       "termcost(cost, x)      # evaluate the terminal cost (assumes u is zero)\n",
       "\\end{verbatim}\n"
      ],
      "text/markdown": [
       "```\n",
       "QuadraticCost\n",
       "```\n",
       "\n",
       "Represents a stage cost function of the form\n",
       "\n",
       "$$\n",
       "\\frac{1}{2} x^T Q x + q^T x + \\frac{1}{2} u^T R u + r^T u + c\n",
       "$$\n",
       "\n",
       "# Methods\n",
       "\n",
       "```\n",
       "stagecost(cost, x, u)  # evaluate the stage cost at x,u\n",
       "termcost(cost, x)      # evaluate the terminal cost (assumes u is zero)\n",
       "```\n"
      ],
      "text/plain": [
       "\u001b[36m  QuadraticCost\u001b[39m\n",
       "\n",
       "  Represents a stage cost function of the form\n",
       "\n",
       "\u001b[35m  \\frac{1}{2} x^T Q x + q^T x + \\frac{1}{2} u^T R u + r^T u + c\u001b[39m\n",
       "\n",
       "\u001b[1m  Methods\u001b[22m\n",
       "\u001b[1m  ≡≡≡≡≡≡≡≡≡\u001b[22m\n",
       "\n",
       "\u001b[36m  stagecost(cost, x, u)  # evaluate the stage cost at x,u\u001b[39m\n",
       "\u001b[36m  termcost(cost, x)      # evaluate the terminal cost (assumes u is zero)\u001b[39m"
      ]
     },
     "execution_count": 8,
     "metadata": {},
     "output_type": "execute_result"
    }
   ],
   "source": [
    "?QuadraticCost  # run this to print docstring for QuadraticCost"
   ]
  },
  {
   "cell_type": "markdown",
   "metadata": {},
   "source": [
    "### Cost and Dynamics Derivatives"
   ]
  },
  {
   "cell_type": "code",
   "execution_count": 34,
   "metadata": {},
   "outputs": [
    {
     "data": {
      "text/plain": [
       "backwardpass!"
      ]
     },
     "execution_count": 34,
     "metadata": {},
     "output_type": "execute_result"
    }
   ],
   "source": [
    "# TASK: Complete the code below for the backward pass\n",
    "\"\"\"\n",
    "    backwardpass!(prob, P, p, K, d, X, U)\n",
    "\n",
    "Evaluate the iLQR backward pass at state and control trajectories `X` and `U`, \n",
    "storing the cost-to-go expansion in `P` and `p` and the gains in `K` and `d`.\n",
    "\n",
    "Should return ΔJ, expected cost reduction.\n",
    "\"\"\"\n",
    "function backwardpass!(prob::Problem{n,m}, P, p, K, d, X, U; \n",
    "        β=1e-6, ddp::Bool=false\n",
    "    ) where {n,m}\n",
    "    T = prob.T\n",
    "    obj = prob.obj\n",
    "    ΔJ = 0.0\n",
    "    failed = false\n",
    "    \n",
    "    # TODO: Implement the backward pass\n",
    "\n",
    "    # SOLUTION\n",
    "    ∇f = RobotDynamics.DynamicsJacobian(prob.model) # give this to them\n",
    "    ∇jac = zeros(n+m,n+m) \n",
    "\n",
    "    p[T] = obj[end].Q*X[T] + obj[end].q\n",
    "    P[T] = obj[end].Q\n",
    "#     P[T], p[T] = cost_expansion(obj[end],X[T])\n",
    "    \n",
    "    #Backward Pass\n",
    "    failed = false\n",
    "    for k = (T-1):-1:1\n",
    "        # Cost Expansion\n",
    "        q = obj[k].Q*X[k] + obj[k].q\n",
    "        Q = obj[k].Q\n",
    "        r = obj[k].R*U[k] + obj[k].r\n",
    "        R = obj[k].R\n",
    "#         Q,q,R,r = cost_expansion(obj[k],X[k],U[k])\n",
    "\n",
    "        # Dynamics derivatives\n",
    "        dt = prob.times[k+1] - prob.times[k]\n",
    "        A,B = dynamics_jacobians(model,∇f, dt, X[k], U[k])\n",
    "        z = KnotPoint(SVector{n}(X[k]), SVector{m}(U[k]), dt, prob.times[k])\n",
    "        discrete_jacobian!(RK4, ∇f, model, z)\n",
    "        A = RobotDynamics.get_static_A(∇f)\n",
    "        B = RobotDynamics.get_static_B(∇f)\n",
    "    \n",
    "        gx = q + A'*p[k+1]\n",
    "        gu = r + B'*p[k+1]\n",
    "    \n",
    "        Gxx = Q + A'*P[k+1]*A\n",
    "        Guu = R + B'*P[k+1]*B\n",
    "        Gux = B'*P[k+1]*A\n",
    "        \n",
    "        if ddp \n",
    "            # #Add full Newton terms\n",
    "            RobotDynamics.∇discrete_jacobian!(RK4, ∇jac, model, z, p[k+1])\n",
    "            Gxx .+= ∇jac[1:n, 1:n]\n",
    "            Guu .+= ∇jac[n+1:end, n+1:end]\n",
    "            Gux .+= ∇jac[n+1:end, 1:n]\n",
    "        end\n",
    "    \n",
    "        # Regularization\n",
    "        Gxx_reg = Gxx + A'*β*I*A\n",
    "        Guu_reg = Guu + B'*β*I*B\n",
    "        Gux_reg = Gux + B'*β*I*A\n",
    "        C = cholesky(Symmetric([Gxx_reg Gux_reg'; Gux_reg Guu_reg]), check=false)\n",
    "        if !issuccess(C)\n",
    "            β = 2*β\n",
    "            failed = true\n",
    "            break\n",
    "        end\n",
    "        \n",
    "        # Calculate Gains\n",
    "        d[k] .= Guu_reg\\gu\n",
    "        K[k] .= Guu_reg\\Gux_reg\n",
    "    \n",
    "        # Cost-to-go Recurrence\n",
    "        p[k] .= gx - K[k]'*gu + K[k]'*Guu*d[k] - Gux'*d[k]\n",
    "        P[k] .= Gxx + K[k]'*Guu*K[k] - Gux'*K[k] - K[k]'*Gux\n",
    "        ΔJ += gu'*d[k]\n",
    "    end\n",
    "    return ΔJ\n",
    "end"
   ]
  },
  {
   "cell_type": "markdown",
   "metadata": {},
   "source": [
    "### Forward Pass"
   ]
  },
  {
   "cell_type": "code",
   "execution_count": 35,
   "metadata": {},
   "outputs": [
    {
     "data": {
      "text/plain": [
       "forwardpass!"
      ]
     },
     "execution_count": 35,
     "metadata": {},
     "output_type": "execute_result"
    }
   ],
   "source": [
    "# TASK: Complete the method for the forward pass\n",
    "\"\"\"\n",
    "    forwardpass!(prob, X, U, K, d, ΔJ, J)\n",
    "\n",
    "Evaluate the iLQR forward pass at state and control trajectories `X` and `U`, using\n",
    "the gains `K` and `d` to simulate the system forward. The new cost should be less than \n",
    "the current cost `J` together with the expected cost decrease `ΔJ`.\n",
    "\n",
    "Should return the new cost `Jn` and the step length `α`.\n",
    "\"\"\"\n",
    "function forwardpass!(prob::Problem{n,m}, X, U, K, d, ΔJ, J,\n",
    "        Xbar = deepcopy(X), Ubar = deepcopy(U);\n",
    "        max_iters=10,\n",
    "    ) where {n,m}\n",
    "    T = prob.T\n",
    "\n",
    "    # TODO: Implement the forward pass w/ line search\n",
    "    Jn = J\n",
    "    α = 0.0\n",
    "    \n",
    "    # SOLUTION\n",
    "    # Line Search\n",
    "    Xbar[1] = X[1]\n",
    "    α = 1.0\n",
    "    Jn = Inf\n",
    "    for i = 1:max_iters\n",
    "        \n",
    "        # Forward Rollout\n",
    "        for k = 1:(T-1)\n",
    "            t = prob.times[k]\n",
    "            dt = prob.times[k+1] - prob.times[k]\n",
    "            Ubar[k] = U[k] - α*d[k] - K[k]*(Xbar[k]-X[k])\n",
    "            Xbar[k+1] = discrete_dynamics(RK4, model, Xbar[k], Ubar[k], t, dt) \n",
    "        end\n",
    "        \n",
    "        # Calculate the new cost\n",
    "        Jn = cost(prob.obj, Xbar, Ubar)\n",
    "\n",
    "        # Check Armijo condition\n",
    "        if Jn <= J - 1e-2*α*ΔJ\n",
    "            break\n",
    "        else\n",
    "            # Backtrack\n",
    "            α *= 0.5  \n",
    "        end\n",
    "        if i == max_iters \n",
    "            @warn \"Line Search failed\"\n",
    "            α = 0\n",
    "        end\n",
    "    end\n",
    "    \n",
    "    # Accept direction\n",
    "    for k = 1:T-1\n",
    "        X[k] = Xbar[k]\n",
    "        U[k] = Ubar[k]\n",
    "    end\n",
    "    X[T] = Xbar[T]\n",
    "    \n",
    "    return Jn, α\n",
    "end\n"
   ]
  },
  {
   "cell_type": "markdown",
   "metadata": {},
   "source": [
    "### iLQR Algorithm"
   ]
  },
  {
   "cell_type": "code",
   "execution_count": 36,
   "metadata": {},
   "outputs": [
    {
     "data": {
      "text/plain": [
       "solve_ilqr"
      ]
     },
     "execution_count": 36,
     "metadata": {},
     "output_type": "execute_result"
    }
   ],
   "source": [
    "# TASK: Complete the code below to implement iLQR\n",
    "\"\"\"\n",
    "    solve_ilqr(prob, X, U; kwargs...)\n",
    "\n",
    "Solve the trajectory optimization problem specified by `prob` using iterative LQR.\n",
    "Returns the optimized state and control trajectories, as well as the local control gains,\n",
    "`K` and `d`.\n",
    "\n",
    "Should return the optimized state and control trajectories `X` and `U`, and the \n",
    "list of feedback gains `K` and cost-to-go hessians `P`.\n",
    "\"\"\"\n",
    "function solve_ilqr(prob::Problem{n,m}, X0, U0; \n",
    "        iters=100,     # max iterations\n",
    "        ls_iters=10,   # max line search iterations\n",
    "        reg_min=1e-6,  # minimum regularizatio for the backwardpass\n",
    "        verbose=0,     # print verbosity\n",
    "        eps=1e-5,      # termination tolerance\n",
    "        eps_ddp=eps    # tolerance to switch to ddp\n",
    "    ) where {n,m}\n",
    "    t_start = time_ns()\n",
    "    Nx,Nu,Nt = size(prob)\n",
    "\n",
    "    # Initialization\n",
    "    T = prob.T\n",
    "    p = [zeros(n) for k = 1:T]      # ctg gradient\n",
    "    P = [zeros(n,n) for k = 1:T]    # ctg hessian\n",
    "    d = [zeros(m) for k = 1:T-1]    # feedforward gains\n",
    "    K = [zeros(m,n) for k = 1:T-1]  # feedback gains\n",
    "    Xbar = [@SVector zeros(n) for k = 1:T]    # line search trajectory\n",
    "    Ubar = [@SVector zeros(m) for k = 1:T-1]  # line search trajectory\n",
    "    ΔJ = 0.0\n",
    "\n",
    "    # Don't modify the trajectories that are passed in\n",
    "    X = deepcopy(X0)\n",
    "    U = deepcopy(U0)\n",
    "\n",
    "    # Initial cost\n",
    "    J = cost(prob.obj, X, U)\n",
    "    \n",
    "    # Initialize parameters\n",
    "    Jn = Inf\n",
    "    iter = 0\n",
    "    tol = 1.0\n",
    "    β = reg_min\n",
    "    while tol > eps \n",
    "        iter += 1\n",
    "        \n",
    "        # TODO: Implement iLQR\n",
    "        \n",
    "        # SOLUTION\n",
    "        \n",
    "        # Backward Pass\n",
    "        ddp = tol < eps_ddp\n",
    "        ΔJ = backwardpass!(prob, P, p, K, d, X, U, ddp=ddp, β=β)\n",
    "\n",
    "        # Forward Pass\n",
    "        Jn, α = forwardpass!(prob, X, U, K, d, ΔJ, J, Xbar, Ubar, max_iters=ls_iters)\n",
    "\n",
    "        # Update parameters\n",
    "        tol = maximum(norm.(d, Inf))\n",
    "        β = max(0.9*β, reg_min)\n",
    "        \n",
    "        # END SOLUTION\n",
    "\n",
    "        # Output\n",
    "        if verbose > 0\n",
    "            @printf(\"Iter: %3d, Cost: % 6.2f → % 6.2f (% 7.2e), res: % .2e, β= %.2e, α = %.3f\\n\",\n",
    "                iter, J, Jn, J-Jn, tol, β, α\n",
    "            )\n",
    "        end\n",
    "        J = Jn\n",
    "\n",
    "        if iter >= iters\n",
    "            @warn \"Reached max iterations\"\n",
    "            break\n",
    "        end\n",
    "\n",
    "    end\n",
    "    println(\"Total Time: \", (time_ns() - t_start)*1e-6, \" ms\")\n",
    "    return X,U,K,P\n",
    "end\n"
   ]
  },
  {
   "cell_type": "markdown",
   "metadata": {},
   "source": [
    "## Part (b): Simple trajectory\n",
    "Use your iLQR solver to move the quadrotor from the initial state to the goal state."
   ]
  },
  {
   "cell_type": "code",
   "execution_count": 37,
   "metadata": {},
   "outputs": [
    {
     "ename": "LoadError",
     "evalue": "MethodError: \u001b[0mCannot `convert` an object of type \u001b[92mTuple{Float64, Float64}\u001b[39m\u001b[0m to an object of type \u001b[91mFloat64\u001b[39m\n\u001b[0mClosest candidates are:\n\u001b[0m  convert(::Type{T}, \u001b[91m::Gray24\u001b[39m) where T<:Real at /Users/kevintracy/.julia/packages/ColorTypes/6m8P7/src/conversions.jl:114\n\u001b[0m  convert(::Type{T}, \u001b[91m::Gray\u001b[39m) where T<:Real at /Users/kevintracy/.julia/packages/ColorTypes/6m8P7/src/conversions.jl:113\n\u001b[0m  convert(::Type{T}, \u001b[91m::Static.StaticFloat64{N}\u001b[39m) where {N, T<:AbstractFloat} at /Users/kevintracy/.julia/packages/Static/pkxBE/src/float.jl:26\n\u001b[0m  ...",
     "output_type": "error",
     "traceback": [
      "MethodError: \u001b[0mCannot `convert` an object of type \u001b[92mTuple{Float64, Float64}\u001b[39m\u001b[0m to an object of type \u001b[91mFloat64\u001b[39m\n\u001b[0mClosest candidates are:\n\u001b[0m  convert(::Type{T}, \u001b[91m::Gray24\u001b[39m) where T<:Real at /Users/kevintracy/.julia/packages/ColorTypes/6m8P7/src/conversions.jl:114\n\u001b[0m  convert(::Type{T}, \u001b[91m::Gray\u001b[39m) where T<:Real at /Users/kevintracy/.julia/packages/ColorTypes/6m8P7/src/conversions.jl:113\n\u001b[0m  convert(::Type{T}, \u001b[91m::Static.StaticFloat64{N}\u001b[39m) where {N, T<:AbstractFloat} at /Users/kevintracy/.julia/packages/Static/pkxBE/src/float.jl:26\n\u001b[0m  ...",
      "",
      "Stacktrace:",
      "  [1] macro expansion",
      "    @ ~/.julia/packages/StaticArrays/0bweZ/src/util.jl:17 [inlined]",
      "  [2] convert_ntuple",
      "    @ ~/.julia/packages/StaticArrays/0bweZ/src/util.jl:13 [inlined]",
      "  [3] SVector{1, Float64}(x::Tuple{Tuple{Float64, Float64}})",
      "    @ StaticArrays ~/.julia/packages/StaticArrays/0bweZ/src/SArray.jl:28",
      "  [4] StaticArray",
      "    @ ~/.julia/packages/StaticArrays/0bweZ/src/convert.jl:4 [inlined]",
      "  [5] SArray",
      "    @ ~/.julia/packages/StaticArrays/0bweZ/src/SVector.jl:21 [inlined]",
      "  [6] (SVector{1, T} where T)(a::SVector{2, Float64})",
      "    @ StaticArrays ~/.julia/packages/StaticArrays/0bweZ/src/convert.jl:5",
      "  [7] dynamics_jacobians(model::PlanarQuadrotor, ∇f::RobotDynamics.DynamicsJacobian{6, 8, Float64}, dt::Float64, x::SVector{6, Float64}, u::SVector{2, Float64})",
      "    @ Main ./In[33]:48",
      "  [8] backwardpass!(prob::Problem{6, 2, PlanarQuadrotor}, P::Vector{Matrix{Float64}}, p::Vector{Vector{Float64}}, K::Vector{Matrix{Float64}}, d::Vector{Vector{Float64}}, X::Vector{SVector{6, Float64}}, U::Vector{SVector{2, Float64}}; β::Float64, ddp::Bool)",
      "    @ Main ./In[34]:40",
      "  [9] solve_ilqr(prob::Problem{6, 2, PlanarQuadrotor}, X0::Vector{SVector{6, Float64}}, U0::Vector{SVector{2, Float64}}; iters::Int64, ls_iters::Int64, reg_min::Float64, verbose::Int64, eps::Float64, eps_ddp::Float64)",
      "    @ Main ./In[36]:54",
      " [10] top-level scope",
      "    @ In[37]:20",
      " [11] eval",
      "    @ ./boot.jl:360 [inlined]",
      " [12] include_string(mapexpr::typeof(REPL.softscope), mod::Module, code::String, filename::String)",
      "    @ Base ./loading.jl:1116"
     ]
    }
   ],
   "source": [
    "# TASK: Solve for the optimized trajectories using iLQR\n",
    "#       Store the results in Xline, Uline\n",
    "\n",
    "# SOLUTION\n",
    "\n",
    "# Cost function\n",
    "cost_stage = LQRCost(Q, R, xgoal, uhover)\n",
    "cost_term = LQRCost(Qf, R, xgoal, uhover)\n",
    "obj = [cost_stage for k = 1:T-1]\n",
    "push!(obj, cost_term)\n",
    "\n",
    "# Build Problem\n",
    "prob = Problem(model, obj, tf, x0);\n",
    "\n",
    "# Initial Guess\n",
    "X0 = [x0 for k = 1:T]\n",
    "U0 = [uhover for k = 1:T-1]\n",
    "\n",
    "# Solve\n",
    "Xline, Uline = solve_ilqr(prob, X0, U0, verbose=1);"
   ]
  },
  {
   "cell_type": "code",
   "execution_count": 23,
   "metadata": {},
   "outputs": [
    {
     "ename": "LoadError",
     "evalue": "TypeError: in typeassert, expected AbstractVector{T} where T, got Type{SVector{6, Float64}}",
     "output_type": "error",
     "traceback": [
      "TypeError: in typeassert, expected AbstractVector{T} where T, got Type{SVector{6, Float64}}",
      "",
      "Stacktrace:",
      " [1] top-level scope",
      "   @ In[23]:1",
      " [2] eval",
      "   @ ./boot.jl:360 [inlined]",
      " [3] include_string(mapexpr::typeof(REPL.softscope), mod::Module, code::String, filename::String)",
      "   @ Base ./loading.jl:1116"
     ]
    }
   ],
   "source": [
    "SVector{6,Float64}::AbstractVector"
   ]
  },
  {
   "cell_type": "code",
   "execution_count": 11,
   "metadata": {},
   "outputs": [
    {
     "name": "stderr",
     "output_type": "stream",
     "text": [
      "┌ Info: MeshCat server started. You can open the visualizer by visiting the following URL in your browser:\n",
      "│ http://127.0.0.1:8700\n",
      "└ @ MeshCat /home/brian/.julia/packages/MeshCat/Ax8pH/src/visualizer.jl:73\n"
     ]
    },
    {
     "data": {
      "text/html": [
       "    <div style=\"height: 500px; width: 100%; overflow-x: auto; overflow-y: hidden; resize: both\">\n",
       "    <iframe src=\"http://127.0.0.1:8700\" style=\"width: 100%; height: 100%; border: none\"></iframe>\n",
       "    </div>\n"
      ],
      "text/plain": [
       "MeshCat.DisplayedVisualizer(MeshCat.CoreVisualizer(MeshCat.SceneTrees.SceneNode(nothing, nothing, Dict{String, Vector{UInt8}}(), nothing, Dict{String, MeshCat.SceneTrees.SceneNode}(\"meshcat\" => MeshCat.SceneTrees.SceneNode(nothing, nothing, Dict{String, Vector{UInt8}}(), nothing, Dict{String, MeshCat.SceneTrees.SceneNode}(\"robot\" => MeshCat.SceneTrees.SceneNode(nothing, nothing, Dict{String, Vector{UInt8}}(), nothing, Dict{String, MeshCat.SceneTrees.SceneNode}(\"geom\" => MeshCat.SceneTrees.SceneNode(UInt8[0x83, 0xa6, 0x6f, 0x62, 0x6a, 0x65, 0x63, 0x74, 0x84, 0xaa  …  0x72, 0x6f, 0x62, 0x6f, 0x74, 0x2f, 0x67, 0x65, 0x6f, 0x6d], nothing, Dict{String, Vector{UInt8}}(), nothing, Dict{String, MeshCat.SceneTrees.SceneNode}()))))))), Set{Any}(), ip\"127.0.0.1\", 8700))"
      ]
     },
     "execution_count": 11,
     "metadata": {},
     "output_type": "execute_result"
    }
   ],
   "source": [
    "vis = Visualizer()\n",
    "set_mesh!(vis, model)\n",
    "render(vis)"
   ]
  },
  {
   "cell_type": "code",
   "execution_count": 13,
   "metadata": {},
   "outputs": [],
   "source": [
    "visualize!(vis, model, tf, Xline)"
   ]
  },
  {
   "cell_type": "markdown",
   "metadata": {},
   "source": [
    "## Part (c): Generate Cost function for Flip\n",
    "Generate a reference trajectory for the cost function. Since we're designing it by hand we'll do something simple. Complete the function below to generate a trajectory that does the following:\n",
    "* 0.0-0.5 sec: Moves linearly from -2 to 0 in x\n",
    "* 0.5-1.0 sec: Moves linearly from 1 to 3 and back to 1 in y. Rotates 360 degrees. No movement in x.\n",
    "* 1.0-1.5 sec: Moves linearly from 0 to 3 in x.\n",
    "\n",
    "The velocities should be consistent with the positions.\n",
    "\n",
    "The trajectory should look like the following:\n",
    "![flip_traj](flip_reference.png)"
   ]
  },
  {
   "cell_type": "code",
   "execution_count": 14,
   "metadata": {},
   "outputs": [
    {
     "data": {
      "text/plain": [
       "flip_reference"
      ]
     },
     "execution_count": 14,
     "metadata": {},
     "output_type": "execute_result"
    }
   ],
   "source": [
    "# TASK: Implement the following method\n",
    "\"\"\"\n",
    "    flip_reference\n",
    "\n",
    "Generate a reference trajectory for the quadrotor that encourages it to do a flip.\n",
    "The trajectory should have a length of 61.\n",
    "\"\"\"\n",
    "function flip_reference()\n",
    "    # TODO: Design the reference trajectory according to the specs above\n",
    "    x1ref = zeros(61)\n",
    "    x2ref = zeros(61)\n",
    "    θref = zeros(61)\n",
    "    v1ref = zeros(61)\n",
    "    v2ref = zeros(61)\n",
    "    \n",
    "    # SOLUTION\n",
    "    x1ref = [LinRange(-3,0,20); zeros(20); LinRange(0,3,21)]\n",
    "    x2ref = [ones(20); LinRange(1,3,10); LinRange(3,1,10); ones(21)]\n",
    "    θref = [zeros(20); LinRange(0,-2*pi,20); -2*pi*ones(21)]\n",
    "    v1ref = [6.0*ones(20); zeros(20); 6.0*ones(21)]\n",
    "    v2ref = [zeros(20); 8.0*ones(10); -8.0*ones(10); zeros(21)]\n",
    "    ωref = [zeros(20); -4*pi*ones(20); zeros(21)]\n",
    "    # END SOLUTION\n",
    "    \n",
    "    xref = [x1ref'; x2ref'; θref'; v1ref'; v2ref'; ωref']\n",
    "    return [SVector{6}(x) for x in eachcol(xref)]\n",
    "end"
   ]
  },
  {
   "cell_type": "code",
   "execution_count": 15,
   "metadata": {},
   "outputs": [
    {
     "name": "stderr",
     "output_type": "stream",
     "text": [
      "┌ Info: Precompiling GR_jll [d2c73de3-f751-5644-a686-071e5b155ba9]\n",
      "└ @ Base loading.jl:1342\n"
     ]
    },
    {
     "data": {
      "image/svg+xml": [
       "<?xml version=\"1.0\" encoding=\"utf-8\"?>\n",
       "<svg xmlns=\"http://www.w3.org/2000/svg\" xmlns:xlink=\"http://www.w3.org/1999/xlink\" width=\"600\" height=\"400\" viewBox=\"0 0 2400 1600\">\n",
       "<defs>\n",
       "  <clipPath id=\"clip580\">\n",
       "    <rect x=\"0\" y=\"0\" width=\"2400\" height=\"1600\"/>\n",
       "  </clipPath>\n",
       "</defs>\n",
       "<path clip-path=\"url(#clip580)\" d=\"\n",
       "M0 1600 L2400 1600 L2400 0 L0 0  Z\n",
       "  \" fill=\"#ffffff\" fill-rule=\"evenodd\" fill-opacity=\"1\"/>\n",
       "<defs>\n",
       "  <clipPath id=\"clip581\">\n",
       "    <rect x=\"480\" y=\"0\" width=\"1681\" height=\"1600\"/>\n",
       "  </clipPath>\n",
       "</defs>\n",
       "<path clip-path=\"url(#clip580)\" d=\"\n",
       "M149.191 1423.18 L1137.92 1423.18 L1137.92 47.2441 L149.191 47.2441  Z\n",
       "  \" fill=\"#ffffff\" fill-rule=\"evenodd\" fill-opacity=\"1\"/>\n",
       "<defs>\n",
       "  <clipPath id=\"clip582\">\n",
       "    <rect x=\"149\" y=\"47\" width=\"990\" height=\"1377\"/>\n",
       "  </clipPath>\n",
       "</defs>\n",
       "<polyline clip-path=\"url(#clip582)\" style=\"stroke:#000000; stroke-linecap:butt; stroke-linejoin:round; stroke-width:2; stroke-opacity:0.1; fill:none\" points=\"\n",
       "  177.174,1423.18 177.174,47.2441 \n",
       "  \"/>\n",
       "<polyline clip-path=\"url(#clip582)\" style=\"stroke:#000000; stroke-linecap:butt; stroke-linejoin:round; stroke-width:2; stroke-opacity:0.1; fill:none\" points=\"\n",
       "  488.094,1423.18 488.094,47.2441 \n",
       "  \"/>\n",
       "<polyline clip-path=\"url(#clip582)\" style=\"stroke:#000000; stroke-linecap:butt; stroke-linejoin:round; stroke-width:2; stroke-opacity:0.1; fill:none\" points=\"\n",
       "  799.015,1423.18 799.015,47.2441 \n",
       "  \"/>\n",
       "<polyline clip-path=\"url(#clip582)\" style=\"stroke:#000000; stroke-linecap:butt; stroke-linejoin:round; stroke-width:2; stroke-opacity:0.1; fill:none\" points=\"\n",
       "  1109.94,1423.18 1109.94,47.2441 \n",
       "  \"/>\n",
       "<polyline clip-path=\"url(#clip580)\" style=\"stroke:#000000; stroke-linecap:butt; stroke-linejoin:round; stroke-width:4; stroke-opacity:1; fill:none\" points=\"\n",
       "  149.191,1423.18 1137.92,1423.18 \n",
       "  \"/>\n",
       "<polyline clip-path=\"url(#clip580)\" style=\"stroke:#000000; stroke-linecap:butt; stroke-linejoin:round; stroke-width:4; stroke-opacity:1; fill:none\" points=\"\n",
       "  177.174,1423.18 177.174,1404.28 \n",
       "  \"/>\n",
       "<polyline clip-path=\"url(#clip580)\" style=\"stroke:#000000; stroke-linecap:butt; stroke-linejoin:round; stroke-width:4; stroke-opacity:1; fill:none\" points=\"\n",
       "  488.094,1423.18 488.094,1404.28 \n",
       "  \"/>\n",
       "<polyline clip-path=\"url(#clip580)\" style=\"stroke:#000000; stroke-linecap:butt; stroke-linejoin:round; stroke-width:4; stroke-opacity:1; fill:none\" points=\"\n",
       "  799.015,1423.18 799.015,1404.28 \n",
       "  \"/>\n",
       "<polyline clip-path=\"url(#clip580)\" style=\"stroke:#000000; stroke-linecap:butt; stroke-linejoin:round; stroke-width:4; stroke-opacity:1; fill:none\" points=\"\n",
       "  1109.94,1423.18 1109.94,1404.28 \n",
       "  \"/>\n",
       "<path clip-path=\"url(#clip580)\" d=\"M154.558 1454.1 Q150.947 1454.1 149.118 1457.66 Q147.313 1461.2 147.313 1468.33 Q147.313 1475.44 149.118 1479.01 Q150.947 1482.55 154.558 1482.55 Q158.192 1482.55 159.998 1479.01 Q161.827 1475.44 161.827 1468.33 Q161.827 1461.2 159.998 1457.66 Q158.192 1454.1 154.558 1454.1 M154.558 1450.39 Q160.368 1450.39 163.424 1455 Q166.502 1459.58 166.502 1468.33 Q166.502 1477.06 163.424 1481.67 Q160.368 1486.25 154.558 1486.25 Q148.748 1486.25 145.669 1481.67 Q142.614 1477.06 142.614 1468.33 Q142.614 1459.58 145.669 1455 Q148.748 1450.39 154.558 1450.39 Z\" fill=\"#000000\" fill-rule=\"evenodd\" fill-opacity=\"1\" /><path clip-path=\"url(#clip580)\" d=\"M174.72 1479.7 L179.604 1479.7 L179.604 1485.58 L174.72 1485.58 L174.72 1479.7 Z\" fill=\"#000000\" fill-rule=\"evenodd\" fill-opacity=\"1\" /><path clip-path=\"url(#clip580)\" d=\"M199.789 1454.1 Q196.178 1454.1 194.35 1457.66 Q192.544 1461.2 192.544 1468.33 Q192.544 1475.44 194.35 1479.01 Q196.178 1482.55 199.789 1482.55 Q203.424 1482.55 205.229 1479.01 Q207.058 1475.44 207.058 1468.33 Q207.058 1461.2 205.229 1457.66 Q203.424 1454.1 199.789 1454.1 M199.789 1450.39 Q205.599 1450.39 208.655 1455 Q211.734 1459.58 211.734 1468.33 Q211.734 1477.06 208.655 1481.67 Q205.599 1486.25 199.789 1486.25 Q193.979 1486.25 190.9 1481.67 Q187.845 1477.06 187.845 1468.33 Q187.845 1459.58 190.9 1455 Q193.979 1450.39 199.789 1450.39 Z\" fill=\"#000000\" fill-rule=\"evenodd\" fill-opacity=\"1\" /><path clip-path=\"url(#clip580)\" d=\"M465.976 1454.1 Q462.365 1454.1 460.536 1457.66 Q458.731 1461.2 458.731 1468.33 Q458.731 1475.44 460.536 1479.01 Q462.365 1482.55 465.976 1482.55 Q469.611 1482.55 471.416 1479.01 Q473.245 1475.44 473.245 1468.33 Q473.245 1461.2 471.416 1457.66 Q469.611 1454.1 465.976 1454.1 M465.976 1450.39 Q471.786 1450.39 474.842 1455 Q477.921 1459.58 477.921 1468.33 Q477.921 1477.06 474.842 1481.67 Q471.786 1486.25 465.976 1486.25 Q460.166 1486.25 457.087 1481.67 Q454.032 1477.06 454.032 1468.33 Q454.032 1459.58 457.087 1455 Q460.166 1450.39 465.976 1450.39 Z\" fill=\"#000000\" fill-rule=\"evenodd\" fill-opacity=\"1\" /><path clip-path=\"url(#clip580)\" d=\"M486.138 1479.7 L491.022 1479.7 L491.022 1485.58 L486.138 1485.58 L486.138 1479.7 Z\" fill=\"#000000\" fill-rule=\"evenodd\" fill-opacity=\"1\" /><path clip-path=\"url(#clip580)\" d=\"M501.254 1451.02 L519.61 1451.02 L519.61 1454.96 L505.536 1454.96 L505.536 1463.43 Q506.555 1463.08 507.573 1462.92 Q508.592 1462.73 509.61 1462.73 Q515.397 1462.73 518.777 1465.9 Q522.157 1469.08 522.157 1474.49 Q522.157 1480.07 518.684 1483.17 Q515.212 1486.25 508.893 1486.25 Q506.717 1486.25 504.448 1485.88 Q502.203 1485.51 499.796 1484.77 L499.796 1480.07 Q501.879 1481.2 504.101 1481.76 Q506.323 1482.32 508.8 1482.32 Q512.805 1482.32 515.143 1480.21 Q517.481 1478.1 517.481 1474.49 Q517.481 1470.88 515.143 1468.77 Q512.805 1466.67 508.8 1466.67 Q506.925 1466.67 505.05 1467.08 Q503.198 1467.5 501.254 1468.38 L501.254 1451.02 Z\" fill=\"#000000\" fill-rule=\"evenodd\" fill-opacity=\"1\" /><path clip-path=\"url(#clip580)\" d=\"M766.168 1481.64 L773.806 1481.64 L773.806 1455.28 L765.496 1456.95 L765.496 1452.69 L773.76 1451.02 L778.436 1451.02 L778.436 1481.64 L786.075 1481.64 L786.075 1485.58 L766.168 1485.58 L766.168 1481.64 Z\" fill=\"#000000\" fill-rule=\"evenodd\" fill-opacity=\"1\" /><path clip-path=\"url(#clip580)\" d=\"M795.519 1479.7 L800.404 1479.7 L800.404 1485.58 L795.519 1485.58 L795.519 1479.7 Z\" fill=\"#000000\" fill-rule=\"evenodd\" fill-opacity=\"1\" /><path clip-path=\"url(#clip580)\" d=\"M820.589 1454.1 Q816.978 1454.1 815.149 1457.66 Q813.343 1461.2 813.343 1468.33 Q813.343 1475.44 815.149 1479.01 Q816.978 1482.55 820.589 1482.55 Q824.223 1482.55 826.028 1479.01 Q827.857 1475.44 827.857 1468.33 Q827.857 1461.2 826.028 1457.66 Q824.223 1454.1 820.589 1454.1 M820.589 1450.39 Q826.399 1450.39 829.454 1455 Q832.533 1459.58 832.533 1468.33 Q832.533 1477.06 829.454 1481.67 Q826.399 1486.25 820.589 1486.25 Q814.778 1486.25 811.7 1481.67 Q808.644 1477.06 808.644 1468.33 Q808.644 1459.58 811.7 1455 Q814.778 1450.39 820.589 1450.39 Z\" fill=\"#000000\" fill-rule=\"evenodd\" fill-opacity=\"1\" /><path clip-path=\"url(#clip580)\" d=\"M1077.59 1481.64 L1085.22 1481.64 L1085.22 1455.28 L1076.91 1456.95 L1076.91 1452.69 L1085.18 1451.02 L1089.85 1451.02 L1089.85 1481.64 L1097.49 1481.64 L1097.49 1485.58 L1077.59 1485.58 L1077.59 1481.64 Z\" fill=\"#000000\" fill-rule=\"evenodd\" fill-opacity=\"1\" /><path clip-path=\"url(#clip580)\" d=\"M1106.94 1479.7 L1111.82 1479.7 L1111.82 1485.58 L1106.94 1485.58 L1106.94 1479.7 Z\" fill=\"#000000\" fill-rule=\"evenodd\" fill-opacity=\"1\" /><path clip-path=\"url(#clip580)\" d=\"M1122.05 1451.02 L1140.41 1451.02 L1140.41 1454.96 L1126.34 1454.96 L1126.34 1463.43 Q1127.35 1463.08 1128.37 1462.92 Q1129.39 1462.73 1130.41 1462.73 Q1136.2 1462.73 1139.58 1465.9 Q1142.96 1469.08 1142.96 1474.49 Q1142.96 1480.07 1139.48 1483.17 Q1136.01 1486.25 1129.69 1486.25 Q1127.52 1486.25 1125.25 1485.88 Q1123 1485.51 1120.59 1484.77 L1120.59 1480.07 Q1122.68 1481.2 1124.9 1481.76 Q1127.12 1482.32 1129.6 1482.32 Q1133.6 1482.32 1135.94 1480.21 Q1138.28 1478.1 1138.28 1474.49 Q1138.28 1470.88 1135.94 1468.77 Q1133.6 1466.67 1129.6 1466.67 Q1127.72 1466.67 1125.85 1467.08 Q1124 1467.5 1122.05 1468.38 L1122.05 1451.02 Z\" fill=\"#000000\" fill-rule=\"evenodd\" fill-opacity=\"1\" /><path clip-path=\"url(#clip580)\" d=\"M531.009 1522.27 L531.009 1532.4 L543.072 1532.4 L543.072 1536.95 L531.009 1536.95 L531.009 1556.3 Q531.009 1560.66 532.186 1561.9 Q533.396 1563.14 537.056 1563.14 L543.072 1563.14 L543.072 1568.04 L537.056 1568.04 Q530.277 1568.04 527.699 1565.53 Q525.12 1562.98 525.12 1556.3 L525.12 1536.95 L520.824 1536.95 L520.824 1532.4 L525.12 1532.4 L525.12 1522.27 L531.009 1522.27 Z\" fill=\"#000000\" fill-rule=\"evenodd\" fill-opacity=\"1\" /><path clip-path=\"url(#clip580)\" d=\"M550.774 1532.4 L556.631 1532.4 L556.631 1568.04 L550.774 1568.04 L550.774 1532.4 M550.774 1518.52 L556.631 1518.52 L556.631 1525.93 L550.774 1525.93 L550.774 1518.52 Z\" fill=\"#000000\" fill-rule=\"evenodd\" fill-opacity=\"1\" /><path clip-path=\"url(#clip580)\" d=\"M596.639 1539.24 Q598.835 1535.29 601.891 1533.41 Q604.946 1531.54 609.084 1531.54 Q614.654 1531.54 617.678 1535.45 Q620.702 1539.33 620.702 1546.53 L620.702 1568.04 L614.813 1568.04 L614.813 1546.72 Q614.813 1541.59 612.999 1539.11 Q611.185 1536.63 607.461 1536.63 Q602.909 1536.63 600.268 1539.65 Q597.626 1542.68 597.626 1547.9 L597.626 1568.04 L591.738 1568.04 L591.738 1546.72 Q591.738 1541.56 589.923 1539.11 Q588.109 1536.63 584.322 1536.63 Q579.834 1536.63 577.192 1539.68 Q574.55 1542.71 574.55 1547.9 L574.55 1568.04 L568.662 1568.04 L568.662 1532.4 L574.55 1532.4 L574.55 1537.93 Q576.555 1534.66 579.356 1533.1 Q582.157 1531.54 586.008 1531.54 Q589.892 1531.54 592.597 1533.51 Q595.334 1535.48 596.639 1539.24 Z\" fill=\"#000000\" fill-rule=\"evenodd\" fill-opacity=\"1\" /><path clip-path=\"url(#clip580)\" d=\"M662.874 1548.76 L662.874 1551.62 L635.947 1551.62 Q636.329 1557.67 639.576 1560.85 Q642.854 1564 648.679 1564 Q652.053 1564 655.204 1563.17 Q658.387 1562.35 661.506 1560.69 L661.506 1566.23 Q658.355 1567.57 655.045 1568.27 Q651.734 1568.97 648.329 1568.97 Q639.799 1568.97 634.802 1564 Q629.836 1559.04 629.836 1550.57 Q629.836 1541.82 634.547 1536.69 Q639.289 1531.54 647.31 1531.54 Q654.503 1531.54 658.673 1536.18 Q662.874 1540.8 662.874 1548.76 M657.018 1547.04 Q656.954 1542.23 654.312 1539.37 Q651.703 1536.5 647.374 1536.5 Q642.472 1536.5 639.512 1539.27 Q636.584 1542.04 636.138 1547.07 L657.018 1547.04 Z\" fill=\"#000000\" fill-rule=\"evenodd\" fill-opacity=\"1\" /><path clip-path=\"url(#clip580)\" d=\"M707.275 1518.58 Q703.01 1525.9 700.941 1533.06 Q698.872 1540.23 698.872 1547.58 Q698.872 1554.93 700.941 1562.16 Q703.042 1569.35 707.275 1576.64 L702.183 1576.64 Q697.408 1569.16 695.021 1561.93 Q692.666 1554.71 692.666 1547.58 Q692.666 1540.48 695.021 1533.29 Q697.376 1526.09 702.183 1518.58 L707.275 1518.58 Z\" fill=\"#000000\" fill-rule=\"evenodd\" fill-opacity=\"1\" /><path clip-path=\"url(#clip580)\" d=\"M741.364 1533.45 L741.364 1538.98 Q738.881 1537.71 736.207 1537.07 Q733.534 1536.44 730.669 1536.44 Q726.309 1536.44 724.112 1537.77 Q721.948 1539.11 721.948 1541.79 Q721.948 1543.82 723.508 1545 Q725.067 1546.15 729.778 1547.2 L731.783 1547.64 Q738.022 1548.98 740.631 1551.43 Q743.273 1553.85 743.273 1558.21 Q743.273 1563.17 739.327 1566.07 Q735.412 1568.97 728.537 1568.97 Q725.672 1568.97 722.553 1568.39 Q719.465 1567.85 716.028 1566.74 L716.028 1560.69 Q719.275 1562.38 722.426 1563.24 Q725.577 1564.07 728.664 1564.07 Q732.802 1564.07 735.03 1562.66 Q737.258 1561.23 737.258 1558.65 Q737.258 1556.27 735.634 1554.99 Q734.043 1553.72 728.6 1552.54 L726.563 1552.07 Q721.121 1550.92 718.702 1548.56 Q716.283 1546.18 716.283 1542.04 Q716.283 1537.01 719.847 1534.27 Q723.412 1531.54 729.969 1531.54 Q733.215 1531.54 736.08 1532.01 Q738.945 1532.49 741.364 1533.45 Z\" fill=\"#000000\" fill-rule=\"evenodd\" fill-opacity=\"1\" /><path clip-path=\"url(#clip580)\" d=\"M751.676 1518.58 L756.769 1518.58 Q761.543 1526.09 763.898 1533.29 Q766.285 1540.48 766.285 1547.58 Q766.285 1554.71 763.898 1561.93 Q761.543 1569.16 756.769 1576.64 L751.676 1576.64 Q755.909 1569.35 757.978 1562.16 Q760.079 1554.93 760.079 1547.58 Q760.079 1540.23 757.978 1533.06 Q755.909 1525.9 751.676 1518.58 Z\" fill=\"#000000\" fill-rule=\"evenodd\" fill-opacity=\"1\" /><polyline clip-path=\"url(#clip582)\" style=\"stroke:#000000; stroke-linecap:butt; stroke-linejoin:round; stroke-width:2; stroke-opacity:0.1; fill:none\" points=\"\n",
       "  149.191,1344.64 1137.92,1344.64 \n",
       "  \"/>\n",
       "<polyline clip-path=\"url(#clip582)\" style=\"stroke:#000000; stroke-linecap:butt; stroke-linejoin:round; stroke-width:2; stroke-opacity:0.1; fill:none\" points=\"\n",
       "  149.191,1064.98 1137.92,1064.98 \n",
       "  \"/>\n",
       "<polyline clip-path=\"url(#clip582)\" style=\"stroke:#000000; stroke-linecap:butt; stroke-linejoin:round; stroke-width:2; stroke-opacity:0.1; fill:none\" points=\"\n",
       "  149.191,785.327 1137.92,785.327 \n",
       "  \"/>\n",
       "<polyline clip-path=\"url(#clip582)\" style=\"stroke:#000000; stroke-linecap:butt; stroke-linejoin:round; stroke-width:2; stroke-opacity:0.1; fill:none\" points=\"\n",
       "  149.191,505.671 1137.92,505.671 \n",
       "  \"/>\n",
       "<polyline clip-path=\"url(#clip582)\" style=\"stroke:#000000; stroke-linecap:butt; stroke-linejoin:round; stroke-width:2; stroke-opacity:0.1; fill:none\" points=\"\n",
       "  149.191,226.014 1137.92,226.014 \n",
       "  \"/>\n",
       "<polyline clip-path=\"url(#clip580)\" style=\"stroke:#000000; stroke-linecap:butt; stroke-linejoin:round; stroke-width:4; stroke-opacity:1; fill:none\" points=\"\n",
       "  149.191,1423.18 149.191,47.2441 \n",
       "  \"/>\n",
       "<polyline clip-path=\"url(#clip580)\" style=\"stroke:#000000; stroke-linecap:butt; stroke-linejoin:round; stroke-width:4; stroke-opacity:1; fill:none\" points=\"\n",
       "  149.191,1344.64 168.089,1344.64 \n",
       "  \"/>\n",
       "<polyline clip-path=\"url(#clip580)\" style=\"stroke:#000000; stroke-linecap:butt; stroke-linejoin:round; stroke-width:4; stroke-opacity:1; fill:none\" points=\"\n",
       "  149.191,1064.98 168.089,1064.98 \n",
       "  \"/>\n",
       "<polyline clip-path=\"url(#clip580)\" style=\"stroke:#000000; stroke-linecap:butt; stroke-linejoin:round; stroke-width:4; stroke-opacity:1; fill:none\" points=\"\n",
       "  149.191,785.327 168.089,785.327 \n",
       "  \"/>\n",
       "<polyline clip-path=\"url(#clip580)\" style=\"stroke:#000000; stroke-linecap:butt; stroke-linejoin:round; stroke-width:4; stroke-opacity:1; fill:none\" points=\"\n",
       "  149.191,505.671 168.089,505.671 \n",
       "  \"/>\n",
       "<polyline clip-path=\"url(#clip580)\" style=\"stroke:#000000; stroke-linecap:butt; stroke-linejoin:round; stroke-width:4; stroke-opacity:1; fill:none\" points=\"\n",
       "  149.191,226.014 168.089,226.014 \n",
       "  \"/>\n",
       "<path clip-path=\"url(#clip580)\" d=\"M51.3162 1345.09 L80.992 1345.09 L80.992 1349.03 L51.3162 1349.03 L51.3162 1345.09 Z\" fill=\"#000000\" fill-rule=\"evenodd\" fill-opacity=\"1\" /><path clip-path=\"url(#clip580)\" d=\"M101.663 1342.78 Q98.515 1342.78 96.6632 1344.93 Q94.8345 1347.08 94.8345 1350.83 Q94.8345 1354.56 96.6632 1356.74 Q98.515 1358.89 101.663 1358.89 Q104.811 1358.89 106.64 1356.74 Q108.492 1354.56 108.492 1350.83 Q108.492 1347.08 106.64 1344.93 Q104.811 1342.78 101.663 1342.78 M110.946 1328.12 L110.946 1332.38 Q109.186 1331.55 107.381 1331.11 Q105.598 1330.67 103.839 1330.67 Q99.2095 1330.67 96.7558 1333.8 Q94.3252 1336.92 93.978 1343.24 Q95.3437 1341.23 97.4039 1340.16 Q99.4641 1339.07 101.941 1339.07 Q107.149 1339.07 110.158 1342.25 Q113.191 1345.39 113.191 1350.83 Q113.191 1356.16 110.043 1359.37 Q106.895 1362.59 101.663 1362.59 Q95.6678 1362.59 92.4965 1358.01 Q89.3253 1353.4 89.3253 1344.68 Q89.3253 1336.48 93.2141 1331.62 Q97.103 1326.74 103.654 1326.74 Q105.413 1326.74 107.196 1327.08 Q109.001 1327.43 110.946 1328.12 Z\" fill=\"#000000\" fill-rule=\"evenodd\" fill-opacity=\"1\" /><path clip-path=\"url(#clip580)\" d=\"M50.9921 1065.44 L80.6679 1065.44 L80.6679 1069.37 L50.9921 1069.37 L50.9921 1065.44 Z\" fill=\"#000000\" fill-rule=\"evenodd\" fill-opacity=\"1\" /><path clip-path=\"url(#clip580)\" d=\"M103.608 1051.78 L91.8021 1070.23 L103.608 1070.23 L103.608 1051.78 M102.381 1047.7 L108.26 1047.7 L108.26 1070.23 L113.191 1070.23 L113.191 1074.12 L108.26 1074.12 L108.26 1082.26 L103.608 1082.26 L103.608 1074.12 L88.0058 1074.12 L88.0058 1069.6 L102.381 1047.7 Z\" fill=\"#000000\" fill-rule=\"evenodd\" fill-opacity=\"1\" /><path clip-path=\"url(#clip580)\" d=\"M53.0754 785.779 L82.7512 785.779 L82.7512 789.714 L53.0754 789.714 L53.0754 785.779 Z\" fill=\"#000000\" fill-rule=\"evenodd\" fill-opacity=\"1\" /><path clip-path=\"url(#clip580)\" d=\"M96.8715 798.672 L113.191 798.672 L113.191 802.607 L91.2465 802.607 L91.2465 798.672 Q93.9086 795.918 98.4919 791.288 Q103.098 786.635 104.279 785.293 Q106.524 782.77 107.404 781.034 Q108.307 779.274 108.307 777.584 Q108.307 774.83 106.362 773.094 Q104.441 771.358 101.339 771.358 Q99.14 771.358 96.6863 772.122 Q94.2558 772.885 91.478 774.436 L91.478 769.714 Q94.3021 768.58 96.7558 768.001 Q99.2095 767.422 101.246 767.422 Q106.617 767.422 109.811 770.108 Q113.006 772.793 113.006 777.284 Q113.006 779.413 112.196 781.334 Q111.408 783.233 109.302 785.825 Q108.723 786.496 105.621 789.714 Q102.52 792.908 96.8715 798.672 Z\" fill=\"#000000\" fill-rule=\"evenodd\" fill-opacity=\"1\" /><path clip-path=\"url(#clip580)\" d=\"M101.246 491.469 Q97.6354 491.469 95.8067 495.034 Q94.0012 498.576 94.0012 505.705 Q94.0012 512.812 95.8067 516.377 Q97.6354 519.918 101.246 519.918 Q104.881 519.918 106.686 516.377 Q108.515 512.812 108.515 505.705 Q108.515 498.576 106.686 495.034 Q104.881 491.469 101.246 491.469 M101.246 487.766 Q107.057 487.766 110.112 492.372 Q113.191 496.956 113.191 505.705 Q113.191 514.432 110.112 519.039 Q107.057 523.622 101.246 523.622 Q95.4363 523.622 92.3576 519.039 Q89.3021 514.432 89.3021 505.705 Q89.3021 496.956 92.3576 492.372 Q95.4363 487.766 101.246 487.766 Z\" fill=\"#000000\" fill-rule=\"evenodd\" fill-opacity=\"1\" /><path clip-path=\"url(#clip580)\" d=\"M96.8715 239.359 L113.191 239.359 L113.191 243.294 L91.2465 243.294 L91.2465 239.359 Q93.9086 236.604 98.4919 231.975 Q103.098 227.322 104.279 225.979 Q106.524 223.456 107.404 221.72 Q108.307 219.961 108.307 218.271 Q108.307 215.516 106.362 213.78 Q104.441 212.044 101.339 212.044 Q99.14 212.044 96.6863 212.808 Q94.2558 213.572 91.478 215.123 L91.478 210.401 Q94.3021 209.266 96.7558 208.688 Q99.2095 208.109 101.246 208.109 Q106.617 208.109 109.811 210.794 Q113.006 213.479 113.006 217.97 Q113.006 220.1 112.196 222.021 Q111.408 223.919 109.302 226.512 Q108.723 227.183 105.621 230.401 Q102.52 233.595 96.8715 239.359 Z\" fill=\"#000000\" fill-rule=\"evenodd\" fill-opacity=\"1\" /><polyline clip-path=\"url(#clip582)\" style=\"stroke:#009af9; stroke-linecap:butt; stroke-linejoin:round; stroke-width:4; stroke-opacity:1; fill:none\" points=\"\n",
       "  177.174,925.156 192.72,903.078 208.266,881 223.812,858.921 239.358,836.843 254.904,814.765 270.45,792.687 285.996,770.609 301.542,748.531 317.088,726.452 \n",
       "  332.634,704.374 348.18,682.296 363.726,660.218 379.272,638.14 394.818,616.062 410.364,593.983 425.91,571.905 441.456,549.827 457.002,527.749 472.548,505.671 \n",
       "  488.094,505.671 503.64,505.671 519.186,505.671 534.732,505.671 550.278,505.671 565.824,505.671 581.37,505.671 596.916,505.671 612.462,505.671 628.008,505.671 \n",
       "  643.554,505.671 659.1,505.671 674.646,505.671 690.193,505.671 705.739,505.671 721.285,505.671 736.831,505.671 752.377,505.671 767.923,505.671 783.469,505.671 \n",
       "  799.015,505.671 814.561,484.697 830.107,463.722 845.653,442.748 861.199,421.774 876.745,400.799 892.291,379.825 907.837,358.851 923.383,337.877 938.929,316.902 \n",
       "  954.475,295.928 970.021,274.954 985.567,253.98 1001.11,233.005 1016.66,212.031 1032.21,191.057 1047.75,170.083 1063.3,149.108 1078.84,128.134 1094.39,107.16 \n",
       "  1109.94,86.1857 \n",
       "  \"/>\n",
       "<polyline clip-path=\"url(#clip582)\" style=\"stroke:#e26f46; stroke-linecap:butt; stroke-linejoin:round; stroke-width:4; stroke-opacity:1; fill:none\" points=\"\n",
       "  177.174,365.842 192.72,365.842 208.266,365.842 223.812,365.842 239.358,365.842 254.904,365.842 270.45,365.842 285.996,365.842 301.542,365.842 317.088,365.842 \n",
       "  332.634,365.842 348.18,365.842 363.726,365.842 379.272,365.842 394.818,365.842 410.364,365.842 425.91,365.842 441.456,365.842 457.002,365.842 472.548,365.842 \n",
       "  488.094,365.842 503.64,334.769 519.186,303.696 534.732,272.623 550.278,241.551 565.824,210.478 581.37,179.405 596.916,148.332 612.462,117.259 628.008,86.1857 \n",
       "  643.554,86.1857 659.1,117.259 674.646,148.332 690.193,179.405 705.739,210.478 721.285,241.551 736.831,272.623 752.377,303.696 767.923,334.769 783.469,365.842 \n",
       "  799.015,365.842 814.561,365.842 830.107,365.842 845.653,365.842 861.199,365.842 876.745,365.842 892.291,365.842 907.837,365.842 923.383,365.842 938.929,365.842 \n",
       "  954.475,365.842 970.021,365.842 985.567,365.842 1001.11,365.842 1016.66,365.842 1032.21,365.842 1047.75,365.842 1063.3,365.842 1078.84,365.842 1094.39,365.842 \n",
       "  1109.94,365.842 \n",
       "  \"/>\n",
       "<polyline clip-path=\"url(#clip582)\" style=\"stroke:#3da44d; stroke-linecap:butt; stroke-linejoin:round; stroke-width:4; stroke-opacity:1; fill:none\" points=\"\n",
       "  177.174,505.671 192.72,505.671 208.266,505.671 223.812,505.671 239.358,505.671 254.904,505.671 270.45,505.671 285.996,505.671 301.542,505.671 317.088,505.671 \n",
       "  332.634,505.671 348.18,505.671 363.726,505.671 379.272,505.671 394.818,505.671 410.364,505.671 425.91,505.671 441.456,505.671 457.002,505.671 472.548,505.671 \n",
       "  488.094,505.671 503.64,551.911 519.186,598.152 534.732,644.392 550.278,690.632 565.824,736.873 581.37,783.113 596.916,829.354 612.462,875.594 628.008,921.834 \n",
       "  643.554,968.075 659.1,1014.32 674.646,1060.56 690.193,1106.8 705.739,1153.04 721.285,1199.28 736.831,1245.52 752.377,1291.76 767.923,1338 783.469,1384.24 \n",
       "  799.015,1384.24 814.561,1384.24 830.107,1384.24 845.653,1384.24 861.199,1384.24 876.745,1384.24 892.291,1384.24 907.837,1384.24 923.383,1384.24 938.929,1384.24 \n",
       "  954.475,1384.24 970.021,1384.24 985.567,1384.24 1001.11,1384.24 1016.66,1384.24 1032.21,1384.24 1047.75,1384.24 1063.3,1384.24 1078.84,1384.24 1094.39,1384.24 \n",
       "  1109.94,1384.24 \n",
       "  \"/>\n",
       "<path clip-path=\"url(#clip580)\" d=\"\n",
       "M182.148 1377.32 L344.298 1377.32 L344.298 1169.96 L182.148 1169.96  Z\n",
       "  \" fill=\"#ffffff\" fill-rule=\"evenodd\" fill-opacity=\"1\"/>\n",
       "<polyline clip-path=\"url(#clip580)\" style=\"stroke:#000000; stroke-linecap:butt; stroke-linejoin:round; stroke-width:4; stroke-opacity:1; fill:none\" points=\"\n",
       "  182.148,1377.32 344.298,1377.32 344.298,1169.96 182.148,1169.96 182.148,1377.32 \n",
       "  \"/>\n",
       "<polyline clip-path=\"url(#clip580)\" style=\"stroke:#009af9; stroke-linecap:butt; stroke-linejoin:round; stroke-width:4; stroke-opacity:1; fill:none\" points=\"\n",
       "  193.134,1221.8 259.049,1221.8 \n",
       "  \"/>\n",
       "<path clip-path=\"url(#clip580)\" d=\"M274.318 1235.19 L274.318 1248.94 L270.035 1248.94 L270.035 1213.15 L274.318 1213.15 L274.318 1217.08 Q275.66 1214.77 277.697 1213.66 Q279.757 1212.52 282.605 1212.52 Q287.327 1212.52 290.267 1216.27 Q293.23 1220.02 293.23 1226.14 Q293.23 1232.25 290.267 1236 Q287.327 1239.75 282.605 1239.75 Q279.757 1239.75 277.697 1238.64 Q275.66 1237.5 274.318 1235.19 M288.808 1226.14 Q288.808 1221.44 286.864 1218.77 Q284.943 1216.09 281.563 1216.09 Q278.183 1216.09 276.239 1218.77 Q274.318 1221.44 274.318 1226.14 Q274.318 1230.83 276.239 1233.52 Q278.183 1236.18 281.563 1236.18 Q284.943 1236.18 286.864 1233.52 Q288.808 1230.83 288.808 1226.14 Z\" fill=\"#000000\" fill-rule=\"evenodd\" fill-opacity=\"1\" /><path clip-path=\"url(#clip580)\" d=\"M321.841 1213.15 L312.466 1225.77 L322.327 1239.08 L317.304 1239.08 L309.757 1228.89 L302.211 1239.08 L297.188 1239.08 L307.257 1225.51 L298.044 1213.15 L303.068 1213.15 L309.942 1222.39 L316.817 1213.15 L321.841 1213.15 Z\" fill=\"#000000\" fill-rule=\"evenodd\" fill-opacity=\"1\" /><polyline clip-path=\"url(#clip580)\" style=\"stroke:#e26f46; stroke-linecap:butt; stroke-linejoin:round; stroke-width:4; stroke-opacity:1; fill:none\" points=\"\n",
       "  193.134,1273.64 259.049,1273.64 \n",
       "  \"/>\n",
       "<path clip-path=\"url(#clip580)\" d=\"M274.318 1287.03 L274.318 1300.78 L270.035 1300.78 L270.035 1264.99 L274.318 1264.99 L274.318 1268.92 Q275.66 1266.61 277.697 1265.5 Q279.757 1264.36 282.605 1264.36 Q287.327 1264.36 290.267 1268.11 Q293.23 1271.86 293.23 1277.98 Q293.23 1284.09 290.267 1287.84 Q287.327 1291.59 282.605 1291.59 Q279.757 1291.59 277.697 1290.48 Q275.66 1289.34 274.318 1287.03 M288.808 1277.98 Q288.808 1273.28 286.864 1270.61 Q284.943 1267.93 281.563 1267.93 Q278.183 1267.93 276.239 1270.61 Q274.318 1273.28 274.318 1277.98 Q274.318 1282.67 276.239 1285.36 Q278.183 1288.02 281.563 1288.02 Q284.943 1288.02 286.864 1285.36 Q288.808 1282.67 288.808 1277.98 Z\" fill=\"#000000\" fill-rule=\"evenodd\" fill-opacity=\"1\" /><path clip-path=\"url(#clip580)\" d=\"M298.438 1264.99 L318.669 1264.99 L318.669 1268.88 L302.651 1287.51 L318.669 1287.51 L318.669 1290.92 L297.859 1290.92 L297.859 1287.03 L313.878 1268.39 L298.438 1268.39 L298.438 1264.99 Z\" fill=\"#000000\" fill-rule=\"evenodd\" fill-opacity=\"1\" /><polyline clip-path=\"url(#clip580)\" style=\"stroke:#3da44d; stroke-linecap:butt; stroke-linejoin:round; stroke-width:4; stroke-opacity:1; fill:none\" points=\"\n",
       "  193.134,1325.48 259.049,1325.48 \n",
       "  \"/>\n",
       "<path clip-path=\"url(#clip580)\" d=\"M289.294 1326.32 L274.549 1326.32 Q274.896 1333.24 276.494 1336.18 Q278.484 1339.79 281.933 1339.79 Q285.406 1339.79 287.327 1336.16 Q289.017 1332.96 289.294 1326.32 M289.225 1322.39 Q288.577 1315.81 287.327 1313.5 Q285.336 1309.84 281.933 1309.84 Q278.392 1309.84 276.517 1313.45 Q275.035 1316.37 274.595 1322.39 L289.225 1322.39 M281.933 1306.37 Q287.489 1306.37 290.66 1311.27 Q293.831 1316.16 293.831 1324.82 Q293.831 1333.45 290.66 1338.36 Q287.489 1343.29 281.933 1343.29 Q276.355 1343.29 273.207 1338.36 Q270.035 1333.45 270.035 1324.82 Q270.035 1316.16 273.207 1311.27 Q276.355 1306.37 281.933 1306.37 Z\" fill=\"#000000\" fill-rule=\"evenodd\" fill-opacity=\"1\" /><path clip-path=\"url(#clip580)\" d=\"\n",
       "M1364.03 1423.18 L2352.76 1423.18 L2352.76 47.2441 L1364.03 47.2441  Z\n",
       "  \" fill=\"#ffffff\" fill-rule=\"evenodd\" fill-opacity=\"1\"/>\n",
       "<defs>\n",
       "  <clipPath id=\"clip583\">\n",
       "    <rect x=\"1364\" y=\"47\" width=\"990\" height=\"1377\"/>\n",
       "  </clipPath>\n",
       "</defs>\n",
       "<polyline clip-path=\"url(#clip583)\" style=\"stroke:#000000; stroke-linecap:butt; stroke-linejoin:round; stroke-width:2; stroke-opacity:0.1; fill:none\" points=\"\n",
       "  1392.01,1423.18 1392.01,47.2441 \n",
       "  \"/>\n",
       "<polyline clip-path=\"url(#clip583)\" style=\"stroke:#000000; stroke-linecap:butt; stroke-linejoin:round; stroke-width:2; stroke-opacity:0.1; fill:none\" points=\"\n",
       "  1702.93,1423.18 1702.93,47.2441 \n",
       "  \"/>\n",
       "<polyline clip-path=\"url(#clip583)\" style=\"stroke:#000000; stroke-linecap:butt; stroke-linejoin:round; stroke-width:2; stroke-opacity:0.1; fill:none\" points=\"\n",
       "  2013.85,1423.18 2013.85,47.2441 \n",
       "  \"/>\n",
       "<polyline clip-path=\"url(#clip583)\" style=\"stroke:#000000; stroke-linecap:butt; stroke-linejoin:round; stroke-width:2; stroke-opacity:0.1; fill:none\" points=\"\n",
       "  2324.77,1423.18 2324.77,47.2441 \n",
       "  \"/>\n",
       "<polyline clip-path=\"url(#clip580)\" style=\"stroke:#000000; stroke-linecap:butt; stroke-linejoin:round; stroke-width:4; stroke-opacity:1; fill:none\" points=\"\n",
       "  1364.03,1423.18 2352.76,1423.18 \n",
       "  \"/>\n",
       "<polyline clip-path=\"url(#clip580)\" style=\"stroke:#000000; stroke-linecap:butt; stroke-linejoin:round; stroke-width:4; stroke-opacity:1; fill:none\" points=\"\n",
       "  1392.01,1423.18 1392.01,1404.28 \n",
       "  \"/>\n",
       "<polyline clip-path=\"url(#clip580)\" style=\"stroke:#000000; stroke-linecap:butt; stroke-linejoin:round; stroke-width:4; stroke-opacity:1; fill:none\" points=\"\n",
       "  1702.93,1423.18 1702.93,1404.28 \n",
       "  \"/>\n",
       "<polyline clip-path=\"url(#clip580)\" style=\"stroke:#000000; stroke-linecap:butt; stroke-linejoin:round; stroke-width:4; stroke-opacity:1; fill:none\" points=\"\n",
       "  2013.85,1423.18 2013.85,1404.28 \n",
       "  \"/>\n",
       "<polyline clip-path=\"url(#clip580)\" style=\"stroke:#000000; stroke-linecap:butt; stroke-linejoin:round; stroke-width:4; stroke-opacity:1; fill:none\" points=\"\n",
       "  2324.77,1423.18 2324.77,1404.28 \n",
       "  \"/>\n",
       "<path clip-path=\"url(#clip580)\" d=\"M1369.4 1454.1 Q1365.78 1454.1 1363.96 1457.66 Q1362.15 1461.2 1362.15 1468.33 Q1362.15 1475.44 1363.96 1479.01 Q1365.78 1482.55 1369.4 1482.55 Q1373.03 1482.55 1374.84 1479.01 Q1376.66 1475.44 1376.66 1468.33 Q1376.66 1461.2 1374.84 1457.66 Q1373.03 1454.1 1369.4 1454.1 M1369.4 1450.39 Q1375.21 1450.39 1378.26 1455 Q1381.34 1459.58 1381.34 1468.33 Q1381.34 1477.06 1378.26 1481.67 Q1375.21 1486.25 1369.4 1486.25 Q1363.59 1486.25 1360.51 1481.67 Q1357.45 1477.06 1357.45 1468.33 Q1357.45 1459.58 1360.51 1455 Q1363.59 1450.39 1369.4 1450.39 Z\" fill=\"#000000\" fill-rule=\"evenodd\" fill-opacity=\"1\" /><path clip-path=\"url(#clip580)\" d=\"M1389.56 1479.7 L1394.44 1479.7 L1394.44 1485.58 L1389.56 1485.58 L1389.56 1479.7 Z\" fill=\"#000000\" fill-rule=\"evenodd\" fill-opacity=\"1\" /><path clip-path=\"url(#clip580)\" d=\"M1414.63 1454.1 Q1411.02 1454.1 1409.19 1457.66 Q1407.38 1461.2 1407.38 1468.33 Q1407.38 1475.44 1409.19 1479.01 Q1411.02 1482.55 1414.63 1482.55 Q1418.26 1482.55 1420.07 1479.01 Q1421.9 1475.44 1421.9 1468.33 Q1421.9 1461.2 1420.07 1457.66 Q1418.26 1454.1 1414.63 1454.1 M1414.63 1450.39 Q1420.44 1450.39 1423.49 1455 Q1426.57 1459.58 1426.57 1468.33 Q1426.57 1477.06 1423.49 1481.67 Q1420.44 1486.25 1414.63 1486.25 Q1408.82 1486.25 1405.74 1481.67 Q1402.68 1477.06 1402.68 1468.33 Q1402.68 1459.58 1405.74 1455 Q1408.82 1450.39 1414.63 1450.39 Z\" fill=\"#000000\" fill-rule=\"evenodd\" fill-opacity=\"1\" /><path clip-path=\"url(#clip580)\" d=\"M1680.81 1454.1 Q1677.2 1454.1 1675.37 1457.66 Q1673.57 1461.2 1673.57 1468.33 Q1673.57 1475.44 1675.37 1479.01 Q1677.2 1482.55 1680.81 1482.55 Q1684.45 1482.55 1686.25 1479.01 Q1688.08 1475.44 1688.08 1468.33 Q1688.08 1461.2 1686.25 1457.66 Q1684.45 1454.1 1680.81 1454.1 M1680.81 1450.39 Q1686.62 1450.39 1689.68 1455 Q1692.76 1459.58 1692.76 1468.33 Q1692.76 1477.06 1689.68 1481.67 Q1686.62 1486.25 1680.81 1486.25 Q1675 1486.25 1671.93 1481.67 Q1668.87 1477.06 1668.87 1468.33 Q1668.87 1459.58 1671.93 1455 Q1675 1450.39 1680.81 1450.39 Z\" fill=\"#000000\" fill-rule=\"evenodd\" fill-opacity=\"1\" /><path clip-path=\"url(#clip580)\" d=\"M1700.98 1479.7 L1705.86 1479.7 L1705.86 1485.58 L1700.98 1485.58 L1700.98 1479.7 Z\" fill=\"#000000\" fill-rule=\"evenodd\" fill-opacity=\"1\" /><path clip-path=\"url(#clip580)\" d=\"M1716.09 1451.02 L1734.45 1451.02 L1734.45 1454.96 L1720.37 1454.96 L1720.37 1463.43 Q1721.39 1463.08 1722.41 1462.92 Q1723.43 1462.73 1724.45 1462.73 Q1730.24 1462.73 1733.61 1465.9 Q1736.99 1469.08 1736.99 1474.49 Q1736.99 1480.07 1733.52 1483.17 Q1730.05 1486.25 1723.73 1486.25 Q1721.55 1486.25 1719.29 1485.88 Q1717.04 1485.51 1714.63 1484.77 L1714.63 1480.07 Q1716.72 1481.2 1718.94 1481.76 Q1721.16 1482.32 1723.64 1482.32 Q1727.64 1482.32 1729.98 1480.21 Q1732.32 1478.1 1732.32 1474.49 Q1732.32 1470.88 1729.98 1468.77 Q1727.64 1466.67 1723.64 1466.67 Q1721.76 1466.67 1719.89 1467.08 Q1718.04 1467.5 1716.09 1468.38 L1716.09 1451.02 Z\" fill=\"#000000\" fill-rule=\"evenodd\" fill-opacity=\"1\" /><path clip-path=\"url(#clip580)\" d=\"M1981.01 1481.64 L1988.64 1481.64 L1988.64 1455.28 L1980.33 1456.95 L1980.33 1452.69 L1988.6 1451.02 L1993.27 1451.02 L1993.27 1481.64 L2000.91 1481.64 L2000.91 1485.58 L1981.01 1485.58 L1981.01 1481.64 Z\" fill=\"#000000\" fill-rule=\"evenodd\" fill-opacity=\"1\" /><path clip-path=\"url(#clip580)\" d=\"M2010.36 1479.7 L2015.24 1479.7 L2015.24 1485.58 L2010.36 1485.58 L2010.36 1479.7 Z\" fill=\"#000000\" fill-rule=\"evenodd\" fill-opacity=\"1\" /><path clip-path=\"url(#clip580)\" d=\"M2035.43 1454.1 Q2031.82 1454.1 2029.99 1457.66 Q2028.18 1461.2 2028.18 1468.33 Q2028.18 1475.44 2029.99 1479.01 Q2031.82 1482.55 2035.43 1482.55 Q2039.06 1482.55 2040.87 1479.01 Q2042.7 1475.44 2042.7 1468.33 Q2042.7 1461.2 2040.87 1457.66 Q2039.06 1454.1 2035.43 1454.1 M2035.43 1450.39 Q2041.24 1450.39 2044.29 1455 Q2047.37 1459.58 2047.37 1468.33 Q2047.37 1477.06 2044.29 1481.67 Q2041.24 1486.25 2035.43 1486.25 Q2029.62 1486.25 2026.54 1481.67 Q2023.48 1477.06 2023.48 1468.33 Q2023.48 1459.58 2026.54 1455 Q2029.62 1450.39 2035.43 1450.39 Z\" fill=\"#000000\" fill-rule=\"evenodd\" fill-opacity=\"1\" /><path clip-path=\"url(#clip580)\" d=\"M2292.42 1481.64 L2300.06 1481.64 L2300.06 1455.28 L2291.75 1456.95 L2291.75 1452.69 L2300.02 1451.02 L2304.69 1451.02 L2304.69 1481.64 L2312.33 1481.64 L2312.33 1485.58 L2292.42 1485.58 L2292.42 1481.64 Z\" fill=\"#000000\" fill-rule=\"evenodd\" fill-opacity=\"1\" /><path clip-path=\"url(#clip580)\" d=\"M2321.78 1479.7 L2326.66 1479.7 L2326.66 1485.58 L2321.78 1485.58 L2321.78 1479.7 Z\" fill=\"#000000\" fill-rule=\"evenodd\" fill-opacity=\"1\" /><path clip-path=\"url(#clip580)\" d=\"M2336.89 1451.02 L2355.25 1451.02 L2355.25 1454.96 L2341.17 1454.96 L2341.17 1463.43 Q2342.19 1463.08 2343.21 1462.92 Q2344.23 1462.73 2345.25 1462.73 Q2351.03 1462.73 2354.41 1465.9 Q2357.79 1469.08 2357.79 1474.49 Q2357.79 1480.07 2354.32 1483.17 Q2350.85 1486.25 2344.53 1486.25 Q2342.35 1486.25 2340.09 1485.88 Q2337.84 1485.51 2335.43 1484.77 L2335.43 1480.07 Q2337.52 1481.2 2339.74 1481.76 Q2341.96 1482.32 2344.44 1482.32 Q2348.44 1482.32 2350.78 1480.21 Q2353.12 1478.1 2353.12 1474.49 Q2353.12 1470.88 2350.78 1468.77 Q2348.44 1466.67 2344.44 1466.67 Q2342.56 1466.67 2340.69 1467.08 Q2338.84 1467.5 2336.89 1468.38 L2336.89 1451.02 Z\" fill=\"#000000\" fill-rule=\"evenodd\" fill-opacity=\"1\" /><path clip-path=\"url(#clip580)\" d=\"M1745.85 1522.27 L1745.85 1532.4 L1757.91 1532.4 L1757.91 1536.95 L1745.85 1536.95 L1745.85 1556.3 Q1745.85 1560.66 1747.02 1561.9 Q1748.23 1563.14 1751.89 1563.14 L1757.91 1563.14 L1757.91 1568.04 L1751.89 1568.04 Q1745.11 1568.04 1742.54 1565.53 Q1739.96 1562.98 1739.96 1556.3 L1739.96 1536.95 L1735.66 1536.95 L1735.66 1532.4 L1739.96 1532.4 L1739.96 1522.27 L1745.85 1522.27 Z\" fill=\"#000000\" fill-rule=\"evenodd\" fill-opacity=\"1\" /><path clip-path=\"url(#clip580)\" d=\"M1765.61 1532.4 L1771.47 1532.4 L1771.47 1568.04 L1765.61 1568.04 L1765.61 1532.4 M1765.61 1518.52 L1771.47 1518.52 L1771.47 1525.93 L1765.61 1525.93 L1765.61 1518.52 Z\" fill=\"#000000\" fill-rule=\"evenodd\" fill-opacity=\"1\" /><path clip-path=\"url(#clip580)\" d=\"M1811.48 1539.24 Q1813.67 1535.29 1816.73 1533.41 Q1819.78 1531.54 1823.92 1531.54 Q1829.49 1531.54 1832.52 1535.45 Q1835.54 1539.33 1835.54 1546.53 L1835.54 1568.04 L1829.65 1568.04 L1829.65 1546.72 Q1829.65 1541.59 1827.84 1539.11 Q1826.02 1536.63 1822.3 1536.63 Q1817.75 1536.63 1815.11 1539.65 Q1812.46 1542.68 1812.46 1547.9 L1812.46 1568.04 L1806.58 1568.04 L1806.58 1546.72 Q1806.58 1541.56 1804.76 1539.11 Q1802.95 1536.63 1799.16 1536.63 Q1794.67 1536.63 1792.03 1539.68 Q1789.39 1542.71 1789.39 1547.9 L1789.39 1568.04 L1783.5 1568.04 L1783.5 1532.4 L1789.39 1532.4 L1789.39 1537.93 Q1791.39 1534.66 1794.19 1533.1 Q1797 1531.54 1800.85 1531.54 Q1804.73 1531.54 1807.43 1533.51 Q1810.17 1535.48 1811.48 1539.24 Z\" fill=\"#000000\" fill-rule=\"evenodd\" fill-opacity=\"1\" /><path clip-path=\"url(#clip580)\" d=\"M1877.71 1548.76 L1877.71 1551.62 L1850.79 1551.62 Q1851.17 1557.67 1854.41 1560.85 Q1857.69 1564 1863.52 1564 Q1866.89 1564 1870.04 1563.17 Q1873.22 1562.35 1876.34 1560.69 L1876.34 1566.23 Q1873.19 1567.57 1869.88 1568.27 Q1866.57 1568.97 1863.17 1568.97 Q1854.64 1568.97 1849.64 1564 Q1844.67 1559.04 1844.67 1550.57 Q1844.67 1541.82 1849.38 1536.69 Q1854.13 1531.54 1862.15 1531.54 Q1869.34 1531.54 1873.51 1536.18 Q1877.71 1540.8 1877.71 1548.76 M1871.86 1547.04 Q1871.79 1542.23 1869.15 1539.37 Q1866.54 1536.5 1862.21 1536.5 Q1857.31 1536.5 1854.35 1539.27 Q1851.42 1542.04 1850.98 1547.07 L1871.86 1547.04 Z\" fill=\"#000000\" fill-rule=\"evenodd\" fill-opacity=\"1\" /><path clip-path=\"url(#clip580)\" d=\"M1922.11 1518.58 Q1917.85 1525.9 1915.78 1533.06 Q1913.71 1540.23 1913.71 1547.58 Q1913.71 1554.93 1915.78 1562.16 Q1917.88 1569.35 1922.11 1576.64 L1917.02 1576.64 Q1912.25 1569.16 1909.86 1561.93 Q1907.5 1554.71 1907.5 1547.58 Q1907.5 1540.48 1909.86 1533.29 Q1912.21 1526.09 1917.02 1518.58 L1922.11 1518.58 Z\" fill=\"#000000\" fill-rule=\"evenodd\" fill-opacity=\"1\" /><path clip-path=\"url(#clip580)\" d=\"M1956.2 1533.45 L1956.2 1538.98 Q1953.72 1537.71 1951.05 1537.07 Q1948.37 1536.44 1945.51 1536.44 Q1941.15 1536.44 1938.95 1537.77 Q1936.79 1539.11 1936.79 1541.79 Q1936.79 1543.82 1938.35 1545 Q1939.91 1546.15 1944.62 1547.2 L1946.62 1547.64 Q1952.86 1548.98 1955.47 1551.43 Q1958.11 1553.85 1958.11 1558.21 Q1958.11 1563.17 1954.16 1566.07 Q1950.25 1568.97 1943.37 1568.97 Q1940.51 1568.97 1937.39 1568.39 Q1934.3 1567.85 1930.87 1566.74 L1930.87 1560.69 Q1934.11 1562.38 1937.26 1563.24 Q1940.41 1564.07 1943.5 1564.07 Q1947.64 1564.07 1949.87 1562.66 Q1952.1 1561.23 1952.1 1558.65 Q1952.1 1556.27 1950.47 1554.99 Q1948.88 1553.72 1943.44 1552.54 L1941.4 1552.07 Q1935.96 1550.92 1933.54 1548.56 Q1931.12 1546.18 1931.12 1542.04 Q1931.12 1537.01 1934.69 1534.27 Q1938.25 1531.54 1944.81 1531.54 Q1948.05 1531.54 1950.92 1532.01 Q1953.78 1532.49 1956.2 1533.45 Z\" fill=\"#000000\" fill-rule=\"evenodd\" fill-opacity=\"1\" /><path clip-path=\"url(#clip580)\" d=\"M1966.51 1518.58 L1971.61 1518.58 Q1976.38 1526.09 1978.74 1533.29 Q1981.12 1540.48 1981.12 1547.58 Q1981.12 1554.71 1978.74 1561.93 Q1976.38 1569.16 1971.61 1576.64 L1966.51 1576.64 Q1970.75 1569.35 1972.82 1562.16 Q1974.92 1554.93 1974.92 1547.58 Q1974.92 1540.23 1972.82 1533.06 Q1970.75 1525.9 1966.51 1518.58 Z\" fill=\"#000000\" fill-rule=\"evenodd\" fill-opacity=\"1\" /><polyline clip-path=\"url(#clip583)\" style=\"stroke:#000000; stroke-linecap:butt; stroke-linejoin:round; stroke-width:2; stroke-opacity:0.1; fill:none\" points=\"\n",
       "  1364.03,1222.26 2352.76,1222.26 \n",
       "  \"/>\n",
       "<polyline clip-path=\"url(#clip583)\" style=\"stroke:#000000; stroke-linecap:butt; stroke-linejoin:round; stroke-width:2; stroke-opacity:0.1; fill:none\" points=\"\n",
       "  1364.03,906.685 2352.76,906.685 \n",
       "  \"/>\n",
       "<polyline clip-path=\"url(#clip583)\" style=\"stroke:#000000; stroke-linecap:butt; stroke-linejoin:round; stroke-width:2; stroke-opacity:0.1; fill:none\" points=\"\n",
       "  1364.03,591.108 2352.76,591.108 \n",
       "  \"/>\n",
       "<polyline clip-path=\"url(#clip583)\" style=\"stroke:#000000; stroke-linecap:butt; stroke-linejoin:round; stroke-width:2; stroke-opacity:0.1; fill:none\" points=\"\n",
       "  1364.03,275.532 2352.76,275.532 \n",
       "  \"/>\n",
       "<polyline clip-path=\"url(#clip580)\" style=\"stroke:#000000; stroke-linecap:butt; stroke-linejoin:round; stroke-width:4; stroke-opacity:1; fill:none\" points=\"\n",
       "  1364.03,1423.18 1364.03,47.2441 \n",
       "  \"/>\n",
       "<polyline clip-path=\"url(#clip580)\" style=\"stroke:#000000; stroke-linecap:butt; stroke-linejoin:round; stroke-width:4; stroke-opacity:1; fill:none\" points=\"\n",
       "  1364.03,1222.26 1382.93,1222.26 \n",
       "  \"/>\n",
       "<polyline clip-path=\"url(#clip580)\" style=\"stroke:#000000; stroke-linecap:butt; stroke-linejoin:round; stroke-width:4; stroke-opacity:1; fill:none\" points=\"\n",
       "  1364.03,906.685 1382.93,906.685 \n",
       "  \"/>\n",
       "<polyline clip-path=\"url(#clip580)\" style=\"stroke:#000000; stroke-linecap:butt; stroke-linejoin:round; stroke-width:4; stroke-opacity:1; fill:none\" points=\"\n",
       "  1364.03,591.108 1382.93,591.108 \n",
       "  \"/>\n",
       "<polyline clip-path=\"url(#clip580)\" style=\"stroke:#000000; stroke-linecap:butt; stroke-linejoin:round; stroke-width:4; stroke-opacity:1; fill:none\" points=\"\n",
       "  1364.03,275.532 1382.93,275.532 \n",
       "  \"/>\n",
       "<path clip-path=\"url(#clip580)\" d=\"M1236.15 1222.71 L1265.83 1222.71 L1265.83 1226.65 L1236.15 1226.65 L1236.15 1222.71 Z\" fill=\"#000000\" fill-rule=\"evenodd\" fill-opacity=\"1\" /><path clip-path=\"url(#clip580)\" d=\"M1276.73 1235.61 L1284.37 1235.61 L1284.37 1209.24 L1276.06 1210.91 L1276.06 1206.65 L1284.33 1204.98 L1289 1204.98 L1289 1235.61 L1296.64 1235.61 L1296.64 1239.54 L1276.73 1239.54 L1276.73 1235.61 Z\" fill=\"#000000\" fill-rule=\"evenodd\" fill-opacity=\"1\" /><path clip-path=\"url(#clip580)\" d=\"M1316.08 1208.06 Q1312.47 1208.06 1310.64 1211.62 Q1308.84 1215.17 1308.84 1222.3 Q1308.84 1229.4 1310.64 1232.97 Q1312.47 1236.51 1316.08 1236.51 Q1319.72 1236.51 1321.52 1232.97 Q1323.35 1229.4 1323.35 1222.3 Q1323.35 1215.17 1321.52 1211.62 Q1319.72 1208.06 1316.08 1208.06 M1316.08 1204.36 Q1321.89 1204.36 1324.95 1208.96 Q1328.03 1213.55 1328.03 1222.3 Q1328.03 1231.02 1324.95 1235.63 Q1321.89 1240.21 1316.08 1240.21 Q1310.27 1240.21 1307.2 1235.63 Q1304.14 1231.02 1304.14 1222.3 Q1304.14 1213.55 1307.2 1208.96 Q1310.27 1204.36 1316.08 1204.36 Z\" fill=\"#000000\" fill-rule=\"evenodd\" fill-opacity=\"1\" /><path clip-path=\"url(#clip580)\" d=\"M1267.31 907.136 L1296.99 907.136 L1296.99 911.071 L1267.31 911.071 L1267.31 907.136 Z\" fill=\"#000000\" fill-rule=\"evenodd\" fill-opacity=\"1\" /><path clip-path=\"url(#clip580)\" d=\"M1307.13 889.405 L1325.48 889.405 L1325.48 893.34 L1311.41 893.34 L1311.41 901.812 Q1312.43 901.465 1313.45 901.303 Q1314.46 901.117 1315.48 901.117 Q1321.27 901.117 1324.65 904.289 Q1328.03 907.46 1328.03 912.877 Q1328.03 918.455 1324.56 921.557 Q1321.08 924.636 1314.76 924.636 Q1312.59 924.636 1310.32 924.265 Q1308.08 923.895 1305.67 923.154 L1305.67 918.455 Q1307.75 919.59 1309.97 920.145 Q1312.2 920.701 1314.67 920.701 Q1318.68 920.701 1321.01 918.594 Q1323.35 916.488 1323.35 912.877 Q1323.35 909.266 1321.01 907.159 Q1318.68 905.053 1314.67 905.053 Q1312.8 905.053 1310.92 905.469 Q1309.07 905.886 1307.13 906.766 L1307.13 889.405 Z\" fill=\"#000000\" fill-rule=\"evenodd\" fill-opacity=\"1\" /><path clip-path=\"url(#clip580)\" d=\"M1316.08 576.907 Q1312.47 576.907 1310.64 580.472 Q1308.84 584.013 1308.84 591.143 Q1308.84 598.249 1310.64 601.814 Q1312.47 605.356 1316.08 605.356 Q1319.72 605.356 1321.52 601.814 Q1323.35 598.249 1323.35 591.143 Q1323.35 584.013 1321.52 580.472 Q1319.72 576.907 1316.08 576.907 M1316.08 573.203 Q1321.89 573.203 1324.95 577.81 Q1328.03 582.393 1328.03 591.143 Q1328.03 599.87 1324.95 604.476 Q1321.89 609.059 1316.08 609.059 Q1310.27 609.059 1307.2 604.476 Q1304.14 599.87 1304.14 591.143 Q1304.14 582.393 1307.2 577.81 Q1310.27 573.203 1316.08 573.203 Z\" fill=\"#000000\" fill-rule=\"evenodd\" fill-opacity=\"1\" /><path clip-path=\"url(#clip580)\" d=\"M1307.13 258.252 L1325.48 258.252 L1325.48 262.187 L1311.41 262.187 L1311.41 270.659 Q1312.43 270.312 1313.45 270.15 Q1314.46 269.964 1315.48 269.964 Q1321.27 269.964 1324.65 273.136 Q1328.03 276.307 1328.03 281.724 Q1328.03 287.302 1324.56 290.404 Q1321.08 293.483 1314.76 293.483 Q1312.59 293.483 1310.32 293.112 Q1308.08 292.742 1305.67 292.001 L1305.67 287.302 Q1307.75 288.437 1309.97 288.992 Q1312.2 289.548 1314.67 289.548 Q1318.68 289.548 1321.01 287.441 Q1323.35 285.335 1323.35 281.724 Q1323.35 278.113 1321.01 276.006 Q1318.68 273.9 1314.67 273.9 Q1312.8 273.9 1310.92 274.316 Q1309.07 274.733 1307.13 275.613 L1307.13 258.252 Z\" fill=\"#000000\" fill-rule=\"evenodd\" fill-opacity=\"1\" /><polyline clip-path=\"url(#clip583)\" style=\"stroke:#009af9; stroke-linecap:butt; stroke-linejoin:round; stroke-width:4; stroke-opacity:1; fill:none\" points=\"\n",
       "  1392.01,212.416 1407.56,212.416 1423.1,212.416 1438.65,212.416 1454.2,212.416 1469.74,212.416 1485.29,212.416 1500.83,212.416 1516.38,212.416 1531.93,212.416 \n",
       "  1547.47,212.416 1563.02,212.416 1578.56,212.416 1594.11,212.416 1609.66,212.416 1625.2,212.416 1640.75,212.416 1656.29,212.416 1671.84,212.416 1687.39,212.416 \n",
       "  1702.93,591.108 1718.48,591.108 1734.02,591.108 1749.57,591.108 1765.12,591.108 1780.66,591.108 1796.21,591.108 1811.75,591.108 1827.3,591.108 1842.85,591.108 \n",
       "  1858.39,591.108 1873.94,591.108 1889.48,591.108 1905.03,591.108 1920.58,591.108 1936.12,591.108 1951.67,591.108 1967.21,591.108 1982.76,591.108 1998.31,591.108 \n",
       "  2013.85,212.416 2029.4,212.416 2044.94,212.416 2060.49,212.416 2076.04,212.416 2091.58,212.416 2107.13,212.416 2122.67,212.416 2138.22,212.416 2153.77,212.416 \n",
       "  2169.31,212.416 2184.86,212.416 2200.4,212.416 2215.95,212.416 2231.5,212.416 2247.04,212.416 2262.59,212.416 2278.13,212.416 2293.68,212.416 2309.23,212.416 \n",
       "  2324.77,212.416 \n",
       "  \"/>\n",
       "<polyline clip-path=\"url(#clip583)\" style=\"stroke:#e26f46; stroke-linecap:butt; stroke-linejoin:round; stroke-width:4; stroke-opacity:1; fill:none\" points=\"\n",
       "  1392.01,591.108 1407.56,591.108 1423.1,591.108 1438.65,591.108 1454.2,591.108 1469.74,591.108 1485.29,591.108 1500.83,591.108 1516.38,591.108 1531.93,591.108 \n",
       "  1547.47,591.108 1563.02,591.108 1578.56,591.108 1594.11,591.108 1609.66,591.108 1625.2,591.108 1640.75,591.108 1656.29,591.108 1671.84,591.108 1687.39,591.108 \n",
       "  1702.93,86.1857 1718.48,86.1857 1734.02,86.1857 1749.57,86.1857 1765.12,86.1857 1780.66,86.1857 1796.21,86.1857 1811.75,86.1857 1827.3,86.1857 1842.85,86.1857 \n",
       "  1858.39,1096.03 1873.94,1096.03 1889.48,1096.03 1905.03,1096.03 1920.58,1096.03 1936.12,1096.03 1951.67,1096.03 1967.21,1096.03 1982.76,1096.03 1998.31,1096.03 \n",
       "  2013.85,591.108 2029.4,591.108 2044.94,591.108 2060.49,591.108 2076.04,591.108 2091.58,591.108 2107.13,591.108 2122.67,591.108 2138.22,591.108 2153.77,591.108 \n",
       "  2169.31,591.108 2184.86,591.108 2200.4,591.108 2215.95,591.108 2231.5,591.108 2247.04,591.108 2262.59,591.108 2278.13,591.108 2293.68,591.108 2309.23,591.108 \n",
       "  2324.77,591.108 \n",
       "  \"/>\n",
       "<polyline clip-path=\"url(#clip583)\" style=\"stroke:#3da44d; stroke-linecap:butt; stroke-linejoin:round; stroke-width:4; stroke-opacity:1; fill:none\" points=\"\n",
       "  1392.01,591.108 1407.56,591.108 1423.1,591.108 1438.65,591.108 1454.2,591.108 1469.74,591.108 1485.29,591.108 1500.83,591.108 1516.38,591.108 1531.93,591.108 \n",
       "  1547.47,591.108 1563.02,591.108 1578.56,591.108 1594.11,591.108 1609.66,591.108 1625.2,591.108 1640.75,591.108 1656.29,591.108 1671.84,591.108 1687.39,591.108 \n",
       "  1702.93,1384.24 1718.48,1384.24 1734.02,1384.24 1749.57,1384.24 1765.12,1384.24 1780.66,1384.24 1796.21,1384.24 1811.75,1384.24 1827.3,1384.24 1842.85,1384.24 \n",
       "  1858.39,1384.24 1873.94,1384.24 1889.48,1384.24 1905.03,1384.24 1920.58,1384.24 1936.12,1384.24 1951.67,1384.24 1967.21,1384.24 1982.76,1384.24 1998.31,1384.24 \n",
       "  2013.85,591.108 2029.4,591.108 2044.94,591.108 2060.49,591.108 2076.04,591.108 2091.58,591.108 2107.13,591.108 2122.67,591.108 2138.22,591.108 2153.77,591.108 \n",
       "  2169.31,591.108 2184.86,591.108 2200.4,591.108 2215.95,591.108 2231.5,591.108 2247.04,591.108 2262.59,591.108 2278.13,591.108 2293.68,591.108 2309.23,591.108 \n",
       "  2324.77,591.108 \n",
       "  \"/>\n",
       "<path clip-path=\"url(#clip580)\" d=\"\n",
       "M1396.99 1377.32 L1559.99 1377.32 L1559.99 1169.96 L1396.99 1169.96  Z\n",
       "  \" fill=\"#ffffff\" fill-rule=\"evenodd\" fill-opacity=\"1\"/>\n",
       "<polyline clip-path=\"url(#clip580)\" style=\"stroke:#000000; stroke-linecap:butt; stroke-linejoin:round; stroke-width:4; stroke-opacity:1; fill:none\" points=\"\n",
       "  1396.99,1377.32 1559.99,1377.32 1559.99,1169.96 1396.99,1169.96 1396.99,1377.32 \n",
       "  \"/>\n",
       "<polyline clip-path=\"url(#clip580)\" style=\"stroke:#009af9; stroke-linecap:butt; stroke-linejoin:round; stroke-width:4; stroke-opacity:1; fill:none\" points=\"\n",
       "  1407.97,1221.8 1473.89,1221.8 \n",
       "  \"/>\n",
       "<path clip-path=\"url(#clip580)\" d=\"M1484.87 1213.15 L1489.39 1213.15 L1497.49 1234.91 L1505.59 1213.15 L1510.1 1213.15 L1500.38 1239.08 L1494.6 1239.08 L1484.87 1213.15 Z\" fill=\"#000000\" fill-rule=\"evenodd\" fill-opacity=\"1\" /><path clip-path=\"url(#clip580)\" d=\"M1537.53 1213.15 L1528.16 1225.77 L1538.02 1239.08 L1533 1239.08 L1525.45 1228.89 L1517.91 1239.08 L1512.88 1239.08 L1522.95 1225.51 L1513.74 1213.15 L1518.76 1213.15 L1525.64 1222.39 L1532.51 1213.15 L1537.53 1213.15 Z\" fill=\"#000000\" fill-rule=\"evenodd\" fill-opacity=\"1\" /><polyline clip-path=\"url(#clip580)\" style=\"stroke:#e26f46; stroke-linecap:butt; stroke-linejoin:round; stroke-width:4; stroke-opacity:1; fill:none\" points=\"\n",
       "  1407.97,1273.64 1473.89,1273.64 \n",
       "  \"/>\n",
       "<path clip-path=\"url(#clip580)\" d=\"M1484.87 1264.99 L1489.39 1264.99 L1497.49 1286.75 L1505.59 1264.99 L1510.1 1264.99 L1500.38 1290.92 L1494.6 1290.92 L1484.87 1264.99 Z\" fill=\"#000000\" fill-rule=\"evenodd\" fill-opacity=\"1\" /><path clip-path=\"url(#clip580)\" d=\"M1514.13 1264.99 L1534.36 1264.99 L1534.36 1268.88 L1518.35 1287.51 L1534.36 1287.51 L1534.36 1290.92 L1513.55 1290.92 L1513.55 1287.03 L1529.57 1268.39 L1514.13 1268.39 L1514.13 1264.99 Z\" fill=\"#000000\" fill-rule=\"evenodd\" fill-opacity=\"1\" /><polyline clip-path=\"url(#clip580)\" style=\"stroke:#3da44d; stroke-linecap:butt; stroke-linejoin:round; stroke-width:4; stroke-opacity:1; fill:none\" points=\"\n",
       "  1407.97,1325.48 1473.89,1325.48 \n",
       "  \"/>\n",
       "<path clip-path=\"url(#clip580)\" d=\"M1494.48 1343.43 Q1484.87 1343.43 1484.87 1329.68 Q1484.87 1324.24 1488.46 1316.83 L1493.04 1316.83 Q1489.73 1324.24 1489.73 1329.79 Q1489.73 1339.82 1494.87 1339.82 Q1499.57 1339.82 1499.57 1327.36 L1503.51 1327.36 Q1503.51 1339.82 1508.21 1339.82 Q1513.35 1339.82 1513.35 1329.79 Q1513.35 1324.24 1510.04 1316.83 L1514.62 1316.83 Q1518.21 1324.24 1518.21 1329.68 Q1518.21 1343.43 1508.6 1343.43 Q1502.3 1343.43 1501.54 1336.51 Q1500.59 1343.43 1494.48 1343.43 Z\" fill=\"#000000\" fill-rule=\"evenodd\" fill-opacity=\"1\" /></svg>\n"
      ]
     },
     "execution_count": 15,
     "metadata": {},
     "output_type": "execute_result"
    }
   ],
   "source": [
    "# Plot the reference trajectory\n",
    "Xref = flip_reference()\n",
    "p = plot(layout=(1,2))\n",
    "prob.times\n",
    "plot!(p[1], prob.times, Xref, inds=1:3, xlabel=\"time (s)\", labels = [\"px\" \"pz\" \"θ\"], legend=:bottomleft)\n",
    "plot!(p[2], prob.times, Xref, inds=4:6, xlabel=\"time (s)\", labels = [\"vx\" \"vz\" \"ω\"], legend=:bottomleft)"
   ]
  },
  {
   "cell_type": "markdown",
   "metadata": {},
   "source": [
    "Generate a new time-varying objective that tracks the reference trajectory. Check out the types in `quadratic_cost.jl` for some convenient constructors."
   ]
  },
  {
   "cell_type": "code",
   "execution_count": 16,
   "metadata": {},
   "outputs": [],
   "source": [
    "# TASK: design the time-varying tracking objective\n",
    "#       save it as the variable obj_flip::Vector{<:QuadraticCost}\n",
    "obj_flip = copy(obj)\n",
    "\n",
    "# SOLUTION\n",
    "Uref = [uhover for k = 1:T-1]\n",
    "obj_flip = map(1:T-1) do k\n",
    "    LQRCost(Q, R, Xref[k], Uref[k])\n",
    "end\n",
    "push!(obj_flip, LQRCost(Qf, R, Xref[end]));"
   ]
  },
  {
   "cell_type": "markdown",
   "metadata": {},
   "source": [
    "## Part (d): Optimize the Flip Trajectory\n",
    "Using the reference trajectory and the objective you specified in the previous part, construct a new problem and solve it with your iLQR solver. Use a simple hover trajectory as the initial guess."
   ]
  },
  {
   "cell_type": "code",
   "execution_count": 17,
   "metadata": {},
   "outputs": [
    {
     "name": "stdout",
     "output_type": "stream",
     "text": [
      "Iter:   1, Cost:  6735.83 →  6477.45 ( 2.58e+02), res:  9.44e+01, β= 1.00e-06, α = 1.000\n",
      "Iter:   2, Cost:  6477.45 →  5183.67 ( 1.29e+03), res:  1.73e+02, β= 1.00e-06, α = 0.500\n",
      "Iter:   3, Cost:  5183.67 →  1564.44 ( 3.62e+03), res:  1.95e+02, β= 1.00e-06, α = 1.000\n",
      "Iter:   4, Cost:  1564.44 →  1012.99 ( 5.51e+02), res:  1.03e+02, β= 1.00e-06, α = 0.250\n",
      "Iter:   5, Cost:  1012.99 →  620.74 ( 3.92e+02), res:  6.45e+01, β= 1.00e-06, α = 0.500\n",
      "Iter:   6, Cost:  620.74 →  508.92 ( 1.12e+02), res:  4.42e+01, β= 1.00e-06, α = 1.000\n",
      "Iter:   7, Cost:  508.92 →  348.80 ( 1.60e+02), res:  5.66e+01, β= 1.00e-06, α = 0.500\n",
      "Iter:   8, Cost:  348.80 →  264.36 ( 8.44e+01), res:  2.90e+01, β= 1.00e-06, α = 0.500\n",
      "Iter:   9, Cost:  264.36 →  202.96 ( 6.14e+01), res:  2.46e+01, β= 1.00e-06, α = 0.500\n",
      "Iter:  10, Cost:  202.96 →  163.75 ( 3.92e+01), res:  2.54e+01, β= 1.00e-06, α = 0.500\n",
      "Iter:  11, Cost:  163.75 →  140.92 ( 2.28e+01), res:  2.07e+01, β= 1.00e-06, α = 1.000\n",
      "Iter:  12, Cost:  140.92 →  130.53 ( 1.04e+01), res:  9.66e+00, β= 1.00e-06, α = 1.000\n",
      "Iter:  13, Cost:  130.53 →  129.89 ( 6.40e-01), res:  1.93e+00, β= 1.00e-06, α = 1.000\n",
      "Iter:  14, Cost:  129.89 →  129.88 ( 7.14e-04), res:  1.55e-01, β= 1.00e-06, α = 1.000\n",
      "Iter:  15, Cost:  129.88 →  129.88 ( 1.15e-04), res:  5.92e-02, β= 1.00e-06, α = 1.000\n",
      "Iter:  16, Cost:  129.88 →  129.88 ( 2.34e-05), res:  3.06e-02, β= 1.00e-06, α = 1.000\n",
      "Iter:  17, Cost:  129.88 →  129.88 ( 5.11e-06), res:  1.12e-02, β= 1.00e-06, α = 1.000\n",
      "Iter:  18, Cost:  129.88 →  129.88 ( 1.19e-06), res:  6.57e-03, β= 1.00e-06, α = 1.000\n",
      "Iter:  19, Cost:  129.88 →  129.88 ( 2.91e-07), res:  2.44e-03, β= 1.00e-06, α = 1.000\n",
      "Iter:  20, Cost:  129.88 →  129.88 ( 7.43e-08), res:  1.50e-03, β= 1.00e-06, α = 1.000\n",
      "Iter:  21, Cost:  129.88 →  129.88 ( 1.96e-08), res:  6.28e-04, β= 1.00e-06, α = 1.000\n",
      "Iter:  22, Cost:  129.88 →  129.88 ( 5.29e-09), res:  3.62e-04, β= 1.00e-06, α = 1.000\n",
      "Iter:  23, Cost:  129.88 →  129.88 ( 1.45e-09), res:  1.64e-04, β= 1.00e-06, α = 1.000\n",
      "Iter:  24, Cost:  129.88 →  129.88 ( 4.01e-10), res:  9.11e-05, β= 1.00e-06, α = 1.000\n",
      "Iter:  25, Cost:  129.88 →  129.88 ( 1.12e-10), res:  4.37e-05, β= 1.00e-06, α = 1.000\n",
      "Iter:  26, Cost:  129.88 →  129.88 ( 3.15e-11), res:  2.41e-05, β= 1.00e-06, α = 1.000\n",
      "Iter:  27, Cost:  129.88 →  129.88 ( 1.05e-11), res:  1.21e-05, β= 1.00e-06, α = 1.000\n",
      "Iter:  28, Cost:  129.88 →  129.88 ( 1.73e-12), res:  6.65e-06, β= 1.00e-06, α = 1.000\n",
      "Total Time: 13.509307999999999 ms\n"
     ]
    }
   ],
   "source": [
    "# TODO: Solve for Xflip, Uflip, the optimized trajectories to flip the quadrotor\n",
    "\n",
    "Xflip, Uflip, K, P = deepcopy(X0), deepcopy(U0), [zeros(m,n) for k = 1:T], [zeros(n,n) for k = 1:T]\n",
    "\n",
    "# SOLUTION\n",
    "prob_flip = Problem(model, obj_flip, tf, x0)\n",
    "\n",
    "# Initial guess\n",
    "X0 = [x0 for k = 1:T]\n",
    "U0 = [uhover for k = 1:T-1]\n",
    "\n",
    "Xflip, Uflip, K, P = solve_ilqr(prob_flip, X0, U0, verbose=1);"
   ]
  },
  {
   "cell_type": "code",
   "execution_count": 18,
   "metadata": {},
   "outputs": [
    {
     "data": {
      "text/html": [
       "    <div style=\"height: 500px; width: 100%; overflow-x: auto; overflow-y: hidden; resize: both\">\n",
       "    <iframe src=\"http://127.0.0.1:8700\" style=\"width: 100%; height: 100%; border: none\"></iframe>\n",
       "    </div>\n"
      ],
      "text/plain": [
       "MeshCat.DisplayedVisualizer(MeshCat.CoreVisualizer(MeshCat.SceneTrees.SceneNode(nothing, nothing, Dict{String, Vector{UInt8}}(), UInt8[0x83, 0xa7, 0x6f, 0x70, 0x74, 0x69, 0x6f, 0x6e, 0x73, 0x82  …  0x5f, 0x61, 0x6e, 0x69, 0x6d, 0x61, 0x74, 0x69, 0x6f, 0x6e], Dict{String, MeshCat.SceneTrees.SceneNode}(\"meshcat\" => MeshCat.SceneTrees.SceneNode(nothing, nothing, Dict{String, Vector{UInt8}}(), nothing, Dict{String, MeshCat.SceneTrees.SceneNode}(\"robot\" => MeshCat.SceneTrees.SceneNode(nothing, nothing, Dict{String, Vector{UInt8}}(), nothing, Dict{String, MeshCat.SceneTrees.SceneNode}(\"geom\" => MeshCat.SceneTrees.SceneNode(UInt8[0x83, 0xa6, 0x6f, 0x62, 0x6a, 0x65, 0x63, 0x74, 0x84, 0xaa  …  0x72, 0x6f, 0x62, 0x6f, 0x74, 0x2f, 0x67, 0x65, 0x6f, 0x6d], nothing, Dict{String, Vector{UInt8}}(), nothing, Dict{String, MeshCat.SceneTrees.SceneNode}()))))))), Set(Any[WebSocket(server, \u001b[32mCONNECTED\u001b[39m)]), ip\"127.0.0.1\", 8700))"
      ]
     },
     "execution_count": 18,
     "metadata": {},
     "output_type": "execute_result"
    }
   ],
   "source": [
    "render(vis)"
   ]
  },
  {
   "cell_type": "code",
   "execution_count": 19,
   "metadata": {},
   "outputs": [],
   "source": [
    "visualize!(vis, model, tf, Xflip)"
   ]
  },
  {
   "cell_type": "markdown",
   "metadata": {},
   "source": [
    "## Part (e): Compare to TVLQR\n",
    "iLQR generates a local linear feedback controller. As we saw in class, the backwardpass in iLQR is basically TVLQR with some extra terms. However, as our trajectory converges to a stationary point, these extra linear terms should go to zero. When iLQR exits, theses local feedback gains should closely match the result out of TVLQR. Using your code from the previous homework, generate a TVLQR solution for the optimized flip trajectory, using the same cost matrices used in your iLQR solver. They should match to reasonable numerical precision."
   ]
  },
  {
   "cell_type": "code",
   "execution_count": 20,
   "metadata": {},
   "outputs": [],
   "source": [
    "# TODO: Generate Klqr, Plqr, the feedback and cost-to-go matrices from TVLQR\n",
    "#       to track the optimized flip trajectory\n",
    "\n",
    "# SOLUTION:\n",
    "function tvlqr(A,B,Q,R,Qf)\n",
    "    # Extract some variables\n",
    "    T = length(A)+1\n",
    "    n,m = size(B[1])\n",
    "    P = [zeros(n,n) for k = 1:T]\n",
    "    K = [zeros(m,n) for k = 1:T-1]\n",
    "    \n",
    "    P[end] .= Qf\n",
    "    for k = reverse(1:T-1) \n",
    "        K[k] .= (R + B[k]'P[k+1]*B[k])\\(B[k]'P[k+1]*A[k])\n",
    "        P[k] .= Q + A[k]'P[k+1]*A[k] - A[k]'P[k+1]*B[k]*K[k]\n",
    "    end\n",
    "    \n",
    "    return K,P\n",
    "end\n",
    "\n",
    "A = [zeros(n,n) for k = 1:T-1]\n",
    "B = [zeros(n,m) for k = 1:T-1]\n",
    "∇f = RobotDynamics.DynamicsJacobian(model)\n",
    "for k = 1:T-1\n",
    "    discrete_jacobian!(RK4, ∇f, model, Xflip[k], Uflip[k], prob.times[k], dt)\n",
    "    A[k] .= ∇f.A\n",
    "    B[k] .= ∇f.B\n",
    "end\n",
    "\n",
    "Klqr,Plqr = tvlqr(A,B,Q,R,Qf);"
   ]
  },
  {
   "cell_type": "code",
   "execution_count": 21,
   "metadata": {},
   "outputs": [
    {
     "data": {
      "text/plain": [
       "\u001b[32m\u001b[1mTest Passed\u001b[22m\u001b[39m"
      ]
     },
     "execution_count": 21,
     "metadata": {},
     "output_type": "execute_result"
    }
   ],
   "source": [
    "@test maximum(norm.(K - Klqr,Inf)) < 1e-3\n",
    "@test maximum(norm.(P - Plqr,Inf)) < 1e-3"
   ]
  },
  {
   "cell_type": "markdown",
   "metadata": {},
   "source": [
    "## Part (f): Closed-Loop Tracking\n",
    "Now that we've seen that the controller generated by iLQR is nearly identical to the TVLQR solution with the same cost matrices, let's use the iLQR gains to track our trajectory, and see how robust it is to wind gusts."
   ]
  },
  {
   "cell_type": "code",
   "execution_count": 22,
   "metadata": {},
   "outputs": [
    {
     "data": {
      "text/plain": [
       "\u001b[32m\u001b[1mTest Passed\u001b[22m\u001b[39m"
      ]
     },
     "execution_count": 22,
     "metadata": {},
     "output_type": "execute_result"
    }
   ],
   "source": [
    "# TODO: Generate two controllers to use in the simulations below:\n",
    "#       1. LQR controller: Should use the time-varying gains from your iLQR solver\n",
    "#       2. Open loop: Should use the control trajectory from your iLQR. No feedback.\n",
    "#       Both controllers should be types that implement the `get_control(ctrl, x, t)` method\n",
    "#       TIP: Feel free to use structs from HW2\n",
    "\n",
    "\"\"\"\n",
    "    LQRController\n",
    "\n",
    "A TVLQR controller that tracks the trajectory specified by `Xref` and `Uref`\n",
    "using the linear feedback gains `K`.\n",
    "\"\"\"\n",
    "struct LQRController\n",
    "    # TODO: add the fields you need\n",
    "    # SOLUTION\n",
    "    K::Vector{Matrix{Float64}}\n",
    "    Xref::Vector{Vector{Float64}}\n",
    "    Uref::Vector{Vector{Float64}}\n",
    "    times::Vector{Float64}\n",
    "end\n",
    "\n",
    "function get_control(ctrl::LQRController, x, t)\n",
    "    # TODO: implement the controller\n",
    "    u = zeros(2)\n",
    "    # SOLUTION\n",
    "    k = get_k(ctrl, t)\n",
    "    K = ctrl.K[k]\n",
    "    u = ctrl.Uref[k] - K*(x - ctrl.Xref[k])\n",
    "    return u\n",
    "end\n",
    "\n",
    "\"\"\"\n",
    "    OpenLoopController\n",
    "\n",
    "A controller that just applies an open-loop control policy of sending a \n",
    "set trajectory of control values.\n",
    "\"\"\"\n",
    "struct OpenLoopController\n",
    "    # TODO: add the fields you need\n",
    "    # SOLUTION\n",
    "    Xref::Vector{Vector{Float64}}\n",
    "    Uref::Vector{Vector{Float64}}\n",
    "    times::Vector{Float64}\n",
    "end\n",
    "\n",
    "function get_control(ctrl::OpenLoopController, x, t)\n",
    "    # TODO: implement the controller\n",
    "    u = zeros(2)\n",
    "    # SOLUTION\n",
    "    k = get_k(ctrl, t)\n",
    "    u = ctrl.Uref[k]\n",
    "    return u\n",
    "end\n",
    "\n",
    "# SOLUTION\n",
    "get_k(controller, t) = searchsortedlast(controller.times, t)\n",
    "\n",
    "# TODO: Generate controllers\n",
    "# lqr = LQRController()\n",
    "# openloop = OpenLoopController()\n",
    "\n",
    "# SOLUTION\n",
    "lqr = LQRController(K, Xflip, Uflip, prob.times);\n",
    "openloop = OpenLoopController(Xflip, Uflip, prob.times);\n",
    "# END SOLUTION\n",
    "\n",
    "@test get_control(lqr, Xflip[1], 0.0) - Uflip[1] ≈ zeros(2)"
   ]
  },
  {
   "cell_type": "code",
   "execution_count": 23,
   "metadata": {},
   "outputs": [
    {
     "data": {
      "text/html": [
       "    <div style=\"height: 500px; width: 100%; overflow-x: auto; overflow-y: hidden; resize: both\">\n",
       "    <iframe src=\"http://127.0.0.1:8700\" style=\"width: 100%; height: 100%; border: none\"></iframe>\n",
       "    </div>\n"
      ],
      "text/plain": [
       "MeshCat.DisplayedVisualizer(MeshCat.CoreVisualizer(MeshCat.SceneTrees.SceneNode(nothing, nothing, Dict{String, Vector{UInt8}}(), UInt8[0x83, 0xa7, 0x6f, 0x70, 0x74, 0x69, 0x6f, 0x6e, 0x73, 0x82  …  0x5f, 0x61, 0x6e, 0x69, 0x6d, 0x61, 0x74, 0x69, 0x6f, 0x6e], Dict{String, MeshCat.SceneTrees.SceneNode}(\"meshcat\" => MeshCat.SceneTrees.SceneNode(nothing, nothing, Dict{String, Vector{UInt8}}(), nothing, Dict{String, MeshCat.SceneTrees.SceneNode}(\"robot\" => MeshCat.SceneTrees.SceneNode(nothing, nothing, Dict{String, Vector{UInt8}}(), nothing, Dict{String, MeshCat.SceneTrees.SceneNode}(\"geom\" => MeshCat.SceneTrees.SceneNode(UInt8[0x83, 0xa6, 0x6f, 0x62, 0x6a, 0x65, 0x63, 0x74, 0x84, 0xaa  …  0x72, 0x6f, 0x62, 0x6f, 0x74, 0x2f, 0x67, 0x65, 0x6f, 0x6d], nothing, Dict{String, Vector{UInt8}}(), nothing, Dict{String, MeshCat.SceneTrees.SceneNode}()))))))), Set(Any[WebSocket(server, \u001b[32mCONNECTED\u001b[39m), WebSocket(server, \u001b[32mCONNECTED\u001b[39m)]), ip\"127.0.0.1\", 8700))"
      ]
     },
     "execution_count": 23,
     "metadata": {},
     "output_type": "execute_result"
    }
   ],
   "source": [
    "render(vis)"
   ]
  },
  {
   "cell_type": "code",
   "execution_count": 24,
   "metadata": {},
   "outputs": [
    {
     "name": "stdout",
     "output_type": "stream",
     "text": [
      "Controller ran at 1719.0991435758067 Hz\n"
     ]
    }
   ],
   "source": [
    "# Simulate with LQR\n",
    "Xlqr, Ulqr, tlqr = simulate(prob.model, Xflip[1], lqr)\n",
    "visualize!(vis, model, tlqr[end], Xlqr)"
   ]
  },
  {
   "cell_type": "code",
   "execution_count": 25,
   "metadata": {},
   "outputs": [
    {
     "name": "stdout",
     "output_type": "stream",
     "text": [
      "Controller ran at 4988.847064357927 Hz\n"
     ]
    }
   ],
   "source": [
    "# Simulate with open-loop controls\n",
    "Xopen, Uopen, topen = simulate(model, Xflip[1], openloop)\n",
    "visualize!(vis, model, topen[end], Xopen)"
   ]
  },
  {
   "cell_type": "code",
   "execution_count": 26,
   "metadata": {},
   "outputs": [
    {
     "data": {
      "image/svg+xml": [
       "<?xml version=\"1.0\" encoding=\"utf-8\"?>\n",
       "<svg xmlns=\"http://www.w3.org/2000/svg\" xmlns:xlink=\"http://www.w3.org/1999/xlink\" width=\"600\" height=\"400\" viewBox=\"0 0 2400 1600\">\n",
       "<defs>\n",
       "  <clipPath id=\"clip620\">\n",
       "    <rect x=\"0\" y=\"0\" width=\"2400\" height=\"1600\"/>\n",
       "  </clipPath>\n",
       "</defs>\n",
       "<path clip-path=\"url(#clip620)\" d=\"\n",
       "M0 1600 L2400 1600 L2400 0 L0 0  Z\n",
       "  \" fill=\"#ffffff\" fill-rule=\"evenodd\" fill-opacity=\"1\"/>\n",
       "<defs>\n",
       "  <clipPath id=\"clip621\">\n",
       "    <rect x=\"480\" y=\"0\" width=\"1681\" height=\"1600\"/>\n",
       "  </clipPath>\n",
       "</defs>\n",
       "<path clip-path=\"url(#clip620)\" d=\"\n",
       "M219.519 1423.18 L2352.76 1423.18 L2352.76 47.2441 L219.519 47.2441  Z\n",
       "  \" fill=\"#ffffff\" fill-rule=\"evenodd\" fill-opacity=\"1\"/>\n",
       "<defs>\n",
       "  <clipPath id=\"clip622\">\n",
       "    <rect x=\"219\" y=\"47\" width=\"2134\" height=\"1377\"/>\n",
       "  </clipPath>\n",
       "</defs>\n",
       "<polyline clip-path=\"url(#clip622)\" style=\"stroke:#000000; stroke-linecap:butt; stroke-linejoin:round; stroke-width:2; stroke-opacity:0.1; fill:none\" points=\"\n",
       "  562.58,1423.18 562.58,47.2441 \n",
       "  \"/>\n",
       "<polyline clip-path=\"url(#clip622)\" style=\"stroke:#000000; stroke-linecap:butt; stroke-linejoin:round; stroke-width:2; stroke-opacity:0.1; fill:none\" points=\"\n",
       "  1127.94,1423.18 1127.94,47.2441 \n",
       "  \"/>\n",
       "<polyline clip-path=\"url(#clip622)\" style=\"stroke:#000000; stroke-linecap:butt; stroke-linejoin:round; stroke-width:2; stroke-opacity:0.1; fill:none\" points=\"\n",
       "  1693.31,1423.18 1693.31,47.2441 \n",
       "  \"/>\n",
       "<polyline clip-path=\"url(#clip622)\" style=\"stroke:#000000; stroke-linecap:butt; stroke-linejoin:round; stroke-width:2; stroke-opacity:0.1; fill:none\" points=\"\n",
       "  2258.67,1423.18 2258.67,47.2441 \n",
       "  \"/>\n",
       "<polyline clip-path=\"url(#clip620)\" style=\"stroke:#000000; stroke-linecap:butt; stroke-linejoin:round; stroke-width:4; stroke-opacity:1; fill:none\" points=\"\n",
       "  219.519,1423.18 2352.76,1423.18 \n",
       "  \"/>\n",
       "<polyline clip-path=\"url(#clip620)\" style=\"stroke:#000000; stroke-linecap:butt; stroke-linejoin:round; stroke-width:4; stroke-opacity:1; fill:none\" points=\"\n",
       "  562.58,1423.18 562.58,1404.28 \n",
       "  \"/>\n",
       "<polyline clip-path=\"url(#clip620)\" style=\"stroke:#000000; stroke-linecap:butt; stroke-linejoin:round; stroke-width:4; stroke-opacity:1; fill:none\" points=\"\n",
       "  1127.94,1423.18 1127.94,1404.28 \n",
       "  \"/>\n",
       "<polyline clip-path=\"url(#clip620)\" style=\"stroke:#000000; stroke-linecap:butt; stroke-linejoin:round; stroke-width:4; stroke-opacity:1; fill:none\" points=\"\n",
       "  1693.31,1423.18 1693.31,1404.28 \n",
       "  \"/>\n",
       "<polyline clip-path=\"url(#clip620)\" style=\"stroke:#000000; stroke-linecap:butt; stroke-linejoin:round; stroke-width:4; stroke-opacity:1; fill:none\" points=\"\n",
       "  2258.67,1423.18 2258.67,1404.28 \n",
       "  \"/>\n",
       "<path clip-path=\"url(#clip620)\" d=\"M532.522 1468.75 L562.198 1468.75 L562.198 1472.69 L532.522 1472.69 L532.522 1468.75 Z\" fill=\"#000000\" fill-rule=\"evenodd\" fill-opacity=\"1\" /><path clip-path=\"url(#clip620)\" d=\"M576.318 1481.64 L592.637 1481.64 L592.637 1485.58 L570.693 1485.58 L570.693 1481.64 Q573.355 1478.89 577.938 1474.26 Q582.545 1469.61 583.725 1468.27 Q585.971 1465.74 586.85 1464.01 Q587.753 1462.25 587.753 1460.56 Q587.753 1457.8 585.809 1456.07 Q583.887 1454.33 580.786 1454.33 Q578.587 1454.33 576.133 1455.09 Q573.702 1455.86 570.925 1457.41 L570.925 1452.69 Q573.749 1451.55 576.202 1450.97 Q578.656 1450.39 580.693 1450.39 Q586.063 1450.39 589.258 1453.08 Q592.452 1455.77 592.452 1460.26 Q592.452 1462.39 591.642 1464.31 Q590.855 1466.2 588.749 1468.8 Q588.17 1469.47 585.068 1472.69 Q581.966 1475.88 576.318 1481.64 Z\" fill=\"#000000\" fill-rule=\"evenodd\" fill-opacity=\"1\" /><path clip-path=\"url(#clip620)\" d=\"M1127.94 1454.1 Q1124.33 1454.1 1122.5 1457.66 Q1120.7 1461.2 1120.7 1468.33 Q1120.7 1475.44 1122.5 1479.01 Q1124.33 1482.55 1127.94 1482.55 Q1131.58 1482.55 1133.38 1479.01 Q1135.21 1475.44 1135.21 1468.33 Q1135.21 1461.2 1133.38 1457.66 Q1131.58 1454.1 1127.94 1454.1 M1127.94 1450.39 Q1133.75 1450.39 1136.81 1455 Q1139.89 1459.58 1139.89 1468.33 Q1139.89 1477.06 1136.81 1481.67 Q1133.75 1486.25 1127.94 1486.25 Q1122.13 1486.25 1119.05 1481.67 Q1116 1477.06 1116 1468.33 Q1116 1459.58 1119.05 1455 Q1122.13 1450.39 1127.94 1450.39 Z\" fill=\"#000000\" fill-rule=\"evenodd\" fill-opacity=\"1\" /><path clip-path=\"url(#clip620)\" d=\"M1687.96 1481.64 L1704.28 1481.64 L1704.28 1485.58 L1682.33 1485.58 L1682.33 1481.64 Q1685 1478.89 1689.58 1474.26 Q1694.19 1469.61 1695.37 1468.27 Q1697.61 1465.74 1698.49 1464.01 Q1699.39 1462.25 1699.39 1460.56 Q1699.39 1457.8 1697.45 1456.07 Q1695.53 1454.33 1692.43 1454.33 Q1690.23 1454.33 1687.77 1455.09 Q1685.34 1455.86 1682.57 1457.41 L1682.57 1452.69 Q1685.39 1451.55 1687.84 1450.97 Q1690.3 1450.39 1692.33 1450.39 Q1697.7 1450.39 1700.9 1453.08 Q1704.09 1455.77 1704.09 1460.26 Q1704.09 1462.39 1703.28 1464.31 Q1702.5 1466.2 1700.39 1468.8 Q1699.81 1469.47 1696.71 1472.69 Q1693.61 1475.88 1687.96 1481.64 Z\" fill=\"#000000\" fill-rule=\"evenodd\" fill-opacity=\"1\" /><path clip-path=\"url(#clip620)\" d=\"M2261.68 1455.09 L2249.87 1473.54 L2261.68 1473.54 L2261.68 1455.09 M2260.45 1451.02 L2266.33 1451.02 L2266.33 1473.54 L2271.26 1473.54 L2271.26 1477.43 L2266.33 1477.43 L2266.33 1485.58 L2261.68 1485.58 L2261.68 1477.43 L2246.08 1477.43 L2246.08 1472.92 L2260.45 1451.02 Z\" fill=\"#000000\" fill-rule=\"evenodd\" fill-opacity=\"1\" /><path clip-path=\"url(#clip620)\" d=\"M1302.75 1532.4 L1289.86 1549.74 L1303.42 1568.04 L1296.51 1568.04 L1286.14 1554.04 L1275.76 1568.04 L1268.85 1568.04 L1282.7 1549.39 L1270.03 1532.4 L1276.94 1532.4 L1286.39 1545.1 L1295.85 1532.4 L1302.75 1532.4 Z\" fill=\"#000000\" fill-rule=\"evenodd\" fill-opacity=\"1\" /><polyline clip-path=\"url(#clip622)\" style=\"stroke:#000000; stroke-linecap:butt; stroke-linejoin:round; stroke-width:2; stroke-opacity:0.1; fill:none\" points=\"\n",
       "  219.519,1187.1 2352.76,1187.1 \n",
       "  \"/>\n",
       "<polyline clip-path=\"url(#clip622)\" style=\"stroke:#000000; stroke-linecap:butt; stroke-linejoin:round; stroke-width:2; stroke-opacity:0.1; fill:none\" points=\"\n",
       "  219.519,927.009 2352.76,927.009 \n",
       "  \"/>\n",
       "<polyline clip-path=\"url(#clip622)\" style=\"stroke:#000000; stroke-linecap:butt; stroke-linejoin:round; stroke-width:2; stroke-opacity:0.1; fill:none\" points=\"\n",
       "  219.519,666.914 2352.76,666.914 \n",
       "  \"/>\n",
       "<polyline clip-path=\"url(#clip622)\" style=\"stroke:#000000; stroke-linecap:butt; stroke-linejoin:round; stroke-width:2; stroke-opacity:0.1; fill:none\" points=\"\n",
       "  219.519,406.819 2352.76,406.819 \n",
       "  \"/>\n",
       "<polyline clip-path=\"url(#clip622)\" style=\"stroke:#000000; stroke-linecap:butt; stroke-linejoin:round; stroke-width:2; stroke-opacity:0.1; fill:none\" points=\"\n",
       "  219.519,146.725 2352.76,146.725 \n",
       "  \"/>\n",
       "<polyline clip-path=\"url(#clip620)\" style=\"stroke:#000000; stroke-linecap:butt; stroke-linejoin:round; stroke-width:4; stroke-opacity:1; fill:none\" points=\"\n",
       "  219.519,1423.18 219.519,47.2441 \n",
       "  \"/>\n",
       "<polyline clip-path=\"url(#clip620)\" style=\"stroke:#000000; stroke-linecap:butt; stroke-linejoin:round; stroke-width:4; stroke-opacity:1; fill:none\" points=\"\n",
       "  219.519,1187.1 238.417,1187.1 \n",
       "  \"/>\n",
       "<polyline clip-path=\"url(#clip620)\" style=\"stroke:#000000; stroke-linecap:butt; stroke-linejoin:round; stroke-width:4; stroke-opacity:1; fill:none\" points=\"\n",
       "  219.519,927.009 238.417,927.009 \n",
       "  \"/>\n",
       "<polyline clip-path=\"url(#clip620)\" style=\"stroke:#000000; stroke-linecap:butt; stroke-linejoin:round; stroke-width:4; stroke-opacity:1; fill:none\" points=\"\n",
       "  219.519,666.914 238.417,666.914 \n",
       "  \"/>\n",
       "<polyline clip-path=\"url(#clip620)\" style=\"stroke:#000000; stroke-linecap:butt; stroke-linejoin:round; stroke-width:4; stroke-opacity:1; fill:none\" points=\"\n",
       "  219.519,406.819 238.417,406.819 \n",
       "  \"/>\n",
       "<polyline clip-path=\"url(#clip620)\" style=\"stroke:#000000; stroke-linecap:butt; stroke-linejoin:round; stroke-width:4; stroke-opacity:1; fill:none\" points=\"\n",
       "  219.519,146.725 238.417,146.725 \n",
       "  \"/>\n",
       "<path clip-path=\"url(#clip620)\" d=\"M118.751 1200.45 L126.39 1200.45 L126.39 1174.08 L118.08 1175.75 L118.08 1171.49 L126.343 1169.82 L131.019 1169.82 L131.019 1200.45 L138.658 1200.45 L138.658 1204.38 L118.751 1204.38 L118.751 1200.45 Z\" fill=\"#000000\" fill-rule=\"evenodd\" fill-opacity=\"1\" /><path clip-path=\"url(#clip620)\" d=\"M148.103 1198.5 L152.987 1198.5 L152.987 1204.38 L148.103 1204.38 L148.103 1198.5 Z\" fill=\"#000000\" fill-rule=\"evenodd\" fill-opacity=\"1\" /><path clip-path=\"url(#clip620)\" d=\"M167.2 1200.45 L183.519 1200.45 L183.519 1204.38 L161.575 1204.38 L161.575 1200.45 Q164.237 1197.69 168.82 1193.06 Q173.427 1188.41 174.607 1187.07 Q176.852 1184.55 177.732 1182.81 Q178.635 1181.05 178.635 1179.36 Q178.635 1176.61 176.69 1174.87 Q174.769 1173.13 171.667 1173.13 Q169.468 1173.13 167.015 1173.9 Q164.584 1174.66 161.806 1176.21 L161.806 1171.49 Q164.63 1170.36 167.084 1169.78 Q169.538 1169.2 171.575 1169.2 Q176.945 1169.2 180.139 1171.88 Q183.334 1174.57 183.334 1179.06 Q183.334 1181.19 182.524 1183.11 Q181.737 1185.01 179.63 1187.6 Q179.051 1188.27 175.95 1191.49 Q172.848 1194.69 167.2 1200.45 Z\" fill=\"#000000\" fill-rule=\"evenodd\" fill-opacity=\"1\" /><path clip-path=\"url(#clip620)\" d=\"M118.149 940.354 L125.788 940.354 L125.788 913.989 L117.478 915.655 L117.478 911.396 L125.742 909.729 L130.417 909.729 L130.417 940.354 L138.056 940.354 L138.056 944.289 L118.149 944.289 L118.149 940.354 Z\" fill=\"#000000\" fill-rule=\"evenodd\" fill-opacity=\"1\" /><path clip-path=\"url(#clip620)\" d=\"M147.501 938.41 L152.385 938.41 L152.385 944.289 L147.501 944.289 L147.501 938.41 Z\" fill=\"#000000\" fill-rule=\"evenodd\" fill-opacity=\"1\" /><path clip-path=\"url(#clip620)\" d=\"M162.616 909.729 L180.973 909.729 L180.973 913.664 L166.899 913.664 L166.899 922.137 Q167.917 921.789 168.936 921.627 Q169.954 921.442 170.973 921.442 Q176.76 921.442 180.139 924.613 Q183.519 927.785 183.519 933.201 Q183.519 938.78 180.047 941.882 Q176.575 944.961 170.255 944.961 Q168.079 944.961 165.811 944.59 Q163.565 944.22 161.158 943.479 L161.158 938.78 Q163.241 939.914 165.464 940.47 Q167.686 941.025 170.163 941.025 Q174.167 941.025 176.505 938.919 Q178.843 936.812 178.843 933.201 Q178.843 929.59 176.505 927.484 Q174.167 925.377 170.163 925.377 Q168.288 925.377 166.413 925.794 Q164.561 926.211 162.616 927.09 L162.616 909.729 Z\" fill=\"#000000\" fill-rule=\"evenodd\" fill-opacity=\"1\" /><path clip-path=\"url(#clip620)\" d=\"M117.246 680.259 L124.885 680.259 L124.885 653.894 L116.575 655.56 L116.575 651.301 L124.839 649.634 L129.515 649.634 L129.515 680.259 L137.154 680.259 L137.154 684.194 L117.246 684.194 L117.246 680.259 Z\" fill=\"#000000\" fill-rule=\"evenodd\" fill-opacity=\"1\" /><path clip-path=\"url(#clip620)\" d=\"M146.598 678.315 L151.482 678.315 L151.482 684.194 L146.598 684.194 L146.598 678.315 Z\" fill=\"#000000\" fill-rule=\"evenodd\" fill-opacity=\"1\" /><path clip-path=\"url(#clip620)\" d=\"M171.667 667.782 Q168.334 667.782 166.413 669.565 Q164.515 671.347 164.515 674.472 Q164.515 677.597 166.413 679.38 Q168.334 681.162 171.667 681.162 Q175.001 681.162 176.922 679.38 Q178.843 677.574 178.843 674.472 Q178.843 671.347 176.922 669.565 Q175.024 667.782 171.667 667.782 M166.991 665.792 Q163.982 665.051 162.292 662.991 Q160.626 660.931 160.626 657.968 Q160.626 653.824 163.565 651.417 Q166.528 649.009 171.667 649.009 Q176.829 649.009 179.769 651.417 Q182.709 653.824 182.709 657.968 Q182.709 660.931 181.019 662.991 Q179.352 665.051 176.366 665.792 Q179.746 666.579 181.621 668.87 Q183.519 671.162 183.519 674.472 Q183.519 679.495 180.44 682.18 Q177.385 684.866 171.667 684.866 Q165.95 684.866 162.871 682.18 Q159.815 679.495 159.815 674.472 Q159.815 671.162 161.714 668.87 Q163.612 666.579 166.991 665.792 M165.278 658.407 Q165.278 661.093 166.945 662.597 Q168.635 664.102 171.667 664.102 Q174.677 664.102 176.366 662.597 Q178.079 661.093 178.079 658.407 Q178.079 655.722 176.366 654.218 Q174.677 652.713 171.667 652.713 Q168.635 652.713 166.945 654.218 Q165.278 655.722 165.278 658.407 Z\" fill=\"#000000\" fill-rule=\"evenodd\" fill-opacity=\"1\" /><path clip-path=\"url(#clip620)\" d=\"M121.598 420.164 L137.917 420.164 L137.917 424.099 L115.973 424.099 L115.973 420.164 Q118.635 417.41 123.218 412.78 Q127.825 408.127 129.005 406.785 Q131.251 404.262 132.13 402.525 Q133.033 400.766 133.033 399.076 Q133.033 396.322 131.089 394.586 Q129.167 392.85 126.066 392.85 Q123.867 392.85 121.413 393.613 Q118.982 394.377 116.205 395.928 L116.205 391.206 Q119.029 390.072 121.482 389.493 Q123.936 388.914 125.973 388.914 Q131.343 388.914 134.538 391.6 Q137.732 394.285 137.732 398.776 Q137.732 400.905 136.922 402.826 Q136.135 404.725 134.029 407.317 Q133.45 407.988 130.348 411.206 Q127.246 414.4 121.598 420.164 Z\" fill=\"#000000\" fill-rule=\"evenodd\" fill-opacity=\"1\" /><path clip-path=\"url(#clip620)\" d=\"M147.732 418.22 L152.616 418.22 L152.616 424.099 L147.732 424.099 L147.732 418.22 Z\" fill=\"#000000\" fill-rule=\"evenodd\" fill-opacity=\"1\" /><path clip-path=\"url(#clip620)\" d=\"M163.612 420.164 L171.251 420.164 L171.251 393.799 L162.94 395.465 L162.94 391.206 L171.204 389.539 L175.88 389.539 L175.88 420.164 L183.519 420.164 L183.519 424.099 L163.612 424.099 L163.612 420.164 Z\" fill=\"#000000\" fill-rule=\"evenodd\" fill-opacity=\"1\" /><path clip-path=\"url(#clip620)\" d=\"M119.885 160.069 L136.204 160.069 L136.204 164.005 L114.26 164.005 L114.26 160.069 Q116.922 157.315 121.505 152.685 Q126.112 148.032 127.292 146.69 Q129.538 144.167 130.417 142.431 Q131.32 140.671 131.32 138.982 Q131.32 136.227 129.376 134.491 Q127.455 132.755 124.353 132.755 Q122.154 132.755 119.7 133.519 Q117.269 134.282 114.492 135.833 L114.492 131.111 Q117.316 129.977 119.769 129.398 Q122.223 128.82 124.26 128.82 Q129.63 128.82 132.825 131.505 Q136.019 134.19 136.019 138.681 Q136.019 140.81 135.209 142.731 Q134.422 144.63 132.316 147.222 Q131.737 147.894 128.635 151.111 Q125.533 154.306 119.885 160.069 Z\" fill=\"#000000\" fill-rule=\"evenodd\" fill-opacity=\"1\" /><path clip-path=\"url(#clip620)\" d=\"M146.019 158.125 L150.903 158.125 L150.903 164.005 L146.019 164.005 L146.019 158.125 Z\" fill=\"#000000\" fill-rule=\"evenodd\" fill-opacity=\"1\" /><path clip-path=\"url(#clip620)\" d=\"M173.936 133.519 L162.13 151.968 L173.936 151.968 L173.936 133.519 M172.709 129.445 L178.589 129.445 L178.589 151.968 L183.519 151.968 L183.519 155.856 L178.589 155.856 L178.589 164.005 L173.936 164.005 L173.936 155.856 L158.334 155.856 L158.334 151.343 L172.709 129.445 Z\" fill=\"#000000\" fill-rule=\"evenodd\" fill-opacity=\"1\" /><path clip-path=\"url(#clip620)\" d=\"M28.3562 748.723 L28.3562 720.905 L33.7034 720.905 L59.3254 742.93 L59.3254 720.905 L64.0042 720.905 L64.0042 749.519 L58.657 749.519 L33.035 727.494 L33.035 748.723 L28.3562 748.723 Z\" fill=\"#000000\" fill-rule=\"evenodd\" fill-opacity=\"1\" /><polyline clip-path=\"url(#clip622)\" style=\"stroke:#009af9; stroke-linecap:butt; stroke-linejoin:round; stroke-width:4; stroke-opacity:1; fill:none\" points=\"\n",
       "  279.898,1360.5 279.894,1364.37 279.932,1373.29 280.474,1381.54 282.525,1384.24 287.218,1378.91 295.381,1365.14 307.376,1343.68 323.165,1315.68 342.441,1282.37 \n",
       "  364.762,1244.87 389.652,1204.17 416.662,1161.17 445.409,1116.57 475.588,1070.91 506.965,1024.54 539.374,977.58 572.692,929.915 606.824,881.199 641.666,830.763 \n",
       "  677.023,777.405 712.386,720.316 746.961,659.877 779.959,597.392 810.77,534.947 838.998,475.027 864.399,420.33 886.857,373.893 906.451,339.255 923.626,320.349 \n",
       "  939.334,320.895 954.975,341.289 971.73,378.29 990.185,428.161 1010.51,487.72 1032.77,554.621 1057.1,626.899 1083.76,702.264 1112.88,777.762 1144.27,850.109 \n",
       "  1177.46,916.405 1211.93,975.692 1247.34,1028.59 1283.55,1075.69 1320.47,1117.56 1358.05,1154.66 1396.24,1187.46 1435,1216.36 1474.27,1241.72 1514.02,1263.89 \n",
       "  1554.2,1283.16 1594.76,1299.8 1635.68,1314.04 1676.89,1326.11 1718.37,1336.2 1760.09,1344.45 1801.99,1351.01 1844.06,1356.01 1886.25,1359.52 1928.53,1361.64 \n",
       "  1970.88,1362.4 \n",
       "  \"/>\n",
       "<polyline clip-path=\"url(#clip622)\" style=\"stroke:#e26f46; stroke-linecap:butt; stroke-linejoin:round; stroke-width:4; stroke-opacity:1; fill:none\" points=\"\n",
       "  279.898,1360.5 279.976,1364.09 280.27,1372.23 281.229,1379.31 283.833,1380.55 289.183,1373.52 298.072,1357.86 310.835,1334.34 327.41,1304.17 347.468,1268.57 \n",
       "  370.558,1228.7 396.211,1185.66 423.952,1140.28 453.413,1093.39 484.315,1045.63 516.432,997.346 549.585,948.657 583.662,899.48 618.588,849.498 654.273,798.06 \n",
       "  690.553,743.949 726.954,686.199 762.724,624.948 797.013,561.098 829.078,496.452 858.392,433.576 884.586,375.445 907.496,325.544 927.271,287.918 944.482,266.836 \n",
       "  960.217,266.027 975.988,285.584 993.064,321.929 1011.97,370.747 1032.77,428.539 1055.34,492.903 1079.7,562.165 1106.08,634.564 1134.63,707.588 1165.34,778.355 \n",
       "  1197.86,843.971 1231.74,903.369 1266.7,957.044 1302.58,1005.48 1339.29,1049.14 1376.79,1088.47 1415,1123.79 1453.88,1155.51 1493.4,1183.98 1533.52,1209.45 \n",
       "  1574.19,1232.23 1615.36,1252.44 1656.96,1270.26 1698.97,1285.85 1741.31,1299.31 1783.93,1310.72 1826.8,1320.13 1869.85,1327.49 1913.06,1332.77 1956.4,1335.86 \n",
       "  1999.87,1336.7 \n",
       "  \"/>\n",
       "<polyline clip-path=\"url(#clip622)\" style=\"stroke:#3da44d; stroke-linecap:butt; stroke-linejoin:round; stroke-width:4; stroke-opacity:1; fill:none\" points=\"\n",
       "  279.898,1360.5 279.982,1364.12 280.276,1372.22 281.251,1379.11 283.913,1379.93 289.396,1372.19 298.517,1355.46 311.656,1330.53 328.77,1298.54 349.559,1260.75 \n",
       "  373.571,1218.24 400.334,1172.03 429.413,1123.05 460.419,1072 493.042,1019.39 527.034,965.519 562.226,910.499 598.499,854.23 635.77,796.408 673.916,736.302 \n",
       "  712.772,672.795 751.821,605.06 790.268,533.475 827.298,459.264 862.315,384.555 894.932,311.86 924.903,243.891 952.115,183.68 976.64,134.741 998.923,100.998 \n",
       "  1019.92,86.1857 1041.02,90.6721 1063.42,111.26 1087.7,144.187 1114.03,186.288 1142.46,235.174 1173.15,288.915 1206.35,345.233 1242.19,401.184 1280.47,453.418 \n",
       "  1320.72,499.047 1362.41,537.132 1405.24,568.338 1449.06,593.276 1493.77,612.47 1539.33,626.414 1585.68,635.516 1632.76,640.196 1680.54,640.82 1728.98,637.718 \n",
       "  1777.99,631.106 1827.56,621.293 1877.64,608.524 1928.2,593.027 1979.2,574.992 2030.59,554.548 2082.33,531.859 2134.41,507.1 2186.81,480.369 2239.47,451.673 \n",
       "  2292.38,421.132 \n",
       "  \"/>\n",
       "<path clip-path=\"url(#clip620)\" d=\"\n",
       "M1932.96 300.469 L2281.65 300.469 L2281.65 93.1086 L1932.96 93.1086  Z\n",
       "  \" fill=\"#ffffff\" fill-rule=\"evenodd\" fill-opacity=\"1\"/>\n",
       "<polyline clip-path=\"url(#clip620)\" style=\"stroke:#000000; stroke-linecap:butt; stroke-linejoin:round; stroke-width:4; stroke-opacity:1; fill:none\" points=\"\n",
       "  1932.96,300.469 2281.65,300.469 2281.65,93.1086 1932.96,93.1086 1932.96,300.469 \n",
       "  \"/>\n",
       "<polyline clip-path=\"url(#clip620)\" style=\"stroke:#009af9; stroke-linecap:butt; stroke-linejoin:round; stroke-width:4; stroke-opacity:1; fill:none\" points=\"\n",
       "  1956.66,144.949 2098.87,144.949 \n",
       "  \"/>\n",
       "<path clip-path=\"url(#clip620)\" d=\"M2137.76 140.284 Q2137.04 139.868 2136.19 139.682 Q2135.35 139.474 2134.34 139.474 Q2130.72 139.474 2128.78 141.835 Q2126.86 144.173 2126.86 148.571 L2126.86 162.229 L2122.58 162.229 L2122.58 136.303 L2126.86 136.303 L2126.86 140.331 Q2128.2 137.969 2130.35 136.835 Q2132.51 135.678 2135.59 135.678 Q2136.03 135.678 2136.56 135.747 Q2137.09 135.794 2137.74 135.909 L2137.76 140.284 Z\" fill=\"#000000\" fill-rule=\"evenodd\" fill-opacity=\"1\" /><path clip-path=\"url(#clip620)\" d=\"M2163.36 148.201 L2163.36 150.284 L2143.78 150.284 Q2144.06 154.682 2146.42 156.997 Q2148.8 159.289 2153.04 159.289 Q2155.49 159.289 2157.78 158.687 Q2160.1 158.085 2162.37 156.881 L2162.37 160.909 Q2160.08 161.881 2157.67 162.391 Q2155.26 162.9 2152.78 162.9 Q2146.58 162.9 2142.95 159.289 Q2139.34 155.678 2139.34 149.52 Q2139.34 143.155 2142.76 139.428 Q2146.21 135.678 2152.04 135.678 Q2157.28 135.678 2160.31 139.057 Q2163.36 142.414 2163.36 148.201 M2159.1 146.951 Q2159.06 143.456 2157.14 141.372 Q2155.24 139.289 2152.09 139.289 Q2148.53 139.289 2146.37 141.303 Q2144.24 143.317 2143.92 146.974 L2159.1 146.951 Z\" fill=\"#000000\" fill-rule=\"evenodd\" fill-opacity=\"1\" /><path clip-path=\"url(#clip620)\" d=\"M2183.48 126.21 L2183.48 129.752 L2179.41 129.752 Q2177.11 129.752 2176.21 130.678 Q2175.33 131.604 2175.33 134.011 L2175.33 136.303 L2182.34 136.303 L2182.34 139.613 L2175.33 139.613 L2175.33 162.229 L2171.05 162.229 L2171.05 139.613 L2166.97 139.613 L2166.97 136.303 L2171.05 136.303 L2171.05 134.497 Q2171.05 130.169 2173.06 128.201 Q2175.08 126.21 2179.45 126.21 L2183.48 126.21 Z\" fill=\"#000000\" fill-rule=\"evenodd\" fill-opacity=\"1\" /><polyline clip-path=\"url(#clip620)\" style=\"stroke:#e26f46; stroke-linecap:butt; stroke-linejoin:round; stroke-width:4; stroke-opacity:1; fill:none\" points=\"\n",
       "  1956.66,196.789 2098.87,196.789 \n",
       "  \"/>\n",
       "<path clip-path=\"url(#clip620)\" d=\"M2122.58 178.05 L2126.84 178.05 L2126.84 214.069 L2122.58 214.069 L2122.58 178.05 Z\" fill=\"#000000\" fill-rule=\"evenodd\" fill-opacity=\"1\" /><path clip-path=\"url(#clip620)\" d=\"M2138.29 201.129 Q2138.29 205.828 2140.22 208.513 Q2142.16 211.175 2145.54 211.175 Q2148.92 211.175 2150.86 208.513 Q2152.81 205.828 2152.81 201.129 Q2152.81 196.43 2150.86 193.768 Q2148.92 191.083 2145.54 191.083 Q2142.16 191.083 2140.22 193.768 Q2138.29 196.43 2138.29 201.129 M2152.81 210.18 Q2151.47 212.495 2149.41 213.629 Q2147.37 214.74 2144.5 214.74 Q2139.8 214.74 2136.84 210.99 Q2133.9 207.24 2133.9 201.129 Q2133.9 195.018 2136.84 191.268 Q2139.8 187.518 2144.5 187.518 Q2147.37 187.518 2149.41 188.652 Q2151.47 189.763 2152.81 192.078 L2152.81 188.143 L2157.07 188.143 L2157.07 223.93 L2152.81 223.93 L2152.81 210.18 Z\" fill=\"#000000\" fill-rule=\"evenodd\" fill-opacity=\"1\" /><path clip-path=\"url(#clip620)\" d=\"M2180.86 192.124 Q2180.15 191.708 2179.29 191.522 Q2178.46 191.314 2177.44 191.314 Q2173.83 191.314 2171.88 193.675 Q2169.96 196.013 2169.96 200.411 L2169.96 214.069 L2165.68 214.069 L2165.68 188.143 L2169.96 188.143 L2169.96 192.171 Q2171.3 189.809 2173.46 188.675 Q2175.61 187.518 2178.69 187.518 Q2179.13 187.518 2179.66 187.587 Q2180.19 187.634 2180.84 187.749 L2180.86 192.124 Z\" fill=\"#000000\" fill-rule=\"evenodd\" fill-opacity=\"1\" /><polyline clip-path=\"url(#clip620)\" style=\"stroke:#3da44d; stroke-linecap:butt; stroke-linejoin:round; stroke-width:4; stroke-opacity:1; fill:none\" points=\"\n",
       "  1956.66,248.629 2098.87,248.629 \n",
       "  \"/>\n",
       "<path clip-path=\"url(#clip620)\" d=\"M2134.47 242.969 Q2131.05 242.969 2129.06 245.654 Q2127.07 248.316 2127.07 252.969 Q2127.07 257.622 2129.03 260.307 Q2131.03 262.969 2134.47 262.969 Q2137.88 262.969 2139.87 260.284 Q2141.86 257.598 2141.86 252.969 Q2141.86 248.362 2139.87 245.677 Q2137.88 242.969 2134.47 242.969 M2134.47 239.358 Q2140.03 239.358 2143.2 242.969 Q2146.37 246.58 2146.37 252.969 Q2146.37 259.335 2143.2 262.969 Q2140.03 266.58 2134.47 266.58 Q2128.9 266.58 2125.72 262.969 Q2122.58 259.335 2122.58 252.969 Q2122.58 246.58 2125.72 242.969 Q2128.9 239.358 2134.47 239.358 Z\" fill=\"#000000\" fill-rule=\"evenodd\" fill-opacity=\"1\" /><path clip-path=\"url(#clip620)\" d=\"M2157.55 262.02 L2157.55 275.77 L2153.27 275.77 L2153.27 239.983 L2157.55 239.983 L2157.55 243.918 Q2158.9 241.603 2160.93 240.492 Q2162.99 239.358 2165.84 239.358 Q2170.56 239.358 2173.5 243.108 Q2176.47 246.858 2176.47 252.969 Q2176.47 259.08 2173.5 262.83 Q2170.56 266.58 2165.84 266.58 Q2162.99 266.58 2160.93 265.469 Q2158.9 264.335 2157.55 262.02 M2172.04 252.969 Q2172.04 248.27 2170.1 245.608 Q2168.18 242.923 2164.8 242.923 Q2161.42 242.923 2159.47 245.608 Q2157.55 248.27 2157.55 252.969 Q2157.55 257.668 2159.47 260.353 Q2161.42 263.015 2164.8 263.015 Q2168.18 263.015 2170.1 260.353 Q2172.04 257.668 2172.04 252.969 Z\" fill=\"#000000\" fill-rule=\"evenodd\" fill-opacity=\"1\" /><path clip-path=\"url(#clip620)\" d=\"M2205.7 251.881 L2205.7 253.964 L2186.12 253.964 Q2186.4 258.362 2188.76 260.677 Q2191.14 262.969 2195.38 262.969 Q2197.83 262.969 2200.12 262.367 Q2202.44 261.765 2204.71 260.561 L2204.71 264.589 Q2202.41 265.561 2200.01 266.071 Q2197.6 266.58 2195.12 266.58 Q2188.92 266.58 2185.28 262.969 Q2181.67 259.358 2181.67 253.2 Q2181.67 246.835 2185.1 243.108 Q2188.55 239.358 2194.38 239.358 Q2199.61 239.358 2202.65 242.737 Q2205.7 246.094 2205.7 251.881 M2201.44 250.631 Q2201.4 247.136 2199.47 245.052 Q2197.58 242.969 2194.43 242.969 Q2190.86 242.969 2188.71 244.983 Q2186.58 246.997 2186.26 250.654 L2201.44 250.631 Z\" fill=\"#000000\" fill-rule=\"evenodd\" fill-opacity=\"1\" /><path clip-path=\"url(#clip620)\" d=\"M2234.24 250.261 L2234.24 265.909 L2229.98 265.909 L2229.98 250.399 Q2229.98 246.719 2228.55 244.89 Q2227.11 243.062 2224.24 243.062 Q2220.79 243.062 2218.8 245.261 Q2216.81 247.46 2216.81 251.256 L2216.81 265.909 L2212.53 265.909 L2212.53 239.983 L2216.81 239.983 L2216.81 244.011 Q2218.34 241.673 2220.4 240.515 Q2222.48 239.358 2225.19 239.358 Q2229.66 239.358 2231.95 242.136 Q2234.24 244.89 2234.24 250.261 Z\" fill=\"#000000\" fill-rule=\"evenodd\" fill-opacity=\"1\" /></svg>\n"
      ]
     },
     "execution_count": 26,
     "metadata": {},
     "output_type": "execute_result"
    }
   ],
   "source": [
    "# Plot the trajectories\n",
    "traj2(Xflip, label=\"ref\")\n",
    "traj2!(Xlqr, label=\"lqr\")\n",
    "traj2!(Xopen, label=\"open\", ylabel=\"z\")"
   ]
  },
  {
   "cell_type": "markdown",
   "metadata": {},
   "source": [
    "## Tests"
   ]
  },
  {
   "cell_type": "code",
   "execution_count": 27,
   "metadata": {},
   "outputs": [
    {
     "ename": "LoadError",
     "evalue": "SystemError: opening file \"/home/brian/Classes/16745_OptimalControl/hw3_new/test/q1.jl\": No such file or directory",
     "output_type": "error",
     "traceback": [
      "SystemError: opening file \"/home/brian/Classes/16745_OptimalControl/hw3_new/test/q1.jl\": No such file or directory",
      "",
      "Stacktrace:",
      "  [1] systemerror(p::String, errno::Int32; extrainfo::Nothing)",
      "    @ Base ./error.jl:168",
      "  [2] #systemerror#62",
      "    @ ./error.jl:167 [inlined]",
      "  [3] systemerror",
      "    @ ./error.jl:167 [inlined]",
      "  [4] open(fname::String; lock::Bool, read::Nothing, write::Nothing, create::Nothing, truncate::Nothing, append::Nothing)",
      "    @ Base ./iostream.jl:293",
      "  [5] open",
      "    @ ./iostream.jl:282 [inlined]",
      "  [6] open(f::Base.var\"#326#327\"{String}, args::String; kwargs::Base.Iterators.Pairs{Union{}, Union{}, Tuple{}, NamedTuple{(), Tuple{}}})",
      "    @ Base ./io.jl:328",
      "  [7] open",
      "    @ ./io.jl:328 [inlined]",
      "  [8] read",
      "    @ ./io.jl:434 [inlined]",
      "  [9] _include(mapexpr::Function, mod::Module, _path::String)",
      "    @ Base ./loading.jl:1166",
      " [10] include",
      "    @ ./client.jl:444 [inlined]",
      " [11] run_tests()",
      "    @ Main ~/Classes/16745_OptimalControl/hw3_new/src/quadrotor.jl:119",
      " [12] top-level scope",
      "    @ In[27]:1",
      " [13] eval",
      "    @ ./boot.jl:360 [inlined]",
      " [14] include_string(mapexpr::typeof(REPL.softscope), mod::Module, code::String, filename::String)",
      "    @ Base ./loading.jl:1116"
     ]
    }
   ],
   "source": [
    "run_tests();"
   ]
  },
  {
   "cell_type": "markdown",
   "metadata": {},
   "source": [
    "## EXTRA CREDIT\n",
    "If we plot the controls for the flip trajectory (shown below), you'll notice that the controls go negative, which is unrealistic for most quadrotors. Find a way to ensure that the inputs don't go negative while executing the flip trajectory."
   ]
  },
  {
   "cell_type": "code",
   "execution_count": 28,
   "metadata": {},
   "outputs": [
    {
     "data": {
      "image/svg+xml": [
       "<?xml version=\"1.0\" encoding=\"utf-8\"?>\n",
       "<svg xmlns=\"http://www.w3.org/2000/svg\" xmlns:xlink=\"http://www.w3.org/1999/xlink\" width=\"600\" height=\"400\" viewBox=\"0 0 2400 1600\">\n",
       "<defs>\n",
       "  <clipPath id=\"clip660\">\n",
       "    <rect x=\"0\" y=\"0\" width=\"2400\" height=\"1600\"/>\n",
       "  </clipPath>\n",
       "</defs>\n",
       "<path clip-path=\"url(#clip660)\" d=\"\n",
       "M0 1600 L2400 1600 L2400 0 L0 0  Z\n",
       "  \" fill=\"#ffffff\" fill-rule=\"evenodd\" fill-opacity=\"1\"/>\n",
       "<defs>\n",
       "  <clipPath id=\"clip661\">\n",
       "    <rect x=\"480\" y=\"0\" width=\"1681\" height=\"1600\"/>\n",
       "  </clipPath>\n",
       "</defs>\n",
       "<path clip-path=\"url(#clip660)\" d=\"\n",
       "M242.135 1423.18 L2352.76 1423.18 L2352.76 47.2441 L242.135 47.2441  Z\n",
       "  \" fill=\"#ffffff\" fill-rule=\"evenodd\" fill-opacity=\"1\"/>\n",
       "<defs>\n",
       "  <clipPath id=\"clip662\">\n",
       "    <rect x=\"242\" y=\"47\" width=\"2112\" height=\"1377\"/>\n",
       "  </clipPath>\n",
       "</defs>\n",
       "<polyline clip-path=\"url(#clip662)\" style=\"stroke:#000000; stroke-linecap:butt; stroke-linejoin:round; stroke-width:2; stroke-opacity:0.1; fill:none\" points=\"\n",
       "  301.869,1423.18 301.869,47.2441 \n",
       "  \"/>\n",
       "<polyline clip-path=\"url(#clip662)\" style=\"stroke:#000000; stroke-linecap:butt; stroke-linejoin:round; stroke-width:2; stroke-opacity:0.1; fill:none\" points=\"\n",
       "  976.836,1423.18 976.836,47.2441 \n",
       "  \"/>\n",
       "<polyline clip-path=\"url(#clip662)\" style=\"stroke:#000000; stroke-linecap:butt; stroke-linejoin:round; stroke-width:2; stroke-opacity:0.1; fill:none\" points=\"\n",
       "  1651.8,1423.18 1651.8,47.2441 \n",
       "  \"/>\n",
       "<polyline clip-path=\"url(#clip662)\" style=\"stroke:#000000; stroke-linecap:butt; stroke-linejoin:round; stroke-width:2; stroke-opacity:0.1; fill:none\" points=\"\n",
       "  2326.77,1423.18 2326.77,47.2441 \n",
       "  \"/>\n",
       "<polyline clip-path=\"url(#clip660)\" style=\"stroke:#000000; stroke-linecap:butt; stroke-linejoin:round; stroke-width:4; stroke-opacity:1; fill:none\" points=\"\n",
       "  242.135,1423.18 2352.76,1423.18 \n",
       "  \"/>\n",
       "<polyline clip-path=\"url(#clip660)\" style=\"stroke:#000000; stroke-linecap:butt; stroke-linejoin:round; stroke-width:4; stroke-opacity:1; fill:none\" points=\"\n",
       "  301.869,1423.18 301.869,1404.28 \n",
       "  \"/>\n",
       "<polyline clip-path=\"url(#clip660)\" style=\"stroke:#000000; stroke-linecap:butt; stroke-linejoin:round; stroke-width:4; stroke-opacity:1; fill:none\" points=\"\n",
       "  976.836,1423.18 976.836,1404.28 \n",
       "  \"/>\n",
       "<polyline clip-path=\"url(#clip660)\" style=\"stroke:#000000; stroke-linecap:butt; stroke-linejoin:round; stroke-width:4; stroke-opacity:1; fill:none\" points=\"\n",
       "  1651.8,1423.18 1651.8,1404.28 \n",
       "  \"/>\n",
       "<polyline clip-path=\"url(#clip660)\" style=\"stroke:#000000; stroke-linecap:butt; stroke-linejoin:round; stroke-width:4; stroke-opacity:1; fill:none\" points=\"\n",
       "  2326.77,1423.18 2326.77,1404.28 \n",
       "  \"/>\n",
       "<path clip-path=\"url(#clip660)\" d=\"M279.254 1454.1 Q275.643 1454.1 273.814 1457.66 Q272.008 1461.2 272.008 1468.33 Q272.008 1475.44 273.814 1479.01 Q275.643 1482.55 279.254 1482.55 Q282.888 1482.55 284.693 1479.01 Q286.522 1475.44 286.522 1468.33 Q286.522 1461.2 284.693 1457.66 Q282.888 1454.1 279.254 1454.1 M279.254 1450.39 Q285.064 1450.39 288.119 1455 Q291.198 1459.58 291.198 1468.33 Q291.198 1477.06 288.119 1481.67 Q285.064 1486.25 279.254 1486.25 Q273.443 1486.25 270.365 1481.67 Q267.309 1477.06 267.309 1468.33 Q267.309 1459.58 270.365 1455 Q273.443 1450.39 279.254 1450.39 Z\" fill=\"#000000\" fill-rule=\"evenodd\" fill-opacity=\"1\" /><path clip-path=\"url(#clip660)\" d=\"M299.416 1479.7 L304.3 1479.7 L304.3 1485.58 L299.416 1485.58 L299.416 1479.7 Z\" fill=\"#000000\" fill-rule=\"evenodd\" fill-opacity=\"1\" /><path clip-path=\"url(#clip660)\" d=\"M324.485 1454.1 Q320.874 1454.1 319.045 1457.66 Q317.24 1461.2 317.24 1468.33 Q317.24 1475.44 319.045 1479.01 Q320.874 1482.55 324.485 1482.55 Q328.119 1482.55 329.925 1479.01 Q331.753 1475.44 331.753 1468.33 Q331.753 1461.2 329.925 1457.66 Q328.119 1454.1 324.485 1454.1 M324.485 1450.39 Q330.295 1450.39 333.351 1455 Q336.429 1459.58 336.429 1468.33 Q336.429 1477.06 333.351 1481.67 Q330.295 1486.25 324.485 1486.25 Q318.675 1486.25 315.596 1481.67 Q312.54 1477.06 312.54 1468.33 Q312.54 1459.58 315.596 1455 Q318.675 1450.39 324.485 1450.39 Z\" fill=\"#000000\" fill-rule=\"evenodd\" fill-opacity=\"1\" /><path clip-path=\"url(#clip660)\" d=\"M954.718 1454.1 Q951.107 1454.1 949.278 1457.66 Q947.473 1461.2 947.473 1468.33 Q947.473 1475.44 949.278 1479.01 Q951.107 1482.55 954.718 1482.55 Q958.352 1482.55 960.158 1479.01 Q961.987 1475.44 961.987 1468.33 Q961.987 1461.2 960.158 1457.66 Q958.352 1454.1 954.718 1454.1 M954.718 1450.39 Q960.528 1450.39 963.584 1455 Q966.662 1459.58 966.662 1468.33 Q966.662 1477.06 963.584 1481.67 Q960.528 1486.25 954.718 1486.25 Q948.908 1486.25 945.829 1481.67 Q942.774 1477.06 942.774 1468.33 Q942.774 1459.58 945.829 1455 Q948.908 1450.39 954.718 1450.39 Z\" fill=\"#000000\" fill-rule=\"evenodd\" fill-opacity=\"1\" /><path clip-path=\"url(#clip660)\" d=\"M974.88 1479.7 L979.764 1479.7 L979.764 1485.58 L974.88 1485.58 L974.88 1479.7 Z\" fill=\"#000000\" fill-rule=\"evenodd\" fill-opacity=\"1\" /><path clip-path=\"url(#clip660)\" d=\"M989.996 1451.02 L1008.35 1451.02 L1008.35 1454.96 L994.278 1454.96 L994.278 1463.43 Q995.297 1463.08 996.315 1462.92 Q997.334 1462.73 998.352 1462.73 Q1004.14 1462.73 1007.52 1465.9 Q1010.9 1469.08 1010.9 1474.49 Q1010.9 1480.07 1007.43 1483.17 Q1003.95 1486.25 997.635 1486.25 Q995.459 1486.25 993.19 1485.88 Q990.945 1485.51 988.537 1484.77 L988.537 1480.07 Q990.621 1481.2 992.843 1481.76 Q995.065 1482.32 997.542 1482.32 Q1001.55 1482.32 1003.88 1480.21 Q1006.22 1478.1 1006.22 1474.49 Q1006.22 1470.88 1003.88 1468.77 Q1001.55 1466.67 997.542 1466.67 Q995.667 1466.67 993.792 1467.08 Q991.94 1467.5 989.996 1468.38 L989.996 1451.02 Z\" fill=\"#000000\" fill-rule=\"evenodd\" fill-opacity=\"1\" /><path clip-path=\"url(#clip660)\" d=\"M1618.96 1481.64 L1626.59 1481.64 L1626.59 1455.28 L1618.28 1456.95 L1618.28 1452.69 L1626.55 1451.02 L1631.22 1451.02 L1631.22 1481.64 L1638.86 1481.64 L1638.86 1485.58 L1618.96 1485.58 L1618.96 1481.64 Z\" fill=\"#000000\" fill-rule=\"evenodd\" fill-opacity=\"1\" /><path clip-path=\"url(#clip660)\" d=\"M1648.31 1479.7 L1653.19 1479.7 L1653.19 1485.58 L1648.31 1485.58 L1648.31 1479.7 Z\" fill=\"#000000\" fill-rule=\"evenodd\" fill-opacity=\"1\" /><path clip-path=\"url(#clip660)\" d=\"M1673.38 1454.1 Q1669.77 1454.1 1667.94 1457.66 Q1666.13 1461.2 1666.13 1468.33 Q1666.13 1475.44 1667.94 1479.01 Q1669.77 1482.55 1673.38 1482.55 Q1677.01 1482.55 1678.82 1479.01 Q1680.65 1475.44 1680.65 1468.33 Q1680.65 1461.2 1678.82 1457.66 Q1677.01 1454.1 1673.38 1454.1 M1673.38 1450.39 Q1679.19 1450.39 1682.24 1455 Q1685.32 1459.58 1685.32 1468.33 Q1685.32 1477.06 1682.24 1481.67 Q1679.19 1486.25 1673.38 1486.25 Q1667.57 1486.25 1664.49 1481.67 Q1661.43 1477.06 1661.43 1468.33 Q1661.43 1459.58 1664.49 1455 Q1667.57 1450.39 1673.38 1450.39 Z\" fill=\"#000000\" fill-rule=\"evenodd\" fill-opacity=\"1\" /><path clip-path=\"url(#clip660)\" d=\"M2294.42 1481.64 L2302.06 1481.64 L2302.06 1455.28 L2293.75 1456.95 L2293.75 1452.69 L2302.01 1451.02 L2306.69 1451.02 L2306.69 1481.64 L2314.33 1481.64 L2314.33 1485.58 L2294.42 1485.58 L2294.42 1481.64 Z\" fill=\"#000000\" fill-rule=\"evenodd\" fill-opacity=\"1\" /><path clip-path=\"url(#clip660)\" d=\"M2323.77 1479.7 L2328.66 1479.7 L2328.66 1485.58 L2323.77 1485.58 L2323.77 1479.7 Z\" fill=\"#000000\" fill-rule=\"evenodd\" fill-opacity=\"1\" /><path clip-path=\"url(#clip660)\" d=\"M2338.89 1451.02 L2357.24 1451.02 L2357.24 1454.96 L2343.17 1454.96 L2343.17 1463.43 Q2344.19 1463.08 2345.21 1462.92 Q2346.23 1462.73 2347.24 1462.73 Q2353.03 1462.73 2356.41 1465.9 Q2359.79 1469.08 2359.79 1474.49 Q2359.79 1480.07 2356.32 1483.17 Q2352.85 1486.25 2346.53 1486.25 Q2344.35 1486.25 2342.08 1485.88 Q2339.84 1485.51 2337.43 1484.77 L2337.43 1480.07 Q2339.51 1481.2 2341.73 1481.76 Q2343.96 1482.32 2346.43 1482.32 Q2350.44 1482.32 2352.78 1480.21 Q2355.11 1478.1 2355.11 1474.49 Q2355.11 1470.88 2352.78 1468.77 Q2350.44 1466.67 2346.43 1466.67 Q2344.56 1466.67 2342.68 1467.08 Q2340.83 1467.5 2338.89 1468.38 L2338.89 1451.02 Z\" fill=\"#000000\" fill-rule=\"evenodd\" fill-opacity=\"1\" /><path clip-path=\"url(#clip660)\" d=\"M1184.9 1522.27 L1184.9 1532.4 L1196.96 1532.4 L1196.96 1536.95 L1184.9 1536.95 L1184.9 1556.3 Q1184.9 1560.66 1186.08 1561.9 Q1187.29 1563.14 1190.95 1563.14 L1196.96 1563.14 L1196.96 1568.04 L1190.95 1568.04 Q1184.17 1568.04 1181.59 1565.53 Q1179.01 1562.98 1179.01 1556.3 L1179.01 1536.95 L1174.71 1536.95 L1174.71 1532.4 L1179.01 1532.4 L1179.01 1522.27 L1184.9 1522.27 Z\" fill=\"#000000\" fill-rule=\"evenodd\" fill-opacity=\"1\" /><path clip-path=\"url(#clip660)\" d=\"M1204.67 1532.4 L1210.52 1532.4 L1210.52 1568.04 L1204.67 1568.04 L1204.67 1532.4 M1204.67 1518.52 L1210.52 1518.52 L1210.52 1525.93 L1204.67 1525.93 L1204.67 1518.52 Z\" fill=\"#000000\" fill-rule=\"evenodd\" fill-opacity=\"1\" /><path clip-path=\"url(#clip660)\" d=\"M1250.53 1539.24 Q1252.73 1535.29 1255.78 1533.41 Q1258.84 1531.54 1262.97 1531.54 Q1268.54 1531.54 1271.57 1535.45 Q1274.59 1539.33 1274.59 1546.53 L1274.59 1568.04 L1268.7 1568.04 L1268.7 1546.72 Q1268.7 1541.59 1266.89 1539.11 Q1265.08 1536.63 1261.35 1536.63 Q1256.8 1536.63 1254.16 1539.65 Q1251.52 1542.68 1251.52 1547.9 L1251.52 1568.04 L1245.63 1568.04 L1245.63 1546.72 Q1245.63 1541.56 1243.81 1539.11 Q1242 1536.63 1238.21 1536.63 Q1233.72 1536.63 1231.08 1539.68 Q1228.44 1542.71 1228.44 1547.9 L1228.44 1568.04 L1222.55 1568.04 L1222.55 1532.4 L1228.44 1532.4 L1228.44 1537.93 Q1230.45 1534.66 1233.25 1533.1 Q1236.05 1531.54 1239.9 1531.54 Q1243.78 1531.54 1246.49 1533.51 Q1249.23 1535.48 1250.53 1539.24 Z\" fill=\"#000000\" fill-rule=\"evenodd\" fill-opacity=\"1\" /><path clip-path=\"url(#clip660)\" d=\"M1316.77 1548.76 L1316.77 1551.62 L1289.84 1551.62 Q1290.22 1557.67 1293.47 1560.85 Q1296.75 1564 1302.57 1564 Q1305.94 1564 1309.09 1563.17 Q1312.28 1562.35 1315.4 1560.69 L1315.4 1566.23 Q1312.25 1567.57 1308.94 1568.27 Q1305.63 1568.97 1302.22 1568.97 Q1293.69 1568.97 1288.69 1564 Q1283.73 1559.04 1283.73 1550.57 Q1283.73 1541.82 1288.44 1536.69 Q1293.18 1531.54 1301.2 1531.54 Q1308.39 1531.54 1312.56 1536.18 Q1316.77 1540.8 1316.77 1548.76 M1310.91 1547.04 Q1310.85 1542.23 1308.2 1539.37 Q1305.59 1536.5 1301.26 1536.5 Q1296.36 1536.5 1293.4 1539.27 Q1290.47 1542.04 1290.03 1547.07 L1310.91 1547.04 Z\" fill=\"#000000\" fill-rule=\"evenodd\" fill-opacity=\"1\" /><path clip-path=\"url(#clip660)\" d=\"M1361.17 1518.58 Q1356.9 1525.9 1354.83 1533.06 Q1352.76 1540.23 1352.76 1547.58 Q1352.76 1554.93 1354.83 1562.16 Q1356.93 1569.35 1361.17 1576.64 L1356.07 1576.64 Q1351.3 1569.16 1348.91 1561.93 Q1346.56 1554.71 1346.56 1547.58 Q1346.56 1540.48 1348.91 1533.29 Q1351.27 1526.09 1356.07 1518.58 L1361.17 1518.58 Z\" fill=\"#000000\" fill-rule=\"evenodd\" fill-opacity=\"1\" /><path clip-path=\"url(#clip660)\" d=\"M1395.25 1533.45 L1395.25 1538.98 Q1392.77 1537.71 1390.1 1537.07 Q1387.42 1536.44 1384.56 1536.44 Q1380.2 1536.44 1378 1537.77 Q1375.84 1539.11 1375.84 1541.79 Q1375.84 1543.82 1377.4 1545 Q1378.96 1546.15 1383.67 1547.2 L1385.67 1547.64 Q1391.91 1548.98 1394.52 1551.43 Q1397.16 1553.85 1397.16 1558.21 Q1397.16 1563.17 1393.22 1566.07 Q1389.3 1568.97 1382.43 1568.97 Q1379.56 1568.97 1376.44 1568.39 Q1373.36 1567.85 1369.92 1566.74 L1369.92 1560.69 Q1373.17 1562.38 1376.32 1563.24 Q1379.47 1564.07 1382.55 1564.07 Q1386.69 1564.07 1388.92 1562.66 Q1391.15 1561.23 1391.15 1558.65 Q1391.15 1556.27 1389.53 1554.99 Q1387.93 1553.72 1382.49 1552.54 L1380.45 1552.07 Q1375.01 1550.92 1372.59 1548.56 Q1370.17 1546.18 1370.17 1542.04 Q1370.17 1537.01 1373.74 1534.27 Q1377.3 1531.54 1383.86 1531.54 Q1387.11 1531.54 1389.97 1532.01 Q1392.84 1532.49 1395.25 1533.45 Z\" fill=\"#000000\" fill-rule=\"evenodd\" fill-opacity=\"1\" /><path clip-path=\"url(#clip660)\" d=\"M1405.57 1518.58 L1410.66 1518.58 Q1415.43 1526.09 1417.79 1533.29 Q1420.18 1540.48 1420.18 1547.58 Q1420.18 1554.71 1417.79 1561.93 Q1415.43 1569.16 1410.66 1576.64 L1405.57 1576.64 Q1409.8 1569.35 1411.87 1562.16 Q1413.97 1554.93 1413.97 1547.58 Q1413.97 1540.23 1411.87 1533.06 Q1409.8 1525.9 1405.57 1518.58 Z\" fill=\"#000000\" fill-rule=\"evenodd\" fill-opacity=\"1\" /><polyline clip-path=\"url(#clip662)\" style=\"stroke:#000000; stroke-linecap:butt; stroke-linejoin:round; stroke-width:2; stroke-opacity:0.1; fill:none\" points=\"\n",
       "  242.135,1217.32 2352.76,1217.32 \n",
       "  \"/>\n",
       "<polyline clip-path=\"url(#clip662)\" style=\"stroke:#000000; stroke-linecap:butt; stroke-linejoin:round; stroke-width:2; stroke-opacity:0.1; fill:none\" points=\"\n",
       "  242.135,894.604 2352.76,894.604 \n",
       "  \"/>\n",
       "<polyline clip-path=\"url(#clip662)\" style=\"stroke:#000000; stroke-linecap:butt; stroke-linejoin:round; stroke-width:2; stroke-opacity:0.1; fill:none\" points=\"\n",
       "  242.135,571.889 2352.76,571.889 \n",
       "  \"/>\n",
       "<polyline clip-path=\"url(#clip662)\" style=\"stroke:#000000; stroke-linecap:butt; stroke-linejoin:round; stroke-width:2; stroke-opacity:0.1; fill:none\" points=\"\n",
       "  242.135,249.173 2352.76,249.173 \n",
       "  \"/>\n",
       "<polyline clip-path=\"url(#clip660)\" style=\"stroke:#000000; stroke-linecap:butt; stroke-linejoin:round; stroke-width:4; stroke-opacity:1; fill:none\" points=\"\n",
       "  242.135,1423.18 242.135,47.2441 \n",
       "  \"/>\n",
       "<polyline clip-path=\"url(#clip660)\" style=\"stroke:#000000; stroke-linecap:butt; stroke-linejoin:round; stroke-width:4; stroke-opacity:1; fill:none\" points=\"\n",
       "  242.135,1217.32 261.032,1217.32 \n",
       "  \"/>\n",
       "<polyline clip-path=\"url(#clip660)\" style=\"stroke:#000000; stroke-linecap:butt; stroke-linejoin:round; stroke-width:4; stroke-opacity:1; fill:none\" points=\"\n",
       "  242.135,894.604 261.032,894.604 \n",
       "  \"/>\n",
       "<polyline clip-path=\"url(#clip660)\" style=\"stroke:#000000; stroke-linecap:butt; stroke-linejoin:round; stroke-width:4; stroke-opacity:1; fill:none\" points=\"\n",
       "  242.135,571.889 261.032,571.889 \n",
       "  \"/>\n",
       "<polyline clip-path=\"url(#clip660)\" style=\"stroke:#000000; stroke-linecap:butt; stroke-linejoin:round; stroke-width:4; stroke-opacity:1; fill:none\" points=\"\n",
       "  242.135,249.173 261.032,249.173 \n",
       "  \"/>\n",
       "<path clip-path=\"url(#clip660)\" d=\"M114.26 1217.77 L143.936 1217.77 L143.936 1221.71 L114.26 1221.71 L114.26 1217.77 Z\" fill=\"#000000\" fill-rule=\"evenodd\" fill-opacity=\"1\" /><path clip-path=\"url(#clip660)\" d=\"M154.839 1230.66 L162.477 1230.66 L162.477 1204.3 L154.167 1205.97 L154.167 1201.71 L162.431 1200.04 L167.107 1200.04 L167.107 1230.66 L174.746 1230.66 L174.746 1234.6 L154.839 1234.6 L154.839 1230.66 Z\" fill=\"#000000\" fill-rule=\"evenodd\" fill-opacity=\"1\" /><path clip-path=\"url(#clip660)\" d=\"M194.19 1203.12 Q190.579 1203.12 188.75 1206.68 Q186.945 1210.23 186.945 1217.35 Q186.945 1224.46 188.75 1228.03 Q190.579 1231.57 194.19 1231.57 Q197.825 1231.57 199.63 1228.03 Q201.459 1224.46 201.459 1217.35 Q201.459 1210.23 199.63 1206.68 Q197.825 1203.12 194.19 1203.12 M194.19 1199.41 Q200 1199.41 203.056 1204.02 Q206.135 1208.6 206.135 1217.35 Q206.135 1226.08 203.056 1230.69 Q200 1235.27 194.19 1235.27 Q188.38 1235.27 185.301 1230.69 Q182.246 1226.08 182.246 1217.35 Q182.246 1208.6 185.301 1204.02 Q188.38 1199.41 194.19 1199.41 Z\" fill=\"#000000\" fill-rule=\"evenodd\" fill-opacity=\"1\" /><path clip-path=\"url(#clip660)\" d=\"M194.19 880.403 Q190.579 880.403 188.75 883.968 Q186.945 887.509 186.945 894.639 Q186.945 901.745 188.75 905.31 Q190.579 908.852 194.19 908.852 Q197.825 908.852 199.63 905.31 Q201.459 901.745 201.459 894.639 Q201.459 887.509 199.63 883.968 Q197.825 880.403 194.19 880.403 M194.19 876.699 Q200 876.699 203.056 881.306 Q206.135 885.889 206.135 894.639 Q206.135 903.366 203.056 907.972 Q200 912.556 194.19 912.556 Q188.38 912.556 185.301 907.972 Q182.246 903.366 182.246 894.639 Q182.246 885.889 185.301 881.306 Q188.38 876.699 194.19 876.699 Z\" fill=\"#000000\" fill-rule=\"evenodd\" fill-opacity=\"1\" /><path clip-path=\"url(#clip660)\" d=\"M154.839 585.234 L162.477 585.234 L162.477 558.868 L154.167 560.535 L154.167 556.275 L162.431 554.609 L167.107 554.609 L167.107 585.234 L174.746 585.234 L174.746 589.169 L154.839 589.169 L154.839 585.234 Z\" fill=\"#000000\" fill-rule=\"evenodd\" fill-opacity=\"1\" /><path clip-path=\"url(#clip660)\" d=\"M194.19 557.687 Q190.579 557.687 188.75 561.252 Q186.945 564.794 186.945 571.923 Q186.945 579.03 188.75 582.595 Q190.579 586.136 194.19 586.136 Q197.825 586.136 199.63 582.595 Q201.459 579.03 201.459 571.923 Q201.459 564.794 199.63 561.252 Q197.825 557.687 194.19 557.687 M194.19 553.984 Q200 553.984 203.056 558.59 Q206.135 563.173 206.135 571.923 Q206.135 580.65 203.056 585.257 Q200 589.84 194.19 589.84 Q188.38 589.84 185.301 585.257 Q182.246 580.65 182.246 571.923 Q182.246 563.173 185.301 558.59 Q188.38 553.984 194.19 553.984 Z\" fill=\"#000000\" fill-rule=\"evenodd\" fill-opacity=\"1\" /><path clip-path=\"url(#clip660)\" d=\"M158.056 262.518 L174.376 262.518 L174.376 266.453 L152.431 266.453 L152.431 262.518 Q155.093 259.763 159.677 255.134 Q164.283 250.481 165.464 249.138 Q167.709 246.615 168.589 244.879 Q169.491 243.12 169.491 241.43 Q169.491 238.675 167.547 236.939 Q165.626 235.203 162.524 235.203 Q160.325 235.203 157.871 235.967 Q155.44 236.731 152.663 238.282 L152.663 233.56 Q155.487 232.425 157.94 231.847 Q160.394 231.268 162.431 231.268 Q167.802 231.268 170.996 233.953 Q174.19 236.638 174.19 241.129 Q174.19 243.259 173.38 245.18 Q172.593 247.078 170.487 249.671 Q169.908 250.342 166.806 253.56 Q163.704 256.754 158.056 262.518 Z\" fill=\"#000000\" fill-rule=\"evenodd\" fill-opacity=\"1\" /><path clip-path=\"url(#clip660)\" d=\"M194.19 234.972 Q190.579 234.972 188.75 238.537 Q186.945 242.078 186.945 249.208 Q186.945 256.314 188.75 259.879 Q190.579 263.421 194.19 263.421 Q197.825 263.421 199.63 259.879 Q201.459 256.314 201.459 249.208 Q201.459 242.078 199.63 238.537 Q197.825 234.972 194.19 234.972 M194.19 231.268 Q200 231.268 203.056 235.875 Q206.135 240.458 206.135 249.208 Q206.135 257.935 203.056 262.541 Q200 267.124 194.19 267.124 Q188.38 267.124 185.301 262.541 Q182.246 257.935 182.246 249.208 Q182.246 240.458 185.301 235.875 Q188.38 231.268 194.19 231.268 Z\" fill=\"#000000\" fill-rule=\"evenodd\" fill-opacity=\"1\" /><path clip-path=\"url(#clip660)\" d=\"M29.7248 833.578 L35.1993 833.578 Q33.8307 836.061 33.1623 838.575 Q32.4621 841.058 32.4621 843.604 Q32.4621 849.301 36.0905 852.452 Q39.6872 855.603 46.212 855.603 Q52.7369 855.603 56.3653 852.452 Q59.9619 849.301 59.9619 843.604 Q59.9619 841.058 59.2935 838.575 Q58.5933 836.061 57.2247 833.578 L62.6355 833.578 Q63.7814 836.029 64.3543 838.671 Q64.9272 841.281 64.9272 844.241 Q64.9272 852.293 59.8664 857.036 Q54.8057 861.778 46.212 861.778 Q37.491 861.778 32.4939 857.004 Q27.4968 852.198 27.4968 843.859 Q27.4968 841.153 28.0697 838.575 Q28.6108 835.997 29.7248 833.578 Z\" fill=\"#000000\" fill-rule=\"evenodd\" fill-opacity=\"1\" /><path clip-path=\"url(#clip660)\" d=\"M32.4621 809.579 Q32.4621 814.29 36.1542 817.027 Q39.8145 819.764 46.212 819.764 Q52.6095 819.764 56.3017 817.059 Q59.9619 814.322 59.9619 809.579 Q59.9619 804.901 56.2698 802.163 Q52.5777 799.426 46.212 799.426 Q39.8781 799.426 36.186 802.163 Q32.4621 804.901 32.4621 809.579 M27.4968 809.579 Q27.4968 801.94 32.4621 797.58 Q37.4273 793.219 46.212 793.219 Q54.9649 793.219 59.9619 797.58 Q64.9272 801.94 64.9272 809.579 Q64.9272 817.25 59.9619 821.611 Q54.9649 825.939 46.212 825.939 Q37.4273 825.939 32.4621 821.611 Q27.4968 817.25 27.4968 809.579 Z\" fill=\"#000000\" fill-rule=\"evenodd\" fill-opacity=\"1\" /><path clip-path=\"url(#clip660)\" d=\"M42.4881 753.879 L64.0042 753.879 L64.0042 759.736 L42.679 759.736 Q37.6183 759.736 35.1038 761.709 Q32.5894 763.683 32.5894 767.629 Q32.5894 772.372 35.6131 775.109 Q38.6368 777.846 43.8567 777.846 L64.0042 777.846 L64.0042 783.735 L28.3562 783.735 L28.3562 777.846 L33.8944 777.846 Q30.6797 775.746 29.0883 772.913 Q27.4968 770.048 27.4968 766.324 Q27.4968 760.181 31.3163 757.03 Q35.1038 753.879 42.4881 753.879 Z\" fill=\"#000000\" fill-rule=\"evenodd\" fill-opacity=\"1\" /><path clip-path=\"url(#clip660)\" d=\"M18.2347 736.406 L28.3562 736.406 L28.3562 724.343 L32.9077 724.343 L32.9077 736.406 L52.2594 736.406 Q56.6199 736.406 57.8613 735.228 Q59.1026 734.018 59.1026 730.358 L59.1026 724.343 L64.0042 724.343 L64.0042 730.358 Q64.0042 737.138 61.4897 739.716 Q58.9434 742.294 52.2594 742.294 L32.9077 742.294 L32.9077 746.591 L28.3562 746.591 L28.3562 742.294 L18.2347 742.294 L18.2347 736.406 Z\" fill=\"#000000\" fill-rule=\"evenodd\" fill-opacity=\"1\" /><path clip-path=\"url(#clip660)\" d=\"M33.8307 695.983 Q33.2578 696.97 33.0032 698.148 Q32.7167 699.293 32.7167 700.694 Q32.7167 705.659 35.9632 708.333 Q39.1779 710.975 45.2253 710.975 L64.0042 710.975 L64.0042 716.863 L28.3562 716.863 L28.3562 710.975 L33.8944 710.975 Q30.6479 709.128 29.0883 706.168 Q27.4968 703.208 27.4968 698.975 Q27.4968 698.37 27.5923 697.638 Q27.656 696.906 27.8151 696.015 L33.8307 695.983 Z\" fill=\"#000000\" fill-rule=\"evenodd\" fill-opacity=\"1\" /><path clip-path=\"url(#clip660)\" d=\"M32.4621 677.459 Q32.4621 682.17 36.1542 684.907 Q39.8145 687.644 46.212 687.644 Q52.6095 687.644 56.3017 684.939 Q59.9619 682.202 59.9619 677.459 Q59.9619 672.78 56.2698 670.043 Q52.5777 667.306 46.212 667.306 Q39.8781 667.306 36.186 670.043 Q32.4621 672.78 32.4621 677.459 M27.4968 677.459 Q27.4968 669.82 32.4621 665.46 Q37.4273 661.099 46.212 661.099 Q54.9649 661.099 59.9619 665.46 Q64.9272 669.82 64.9272 677.459 Q64.9272 685.13 59.9619 689.49 Q54.9649 693.819 46.212 693.819 Q37.4273 693.819 32.4621 689.49 Q27.4968 685.13 27.4968 677.459 Z\" fill=\"#000000\" fill-rule=\"evenodd\" fill-opacity=\"1\" /><path clip-path=\"url(#clip660)\" d=\"M14.479 651.392 L14.479 645.535 L64.0042 645.535 L64.0042 651.392 L14.479 651.392 Z\" fill=\"#000000\" fill-rule=\"evenodd\" fill-opacity=\"1\" /><path clip-path=\"url(#clip660)\" d=\"M29.4065 610.556 L34.9447 610.556 Q33.6716 613.038 33.035 615.712 Q32.3984 618.385 32.3984 621.25 Q32.3984 625.61 33.7352 627.807 Q35.072 629.971 37.7456 629.971 Q39.7826 629.971 40.9603 628.411 Q42.1061 626.852 43.1565 622.141 L43.6021 620.136 Q44.9389 613.898 47.3897 611.288 Q49.8086 608.646 54.1691 608.646 Q59.1344 608.646 62.0308 612.593 Q64.9272 616.507 64.9272 623.382 Q64.9272 626.247 64.3543 629.366 Q63.8132 632.454 62.6992 635.891 L56.6518 635.891 Q58.3387 632.645 59.198 629.493 Q60.0256 626.342 60.0256 623.255 Q60.0256 619.117 58.6251 616.889 Q57.1929 614.661 54.6147 614.661 Q52.2276 614.661 50.9545 616.285 Q49.6813 617.876 48.5037 623.319 L48.0262 625.356 Q46.8804 630.798 44.5251 633.217 Q42.138 635.636 38.0002 635.636 Q32.9713 635.636 30.2341 632.072 Q27.4968 628.507 27.4968 621.95 Q27.4968 618.704 27.9743 615.839 Q28.4517 612.974 29.4065 610.556 Z\" fill=\"#000000\" fill-rule=\"evenodd\" fill-opacity=\"1\" /><polyline clip-path=\"url(#clip662)\" style=\"stroke:#009af9; stroke-linecap:butt; stroke-linejoin:round; stroke-width:4; stroke-opacity:1; fill:none\" points=\"\n",
       "  301.869,1384.24 335.618,929.959 369.366,590.917 403.114,372.956 436.863,266.417 470.611,244.421 504.359,276.245 538.108,336.692 571.856,408.304 605.604,480.014 \n",
       "  639.353,545.189 673.101,600.154 706.849,643.177 740.598,673.688 774.346,691.433 808.094,695.198 841.843,680.257 875.591,632.529 909.339,514.433 943.088,230.52 \n",
       "  976.836,472.221 1010.58,571.715 1044.33,618.535 1078.08,642.146 1111.83,648.533 1145.58,636.288 1179.33,603.849 1213.07,552.625 1246.82,488.214 1280.57,421.221 \n",
       "  1314.32,495.072 1348.07,578.286 1381.82,652.309 1415.56,701.964 1449.31,719.893 1483.06,708.651 1516.81,681.6 1550.56,665.326 1584.31,708.054 1618.05,902.664 \n",
       "  1651.8,685.075 1685.55,607.31 1719.3,585.613 1753.05,586.055 1786.8,594.785 1820.54,606.153 1854.29,617.879 1888.04,629.064 1921.79,639.379 1955.54,648.728 \n",
       "  1989.29,657.107 2023.03,664.555 2056.78,671.128 2090.53,676.903 2124.28,681.997 2158.03,686.627 2191.78,691.259 2225.52,696.974 2259.27,706.372 2293.02,725.792 \n",
       "  \n",
       "  \"/>\n",
       "<polyline clip-path=\"url(#clip662)\" style=\"stroke:#e26f46; stroke-linecap:butt; stroke-linejoin:round; stroke-width:4; stroke-opacity:1; fill:none\" points=\"\n",
       "  301.869,549.691 335.618,680.769 369.366,639.326 403.114,566 436.863,510.369 470.611,484.135 504.359,484.268 538.108,503.334 571.856,533.662 605.604,568.77 \n",
       "  639.353,603.709 673.101,635.014 706.849,660.557 740.598,679.448 774.346,692.129 808.094,700.957 841.843,711.907 875.591,738.93 909.339,814.77 943.088,1017.88 \n",
       "  976.836,774.723 1010.58,680.051 1044.33,649.839 1078.08,642.561 1111.83,635.572 1145.58,616.557 1179.33,580.762 1213.07,530.02 1246.82,471.625 1280.57,416.089 \n",
       "  1314.32,500.943 1348.07,587.662 1381.82,658.007 1415.56,699.693 1449.31,706.247 1483.06,676.983 1516.81,614.94 1550.56,519.763 1584.31,370.41 1618.05,86.1857 \n",
       "  1651.8,363.292 1685.55,486.197 1719.3,544.94 1753.05,576.867 1786.8,597.286 1820.54,612.45 1854.29,624.914 1888.04,635.734 1921.79,645.355 1955.54,653.98 \n",
       "  1989.29,661.71 2023.03,668.603 2056.78,674.697 2090.53,680 2124.28,684.477 2158.03,687.98 2191.78,690.1 2225.52,689.792 2259.27,684.453 2293.02,667.683 \n",
       "  \n",
       "  \"/>\n",
       "<path clip-path=\"url(#clip660)\" d=\"\n",
       "M2005.46 248.629 L2282.4 248.629 L2282.4 93.1086 L2005.46 93.1086  Z\n",
       "  \" fill=\"#ffffff\" fill-rule=\"evenodd\" fill-opacity=\"1\"/>\n",
       "<polyline clip-path=\"url(#clip660)\" style=\"stroke:#000000; stroke-linecap:butt; stroke-linejoin:round; stroke-width:4; stroke-opacity:1; fill:none\" points=\"\n",
       "  2005.46,248.629 2282.4,248.629 2282.4,93.1086 2005.46,93.1086 2005.46,248.629 \n",
       "  \"/>\n",
       "<polyline clip-path=\"url(#clip660)\" style=\"stroke:#009af9; stroke-linecap:butt; stroke-linejoin:round; stroke-width:4; stroke-opacity:1; fill:none\" points=\"\n",
       "  2028.91,144.949 2169.62,144.949 \n",
       "  \"/>\n",
       "<path clip-path=\"url(#clip660)\" d=\"M2193.07 151.997 L2193.07 136.303 L2197.33 136.303 L2197.33 151.835 Q2197.33 155.516 2198.76 157.368 Q2200.2 159.196 2203.07 159.196 Q2206.52 159.196 2208.51 156.997 Q2210.52 154.798 2210.52 151.002 L2210.52 136.303 L2214.78 136.303 L2214.78 162.229 L2210.52 162.229 L2210.52 158.247 Q2208.97 160.608 2206.91 161.766 Q2204.87 162.9 2202.17 162.9 Q2197.7 162.9 2195.38 160.122 Q2193.07 157.344 2193.07 151.997 M2203.79 135.678 L2203.79 135.678 Z\" fill=\"#000000\" fill-rule=\"evenodd\" fill-opacity=\"1\" /><path clip-path=\"url(#clip660)\" d=\"M2222.7 159.682 L2227.42 159.682 L2227.42 145.539 L2222.26 146.488 L2222.26 143.803 L2227.58 142.9 L2230.75 142.9 L2230.75 159.682 L2235.5 159.682 L2235.5 162.229 L2222.7 162.229 L2222.7 159.682 Z\" fill=\"#000000\" fill-rule=\"evenodd\" fill-opacity=\"1\" /><polyline clip-path=\"url(#clip660)\" style=\"stroke:#e26f46; stroke-linecap:butt; stroke-linejoin:round; stroke-width:4; stroke-opacity:1; fill:none\" points=\"\n",
       "  2028.91,196.789 2169.62,196.789 \n",
       "  \"/>\n",
       "<path clip-path=\"url(#clip660)\" d=\"M2193.07 203.837 L2193.07 188.143 L2197.33 188.143 L2197.33 203.675 Q2197.33 207.356 2198.76 209.208 Q2200.2 211.036 2203.07 211.036 Q2206.52 211.036 2208.51 208.837 Q2210.52 206.638 2210.52 202.842 L2210.52 188.143 L2214.78 188.143 L2214.78 214.069 L2210.52 214.069 L2210.52 210.087 Q2208.97 212.448 2206.91 213.606 Q2204.87 214.74 2202.17 214.74 Q2197.7 214.74 2195.38 211.962 Q2193.07 209.184 2193.07 203.837 M2203.79 187.518 L2203.79 187.518 Z\" fill=\"#000000\" fill-rule=\"evenodd\" fill-opacity=\"1\" /><path clip-path=\"url(#clip660)\" d=\"M2225.29 211.43 L2235.11 211.43 L2235.11 214.069 L2221.26 214.069 L2221.26 211.522 Q2222.05 210.805 2223.51 209.508 Q2231.47 202.448 2231.47 200.272 Q2231.47 198.745 2230.27 197.819 Q2229.06 196.87 2227.1 196.87 Q2225.89 196.87 2224.48 197.286 Q2223.07 197.68 2221.4 198.49 L2221.4 195.643 Q2223.18 194.995 2224.71 194.671 Q2226.26 194.347 2227.58 194.347 Q2230.94 194.347 2232.95 195.874 Q2234.97 197.402 2234.97 199.902 Q2234.97 203.12 2227.3 209.694 Q2226.01 210.805 2225.29 211.43 Z\" fill=\"#000000\" fill-rule=\"evenodd\" fill-opacity=\"1\" /></svg>\n"
      ]
     },
     "execution_count": 28,
     "metadata": {},
     "output_type": "execute_result"
    }
   ],
   "source": [
    "plot(prob.times[1:end-1], Uflip, xlabel=\"time (s)\", ylabel=\"controls\", label=[\"u₁\" \"u₂\"])"
   ]
  },
  {
   "cell_type": "code",
   "execution_count": null,
   "metadata": {},
   "outputs": [],
   "source": []
  }
 ],
 "metadata": {
  "@webio": {
   "lastCommId": null,
   "lastKernelId": null
  },
  "kernelspec": {
   "display_name": "Julia 1.6.5",
   "language": "julia",
   "name": "julia-1.6"
  },
  "language_info": {
   "file_extension": ".jl",
   "mimetype": "application/julia",
   "name": "julia",
   "version": "1.6.5"
  }
 },
 "nbformat": 4,
 "nbformat_minor": 4
}
