{
 "cells": [
  {
   "cell_type": "code",
   "execution_count": 4,
   "metadata": {},
   "outputs": [
    {
     "name": "stderr",
     "output_type": "stream",
     "text": [
      "\u001b[32m\u001b[1m  Activating\u001b[22m\u001b[39m environment at `~/Classes/16745_OptimalControl/hw3_new/Project.toml`\n"
     ]
    },
    {
     "data": {
      "text/plain": [
       "run_tests (generic function with 1 method)"
      ]
     },
     "execution_count": 4,
     "metadata": {},
     "output_type": "execute_result"
    }
   ],
   "source": [
    "import Pkg; Pkg.activate(joinpath(@__DIR__,\"..\")); \n",
    "using ForwardDiff\n",
    "using Test\n",
    "using RobotZoo\n",
    "using RobotDynamics\n",
    "using LinearAlgebra\n",
    "using StaticArrays\n",
    "using SparseArrays\n",
    "using Printf\n",
    "using MeshCat\n",
    "using Plots\n",
    "\n",
    "include(\"quadratic_cost.jl\")\n",
    "include(\"../test/nlp_test.jl\")\n",
    "include(\"cartpole.jl\")"
   ]
  },
  {
   "cell_type": "markdown",
   "metadata": {},
   "source": [
    "# Q1: Sequential Quadratic Programming (SQP) (50 pts)\n",
    "In this problem you'll solve the canonical cartpole swing-up problem using sequential-quadratic programming (SQP), as we learned in class. While coding up a complete SQP solver is very challenging, we'll simplify it by only considering problems of the form:\n",
    "\n",
    "$$\\begin{aligned} &\\text{minimize}_z && \\frac{1}{2} z^T Q z + q^T z \\\\\n",
    "&\\text{subject to} && c(z) = 0 \\end{aligned} $$\n",
    "\n",
    "I.e. we'll only have you worry about equality constraints. Your overall algorithm should run something like this:\n",
    "1. Initialization\n",
    "2. Build the QP for the current step by taking Taylor series approximations of the cost and constraints\n",
    "3. Solve the QP to get search directions for you primal and dual variables\n",
    "4. Use a line search (or other globalization strategy) to find a good step\n",
    "5. If termination conditions are satisfied, exit; otherwise, go to 2\n",
    "\n",
    "## The Problem\n",
    "You likely have already seen the cartpole swing-up problem previously. As shown in the picture below, the system is comprised of a pendulum attached to a cart, where forces can only be applied to the cart. The goal is to balance the pendulum above the cart. The system dynamics can be written as:\n",
    "\n",
    "$$ x = \\begin{bmatrix} y \\\\ \\theta \\\\ v \\\\ \\omega \\end{bmatrix}, \\quad \\dot{x} = \\begin{bmatrix} \\dot{q} \\\\ \\ddot{q} \\end{bmatrix}, \\quad\n",
    "q = \\begin{bmatrix} y \\\\ \\theta \\end{bmatrix}, \\quad\n",
    "\\ddot{q} = -H^{-1} (C \\dot{q} + G - B u)$$\n",
    "\n",
    "where \n",
    "$$ H = \\begin{bmatrix} m_c + m_p & m_p l \\cos{\\theta} \\\\\n",
    "m_p l \\cos{\\theta} & m_p l^2 \\end{bmatrix}, \\;\n",
    "C = \\begin{bmatrix} 0 & -m_p \\omega l \\sin{\\theta} \\\\ 0 & 0 \\end{bmatrix}, \\;\n",
    "G = \\begin{bmatrix} 0 \\\\ m_p g l \\sin{\\theta} \\end{bmatrix}, \\;\n",
    "B = \\begin{bmatrix} 1 \\\\ 0 \\end{bmatrix} $$\n",
    "\n",
    "with the following parameters:\n",
    "* $m_p$: mass of the pole\n",
    "* $m_c$: mass of the cart\n",
    "* $g$: gravity\n",
    "* $l$: length of the rod"
   ]
  },
  {
   "cell_type": "code",
   "execution_count": 5,
   "metadata": {},
   "outputs": [],
   "source": [
    "# Build the problem\n",
    "model = RobotZoo.Cartpole()\n",
    "n,m = size(model)\n",
    "T = 101\n",
    "tf = 2.0\n",
    "dt = tf / (T-1)\n",
    "\n",
    "# Initial & final condition\n",
    "x0 = @SVector zeros(n)\n",
    "xf = SA[0,pi,0,0];\n",
    "\n",
    "# Cost function\n",
    "Q = Diagonal(fill(1e-2,n))\n",
    "R = Diagonal(fill(1e-1,m))\n",
    "Qf = Diagonal(fill(1e1,n))\n",
    "costfun = LQRCost(Q,R,xf)\n",
    "costterm = LQRCost(Qf,R,xf)\n",
    "obj = push!(fill(costfun,T-1), costterm)\n",
    "\n",
    "# Initial Guess (linear interpolation)\n",
    "X = [x0 + (xf - x0)*t for t in range(0,1, length=T)]\n",
    "U = [@SVector zeros(m) for k = 1:T-1];"
   ]
  },
  {
   "cell_type": "markdown",
   "metadata": {},
   "source": [
    "## Part (a): Evaluate the NLP\n",
    "Before we put together our SQP method, let's write some convenient methods for evaluating the information we'll need from the NLP. We've given you a struct `NLP` below that contains all the information you'll need to evaluate things like the cost function, constraints, and their derivatives."
   ]
  },
  {
   "cell_type": "code",
   "execution_count": 6,
   "metadata": {},
   "outputs": [
    {
     "data": {
      "text/plain": [
       "unpackZ"
      ]
     },
     "execution_count": 6,
     "metadata": {},
     "output_type": "execute_result"
    }
   ],
   "source": [
    "\"\"\"\n",
    "    NLP{n,m,L,Q}\n",
    "\n",
    "Represents a (N)on(L)inear (P)rogram of a trajectory optimization problem,\n",
    "with a dynamics model of type `L`, a quadratic cost function, horizon `T`, \n",
    "and initial and final state `x0`, `xf`.\n",
    "\n",
    "The kth state and control can be extracted from the concatenated state vector `Z` using\n",
    "`Z[nlp.xinds[k]]`, and `Z[nlp.uinds[k]]`.\n",
    "\n",
    "# Constructor\n",
    "    NLP(model, obj, tf, T, x0, xf, [integration])\n",
    "\n",
    "# Basic Methods\n",
    "    Base.size(nlp)    # returns (n,m,T)\n",
    "    num_ineq(nlp)     # number of inequality constraints\n",
    "    num_eq(nlp)       # number of equality constraints\n",
    "    num_primals(nlp)  # number of primal variables\n",
    "    num_duals(nlp)    # total number of dual variables\n",
    "    packZ(nlp, X, U)  # Stacks state `X` and controls `U` into one vector `Z`\n",
    "\n",
    "# Evaluating the NLP\n",
    "The NLP supports the following API for evaluating various pieces of the NLP:\n",
    "\n",
    "    eval_f(nlp, Z)         # evaluate the objective\n",
    "    grad_f!(nlp, grad, Z)  # gradient of the objective\n",
    "    hess_f!(nlp, hess, Z)  # Hessian of the objective\n",
    "    eval_c!(nlp, c, Z)     # evaluate the constraints\n",
    "    jac_c!(nlp, c, Z)      # constraint Jacobian\n",
    "\"\"\"\n",
    "struct NLP{n,m,L,Q}\n",
    "    model::L                                 # dynamics model\n",
    "    obj::Vector{QuadraticCost{n,m,Float64}}  # objective function\n",
    "    T::Int                                   # number of knot points\n",
    "    tf::Float64                              # total time (sec)\n",
    "    x0::MVector{n,Float64}                   # initial condition\n",
    "    xf::MVector{n,Float64}                   # final condition\n",
    "    xinds::Vector{SVector{n,Int}}            # Z[xinds[k]] gives states for time step k\n",
    "    uinds::Vector{SVector{m,Int}}            # Z[uinds[k]] gives controls for time step k\n",
    "    times::Vector{Float64}                   # vector of times\n",
    "    function NLP(model::AbstractModel, obj::Vector{<:QuadraticCost{n,m}},\n",
    "            tf::Real, T::Integer, x0::AbstractVector, xf::AbstractVector, integration::Type{<:QuadratureRule}=RK4\n",
    "        ) where {n,m}\n",
    "        xinds = [SVector{n}((k-1)*(n+m) .+ (1:n)) for k = 1:T]\n",
    "        uinds = [SVector{m}((k-1)*(n+m) .+ (n+1:n+m)) for k = 1:T-1]\n",
    "        times = collect(range(0, tf, length=T))\n",
    "        new{n,m,typeof(model), integration}(\n",
    "            model, obj,\n",
    "            T, tf, x0, xf, xinds, uinds, times\n",
    "        )\n",
    "    end\n",
    "end\n",
    "Base.size(nlp::NLP{n,m}) where {n,m} = (n,m,nlp.T)\n",
    "num_primals(nlp::NLP{n,m}) where {n,m} = n*nlp.T + m*(nlp.T-1)\n",
    "num_duals(nlp::NLP) = num_eq(nlp) + num_ineq(nlp)\n",
    "num_eq(nlp::NLP{n,m}) where {n,m} = n*nlp.T + n\n",
    "num_ineq(nlp::NLP) = 0\n",
    "\n",
    "\"\"\"\n",
    "    packZ(nlp, X, U)\n",
    "\n",
    "Take a vector state vectors `X` and controls `U` and stack them into a single vector Z.\n",
    "\"\"\"\n",
    "function packZ(nlp, X, U)\n",
    "    Z = zeros(num_primals(nlp))\n",
    "    for k = 1:nlp.T-1\n",
    "        Z[nlp.xinds[k]] = X[k]\n",
    "        Z[nlp.uinds[k]] = U[k]\n",
    "    end\n",
    "    Z[nlp.xinds[end]] = X[end]\n",
    "    return Z\n",
    "end\n",
    "\n",
    "\"\"\"\n",
    "    unpackZ(nlp, Z)\n",
    "\n",
    "Take a vector of all the states and controls and return a vector of state vectors `X` and\n",
    "controls `U`.\n",
    "\"\"\"\n",
    "function unpackZ(nlp, Z)\n",
    "    X = [Z[xi] for xi in nlp.xinds]\n",
    "    U = [Z[ui] for ui in nlp.uinds]\n",
    "    return X, U\n",
    "end"
   ]
  },
  {
   "cell_type": "markdown",
   "metadata": {},
   "source": [
    "### Useful Examples\n",
    "You may find the following code snippets helpful as you complete the methods for the NLP."
   ]
  },
  {
   "cell_type": "code",
   "execution_count": 7,
   "metadata": {},
   "outputs": [],
   "source": [
    "# Create NLP\n",
    "nlp = NLP(model, obj, tf, T, x0, xf)\n",
    "\n",
    "# Create a vector of all states and controls\n",
    "Z = packZ(nlp, X, U)\n",
    "\n",
    "# Unpack into states and vectors\n",
    "X2, U2 = unpackZ(nlp, Z)\n",
    "\n",
    "# Evaluate the cost\n",
    "cost(nlp.obj, X, U)\n",
    "\n",
    "# Get kth state, control\n",
    "k = 10\n",
    "x = Z[nlp.xinds[k]]\n",
    "u = Z[nlp.uinds[k]]\n",
    "\n",
    "# Dynamics\n",
    "t = nlp.times[k]\n",
    "dt = nlp.times[k+1] - nlp.times[k[]]\n",
    "discrete_dynamics(RK4, nlp.model, x, u, t, dt)\n",
    "\n",
    "# Dynamics Jacobian\n",
    "∇f = zeros(n,n+m)\n",
    "discrete_jacobian!(RK4, ∇f, nlp.model, x, u, t, dt)\n",
    "\n",
    "# 2nd-order Dynamics derivative\n",
    "#   derivative of ∇f'b\n",
    "∇jac = zeros(n+m,n+m)\n",
    "b = zeros(n)\n",
    "∇discrete_jacobian!(RK4, ∇jac, nlp.model, x, u, t, dt, b)"
   ]
  },
  {
   "cell_type": "markdown",
   "metadata": {},
   "source": [
    "### Objective\n",
    "Complete the following methods to evaluate the objective and its derivatives."
   ]
  },
  {
   "cell_type": "code",
   "execution_count": 8,
   "metadata": {},
   "outputs": [
    {
     "data": {
      "text/plain": [
       "hess_f!"
      ]
     },
     "execution_count": 8,
     "metadata": {},
     "output_type": "execute_result"
    }
   ],
   "source": [
    "# TASK: Finish the following methods\n",
    "#       eval_f\n",
    "#       grad_f!\n",
    "#       hess_f!\n",
    "\n",
    "\"\"\"\n",
    "    eval_f(nlp, Z)\n",
    "\n",
    "Evaluate the objective, returning a scalar.\n",
    "\"\"\"\n",
    "function eval_f(nlp::NLP, Z)\n",
    "    # TASK: compute the objective value (cost)\n",
    "    J = 0.0\n",
    "    \n",
    "    # SOLUTION\n",
    "    xi,ui = nlp.xinds, nlp.uinds\n",
    "    for k = 1:nlp.T-1\n",
    "        x,u = Z[xi[k]], Z[ui[k]]\n",
    "        J += stagecost(nlp.obj[k], x, u)\n",
    "    end\n",
    "    J += termcost(nlp.obj[end], Z[xi[end]])\n",
    "    return J\n",
    "end\n",
    "\n",
    "\"\"\"\n",
    "    grad_f!(nlp, grad, Z)\n",
    "\n",
    "Evaluate the gradient of the objective at `Z`, storing the result in `grad`.\n",
    "\"\"\"\n",
    "function grad_f!(nlp::NLP{n,m}, grad, Z) where {n,m}\n",
    "    xi,ui = nlp.xinds, nlp.uinds\n",
    "    obj = nlp.obj\n",
    "    for k = 1:nlp.T-1\n",
    "        x,u = Z[xi[k]], Z[ui[k]]\n",
    "        # TASK: Compute the cost gradient\n",
    "        grad[xi[k]] .= 0\n",
    "        grad[ui[k]] .= 0\n",
    "        \n",
    "        # SOLUTION\n",
    "        grad[xi[k]] = obj[k].Q*x + obj[k].q\n",
    "        grad[ui[k]] = obj[k].R*u + obj[k].r\n",
    "    end\n",
    "    grad[xi[end]] = obj[end].Q*Z[xi[end]] + obj[end].q\n",
    "    return nothing\n",
    "end\n",
    "\n",
    "\"\"\"\n",
    "    hess_f!(nlp, hess, Z)\n",
    "\n",
    "Evaluate the Hessian of the objective at `Z`, storing the result in `hess`.\n",
    "Should work with `hess` sparse.\n",
    "\"\"\"\n",
    "function hess_f!(nlp::NLP{n,m}, hess, Z, rezero=true) where {n,m}\n",
    "    # TASK: Compute the objective hessian\n",
    "    # HINT: It's a diagonal matrix\n",
    "    if rezero\n",
    "        for i = 1:size(hess,1)\n",
    "            hess[i,i] = 0\n",
    "        end\n",
    "    end\n",
    "    xi,ui = nlp.xinds, nlp.uinds\n",
    "    obj = nlp.obj\n",
    "    i = 1\n",
    "    for k = 1:nlp.T\n",
    "        for j = 1:n\n",
    "            hess[i,i] += nlp.obj[k].Q[j,j]\n",
    "            i += 1\n",
    "        end\n",
    "        if k < nlp.T\n",
    "            for j = 1:m\n",
    "                hess[i,i] += nlp.obj[k].R[j,j]\n",
    "                i += 1\n",
    "            end\n",
    "        end\n",
    "    end\n",
    "end"
   ]
  },
  {
   "cell_type": "markdown",
   "metadata": {},
   "source": [
    "## Constraints\n",
    "Complete the following methods to evaluate the constraints and their derivatives."
   ]
  },
  {
   "cell_type": "code",
   "execution_count": 9,
   "metadata": {},
   "outputs": [
    {
     "data": {
      "text/plain": [
       "jac_c!"
      ]
     },
     "execution_count": 9,
     "metadata": {},
     "output_type": "execute_result"
    }
   ],
   "source": [
    "# TASK: Complete the following methods\n",
    "#       eval_c!\n",
    "#       jac_c!\n",
    "#       ∇jvp!\n",
    "\"\"\"\n",
    "    eval_c!(nlp, c, Z)\n",
    "\n",
    "Evaluate the equality constraints at `Z`, storing the result in `c`.\n",
    "The constraints should be ordered as follows: \n",
    "1. Initial condition ``x_1 = x_\\\\text{init}``\n",
    "2. Dynamics ``f(x_k,u_k) - x_{k+1} = 0``\n",
    "3. Terminal constraint ``x_T = x_\\\\text{goal}``\n",
    "\"\"\"\n",
    "function eval_c!(nlp::NLP{n,m,<:Any,Q}, c, Z) where {n,m,Q}\n",
    "    T = nlp.T\n",
    "    xi,ui = nlp.xinds, nlp.uinds\n",
    "    idx = xi[1]\n",
    "\n",
    "    # TODO: initial condition\n",
    "    c[idx] = Z[xi[1]] - nlp.x0\n",
    "\n",
    "    # dynamics\n",
    "    for k = 1:T-1\n",
    "        idx = idx .+ n\n",
    "        x,u = Z[xi[k]], Z[ui[k]]\n",
    "        x⁺ = Z[xi[k+1]]\n",
    "        dt = nlp.times[k+1] - nlp.times[k]\n",
    "        \n",
    "        # TASK: Dynamics constraint\n",
    "        c[idx] .= 0\n",
    "        \n",
    "        # SOLUTION\n",
    "        c[idx] = discrete_dynamics(Q, nlp.model, x, u, nlp.times[k], dt) - x⁺\n",
    "    end\n",
    "\n",
    "    # TODO: terminal constraint\n",
    "    idx = idx .+ n\n",
    "    c[idx] .= 0\n",
    "    \n",
    "    # SOLUTION\n",
    "    c[idx] = Z[xi[T]] - nlp.xf\n",
    "    return nothing\n",
    "end\n",
    "\n",
    "\"\"\"\n",
    "    jac_c!(nlp, jac, Z)\n",
    "\n",
    "Evaluate the constraint Jacobian, storing the result in the (potentially sparse) matrix `jac`.\n",
    "\"\"\"\n",
    "function jac_c!(nlp::NLP{n,m,<:Any,Q}, jac, Z) where {n,m,Q}\n",
    "    # TODO: Initial condition\n",
    "    # SOLUTION\n",
    "    for i = 1:n\n",
    "        jac[i,i] = 1\n",
    "    end\n",
    "\n",
    "    xi,ui = nlp.xinds, nlp.uinds\n",
    "    idx = xi[1]\n",
    "    for k = 1:nlp.T-1\n",
    "        idx = idx .+ n \n",
    "        zi = [xi[k];ui[k]]\n",
    "        zi2 = k < T-1 ? zi .+ (n+m) : xi[T]\n",
    "        x = Z[xi[k]]\n",
    "        u = Z[ui[k]]\n",
    "        t = nlp.times[k]\n",
    "        dt = nlp.times[k+1] - nlp.times[k]\n",
    "\n",
    "        ∇f = view(jac, idx, zi)\n",
    "        ∇f2 = view(jac, idx, zi2)\n",
    "        \n",
    "        # TODO: Dynamics constraint\n",
    "        discrete_jacobian!(Q, ∇f, nlp.model, x, u, t, dt)\n",
    "        for i = 1:n\n",
    "            ∇f2[i,i] = -1\n",
    "        end\n",
    "    end\n",
    "    idx = idx .+ n \n",
    "    \n",
    "    # TODO: Terminal constraint\n",
    "    # SOLUTION\n",
    "    for i = 1:n\n",
    "        jac[idx[i], xi[end][i]] = 1\n",
    "    end\n",
    "end"
   ]
  },
  {
   "cell_type": "markdown",
   "metadata": {},
   "source": [
    "## Lagrangian"
   ]
  },
  {
   "cell_type": "code",
   "execution_count": 10,
   "metadata": {},
   "outputs": [
    {
     "data": {
      "text/plain": [
       "grad_lagrangian!"
      ]
     },
     "execution_count": 10,
     "metadata": {},
     "output_type": "execute_result"
    }
   ],
   "source": [
    "# TASK: Complete the following methods\n",
    "#       lagrangian\n",
    "#       grad_lagrangian!\n",
    "#       hess_lagrangian!\n",
    "\n",
    "\"\"\"\n",
    "    lagrangian(nlp, Z, λ, c)\n",
    "\n",
    "Evaluate the Lagrangian at `Z` and `λ`. Calculates the constraints, storing the result in `c`.\n",
    "\n",
    "The sign on the multipliers should be negative, e.g. J(x) - λ'c(x)\n",
    "\"\"\"\n",
    "function lagrangian(nlp::NLP{n,m}, Z, λ, c=zeros(eltype(Z),length(λ))) where {n,m}\n",
    "    # TODO: Calculate the Lagrangian\n",
    "    L = 0\n",
    "    \n",
    "    J = eval_f(nlp, Z)\n",
    "    eval_c!(nlp, c, Z)\n",
    "    L = J - dot(λ,c)\n",
    "    return L\n",
    "end\n",
    "\n",
    "\"\"\"\n",
    "    grad_lagrangian(nlp, grad, Z, λ)\n",
    "\n",
    "Evaluate the gradient of the Lagrangian.\n",
    "\"\"\"\n",
    "function grad_lagrangian!(nlp::NLP{n,m}, grad, Z, λ, jac = spzeros(length(λ), length(Z))) where {n,m}\n",
    "    # TODO: Calculate the gradient of the Lagrangian, store the result in grad\n",
    "    \n",
    "    # SOLUTION\n",
    "    jac_c!(nlp, jac, Z)\n",
    "    grad_f!(nlp, grad, Z)\n",
    "    grad .-= jac'λ\n",
    "    return nothing\n",
    "end"
   ]
  },
  {
   "cell_type": "markdown",
   "metadata": {},
   "source": [
    "## Residuals\n",
    "Feel free to use these function to evaluate the primal and dual residuals."
   ]
  },
  {
   "cell_type": "code",
   "execution_count": 11,
   "metadata": {},
   "outputs": [
    {
     "data": {
      "text/plain": [
       "dual_residual"
      ]
     },
     "execution_count": 11,
     "metadata": {},
     "output_type": "execute_result"
    }
   ],
   "source": [
    "\"\"\"\n",
    "    primal_residual(nlp, Z, λ, [g; p])\n",
    "\n",
    "Evaluate the `p`-norm of the primal residual (stationarity condition).\n",
    "\"\"\"\n",
    "function primal_residual(nlp::NLP, Z, λ, g=zeros(num_primals(nlp)); p=2)\n",
    "    grad_lagrangian!(nlp, g, Z, λ)\n",
    "    return norm(g, p)\n",
    "end\n",
    "\n",
    "\"\"\"\n",
    "    dual_residual(nlp, Z, λ, [c; p])\n",
    "\n",
    "Evaluate the `p`-norm of the dual residual (constraint violation).\n",
    "\"\"\"\n",
    "function dual_residual(nlp::NLP, Z, λ, c=zeros(num_eq(nlp)); p=2)\n",
    "    eval_c!(nlp, c, Z)\n",
    "    norm(c, p)\n",
    "end"
   ]
  },
  {
   "cell_type": "markdown",
   "metadata": {},
   "source": [
    "### Testing the Methods"
   ]
  },
  {
   "cell_type": "code",
   "execution_count": 12,
   "metadata": {},
   "outputs": [],
   "source": [
    "nlp = NLP(model, obj, tf, T, x0, xf)\n",
    "Z = packZ(nlp, X, U)\n",
    "λ = zeros(num_duals(nlp));"
   ]
  },
  {
   "cell_type": "code",
   "execution_count": 13,
   "metadata": {},
   "outputs": [
    {
     "data": {
      "text/plain": [
       "test_nlp (generic function with 1 method)"
      ]
     },
     "execution_count": 13,
     "metadata": {},
     "output_type": "execute_result"
    }
   ],
   "source": [
    "include(\"../test/nlp_test.jl\")"
   ]
  },
  {
   "cell_type": "code",
   "execution_count": 14,
   "metadata": {},
   "outputs": [
    {
     "name": "stdout",
     "output_type": "stream",
     "text": [
      "\u001b[0m\u001b[1mTest Summary: | \u001b[22m\u001b[32m\u001b[1mPass  \u001b[22m\u001b[39m\u001b[36m\u001b[1mTotal\u001b[22m\u001b[39m\n",
      "NLP tests     | \u001b[32m 115  \u001b[39m\u001b[36m  115\u001b[39m\n"
     ]
    }
   ],
   "source": [
    "# Test methods\n",
    "test_nlp(nlp, Z, λ);"
   ]
  },
  {
   "cell_type": "markdown",
   "metadata": {},
   "source": [
    "## Part (b): Solving the QP\n",
    "Now that we have methods to evaluate our NLP and its derivatives, we need some methods to form the QP from our NLP and then solve it. Use the struct we've provided below and implement the `build_qp!` method to update the QP sub-problem from the current primal and dual variables, as well as the `solve_qp!` method to solve it for the step directions in the primal and dual variables. Note that since our NLP only has equality constraints, the QP sub-problem will also only have equality constraints, so it can be solved directly using a linear solve on the KKT conditions."
   ]
  },
  {
   "cell_type": "code",
   "execution_count": 15,
   "metadata": {},
   "outputs": [
    {
     "data": {
      "text/plain": [
       "num_duals (generic function with 2 methods)"
      ]
     },
     "execution_count": 15,
     "metadata": {},
     "output_type": "execute_result"
    }
   ],
   "source": [
    "@doc raw\"\"\"\n",
    "    TOQP\n",
    "\n",
    "A type specifying a (T)rajectory (O)ptimization (Q)uadratic (P)rogram, of the form\n",
    "\n",
    "\n",
    "``\\begin{aligned} &\\text{minimize} &&\\frac{1}{2} z^T Q z + q^T z \\\\ \n",
    "&\\text{subject to} && A z = b \\\\ \n",
    "&&& l \\leq C z \\leq u \\end{aligned}``\n",
    "\n",
    "where ``z = [x_1^T \\; u_1^T \\; \\dots \\; x_{T-1}^T \\; u_{T-1}^T \\; x_T^T]^T`` and \n",
    "``x \\in \\mathbb{R}^n`` is the state vector and ``u \\in \\mathbb{R}^m`` is the control vector.\n",
    "\n",
    "# Constructors\n",
    "\n",
    "    TOQP(n,m,T,M,P)\n",
    "\n",
    "where `n` is the number of states, `m` is the number of controls, `T` is the horizon, `M` is the number of equality \n",
    "constraints, and `P` is the number of inequality constraints.\n",
    "\n",
    "# Methods\n",
    "\n",
    "    num_ineq(qp)     # number of inequality constraints\n",
    "    num_eq(qp)       # number of equality constraints\n",
    "    num_primals(qp)  # number of primal variables\n",
    "    num_duals(qp)    # total number of dual variables\n",
    "\n",
    "\n",
    "\"\"\"\n",
    "struct TOQP\n",
    "    Q::SparseMatrixCSC{Float64,Int}  # quadratic cost\n",
    "    q::Vector{Float64}               # linear cost\n",
    "    A::SparseMatrixCSC{Float64,Int}  # equality constraint Ax = b\n",
    "    b::Vector{Float64}               # equality constraint \n",
    "    C::SparseMatrixCSC{Float64,Int}  # inequality constraint l ≤ Cx ≤ u\n",
    "    l::Vector{Float64}               # inequality constraint lower bound\n",
    "    u::Vector{Float64}               # inequality constraint upper bound\n",
    "    n::Int\n",
    "    m::Int\n",
    "    T::Int\n",
    "\n",
    "    function TOQP(n,m,T,M,P)\n",
    "        N = n*T + (T-1)*m\n",
    "        Q = spzeros(N,N)\n",
    "        q = zeros(N)\n",
    "        A = spzeros(M,N)\n",
    "        b = zeros(M) \n",
    "        C = spzeros(P,N)\n",
    "        l = fill(-Inf,P)\n",
    "        u = fill(Inf,P)\n",
    "\n",
    "        new(Q,q,A,b,C,l,u,n,m,T)\n",
    "    end\n",
    "end\n",
    "\n",
    "\n",
    "function TOQP(nlp::NLP{n,m}) where {n,m}\n",
    "    TOQP(n,m,nlp.T, num_eq(nlp), num_ineq(nlp))\n",
    "end\n",
    "\n",
    "num_ineq(qp::TOQP) = length(qp.l)\n",
    "num_eq(qp::TOQP) = length(qp.b)\n",
    "num_primals(qp::TOQP) = length(qp.q)\n",
    "num_duals(qp::TOQP) = num_ineq(qp) + num_eq(qp)"
   ]
  },
  {
   "cell_type": "markdown",
   "metadata": {},
   "source": [
    "### Build the QP"
   ]
  },
  {
   "cell_type": "code",
   "execution_count": 16,
   "metadata": {},
   "outputs": [
    {
     "data": {
      "text/plain": [
       "build_qp!"
      ]
     },
     "execution_count": 16,
     "metadata": {},
     "output_type": "execute_result"
    }
   ],
   "source": [
    "# TASK: Complete the following method to build the QP sub-problem\n",
    "\"\"\"\n",
    "    build_qp!(qp, nlp, Z, λ; [gn=true])\n",
    "\n",
    "Build a QP from the NLP, evaluated at primal variables `Z` and dual variables `λ`, \n",
    "optionally using either the Hessian of the cost function (`gn = true`) or the Hessian of the Lagrangian (`gn = false`).\n",
    "\"\"\"\n",
    "function build_qp!(qp::TOQP, nlp::NLP, Z, λ; gn::Bool=true)\n",
    "    # TODO: Build the qp, filling in qp.Q, qp.q, qp.A, qp.b\n",
    "    jac_c!(nlp, qp.A, Z)\n",
    "    eval_c!(nlp, qp.b, Z)\n",
    "    qp.b .*= -1  # reverse sign\n",
    "    grad_lagrangian!(nlp, qp.q, Z, λ)\n",
    "\n",
    "    if gn\n",
    "        hess_f!(nlp, qp.Q, Z)\n",
    "    else\n",
    "        hess_lagrangian!(nlp, qp.Q, Z, λ)\n",
    "    end\n",
    "    return nothing\n",
    "end"
   ]
  },
  {
   "cell_type": "markdown",
   "metadata": {},
   "source": [
    "### Solve the QP"
   ]
  },
  {
   "cell_type": "code",
   "execution_count": 17,
   "metadata": {},
   "outputs": [
    {
     "data": {
      "text/plain": [
       "solve_qp!"
      ]
     },
     "execution_count": 17,
     "metadata": {},
     "output_type": "execute_result"
    }
   ],
   "source": [
    "# TASK: Complete the function to solve the QP\n",
    "\"\"\"\n",
    "    solve_qp!(qp, [reg])\n",
    "\n",
    "Solve the QP, optionally applying regularization `reg`.\n",
    "\"\"\"\n",
    "function solve_qp!(qp::TOQP, reg=0.0)\n",
    "    # TODO: Solve the QP sub-problem\n",
    "    # HINT: Form the KKT system and solve with a single linear solve\n",
    "    N,M = num_primals(qp), num_duals(qp)\n",
    "    \n",
    "    # SOLUTION\n",
    "    K = [qp.Q + reg*I qp.A'; qp.A -reg*I]\n",
    "    t = [-qp.q; qp.b]\n",
    "    dY = K\\t\n",
    "    dZ = dY[1:N]\n",
    "    dλ = dY[N+1:N+M]\n",
    "    return dZ, dλ\n",
    "end"
   ]
  },
  {
   "cell_type": "markdown",
   "metadata": {},
   "source": [
    "## Part (c): Writing the SQP Method\n",
    "Now that you have all the pieces, put them all together into an SQP method. We provide some more details about the line search we reccommend you implement below.\n",
    "\n",
    "### Line Search\n",
    "For SQP, we reccommend using the \"exact\" $\\ell_1$ merit function:\n",
    "\n",
    "$$ \\phi_1(x; \\mu) = f(x) + \\mu ||c(x)||_1 $$\n",
    "\n",
    "whose directional derivative in direction $p_k$ can be computed using:\n",
    "\n",
    "$$ D\\left(\\phi_1(x_k; \\mu); p_k\\right) = \\nabla f_k^T p_k - \\mu ||c_k||_1 $$\n",
    "\n",
    "The penalty parameter $\\mu$ should always have a value greater than or equal to this expression:\n",
    "\n",
    "$$ \\mu \\geq \\frac{\\nabla f_k^T p_k + (\\sigma/2) p_k^T \\nabla_{xx}^2 \\mathcal{L}_k p_k}{(1-\\rho) ||c_k||_1} $$\n",
    "\n",
    "where $\\rho = 0.5$, and\n",
    "\n",
    "$$ \\sigma = \\begin{cases} 1 & \\text{if } p_k^T \\nabla_{xx}^2 \\mathcal{L}_k p_k > 0 \\\\\n",
    "0 & \\text{otherwise} \\end{cases} $$.\n",
    "\n",
    "Here $p_k$ is the step direction, $\\nabla f_k$ is the gradient of the cost function at the current value of $x$, $c_k$ are the constraint values at the current value of $x$, and $\\nabla_{xx}^2 \\mathcal{L}_k$ is the Hessian of the Lagrangian for the current value of $x$. For more information, see Nocedal and Wright Ch 18.3"
   ]
  },
  {
   "cell_type": "code",
   "execution_count": 18,
   "metadata": {},
   "outputs": [
    {
     "data": {
      "text/plain": [
       "minimum_penalty"
      ]
     },
     "execution_count": 18,
     "metadata": {},
     "output_type": "execute_result"
    }
   ],
   "source": [
    "# TASK: Complete the SQP method\n",
    "\"\"\"\n",
    "    solve_sqp(nlp, Z, λ; kwargs...)\n",
    "\n",
    "Solve the trajectory optimization problem specified by `nlp` using Sequential Quadratic Programming, given the initial \n",
    "guess for the primal variables `Z` and `λ`.\n",
    "\"\"\"\n",
    "function solve_sqp(nlp, Z0, λ0;\n",
    "        iters=100,                   # max number of iterations\n",
    "        verbose=0,                   # verbosity level\n",
    "        eps_primal=1e-6,             # primal feasibility tolerance\n",
    "        eps_dual=1e-4,               # dual feasibility tolerance\n",
    "        eps_fn=sqrt(eps_primal),     # \n",
    "        gn::Bool=true,               # use Gauss-Newton approximation\n",
    "        enable_soc::Bool=true,       # enable Second-Order-Corrections during the line search\n",
    "        ls_iters=10,                 # max number of line search iterations\n",
    "        reg_min=1e-6,                # minimum regularization\n",
    "    )\n",
    "    t_start = time_ns()\n",
    "\n",
    "    # Initialize solution\n",
    "    Z = deepcopy(Z0)\n",
    "    λ = deepcopy(λ0)\n",
    "    qp = TOQP(nlp)\n",
    "\n",
    "    # Line Search parameters\n",
    "    μ = 10.0                         # initial merit function penalty\n",
    "    reg = reg_min                    # regularization\n",
    "    \n",
    "    # SOLUTION\n",
    "    ḡ = zero(Z)\n",
    "    c̄ = zero(λ)\n",
    "    Z̄ = zero(Z)\n",
    "    dZ = zero(Z)\n",
    "\n",
    "    # Stats\n",
    "    # TODO: Fill this is during your solve\n",
    "    stats = Dict(\n",
    "        :cost => Float64[],\n",
    "        :viol_primal => Float64[],  # constraint violation\n",
    "        :viol_dual => Float64[],    # stationarity\n",
    "        :time => Float64[]\n",
    "    )\n",
    "\n",
    "    # Primary Loop\n",
    "    for iter = 1:iters\n",
    "        #### TODO: Check Convergence ####\n",
    "        \n",
    "        ## SOLUTION\n",
    "        # Check the residuals and cost\n",
    "        res_p = primal_residual(nlp, Z, λ)\n",
    "        res_d = dual_residual(nlp, Z, λ)\n",
    "        J = eval_f(nlp, Z)\n",
    "        push!(stats[:viol_primal], res_d)\n",
    "        push!(stats[:viol_dual], res_p)\n",
    "        verbose > 0 && @printf(\"Iteration %d: cost = %0.2f, res_p = %0.2e, res_d = %0.2e,\", iter, J, res_p, res_d)\n",
    "\n",
    "        # Termination conditions\n",
    "        if res_p < eps_dual && res_d < eps_primal\n",
    "            verbose > 0 && println()\n",
    "            break\n",
    "        end\n",
    "\n",
    "        #### TODO: Build and Solve QP ####\n",
    "        \n",
    "        ## SOLUTION\n",
    "        # Build QP\n",
    "        build_qp!(qp, nlp, Z, λ, gn=gn)\n",
    "        \n",
    "        # Solve the QP\n",
    "        dZ, dλ = solve_qp!(qp, reg)\n",
    "        \n",
    "        #### TODO: Penalty Update ####\n",
    "        μ_min = 1\n",
    "        μ = max(μ_min*1.1, μ)\n",
    "        \n",
    "        ## SOLUTION\n",
    "        # Update penalty paramter\n",
    "        μ_min = minimum_penalty(qp.Q, qp.q, qp.b, dZ)\n",
    "        if μ < μ_min\n",
    "            μ = μ_min*1.1\n",
    "        end\n",
    "\n",
    "        #### TODO: Line Search Initialization ####\n",
    "        \n",
    "        # Params\n",
    "        α = 1.0                                # line search parameter\n",
    "        J0 = eval_f(nlp, Z)                    # initial cost\n",
    "        phi0 = Inf                             # initial merit function value\n",
    "        dphi0 = Inf                            # initial merit function gradient\n",
    "\n",
    "        ## SOLUTION\n",
    "        grad0 = qp.q\n",
    "        c0 = qp.b\n",
    "        phi0 = J0 + μ * norm(c0, 1)            # merit function\n",
    "        dphi0 = grad0'dZ - μ * norm(c0, 1)     # gradient of the merit function (Nocedal & Wright Theorem 18.2)\n",
    "        phi = Inf\n",
    "        push!(stats[:cost], J0)\n",
    "\n",
    "        #### TODO: Backtracking line search ####\n",
    "        \n",
    "        # SOLUTION\n",
    "        soc = false\n",
    "        τ = 0.5\n",
    "        η = 1e-2\n",
    "        for i = 1:10\n",
    "            # Calculate merit function at new step\n",
    "            Z̄ .= Z .+ α .* dZ\n",
    "            eval_c!(nlp, c̄, Z̄)\n",
    "            phi = eval_f(nlp, Z̄) + μ * norm(c̄, 1)\n",
    "\n",
    "            # Check Armijo\n",
    "            if phi < phi0 + η*α*dphi0\n",
    "                reg = max(reg /= 100, reg_min)\n",
    "                break\n",
    "            # Try second-order correction\n",
    "            elseif α == 1.0 && enable_soc\n",
    "                A = qp.A\n",
    "                psoc = -A'*((A*A')\\(c̄))\n",
    "                Z̄ .= Z .+ dZ .+ psoc\n",
    "                eval_c!(nlp, c̄, Z̄)\n",
    "                phi = eval_f(nlp, Z̄) + μ * norm(c̄, 1)\n",
    "                if phi < phi0 + η*α*dphi0\n",
    "                    soc = true\n",
    "                    reg = max(reg /= 100, reg_min)\n",
    "                    break\n",
    "                else\n",
    "                    α *= τ\n",
    "                end\n",
    "            else\n",
    "                α *= τ\n",
    "            end\n",
    "\n",
    "            # Line search failure\n",
    "            if i == 10\n",
    "                reg *= 10    # increase regularization\n",
    "                α = 0        # don't take a step\n",
    "                Z̄ .= Z \n",
    "                @warn \"line search failed\"\n",
    "            end\n",
    "        end\n",
    "        \n",
    "        #### TODO: Apply Step ####\n",
    "        ## SOLUTION\n",
    "        # Apply step\n",
    "        Z .= Z̄\n",
    "        λ .= λ .- α .* dλ\n",
    "\n",
    "        # Output\n",
    "        verbose > 0 && @printf(\"   α = %0.2f, ΔJ: %0.2e, Δϕ: %0.2e, reg: %0.2e, pen: %d\\n\", \n",
    "            α, J - eval_f(nlp, Z), phi0 - phi, reg, μ)\n",
    "        push!(stats[:time], (time_ns() - t_start) / 1e6)  # ms\n",
    "    end\n",
    "    ## SOLUTION\n",
    "    push!(stats[:time], (time_ns() - t_start) / 1e6)  # ms\n",
    "    push!(stats[:cost], eval_f(nlp, Z))\n",
    "    return Z, λ, stats \n",
    "end\n",
    "\n",
    "## SOLUTION\n",
    "\"\"\"\n",
    "    minimum_penalty(Q,q,c, dZ; ρ)\n",
    "\n",
    "Calculate the minimum penalty needed for the exact penalty function, where `Q` is the Hessian, `q` is the gradient, \n",
    "`c` is the constraint violation, and `dZ` is the search direction. (See Nocedal & Wright Eq. 18.36)\n",
    "\"\"\"\n",
    "function minimum_penalty(Q,q,c, dZ; ρ=0.5)\n",
    "    a = dot(dZ, Q, dZ)\n",
    "    σ = a > 0\n",
    "    num = q'dZ + σ*0.5*a\n",
    "    den = (1-ρ) * norm(c)\n",
    "    return num/den\n",
    "end"
   ]
  },
  {
   "cell_type": "code",
   "execution_count": 27,
   "metadata": {},
   "outputs": [
    {
     "data": {
      "text/plain": [
       "79"
      ]
     },
     "execution_count": 27,
     "metadata": {},
     "output_type": "execute_result"
    }
   ],
   "source": [
    "# TASK: Solve the problem with SQP\n",
    "#       Save the output to Zgn, λgn, stats_gn\n",
    "#       Solve to a tolerance of 1e-6 for constraint satisfaction and 1e-4 for stationarity condition\n",
    "\n",
    "Z = packZ(nlp, X, U)\n",
    "λ = zeros(num_duals(nlp))\n",
    "Zgn, λgn, stats_gn = solve_sqp(nlp, Z, λ, verbose=0, gn=true);\n",
    "length(stats_gn[:time])"
   ]
  },
  {
   "cell_type": "markdown",
   "metadata": {},
   "source": [
    "## Visualization"
   ]
  },
  {
   "cell_type": "code",
   "execution_count": 20,
   "metadata": {},
   "outputs": [
    {
     "name": "stderr",
     "output_type": "stream",
     "text": [
      "┌ Info: MeshCat server started. You can open the visualizer by visiting the following URL in your browser:\n",
      "│ http://127.0.0.1:8701\n",
      "└ @ MeshCat /home/brian/.julia/packages/MeshCat/Ax8pH/src/visualizer.jl:73\n"
     ]
    },
    {
     "data": {
      "text/html": [
       "    <div style=\"height: 500px; width: 100%; overflow-x: auto; overflow-y: hidden; resize: both\">\n",
       "    <iframe src=\"http://127.0.0.1:8701\" style=\"width: 100%; height: 100%; border: none\"></iframe>\n",
       "    </div>\n"
      ],
      "text/plain": [
       "MeshCat.DisplayedVisualizer(MeshCat.CoreVisualizer(MeshCat.SceneTrees.SceneNode(nothing, nothing, Dict{String, Vector{UInt8}}(), nothing, Dict{String, MeshCat.SceneTrees.SceneNode}(\"meshcat\" => MeshCat.SceneTrees.SceneNode(nothing, nothing, Dict{String, Vector{UInt8}}(), nothing, Dict{String, MeshCat.SceneTrees.SceneNode}(\"robot\" => MeshCat.SceneTrees.SceneNode(nothing, nothing, Dict{String, Vector{UInt8}}(), nothing, Dict{String, MeshCat.SceneTrees.SceneNode}(\"rod\" => MeshCat.SceneTrees.SceneNode(UInt8[0x83, 0xa6, 0x6f, 0x62, 0x6a, 0x65, 0x63, 0x74, 0x84, 0xaa  …  0x2f, 0x72, 0x6f, 0x62, 0x6f, 0x74, 0x2f, 0x72, 0x6f, 0x64], nothing, Dict{String, Vector{UInt8}}(), nothing, Dict{String, MeshCat.SceneTrees.SceneNode}()), \"cart\" => MeshCat.SceneTrees.SceneNode(nothing, nothing, Dict{String, Vector{UInt8}}(), nothing, Dict{String, MeshCat.SceneTrees.SceneNode}(\"pole\" => MeshCat.SceneTrees.SceneNode(nothing, UInt8[0x83, 0xa6, 0x6d, 0x61, 0x74, 0x72, 0x69, 0x78, 0xc7, 0x40  …  0x2f, 0x63, 0x61, 0x72, 0x74, 0x2f, 0x70, 0x6f, 0x6c, 0x65], Dict{String, Vector{UInt8}}(), nothing, Dict{String, MeshCat.SceneTrees.SceneNode}(\"geom\" => MeshCat.SceneTrees.SceneNode(nothing, nothing, Dict{String, Vector{UInt8}}(), nothing, Dict{String, MeshCat.SceneTrees.SceneNode}(\"cyl\" => MeshCat.SceneTrees.SceneNode(UInt8[0x83, 0xa6, 0x6f, 0x62, 0x6a, 0x65, 0x63, 0x74, 0x84, 0xaa  …  0x65, 0x2f, 0x67, 0x65, 0x6f, 0x6d, 0x2f, 0x63, 0x79, 0x6c], nothing, Dict{String, Vector{UInt8}}(), nothing, Dict{String, MeshCat.SceneTrees.SceneNode}()), \"mass\" => MeshCat.SceneTrees.SceneNode(UInt8[0x83, 0xa6, 0x6f, 0x62, 0x6a, 0x65, 0x63, 0x74, 0x84, 0xaa  …  0x2f, 0x67, 0x65, 0x6f, 0x6d, 0x2f, 0x6d, 0x61, 0x73, 0x73], nothing, Dict{String, Vector{UInt8}}(), nothing, Dict{String, MeshCat.SceneTrees.SceneNode}()))))), \"box\" => MeshCat.SceneTrees.SceneNode(UInt8[0x83, 0xa6, 0x6f, 0x62, 0x6a, 0x65, 0x63, 0x74, 0x84, 0xaa  …  0x74, 0x2f, 0x63, 0x61, 0x72, 0x74, 0x2f, 0x62, 0x6f, 0x78], nothing, Dict{String, Vector{UInt8}}(), nothing, Dict{String, MeshCat.SceneTrees.SceneNode}()), \"hinge\" => MeshCat.SceneTrees.SceneNode(UInt8[0x83, 0xa6, 0x6f, 0x62, 0x6a, 0x65, 0x63, 0x74, 0x84, 0xaa  …  0x63, 0x61, 0x72, 0x74, 0x2f, 0x68, 0x69, 0x6e, 0x67, 0x65], nothing, Dict{String, Vector{UInt8}}(), nothing, Dict{String, MeshCat.SceneTrees.SceneNode}()))))))))), Set{Any}(), ip\"127.0.0.1\", 8701))"
      ]
     },
     "execution_count": 20,
     "metadata": {},
     "output_type": "execute_result"
    }
   ],
   "source": [
    "vis = Visualizer()\n",
    "set_mesh!(vis, model)\n",
    "render(vis)"
   ]
  },
  {
   "cell_type": "code",
   "execution_count": 21,
   "metadata": {},
   "outputs": [],
   "source": [
    "Xgn = [Zgn[xi] for xi in nlp.xinds]\n",
    "visualize!(vis, model, tf, Xgn)"
   ]
  },
  {
   "cell_type": "markdown",
   "metadata": {},
   "source": [
    "## Part (d): Implement Full Newton\n",
    "To compute the full Newton step, we need to evaluate the second-order derivatives of our constraints. Complete the methods below to calculate the full 2nd-order expansion of the Lagrangian."
   ]
  },
  {
   "cell_type": "code",
   "execution_count": 22,
   "metadata": {},
   "outputs": [
    {
     "data": {
      "text/plain": [
       "hess_lagrangian!"
      ]
     },
     "execution_count": 22,
     "metadata": {},
     "output_type": "execute_result"
    }
   ],
   "source": [
    "# TASK: Finish the methods below\n",
    "#       ∇jvp!\n",
    "#       hess_lagrangian!\n",
    "\n",
    "\"\"\"\n",
    "    ∇jvp!(nlp, hess, Z, λ)\n",
    "\n",
    "Evaluate the Jacobian of the constraint Jacobian-transpose vector product, e.g. ``\\\\frac{\\\\partial}{\\\\partial z} \\\\nabla c^T \\\\lambda``,\n",
    "storing the result in the (potentially sparse) matrix `hess`.\n",
    "\"\"\"\n",
    "function ∇jvp!(nlp::NLP{n,m,<:Any,Q}, hess, Z, λ) where {n,m,Q}\n",
    "    xi,ui = nlp.xinds, nlp.uinds\n",
    "    idx = [xi[1]; ui[1]]\n",
    "    idx2 = xi[1]\n",
    "    \n",
    "    # TODO: Initial Constraint\n",
    "    \n",
    "    # Dynamics constraints\n",
    "    for k = 1:nlp.T-1\n",
    "        idx2 = idx2 .+ n\n",
    "        zi2 = k < T-1 ? idx .+ (n+m) : xi[T]\n",
    "        x = Z[xi[k]]\n",
    "        u = Z[ui[k]]\n",
    "        λk = λ[idx2]\n",
    "        t = nlp.times[k]\n",
    "        dt = nlp.times[k+1] - nlp.times[k]\n",
    "        \n",
    "        ∇f = view(hess, idx, idx)\n",
    "        ∇f2 = view(hess, idx, zi2)\n",
    "        \n",
    "        # TODO: Calculate second derivative the dynamics\n",
    "        # SOLUTION\n",
    "        ∇discrete_jacobian!(Q, ∇f, nlp.model, x, u, t, dt, λk)\n",
    "        \n",
    "        # Advance indices\n",
    "        idx = idx .+ (n + m)\n",
    "    end\n",
    "    # TODO: Terminal constraint\n",
    "end\n",
    "\n",
    "\"\"\"\n",
    "    hess_lagrangian(nlp, grad, Z, λ)\n",
    "\n",
    "Evaluate the Hessian of the Lagrangian.\n",
    "\"\"\"\n",
    "function hess_lagrangian!(nlp::NLP{n,m}, hess, Z, λ) where {n,m}\n",
    "    # TODO: Calculate the Hessian of the Lagrangian, store the result in hess\n",
    "    \n",
    "    # SOLUTION\n",
    "    ∇jvp!(nlp, hess, Z, λ)\n",
    "    hess .*= -1\n",
    "    hess_f!(nlp, hess, Z, false)\n",
    "    return nothing\n",
    "end\n"
   ]
  },
  {
   "cell_type": "code",
   "execution_count": 23,
   "metadata": {},
   "outputs": [
    {
     "name": "stdout",
     "output_type": "stream",
     "text": [
      "\u001b[0m\u001b[1mTest Summary: | \u001b[22m\u001b[32m\u001b[1mPass  \u001b[22m\u001b[39m\u001b[36m\u001b[1mTotal\u001b[22m\u001b[39m\n",
      "NLP tests     | \u001b[32m 116  \u001b[39m\u001b[36m  116\u001b[39m\n"
     ]
    }
   ],
   "source": [
    "# Test the methods\n",
    "test_nlp(nlp, Z, λ, full_newton=true);"
   ]
  },
  {
   "cell_type": "markdown",
   "metadata": {},
   "source": [
    "## Part (e): Solve with Full Newton\n",
    "Now that we can calculate our full Newton step, modify `build_qp!` to use `hess_lagrangian!` when the `gn` is false. Then solve the problem with the full Newton solve."
   ]
  },
  {
   "cell_type": "code",
   "execution_count": 30,
   "metadata": {},
   "outputs": [
    {
     "data": {
      "text/plain": [
       "11"
      ]
     },
     "execution_count": 30,
     "metadata": {},
     "output_type": "execute_result"
    }
   ],
   "source": [
    "# TASK: Do the following\n",
    "#       1. Modify build_qp! to use the full Newton Hessian when `gn = false`\n",
    "#       2. Solve the problem using full Newton steps. Save the result in Zfn, λfn, stats_fn\n",
    "\n",
    "# SOLUTION\n",
    "Z = packZ(nlp, X, U)\n",
    "λ = zeros(num_duals(nlp))\n",
    "Zfn, λfn, stats_fn = solve_sqp(nlp, Z, λ, verbose=0, gn=false, eps_dual=1e-4);\n",
    "length(stats_fn[:time])"
   ]
  },
  {
   "cell_type": "markdown",
   "metadata": {},
   "source": [
    "## Part (f): Convergence Comparison\n",
    "Let's compare the convergence of Gauss Newton versus Full Newton. Generate the following plots:\n",
    "1. Constraint violation vs iterations. Include a line for both Gauss and Full Newton\n",
    "2. Constraint violation vs time. Include a line for both Gauss and Full Newton\n",
    "\n",
    "Once you've generated the plots, take a minute to think about they tell you. What are the tradeoffs of using Gauss-Newton vs full Newton?\n",
    "\n",
    "You are free to use whatever plotting library you want (we suggest PyPlot.jl or Plots.jl).\n",
    "\n",
    "**TIP**: Save the data you need in the stats dictionary returned from the sqp solver.\n",
    "\n",
    "**TIP**: If your plot vs time has a large offset before the first iteration, run your solver again (remember it has to compile the first time through)."
   ]
  },
  {
   "cell_type": "code",
   "execution_count": 31,
   "metadata": {},
   "outputs": [
    {
     "data": {
      "image/svg+xml": [
       "<?xml version=\"1.0\" encoding=\"utf-8\"?>\n",
       "<svg xmlns=\"http://www.w3.org/2000/svg\" xmlns:xlink=\"http://www.w3.org/1999/xlink\" width=\"600\" height=\"400\" viewBox=\"0 0 2400 1600\">\n",
       "<defs>\n",
       "  <clipPath id=\"clip810\">\n",
       "    <rect x=\"0\" y=\"0\" width=\"2400\" height=\"1600\"/>\n",
       "  </clipPath>\n",
       "</defs>\n",
       "<path clip-path=\"url(#clip810)\" d=\"\n",
       "M0 1600 L2400 1600 L2400 0 L0 0  Z\n",
       "  \" fill=\"#ffffff\" fill-rule=\"evenodd\" fill-opacity=\"1\"/>\n",
       "<defs>\n",
       "  <clipPath id=\"clip811\">\n",
       "    <rect x=\"480\" y=\"0\" width=\"1681\" height=\"1600\"/>\n",
       "  </clipPath>\n",
       "</defs>\n",
       "<path clip-path=\"url(#clip810)\" d=\"\n",
       "M251.56 1423.18 L2352.76 1423.18 L2352.76 47.2441 L251.56 47.2441  Z\n",
       "  \" fill=\"#ffffff\" fill-rule=\"evenodd\" fill-opacity=\"1\"/>\n",
       "<defs>\n",
       "  <clipPath id=\"clip812\">\n",
       "    <rect x=\"251\" y=\"47\" width=\"2102\" height=\"1377\"/>\n",
       "  </clipPath>\n",
       "</defs>\n",
       "<polyline clip-path=\"url(#clip812)\" style=\"stroke:#000000; stroke-linecap:butt; stroke-linejoin:round; stroke-width:2; stroke-opacity:0.1; fill:none\" points=\"\n",
       "  285.614,1423.18 285.614,47.2441 \n",
       "  \"/>\n",
       "<polyline clip-path=\"url(#clip812)\" style=\"stroke:#000000; stroke-linecap:butt; stroke-linejoin:round; stroke-width:2; stroke-opacity:0.1; fill:none\" points=\"\n",
       "  793.886,1423.18 793.886,47.2441 \n",
       "  \"/>\n",
       "<polyline clip-path=\"url(#clip812)\" style=\"stroke:#000000; stroke-linecap:butt; stroke-linejoin:round; stroke-width:2; stroke-opacity:0.1; fill:none\" points=\"\n",
       "  1302.16,1423.18 1302.16,47.2441 \n",
       "  \"/>\n",
       "<polyline clip-path=\"url(#clip812)\" style=\"stroke:#000000; stroke-linecap:butt; stroke-linejoin:round; stroke-width:2; stroke-opacity:0.1; fill:none\" points=\"\n",
       "  1810.43,1423.18 1810.43,47.2441 \n",
       "  \"/>\n",
       "<polyline clip-path=\"url(#clip812)\" style=\"stroke:#000000; stroke-linecap:butt; stroke-linejoin:round; stroke-width:2; stroke-opacity:0.1; fill:none\" points=\"\n",
       "  2318.7,1423.18 2318.7,47.2441 \n",
       "  \"/>\n",
       "<polyline clip-path=\"url(#clip810)\" style=\"stroke:#000000; stroke-linecap:butt; stroke-linejoin:round; stroke-width:4; stroke-opacity:1; fill:none\" points=\"\n",
       "  251.56,1423.18 2352.76,1423.18 \n",
       "  \"/>\n",
       "<polyline clip-path=\"url(#clip810)\" style=\"stroke:#000000; stroke-linecap:butt; stroke-linejoin:round; stroke-width:4; stroke-opacity:1; fill:none\" points=\"\n",
       "  285.614,1423.18 285.614,1404.28 \n",
       "  \"/>\n",
       "<polyline clip-path=\"url(#clip810)\" style=\"stroke:#000000; stroke-linecap:butt; stroke-linejoin:round; stroke-width:4; stroke-opacity:1; fill:none\" points=\"\n",
       "  793.886,1423.18 793.886,1404.28 \n",
       "  \"/>\n",
       "<polyline clip-path=\"url(#clip810)\" style=\"stroke:#000000; stroke-linecap:butt; stroke-linejoin:round; stroke-width:4; stroke-opacity:1; fill:none\" points=\"\n",
       "  1302.16,1423.18 1302.16,1404.28 \n",
       "  \"/>\n",
       "<polyline clip-path=\"url(#clip810)\" style=\"stroke:#000000; stroke-linecap:butt; stroke-linejoin:round; stroke-width:4; stroke-opacity:1; fill:none\" points=\"\n",
       "  1810.43,1423.18 1810.43,1404.28 \n",
       "  \"/>\n",
       "<polyline clip-path=\"url(#clip810)\" style=\"stroke:#000000; stroke-linecap:butt; stroke-linejoin:round; stroke-width:4; stroke-opacity:1; fill:none\" points=\"\n",
       "  2318.7,1423.18 2318.7,1404.28 \n",
       "  \"/>\n",
       "<path clip-path=\"url(#clip810)\" d=\"M285.614 1454.1 Q282.003 1454.1 280.175 1457.66 Q278.369 1461.2 278.369 1468.33 Q278.369 1475.44 280.175 1479.01 Q282.003 1482.55 285.614 1482.55 Q289.249 1482.55 291.054 1479.01 Q292.883 1475.44 292.883 1468.33 Q292.883 1461.2 291.054 1457.66 Q289.249 1454.1 285.614 1454.1 M285.614 1450.39 Q291.425 1450.39 294.48 1455 Q297.559 1459.58 297.559 1468.33 Q297.559 1477.06 294.48 1481.67 Q291.425 1486.25 285.614 1486.25 Q279.804 1486.25 276.726 1481.67 Q273.67 1477.06 273.67 1468.33 Q273.67 1459.58 276.726 1455 Q279.804 1450.39 285.614 1450.39 Z\" fill=\"#000000\" fill-rule=\"evenodd\" fill-opacity=\"1\" /><path clip-path=\"url(#clip810)\" d=\"M772.66 1481.64 L788.979 1481.64 L788.979 1485.58 L767.035 1485.58 L767.035 1481.64 Q769.697 1478.89 774.28 1474.26 Q778.886 1469.61 780.067 1468.27 Q782.312 1465.74 783.192 1464.01 Q784.095 1462.25 784.095 1460.56 Q784.095 1457.8 782.15 1456.07 Q780.229 1454.33 777.127 1454.33 Q774.928 1454.33 772.474 1455.09 Q770.044 1455.86 767.266 1457.41 L767.266 1452.69 Q770.09 1451.55 772.544 1450.97 Q774.997 1450.39 777.035 1450.39 Q782.405 1450.39 785.599 1453.08 Q788.794 1455.77 788.794 1460.26 Q788.794 1462.39 787.984 1464.31 Q787.196 1466.2 785.09 1468.8 Q784.511 1469.47 781.409 1472.69 Q778.308 1475.88 772.66 1481.64 Z\" fill=\"#000000\" fill-rule=\"evenodd\" fill-opacity=\"1\" /><path clip-path=\"url(#clip810)\" d=\"M808.794 1454.1 Q805.183 1454.1 803.354 1457.66 Q801.548 1461.2 801.548 1468.33 Q801.548 1475.44 803.354 1479.01 Q805.183 1482.55 808.794 1482.55 Q812.428 1482.55 814.233 1479.01 Q816.062 1475.44 816.062 1468.33 Q816.062 1461.2 814.233 1457.66 Q812.428 1454.1 808.794 1454.1 M808.794 1450.39 Q814.604 1450.39 817.659 1455 Q820.738 1459.58 820.738 1468.33 Q820.738 1477.06 817.659 1481.67 Q814.604 1486.25 808.794 1486.25 Q802.983 1486.25 799.905 1481.67 Q796.849 1477.06 796.849 1468.33 Q796.849 1459.58 799.905 1455 Q802.983 1450.39 808.794 1450.39 Z\" fill=\"#000000\" fill-rule=\"evenodd\" fill-opacity=\"1\" /><path clip-path=\"url(#clip810)\" d=\"M1290.33 1455.09 L1278.52 1473.54 L1290.33 1473.54 L1290.33 1455.09 M1289.1 1451.02 L1294.98 1451.02 L1294.98 1473.54 L1299.91 1473.54 L1299.91 1477.43 L1294.98 1477.43 L1294.98 1485.58 L1290.33 1485.58 L1290.33 1477.43 L1274.73 1477.43 L1274.73 1472.92 L1289.1 1451.02 Z\" fill=\"#000000\" fill-rule=\"evenodd\" fill-opacity=\"1\" /><path clip-path=\"url(#clip810)\" d=\"M1317.64 1454.1 Q1314.03 1454.1 1312.2 1457.66 Q1310.4 1461.2 1310.4 1468.33 Q1310.4 1475.44 1312.2 1479.01 Q1314.03 1482.55 1317.64 1482.55 Q1321.28 1482.55 1323.08 1479.01 Q1324.91 1475.44 1324.91 1468.33 Q1324.91 1461.2 1323.08 1457.66 Q1321.28 1454.1 1317.64 1454.1 M1317.64 1450.39 Q1323.45 1450.39 1326.51 1455 Q1329.59 1459.58 1329.59 1468.33 Q1329.59 1477.06 1326.51 1481.67 Q1323.45 1486.25 1317.64 1486.25 Q1311.83 1486.25 1308.76 1481.67 Q1305.7 1477.06 1305.7 1468.33 Q1305.7 1459.58 1308.76 1455 Q1311.83 1450.39 1317.64 1450.39 Z\" fill=\"#000000\" fill-rule=\"evenodd\" fill-opacity=\"1\" /><path clip-path=\"url(#clip810)\" d=\"M1795.84 1466.44 Q1792.69 1466.44 1790.84 1468.59 Q1789.01 1470.74 1789.01 1474.49 Q1789.01 1478.22 1790.84 1480.39 Q1792.69 1482.55 1795.84 1482.55 Q1798.98 1482.55 1800.81 1480.39 Q1802.66 1478.22 1802.66 1474.49 Q1802.66 1470.74 1800.81 1468.59 Q1798.98 1466.44 1795.84 1466.44 M1805.12 1451.78 L1805.12 1456.04 Q1803.36 1455.21 1801.55 1454.77 Q1799.77 1454.33 1798.01 1454.33 Q1793.38 1454.33 1790.93 1457.45 Q1788.5 1460.58 1788.15 1466.9 Q1789.52 1464.89 1791.58 1463.82 Q1793.64 1462.73 1796.11 1462.73 Q1801.32 1462.73 1804.33 1465.9 Q1807.36 1469.05 1807.36 1474.49 Q1807.36 1479.82 1804.21 1483.03 Q1801.07 1486.25 1795.84 1486.25 Q1789.84 1486.25 1786.67 1481.67 Q1783.5 1477.06 1783.5 1468.33 Q1783.5 1460.14 1787.39 1455.28 Q1791.27 1450.39 1797.83 1450.39 Q1799.59 1450.39 1801.37 1450.74 Q1803.17 1451.09 1805.12 1451.78 Z\" fill=\"#000000\" fill-rule=\"evenodd\" fill-opacity=\"1\" /><path clip-path=\"url(#clip810)\" d=\"M1825.42 1454.1 Q1821.81 1454.1 1819.98 1457.66 Q1818.17 1461.2 1818.17 1468.33 Q1818.17 1475.44 1819.98 1479.01 Q1821.81 1482.55 1825.42 1482.55 Q1829.05 1482.55 1830.86 1479.01 Q1832.69 1475.44 1832.69 1468.33 Q1832.69 1461.2 1830.86 1457.66 Q1829.05 1454.1 1825.42 1454.1 M1825.42 1450.39 Q1831.23 1450.39 1834.28 1455 Q1837.36 1459.58 1837.36 1468.33 Q1837.36 1477.06 1834.28 1481.67 Q1831.23 1486.25 1825.42 1486.25 Q1819.61 1486.25 1816.53 1481.67 Q1813.47 1477.06 1813.47 1468.33 Q1813.47 1459.58 1816.53 1455 Q1819.61 1450.39 1825.42 1450.39 Z\" fill=\"#000000\" fill-rule=\"evenodd\" fill-opacity=\"1\" /><path clip-path=\"url(#clip810)\" d=\"M2303.57 1469.17 Q2300.24 1469.17 2298.32 1470.95 Q2296.42 1472.73 2296.42 1475.86 Q2296.42 1478.98 2298.32 1480.77 Q2300.24 1482.55 2303.57 1482.55 Q2306.91 1482.55 2308.83 1480.77 Q2310.75 1478.96 2310.75 1475.86 Q2310.75 1472.73 2308.83 1470.95 Q2306.93 1469.17 2303.57 1469.17 M2298.9 1467.18 Q2295.89 1466.44 2294.2 1464.38 Q2292.53 1462.32 2292.53 1459.35 Q2292.53 1455.21 2295.47 1452.8 Q2298.44 1450.39 2303.57 1450.39 Q2308.74 1450.39 2311.68 1452.8 Q2314.62 1455.21 2314.62 1459.35 Q2314.62 1462.32 2312.93 1464.38 Q2311.26 1466.44 2308.27 1467.18 Q2311.65 1467.96 2313.53 1470.26 Q2315.43 1472.55 2315.43 1475.86 Q2315.43 1480.88 2312.35 1483.57 Q2309.29 1486.25 2303.57 1486.25 Q2297.86 1486.25 2294.78 1483.57 Q2291.72 1480.88 2291.72 1475.86 Q2291.72 1472.55 2293.62 1470.26 Q2295.52 1467.96 2298.9 1467.18 M2297.19 1459.79 Q2297.19 1462.48 2298.85 1463.98 Q2300.54 1465.49 2303.57 1465.49 Q2306.58 1465.49 2308.27 1463.98 Q2309.99 1462.48 2309.99 1459.79 Q2309.99 1457.11 2308.27 1455.6 Q2306.58 1454.1 2303.57 1454.1 Q2300.54 1454.1 2298.85 1455.6 Q2297.19 1457.11 2297.19 1459.79 Z\" fill=\"#000000\" fill-rule=\"evenodd\" fill-opacity=\"1\" /><path clip-path=\"url(#clip810)\" d=\"M2333.74 1454.1 Q2330.13 1454.1 2328.3 1457.66 Q2326.49 1461.2 2326.49 1468.33 Q2326.49 1475.44 2328.3 1479.01 Q2330.13 1482.55 2333.74 1482.55 Q2337.37 1482.55 2339.18 1479.01 Q2341 1475.44 2341 1468.33 Q2341 1461.2 2339.18 1457.66 Q2337.37 1454.1 2333.74 1454.1 M2333.74 1450.39 Q2339.55 1450.39 2342.6 1455 Q2345.68 1459.58 2345.68 1468.33 Q2345.68 1477.06 2342.6 1481.67 Q2339.55 1486.25 2333.74 1486.25 Q2327.93 1486.25 2324.85 1481.67 Q2321.79 1477.06 2321.79 1468.33 Q2321.79 1459.58 2324.85 1455 Q2327.93 1450.39 2333.74 1450.39 Z\" fill=\"#000000\" fill-rule=\"evenodd\" fill-opacity=\"1\" /><path clip-path=\"url(#clip810)\" d=\"M1152.15 1532.4 L1158.01 1532.4 L1158.01 1568.04 L1152.15 1568.04 L1152.15 1532.4 M1152.15 1518.52 L1158.01 1518.52 L1158.01 1525.93 L1152.15 1525.93 L1152.15 1518.52 Z\" fill=\"#000000\" fill-rule=\"evenodd\" fill-opacity=\"1\" /><path clip-path=\"url(#clip810)\" d=\"M1176.05 1522.27 L1176.05 1532.4 L1188.12 1532.4 L1188.12 1536.95 L1176.05 1536.95 L1176.05 1556.3 Q1176.05 1560.66 1177.23 1561.9 Q1178.44 1563.14 1182.1 1563.14 L1188.12 1563.14 L1188.12 1568.04 L1182.1 1568.04 Q1175.32 1568.04 1172.74 1565.53 Q1170.17 1562.98 1170.17 1556.3 L1170.17 1536.95 L1165.87 1536.95 L1165.87 1532.4 L1170.17 1532.4 L1170.17 1522.27 L1176.05 1522.27 Z\" fill=\"#000000\" fill-rule=\"evenodd\" fill-opacity=\"1\" /><path clip-path=\"url(#clip810)\" d=\"M1226.31 1548.76 L1226.31 1551.62 L1199.38 1551.62 Q1199.77 1557.67 1203.01 1560.85 Q1206.29 1564 1212.12 1564 Q1215.49 1564 1218.64 1563.17 Q1221.82 1562.35 1224.94 1560.69 L1224.94 1566.23 Q1221.79 1567.57 1218.48 1568.27 Q1215.17 1568.97 1211.77 1568.97 Q1203.23 1568.97 1198.24 1564 Q1193.27 1559.04 1193.27 1550.57 Q1193.27 1541.82 1197.98 1536.69 Q1202.73 1531.54 1210.75 1531.54 Q1217.94 1531.54 1222.11 1536.18 Q1226.31 1540.8 1226.31 1548.76 M1220.45 1547.04 Q1220.39 1542.23 1217.75 1539.37 Q1215.14 1536.5 1210.81 1536.5 Q1205.91 1536.5 1202.95 1539.27 Q1200.02 1542.04 1199.57 1547.07 L1220.45 1547.04 Z\" fill=\"#000000\" fill-rule=\"evenodd\" fill-opacity=\"1\" /><path clip-path=\"url(#clip810)\" d=\"M1256.58 1537.87 Q1255.59 1537.3 1254.42 1537.04 Q1253.27 1536.76 1251.87 1536.76 Q1246.9 1536.76 1244.23 1540 Q1241.59 1543.22 1241.59 1549.27 L1241.59 1568.04 L1235.7 1568.04 L1235.7 1532.4 L1241.59 1532.4 L1241.59 1537.93 Q1243.43 1534.69 1246.39 1533.13 Q1249.35 1531.54 1253.59 1531.54 Q1254.19 1531.54 1254.92 1531.63 Q1255.66 1531.7 1256.55 1531.85 L1256.58 1537.87 Z\" fill=\"#000000\" fill-rule=\"evenodd\" fill-opacity=\"1\" /><path clip-path=\"url(#clip810)\" d=\"M1278.92 1550.12 Q1271.83 1550.12 1269.09 1551.75 Q1266.35 1553.37 1266.35 1557.29 Q1266.35 1560.4 1268.39 1562.25 Q1270.46 1564.07 1273.99 1564.07 Q1278.86 1564.07 1281.79 1560.63 Q1284.75 1557.16 1284.75 1551.43 L1284.75 1550.12 L1278.92 1550.12 M1290.6 1547.71 L1290.6 1568.04 L1284.75 1568.04 L1284.75 1562.63 Q1282.74 1565.88 1279.75 1567.44 Q1276.76 1568.97 1272.43 1568.97 Q1266.96 1568.97 1263.71 1565.91 Q1260.49 1562.82 1260.49 1557.67 Q1260.49 1551.65 1264.5 1548.6 Q1268.55 1545.54 1276.54 1545.54 L1284.75 1545.54 L1284.75 1544.97 Q1284.75 1540.93 1282.07 1538.73 Q1279.43 1536.5 1274.63 1536.5 Q1271.57 1536.5 1268.67 1537.23 Q1265.78 1537.97 1263.1 1539.43 L1263.1 1534.02 Q1266.32 1532.78 1269.34 1532.17 Q1272.37 1531.54 1275.23 1531.54 Q1282.97 1531.54 1286.78 1535.55 Q1290.6 1539.56 1290.6 1547.71 Z\" fill=\"#000000\" fill-rule=\"evenodd\" fill-opacity=\"1\" /><path clip-path=\"url(#clip810)\" d=\"M1308.46 1522.27 L1308.46 1532.4 L1320.52 1532.4 L1320.52 1536.95 L1308.46 1536.95 L1308.46 1556.3 Q1308.46 1560.66 1309.64 1561.9 Q1310.85 1563.14 1314.51 1563.14 L1320.52 1563.14 L1320.52 1568.04 L1314.51 1568.04 Q1307.73 1568.04 1305.15 1565.53 Q1302.57 1562.98 1302.57 1556.3 L1302.57 1536.95 L1298.27 1536.95 L1298.27 1532.4 L1302.57 1532.4 L1302.57 1522.27 L1308.46 1522.27 Z\" fill=\"#000000\" fill-rule=\"evenodd\" fill-opacity=\"1\" /><path clip-path=\"url(#clip810)\" d=\"M1328.23 1532.4 L1334.08 1532.4 L1334.08 1568.04 L1328.23 1568.04 L1328.23 1532.4 M1328.23 1518.52 L1334.08 1518.52 L1334.08 1525.93 L1328.23 1525.93 L1328.23 1518.52 Z\" fill=\"#000000\" fill-rule=\"evenodd\" fill-opacity=\"1\" /><path clip-path=\"url(#clip810)\" d=\"M1360.15 1536.5 Q1355.44 1536.5 1352.7 1540.19 Q1349.96 1543.85 1349.96 1550.25 Q1349.96 1556.65 1352.67 1560.34 Q1355.41 1564 1360.15 1564 Q1364.83 1564 1367.57 1560.31 Q1370.3 1556.62 1370.3 1550.25 Q1370.3 1543.92 1367.57 1540.23 Q1364.83 1536.5 1360.15 1536.5 M1360.15 1531.54 Q1367.79 1531.54 1372.15 1536.5 Q1376.51 1541.47 1376.51 1550.25 Q1376.51 1559 1372.15 1564 Q1367.79 1568.97 1360.15 1568.97 Q1352.48 1568.97 1348.12 1564 Q1343.79 1559 1343.79 1550.25 Q1343.79 1541.47 1348.12 1536.5 Q1352.48 1531.54 1360.15 1531.54 Z\" fill=\"#000000\" fill-rule=\"evenodd\" fill-opacity=\"1\" /><path clip-path=\"url(#clip810)\" d=\"M1415.85 1546.53 L1415.85 1568.04 L1409.99 1568.04 L1409.99 1546.72 Q1409.99 1541.66 1408.02 1539.14 Q1406.05 1536.63 1402.1 1536.63 Q1397.36 1536.63 1394.62 1539.65 Q1391.88 1542.68 1391.88 1547.9 L1391.88 1568.04 L1385.99 1568.04 L1385.99 1532.4 L1391.88 1532.4 L1391.88 1537.93 Q1393.98 1534.72 1396.82 1533.13 Q1399.68 1531.54 1403.4 1531.54 Q1409.55 1531.54 1412.7 1535.36 Q1415.85 1539.14 1415.85 1546.53 Z\" fill=\"#000000\" fill-rule=\"evenodd\" fill-opacity=\"1\" /><path clip-path=\"url(#clip810)\" d=\"M1450.26 1533.45 L1450.26 1538.98 Q1447.77 1537.71 1445.1 1537.07 Q1442.43 1536.44 1439.56 1536.44 Q1435.2 1536.44 1433.01 1537.77 Q1430.84 1539.11 1430.84 1541.79 Q1430.84 1543.82 1432.4 1545 Q1433.96 1546.15 1438.67 1547.2 L1440.68 1547.64 Q1446.91 1548.98 1449.52 1551.43 Q1452.17 1553.85 1452.17 1558.21 Q1452.17 1563.17 1448.22 1566.07 Q1444.3 1568.97 1437.43 1568.97 Q1434.56 1568.97 1431.45 1568.39 Q1428.36 1567.85 1424.92 1566.74 L1424.92 1560.69 Q1428.17 1562.38 1431.32 1563.24 Q1434.47 1564.07 1437.56 1564.07 Q1441.69 1564.07 1443.92 1562.66 Q1446.15 1561.23 1446.15 1558.65 Q1446.15 1556.27 1444.53 1554.99 Q1442.94 1553.72 1437.49 1552.54 L1435.46 1552.07 Q1430.01 1550.92 1427.59 1548.56 Q1425.18 1546.18 1425.18 1542.04 Q1425.18 1537.01 1428.74 1534.27 Q1432.3 1531.54 1438.86 1531.54 Q1442.11 1531.54 1444.97 1532.01 Q1447.84 1532.49 1450.26 1533.45 Z\" fill=\"#000000\" fill-rule=\"evenodd\" fill-opacity=\"1\" /><polyline clip-path=\"url(#clip812)\" style=\"stroke:#000000; stroke-linecap:butt; stroke-linejoin:round; stroke-width:2; stroke-opacity:0.1; fill:none\" points=\"\n",
       "  251.56,839.452 2352.76,839.452 \n",
       "  \"/>\n",
       "<polyline clip-path=\"url(#clip812)\" style=\"stroke:#000000; stroke-linecap:butt; stroke-linejoin:round; stroke-width:2; stroke-opacity:0.1; fill:none\" points=\"\n",
       "  251.56,168.351 2352.76,168.351 \n",
       "  \"/>\n",
       "<polyline clip-path=\"url(#clip810)\" style=\"stroke:#000000; stroke-linecap:butt; stroke-linejoin:round; stroke-width:4; stroke-opacity:1; fill:none\" points=\"\n",
       "  251.56,1423.18 251.56,47.2441 \n",
       "  \"/>\n",
       "<polyline clip-path=\"url(#clip810)\" style=\"stroke:#000000; stroke-linecap:butt; stroke-linejoin:round; stroke-width:4; stroke-opacity:1; fill:none\" points=\"\n",
       "  251.56,839.452 270.458,839.452 \n",
       "  \"/>\n",
       "<polyline clip-path=\"url(#clip810)\" style=\"stroke:#000000; stroke-linecap:butt; stroke-linejoin:round; stroke-width:4; stroke-opacity:1; fill:none\" points=\"\n",
       "  251.56,168.351 270.458,168.351 \n",
       "  \"/>\n",
       "<path clip-path=\"url(#clip810)\" d=\"M114.931 859.245 L122.57 859.245 L122.57 832.879 L114.26 834.546 L114.26 830.287 L122.524 828.62 L127.2 828.62 L127.2 859.245 L134.839 859.245 L134.839 863.18 L114.931 863.18 L114.931 859.245 Z\" fill=\"#000000\" fill-rule=\"evenodd\" fill-opacity=\"1\" /><path clip-path=\"url(#clip810)\" d=\"M154.283 831.699 Q150.672 831.699 148.843 835.264 Q147.038 838.805 147.038 845.935 Q147.038 853.041 148.843 856.606 Q150.672 860.148 154.283 860.148 Q157.917 860.148 159.723 856.606 Q161.552 853.041 161.552 845.935 Q161.552 838.805 159.723 835.264 Q157.917 831.699 154.283 831.699 M154.283 827.995 Q160.093 827.995 163.149 832.601 Q166.227 837.185 166.227 845.935 Q166.227 854.662 163.149 859.268 Q160.093 863.851 154.283 863.851 Q148.473 863.851 145.394 859.268 Q142.339 854.662 142.339 845.935 Q142.339 837.185 145.394 832.601 Q148.473 827.995 154.283 827.995 Z\" fill=\"#000000\" fill-rule=\"evenodd\" fill-opacity=\"1\" /><path clip-path=\"url(#clip810)\" d=\"M166.227 822.096 L190.339 822.096 L190.339 825.294 L166.227 825.294 L166.227 822.096 Z\" fill=\"#000000\" fill-rule=\"evenodd\" fill-opacity=\"1\" /><path clip-path=\"url(#clip810)\" d=\"M198.577 807.69 L213.491 807.69 L213.491 810.887 L202.056 810.887 L202.056 817.771 Q202.884 817.488 203.711 817.357 Q204.539 817.206 205.366 817.206 Q210.068 817.206 212.814 819.783 Q215.56 822.36 215.56 826.761 Q215.56 831.293 212.739 833.814 Q209.918 836.315 204.783 836.315 Q203.015 836.315 201.172 836.014 Q199.348 835.713 197.392 835.111 L197.392 831.293 Q199.085 832.215 200.89 832.666 Q202.696 833.118 204.708 833.118 Q207.962 833.118 209.861 831.406 Q211.761 829.695 211.761 826.761 Q211.761 823.827 209.861 822.115 Q207.962 820.404 204.708 820.404 Q203.185 820.404 201.661 820.742 Q200.157 821.081 198.577 821.795 L198.577 807.69 Z\" fill=\"#000000\" fill-rule=\"evenodd\" fill-opacity=\"1\" /><path clip-path=\"url(#clip810)\" d=\"M144.855 188.144 L152.493 188.144 L152.493 161.778 L144.183 163.445 L144.183 159.186 L152.447 157.519 L157.123 157.519 L157.123 188.144 L164.762 188.144 L164.762 192.079 L144.855 192.079 L144.855 188.144 Z\" fill=\"#000000\" fill-rule=\"evenodd\" fill-opacity=\"1\" /><path clip-path=\"url(#clip810)\" d=\"M184.206 160.598 Q180.595 160.598 178.766 164.163 Q176.961 167.704 176.961 174.834 Q176.961 181.94 178.766 185.505 Q180.595 189.047 184.206 189.047 Q187.84 189.047 189.646 185.505 Q191.475 181.94 191.475 174.834 Q191.475 167.704 189.646 164.163 Q187.84 160.598 184.206 160.598 M184.206 156.894 Q190.016 156.894 193.072 161.5 Q196.151 166.084 196.151 174.834 Q196.151 183.561 193.072 188.167 Q190.016 192.75 184.206 192.75 Q178.396 192.75 175.317 188.167 Q172.262 183.561 172.262 174.834 Q172.262 166.084 175.317 161.5 Q178.396 156.894 184.206 156.894 Z\" fill=\"#000000\" fill-rule=\"evenodd\" fill-opacity=\"1\" /><path clip-path=\"url(#clip810)\" d=\"M205.855 139.09 Q202.921 139.09 201.436 141.986 Q199.969 144.864 199.969 150.657 Q199.969 156.431 201.436 159.327 Q202.921 162.205 205.855 162.205 Q208.808 162.205 210.275 159.327 Q211.761 156.431 211.761 150.657 Q211.761 144.864 210.275 141.986 Q208.808 139.09 205.855 139.09 M205.855 136.081 Q210.576 136.081 213.059 139.824 Q215.56 143.547 215.56 150.657 Q215.56 157.747 213.059 161.49 Q210.576 165.214 205.855 165.214 Q201.135 165.214 198.633 161.49 Q196.151 157.747 196.151 150.657 Q196.151 143.547 198.633 139.824 Q201.135 136.081 205.855 136.081 Z\" fill=\"#000000\" fill-rule=\"evenodd\" fill-opacity=\"1\" /><path clip-path=\"url(#clip810)\" d=\"M20.1444 1011.37 L26.9239 1011.37 Q23.9002 1014.62 22.4043 1018.31 Q20.9083 1021.97 20.9083 1026.11 Q20.9083 1034.26 25.9054 1038.59 Q30.8707 1042.91 40.2919 1042.91 Q49.6813 1042.91 54.6784 1038.59 Q59.6436 1034.26 59.6436 1026.11 Q59.6436 1021.97 58.1477 1018.31 Q56.6518 1014.62 53.6281 1011.37 L60.3439 1011.37 Q62.6355 1014.75 63.7814 1018.53 Q64.9272 1022.29 64.9272 1026.49 Q64.9272 1037.28 58.3387 1043.49 Q51.7183 1049.69 40.2919 1049.69 Q28.8336 1049.69 22.2451 1043.49 Q15.6248 1037.28 15.6248 1026.49 Q15.6248 1022.23 16.7706 1018.47 Q17.8846 1014.68 20.1444 1011.37 Z\" fill=\"#000000\" fill-rule=\"evenodd\" fill-opacity=\"1\" /><path clip-path=\"url(#clip810)\" d=\"M32.4621 987.883 Q32.4621 992.593 36.1542 995.331 Q39.8145 998.068 46.212 998.068 Q52.6095 998.068 56.3017 995.362 Q59.9619 992.625 59.9619 987.883 Q59.9619 983.204 56.2698 980.467 Q52.5777 977.729 46.212 977.729 Q39.8781 977.729 36.186 980.467 Q32.4621 983.204 32.4621 987.883 M27.4968 987.883 Q27.4968 980.244 32.4621 975.883 Q37.4273 971.523 46.212 971.523 Q54.9649 971.523 59.9619 975.883 Q64.9272 980.244 64.9272 987.883 Q64.9272 995.553 59.9619 999.914 Q54.9649 1004.24 46.212 1004.24 Q37.4273 1004.24 32.4621 999.914 Q27.4968 995.553 27.4968 987.883 Z\" fill=\"#000000\" fill-rule=\"evenodd\" fill-opacity=\"1\" /><path clip-path=\"url(#clip810)\" d=\"M42.4881 932.183 L64.0042 932.183 L64.0042 938.039 L42.679 938.039 Q37.6183 938.039 35.1038 940.013 Q32.5894 941.986 32.5894 945.933 Q32.5894 950.675 35.6131 953.412 Q38.6368 956.15 43.8567 956.15 L64.0042 956.15 L64.0042 962.038 L28.3562 962.038 L28.3562 956.15 L33.8944 956.15 Q30.6797 954.049 29.0883 951.216 Q27.4968 948.352 27.4968 944.628 Q27.4968 938.485 31.3163 935.334 Q35.1038 932.183 42.4881 932.183 Z\" fill=\"#000000\" fill-rule=\"evenodd\" fill-opacity=\"1\" /><path clip-path=\"url(#clip810)\" d=\"M29.4065 897.776 L34.9447 897.776 Q33.6716 900.259 33.035 902.932 Q32.3984 905.606 32.3984 908.471 Q32.3984 912.831 33.7352 915.027 Q35.072 917.192 37.7456 917.192 Q39.7826 917.192 40.9603 915.632 Q42.1061 914.072 43.1565 909.362 L43.6021 907.357 Q44.9389 901.118 47.3897 898.508 Q49.8086 895.866 54.1691 895.866 Q59.1344 895.866 62.0308 899.813 Q64.9272 903.728 64.9272 910.603 Q64.9272 913.468 64.3543 916.587 Q63.8132 919.674 62.6992 923.112 L56.6518 923.112 Q58.3387 919.865 59.198 916.714 Q60.0256 913.563 60.0256 910.476 Q60.0256 906.338 58.6251 904.11 Q57.1929 901.882 54.6147 901.882 Q52.2276 901.882 50.9545 903.505 Q49.6813 905.097 48.5037 910.539 L48.0262 912.576 Q46.8804 918.019 44.5251 920.438 Q42.138 922.857 38.0002 922.857 Q32.9713 922.857 30.2341 919.292 Q27.4968 915.727 27.4968 909.171 Q27.4968 905.924 27.9743 903.06 Q28.4517 900.195 29.4065 897.776 Z\" fill=\"#000000\" fill-rule=\"evenodd\" fill-opacity=\"1\" /><path clip-path=\"url(#clip810)\" d=\"M18.2347 880.748 L28.3562 880.748 L28.3562 868.685 L32.9077 868.685 L32.9077 880.748 L52.2594 880.748 Q56.6199 880.748 57.8613 879.57 Q59.1026 878.361 59.1026 874.701 L59.1026 868.685 L64.0042 868.685 L64.0042 874.701 Q64.0042 881.48 61.4897 884.058 Q58.9434 886.636 52.2594 886.636 L32.9077 886.636 L32.9077 890.933 L28.3562 890.933 L28.3562 886.636 L18.2347 886.636 L18.2347 880.748 Z\" fill=\"#000000\" fill-rule=\"evenodd\" fill-opacity=\"1\" /><path clip-path=\"url(#clip810)\" d=\"M33.8307 840.326 Q33.2578 841.312 33.0032 842.49 Q32.7167 843.636 32.7167 845.036 Q32.7167 850.002 35.9632 852.675 Q39.1779 855.317 45.2253 855.317 L64.0042 855.317 L64.0042 861.205 L28.3562 861.205 L28.3562 855.317 L33.8944 855.317 Q30.6479 853.471 29.0883 850.511 Q27.4968 847.551 27.4968 843.318 Q27.4968 842.713 27.5923 841.981 Q27.656 841.249 27.8151 840.358 L33.8307 840.326 Z\" fill=\"#000000\" fill-rule=\"evenodd\" fill-opacity=\"1\" /><path clip-path=\"url(#clip810)\" d=\"M46.0847 817.982 Q46.0847 825.08 47.7079 827.817 Q49.3312 830.554 53.2461 830.554 Q56.3653 830.554 58.2114 828.517 Q60.0256 826.448 60.0256 822.915 Q60.0256 818.046 56.5881 815.118 Q53.1188 812.157 47.3897 812.157 L46.0847 812.157 L46.0847 817.982 M43.6657 806.301 L64.0042 806.301 L64.0042 812.157 L58.5933 812.157 Q61.8398 814.163 63.3994 817.155 Q64.9272 820.146 64.9272 824.475 Q64.9272 829.95 61.8716 833.196 Q58.7843 836.411 53.6281 836.411 Q47.6125 836.411 44.5569 832.4 Q41.5014 828.358 41.5014 820.369 L41.5014 812.157 L40.9285 812.157 Q36.8862 812.157 34.6901 814.831 Q32.4621 817.473 32.4621 822.279 Q32.4621 825.334 33.1941 828.231 Q33.9262 831.127 35.3903 833.801 L29.9795 833.801 Q28.7381 830.586 28.1334 827.562 Q27.4968 824.539 27.4968 821.674 Q27.4968 813.94 31.5072 810.12 Q35.5176 806.301 43.6657 806.301 Z\" fill=\"#000000\" fill-rule=\"evenodd\" fill-opacity=\"1\" /><path clip-path=\"url(#clip810)\" d=\"M28.3562 794.238 L28.3562 788.382 L64.0042 788.382 L64.0042 794.238 L28.3562 794.238 M14.479 794.238 L14.479 788.382 L21.895 788.382 L21.895 794.238 L14.479 794.238 Z\" fill=\"#000000\" fill-rule=\"evenodd\" fill-opacity=\"1\" /><path clip-path=\"url(#clip810)\" d=\"M42.4881 746.495 L64.0042 746.495 L64.0042 752.352 L42.679 752.352 Q37.6183 752.352 35.1038 754.325 Q32.5894 756.298 32.5894 760.245 Q32.5894 764.988 35.6131 767.725 Q38.6368 770.462 43.8567 770.462 L64.0042 770.462 L64.0042 776.35 L28.3562 776.35 L28.3562 770.462 L33.8944 770.462 Q30.6797 768.361 29.0883 765.529 Q27.4968 762.664 27.4968 758.94 Q27.4968 752.797 31.3163 749.646 Q35.1038 746.495 42.4881 746.495 Z\" fill=\"#000000\" fill-rule=\"evenodd\" fill-opacity=\"1\" /><path clip-path=\"url(#clip810)\" d=\"M18.2347 729.021 L28.3562 729.021 L28.3562 716.958 L32.9077 716.958 L32.9077 729.021 L52.2594 729.021 Q56.6199 729.021 57.8613 727.844 Q59.1026 726.634 59.1026 722.974 L59.1026 716.958 L64.0042 716.958 L64.0042 722.974 Q64.0042 729.753 61.4897 732.331 Q58.9434 734.91 52.2594 734.91 L32.9077 734.91 L32.9077 739.206 L28.3562 739.206 L28.3562 734.91 L18.2347 734.91 L18.2347 729.021 Z\" fill=\"#000000\" fill-rule=\"evenodd\" fill-opacity=\"1\" /><path clip-path=\"url(#clip810)\" d=\"M28.3562 692.737 L28.3562 686.53 L58.275 675.39 L28.3562 664.25 L28.3562 658.044 L64.0042 671.412 L64.0042 679.369 L28.3562 692.737 Z\" fill=\"#000000\" fill-rule=\"evenodd\" fill-opacity=\"1\" /><path clip-path=\"url(#clip810)\" d=\"M28.3562 649.959 L28.3562 644.103 L64.0042 644.103 L64.0042 649.959 L28.3562 649.959 M14.479 649.959 L14.479 644.103 L21.895 644.103 L21.895 649.959 L14.479 649.959 Z\" fill=\"#000000\" fill-rule=\"evenodd\" fill-opacity=\"1\" /><path clip-path=\"url(#clip810)\" d=\"M32.4621 618.035 Q32.4621 622.746 36.1542 625.483 Q39.8145 628.22 46.212 628.22 Q52.6095 628.22 56.3017 625.515 Q59.9619 622.778 59.9619 618.035 Q59.9619 613.356 56.2698 610.619 Q52.5777 607.882 46.212 607.882 Q39.8781 607.882 36.186 610.619 Q32.4621 613.356 32.4621 618.035 M27.4968 618.035 Q27.4968 610.396 32.4621 606.036 Q37.4273 601.675 46.212 601.675 Q54.9649 601.675 59.9619 606.036 Q64.9272 610.396 64.9272 618.035 Q64.9272 625.706 59.9619 630.066 Q54.9649 634.395 46.212 634.395 Q37.4273 634.395 32.4621 630.066 Q27.4968 625.706 27.4968 618.035 Z\" fill=\"#000000\" fill-rule=\"evenodd\" fill-opacity=\"1\" /><path clip-path=\"url(#clip810)\" d=\"M14.479 591.968 L14.479 586.111 L64.0042 586.111 L64.0042 591.968 L14.479 591.968 Z\" fill=\"#000000\" fill-rule=\"evenodd\" fill-opacity=\"1\" /><path clip-path=\"url(#clip810)\" d=\"M46.0847 557.656 Q46.0847 564.754 47.7079 567.492 Q49.3312 570.229 53.2461 570.229 Q56.3653 570.229 58.2114 568.192 Q60.0256 566.123 60.0256 562.59 Q60.0256 557.72 56.5881 554.792 Q53.1188 551.832 47.3897 551.832 L46.0847 551.832 L46.0847 557.656 M43.6657 545.975 L64.0042 545.975 L64.0042 551.832 L58.5933 551.832 Q61.8398 553.837 63.3994 556.829 Q64.9272 559.821 64.9272 564.15 Q64.9272 569.624 61.8716 572.871 Q58.7843 576.085 53.6281 576.085 Q47.6125 576.085 44.5569 572.075 Q41.5014 568.033 41.5014 560.044 L41.5014 551.832 L40.9285 551.832 Q36.8862 551.832 34.6901 554.505 Q32.4621 557.147 32.4621 561.953 Q32.4621 565.009 33.1941 567.905 Q33.9262 570.802 35.3903 573.475 L29.9795 573.475 Q28.7381 570.261 28.1334 567.237 Q27.4968 564.213 27.4968 561.349 Q27.4968 553.614 31.5072 549.795 Q35.5176 545.975 43.6657 545.975 Z\" fill=\"#000000\" fill-rule=\"evenodd\" fill-opacity=\"1\" /><path clip-path=\"url(#clip810)\" d=\"M18.2347 528.12 L28.3562 528.12 L28.3562 516.057 L32.9077 516.057 L32.9077 528.12 L52.2594 528.12 Q56.6199 528.12 57.8613 526.942 Q59.1026 525.732 59.1026 522.072 L59.1026 516.057 L64.0042 516.057 L64.0042 522.072 Q64.0042 528.852 61.4897 531.43 Q58.9434 534.008 52.2594 534.008 L32.9077 534.008 L32.9077 538.305 L28.3562 538.305 L28.3562 534.008 L18.2347 534.008 L18.2347 528.12 Z\" fill=\"#000000\" fill-rule=\"evenodd\" fill-opacity=\"1\" /><path clip-path=\"url(#clip810)\" d=\"M28.3562 508.354 L28.3562 502.498 L64.0042 502.498 L64.0042 508.354 L28.3562 508.354 M14.479 508.354 L14.479 502.498 L21.895 502.498 L21.895 508.354 L14.479 508.354 Z\" fill=\"#000000\" fill-rule=\"evenodd\" fill-opacity=\"1\" /><path clip-path=\"url(#clip810)\" d=\"M32.4621 476.43 Q32.4621 481.141 36.1542 483.878 Q39.8145 486.615 46.212 486.615 Q52.6095 486.615 56.3017 483.91 Q59.9619 481.173 59.9619 476.43 Q59.9619 471.751 56.2698 469.014 Q52.5777 466.277 46.212 466.277 Q39.8781 466.277 36.186 469.014 Q32.4621 471.751 32.4621 476.43 M27.4968 476.43 Q27.4968 468.791 32.4621 464.431 Q37.4273 460.07 46.212 460.07 Q54.9649 460.07 59.9619 464.431 Q64.9272 468.791 64.9272 476.43 Q64.9272 484.101 59.9619 488.461 Q54.9649 492.79 46.212 492.79 Q37.4273 492.79 32.4621 488.461 Q27.4968 484.101 27.4968 476.43 Z\" fill=\"#000000\" fill-rule=\"evenodd\" fill-opacity=\"1\" /><path clip-path=\"url(#clip810)\" d=\"M42.4881 420.73 L64.0042 420.73 L64.0042 426.587 L42.679 426.587 Q37.6183 426.587 35.1038 428.56 Q32.5894 430.533 32.5894 434.48 Q32.5894 439.223 35.6131 441.96 Q38.6368 444.697 43.8567 444.697 L64.0042 444.697 L64.0042 450.585 L28.3562 450.585 L28.3562 444.697 L33.8944 444.697 Q30.6797 442.596 29.0883 439.764 Q27.4968 436.899 27.4968 433.175 Q27.4968 427.032 31.3163 423.881 Q35.1038 420.73 42.4881 420.73 Z\" fill=\"#000000\" fill-rule=\"evenodd\" fill-opacity=\"1\" /><polyline clip-path=\"url(#clip812)\" style=\"stroke:#009af9; stroke-linecap:butt; stroke-linejoin:round; stroke-width:4; stroke-opacity:1; fill:none\" points=\"\n",
       "  311.028,105.753 336.442,98.2195 361.855,86.1857 387.269,141.939 412.682,195.713 438.096,277.305 463.51,312.229 488.923,361.588 514.337,373.459 539.75,417.282 \n",
       "  565.164,437.43 590.578,471.54 615.991,494.696 641.405,522.461 666.818,545.632 692.232,569.891 717.645,592.169 743.059,614.436 768.473,635.748 793.886,656.79 \n",
       "  819.3,677.299 844.713,697.528 870.127,717.419 895.541,737.072 920.954,756.486 946.368,775.701 971.781,794.722 997.195,813.561 1022.61,832.211 1048.02,850.66 \n",
       "  1073.44,868.882 1098.85,886.839 1124.26,904.478 1149.68,921.73 1175.09,938.517 1200.5,954.751 1225.92,970.347 1251.33,985.233 1276.74,999.363 1302.16,1012.72 \n",
       "  1327.57,1025.35 1352.99,1037.29 1378.4,1048.63 1403.81,1059.47 1429.23,1069.89 1454.64,1079.99 1480.05,1089.85 1505.47,1099.51 1530.88,1109.02 1556.29,1118.44 \n",
       "  1581.71,1127.77 1607.12,1137.05 1632.53,1146.29 1657.95,1155.5 1683.36,1164.68 1708.78,1173.86 1734.19,1183.02 1759.6,1192.18 1785.02,1201.33 1810.43,1210.48 \n",
       "  1835.84,1219.63 1861.26,1228.77 1886.67,1237.92 1912.08,1247.06 1937.5,1256.21 1962.91,1265.35 1988.33,1274.49 2013.74,1283.64 2039.15,1292.78 2064.57,1301.93 \n",
       "  2089.98,1311.07 2115.39,1320.22 2140.81,1329.36 2166.22,1338.51 2191.63,1347.65 2217.05,1356.8 2242.46,1365.95 2267.87,1375.09 2293.29,1384.24 \n",
       "  \"/>\n",
       "<polyline clip-path=\"url(#clip812)\" style=\"stroke:#e26f46; stroke-linecap:butt; stroke-linejoin:round; stroke-width:4; stroke-opacity:1; fill:none\" points=\"\n",
       "  311.028,105.753 336.442,98.2195 361.855,225.326 387.269,229.312 412.682,230.572 438.096,239.004 463.51,316.042 488.923,362.708 514.337,430.981 539.75,851.352 \n",
       "  565.164,1217.09 \n",
       "  \"/>\n",
       "<path clip-path=\"url(#clip810)\" d=\"\n",
       "M1714.6 248.629 L2282.72 248.629 L2282.72 93.1086 L1714.6 93.1086  Z\n",
       "  \" fill=\"#ffffff\" fill-rule=\"evenodd\" fill-opacity=\"1\"/>\n",
       "<polyline clip-path=\"url(#clip810)\" style=\"stroke:#000000; stroke-linecap:butt; stroke-linejoin:round; stroke-width:4; stroke-opacity:1; fill:none\" points=\"\n",
       "  1714.6,248.629 2282.72,248.629 2282.72,93.1086 1714.6,93.1086 1714.6,248.629 \n",
       "  \"/>\n",
       "<polyline clip-path=\"url(#clip810)\" style=\"stroke:#009af9; stroke-linecap:butt; stroke-linejoin:round; stroke-width:4; stroke-opacity:1; fill:none\" points=\"\n",
       "  1737.95,144.949 1878.03,144.949 \n",
       "  \"/>\n",
       "<path clip-path=\"url(#clip810)\" d=\"M1926.93 157.298 L1926.93 148.016 L1919.29 148.016 L1919.29 144.173 L1931.56 144.173 L1931.56 159.011 Q1928.85 160.932 1925.58 161.928 Q1922.32 162.9 1918.62 162.9 Q1910.52 162.9 1905.93 158.178 Q1901.37 153.432 1901.37 144.983 Q1901.37 136.511 1905.93 131.789 Q1910.52 127.044 1918.62 127.044 Q1922 127.044 1925.03 127.877 Q1928.08 128.71 1930.65 130.331 L1930.65 135.307 Q1928.06 133.108 1925.14 131.997 Q1922.23 130.886 1919.01 130.886 Q1912.67 130.886 1909.47 134.428 Q1906.3 137.969 1906.3 144.983 Q1906.3 151.974 1909.47 155.516 Q1912.67 159.057 1919.01 159.057 Q1921.49 159.057 1923.43 158.641 Q1925.38 158.201 1926.93 157.298 Z\" fill=\"#000000\" fill-rule=\"evenodd\" fill-opacity=\"1\" /><path clip-path=\"url(#clip810)\" d=\"M1951.7 149.196 Q1946.53 149.196 1944.54 150.377 Q1942.55 151.557 1942.55 154.405 Q1942.55 156.673 1944.03 158.016 Q1945.54 159.335 1948.11 159.335 Q1951.65 159.335 1953.78 156.835 Q1955.93 154.312 1955.93 150.145 L1955.93 149.196 L1951.7 149.196 M1960.19 147.437 L1960.19 162.229 L1955.93 162.229 L1955.93 158.293 Q1954.47 160.655 1952.3 161.789 Q1950.12 162.9 1946.97 162.9 Q1942.99 162.9 1940.63 160.678 Q1938.29 158.432 1938.29 154.682 Q1938.29 150.307 1941.21 148.085 Q1944.15 145.863 1949.96 145.863 L1955.93 145.863 L1955.93 145.446 Q1955.93 142.507 1953.99 140.909 Q1952.07 139.289 1948.57 139.289 Q1946.35 139.289 1944.24 139.821 Q1942.14 140.354 1940.19 141.419 L1940.19 137.483 Q1942.53 136.581 1944.73 136.141 Q1946.93 135.678 1949.01 135.678 Q1954.64 135.678 1957.41 138.594 Q1960.19 141.511 1960.19 147.437 Z\" fill=\"#000000\" fill-rule=\"evenodd\" fill-opacity=\"1\" /><path clip-path=\"url(#clip810)\" d=\"M1968.52 151.997 L1968.52 136.303 L1972.78 136.303 L1972.78 151.835 Q1972.78 155.516 1974.22 157.368 Q1975.65 159.196 1978.52 159.196 Q1981.97 159.196 1983.96 156.997 Q1985.98 154.798 1985.98 151.002 L1985.98 136.303 L1990.24 136.303 L1990.24 162.229 L1985.98 162.229 L1985.98 158.247 Q1984.43 160.608 1982.37 161.766 Q1980.33 162.9 1977.62 162.9 Q1973.15 162.9 1970.84 160.122 Q1968.52 157.344 1968.52 151.997 M1979.24 135.678 L1979.24 135.678 Z\" fill=\"#000000\" fill-rule=\"evenodd\" fill-opacity=\"1\" /><path clip-path=\"url(#clip810)\" d=\"M2015.54 137.067 L2015.54 141.094 Q2013.73 140.169 2011.79 139.706 Q2009.84 139.243 2007.76 139.243 Q2004.59 139.243 2002.99 140.215 Q2001.42 141.187 2001.42 143.131 Q2001.42 144.613 2002.55 145.469 Q2003.69 146.303 2007.11 147.067 L2008.57 147.391 Q2013.11 148.363 2015.01 150.145 Q2016.93 151.905 2016.93 155.076 Q2016.93 158.687 2014.06 160.793 Q2011.21 162.9 2006.21 162.9 Q2004.13 162.9 2001.86 162.483 Q1999.61 162.09 1997.11 161.28 L1997.11 156.881 Q1999.47 158.108 2001.76 158.733 Q2004.06 159.335 2006.3 159.335 Q2009.31 159.335 2010.93 158.317 Q2012.55 157.275 2012.55 155.4 Q2012.55 153.664 2011.37 152.738 Q2010.21 151.812 2006.26 150.956 L2004.77 150.608 Q2000.82 149.775 1999.06 148.062 Q1997.3 146.326 1997.3 143.317 Q1997.3 139.659 1999.89 137.669 Q2002.48 135.678 2007.25 135.678 Q2009.61 135.678 2011.7 136.025 Q2013.78 136.372 2015.54 137.067 Z\" fill=\"#000000\" fill-rule=\"evenodd\" fill-opacity=\"1\" /><path clip-path=\"url(#clip810)\" d=\"M2040.24 137.067 L2040.24 141.094 Q2038.43 140.169 2036.49 139.706 Q2034.54 139.243 2032.46 139.243 Q2029.29 139.243 2027.69 140.215 Q2026.12 141.187 2026.12 143.131 Q2026.12 144.613 2027.25 145.469 Q2028.39 146.303 2031.81 147.067 L2033.27 147.391 Q2037.81 148.363 2039.7 150.145 Q2041.63 151.905 2041.63 155.076 Q2041.63 158.687 2038.76 160.793 Q2035.91 162.9 2030.91 162.9 Q2028.82 162.9 2026.56 162.483 Q2024.31 162.09 2021.81 161.28 L2021.81 156.881 Q2024.17 158.108 2026.46 158.733 Q2028.76 159.335 2031 159.335 Q2034.01 159.335 2035.63 158.317 Q2037.25 157.275 2037.25 155.4 Q2037.25 153.664 2036.07 152.738 Q2034.91 151.812 2030.95 150.956 L2029.47 150.608 Q2025.51 149.775 2023.76 148.062 Q2022 146.326 2022 143.317 Q2022 139.659 2024.59 137.669 Q2027.18 135.678 2031.95 135.678 Q2034.31 135.678 2036.39 136.025 Q2038.48 136.372 2040.24 137.067 Z\" fill=\"#000000\" fill-rule=\"evenodd\" fill-opacity=\"1\" /><path clip-path=\"url(#clip810)\" d=\"M2063.66 127.669 L2069.96 127.669 L2085.28 156.581 L2085.28 127.669 L2089.82 127.669 L2089.82 162.229 L2083.52 162.229 L2068.2 133.317 L2068.2 162.229 L2063.66 162.229 L2063.66 127.669 Z\" fill=\"#000000\" fill-rule=\"evenodd\" fill-opacity=\"1\" /><path clip-path=\"url(#clip810)\" d=\"M2121.12 148.201 L2121.12 150.284 L2101.53 150.284 Q2101.81 154.682 2104.17 156.997 Q2106.56 159.289 2110.79 159.289 Q2113.25 159.289 2115.54 158.687 Q2117.85 158.085 2120.12 156.881 L2120.12 160.909 Q2117.83 161.881 2115.42 162.391 Q2113.01 162.9 2110.54 162.9 Q2104.33 162.9 2100.7 159.289 Q2097.09 155.678 2097.09 149.52 Q2097.09 143.155 2100.51 139.428 Q2103.96 135.678 2109.8 135.678 Q2115.03 135.678 2118.06 139.057 Q2121.12 142.414 2121.12 148.201 M2116.86 146.951 Q2116.81 143.456 2114.89 141.372 Q2112.99 139.289 2109.84 139.289 Q2106.28 139.289 2104.13 141.303 Q2102 143.317 2101.67 146.974 L2116.86 146.951 Z\" fill=\"#000000\" fill-rule=\"evenodd\" fill-opacity=\"1\" /><path clip-path=\"url(#clip810)\" d=\"M2125.63 136.303 L2129.89 136.303 L2135.21 156.534 L2140.51 136.303 L2145.54 136.303 L2150.86 156.534 L2156.16 136.303 L2160.42 136.303 L2153.64 162.229 L2148.62 162.229 L2143.04 140.979 L2137.44 162.229 L2132.41 162.229 L2125.63 136.303 Z\" fill=\"#000000\" fill-rule=\"evenodd\" fill-opacity=\"1\" /><path clip-path=\"url(#clip810)\" d=\"M2171.09 128.942 L2171.09 136.303 L2179.87 136.303 L2179.87 139.613 L2171.09 139.613 L2171.09 153.687 Q2171.09 156.858 2171.95 157.761 Q2172.83 158.664 2175.49 158.664 L2179.87 158.664 L2179.87 162.229 L2175.49 162.229 Q2170.56 162.229 2168.69 160.4 Q2166.81 158.548 2166.81 153.687 L2166.81 139.613 L2163.69 139.613 L2163.69 136.303 L2166.81 136.303 L2166.81 128.942 L2171.09 128.942 Z\" fill=\"#000000\" fill-rule=\"evenodd\" fill-opacity=\"1\" /><path clip-path=\"url(#clip810)\" d=\"M2195.51 139.289 Q2192.09 139.289 2190.1 141.974 Q2188.11 144.636 2188.11 149.289 Q2188.11 153.942 2190.07 156.627 Q2192.06 159.289 2195.51 159.289 Q2198.92 159.289 2200.91 156.604 Q2202.9 153.918 2202.9 149.289 Q2202.9 144.682 2200.91 141.997 Q2198.92 139.289 2195.51 139.289 M2195.51 135.678 Q2201.07 135.678 2204.24 139.289 Q2207.41 142.9 2207.41 149.289 Q2207.41 155.655 2204.24 159.289 Q2201.07 162.9 2195.51 162.9 Q2189.94 162.9 2186.76 159.289 Q2183.62 155.655 2183.62 149.289 Q2183.62 142.9 2186.76 139.289 Q2189.94 135.678 2195.51 135.678 Z\" fill=\"#000000\" fill-rule=\"evenodd\" fill-opacity=\"1\" /><path clip-path=\"url(#clip810)\" d=\"M2236.02 146.581 L2236.02 162.229 L2231.76 162.229 L2231.76 146.719 Q2231.76 143.039 2230.33 141.21 Q2228.89 139.382 2226.02 139.382 Q2222.57 139.382 2220.58 141.581 Q2218.59 143.78 2218.59 147.576 L2218.59 162.229 L2214.31 162.229 L2214.31 136.303 L2218.59 136.303 L2218.59 140.331 Q2220.12 137.993 2222.18 136.835 Q2224.26 135.678 2226.97 135.678 Q2231.44 135.678 2233.73 138.456 Q2236.02 141.21 2236.02 146.581 Z\" fill=\"#000000\" fill-rule=\"evenodd\" fill-opacity=\"1\" /><polyline clip-path=\"url(#clip810)\" style=\"stroke:#e26f46; stroke-linecap:butt; stroke-linejoin:round; stroke-width:4; stroke-opacity:1; fill:none\" points=\"\n",
       "  1737.95,196.789 1878.03,196.789 \n",
       "  \"/>\n",
       "<path clip-path=\"url(#clip810)\" d=\"M1901.37 179.509 L1921.23 179.509 L1921.23 183.444 L1906.05 183.444 L1906.05 193.629 L1919.75 193.629 L1919.75 197.564 L1906.05 197.564 L1906.05 214.069 L1901.37 214.069 L1901.37 179.509 Z\" fill=\"#000000\" fill-rule=\"evenodd\" fill-opacity=\"1\" /><path clip-path=\"url(#clip810)\" d=\"M1925.42 203.837 L1925.42 188.143 L1929.68 188.143 L1929.68 203.675 Q1929.68 207.356 1931.12 209.208 Q1932.55 211.036 1935.42 211.036 Q1938.87 211.036 1940.86 208.837 Q1942.88 206.638 1942.88 202.842 L1942.88 188.143 L1947.14 188.143 L1947.14 214.069 L1942.88 214.069 L1942.88 210.087 Q1941.33 212.448 1939.27 213.606 Q1937.23 214.74 1934.52 214.74 Q1930.05 214.74 1927.74 211.962 Q1925.42 209.184 1925.42 203.837 M1936.14 187.518 L1936.14 187.518 Z\" fill=\"#000000\" fill-rule=\"evenodd\" fill-opacity=\"1\" /><path clip-path=\"url(#clip810)\" d=\"M1955.91 178.05 L1960.17 178.05 L1960.17 214.069 L1955.91 214.069 L1955.91 178.05 Z\" fill=\"#000000\" fill-rule=\"evenodd\" fill-opacity=\"1\" /><path clip-path=\"url(#clip810)\" d=\"M1969.08 178.05 L1973.34 178.05 L1973.34 214.069 L1969.08 214.069 L1969.08 178.05 Z\" fill=\"#000000\" fill-rule=\"evenodd\" fill-opacity=\"1\" /><path clip-path=\"url(#clip810)\" d=\"M1997.51 179.509 L2003.8 179.509 L2019.13 208.421 L2019.13 179.509 L2023.66 179.509 L2023.66 214.069 L2017.37 214.069 L2002.04 185.157 L2002.04 214.069 L1997.51 214.069 L1997.51 179.509 Z\" fill=\"#000000\" fill-rule=\"evenodd\" fill-opacity=\"1\" /><path clip-path=\"url(#clip810)\" d=\"M2054.96 200.041 L2054.96 202.124 L2035.38 202.124 Q2035.65 206.522 2038.01 208.837 Q2040.4 211.129 2044.63 211.129 Q2047.09 211.129 2049.38 210.527 Q2051.7 209.925 2053.96 208.721 L2053.96 212.749 Q2051.67 213.721 2049.26 214.231 Q2046.86 214.74 2044.38 214.74 Q2038.18 214.74 2034.54 211.129 Q2030.93 207.518 2030.93 201.36 Q2030.93 194.995 2034.36 191.268 Q2037.81 187.518 2043.64 187.518 Q2048.87 187.518 2051.9 190.897 Q2054.96 194.254 2054.96 200.041 M2050.7 198.791 Q2050.65 195.296 2048.73 193.212 Q2046.83 191.129 2043.69 191.129 Q2040.12 191.129 2037.97 193.143 Q2035.84 195.157 2035.51 198.814 L2050.7 198.791 Z\" fill=\"#000000\" fill-rule=\"evenodd\" fill-opacity=\"1\" /><path clip-path=\"url(#clip810)\" d=\"M2059.47 188.143 L2063.73 188.143 L2069.06 208.374 L2074.36 188.143 L2079.38 188.143 L2084.7 208.374 L2090.01 188.143 L2094.26 188.143 L2087.48 214.069 L2082.46 214.069 L2076.88 192.819 L2071.28 214.069 L2066.26 214.069 L2059.47 188.143 Z\" fill=\"#000000\" fill-rule=\"evenodd\" fill-opacity=\"1\" /><path clip-path=\"url(#clip810)\" d=\"M2104.94 180.782 L2104.94 188.143 L2113.71 188.143 L2113.71 191.453 L2104.94 191.453 L2104.94 205.527 Q2104.94 208.698 2105.79 209.601 Q2106.67 210.504 2109.33 210.504 L2113.71 210.504 L2113.71 214.069 L2109.33 214.069 Q2104.4 214.069 2102.53 212.24 Q2100.65 210.388 2100.65 205.527 L2100.65 191.453 L2097.53 191.453 L2097.53 188.143 L2100.65 188.143 L2100.65 180.782 L2104.94 180.782 Z\" fill=\"#000000\" fill-rule=\"evenodd\" fill-opacity=\"1\" /><path clip-path=\"url(#clip810)\" d=\"M2129.36 191.129 Q2125.93 191.129 2123.94 193.814 Q2121.95 196.476 2121.95 201.129 Q2121.95 205.782 2123.92 208.467 Q2125.91 211.129 2129.36 211.129 Q2132.76 211.129 2134.75 208.444 Q2136.74 205.758 2136.74 201.129 Q2136.74 196.522 2134.75 193.837 Q2132.76 191.129 2129.36 191.129 M2129.36 187.518 Q2134.91 187.518 2138.08 191.129 Q2141.25 194.74 2141.25 201.129 Q2141.25 207.495 2138.08 211.129 Q2134.91 214.74 2129.36 214.74 Q2123.78 214.74 2120.61 211.129 Q2117.46 207.495 2117.46 201.129 Q2117.46 194.74 2120.61 191.129 Q2123.78 187.518 2129.36 187.518 Z\" fill=\"#000000\" fill-rule=\"evenodd\" fill-opacity=\"1\" /><path clip-path=\"url(#clip810)\" d=\"M2169.87 198.421 L2169.87 214.069 L2165.61 214.069 L2165.61 198.559 Q2165.61 194.879 2164.17 193.05 Q2162.74 191.222 2159.87 191.222 Q2156.42 191.222 2154.43 193.421 Q2152.44 195.62 2152.44 199.416 L2152.44 214.069 L2148.15 214.069 L2148.15 188.143 L2152.44 188.143 L2152.44 192.171 Q2153.96 189.833 2156.02 188.675 Q2158.11 187.518 2160.81 187.518 Q2165.28 187.518 2167.57 190.296 Q2169.87 193.05 2169.87 198.421 Z\" fill=\"#000000\" fill-rule=\"evenodd\" fill-opacity=\"1\" /></svg>\n"
      ]
     },
     "execution_count": 31,
     "metadata": {},
     "output_type": "execute_result"
    }
   ],
   "source": [
    "# TASK: Plot constraint violation vs iterations\n",
    "plot(stats_gn[:viol_primal], label=\"Gauss Newton\",\n",
    "    yscale=:log10, xlabel=\"iterations\", ylabel=\"Constraint violation\", legend=:topright\n",
    ")\n",
    "plot!(stats_fn[:viol_primal], label=\"Full Newton\")"
   ]
  },
  {
   "cell_type": "code",
   "execution_count": 32,
   "metadata": {},
   "outputs": [
    {
     "data": {
      "image/svg+xml": [
       "<?xml version=\"1.0\" encoding=\"utf-8\"?>\n",
       "<svg xmlns=\"http://www.w3.org/2000/svg\" xmlns:xlink=\"http://www.w3.org/1999/xlink\" width=\"600\" height=\"400\" viewBox=\"0 0 2400 1600\">\n",
       "<defs>\n",
       "  <clipPath id=\"clip850\">\n",
       "    <rect x=\"0\" y=\"0\" width=\"2400\" height=\"1600\"/>\n",
       "  </clipPath>\n",
       "</defs>\n",
       "<path clip-path=\"url(#clip850)\" d=\"\n",
       "M0 1600 L2400 1600 L2400 0 L0 0  Z\n",
       "  \" fill=\"#ffffff\" fill-rule=\"evenodd\" fill-opacity=\"1\"/>\n",
       "<defs>\n",
       "  <clipPath id=\"clip851\">\n",
       "    <rect x=\"480\" y=\"0\" width=\"1681\" height=\"1600\"/>\n",
       "  </clipPath>\n",
       "</defs>\n",
       "<path clip-path=\"url(#clip850)\" d=\"\n",
       "M251.56 1423.18 L2352.76 1423.18 L2352.76 47.2441 L251.56 47.2441  Z\n",
       "  \" fill=\"#ffffff\" fill-rule=\"evenodd\" fill-opacity=\"1\"/>\n",
       "<defs>\n",
       "  <clipPath id=\"clip852\">\n",
       "    <rect x=\"251\" y=\"47\" width=\"2102\" height=\"1377\"/>\n",
       "  </clipPath>\n",
       "</defs>\n",
       "<polyline clip-path=\"url(#clip852)\" style=\"stroke:#000000; stroke-linecap:butt; stroke-linejoin:round; stroke-width:2; stroke-opacity:0.1; fill:none\" points=\"\n",
       "  273.586,1423.18 273.586,47.2441 \n",
       "  \"/>\n",
       "<polyline clip-path=\"url(#clip852)\" style=\"stroke:#000000; stroke-linecap:butt; stroke-linejoin:round; stroke-width:2; stroke-opacity:0.1; fill:none\" points=\"\n",
       "  575.08,1423.18 575.08,47.2441 \n",
       "  \"/>\n",
       "<polyline clip-path=\"url(#clip852)\" style=\"stroke:#000000; stroke-linecap:butt; stroke-linejoin:round; stroke-width:2; stroke-opacity:0.1; fill:none\" points=\"\n",
       "  876.575,1423.18 876.575,47.2441 \n",
       "  \"/>\n",
       "<polyline clip-path=\"url(#clip852)\" style=\"stroke:#000000; stroke-linecap:butt; stroke-linejoin:round; stroke-width:2; stroke-opacity:0.1; fill:none\" points=\"\n",
       "  1178.07,1423.18 1178.07,47.2441 \n",
       "  \"/>\n",
       "<polyline clip-path=\"url(#clip852)\" style=\"stroke:#000000; stroke-linecap:butt; stroke-linejoin:round; stroke-width:2; stroke-opacity:0.1; fill:none\" points=\"\n",
       "  1479.56,1423.18 1479.56,47.2441 \n",
       "  \"/>\n",
       "<polyline clip-path=\"url(#clip852)\" style=\"stroke:#000000; stroke-linecap:butt; stroke-linejoin:round; stroke-width:2; stroke-opacity:0.1; fill:none\" points=\"\n",
       "  1781.06,1423.18 1781.06,47.2441 \n",
       "  \"/>\n",
       "<polyline clip-path=\"url(#clip852)\" style=\"stroke:#000000; stroke-linecap:butt; stroke-linejoin:round; stroke-width:2; stroke-opacity:0.1; fill:none\" points=\"\n",
       "  2082.55,1423.18 2082.55,47.2441 \n",
       "  \"/>\n",
       "<polyline clip-path=\"url(#clip850)\" style=\"stroke:#000000; stroke-linecap:butt; stroke-linejoin:round; stroke-width:4; stroke-opacity:1; fill:none\" points=\"\n",
       "  251.56,1423.18 2352.76,1423.18 \n",
       "  \"/>\n",
       "<polyline clip-path=\"url(#clip850)\" style=\"stroke:#000000; stroke-linecap:butt; stroke-linejoin:round; stroke-width:4; stroke-opacity:1; fill:none\" points=\"\n",
       "  273.586,1423.18 273.586,1404.28 \n",
       "  \"/>\n",
       "<polyline clip-path=\"url(#clip850)\" style=\"stroke:#000000; stroke-linecap:butt; stroke-linejoin:round; stroke-width:4; stroke-opacity:1; fill:none\" points=\"\n",
       "  575.08,1423.18 575.08,1404.28 \n",
       "  \"/>\n",
       "<polyline clip-path=\"url(#clip850)\" style=\"stroke:#000000; stroke-linecap:butt; stroke-linejoin:round; stroke-width:4; stroke-opacity:1; fill:none\" points=\"\n",
       "  876.575,1423.18 876.575,1404.28 \n",
       "  \"/>\n",
       "<polyline clip-path=\"url(#clip850)\" style=\"stroke:#000000; stroke-linecap:butt; stroke-linejoin:round; stroke-width:4; stroke-opacity:1; fill:none\" points=\"\n",
       "  1178.07,1423.18 1178.07,1404.28 \n",
       "  \"/>\n",
       "<polyline clip-path=\"url(#clip850)\" style=\"stroke:#000000; stroke-linecap:butt; stroke-linejoin:round; stroke-width:4; stroke-opacity:1; fill:none\" points=\"\n",
       "  1479.56,1423.18 1479.56,1404.28 \n",
       "  \"/>\n",
       "<polyline clip-path=\"url(#clip850)\" style=\"stroke:#000000; stroke-linecap:butt; stroke-linejoin:round; stroke-width:4; stroke-opacity:1; fill:none\" points=\"\n",
       "  1781.06,1423.18 1781.06,1404.28 \n",
       "  \"/>\n",
       "<polyline clip-path=\"url(#clip850)\" style=\"stroke:#000000; stroke-linecap:butt; stroke-linejoin:round; stroke-width:4; stroke-opacity:1; fill:none\" points=\"\n",
       "  2082.55,1423.18 2082.55,1404.28 \n",
       "  \"/>\n",
       "<path clip-path=\"url(#clip850)\" d=\"M273.586 1454.1 Q269.975 1454.1 268.146 1457.66 Q266.34 1461.2 266.34 1468.33 Q266.34 1475.44 268.146 1479.01 Q269.975 1482.55 273.586 1482.55 Q277.22 1482.55 279.025 1479.01 Q280.854 1475.44 280.854 1468.33 Q280.854 1461.2 279.025 1457.66 Q277.22 1454.1 273.586 1454.1 M273.586 1450.39 Q279.396 1450.39 282.451 1455 Q285.53 1459.58 285.53 1468.33 Q285.53 1477.06 282.451 1481.67 Q279.396 1486.25 273.586 1486.25 Q267.775 1486.25 264.697 1481.67 Q261.641 1477.06 261.641 1468.33 Q261.641 1459.58 264.697 1455 Q267.775 1450.39 273.586 1450.39 Z\" fill=\"#000000\" fill-rule=\"evenodd\" fill-opacity=\"1\" /><path clip-path=\"url(#clip850)\" d=\"M553.854 1481.64 L570.173 1481.64 L570.173 1485.58 L548.229 1485.58 L548.229 1481.64 Q550.891 1478.89 555.474 1474.26 Q560.08 1469.61 561.261 1468.27 Q563.506 1465.74 564.386 1464.01 Q565.289 1462.25 565.289 1460.56 Q565.289 1457.8 563.344 1456.07 Q561.423 1454.33 558.321 1454.33 Q556.122 1454.33 553.668 1455.09 Q551.238 1455.86 548.46 1457.41 L548.46 1452.69 Q551.284 1451.55 553.738 1450.97 Q556.192 1450.39 558.229 1450.39 Q563.599 1450.39 566.793 1453.08 Q569.988 1455.77 569.988 1460.26 Q569.988 1462.39 569.178 1464.31 Q568.391 1466.2 566.284 1468.8 Q565.705 1469.47 562.604 1472.69 Q559.502 1475.88 553.854 1481.64 Z\" fill=\"#000000\" fill-rule=\"evenodd\" fill-opacity=\"1\" /><path clip-path=\"url(#clip850)\" d=\"M589.988 1454.1 Q586.377 1454.1 584.548 1457.66 Q582.742 1461.2 582.742 1468.33 Q582.742 1475.44 584.548 1479.01 Q586.377 1482.55 589.988 1482.55 Q593.622 1482.55 595.428 1479.01 Q597.256 1475.44 597.256 1468.33 Q597.256 1461.2 595.428 1457.66 Q593.622 1454.1 589.988 1454.1 M589.988 1450.39 Q595.798 1450.39 598.853 1455 Q601.932 1459.58 601.932 1468.33 Q601.932 1477.06 598.853 1481.67 Q595.798 1486.25 589.988 1486.25 Q584.178 1486.25 581.099 1481.67 Q578.043 1477.06 578.043 1468.33 Q578.043 1459.58 581.099 1455 Q584.178 1450.39 589.988 1450.39 Z\" fill=\"#000000\" fill-rule=\"evenodd\" fill-opacity=\"1\" /><path clip-path=\"url(#clip850)\" d=\"M864.747 1455.09 L852.941 1473.54 L864.747 1473.54 L864.747 1455.09 M863.52 1451.02 L869.399 1451.02 L869.399 1473.54 L874.33 1473.54 L874.33 1477.43 L869.399 1477.43 L869.399 1485.58 L864.747 1485.58 L864.747 1477.43 L849.145 1477.43 L849.145 1472.92 L863.52 1451.02 Z\" fill=\"#000000\" fill-rule=\"evenodd\" fill-opacity=\"1\" /><path clip-path=\"url(#clip850)\" d=\"M892.061 1454.1 Q888.45 1454.1 886.621 1457.66 Q884.816 1461.2 884.816 1468.33 Q884.816 1475.44 886.621 1479.01 Q888.45 1482.55 892.061 1482.55 Q895.695 1482.55 897.501 1479.01 Q899.33 1475.44 899.33 1468.33 Q899.33 1461.2 897.501 1457.66 Q895.695 1454.1 892.061 1454.1 M892.061 1450.39 Q897.871 1450.39 900.927 1455 Q904.006 1459.58 904.006 1468.33 Q904.006 1477.06 900.927 1481.67 Q897.871 1486.25 892.061 1486.25 Q886.251 1486.25 883.172 1481.67 Q880.117 1477.06 880.117 1468.33 Q880.117 1459.58 883.172 1455 Q886.251 1450.39 892.061 1450.39 Z\" fill=\"#000000\" fill-rule=\"evenodd\" fill-opacity=\"1\" /><path clip-path=\"url(#clip850)\" d=\"M1163.48 1466.44 Q1160.33 1466.44 1158.48 1468.59 Q1156.65 1470.74 1156.65 1474.49 Q1156.65 1478.22 1158.48 1480.39 Q1160.33 1482.55 1163.48 1482.55 Q1166.62 1482.55 1168.45 1480.39 Q1170.3 1478.22 1170.3 1474.49 Q1170.3 1470.74 1168.45 1468.59 Q1166.62 1466.44 1163.48 1466.44 M1172.76 1451.78 L1172.76 1456.04 Q1171 1455.21 1169.19 1454.77 Q1167.41 1454.33 1165.65 1454.33 Q1161.02 1454.33 1158.57 1457.45 Q1156.14 1460.58 1155.79 1466.9 Q1157.16 1464.89 1159.22 1463.82 Q1161.28 1462.73 1163.75 1462.73 Q1168.96 1462.73 1171.97 1465.9 Q1175 1469.05 1175 1474.49 Q1175 1479.82 1171.85 1483.03 Q1168.71 1486.25 1163.48 1486.25 Q1157.48 1486.25 1154.31 1481.67 Q1151.14 1477.06 1151.14 1468.33 Q1151.14 1460.14 1155.03 1455.28 Q1158.91 1450.39 1165.47 1450.39 Q1167.23 1450.39 1169.01 1450.74 Q1170.81 1451.09 1172.76 1451.78 Z\" fill=\"#000000\" fill-rule=\"evenodd\" fill-opacity=\"1\" /><path clip-path=\"url(#clip850)\" d=\"M1193.06 1454.1 Q1189.45 1454.1 1187.62 1457.66 Q1185.81 1461.2 1185.81 1468.33 Q1185.81 1475.44 1187.62 1479.01 Q1189.45 1482.55 1193.06 1482.55 Q1196.69 1482.55 1198.5 1479.01 Q1200.33 1475.44 1200.33 1468.33 Q1200.33 1461.2 1198.5 1457.66 Q1196.69 1454.1 1193.06 1454.1 M1193.06 1450.39 Q1198.87 1450.39 1201.92 1455 Q1205 1459.58 1205 1468.33 Q1205 1477.06 1201.92 1481.67 Q1198.87 1486.25 1193.06 1486.25 Q1187.25 1486.25 1184.17 1481.67 Q1181.11 1477.06 1181.11 1468.33 Q1181.11 1459.58 1184.17 1455 Q1187.25 1450.39 1193.06 1450.39 Z\" fill=\"#000000\" fill-rule=\"evenodd\" fill-opacity=\"1\" /><path clip-path=\"url(#clip850)\" d=\"M1464.44 1469.17 Q1461.1 1469.17 1459.18 1470.95 Q1457.28 1472.73 1457.28 1475.86 Q1457.28 1478.98 1459.18 1480.77 Q1461.1 1482.55 1464.44 1482.55 Q1467.77 1482.55 1469.69 1480.77 Q1471.61 1478.96 1471.61 1475.86 Q1471.61 1472.73 1469.69 1470.95 Q1467.79 1469.17 1464.44 1469.17 M1459.76 1467.18 Q1456.75 1466.44 1455.06 1464.38 Q1453.4 1462.32 1453.4 1459.35 Q1453.4 1455.21 1456.34 1452.8 Q1459.3 1450.39 1464.44 1450.39 Q1469.6 1450.39 1472.54 1452.8 Q1475.48 1455.21 1475.48 1459.35 Q1475.48 1462.32 1473.79 1464.38 Q1472.12 1466.44 1469.14 1467.18 Q1472.52 1467.96 1474.39 1470.26 Q1476.29 1472.55 1476.29 1475.86 Q1476.29 1480.88 1473.21 1483.57 Q1470.16 1486.25 1464.44 1486.25 Q1458.72 1486.25 1455.64 1483.57 Q1452.59 1480.88 1452.59 1475.86 Q1452.59 1472.55 1454.48 1470.26 Q1456.38 1467.96 1459.76 1467.18 M1458.05 1459.79 Q1458.05 1462.48 1459.72 1463.98 Q1461.41 1465.49 1464.44 1465.49 Q1467.45 1465.49 1469.14 1463.98 Q1470.85 1462.48 1470.85 1459.79 Q1470.85 1457.11 1469.14 1455.6 Q1467.45 1454.1 1464.44 1454.1 Q1461.41 1454.1 1459.72 1455.6 Q1458.05 1457.11 1458.05 1459.79 Z\" fill=\"#000000\" fill-rule=\"evenodd\" fill-opacity=\"1\" /><path clip-path=\"url(#clip850)\" d=\"M1494.6 1454.1 Q1490.99 1454.1 1489.16 1457.66 Q1487.35 1461.2 1487.35 1468.33 Q1487.35 1475.44 1489.16 1479.01 Q1490.99 1482.55 1494.6 1482.55 Q1498.23 1482.55 1500.04 1479.01 Q1501.87 1475.44 1501.87 1468.33 Q1501.87 1461.2 1500.04 1457.66 Q1498.23 1454.1 1494.6 1454.1 M1494.6 1450.39 Q1500.41 1450.39 1503.47 1455 Q1506.54 1459.58 1506.54 1468.33 Q1506.54 1477.06 1503.47 1481.67 Q1500.41 1486.25 1494.6 1486.25 Q1488.79 1486.25 1485.71 1481.67 Q1482.65 1477.06 1482.65 1468.33 Q1482.65 1459.58 1485.71 1455 Q1488.79 1450.39 1494.6 1450.39 Z\" fill=\"#000000\" fill-rule=\"evenodd\" fill-opacity=\"1\" /><path clip-path=\"url(#clip850)\" d=\"M1740.67 1481.64 L1748.31 1481.64 L1748.31 1455.28 L1739.99 1456.95 L1739.99 1452.69 L1748.26 1451.02 L1752.93 1451.02 L1752.93 1481.64 L1760.57 1481.64 L1760.57 1485.58 L1740.67 1485.58 L1740.67 1481.64 Z\" fill=\"#000000\" fill-rule=\"evenodd\" fill-opacity=\"1\" /><path clip-path=\"url(#clip850)\" d=\"M1780.02 1454.1 Q1776.41 1454.1 1774.58 1457.66 Q1772.77 1461.2 1772.77 1468.33 Q1772.77 1475.44 1774.58 1479.01 Q1776.41 1482.55 1780.02 1482.55 Q1783.65 1482.55 1785.46 1479.01 Q1787.29 1475.44 1787.29 1468.33 Q1787.29 1461.2 1785.46 1457.66 Q1783.65 1454.1 1780.02 1454.1 M1780.02 1450.39 Q1785.83 1450.39 1788.88 1455 Q1791.96 1459.58 1791.96 1468.33 Q1791.96 1477.06 1788.88 1481.67 Q1785.83 1486.25 1780.02 1486.25 Q1774.21 1486.25 1771.13 1481.67 Q1768.07 1477.06 1768.07 1468.33 Q1768.07 1459.58 1771.13 1455 Q1774.21 1450.39 1780.02 1450.39 Z\" fill=\"#000000\" fill-rule=\"evenodd\" fill-opacity=\"1\" /><path clip-path=\"url(#clip850)\" d=\"M1810.18 1454.1 Q1806.57 1454.1 1804.74 1457.66 Q1802.93 1461.2 1802.93 1468.33 Q1802.93 1475.44 1804.74 1479.01 Q1806.57 1482.55 1810.18 1482.55 Q1813.81 1482.55 1815.62 1479.01 Q1817.45 1475.44 1817.45 1468.33 Q1817.45 1461.2 1815.62 1457.66 Q1813.81 1454.1 1810.18 1454.1 M1810.18 1450.39 Q1815.99 1450.39 1819.05 1455 Q1822.12 1459.58 1822.12 1468.33 Q1822.12 1477.06 1819.05 1481.67 Q1815.99 1486.25 1810.18 1486.25 Q1804.37 1486.25 1801.29 1481.67 Q1798.24 1477.06 1798.24 1468.33 Q1798.24 1459.58 1801.29 1455 Q1804.37 1450.39 1810.18 1450.39 Z\" fill=\"#000000\" fill-rule=\"evenodd\" fill-opacity=\"1\" /><path clip-path=\"url(#clip850)\" d=\"M2042.16 1481.64 L2049.8 1481.64 L2049.8 1455.28 L2041.49 1456.95 L2041.49 1452.69 L2049.75 1451.02 L2054.43 1451.02 L2054.43 1481.64 L2062.07 1481.64 L2062.07 1485.58 L2042.16 1485.58 L2042.16 1481.64 Z\" fill=\"#000000\" fill-rule=\"evenodd\" fill-opacity=\"1\" /><path clip-path=\"url(#clip850)\" d=\"M2075.54 1481.64 L2091.86 1481.64 L2091.86 1485.58 L2069.92 1485.58 L2069.92 1481.64 Q2072.58 1478.89 2077.16 1474.26 Q2081.77 1469.61 2082.95 1468.27 Q2085.19 1465.74 2086.07 1464.01 Q2086.98 1462.25 2086.98 1460.56 Q2086.98 1457.8 2085.03 1456.07 Q2083.11 1454.33 2080.01 1454.33 Q2077.81 1454.33 2075.36 1455.09 Q2072.92 1455.86 2070.15 1457.41 L2070.15 1452.69 Q2072.97 1451.55 2075.42 1450.97 Q2077.88 1450.39 2079.92 1450.39 Q2085.29 1450.39 2088.48 1453.08 Q2091.67 1455.77 2091.67 1460.26 Q2091.67 1462.39 2090.86 1464.31 Q2090.08 1466.2 2087.97 1468.8 Q2087.39 1469.47 2084.29 1472.69 Q2081.19 1475.88 2075.54 1481.64 Z\" fill=\"#000000\" fill-rule=\"evenodd\" fill-opacity=\"1\" /><path clip-path=\"url(#clip850)\" d=\"M2111.67 1454.1 Q2108.06 1454.1 2106.23 1457.66 Q2104.43 1461.2 2104.43 1468.33 Q2104.43 1475.44 2106.23 1479.01 Q2108.06 1482.55 2111.67 1482.55 Q2115.31 1482.55 2117.11 1479.01 Q2118.94 1475.44 2118.94 1468.33 Q2118.94 1461.2 2117.11 1457.66 Q2115.31 1454.1 2111.67 1454.1 M2111.67 1450.39 Q2117.48 1450.39 2120.54 1455 Q2123.62 1459.58 2123.62 1468.33 Q2123.62 1477.06 2120.54 1481.67 Q2117.48 1486.25 2111.67 1486.25 Q2105.86 1486.25 2102.79 1481.67 Q2099.73 1477.06 2099.73 1468.33 Q2099.73 1459.58 2102.79 1455 Q2105.86 1450.39 2111.67 1450.39 Z\" fill=\"#000000\" fill-rule=\"evenodd\" fill-opacity=\"1\" /><path clip-path=\"url(#clip850)\" d=\"M1157.86 1522.27 L1157.86 1532.4 L1169.93 1532.4 L1169.93 1536.95 L1157.86 1536.95 L1157.86 1556.3 Q1157.86 1560.66 1159.04 1561.9 Q1160.25 1563.14 1163.91 1563.14 L1169.93 1563.14 L1169.93 1568.04 L1163.91 1568.04 Q1157.13 1568.04 1154.55 1565.53 Q1151.98 1562.98 1151.98 1556.3 L1151.98 1536.95 L1147.68 1536.95 L1147.68 1532.4 L1151.98 1532.4 L1151.98 1522.27 L1157.86 1522.27 Z\" fill=\"#000000\" fill-rule=\"evenodd\" fill-opacity=\"1\" /><path clip-path=\"url(#clip850)\" d=\"M1177.63 1532.4 L1183.49 1532.4 L1183.49 1568.04 L1177.63 1568.04 L1177.63 1532.4 M1177.63 1518.52 L1183.49 1518.52 L1183.49 1525.93 L1177.63 1525.93 L1177.63 1518.52 Z\" fill=\"#000000\" fill-rule=\"evenodd\" fill-opacity=\"1\" /><path clip-path=\"url(#clip850)\" d=\"M1223.49 1539.24 Q1225.69 1535.29 1228.75 1533.41 Q1231.8 1531.54 1235.94 1531.54 Q1241.51 1531.54 1244.53 1535.45 Q1247.56 1539.33 1247.56 1546.53 L1247.56 1568.04 L1241.67 1568.04 L1241.67 1546.72 Q1241.67 1541.59 1239.85 1539.11 Q1238.04 1536.63 1234.32 1536.63 Q1229.76 1536.63 1227.12 1539.65 Q1224.48 1542.68 1224.48 1547.9 L1224.48 1568.04 L1218.59 1568.04 L1218.59 1546.72 Q1218.59 1541.56 1216.78 1539.11 Q1214.96 1536.63 1211.18 1536.63 Q1206.69 1536.63 1204.05 1539.68 Q1201.4 1542.71 1201.4 1547.9 L1201.4 1568.04 L1195.52 1568.04 L1195.52 1532.4 L1201.4 1532.4 L1201.4 1537.93 Q1203.41 1534.66 1206.21 1533.1 Q1209.01 1531.54 1212.86 1531.54 Q1216.75 1531.54 1219.45 1533.51 Q1222.19 1535.48 1223.49 1539.24 Z\" fill=\"#000000\" fill-rule=\"evenodd\" fill-opacity=\"1\" /><path clip-path=\"url(#clip850)\" d=\"M1289.73 1548.76 L1289.73 1551.62 L1262.8 1551.62 Q1263.18 1557.67 1266.43 1560.85 Q1269.71 1564 1275.53 1564 Q1278.91 1564 1282.06 1563.17 Q1285.24 1562.35 1288.36 1560.69 L1288.36 1566.23 Q1285.21 1567.57 1281.9 1568.27 Q1278.59 1568.97 1275.18 1568.97 Q1266.65 1568.97 1261.66 1564 Q1256.69 1559.04 1256.69 1550.57 Q1256.69 1541.82 1261.4 1536.69 Q1266.14 1531.54 1274.16 1531.54 Q1281.36 1531.54 1285.53 1536.18 Q1289.73 1540.8 1289.73 1548.76 M1283.87 1547.04 Q1283.81 1542.23 1281.17 1539.37 Q1278.56 1536.5 1274.23 1536.5 Q1269.33 1536.5 1266.37 1539.27 Q1263.44 1542.04 1262.99 1547.07 L1283.87 1547.04 Z\" fill=\"#000000\" fill-rule=\"evenodd\" fill-opacity=\"1\" /><path clip-path=\"url(#clip850)\" d=\"M1334.13 1518.58 Q1329.86 1525.9 1327.8 1533.06 Q1325.73 1540.23 1325.73 1547.58 Q1325.73 1554.93 1327.8 1562.16 Q1329.9 1569.35 1334.13 1576.64 L1329.04 1576.64 Q1324.26 1569.16 1321.88 1561.93 Q1319.52 1554.71 1319.52 1547.58 Q1319.52 1540.48 1321.88 1533.29 Q1324.23 1526.09 1329.04 1518.58 L1334.13 1518.58 Z\" fill=\"#000000\" fill-rule=\"evenodd\" fill-opacity=\"1\" /><path clip-path=\"url(#clip850)\" d=\"M1373.25 1539.24 Q1375.44 1535.29 1378.5 1533.41 Q1381.55 1531.54 1385.69 1531.54 Q1391.26 1531.54 1394.29 1535.45 Q1397.31 1539.33 1397.31 1546.53 L1397.31 1568.04 L1391.42 1568.04 L1391.42 1546.72 Q1391.42 1541.59 1389.61 1539.11 Q1387.79 1536.63 1384.07 1536.63 Q1379.52 1536.63 1376.88 1539.65 Q1374.23 1542.68 1374.23 1547.9 L1374.23 1568.04 L1368.35 1568.04 L1368.35 1546.72 Q1368.35 1541.56 1366.53 1539.11 Q1364.72 1536.63 1360.93 1536.63 Q1356.44 1536.63 1353.8 1539.68 Q1351.16 1542.71 1351.16 1547.9 L1351.16 1568.04 L1345.27 1568.04 L1345.27 1532.4 L1351.16 1532.4 L1351.16 1537.93 Q1353.16 1534.66 1355.96 1533.1 Q1358.77 1531.54 1362.62 1531.54 Q1366.5 1531.54 1369.2 1533.51 Q1371.94 1535.48 1373.25 1539.24 Z\" fill=\"#000000\" fill-rule=\"evenodd\" fill-opacity=\"1\" /><path clip-path=\"url(#clip850)\" d=\"M1431.72 1533.45 L1431.72 1538.98 Q1429.23 1537.71 1426.56 1537.07 Q1423.89 1536.44 1421.02 1536.44 Q1416.66 1536.44 1414.47 1537.77 Q1412.3 1539.11 1412.3 1541.79 Q1412.3 1543.82 1413.86 1545 Q1415.42 1546.15 1420.13 1547.2 L1422.14 1547.64 Q1428.37 1548.98 1430.98 1551.43 Q1433.63 1553.85 1433.63 1558.21 Q1433.63 1563.17 1429.68 1566.07 Q1425.76 1568.97 1418.89 1568.97 Q1416.02 1568.97 1412.91 1568.39 Q1409.82 1567.85 1406.38 1566.74 L1406.38 1560.69 Q1409.63 1562.38 1412.78 1563.24 Q1415.93 1564.07 1419.02 1564.07 Q1423.15 1564.07 1425.38 1562.66 Q1427.61 1561.23 1427.61 1558.65 Q1427.61 1556.27 1425.99 1554.99 Q1424.4 1553.72 1418.95 1552.54 L1416.92 1552.07 Q1411.47 1550.92 1409.05 1548.56 Q1406.64 1546.18 1406.64 1542.04 Q1406.64 1537.01 1410.2 1534.27 Q1413.76 1531.54 1420.32 1531.54 Q1423.57 1531.54 1426.43 1532.01 Q1429.3 1532.49 1431.72 1533.45 Z\" fill=\"#000000\" fill-rule=\"evenodd\" fill-opacity=\"1\" /><path clip-path=\"url(#clip850)\" d=\"M1442.03 1518.58 L1447.12 1518.58 Q1451.9 1526.09 1454.25 1533.29 Q1456.64 1540.48 1456.64 1547.58 Q1456.64 1554.71 1454.25 1561.93 Q1451.9 1569.16 1447.12 1576.64 L1442.03 1576.64 Q1446.26 1569.35 1448.33 1562.16 Q1450.43 1554.93 1450.43 1547.58 Q1450.43 1540.23 1448.33 1533.06 Q1446.26 1525.9 1442.03 1518.58 Z\" fill=\"#000000\" fill-rule=\"evenodd\" fill-opacity=\"1\" /><polyline clip-path=\"url(#clip852)\" style=\"stroke:#000000; stroke-linecap:butt; stroke-linejoin:round; stroke-width:2; stroke-opacity:0.1; fill:none\" points=\"\n",
       "  251.56,839.452 2352.76,839.452 \n",
       "  \"/>\n",
       "<polyline clip-path=\"url(#clip852)\" style=\"stroke:#000000; stroke-linecap:butt; stroke-linejoin:round; stroke-width:2; stroke-opacity:0.1; fill:none\" points=\"\n",
       "  251.56,168.351 2352.76,168.351 \n",
       "  \"/>\n",
       "<polyline clip-path=\"url(#clip850)\" style=\"stroke:#000000; stroke-linecap:butt; stroke-linejoin:round; stroke-width:4; stroke-opacity:1; fill:none\" points=\"\n",
       "  251.56,1423.18 251.56,47.2441 \n",
       "  \"/>\n",
       "<polyline clip-path=\"url(#clip850)\" style=\"stroke:#000000; stroke-linecap:butt; stroke-linejoin:round; stroke-width:4; stroke-opacity:1; fill:none\" points=\"\n",
       "  251.56,839.452 270.458,839.452 \n",
       "  \"/>\n",
       "<polyline clip-path=\"url(#clip850)\" style=\"stroke:#000000; stroke-linecap:butt; stroke-linejoin:round; stroke-width:4; stroke-opacity:1; fill:none\" points=\"\n",
       "  251.56,168.351 270.458,168.351 \n",
       "  \"/>\n",
       "<path clip-path=\"url(#clip850)\" d=\"M114.931 859.245 L122.57 859.245 L122.57 832.879 L114.26 834.546 L114.26 830.287 L122.524 828.62 L127.2 828.62 L127.2 859.245 L134.839 859.245 L134.839 863.18 L114.931 863.18 L114.931 859.245 Z\" fill=\"#000000\" fill-rule=\"evenodd\" fill-opacity=\"1\" /><path clip-path=\"url(#clip850)\" d=\"M154.283 831.699 Q150.672 831.699 148.843 835.264 Q147.038 838.805 147.038 845.935 Q147.038 853.041 148.843 856.606 Q150.672 860.148 154.283 860.148 Q157.917 860.148 159.723 856.606 Q161.552 853.041 161.552 845.935 Q161.552 838.805 159.723 835.264 Q157.917 831.699 154.283 831.699 M154.283 827.995 Q160.093 827.995 163.149 832.601 Q166.227 837.185 166.227 845.935 Q166.227 854.662 163.149 859.268 Q160.093 863.851 154.283 863.851 Q148.473 863.851 145.394 859.268 Q142.339 854.662 142.339 845.935 Q142.339 837.185 145.394 832.601 Q148.473 827.995 154.283 827.995 Z\" fill=\"#000000\" fill-rule=\"evenodd\" fill-opacity=\"1\" /><path clip-path=\"url(#clip850)\" d=\"M166.227 822.096 L190.339 822.096 L190.339 825.294 L166.227 825.294 L166.227 822.096 Z\" fill=\"#000000\" fill-rule=\"evenodd\" fill-opacity=\"1\" /><path clip-path=\"url(#clip850)\" d=\"M198.577 807.69 L213.491 807.69 L213.491 810.887 L202.056 810.887 L202.056 817.771 Q202.884 817.488 203.711 817.357 Q204.539 817.206 205.366 817.206 Q210.068 817.206 212.814 819.783 Q215.56 822.36 215.56 826.761 Q215.56 831.293 212.739 833.814 Q209.918 836.315 204.783 836.315 Q203.015 836.315 201.172 836.014 Q199.348 835.713 197.392 835.111 L197.392 831.293 Q199.085 832.215 200.89 832.666 Q202.696 833.118 204.708 833.118 Q207.962 833.118 209.861 831.406 Q211.761 829.695 211.761 826.761 Q211.761 823.827 209.861 822.115 Q207.962 820.404 204.708 820.404 Q203.185 820.404 201.661 820.742 Q200.157 821.081 198.577 821.795 L198.577 807.69 Z\" fill=\"#000000\" fill-rule=\"evenodd\" fill-opacity=\"1\" /><path clip-path=\"url(#clip850)\" d=\"M144.855 188.144 L152.493 188.144 L152.493 161.778 L144.183 163.445 L144.183 159.186 L152.447 157.519 L157.123 157.519 L157.123 188.144 L164.762 188.144 L164.762 192.079 L144.855 192.079 L144.855 188.144 Z\" fill=\"#000000\" fill-rule=\"evenodd\" fill-opacity=\"1\" /><path clip-path=\"url(#clip850)\" d=\"M184.206 160.598 Q180.595 160.598 178.766 164.163 Q176.961 167.704 176.961 174.834 Q176.961 181.94 178.766 185.505 Q180.595 189.047 184.206 189.047 Q187.84 189.047 189.646 185.505 Q191.475 181.94 191.475 174.834 Q191.475 167.704 189.646 164.163 Q187.84 160.598 184.206 160.598 M184.206 156.894 Q190.016 156.894 193.072 161.5 Q196.151 166.084 196.151 174.834 Q196.151 183.561 193.072 188.167 Q190.016 192.75 184.206 192.75 Q178.396 192.75 175.317 188.167 Q172.262 183.561 172.262 174.834 Q172.262 166.084 175.317 161.5 Q178.396 156.894 184.206 156.894 Z\" fill=\"#000000\" fill-rule=\"evenodd\" fill-opacity=\"1\" /><path clip-path=\"url(#clip850)\" d=\"M205.855 139.09 Q202.921 139.09 201.436 141.986 Q199.969 144.864 199.969 150.657 Q199.969 156.431 201.436 159.327 Q202.921 162.205 205.855 162.205 Q208.808 162.205 210.275 159.327 Q211.761 156.431 211.761 150.657 Q211.761 144.864 210.275 141.986 Q208.808 139.09 205.855 139.09 M205.855 136.081 Q210.576 136.081 213.059 139.824 Q215.56 143.547 215.56 150.657 Q215.56 157.747 213.059 161.49 Q210.576 165.214 205.855 165.214 Q201.135 165.214 198.633 161.49 Q196.151 157.747 196.151 150.657 Q196.151 143.547 198.633 139.824 Q201.135 136.081 205.855 136.081 Z\" fill=\"#000000\" fill-rule=\"evenodd\" fill-opacity=\"1\" /><path clip-path=\"url(#clip850)\" d=\"M20.1444 1011.37 L26.9239 1011.37 Q23.9002 1014.62 22.4043 1018.31 Q20.9083 1021.97 20.9083 1026.11 Q20.9083 1034.26 25.9054 1038.59 Q30.8707 1042.91 40.2919 1042.91 Q49.6813 1042.91 54.6784 1038.59 Q59.6436 1034.26 59.6436 1026.11 Q59.6436 1021.97 58.1477 1018.31 Q56.6518 1014.62 53.6281 1011.37 L60.3439 1011.37 Q62.6355 1014.75 63.7814 1018.53 Q64.9272 1022.29 64.9272 1026.49 Q64.9272 1037.28 58.3387 1043.49 Q51.7183 1049.69 40.2919 1049.69 Q28.8336 1049.69 22.2451 1043.49 Q15.6248 1037.28 15.6248 1026.49 Q15.6248 1022.23 16.7706 1018.47 Q17.8846 1014.68 20.1444 1011.37 Z\" fill=\"#000000\" fill-rule=\"evenodd\" fill-opacity=\"1\" /><path clip-path=\"url(#clip850)\" d=\"M32.4621 987.883 Q32.4621 992.593 36.1542 995.331 Q39.8145 998.068 46.212 998.068 Q52.6095 998.068 56.3017 995.362 Q59.9619 992.625 59.9619 987.883 Q59.9619 983.204 56.2698 980.467 Q52.5777 977.729 46.212 977.729 Q39.8781 977.729 36.186 980.467 Q32.4621 983.204 32.4621 987.883 M27.4968 987.883 Q27.4968 980.244 32.4621 975.883 Q37.4273 971.523 46.212 971.523 Q54.9649 971.523 59.9619 975.883 Q64.9272 980.244 64.9272 987.883 Q64.9272 995.553 59.9619 999.914 Q54.9649 1004.24 46.212 1004.24 Q37.4273 1004.24 32.4621 999.914 Q27.4968 995.553 27.4968 987.883 Z\" fill=\"#000000\" fill-rule=\"evenodd\" fill-opacity=\"1\" /><path clip-path=\"url(#clip850)\" d=\"M42.4881 932.183 L64.0042 932.183 L64.0042 938.039 L42.679 938.039 Q37.6183 938.039 35.1038 940.013 Q32.5894 941.986 32.5894 945.933 Q32.5894 950.675 35.6131 953.412 Q38.6368 956.15 43.8567 956.15 L64.0042 956.15 L64.0042 962.038 L28.3562 962.038 L28.3562 956.15 L33.8944 956.15 Q30.6797 954.049 29.0883 951.216 Q27.4968 948.352 27.4968 944.628 Q27.4968 938.485 31.3163 935.334 Q35.1038 932.183 42.4881 932.183 Z\" fill=\"#000000\" fill-rule=\"evenodd\" fill-opacity=\"1\" /><path clip-path=\"url(#clip850)\" d=\"M29.4065 897.776 L34.9447 897.776 Q33.6716 900.259 33.035 902.932 Q32.3984 905.606 32.3984 908.471 Q32.3984 912.831 33.7352 915.027 Q35.072 917.192 37.7456 917.192 Q39.7826 917.192 40.9603 915.632 Q42.1061 914.072 43.1565 909.362 L43.6021 907.357 Q44.9389 901.118 47.3897 898.508 Q49.8086 895.866 54.1691 895.866 Q59.1344 895.866 62.0308 899.813 Q64.9272 903.728 64.9272 910.603 Q64.9272 913.468 64.3543 916.587 Q63.8132 919.674 62.6992 923.112 L56.6518 923.112 Q58.3387 919.865 59.198 916.714 Q60.0256 913.563 60.0256 910.476 Q60.0256 906.338 58.6251 904.11 Q57.1929 901.882 54.6147 901.882 Q52.2276 901.882 50.9545 903.505 Q49.6813 905.097 48.5037 910.539 L48.0262 912.576 Q46.8804 918.019 44.5251 920.438 Q42.138 922.857 38.0002 922.857 Q32.9713 922.857 30.2341 919.292 Q27.4968 915.727 27.4968 909.171 Q27.4968 905.924 27.9743 903.06 Q28.4517 900.195 29.4065 897.776 Z\" fill=\"#000000\" fill-rule=\"evenodd\" fill-opacity=\"1\" /><path clip-path=\"url(#clip850)\" d=\"M18.2347 880.748 L28.3562 880.748 L28.3562 868.685 L32.9077 868.685 L32.9077 880.748 L52.2594 880.748 Q56.6199 880.748 57.8613 879.57 Q59.1026 878.361 59.1026 874.701 L59.1026 868.685 L64.0042 868.685 L64.0042 874.701 Q64.0042 881.48 61.4897 884.058 Q58.9434 886.636 52.2594 886.636 L32.9077 886.636 L32.9077 890.933 L28.3562 890.933 L28.3562 886.636 L18.2347 886.636 L18.2347 880.748 Z\" fill=\"#000000\" fill-rule=\"evenodd\" fill-opacity=\"1\" /><path clip-path=\"url(#clip850)\" d=\"M33.8307 840.326 Q33.2578 841.312 33.0032 842.49 Q32.7167 843.636 32.7167 845.036 Q32.7167 850.002 35.9632 852.675 Q39.1779 855.317 45.2253 855.317 L64.0042 855.317 L64.0042 861.205 L28.3562 861.205 L28.3562 855.317 L33.8944 855.317 Q30.6479 853.471 29.0883 850.511 Q27.4968 847.551 27.4968 843.318 Q27.4968 842.713 27.5923 841.981 Q27.656 841.249 27.8151 840.358 L33.8307 840.326 Z\" fill=\"#000000\" fill-rule=\"evenodd\" fill-opacity=\"1\" /><path clip-path=\"url(#clip850)\" d=\"M46.0847 817.982 Q46.0847 825.08 47.7079 827.817 Q49.3312 830.554 53.2461 830.554 Q56.3653 830.554 58.2114 828.517 Q60.0256 826.448 60.0256 822.915 Q60.0256 818.046 56.5881 815.118 Q53.1188 812.157 47.3897 812.157 L46.0847 812.157 L46.0847 817.982 M43.6657 806.301 L64.0042 806.301 L64.0042 812.157 L58.5933 812.157 Q61.8398 814.163 63.3994 817.155 Q64.9272 820.146 64.9272 824.475 Q64.9272 829.95 61.8716 833.196 Q58.7843 836.411 53.6281 836.411 Q47.6125 836.411 44.5569 832.4 Q41.5014 828.358 41.5014 820.369 L41.5014 812.157 L40.9285 812.157 Q36.8862 812.157 34.6901 814.831 Q32.4621 817.473 32.4621 822.279 Q32.4621 825.334 33.1941 828.231 Q33.9262 831.127 35.3903 833.801 L29.9795 833.801 Q28.7381 830.586 28.1334 827.562 Q27.4968 824.539 27.4968 821.674 Q27.4968 813.94 31.5072 810.12 Q35.5176 806.301 43.6657 806.301 Z\" fill=\"#000000\" fill-rule=\"evenodd\" fill-opacity=\"1\" /><path clip-path=\"url(#clip850)\" d=\"M28.3562 794.238 L28.3562 788.382 L64.0042 788.382 L64.0042 794.238 L28.3562 794.238 M14.479 794.238 L14.479 788.382 L21.895 788.382 L21.895 794.238 L14.479 794.238 Z\" fill=\"#000000\" fill-rule=\"evenodd\" fill-opacity=\"1\" /><path clip-path=\"url(#clip850)\" d=\"M42.4881 746.495 L64.0042 746.495 L64.0042 752.352 L42.679 752.352 Q37.6183 752.352 35.1038 754.325 Q32.5894 756.298 32.5894 760.245 Q32.5894 764.988 35.6131 767.725 Q38.6368 770.462 43.8567 770.462 L64.0042 770.462 L64.0042 776.35 L28.3562 776.35 L28.3562 770.462 L33.8944 770.462 Q30.6797 768.361 29.0883 765.529 Q27.4968 762.664 27.4968 758.94 Q27.4968 752.797 31.3163 749.646 Q35.1038 746.495 42.4881 746.495 Z\" fill=\"#000000\" fill-rule=\"evenodd\" fill-opacity=\"1\" /><path clip-path=\"url(#clip850)\" d=\"M18.2347 729.021 L28.3562 729.021 L28.3562 716.958 L32.9077 716.958 L32.9077 729.021 L52.2594 729.021 Q56.6199 729.021 57.8613 727.844 Q59.1026 726.634 59.1026 722.974 L59.1026 716.958 L64.0042 716.958 L64.0042 722.974 Q64.0042 729.753 61.4897 732.331 Q58.9434 734.91 52.2594 734.91 L32.9077 734.91 L32.9077 739.206 L28.3562 739.206 L28.3562 734.91 L18.2347 734.91 L18.2347 729.021 Z\" fill=\"#000000\" fill-rule=\"evenodd\" fill-opacity=\"1\" /><path clip-path=\"url(#clip850)\" d=\"M28.3562 692.737 L28.3562 686.53 L58.275 675.39 L28.3562 664.25 L28.3562 658.044 L64.0042 671.412 L64.0042 679.369 L28.3562 692.737 Z\" fill=\"#000000\" fill-rule=\"evenodd\" fill-opacity=\"1\" /><path clip-path=\"url(#clip850)\" d=\"M28.3562 649.959 L28.3562 644.103 L64.0042 644.103 L64.0042 649.959 L28.3562 649.959 M14.479 649.959 L14.479 644.103 L21.895 644.103 L21.895 649.959 L14.479 649.959 Z\" fill=\"#000000\" fill-rule=\"evenodd\" fill-opacity=\"1\" /><path clip-path=\"url(#clip850)\" d=\"M32.4621 618.035 Q32.4621 622.746 36.1542 625.483 Q39.8145 628.22 46.212 628.22 Q52.6095 628.22 56.3017 625.515 Q59.9619 622.778 59.9619 618.035 Q59.9619 613.356 56.2698 610.619 Q52.5777 607.882 46.212 607.882 Q39.8781 607.882 36.186 610.619 Q32.4621 613.356 32.4621 618.035 M27.4968 618.035 Q27.4968 610.396 32.4621 606.036 Q37.4273 601.675 46.212 601.675 Q54.9649 601.675 59.9619 606.036 Q64.9272 610.396 64.9272 618.035 Q64.9272 625.706 59.9619 630.066 Q54.9649 634.395 46.212 634.395 Q37.4273 634.395 32.4621 630.066 Q27.4968 625.706 27.4968 618.035 Z\" fill=\"#000000\" fill-rule=\"evenodd\" fill-opacity=\"1\" /><path clip-path=\"url(#clip850)\" d=\"M14.479 591.968 L14.479 586.111 L64.0042 586.111 L64.0042 591.968 L14.479 591.968 Z\" fill=\"#000000\" fill-rule=\"evenodd\" fill-opacity=\"1\" /><path clip-path=\"url(#clip850)\" d=\"M46.0847 557.656 Q46.0847 564.754 47.7079 567.492 Q49.3312 570.229 53.2461 570.229 Q56.3653 570.229 58.2114 568.192 Q60.0256 566.123 60.0256 562.59 Q60.0256 557.72 56.5881 554.792 Q53.1188 551.832 47.3897 551.832 L46.0847 551.832 L46.0847 557.656 M43.6657 545.975 L64.0042 545.975 L64.0042 551.832 L58.5933 551.832 Q61.8398 553.837 63.3994 556.829 Q64.9272 559.821 64.9272 564.15 Q64.9272 569.624 61.8716 572.871 Q58.7843 576.085 53.6281 576.085 Q47.6125 576.085 44.5569 572.075 Q41.5014 568.033 41.5014 560.044 L41.5014 551.832 L40.9285 551.832 Q36.8862 551.832 34.6901 554.505 Q32.4621 557.147 32.4621 561.953 Q32.4621 565.009 33.1941 567.905 Q33.9262 570.802 35.3903 573.475 L29.9795 573.475 Q28.7381 570.261 28.1334 567.237 Q27.4968 564.213 27.4968 561.349 Q27.4968 553.614 31.5072 549.795 Q35.5176 545.975 43.6657 545.975 Z\" fill=\"#000000\" fill-rule=\"evenodd\" fill-opacity=\"1\" /><path clip-path=\"url(#clip850)\" d=\"M18.2347 528.12 L28.3562 528.12 L28.3562 516.057 L32.9077 516.057 L32.9077 528.12 L52.2594 528.12 Q56.6199 528.12 57.8613 526.942 Q59.1026 525.732 59.1026 522.072 L59.1026 516.057 L64.0042 516.057 L64.0042 522.072 Q64.0042 528.852 61.4897 531.43 Q58.9434 534.008 52.2594 534.008 L32.9077 534.008 L32.9077 538.305 L28.3562 538.305 L28.3562 534.008 L18.2347 534.008 L18.2347 528.12 Z\" fill=\"#000000\" fill-rule=\"evenodd\" fill-opacity=\"1\" /><path clip-path=\"url(#clip850)\" d=\"M28.3562 508.354 L28.3562 502.498 L64.0042 502.498 L64.0042 508.354 L28.3562 508.354 M14.479 508.354 L14.479 502.498 L21.895 502.498 L21.895 508.354 L14.479 508.354 Z\" fill=\"#000000\" fill-rule=\"evenodd\" fill-opacity=\"1\" /><path clip-path=\"url(#clip850)\" d=\"M32.4621 476.43 Q32.4621 481.141 36.1542 483.878 Q39.8145 486.615 46.212 486.615 Q52.6095 486.615 56.3017 483.91 Q59.9619 481.173 59.9619 476.43 Q59.9619 471.751 56.2698 469.014 Q52.5777 466.277 46.212 466.277 Q39.8781 466.277 36.186 469.014 Q32.4621 471.751 32.4621 476.43 M27.4968 476.43 Q27.4968 468.791 32.4621 464.431 Q37.4273 460.07 46.212 460.07 Q54.9649 460.07 59.9619 464.431 Q64.9272 468.791 64.9272 476.43 Q64.9272 484.101 59.9619 488.461 Q54.9649 492.79 46.212 492.79 Q37.4273 492.79 32.4621 488.461 Q27.4968 484.101 27.4968 476.43 Z\" fill=\"#000000\" fill-rule=\"evenodd\" fill-opacity=\"1\" /><path clip-path=\"url(#clip850)\" d=\"M42.4881 420.73 L64.0042 420.73 L64.0042 426.587 L42.679 426.587 Q37.6183 426.587 35.1038 428.56 Q32.5894 430.533 32.5894 434.48 Q32.5894 439.223 35.6131 441.96 Q38.6368 444.697 43.8567 444.697 L64.0042 444.697 L64.0042 450.585 L28.3562 450.585 L28.3562 444.697 L33.8944 444.697 Q30.6797 442.596 29.0883 439.764 Q27.4968 436.899 27.4968 433.175 Q27.4968 427.032 31.3163 423.881 Q35.1038 420.73 42.4881 420.73 Z\" fill=\"#000000\" fill-rule=\"evenodd\" fill-opacity=\"1\" /><polyline clip-path=\"url(#clip852)\" style=\"stroke:#009af9; stroke-linecap:butt; stroke-linejoin:round; stroke-width:4; stroke-opacity:1; fill:none\" points=\"\n",
       "  344.781,105.753 384.247,98.2195 408.82,86.1857 427.863,141.939 450.489,195.713 473.386,277.305 499.465,312.229 523.269,361.588 551.076,373.459 570,417.282 \n",
       "  589.187,437.43 608.359,471.54 627.323,494.696 645.053,522.461 661.689,545.632 682.574,569.891 719.091,592.169 745.662,614.436 767.797,635.748 792.189,656.79 \n",
       "  812.979,677.299 1103.92,697.528 1124.89,717.419 1142.76,737.072 1160.41,756.486 1176.7,775.701 1194.93,794.722 1212.35,813.561 1227.97,832.211 1248.58,850.66 \n",
       "  1263.85,868.882 1280.89,886.839 1300.21,904.478 1315.61,921.73 1330.72,938.517 1345.55,954.751 1363.46,970.347 1379.48,985.233 1394.34,999.363 1409.29,1012.72 \n",
       "  1425.7,1025.35 1443.8,1037.29 1464.1,1048.63 1483.24,1059.47 1501.48,1069.89 1519.19,1079.99 1539.95,1089.85 1560.65,1099.51 1578.74,1109.02 1597.17,1118.44 \n",
       "  1616.95,1127.77 1634.89,1137.05 1651.95,1146.29 1670.1,1155.5 1688.61,1164.68 1709.9,1173.86 1728.97,1183.02 1747.82,1192.18 1765.84,1201.33 1785.72,1210.48 \n",
       "  1945.99,1219.63 1965.59,1228.77 1983.3,1237.92 1999.99,1247.06 2015.99,1256.21 2031.46,1265.35 2048.46,1274.49 2064.59,1283.64 2081.21,1292.78 2096.88,1301.93 \n",
       "  2111.84,1311.07 2126.5,1320.22 2141.76,1329.36 2158.68,1338.51 2177.06,1347.65 2193.85,1356.8 2211.99,1365.95 2230.14,1375.09 2232.92,1384.24 \n",
       "  \"/>\n",
       "<polyline clip-path=\"url(#clip852)\" style=\"stroke:#e26f46; stroke-linecap:butt; stroke-linejoin:round; stroke-width:4; stroke-opacity:1; fill:none\" points=\"\n",
       "  311.028,105.753 424.728,98.2195 783.903,225.326 1014.64,229.312 1245.42,230.572 1425.42,239.004 1594.18,316.042 1896.93,362.708 2091.7,430.981 2287.57,851.352 \n",
       "  2293.29,1217.09 \n",
       "  \"/>\n",
       "<path clip-path=\"url(#clip850)\" d=\"\n",
       "M321.6 1377.32 L889.717 1377.32 L889.717 1221.8 L321.6 1221.8  Z\n",
       "  \" fill=\"#ffffff\" fill-rule=\"evenodd\" fill-opacity=\"1\"/>\n",
       "<polyline clip-path=\"url(#clip850)\" style=\"stroke:#000000; stroke-linecap:butt; stroke-linejoin:round; stroke-width:4; stroke-opacity:1; fill:none\" points=\"\n",
       "  321.6,1377.32 889.717,1377.32 889.717,1221.8 321.6,1221.8 321.6,1377.32 \n",
       "  \"/>\n",
       "<polyline clip-path=\"url(#clip850)\" style=\"stroke:#009af9; stroke-linecap:butt; stroke-linejoin:round; stroke-width:4; stroke-opacity:1; fill:none\" points=\"\n",
       "  344.947,1273.64 485.026,1273.64 \n",
       "  \"/>\n",
       "<path clip-path=\"url(#clip850)\" d=\"M533.928 1285.98 L533.928 1276.7 L526.29 1276.7 L526.29 1272.86 L538.558 1272.86 L538.558 1287.7 Q535.85 1289.62 532.586 1290.61 Q529.322 1291.59 525.618 1291.59 Q517.517 1291.59 512.933 1286.86 Q508.373 1282.12 508.373 1273.67 Q508.373 1265.2 512.933 1260.48 Q517.517 1255.73 525.618 1255.73 Q528.998 1255.73 532.03 1256.56 Q535.086 1257.4 537.655 1259.02 L537.655 1263.99 Q535.063 1261.8 532.146 1260.68 Q529.229 1259.57 526.012 1259.57 Q519.669 1259.57 516.475 1263.11 Q513.304 1266.66 513.304 1273.67 Q513.304 1280.66 516.475 1284.2 Q519.669 1287.74 526.012 1287.74 Q528.489 1287.74 530.433 1287.33 Q532.378 1286.89 533.928 1285.98 Z\" fill=\"#000000\" fill-rule=\"evenodd\" fill-opacity=\"1\" /><path clip-path=\"url(#clip850)\" d=\"M558.697 1277.88 Q553.535 1277.88 551.544 1279.06 Q549.553 1280.24 549.553 1283.09 Q549.553 1285.36 551.035 1286.7 Q552.539 1288.02 555.109 1288.02 Q558.651 1288.02 560.78 1285.52 Q562.933 1283 562.933 1278.83 L562.933 1277.88 L558.697 1277.88 M567.192 1276.12 L567.192 1290.92 L562.933 1290.92 L562.933 1286.98 Q561.475 1289.34 559.299 1290.48 Q557.123 1291.59 553.975 1291.59 Q549.993 1291.59 547.632 1289.36 Q545.294 1287.12 545.294 1283.37 Q545.294 1278.99 548.211 1276.77 Q551.151 1274.55 556.961 1274.55 L562.933 1274.55 L562.933 1274.13 Q562.933 1271.19 560.989 1269.6 Q559.067 1267.98 555.572 1267.98 Q553.35 1267.98 551.243 1268.51 Q549.137 1269.04 547.192 1270.11 L547.192 1266.17 Q549.53 1265.27 551.729 1264.83 Q553.928 1264.36 556.012 1264.36 Q561.637 1264.36 564.414 1267.28 Q567.192 1270.2 567.192 1276.12 Z\" fill=\"#000000\" fill-rule=\"evenodd\" fill-opacity=\"1\" /><path clip-path=\"url(#clip850)\" d=\"M575.525 1280.68 L575.525 1264.99 L579.785 1264.99 L579.785 1280.52 Q579.785 1284.2 581.22 1286.05 Q582.655 1287.88 585.525 1287.88 Q588.974 1287.88 590.965 1285.68 Q592.979 1283.48 592.979 1279.69 L592.979 1264.99 L597.238 1264.99 L597.238 1290.92 L592.979 1290.92 L592.979 1286.93 Q591.428 1289.29 589.368 1290.45 Q587.331 1291.59 584.623 1291.59 Q580.155 1291.59 577.84 1288.81 Q575.525 1286.03 575.525 1280.68 M586.243 1264.36 L586.243 1264.36 Z\" fill=\"#000000\" fill-rule=\"evenodd\" fill-opacity=\"1\" /><path clip-path=\"url(#clip850)\" d=\"M622.539 1265.75 L622.539 1269.78 Q620.734 1268.86 618.789 1268.39 Q616.845 1267.93 614.761 1267.93 Q611.59 1267.93 609.993 1268.9 Q608.419 1269.87 608.419 1271.82 Q608.419 1273.3 609.553 1274.16 Q610.687 1274.99 614.113 1275.75 L615.572 1276.08 Q620.109 1277.05 622.007 1278.83 Q623.928 1280.59 623.928 1283.76 Q623.928 1287.37 621.058 1289.48 Q618.21 1291.59 613.21 1291.59 Q611.127 1291.59 608.859 1291.17 Q606.613 1290.78 604.113 1289.97 L604.113 1285.57 Q606.474 1286.79 608.766 1287.42 Q611.058 1288.02 613.303 1288.02 Q616.312 1288.02 617.933 1287 Q619.553 1285.96 619.553 1284.09 Q619.553 1282.35 618.372 1281.42 Q617.215 1280.5 613.257 1279.64 L611.775 1279.3 Q607.817 1278.46 606.058 1276.75 Q604.298 1275.01 604.298 1272 Q604.298 1268.35 606.891 1266.36 Q609.484 1264.36 614.252 1264.36 Q616.613 1264.36 618.697 1264.71 Q620.78 1265.06 622.539 1265.75 Z\" fill=\"#000000\" fill-rule=\"evenodd\" fill-opacity=\"1\" /><path clip-path=\"url(#clip850)\" d=\"M647.238 1265.75 L647.238 1269.78 Q645.433 1268.86 643.488 1268.39 Q641.544 1267.93 639.46 1267.93 Q636.289 1267.93 634.692 1268.9 Q633.118 1269.87 633.118 1271.82 Q633.118 1273.3 634.252 1274.16 Q635.386 1274.99 638.812 1275.75 L640.27 1276.08 Q644.808 1277.05 646.706 1278.83 Q648.627 1280.59 648.627 1283.76 Q648.627 1287.37 645.757 1289.48 Q642.909 1291.59 637.909 1291.59 Q635.826 1291.59 633.558 1291.17 Q631.312 1290.78 628.812 1289.97 L628.812 1285.57 Q631.173 1286.79 633.465 1287.42 Q635.757 1288.02 638.002 1288.02 Q641.011 1288.02 642.632 1287 Q644.252 1285.96 644.252 1284.09 Q644.252 1282.35 643.071 1281.42 Q641.914 1280.5 637.956 1279.64 L636.474 1279.3 Q632.516 1278.46 630.757 1276.75 Q628.997 1275.01 628.997 1272 Q628.997 1268.35 631.59 1266.36 Q634.183 1264.36 638.951 1264.36 Q641.312 1264.36 643.395 1264.71 Q645.479 1265.06 647.238 1265.75 Z\" fill=\"#000000\" fill-rule=\"evenodd\" fill-opacity=\"1\" /><path clip-path=\"url(#clip850)\" d=\"M670.664 1256.36 L676.96 1256.36 L692.284 1285.27 L692.284 1256.36 L696.821 1256.36 L696.821 1290.92 L690.525 1290.92 L675.201 1262 L675.201 1290.92 L670.664 1290.92 L670.664 1256.36 Z\" fill=\"#000000\" fill-rule=\"evenodd\" fill-opacity=\"1\" /><path clip-path=\"url(#clip850)\" d=\"M728.117 1276.89 L728.117 1278.97 L708.534 1278.97 Q708.812 1283.37 711.173 1285.68 Q713.557 1287.98 717.793 1287.98 Q720.247 1287.98 722.539 1287.37 Q724.853 1286.77 727.122 1285.57 L727.122 1289.6 Q724.83 1290.57 722.423 1291.08 Q720.015 1291.59 717.539 1291.59 Q711.335 1291.59 707.701 1287.98 Q704.09 1284.36 704.09 1278.21 Q704.09 1271.84 707.516 1268.11 Q710.965 1264.36 716.798 1264.36 Q722.029 1264.36 725.062 1267.74 Q728.117 1271.1 728.117 1276.89 M723.858 1275.64 Q723.812 1272.14 721.89 1270.06 Q719.992 1267.98 716.844 1267.98 Q713.279 1267.98 711.127 1269.99 Q708.997 1272 708.673 1275.66 L723.858 1275.64 Z\" fill=\"#000000\" fill-rule=\"evenodd\" fill-opacity=\"1\" /><path clip-path=\"url(#clip850)\" d=\"M732.631 1264.99 L736.89 1264.99 L742.214 1285.22 L747.515 1264.99 L752.538 1264.99 L757.862 1285.22 L763.163 1264.99 L767.423 1264.99 L760.64 1290.92 L755.617 1290.92 L750.038 1269.67 L744.437 1290.92 L739.413 1290.92 L732.631 1264.99 Z\" fill=\"#000000\" fill-rule=\"evenodd\" fill-opacity=\"1\" /><path clip-path=\"url(#clip850)\" d=\"M778.094 1257.63 L778.094 1264.99 L786.867 1264.99 L786.867 1268.3 L778.094 1268.3 L778.094 1282.37 Q778.094 1285.54 778.95 1286.45 Q779.83 1287.35 782.492 1287.35 L786.867 1287.35 L786.867 1290.92 L782.492 1290.92 Q777.561 1290.92 775.686 1289.09 Q773.811 1287.23 773.811 1282.37 L773.811 1268.3 L770.686 1268.3 L770.686 1264.99 L773.811 1264.99 L773.811 1257.63 L778.094 1257.63 Z\" fill=\"#000000\" fill-rule=\"evenodd\" fill-opacity=\"1\" /><path clip-path=\"url(#clip850)\" d=\"M802.515 1267.98 Q799.089 1267.98 797.098 1270.66 Q795.108 1273.32 795.108 1277.98 Q795.108 1282.63 797.075 1285.31 Q799.066 1287.98 802.515 1287.98 Q805.918 1287.98 807.908 1285.29 Q809.899 1282.61 809.899 1277.98 Q809.899 1273.37 807.908 1270.68 Q805.918 1267.98 802.515 1267.98 M802.515 1264.36 Q808.071 1264.36 811.242 1267.98 Q814.413 1271.59 814.413 1277.98 Q814.413 1284.34 811.242 1287.98 Q808.071 1291.59 802.515 1291.59 Q796.936 1291.59 793.765 1287.98 Q790.617 1284.34 790.617 1277.98 Q790.617 1271.59 793.765 1267.98 Q796.936 1264.36 802.515 1264.36 Z\" fill=\"#000000\" fill-rule=\"evenodd\" fill-opacity=\"1\" /><path clip-path=\"url(#clip850)\" d=\"M843.024 1275.27 L843.024 1290.92 L838.765 1290.92 L838.765 1275.41 Q838.765 1271.73 837.33 1269.9 Q835.894 1268.07 833.024 1268.07 Q829.575 1268.07 827.584 1270.27 Q825.594 1272.47 825.594 1276.26 L825.594 1290.92 L821.311 1290.92 L821.311 1264.99 L825.594 1264.99 L825.594 1269.02 Q827.121 1266.68 829.182 1265.52 Q831.265 1264.36 833.973 1264.36 Q838.441 1264.36 840.732 1267.14 Q843.024 1269.9 843.024 1275.27 Z\" fill=\"#000000\" fill-rule=\"evenodd\" fill-opacity=\"1\" /><polyline clip-path=\"url(#clip850)\" style=\"stroke:#e26f46; stroke-linecap:butt; stroke-linejoin:round; stroke-width:4; stroke-opacity:1; fill:none\" points=\"\n",
       "  344.947,1325.48 485.026,1325.48 \n",
       "  \"/>\n",
       "<path clip-path=\"url(#clip850)\" d=\"M508.373 1308.2 L528.234 1308.2 L528.234 1312.13 L513.049 1312.13 L513.049 1322.32 L526.753 1322.32 L526.753 1326.25 L513.049 1326.25 L513.049 1342.76 L508.373 1342.76 L508.373 1308.2 Z\" fill=\"#000000\" fill-rule=\"evenodd\" fill-opacity=\"1\" /><path clip-path=\"url(#clip850)\" d=\"M532.424 1332.52 L532.424 1316.83 L536.683 1316.83 L536.683 1332.36 Q536.683 1336.04 538.118 1337.89 Q539.553 1339.72 542.424 1339.72 Q545.873 1339.72 547.864 1337.52 Q549.877 1335.32 549.877 1331.53 L549.877 1316.83 L554.137 1316.83 L554.137 1342.76 L549.877 1342.76 L549.877 1338.77 Q548.327 1341.13 546.266 1342.29 Q544.229 1343.43 541.521 1343.43 Q537.053 1343.43 534.739 1340.65 Q532.424 1337.87 532.424 1332.52 M543.141 1316.2 L543.141 1316.2 Z\" fill=\"#000000\" fill-rule=\"evenodd\" fill-opacity=\"1\" /><path clip-path=\"url(#clip850)\" d=\"M562.91 1306.74 L567.169 1306.74 L567.169 1342.76 L562.91 1342.76 L562.91 1306.74 Z\" fill=\"#000000\" fill-rule=\"evenodd\" fill-opacity=\"1\" /><path clip-path=\"url(#clip850)\" d=\"M576.081 1306.74 L580.34 1306.74 L580.34 1342.76 L576.081 1342.76 L576.081 1306.74 Z\" fill=\"#000000\" fill-rule=\"evenodd\" fill-opacity=\"1\" /><path clip-path=\"url(#clip850)\" d=\"M604.507 1308.2 L610.803 1308.2 L626.127 1337.11 L626.127 1308.2 L630.664 1308.2 L630.664 1342.76 L624.368 1342.76 L609.044 1313.84 L609.044 1342.76 L604.507 1342.76 L604.507 1308.2 Z\" fill=\"#000000\" fill-rule=\"evenodd\" fill-opacity=\"1\" /><path clip-path=\"url(#clip850)\" d=\"M661.96 1328.73 L661.96 1330.81 L642.377 1330.81 Q642.655 1335.21 645.016 1337.52 Q647.4 1339.82 651.636 1339.82 Q654.09 1339.82 656.382 1339.21 Q658.696 1338.61 660.965 1337.41 L660.965 1341.44 Q658.673 1342.41 656.266 1342.92 Q653.858 1343.43 651.382 1343.43 Q645.178 1343.43 641.544 1339.82 Q637.933 1336.2 637.933 1330.05 Q637.933 1323.68 641.358 1319.95 Q644.808 1316.2 650.641 1316.2 Q655.872 1316.2 658.905 1319.58 Q661.96 1322.94 661.96 1328.73 M657.701 1327.48 Q657.655 1323.98 655.733 1321.9 Q653.835 1319.82 650.687 1319.82 Q647.122 1319.82 644.97 1321.83 Q642.84 1323.84 642.516 1327.5 L657.701 1327.48 Z\" fill=\"#000000\" fill-rule=\"evenodd\" fill-opacity=\"1\" /><path clip-path=\"url(#clip850)\" d=\"M666.474 1316.83 L670.733 1316.83 L676.057 1337.06 L681.358 1316.83 L686.381 1316.83 L691.705 1337.06 L697.006 1316.83 L701.266 1316.83 L694.483 1342.76 L689.46 1342.76 L683.881 1321.51 L678.28 1342.76 L673.256 1342.76 L666.474 1316.83 Z\" fill=\"#000000\" fill-rule=\"evenodd\" fill-opacity=\"1\" /><path clip-path=\"url(#clip850)\" d=\"M711.937 1309.47 L711.937 1316.83 L720.71 1316.83 L720.71 1320.14 L711.937 1320.14 L711.937 1334.21 Q711.937 1337.38 712.793 1338.29 Q713.673 1339.19 716.335 1339.19 L720.71 1339.19 L720.71 1342.76 L716.335 1342.76 Q711.404 1342.76 709.529 1340.93 Q707.654 1339.07 707.654 1334.21 L707.654 1320.14 L704.529 1320.14 L704.529 1316.83 L707.654 1316.83 L707.654 1309.47 L711.937 1309.47 Z\" fill=\"#000000\" fill-rule=\"evenodd\" fill-opacity=\"1\" /><path clip-path=\"url(#clip850)\" d=\"M736.358 1319.82 Q732.932 1319.82 730.941 1322.5 Q728.951 1325.16 728.951 1329.82 Q728.951 1334.47 730.918 1337.15 Q732.909 1339.82 736.358 1339.82 Q739.761 1339.82 741.751 1337.13 Q743.742 1334.45 743.742 1329.82 Q743.742 1325.21 741.751 1322.52 Q739.761 1319.82 736.358 1319.82 M736.358 1316.2 Q741.913 1316.2 745.085 1319.82 Q748.256 1323.43 748.256 1329.82 Q748.256 1336.18 745.085 1339.82 Q741.913 1343.43 736.358 1343.43 Q730.779 1343.43 727.608 1339.82 Q724.46 1336.18 724.46 1329.82 Q724.46 1323.43 727.608 1319.82 Q730.779 1316.2 736.358 1316.2 Z\" fill=\"#000000\" fill-rule=\"evenodd\" fill-opacity=\"1\" /><path clip-path=\"url(#clip850)\" d=\"M776.867 1327.11 L776.867 1342.76 L772.608 1342.76 L772.608 1327.25 Q772.608 1323.57 771.173 1321.74 Q769.737 1319.91 766.867 1319.91 Q763.418 1319.91 761.427 1322.11 Q759.437 1324.31 759.437 1328.1 L759.437 1342.76 L755.154 1342.76 L755.154 1316.83 L759.437 1316.83 L759.437 1320.86 Q760.964 1318.52 763.024 1317.36 Q765.108 1316.2 767.816 1316.2 Q772.284 1316.2 774.575 1318.98 Q776.867 1321.74 776.867 1327.11 Z\" fill=\"#000000\" fill-rule=\"evenodd\" fill-opacity=\"1\" /></svg>\n"
      ]
     },
     "execution_count": 32,
     "metadata": {},
     "output_type": "execute_result"
    }
   ],
   "source": [
    "# TASK: Plot constraint violation vs time\n",
    "plot(stats_gn[:time], stats_gn[:viol_primal], label=\"Gauss Newton\",\n",
    "    yscale=:log10, xlabel=\"time (ms)\", ylabel=\"Constraint violation\", legend=:bottomleft\n",
    ")\n",
    "plot!(stats_fn[:time], stats_fn[:viol_primal], label=\"Full Newton\")"
   ]
  },
  {
   "cell_type": "markdown",
   "metadata": {},
   "source": [
    "## Part (g): Track the solution with TVLQR\n",
    "Let's now use our trajectory and simulate it on a system with some model mismatch.\n",
    "\n",
    "**TASK**:\n",
    "1. Generate a TVLQR controller that tracks your optimized trajectories.\n",
    "2. Run your controller on a simulated cartpole with a cart mass of 1.1 kg instead of 1 kg. Get it to successfully stabilize. The final stabilized position doesn't have to to be at an x-position of 0. Simulate for at least 4 seconds.\n",
    "\n",
    "**TIPS**:\n",
    "1. Use code you've generated previously to build your TVLQR controller\n",
    "2. If your cartpole gets it to the top but doesn't stabilize it for the full 4 seconds, think about how you could design your controller to stabilize it..."
   ]
  },
  {
   "cell_type": "code",
   "execution_count": 50,
   "metadata": {},
   "outputs": [
    {
     "name": "stdout",
     "output_type": "stream",
     "text": [
      "Converged in 764 iterations\n"
     ]
    }
   ],
   "source": [
    "# TASK: Generate a TVLQR controller\n",
    "#       Store your controller as the variable `ctrl`\n",
    "\n",
    "# TODO: Replace this with a controller of your choice\n",
    "ctrl = NullController(model)\n",
    "\n",
    "# SOLUTION\n",
    "# using ControlSystems\n",
    "\n",
    "function tvlqr(A,B,Q,R,Qf)\n",
    "    # Extract some variables\n",
    "    T = length(A)+1\n",
    "    n,m = size(B[1])\n",
    "    P = [zeros(n,n) for k = 1:T]\n",
    "    K = [zeros(m,n) for k = 1:T-1]\n",
    "    \n",
    "    P[end] .= Qf\n",
    "    for k = reverse(1:T-1) \n",
    "        K[k] .= (R + B[k]'P[k+1]*B[k])\\(B[k]'P[k+1]*A[k])\n",
    "        P[k] .= Q + A[k]'P[k+1]*A[k] - A[k]'P[k+1]*B[k]*K[k]\n",
    "    end\n",
    "    \n",
    "    return K,P\n",
    "end\n",
    "\n",
    "function lqr(A,B,Q,R; max_iters=200, tol=1e-6)\n",
    "    P = copy(Q)\n",
    "    n,m = size(B)\n",
    "    K = zeros(m,n)\n",
    "    K_prev = copy(K)\n",
    "    \n",
    "    P = copy(Q)\n",
    "    for k = 1:max_iters\n",
    "        K .= (R + B'P*B) \\ (B'P*A)\n",
    "        P .= Q + A'P*A - A'P*B*K\n",
    "#         println(\"iter $k =\", norm(K-K_prev,Inf))\n",
    "        if norm(K-K_prev,Inf) < tol\n",
    "            println(\"Converged in $k iterations\")\n",
    "            return K\n",
    "        end\n",
    "        K_prev .= K\n",
    "    end\n",
    "    return K * NaN\n",
    "end\n",
    "\n",
    "\"\"\"\n",
    "    LQRController\n",
    "\n",
    "A TVLQR controller that tracks the trajectory specified by `Xref` and `Uref`\n",
    "using the linear feedback gains `K`.\n",
    "\"\"\"\n",
    "struct LQRController\n",
    "    K::Vector{Matrix{Float64}}\n",
    "    Xref::Vector{Vector{Float64}}\n",
    "    Uref::Vector{Vector{Float64}}\n",
    "    times::Vector{Float64}\n",
    "end\n",
    "get_k(controller, t) = searchsortedlast(controller.times, t)\n",
    "\n",
    "function get_control(ctrl::LQRController, x, t)\n",
    "    k = get_k(ctrl, t)\n",
    "    K = ctrl.K[k]\n",
    "    return ctrl.Uref[k] - K*(x - ctrl.Xref[k])\n",
    "end\n",
    "\n",
    "# Generate A,B matrices\n",
    "Xfn,Ufn = unpackZ(nlp, Zfn)\n",
    "A = [zeros(n,n) for k = 1:T-1]\n",
    "B = [zeros(n,m) for k = 1:T-1]\n",
    "∇f = RobotDynamics.DynamicsJacobian(model)\n",
    "for k = 1:T-1\n",
    "    local t = nlp.times[k]\n",
    "    local dt = nlp.times[k+1] - nlp.times[k]\n",
    "    discrete_jacobian!(RK4, ∇f, model, Xfn[k], Ufn[k], t, dt)\n",
    "    A[k] .= ∇f.A\n",
    "    B[k] .= ∇f.B\n",
    "end\n",
    "\n",
    "\n",
    "# Kinf = dlqr(A[end], B[end], Matrix(Q), Matrix(R))\n",
    "Kinf = lqr(A[end], B[end], Matrix(Q), Matrix(R), max_iters=1000)\n",
    "\n",
    "K, = tvlqr(A,B,Q,R,Qf)\n",
    "push!(K,Kinf)\n",
    "push!(Ufn,zeros(m))\n",
    "ctrl = LQRController(K, Xfn, Ufn, nlp.times);"
   ]
  },
  {
   "cell_type": "code",
   "execution_count": 40,
   "metadata": {},
   "outputs": [
    {
     "data": {
      "text/html": [
       "    <div style=\"height: 500px; width: 100%; overflow-x: auto; overflow-y: hidden; resize: both\">\n",
       "    <iframe src=\"http://127.0.0.1:8701\" style=\"width: 100%; height: 100%; border: none\"></iframe>\n",
       "    </div>\n"
      ],
      "text/plain": [
       "MeshCat.DisplayedVisualizer(MeshCat.CoreVisualizer(MeshCat.SceneTrees.SceneNode(nothing, nothing, Dict{String, Vector{UInt8}}(), UInt8[0x83, 0xa7, 0x6f, 0x70, 0x74, 0x69, 0x6f, 0x6e, 0x73, 0x82  …  0x5f, 0x61, 0x6e, 0x69, 0x6d, 0x61, 0x74, 0x69, 0x6f, 0x6e], Dict{String, MeshCat.SceneTrees.SceneNode}(\"meshcat\" => MeshCat.SceneTrees.SceneNode(nothing, nothing, Dict{String, Vector{UInt8}}(), nothing, Dict{String, MeshCat.SceneTrees.SceneNode}(\"robot\" => MeshCat.SceneTrees.SceneNode(nothing, nothing, Dict{String, Vector{UInt8}}(), nothing, Dict{String, MeshCat.SceneTrees.SceneNode}(\"rod\" => MeshCat.SceneTrees.SceneNode(UInt8[0x83, 0xa6, 0x6f, 0x62, 0x6a, 0x65, 0x63, 0x74, 0x84, 0xaa  …  0x2f, 0x72, 0x6f, 0x62, 0x6f, 0x74, 0x2f, 0x72, 0x6f, 0x64], nothing, Dict{String, Vector{UInt8}}(), nothing, Dict{String, MeshCat.SceneTrees.SceneNode}()), \"cart\" => MeshCat.SceneTrees.SceneNode(nothing, nothing, Dict{String, Vector{UInt8}}(), nothing, Dict{String, MeshCat.SceneTrees.SceneNode}(\"pole\" => MeshCat.SceneTrees.SceneNode(nothing, UInt8[0x83, 0xa6, 0x6d, 0x61, 0x74, 0x72, 0x69, 0x78, 0xc7, 0x40  …  0x2f, 0x63, 0x61, 0x72, 0x74, 0x2f, 0x70, 0x6f, 0x6c, 0x65], Dict{String, Vector{UInt8}}(), nothing, Dict{String, MeshCat.SceneTrees.SceneNode}(\"geom\" => MeshCat.SceneTrees.SceneNode(nothing, nothing, Dict{String, Vector{UInt8}}(), nothing, Dict{String, MeshCat.SceneTrees.SceneNode}(\"cyl\" => MeshCat.SceneTrees.SceneNode(UInt8[0x83, 0xa6, 0x6f, 0x62, 0x6a, 0x65, 0x63, 0x74, 0x84, 0xaa  …  0x65, 0x2f, 0x67, 0x65, 0x6f, 0x6d, 0x2f, 0x63, 0x79, 0x6c], nothing, Dict{String, Vector{UInt8}}(), nothing, Dict{String, MeshCat.SceneTrees.SceneNode}()), \"mass\" => MeshCat.SceneTrees.SceneNode(UInt8[0x83, 0xa6, 0x6f, 0x62, 0x6a, 0x65, 0x63, 0x74, 0x84, 0xaa  …  0x2f, 0x67, 0x65, 0x6f, 0x6d, 0x2f, 0x6d, 0x61, 0x73, 0x73], nothing, Dict{String, Vector{UInt8}}(), nothing, Dict{String, MeshCat.SceneTrees.SceneNode}()))))), \"box\" => MeshCat.SceneTrees.SceneNode(UInt8[0x83, 0xa6, 0x6f, 0x62, 0x6a, 0x65, 0x63, 0x74, 0x84, 0xaa  …  0x74, 0x2f, 0x63, 0x61, 0x72, 0x74, 0x2f, 0x62, 0x6f, 0x78], nothing, Dict{String, Vector{UInt8}}(), nothing, Dict{String, MeshCat.SceneTrees.SceneNode}()), \"hinge\" => MeshCat.SceneTrees.SceneNode(UInt8[0x83, 0xa6, 0x6f, 0x62, 0x6a, 0x65, 0x63, 0x74, 0x84, 0xaa  …  0x63, 0x61, 0x72, 0x74, 0x2f, 0x68, 0x69, 0x6e, 0x67, 0x65], nothing, Dict{String, Vector{UInt8}}(), nothing, Dict{String, MeshCat.SceneTrees.SceneNode}()))))))))), Set(Any[WebSocket(server, \u001b[32mCONNECTED\u001b[39m), WebSocket(server, \u001b[32mCONNECTED\u001b[39m)]), ip\"127.0.0.1\", 8701))"
      ]
     },
     "execution_count": 40,
     "metadata": {},
     "output_type": "execute_result"
    }
   ],
   "source": [
    "render(vis)"
   ]
  },
  {
   "cell_type": "code",
   "execution_count": 52,
   "metadata": {},
   "outputs": [
    {
     "name": "stdout",
     "output_type": "stream",
     "text": [
      "Controller ran at 7448.897785206729 Hz\n"
     ]
    }
   ],
   "source": [
    "# Simulate with a different model\n",
    "model2 = RobotZoo.Cartpole(1.1, 0.2, 0.5, 9.81)\n",
    "Xsim, Usim, tsim = simulate(model2, x0, ctrl, tf=2tf)\n",
    "visualize!(vis, model, tsim[end], Xsim)"
   ]
  },
  {
   "cell_type": "markdown",
   "metadata": {},
   "source": [
    "## Tests"
   ]
  },
  {
   "cell_type": "code",
   "execution_count": 53,
   "metadata": {},
   "outputs": [
    {
     "name": "stdout",
     "output_type": "stream",
     "text": [
      "\u001b[0m\u001b[1mTest Summary: | \u001b[22m\u001b[32m\u001b[1mPass  \u001b[22m\u001b[39m\u001b[36m\u001b[1mTotal\u001b[22m\u001b[39m\n",
      "Q2            | \u001b[32m  26  \u001b[39m\u001b[36m   26\u001b[39m\n"
     ]
    }
   ],
   "source": [
    "run_tests();"
   ]
  }
 ],
 "metadata": {
  "kernelspec": {
   "display_name": "Julia 1.6.5",
   "language": "julia",
   "name": "julia-1.6"
  },
  "language_info": {
   "file_extension": ".jl",
   "mimetype": "application/julia",
   "name": "julia",
   "version": "1.6.5"
  }
 },
 "nbformat": 4,
 "nbformat_minor": 4
}
