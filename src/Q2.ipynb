{
 "cells": [
  {
   "cell_type": "code",
   "execution_count": 1,
   "metadata": {},
   "outputs": [
    {
     "name": "stderr",
     "output_type": "stream",
     "text": [
      "\u001b[32m\u001b[1m Activating\u001b[22m\u001b[39m environment at `~/Classes/OptimalControl/hw3_solutions/Project.toml`\n"
     ]
    },
    {
     "ename": "LoadError",
     "evalue": "LoadError: \u001b[91msyntax: incomplete: \"function\" at /home/brian/Classes/OptimalControl/hw3_solutions/test/nlp_test.jl:43 requires end\u001b[39m\nin expression starting at /home/brian/Classes/OptimalControl/hw3_solutions/test/nlp_test.jl:43",
     "output_type": "error",
     "traceback": [
      "LoadError: \u001b[91msyntax: incomplete: \"function\" at /home/brian/Classes/OptimalControl/hw3_solutions/test/nlp_test.jl:43 requires end\u001b[39m\nin expression starting at /home/brian/Classes/OptimalControl/hw3_solutions/test/nlp_test.jl:43",
      "",
      "Stacktrace:",
      " [1] top-level scope at /home/brian/Classes/OptimalControl/hw3_solutions/test/nlp_test.jl:43",
      " [2] include(::String) at ./client.jl:457",
      " [3] top-level scope at In[1]:14",
      " [4] include_string(::Function, ::Module, ::String, ::String) at ./loading.jl:1091"
     ]
    }
   ],
   "source": [
    "import Pkg; Pkg.activate(joinpath(@__DIR__,\"..\")); \n",
    "using ForwardDiff\n",
    "using Test\n",
    "using RobotZoo\n",
    "using RobotDynamics\n",
    "using LinearAlgebra\n",
    "using StaticArrays\n",
    "using SparseArrays\n",
    "using BlockArrays\n",
    "using Printf\n",
    "using MeshCat\n",
    "\n",
    "include(\"quadratic_cost.jl\")\n",
    "include(\"../test/nlp_test.jl\")\n",
    "include(\"cartpole.jl\")"
   ]
  },
  {
   "cell_type": "markdown",
   "metadata": {},
   "source": [
    "# Q1: Sequential Quadratic Programming (SQP) (50 pts)\n",
    "In this problem you'll solve the canonical cartpole swing-up problem using sequential-quadratic programming (SQP), as we learned in class. While coding up a complete SQP solver is very challenging, we'll simplify it by only considering problems of the form:\n",
    "\n",
    "$$\\begin{aligned} &\\text{minimize}_z && \\frac{1}{2} z^T Q z + q^T z \\\\\n",
    "&\\text{subject to} && c(z) = 0 \\end{aligned} $$\n",
    "\n",
    "I.e. we'll only have you worry about equality constraints. Your overall algorithm should run something like this:\n",
    "1. Initialization\n",
    "2. Build the QP for the current step by taking Taylor series approximations of the cost and constraints\n",
    "3. Solve the QP to get search directions for you primal and dual variables\n",
    "4. Use a line search (or other globalization strategy) to find a good step\n",
    "5. If termination conditions are satisfied, exit; otherwise, go to 2\n",
    "\n",
    "## The Problem\n",
    "You likely have already seen the cartpole swing-up problem previously. As shown in the picture below, the system is comprised of a pendulum attached to a cart, where forces can only be applied to the cart. The goal is to balance the pendulum above the cart. The system dynamics can be written as:\n",
    "\n",
    "$$ x = \\begin{bmatrix} y \\\\ \\theta \\\\ v \\\\ \\omega \\end{bmatrix}, \\quad \\dot{x} = \\begin{bmatrix} \\dot{q} \\\\ \\ddot{q} \\end{bmatrix}, \\quad\n",
    "q = \\begin{bmatrix} y \\\\ \\theta \\end{bmatrix}, \\quad\n",
    "\\ddot{q} = -H^{-1} (C \\dot{q} + G - B u)$$\n",
    "\n",
    "where \n",
    "$$ H = \\begin{bmatrix} m_c + m_p & m_p l \\cos{\\theta} \\\\\n",
    "m_p l \\cos{\\theta} & m_p l^2 \\end{bmatrix}, \\;\n",
    "C = \\begin{bmatrix} 0 & -m_p \\omega l \\sin{\\theta} \\\\ 0 & 0 \\end{bmatrix}, \\;\n",
    "G = \\begin{bmatrix} 0 \\\\ m_p g l \\sin{\\theta} \\end{bmatrix}, \\;\n",
    "B = \\begin{bmatrix} 1 \\\\ 0 \\end{bmatrix} $$\n",
    "\n",
    "with the following parameters:\n",
    "* $m_p$: mass of the pole\n",
    "* $m_c$: mass of the cart\n",
    "* $g$: gravity\n",
    "* $l$: length of the rod"
   ]
  },
  {
   "cell_type": "code",
   "execution_count": 2,
   "metadata": {},
   "outputs": [],
   "source": [
    "# Build the problem\n",
    "model = RobotZoo.Cartpole()\n",
    "n,m = size(model)\n",
    "T = 101\n",
    "tf = 2.0\n",
    "dt = tf / (T-1)\n",
    "\n",
    "# Initial & final condition\n",
    "x0 = @SVector zeros(n)\n",
    "xf = SA[0,pi,0,0];\n",
    "\n",
    "# Cost function\n",
    "Q = Diagonal(fill(1e-2,n))\n",
    "R = Diagonal(fill(1e-1,m))\n",
    "Qf = Diagonal(fill(1e1,n))\n",
    "costfun = LQRCost(Q,R,xf)\n",
    "costterm = LQRCost(Qf,R,xf)\n",
    "obj = push!(fill(costfun,T-1), costterm)\n",
    "\n",
    "# Initial Guess (linear interpolation)\n",
    "X = [x0 + (xf - x0)*t for t in range(0,1, length=T)]\n",
    "U = [@SVector zeros(m) for k = 1:T-1];"
   ]
  },
  {
   "cell_type": "markdown",
   "metadata": {},
   "source": [
    "## Part (a): Evaluate the NLP\n",
    "Before we put together our SQP method, let's write some convenient methods for evaluating the information we'll need from the NLP. We've given you a struct `NLP` below that contains all the information you'll need to evaluate things like the cost function, constraints, and their derivatives."
   ]
  },
  {
   "cell_type": "code",
   "execution_count": 3,
   "metadata": {},
   "outputs": [
    {
     "data": {
      "text/plain": [
       "unpackZ"
      ]
     },
     "execution_count": 3,
     "metadata": {},
     "output_type": "execute_result"
    }
   ],
   "source": [
    "\"\"\"\n",
    "    NLP{n,m,L,Q}\n",
    "\n",
    "Represents a (N)on(L)inear (P)rogram of a trajectory optimization problem,\n",
    "with a dynamics model of type `L`, a quadratic cost function, horizon `T`, \n",
    "and initial and final state `x0`, `xf`.\n",
    "\n",
    "The kth state and control can be extracted from the concatenated state vector `Z` using\n",
    "`Z[nlp.xinds[k]]`, and `Z[nlp.uinds[k]]`.\n",
    "\n",
    "# Constructor\n",
    "    NLP(model, obj, tf, T, x0, xf, [integration])\n",
    "\n",
    "# Basic Methods\n",
    "    Base.size(nlp)    # returns (n,m,T)\n",
    "    num_ineq(nlp)     # number of inequality constraints\n",
    "    num_eq(nlp)       # number of equality constraints\n",
    "    num_primals(nlp)  # number of primal variables\n",
    "    num_duals(nlp)    # total number of dual variables\n",
    "    packZ(nlp, X, U)  # Stacks state `X` and controls `U` into one vector `Z`\n",
    "\n",
    "# Evaluating the NLP\n",
    "The NLP supports the following API for evaluating various pieces of the NLP:\n",
    "\n",
    "    eval_f(nlp, Z)         # evaluate the objective\n",
    "    grad_f!(nlp, grad, Z)  # gradient of the objective\n",
    "    hess_f!(nlp, hess, Z)  # Hessian of the objective\n",
    "    eval_c!(nlp, c, Z)     # evaluate the constraints\n",
    "    jac_c!(nlp, c, Z)      # constraint Jacobian\n",
    "\"\"\"\n",
    "struct NLP{n,m,L,Q}\n",
    "    model::L                                 # dynamics model\n",
    "    obj::Vector{QuadraticCost{n,m,Float64}}  # objective function\n",
    "    T::Int                                   # number of knot points\n",
    "    tf::Float64                              # total time (sec)\n",
    "    x0::MVector{n,Float64}                   # initial condition\n",
    "    xf::MVector{n,Float64}                   # final condition\n",
    "    xinds::Vector{SVector{n,Int}}            # Z[xinds[k]] gives states for time step k\n",
    "    uinds::Vector{SVector{m,Int}}            # Z[uinds[k]] gives controls for time step k\n",
    "    times::Vector{Float64}                   # vector of times\n",
    "    function NLP(model::AbstractModel, obj::Vector{<:QuadraticCost{n,m}},\n",
    "            tf::Real, T::Integer, x0::AbstractVector, xf::AbstractVector, integration::Type{<:QuadratureRule}=RK4\n",
    "        ) where {n,m}\n",
    "        xinds = [SVector{n}((k-1)*(n+m) .+ (1:n)) for k = 1:T]\n",
    "        uinds = [SVector{m}((k-1)*(n+m) .+ (n+1:n+m)) for k = 1:T-1]\n",
    "        times = collect(range(0, tf, length=T))\n",
    "        new{n,m,typeof(model), integration}(\n",
    "            model, obj,\n",
    "            T, tf, x0, xf, xinds, uinds, times\n",
    "        )\n",
    "    end\n",
    "end\n",
    "Base.size(nlp::NLP{n,m}) where {n,m} = (n,m,nlp.T)\n",
    "num_primals(nlp::NLP{n,m}) where {n,m} = n*nlp.T + m*(nlp.T-1)\n",
    "num_duals(nlp::NLP) = num_eq(nlp) + num_ineq(nlp)\n",
    "num_eq(nlp::NLP{n,m}) where {n,m} = n*nlp.T + n\n",
    "num_ineq(nlp::NLP) = 0\n",
    "\n",
    "\"\"\"\n",
    "    packZ(nlp, X, U)\n",
    "\n",
    "Take a vector state vectors `X` and controls `U` and stack them into a single vector Z.\n",
    "\"\"\"\n",
    "function packZ(nlp, X, U)\n",
    "    Z = zeros(num_primals(nlp))\n",
    "    for k = 1:nlp.T-1\n",
    "        Z[nlp.xinds[k]] = X[k]\n",
    "        Z[nlp.uinds[k]] = U[k]\n",
    "    end\n",
    "    Z[nlp.xinds[end]] = X[end]\n",
    "    return Z\n",
    "end\n",
    "\n",
    "\"\"\"\n",
    "    unpackZ(nlp, Z)\n",
    "\n",
    "Take a vector of all the states and controls and return a vector of state vectors `X` and\n",
    "controls `U`.\n",
    "\"\"\"\n",
    "function unpackZ(nlp, Z)\n",
    "    X = [Z[xi] for xi in nlp.xinds]\n",
    "    U = [Z[ui] for ui in nlp.uinds]\n",
    "    return X, U\n",
    "end"
   ]
  },
  {
   "cell_type": "markdown",
   "metadata": {},
   "source": [
    "### Objective\n",
    "Complete the following methods to evaluate the objective and its derivatives."
   ]
  },
  {
   "cell_type": "code",
   "execution_count": 4,
   "metadata": {},
   "outputs": [
    {
     "data": {
      "text/plain": [
       "hess_f!"
      ]
     },
     "execution_count": 4,
     "metadata": {},
     "output_type": "execute_result"
    }
   ],
   "source": [
    "# TASK: Finish the following methods\n",
    "#       eval_f\n",
    "#       grad_f!\n",
    "#       hess_f!\n",
    "\n",
    "\"\"\"\n",
    "    eval_f(nlp, Z)\n",
    "\n",
    "Evaluate the objective, returning a scalar.\n",
    "\"\"\"\n",
    "function eval_f(nlp::NLP, Z)\n",
    "    # TASK: compute the objective value (cost)\n",
    "    J = 0.0\n",
    "    \n",
    "    # SOLUTION\n",
    "    xi,ui = nlp.xinds, nlp.uinds\n",
    "    for k = 1:nlp.T-1\n",
    "        x,u = Z[xi[k]], Z[ui[k]]\n",
    "        J += stagecost(nlp.obj[k], x, u)\n",
    "    end\n",
    "    J += termcost(nlp.obj[end], Z[xi[end]])\n",
    "    return J\n",
    "end\n",
    "\n",
    "\"\"\"\n",
    "    grad_f!(nlp, grad, Z)\n",
    "\n",
    "Evaluate the gradient of the objective at `Z`, storing the result in `grad`.\n",
    "\"\"\"\n",
    "function grad_f!(nlp::NLP{n,m}, grad, Z) where {n,m}\n",
    "    xi,ui = nlp.xinds, nlp.uinds\n",
    "    obj = nlp.obj\n",
    "    for k = 1:nlp.T-1\n",
    "        x,u = Z[xi[k]], Z[ui[k]]\n",
    "        # TASK: Compute the cost gradient\n",
    "        grad[xi[k]] .= 0\n",
    "        grad[ui[k]] .= 0\n",
    "        \n",
    "        # SOLUTION\n",
    "        grad[xi[k]] = obj[k].Q*x + obj[k].q\n",
    "        grad[ui[k]] = obj[k].R*u + obj[k].r\n",
    "    end\n",
    "    grad[xi[end]] = obj[end].Q*Z[xi[end]] + obj[end].q\n",
    "    return nothing\n",
    "end\n",
    "\n",
    "\"\"\"\n",
    "    hess_f!(nlp, hess, Z)\n",
    "\n",
    "Evaluate the Hessian of the objective at `Z`, storing the result in `hess`.\n",
    "Should work with `hess` sparse.\n",
    "\"\"\"\n",
    "function hess_f!(nlp::NLP{n,m}, hess, Z, rezero=true) where {n,m}\n",
    "    # TASK: Compute the objective hessian\n",
    "    # HINT: It's a diagonal matrix\n",
    "    if rezero\n",
    "        for i = 1:size(hess,1)\n",
    "            hess[i,i] = 0\n",
    "        end\n",
    "    end\n",
    "    xi,ui = nlp.xinds, nlp.uinds\n",
    "    obj = nlp.obj\n",
    "    i = 1\n",
    "    for k = 1:nlp.T\n",
    "        for j = 1:n\n",
    "            hess[i,i] += nlp.obj[k].Q[j,j]\n",
    "            i += 1\n",
    "        end\n",
    "        if k < nlp.T\n",
    "            for j = 1:m\n",
    "                hess[i,i] += nlp.obj[k].R[j,j]\n",
    "                i += 1\n",
    "            end\n",
    "        end\n",
    "    end\n",
    "end"
   ]
  },
  {
   "cell_type": "markdown",
   "metadata": {},
   "source": [
    "## Constraints\n",
    "Complete the following methods to evaluate the constraints and their derivatives."
   ]
  },
  {
   "cell_type": "code",
   "execution_count": 5,
   "metadata": {},
   "outputs": [
    {
     "data": {
      "text/plain": [
       "jac_c!"
      ]
     },
     "execution_count": 5,
     "metadata": {},
     "output_type": "execute_result"
    }
   ],
   "source": [
    "# TASK: Complete the following methods\n",
    "#       eval_c!\n",
    "#       jac_c!\n",
    "#       ∇jvp!\n",
    "\"\"\"\n",
    "    eval_c!(nlp, c, Z)\n",
    "\n",
    "Evaluate the equality constraints at `Z`, storing the result in `c`.\n",
    "The constraints should be ordered as follows: \n",
    "1. Initial condition ``x_1 = x_\\\\text{init}``\n",
    "2. Dynamics ``f(x_k,u_k) - x_{k+1} = 0``\n",
    "3. Terminal constraint ``x_T = x_\\\\text{goal}``\n",
    "\"\"\"\n",
    "function eval_c!(nlp::NLP{n,m,<:Any,Q}, c, Z) where {n,m,Q}\n",
    "    T = nlp.T\n",
    "    xi,ui = nlp.xinds, nlp.uinds\n",
    "    idx = xi[1]\n",
    "\n",
    "    # TODO: initial condition\n",
    "    c[idx] = Z[xi[1]] - nlp.x0\n",
    "\n",
    "    # dynamics\n",
    "    for k = 1:T-1\n",
    "        idx = idx .+ n\n",
    "        x,u = Z[xi[k]], Z[ui[k]]\n",
    "        x⁺ = Z[xi[k+1]]\n",
    "        dt = nlp.times[k+1] - nlp.times[k]\n",
    "        \n",
    "        # TASK: Dynamics constraint\n",
    "        c[idx] .= 0\n",
    "        \n",
    "        # SOLUTION\n",
    "        c[idx] = discrete_dynamics(Q, nlp.model, x, u, nlp.times[k], dt) - x⁺\n",
    "    end\n",
    "\n",
    "    # TODO: terminal constraint\n",
    "    idx = idx .+ n\n",
    "    c[idx] .= 0\n",
    "    \n",
    "    # SOLUTION\n",
    "    c[idx] = Z[xi[T]] - nlp.xf\n",
    "    return nothing\n",
    "end\n",
    "\n",
    "\"\"\"\n",
    "    jac_c!(nlp, jac, Z)\n",
    "\n",
    "Evaluate the constraint Jacobian, storing the result in the (potentially sparse) matrix `jac`.\n",
    "\"\"\"\n",
    "function jac_c!(nlp::NLP{n,m,<:Any,Q}, jac, Z) where {n,m,Q}\n",
    "    # cTODO: Initial condition\n",
    "    # SOLUTION\n",
    "    for i = 1:n\n",
    "        jac[i,i] = 1\n",
    "    end\n",
    "\n",
    "    xi,ui = nlp.xinds, nlp.uinds\n",
    "    idx = xi[1]\n",
    "    for k = 1:nlp.T-1\n",
    "        idx = idx .+ n \n",
    "        zi = [xi[k];ui[k]]\n",
    "        dt = nlp.times[k+1] - nlp.times[k]\n",
    "        ∇f = view(jac, idx, zi)\n",
    "        \n",
    "        # TODO: Dynamics constraint\n",
    "        z = StaticKnotPoint(Z[zi], xi[1], ui[1], dt, nlp.times[k])\n",
    "        discrete_jacobian!(Q, ∇f, nlp.model, z, nothing)\n",
    "        for i = 1:n\n",
    "            jac[idx[i], zi[end]+i] = -1\n",
    "        end\n",
    "    end\n",
    "    idx = idx .+ n \n",
    "    \n",
    "    # TODO: Terminal constraint\n",
    "    # SOLUTION\n",
    "    for i = 1:n\n",
    "        jac[idx[i], xi[end][i]] = 1\n",
    "    end\n",
    "end"
   ]
  },
  {
   "cell_type": "markdown",
   "metadata": {},
   "source": [
    "## Lagrangian"
   ]
  },
  {
   "cell_type": "code",
   "execution_count": 6,
   "metadata": {},
   "outputs": [
    {
     "data": {
      "text/plain": [
       "hess_lagrangian!"
      ]
     },
     "execution_count": 6,
     "metadata": {},
     "output_type": "execute_result"
    }
   ],
   "source": [
    "# TASK: Complete the following methods\n",
    "#       lagrangian\n",
    "#       grad_lagrangian!\n",
    "#       hess_lagrangian!\n",
    "\n",
    "\"\"\"\n",
    "    lagrangian(nlp, Z, λ, c)\n",
    "\n",
    "Evaluate the Lagrangian at `Z` and `λ`. Calculates the constraints, storing the result in `c`.\n",
    "\n",
    "The sign on the multipliers should be negative, e.g. J(x) - λ'c(x)\n",
    "\"\"\"\n",
    "function lagrangian(nlp::NLP{n,m}, Z, λ, c=zeros(eltype(Z),length(λ))) where {n,m}\n",
    "    # TODO: Calculate the Lagrangian\n",
    "    L = 0\n",
    "    \n",
    "    J = eval_f(nlp, Z)\n",
    "    eval_c!(nlp, c, Z)\n",
    "    L = J - dot(λ,c)\n",
    "    return L\n",
    "end\n",
    "\n",
    "\"\"\"\n",
    "    grad_lagrangian(nlp, grad, Z, λ)\n",
    "\n",
    "Evaluate the gradient of the Lagrangian.\n",
    "\"\"\"\n",
    "function grad_lagrangian!(nlp::NLP{n,m}, grad, Z, λ, tmp=zeros(eltype(Z), n+m)) where {n,m}\n",
    "    # TODO: Calculate the gradient of the Lagrangian, store the result in grad\n",
    "    \n",
    "    # SOLUTION\n",
    "    grad_f!(nlp, grad, Z)\n",
    "    grad .*= -1\n",
    "    jvp!(nlp, grad, Z, λ, false, tmp)\n",
    "    grad .*= -1\n",
    "    return nothing\n",
    "end\n",
    "\n",
    "\"\"\"\n",
    "    hess_lagrangian(nlp, grad, Z, λ)\n",
    "\n",
    "Evaluate the Hessian of the Lagrangian.\n",
    "\"\"\"\n",
    "function hess_lagrangian!(nlp::NLP{n,m}, hess, Z, λ) where {n,m}\n",
    "    # TODO: Calculate the Hessian of the Lagrangian, store the result in hess\n",
    "    \n",
    "    # SOLUTION\n",
    "    ∇jvp!(nlp, hess, Z, λ)\n",
    "    hess .*= -1\n",
    "    hess_f!(nlp, hess, Z, false)\n",
    "    return nothing\n",
    "end"
   ]
  },
  {
   "cell_type": "markdown",
   "metadata": {},
   "source": [
    "## Residuals\n",
    "Feel free to use these function to evaluate the primal and dual residuals."
   ]
  },
  {
   "cell_type": "code",
   "execution_count": 7,
   "metadata": {},
   "outputs": [
    {
     "data": {
      "text/plain": [
       "dual_residual"
      ]
     },
     "execution_count": 7,
     "metadata": {},
     "output_type": "execute_result"
    }
   ],
   "source": [
    "\"\"\"\n",
    "    primal_residual(nlp, Z, λ, [g; p])\n",
    "\n",
    "Evaluate the `p`-norm of the primal residual (stationarity condition).\n",
    "\"\"\"\n",
    "function primal_residual(nlp::NLP, Z, λ, g=zeros(num_primals(nlp)); p=2)\n",
    "    grad_lagrangian!(nlp, g, Z, λ)\n",
    "    return norm(g, p)\n",
    "end\n",
    "\n",
    "\"\"\"\n",
    "    dual_residual(nlp, Z, λ, [c; p])\n",
    "\n",
    "Evaluate the `p`-norm of the dual residual (constraint violation).\n",
    "\"\"\"\n",
    "function dual_residual(nlp::NLP, Z, λ, c=zeros(num_eq(nlp)); p=2)\n",
    "    eval_c!(nlp, c, Z)\n",
    "    norm(c, p)\n",
    "end"
   ]
  },
  {
   "cell_type": "markdown",
   "metadata": {},
   "source": [
    "### Extra Methods"
   ]
  },
  {
   "cell_type": "code",
   "execution_count": 8,
   "metadata": {},
   "outputs": [
    {
     "data": {
      "text/plain": [
       "∇jvp!"
      ]
     },
     "execution_count": 8,
     "metadata": {},
     "output_type": "execute_result"
    }
   ],
   "source": [
    "\"\"\"\n",
    "    jvp!(nlp, jac, Z, λ)\n",
    "\n",
    "Evaluate the constraint Jacobian-transpose vector product ``\\\\nabla c^T \\\\lambda``, storing the result in the vector `jac`.\n",
    "\"\"\"\n",
    "function jvp!(nlp::NLP{n,m,<:Any,Q}, jac, Z, λ, rezero::Bool=true, tmp=zeros(n+m)) where {n,m,Q}\n",
    "    for i = 1:n\n",
    "        rezero && (jac[i] = 0)\n",
    "        jac[i] += λ[i]\n",
    "    end\n",
    "\n",
    "    xi,ui = nlp.xinds, nlp.uinds\n",
    "    idx = [xi[1]; ui[1]]\n",
    "    idx2 = xi[1]\n",
    "    for k = 1:nlp.T-1\n",
    "        idx2 = idx2 .+ n\n",
    "        zi = [xi[k];ui[k]]\n",
    "        dt = nlp.times[k+1] - nlp.times[k]\n",
    "        z = StaticKnotPoint(Z[zi], xi[1], ui[1], dt, nlp.times[k])\n",
    "        λ_ = λ[idx2]\n",
    "        RobotDynamics.discrete_jvp!(Q, tmp, nlp.model, z, λ_)\n",
    "        rezero && (jac[idx[end]] = 0)\n",
    "        jac[idx] += tmp \n",
    "\n",
    "        idx = idx .+ (n + m)\n",
    "        for i = 1:n\n",
    "            rezero && (jac[idx[i]] = 0)\n",
    "            jac[idx[i]] += -λ_[i]\n",
    "        end\n",
    "    end\n",
    "    λT = λ[idx2 .+ n]\n",
    "    for i = 1:n\n",
    "        jac[idx[i]] += λT[i]\n",
    "    end\n",
    "end\n",
    "\n",
    "\"\"\"\n",
    "    ∇jvp!(nlp, hess, Z, λ)\n",
    "\n",
    "Evaluate the Jacobian of the constraint Jacobian-transpose vector product, e.g. ``\\\\frac{\\\\partial}{\\\\partial z} \\\\nabla c^T \\\\lambda``,\n",
    "storing the result in the (potentially sparse) matrix `hess`.\n",
    "\"\"\"\n",
    "function ∇jvp!(nlp::NLP{n,m,<:Any,Q}, hess, Z, λ) where {n,m,Q}\n",
    "    xi,ui = nlp.xinds, nlp.uinds\n",
    "    idx = [xi[1]; ui[1]]\n",
    "    idx2 = xi[1]\n",
    "    \n",
    "    # TODO: Initial Constraint\n",
    "    for k = 1:nlp.T-1\n",
    "        idx2 = idx2 .+ n\n",
    "        x = Z[xi[k]]\n",
    "        u = Z[ui[k]]\n",
    "        λk = λ[idx2]\n",
    "        dt = nlp.times[k+1] - nlp.times[k]\n",
    "        ∇f = view(hess, idx, idx)\n",
    "        cols = k < T-1 ? idx .+ (n+m) : xi[T]\n",
    "        ∇f2 = view(hess, idx, cols)\n",
    "        \n",
    "        # TODO: Calculate second derivative the dynamics\n",
    "        # SOLTUION\n",
    "        zi = [xi[k];ui[k]]\n",
    "        z = StaticKnotPoint(Z[zi], xi[1], ui[1], dt, nlp.times[k])\n",
    "        RobotDynamics.∇discrete_jacobian!(Q, ∇f, nlp.model, z, λk)\n",
    "        \n",
    "        # Advance indices\n",
    "        idx = idx .+ (n + m)\n",
    "    end\n",
    "    # TODO: Terminal constraint\n",
    "    for i = 1:n\n",
    "        hess[end-i+1,end-i+1] = 0\n",
    "    end\n",
    "end"
   ]
  },
  {
   "cell_type": "markdown",
   "metadata": {},
   "source": [
    "### Testing the Methods"
   ]
  },
  {
   "cell_type": "code",
   "execution_count": 9,
   "metadata": {},
   "outputs": [],
   "source": [
    "nlp = NLP(model, obj, tf, T, x0, xf)\n",
    "Z = packZ(nlp, X, U)\n",
    "λ = zeros(num_duals(nlp));"
   ]
  },
  {
   "cell_type": "code",
   "execution_count": 14,
   "metadata": {},
   "outputs": [
    {
     "data": {
      "text/plain": [
       "test_nlp (generic function with 1 method)"
      ]
     },
     "execution_count": 14,
     "metadata": {},
     "output_type": "execute_result"
    }
   ],
   "source": [
    "include(\"../test/nlp_test.jl\")"
   ]
  },
  {
   "cell_type": "code",
   "execution_count": 15,
   "metadata": {},
   "outputs": [
    {
     "name": "stdout",
     "output_type": "stream",
     "text": [
      "\u001b[37m\u001b[1mTest Summary: | \u001b[22m\u001b[39m\u001b[32m\u001b[1mPass  \u001b[22m\u001b[39m\u001b[36m\u001b[1mTotal\u001b[22m\u001b[39m\n",
      "NLP tests     | \u001b[32m 117  \u001b[39m\u001b[36m  117\u001b[39m\n"
     ]
    }
   ],
   "source": [
    "# Z = packZ(nlp, X, U)\n",
    "# λ = rand(num_duals(nlp));\n",
    "test_nlp(nlp, Z, λ, extra_methods=true);"
   ]
  },
  {
   "cell_type": "markdown",
   "metadata": {},
   "source": [
    "## Part (b): Solving the QP\n",
    "Now that we have methods to evaluate our NLP and its derivatives, we need some methods to form the QP from our NLP and then solve it. Use the struct we've provided below and implement the `build_qp!` method to update the QP sub-problem from the current primal and dual variables, as well as the `solve_qp!` method to solve it for the step directions in the primal and dual variables. Note that since our NLP only has equality constraints, the QP sub-problem will also only have equality constraints, so it can be solved directly using a linear solve on the KKT conditions."
   ]
  },
  {
   "cell_type": "code",
   "execution_count": 16,
   "metadata": {},
   "outputs": [
    {
     "data": {
      "text/plain": [
       "num_duals (generic function with 2 methods)"
      ]
     },
     "execution_count": 16,
     "metadata": {},
     "output_type": "execute_result"
    }
   ],
   "source": [
    "@doc raw\"\"\"\n",
    "    TOQP\n",
    "\n",
    "A type specifying a (T)rajectory (O)ptimization (Q)uadratic (P)rogram, of the form\n",
    "\n",
    "\n",
    "``\\begin{aligned} &\\text{minimize} &&\\frac{1}{2} z^T Q z + q^T z \\\\ \n",
    "&\\text{subject to} && A z = b \\\\ \n",
    "&&& l \\leq C z \\leq u \\end{aligned}``\n",
    "\n",
    "where ``z = [x_1^T \\; u_1^T \\; \\dots \\; x_{T-1}^T \\; u_{T-1}^T \\; x_T^T]^T`` and \n",
    "``x \\in \\mathbb{R}^n`` is the state vector and ``u \\in \\mathbb{R}^m`` is the control vector.\n",
    "\n",
    "# Constructors\n",
    "\n",
    "    TOQP(n,m,T,M,P)\n",
    "\n",
    "where `n` is the number of states, `m` is the number of controls, `T` is the horizon, `M` is the number of equality \n",
    "constraints, and `P` is the number of inequality constraints.\n",
    "\n",
    "# Methods\n",
    "\n",
    "    num_ineq(qp)     # number of inequality constraints\n",
    "    num_eq(qp)       # number of equality constraints\n",
    "    num_primals(qp)  # number of primal variables\n",
    "    num_duals(qp)    # total number of dual variables\n",
    "\n",
    "\n",
    "\"\"\"\n",
    "struct TOQP\n",
    "    Q::SparseMatrixCSC{Float64,Int}  # quadratic cost\n",
    "    q::Vector{Float64}               # linear cost\n",
    "    A::SparseMatrixCSC{Float64,Int}  # equality constraint Ax = b\n",
    "    b::Vector{Float64}               # equality constraint \n",
    "    C::SparseMatrixCSC{Float64,Int}  # inequality constraint l ≤ Cx ≤ u\n",
    "    l::Vector{Float64}               # inequality constraint lower bound\n",
    "    u::Vector{Float64}               # inequality constraint upper bound\n",
    "    n::Int\n",
    "    m::Int\n",
    "    T::Int\n",
    "\n",
    "    function TOQP(n,m,T,M,P)\n",
    "        N = n*T + (T-1)*m\n",
    "        Q = spzeros(N,N)\n",
    "        q = zeros(N)\n",
    "        A = spzeros(M,N)\n",
    "        b = zeros(M) \n",
    "        C = spzeros(P,N)\n",
    "        l = fill(-Inf,P)\n",
    "        u = fill(Inf,P)\n",
    "\n",
    "        new(Q,q,A,b,C,l,u,n,m,T)\n",
    "    end\n",
    "end\n",
    "\n",
    "\n",
    "function TOQP(nlp::NLP{n,m}) where {n,m}\n",
    "    TOQP(n,m,nlp.T, num_eq(nlp), num_ineq(nlp))\n",
    "end\n",
    "\n",
    "num_ineq(qp::TOQP) = length(qp.l)\n",
    "num_eq(qp::TOQP) = length(qp.b)\n",
    "num_primals(qp::TOQP) = length(qp.q)\n",
    "num_duals(qp::TOQP) = num_ineq(qp) + num_eq(qp)"
   ]
  },
  {
   "cell_type": "markdown",
   "metadata": {},
   "source": [
    "### Build the QP"
   ]
  },
  {
   "cell_type": "code",
   "execution_count": 17,
   "metadata": {},
   "outputs": [
    {
     "data": {
      "text/plain": [
       "build_qp!"
      ]
     },
     "execution_count": 17,
     "metadata": {},
     "output_type": "execute_result"
    }
   ],
   "source": [
    "# TASK: Complete the following method to build the QP sub-problem\n",
    "\"\"\"\n",
    "    build_qp!(qp, nlp, Z, λ; [gn=true])\n",
    "\n",
    "Build a QP from the NLP, evaluated at primal variables `Z` and dual variables `λ`, \n",
    "optionally using either the Hessian of the cost function (`gn = true`) or the Hessian of the Lagrangian (`gn = false`).\n",
    "\"\"\"\n",
    "function build_qp!(qp::TOQP, nlp::NLP, Z, λ; gn::Bool=true)\n",
    "    # TODO: Build the qp, filling in qp.Q, qp.q, qp.A, qp.b\n",
    "    jac_c!(nlp, qp.A, Z)\n",
    "    eval_c!(nlp, qp.b, Z)\n",
    "    qp.b .*= -1  # reverse sign\n",
    "    grad_lagrangian!(nlp, qp.q, Z, λ)\n",
    "\n",
    "    if gn\n",
    "        hess_f!(nlp, qp.Q, Z)\n",
    "    else\n",
    "        hess_lagrangian!(nlp, qp.Q, Z, λ)\n",
    "    end\n",
    "    return nothing\n",
    "end"
   ]
  },
  {
   "cell_type": "markdown",
   "metadata": {},
   "source": [
    "### Solve the QP"
   ]
  },
  {
   "cell_type": "code",
   "execution_count": 18,
   "metadata": {},
   "outputs": [
    {
     "data": {
      "text/plain": [
       "solve_qp!"
      ]
     },
     "execution_count": 18,
     "metadata": {},
     "output_type": "execute_result"
    }
   ],
   "source": [
    "# TASK: Complete the function to solve the QP\n",
    "\"\"\"\n",
    "    solve_qp!(qp, [reg])\n",
    "\n",
    "Solve the QP, optionally applying regularization `reg`.\n",
    "\"\"\"\n",
    "function solve_qp!(qp::TOQP, reg=0.0)\n",
    "    # TODO: Solve the QP sub-problem\n",
    "    # HINT: Form the KKT system and solve with a single linear solve\n",
    "    N,M = num_primals(qp), num_duals(qp)\n",
    "    \n",
    "    # SOLUTION\n",
    "    K = [qp.Q + reg*I qp.A'; qp.A -reg*I]\n",
    "    t = [-qp.q; qp.b]\n",
    "    dY = K\\t\n",
    "    dZ = dY[1:N]\n",
    "    dλ = dY[N+1:N+M]\n",
    "    return dZ, dλ\n",
    "end"
   ]
  },
  {
   "cell_type": "markdown",
   "metadata": {},
   "source": [
    "## Part (c): Writing the SQP Method"
   ]
  },
  {
   "cell_type": "code",
   "execution_count": 19,
   "metadata": {},
   "outputs": [
    {
     "data": {
      "text/plain": [
       "minimum_penalty"
      ]
     },
     "execution_count": 19,
     "metadata": {},
     "output_type": "execute_result"
    }
   ],
   "source": [
    "# TASK: Complete the SQP method\n",
    "\"\"\"\n",
    "    solve_sqp!(nlp, Z, λ; kwargs...)\n",
    "\n",
    "Solve the trajectory optimization problem specified by `nlp` using Sequential Quadratic Programming, given the initial \n",
    "guess for the primal variables `Z` and `λ`.\n",
    "\"\"\"\n",
    "function solve_sqp!(nlp, Z, λ;\n",
    "        iters=100,                   # max number of iterations\n",
    "        verbose=0,                   # verbosity level\n",
    "        eps_primal=1e-6,             # primal feasibility tolerance\n",
    "        eps_dual=1e-6,               # dual feasibility tolerance\n",
    "        eps_fn=sqrt(eps_primal),     # \n",
    "        gn::Bool=true,               # use Gauss-Newton approximation\n",
    "        enable_soc::Bool=true,       # enable Second-Order-Corrections during the line search\n",
    "        ls_iters=10,                 # max number of line search iterations\n",
    "        reg_min=1e-6,                # minimum regularization\n",
    "    )\n",
    "\n",
    "    # Initialize solution\n",
    "    qp = TOQP(size(nlp)..., num_eq(nlp), 0)\n",
    "\n",
    "    # Line Search parameters\n",
    "    μ = 10.0\n",
    "    ḡ = zero(Z)\n",
    "    c̄ = zero(λ)\n",
    "    Z̄ = zero(Z)\n",
    "    dZ = zero(Z)\n",
    "    reg = reg_min \n",
    "\n",
    "    for iter = 1:iters\n",
    "        ## Check the residuals and cost\n",
    "        res_p = primal_residual(nlp, Z, λ)\n",
    "        res_d = dual_residual(nlp, Z, λ)\n",
    "        J = eval_f(nlp, Z)\n",
    "        verbose > 0 && @printf(\"Iteration %d: cost = %0.2f, res_p = %0.2e, res_d = %0.2e,\", iter, J, res_p, res_d)\n",
    "\n",
    "        # Termination conditions\n",
    "        if res_p < eps_dual && res_d < eps_primal\n",
    "            verbose > 0 && println()\n",
    "            break\n",
    "        end\n",
    "\n",
    "        # Build QP\n",
    "        build_qp!(qp, nlp, Z, λ, gn=gn)\n",
    "        \n",
    "        # Solve the QP\n",
    "        dZ, dλ = solve_qp!(qp, reg)\n",
    "\n",
    "        # Update penalty paramter\n",
    "        μ_min = minimum_penalty(qp.Q, qp.q, qp.b, dZ)\n",
    "        if μ < μ_min\n",
    "            μ = μ_min*1.1\n",
    "        end\n",
    "\n",
    "        # Line Search\n",
    "        α = 1.0\n",
    "        J0 = eval_f(nlp, Z)\n",
    "        grad0 = qp.q\n",
    "        c0 = qp.b\n",
    "        phi0 = J0 + μ * norm(c0, 1)            # merit function\n",
    "        dphi0 = grad0'dZ - μ * norm(c0, 1)     # gradient of the merit function (Nocedal & Wright Theorem 18.2)\n",
    "        phi = Inf\n",
    "\n",
    "        soc = false\n",
    "        τ = 0.5\n",
    "        η = 1e-2\n",
    "        # verbose > 2 && @printf(\"\\n   ϕ0: %0.2f, ϕ′: %0.2e, %0.2e\\n\", phi0, dphi0, dphi1)\n",
    "        for i = 1:10\n",
    "            # Calculate merit function at new step\n",
    "            Z̄ .= Z .+ α .* dZ\n",
    "            eval_c!(nlp, c̄, Z̄)\n",
    "            phi = eval_f(nlp, Z̄) + μ * norm(c̄, 1)\n",
    "\n",
    "            # Check Armijo\n",
    "            if phi < phi0 + η*α*dphi0\n",
    "                reg = max(reg /= 100, reg_min)\n",
    "                break\n",
    "            # Try second-order correction\n",
    "            elseif α == 1.0 && enable_soc\n",
    "                A = qp.A\n",
    "                psoc = -A'*((A*A')\\(c̄))\n",
    "                Z̄ .= Z .+ dZ .+ psoc\n",
    "                eval_c!(nlp, c̄, Z̄)\n",
    "                phi = eval_f(nlp, Z̄) + μ * norm(c̄, 1)\n",
    "                if phi < phi0 + η*α*dphi0\n",
    "                    soc = true\n",
    "                    reg = max(reg /= 100, reg_min)\n",
    "                    break\n",
    "                else\n",
    "                    α *= τ\n",
    "                end\n",
    "            else\n",
    "                α *= τ\n",
    "            end\n",
    "\n",
    "            # Line search failure\n",
    "            if i == 10\n",
    "                reg *= 10    # increase regularization\n",
    "                α = 0        # don't take a step\n",
    "                Z̄ .= Z \n",
    "                @warn \"line search failed\"\n",
    "            end\n",
    "        end\n",
    "        # Apply step\n",
    "        Z .= Z̄\n",
    "        λ .= λ .- α .* dλ\n",
    "\n",
    "        # Output\n",
    "        verbose > 0 && @printf(\"   α = %0.2f, ΔJ: %0.2e, Δϕ: %0.2e, reg: %0.2e, pen: %d, soc: %d\\n\", \n",
    "            α, J - eval_f(nlp, Z), phi0 - phi, reg, μ, soc)\n",
    "    end \n",
    "    return Z, λ, qp \n",
    "end\n",
    "\n",
    "\"\"\"\n",
    "    minimum_penalty(Q,q,c, dZ; ρ)\n",
    "\n",
    "Calculate the minimum penalty needed for the exact penalty function, where `Q` is the Hessian, `q` is the gradient, \n",
    "`c` is the constraint violation, and `dZ` is the search direction. (See Nocedal & Wright Eq. 18.36)\n",
    "\"\"\"\n",
    "function minimum_penalty(Q,q,c, dZ; ρ=0.5)\n",
    "    a = dot(dZ, Q, dZ)\n",
    "    σ = a > 0\n",
    "    num = q'dZ + σ*0.5*a\n",
    "    den = (1-ρ) * norm(c)\n",
    "    return num/den\n",
    "end"
   ]
  },
  {
   "cell_type": "code",
   "execution_count": 21,
   "metadata": {},
   "outputs": [
    {
     "name": "stdout",
     "output_type": "stream",
     "text": [
      "Iteration 1: cost = 1.67, res_p = 1.83e-01, res_d = 2.93e+00,   α = 1.00, ΔJ: -6.96e+02, Δϕ: 9.31e+02, reg: 1.00e-06, pen: 523, soc: 0\n",
      "Iteration 2: cost = 697.64, res_p = 3.68e+02, res_d = 3.33e+00,   α = 1.00, ΔJ: 3.05e+02, Δϕ: 4.99e+03, reg: 1.00e-06, pen: 523, soc: 1\n",
      "Iteration 3: cost = 392.49, res_p = 9.58e+01, res_d = 4.09e+00,   α = 1.00, ΔJ: 2.82e+02, Δϕ: 5.02e+03, reg: 1.00e-06, pen: 523, soc: 0\n",
      "Iteration 4: cost = 110.56, res_p = 8.58e+01, res_d = 1.57e+00,   α = 1.00, ΔJ: -5.49e+01, Δϕ: 3.35e+03, reg: 1.00e-06, pen: 523, soc: 0\n",
      "Iteration 5: cost = 165.44, res_p = 4.77e+01, res_d = 6.25e-01,   α = 1.00, ΔJ: -3.22e+01, Δϕ: 1.31e+03, reg: 1.00e-06, pen: 523, soc: 0\n",
      "Iteration 6: cost = 197.67, res_p = 4.15e+01, res_d = 1.54e-01,   α = 1.00, ΔJ: 1.24e+01, Δϕ: 2.52e+02, reg: 1.00e-06, pen: 523, soc: 0\n",
      "Iteration 7: cost = 185.28, res_p = 2.69e+01, res_d = 8.47e-02,   α = 1.00, ΔJ: 1.15e+01, Δϕ: 1.41e+02, reg: 1.00e-06, pen: 523, soc: 0\n",
      "Iteration 8: cost = 173.78, res_p = 1.72e+01, res_d = 3.63e-02,   α = 1.00, ΔJ: 6.17e+00, Δϕ: 1.40e+01, reg: 1.00e-06, pen: 523, soc: 0\n",
      "Iteration 9: cost = 167.60, res_p = 1.40e+01, res_d = 2.96e-02,   α = 1.00, ΔJ: 3.77e+00, Δϕ: 5.08e+01, reg: 1.00e-06, pen: 523, soc: 0\n",
      "Iteration 10: cost = 163.84, res_p = 9.40e+00, res_d = 1.40e-02,   α = 1.00, ΔJ: 2.17e+00, Δϕ: 9.18e+00, reg: 1.00e-06, pen: 523, soc: 0\n",
      "Iteration 11: cost = 161.67, res_p = 7.65e+00, res_d = 9.89e-03,   α = 1.00, ΔJ: 1.29e+00, Δϕ: 1.42e+01, reg: 1.00e-06, pen: 523, soc: 0\n",
      "Iteration 12: cost = 160.38, res_p = 5.64e+00, res_d = 5.51e-03,   α = 1.00, ΔJ: 7.95e-01, Δϕ: 4.85e+00, reg: 1.00e-06, pen: 523, soc: 0\n",
      "Iteration 13: cost = 159.58, res_p = 4.58e+00, res_d = 3.70e-03,   α = 1.00, ΔJ: 4.92e-01, Δϕ: 4.46e+00, reg: 1.00e-06, pen: 523, soc: 0\n",
      "Iteration 14: cost = 159.09, res_p = 3.59e+00, res_d = 2.30e-03,   α = 1.00, ΔJ: 3.18e-01, Δϕ: 2.25e+00, reg: 1.00e-06, pen: 523, soc: 0\n",
      "Iteration 15: cost = 158.77, res_p = 2.93e+00, res_d = 1.55e-03,   α = 1.00, ΔJ: 2.06e-01, Δϕ: 1.63e+00, reg: 1.00e-06, pen: 523, soc: 0\n",
      "Iteration 16: cost = 158.57, res_p = 2.37e+00, res_d = 1.02e-03,   α = 1.00, ΔJ: 1.38e-01, Δϕ: 9.92e-01, reg: 1.00e-06, pen: 523, soc: 0\n",
      "Iteration 17: cost = 158.43, res_p = 1.95e+00, res_d = 6.96e-04,   α = 1.00, ΔJ: 9.28e-02, Δϕ: 6.99e-01, reg: 1.00e-06, pen: 523, soc: 0\n",
      "Iteration 18: cost = 158.34, res_p = 1.61e+00, res_d = 4.75e-04,   α = 1.00, ΔJ: 6.35e-02, Δϕ: 4.60e-01, reg: 1.00e-06, pen: 523, soc: 0\n",
      "Iteration 19: cost = 158.27, res_p = 1.34e+00, res_d = 3.29e-04,   α = 1.00, ΔJ: 4.37e-02, Δϕ: 3.21e-01, reg: 1.00e-06, pen: 523, soc: 0\n",
      "Iteration 20: cost = 158.23, res_p = 1.12e+00, res_d = 2.30e-04,   α = 1.00, ΔJ: 3.04e-02, Δϕ: 2.20e-01, reg: 1.00e-06, pen: 523, soc: 0\n",
      "Iteration 21: cost = 158.20, res_p = 9.36e-01, res_d = 1.61e-04,   α = 1.00, ΔJ: 2.13e-02, Δϕ: 1.55e-01, reg: 1.00e-06, pen: 523, soc: 0\n",
      "Iteration 22: cost = 158.18, res_p = 7.86e-01, res_d = 1.14e-04,   α = 1.00, ΔJ: 1.50e-02, Δϕ: 1.09e-01, reg: 1.00e-06, pen: 523, soc: 0\n",
      "Iteration 23: cost = 158.16, res_p = 6.62e-01, res_d = 8.11e-05,   α = 1.00, ΔJ: 1.06e-02, Δϕ: 7.76e-02, reg: 1.00e-06, pen: 523, soc: 0\n",
      "Iteration 24: cost = 158.15, res_p = 5.59e-01, res_d = 5.79e-05,   α = 1.00, ΔJ: 7.52e-03, Δϕ: 5.55e-02, reg: 1.00e-06, pen: 523, soc: 0\n",
      "Iteration 25: cost = 158.15, res_p = 4.73e-01, res_d = 4.15e-05,   α = 1.00, ΔJ: 5.36e-03, Δϕ: 4.00e-02, reg: 1.00e-06, pen: 523, soc: 0\n",
      "Iteration 26: cost = 158.14, res_p = 4.01e-01, res_d = 2.99e-05,   α = 1.00, ΔJ: 3.82e-03, Δϕ: 2.90e-02, reg: 1.00e-06, pen: 523, soc: 0\n",
      "Iteration 27: cost = 158.14, res_p = 3.40e-01, res_d = 2.15e-05,   α = 1.00, ΔJ: 2.73e-03, Δϕ: 2.12e-02, reg: 1.00e-06, pen: 523, soc: 0\n",
      "Iteration 28: cost = 158.13, res_p = 2.89e-01, res_d = 1.56e-05,   α = 1.00, ΔJ: 1.95e-03, Δϕ: 1.55e-02, reg: 1.00e-06, pen: 523, soc: 0\n",
      "Iteration 29: cost = 158.13, res_p = 2.45e-01, res_d = 1.13e-05,   α = 1.00, ΔJ: 1.40e-03, Δϕ: 1.15e-02, reg: 1.00e-06, pen: 523, soc: 0\n",
      "Iteration 30: cost = 158.13, res_p = 2.09e-01, res_d = 8.25e-06,   α = 1.00, ΔJ: 1.00e-03, Δϕ: 8.51e-03, reg: 1.00e-06, pen: 523, soc: 0\n",
      "Iteration 31: cost = 158.13, res_p = 1.78e-01, res_d = 6.04e-06,   α = 1.00, ΔJ: 7.16e-04, Δϕ: 6.34e-03, reg: 1.00e-06, pen: 523, soc: 0\n",
      "Iteration 32: cost = 158.13, res_p = 1.51e-01, res_d = 4.44e-06,   α = 1.00, ΔJ: 5.11e-04, Δϕ: 4.75e-03, reg: 1.00e-06, pen: 523, soc: 0\n",
      "Iteration 33: cost = 158.13, res_p = 1.29e-01, res_d = 3.28e-06,   α = 1.00, ΔJ: 3.64e-04, Δϕ: 3.60e-03, reg: 1.00e-06, pen: 523, soc: 0\n",
      "Iteration 34: cost = 158.13, res_p = 1.10e-01, res_d = 2.44e-06,   α = 1.00, ΔJ: 2.59e-04, Δϕ: 2.74e-03, reg: 1.00e-06, pen: 523, soc: 0\n",
      "Iteration 35: cost = 158.13, res_p = 9.38e-02, res_d = 1.83e-06,   α = 1.00, ΔJ: 1.83e-04, Δϕ: 2.09e-03, reg: 1.00e-06, pen: 523, soc: 0\n",
      "Iteration 36: cost = 158.13, res_p = 8.01e-02, res_d = 1.38e-06,   α = 1.00, ΔJ: 1.29e-04, Δϕ: 1.62e-03, reg: 1.00e-06, pen: 523, soc: 0\n",
      "Iteration 37: cost = 158.13, res_p = 6.83e-02, res_d = 1.06e-06,   α = 1.00, ΔJ: 9.04e-05, Δϕ: 1.25e-03, reg: 1.00e-06, pen: 523, soc: 0\n",
      "Iteration 38: cost = 158.13, res_p = 5.83e-02, res_d = 8.20e-07,   α = 1.00, ΔJ: 6.27e-05, Δϕ: 9.77e-04, reg: 1.00e-06, pen: 523, soc: 0\n",
      "Iteration 39: cost = 158.13, res_p = 4.98e-02, res_d = 6.44e-07,   α = 1.00, ΔJ: 4.31e-05, Δϕ: 7.68e-04, reg: 1.00e-06, pen: 523, soc: 0\n",
      "Iteration 40: cost = 158.13, res_p = 4.25e-02, res_d = 5.12e-07,   α = 1.00, ΔJ: 2.91e-05, Δϕ: 6.05e-04, reg: 1.00e-06, pen: 523, soc: 0\n",
      "Iteration 41: cost = 158.13, res_p = 3.63e-02, res_d = 4.12e-07,   α = 1.00, ΔJ: 1.93e-05, Δϕ: 4.82e-04, reg: 1.00e-06, pen: 523, soc: 0\n",
      "Iteration 42: cost = 158.13, res_p = 3.10e-02, res_d = 3.36e-07,   α = 1.00, ΔJ: 1.24e-05, Δϕ: 3.89e-04, reg: 1.00e-06, pen: 523, soc: 0\n",
      "Iteration 43: cost = 158.13, res_p = 2.65e-02, res_d = 2.76e-07,   α = 1.00, ΔJ: 7.64e-06, Δϕ: 3.16e-04, reg: 1.00e-06, pen: 523, soc: 0\n",
      "Iteration 44: cost = 158.13, res_p = 2.26e-02, res_d = 2.30e-07,   α = 1.00, ΔJ: 4.37e-06, Δϕ: 2.58e-04, reg: 1.00e-06, pen: 523, soc: 0\n",
      "Iteration 45: cost = 158.13, res_p = 1.93e-02, res_d = 1.92e-07,   α = 1.00, ΔJ: 2.15e-06, Δϕ: 2.12e-04, reg: 1.00e-06, pen: 523, soc: 0\n",
      "Iteration 46: cost = 158.13, res_p = 1.65e-02, res_d = 1.61e-07,   α = 1.00, ΔJ: 6.88e-07, Δϕ: 1.75e-04, reg: 1.00e-06, pen: 523, soc: 0\n",
      "Iteration 47: cost = 158.13, res_p = 1.41e-02, res_d = 1.36e-07,   α = 1.00, ΔJ: -2.53e-07, Δϕ: 1.45e-04, reg: 1.00e-06, pen: 523, soc: 0\n",
      "Iteration 48: cost = 158.13, res_p = 1.21e-02, res_d = 1.15e-07,   α = 1.00, ΔJ: -8.30e-07, Δϕ: 1.20e-04, reg: 1.00e-06, pen: 523, soc: 0\n",
      "Iteration 49: cost = 158.13, res_p = 1.03e-02, res_d = 9.81e-08,   α = 1.00, ΔJ: -1.16e-06, Δϕ: 1.01e-04, reg: 1.00e-06, pen: 523, soc: 0\n",
      "Iteration 50: cost = 158.13, res_p = 8.81e-03, res_d = 8.35e-08,   α = 1.00, ΔJ: -1.32e-06, Δϕ: 8.43e-05, reg: 1.00e-06, pen: 523, soc: 0\n",
      "Iteration 51: cost = 158.13, res_p = 7.53e-03, res_d = 7.11e-08,   α = 1.00, ΔJ: -1.36e-06, Δϕ: 7.09e-05, reg: 1.00e-06, pen: 523, soc: 0\n",
      "Iteration 52: cost = 158.13, res_p = 6.44e-03, res_d = 6.06e-08,   α = 1.00, ΔJ: -1.34e-06, Δϕ: 5.96e-05, reg: 1.00e-06, pen: 523, soc: 0\n",
      "Iteration 53: cost = 158.13, res_p = 5.50e-03, res_d = 5.18e-08,   α = 1.00, ΔJ: -1.27e-06, Δϕ: 5.03e-05, reg: 1.00e-06, pen: 523, soc: 0\n",
      "Iteration 54: cost = 158.13, res_p = 4.70e-03, res_d = 4.42e-08,   α = 1.00, ΔJ: -1.18e-06, Δϕ: 4.27e-05, reg: 1.00e-06, pen: 523, soc: 0\n",
      "Iteration 55: cost = 158.13, res_p = 4.02e-03, res_d = 3.77e-08,   α = 1.00, ΔJ: -1.08e-06, Δϕ: 3.62e-05, reg: 1.00e-06, pen: 523, soc: 0\n",
      "Iteration 56: cost = 158.13, res_p = 3.44e-03, res_d = 3.22e-08,   α = 1.00, ΔJ: -9.70e-07, Δϕ: 3.07e-05, reg: 1.00e-06, pen: 523, soc: 0\n",
      "Iteration 57: cost = 158.13, res_p = 2.94e-03, res_d = 2.76e-08,   α = 1.00, ΔJ: -8.66e-07, Δϕ: 2.61e-05, reg: 1.00e-06, pen: 523, soc: 0\n",
      "Iteration 58: cost = 158.13, res_p = 2.51e-03, res_d = 2.36e-08,   α = 1.00, ΔJ: -7.66e-07, Δϕ: 2.23e-05, reg: 1.00e-06, pen: 523, soc: 0\n",
      "Iteration 59: cost = 158.13, res_p = 2.15e-03, res_d = 2.01e-08,   α = 1.00, ΔJ: -6.74e-07, Δϕ: 1.90e-05, reg: 1.00e-06, pen: 523, soc: 0\n",
      "Iteration 60: cost = 158.13, res_p = 1.83e-03, res_d = 1.72e-08,   α = 1.00, ΔJ: -5.91e-07, Δϕ: 1.63e-05, reg: 1.00e-06, pen: 523, soc: 0\n",
      "Iteration 61: cost = 158.13, res_p = 1.57e-03, res_d = 1.47e-08,   α = 1.00, ΔJ: -5.15e-07, Δϕ: 1.39e-05, reg: 1.00e-06, pen: 523, soc: 0\n",
      "Iteration 62: cost = 158.13, res_p = 1.34e-03, res_d = 1.26e-08,   α = 1.00, ΔJ: -4.48e-07, Δϕ: 1.19e-05, reg: 1.00e-06, pen: 523, soc: 0\n",
      "Iteration 63: cost = 158.13, res_p = 1.15e-03, res_d = 1.07e-08,   α = 1.00, ΔJ: -3.88e-07, Δϕ: 1.01e-05, reg: 1.00e-06, pen: 523, soc: 0\n",
      "Iteration 64: cost = 158.13, res_p = 9.79e-04, res_d = 9.19e-09,   α = 1.00, ΔJ: -3.36e-07, Δϕ: 8.66e-06, reg: 1.00e-06, pen: 523, soc: 0\n",
      "Iteration 65: cost = 158.13, res_p = 8.37e-04, res_d = 7.85e-09,   α = 1.00, ΔJ: -2.90e-07, Δϕ: 7.40e-06, reg: 1.00e-06, pen: 523, soc: 0\n",
      "Iteration 66: cost = 158.13, res_p = 7.15e-04, res_d = 6.71e-09,   α = 1.00, ΔJ: -2.50e-07, Δϕ: 6.32e-06, reg: 1.00e-06, pen: 523, soc: 0\n",
      "Iteration 67: cost = 158.13, res_p = 6.11e-04, res_d = 5.74e-09,   α = 1.00, ΔJ: -2.15e-07, Δϕ: 5.41e-06, reg: 1.00e-06, pen: 523, soc: 0\n",
      "Iteration 68: cost = 158.13, res_p = 5.22e-04, res_d = 4.90e-09,   α = 1.00, ΔJ: -1.85e-07, Δϕ: 4.62e-06, reg: 1.00e-06, pen: 523, soc: 0\n",
      "Iteration 69: cost = 158.13, res_p = 4.47e-04, res_d = 4.19e-09,   α = 1.00, ΔJ: -1.59e-07, Δϕ: 3.95e-06, reg: 1.00e-06, pen: 523, soc: 0\n",
      "Iteration 70: cost = 158.13, res_p = 3.82e-04, res_d = 3.58e-09,   α = 1.00, ΔJ: -1.37e-07, Δϕ: 3.38e-06, reg: 1.00e-06, pen: 523, soc: 0\n",
      "Iteration 71: cost = 158.13, res_p = 3.26e-04, res_d = 3.06e-09,   α = 1.00, ΔJ: -1.17e-07, Δϕ: 2.89e-06, reg: 1.00e-06, pen: 523, soc: 0\n",
      "Iteration 72: cost = 158.13, res_p = 2.79e-04, res_d = 2.62e-09,   α = 1.00, ΔJ: -1.01e-07, Δϕ: 2.47e-06, reg: 1.00e-06, pen: 523, soc: 0\n",
      "Iteration 73: cost = 158.13, res_p = 2.38e-04, res_d = 2.24e-09,   α = 1.00, ΔJ: -8.62e-08, Δϕ: 2.11e-06, reg: 1.00e-06, pen: 523, soc: 0\n",
      "Iteration 74: cost = 158.13, res_p = 2.04e-04, res_d = 1.91e-09,   α = 1.00, ΔJ: -7.39e-08, Δϕ: 1.81e-06, reg: 1.00e-06, pen: 523, soc: 0\n",
      "Iteration 75: cost = 158.13, res_p = 1.74e-04, res_d = 1.64e-09,   α = 1.00, ΔJ: -6.33e-08, Δϕ: 1.54e-06, reg: 1.00e-06, pen: 523, soc: 0\n",
      "Iteration 76: cost = 158.13, res_p = 1.49e-04, res_d = 1.40e-09,   α = 1.00, ΔJ: -5.42e-08, Δϕ: 1.32e-06, reg: 1.00e-06, pen: 523, soc: 0\n",
      "Iteration 77: cost = 158.13, res_p = 1.27e-04, res_d = 1.20e-09,   α = 1.00, ΔJ: -4.64e-08, Δϕ: 1.13e-06, reg: 1.00e-06, pen: 523, soc: 0\n",
      "Iteration 78: cost = 158.13, res_p = 1.09e-04, res_d = 1.02e-09,   α = 1.00, ΔJ: -3.97e-08, Δϕ: 9.64e-07, reg: 1.00e-06, pen: 523, soc: 0\n",
      "Iteration 79: cost = 158.13, res_p = 9.30e-05, res_d = 8.73e-10,\n"
     ]
    }
   ],
   "source": [
    "# Solve w/ SQP\n",
    "Z = packZ(nlp, X, U)\n",
    "λ = zeros(num_duals(nlp))\n",
    "Zstar, λstar = solve_sqp!(nlp, Z, λ, verbose=1, iters=200, gn=true, eps_dual=1e-4);"
   ]
  },
  {
   "cell_type": "markdown",
   "metadata": {},
   "source": [
    "## Visualization"
   ]
  },
  {
   "cell_type": "code",
   "execution_count": 6,
   "metadata": {},
   "outputs": [
    {
     "ename": "LoadError",
     "evalue": "\u001b[91mUndefVarError: Visualizer not defined\u001b[39m",
     "output_type": "error",
     "traceback": [
      "\u001b[91mUndefVarError: Visualizer not defined\u001b[39m",
      "",
      "Stacktrace:",
      " [1] top-level scope at In[6]:1",
      " [2] include_string(::Function, ::Module, ::String, ::String) at ./loading.jl:1091"
     ]
    }
   ],
   "source": [
    "vis = Visualizer()\n",
    "set_mesh!(vis, model)\n",
    "render(vis)"
   ]
  },
  {
   "cell_type": "code",
   "execution_count": 38,
   "metadata": {},
   "outputs": [],
   "source": [
    "Xstar = [Z[xi] for xi in nlp.xinds]\n",
    "visualize!(vis, model, tf, Xstar)"
   ]
  }
 ],
 "metadata": {
  "kernelspec": {
   "display_name": "Julia 1.5.3",
   "language": "julia",
   "name": "julia-1.5"
  },
  "language_info": {
   "file_extension": ".jl",
   "mimetype": "application/julia",
   "name": "julia",
   "version": "1.5.3"
  }
 },
 "nbformat": 4,
 "nbformat_minor": 4
}
