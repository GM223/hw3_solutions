{
 "cells": [
  {
   "cell_type": "code",
   "execution_count": 111,
   "metadata": {},
   "outputs": [
    {
     "name": "stderr",
     "output_type": "stream",
     "text": [
      "\u001b[32m\u001b[1m Activating\u001b[22m\u001b[39m environment at `~/Classes/OptimalControl/hw3_solutions/Project.toml`\n"
     ]
    },
    {
     "data": {
      "text/plain": [
       "get_control (generic function with 2 methods)"
      ]
     },
     "execution_count": 111,
     "metadata": {},
     "output_type": "execute_result"
    }
   ],
   "source": [
    "import Pkg; Pkg.activate(joinpath(@__DIR__,\"..\")); \n",
    "using ForwardDiff\n",
    "using Test\n",
    "using RobotZoo\n",
    "using RobotDynamics\n",
    "using LinearAlgebra\n",
    "using StaticArrays\n",
    "using SparseArrays\n",
    "using BlockArrays\n",
    "using Printf\n",
    "using MeshCat\n",
    "using Plots\n",
    "\n",
    "include(\"quadratic_cost.jl\")\n",
    "include(\"../test/nlp_test.jl\")\n",
    "include(\"cartpole.jl\")"
   ]
  },
  {
   "cell_type": "markdown",
   "metadata": {},
   "source": [
    "# Q1: Sequential Quadratic Programming (SQP) (50 pts)\n",
    "In this problem you'll solve the canonical cartpole swing-up problem using sequential-quadratic programming (SQP), as we learned in class. While coding up a complete SQP solver is very challenging, we'll simplify it by only considering problems of the form:\n",
    "\n",
    "$$\\begin{aligned} &\\text{minimize}_z && \\frac{1}{2} z^T Q z + q^T z \\\\\n",
    "&\\text{subject to} && c(z) = 0 \\end{aligned} $$\n",
    "\n",
    "I.e. we'll only have you worry about equality constraints. Your overall algorithm should run something like this:\n",
    "1. Initialization\n",
    "2. Build the QP for the current step by taking Taylor series approximations of the cost and constraints\n",
    "3. Solve the QP to get search directions for you primal and dual variables\n",
    "4. Use a line search (or other globalization strategy) to find a good step\n",
    "5. If termination conditions are satisfied, exit; otherwise, go to 2\n",
    "\n",
    "## The Problem\n",
    "You likely have already seen the cartpole swing-up problem previously. As shown in the picture below, the system is comprised of a pendulum attached to a cart, where forces can only be applied to the cart. The goal is to balance the pendulum above the cart. The system dynamics can be written as:\n",
    "\n",
    "$$ x = \\begin{bmatrix} y \\\\ \\theta \\\\ v \\\\ \\omega \\end{bmatrix}, \\quad \\dot{x} = \\begin{bmatrix} \\dot{q} \\\\ \\ddot{q} \\end{bmatrix}, \\quad\n",
    "q = \\begin{bmatrix} y \\\\ \\theta \\end{bmatrix}, \\quad\n",
    "\\ddot{q} = -H^{-1} (C \\dot{q} + G - B u)$$\n",
    "\n",
    "where \n",
    "$$ H = \\begin{bmatrix} m_c + m_p & m_p l \\cos{\\theta} \\\\\n",
    "m_p l \\cos{\\theta} & m_p l^2 \\end{bmatrix}, \\;\n",
    "C = \\begin{bmatrix} 0 & -m_p \\omega l \\sin{\\theta} \\\\ 0 & 0 \\end{bmatrix}, \\;\n",
    "G = \\begin{bmatrix} 0 \\\\ m_p g l \\sin{\\theta} \\end{bmatrix}, \\;\n",
    "B = \\begin{bmatrix} 1 \\\\ 0 \\end{bmatrix} $$\n",
    "\n",
    "with the following parameters:\n",
    "* $m_p$: mass of the pole\n",
    "* $m_c$: mass of the cart\n",
    "* $g$: gravity\n",
    "* $l$: length of the rod"
   ]
  },
  {
   "cell_type": "code",
   "execution_count": 2,
   "metadata": {},
   "outputs": [],
   "source": [
    "# Build the problem\n",
    "model = RobotZoo.Cartpole()\n",
    "n,m = size(model)\n",
    "T = 101\n",
    "tf = 2.0\n",
    "dt = tf / (T-1)\n",
    "\n",
    "# Initial & final condition\n",
    "x0 = @SVector zeros(n)\n",
    "xf = SA[0,pi,0,0];\n",
    "\n",
    "# Cost function\n",
    "Q = Diagonal(fill(1e-2,n))\n",
    "R = Diagonal(fill(1e-1,m))\n",
    "Qf = Diagonal(fill(1e1,n))\n",
    "costfun = LQRCost(Q,R,xf)\n",
    "costterm = LQRCost(Qf,R,xf)\n",
    "obj = push!(fill(costfun,T-1), costterm)\n",
    "\n",
    "# Initial Guess (linear interpolation)\n",
    "X = [x0 + (xf - x0)*t for t in range(0,1, length=T)]\n",
    "U = [@SVector zeros(m) for k = 1:T-1];"
   ]
  },
  {
   "cell_type": "markdown",
   "metadata": {},
   "source": [
    "## Part (a): Evaluate the NLP\n",
    "Before we put together our SQP method, let's write some convenient methods for evaluating the information we'll need from the NLP. We've given you a struct `NLP` below that contains all the information you'll need to evaluate things like the cost function, constraints, and their derivatives."
   ]
  },
  {
   "cell_type": "code",
   "execution_count": 3,
   "metadata": {},
   "outputs": [
    {
     "data": {
      "text/plain": [
       "unpackZ"
      ]
     },
     "execution_count": 3,
     "metadata": {},
     "output_type": "execute_result"
    }
   ],
   "source": [
    "\"\"\"\n",
    "    NLP{n,m,L,Q}\n",
    "\n",
    "Represents a (N)on(L)inear (P)rogram of a trajectory optimization problem,\n",
    "with a dynamics model of type `L`, a quadratic cost function, horizon `T`, \n",
    "and initial and final state `x0`, `xf`.\n",
    "\n",
    "The kth state and control can be extracted from the concatenated state vector `Z` using\n",
    "`Z[nlp.xinds[k]]`, and `Z[nlp.uinds[k]]`.\n",
    "\n",
    "# Constructor\n",
    "    NLP(model, obj, tf, T, x0, xf, [integration])\n",
    "\n",
    "# Basic Methods\n",
    "    Base.size(nlp)    # returns (n,m,T)\n",
    "    num_ineq(nlp)     # number of inequality constraints\n",
    "    num_eq(nlp)       # number of equality constraints\n",
    "    num_primals(nlp)  # number of primal variables\n",
    "    num_duals(nlp)    # total number of dual variables\n",
    "    packZ(nlp, X, U)  # Stacks state `X` and controls `U` into one vector `Z`\n",
    "\n",
    "# Evaluating the NLP\n",
    "The NLP supports the following API for evaluating various pieces of the NLP:\n",
    "\n",
    "    eval_f(nlp, Z)         # evaluate the objective\n",
    "    grad_f!(nlp, grad, Z)  # gradient of the objective\n",
    "    hess_f!(nlp, hess, Z)  # Hessian of the objective\n",
    "    eval_c!(nlp, c, Z)     # evaluate the constraints\n",
    "    jac_c!(nlp, c, Z)      # constraint Jacobian\n",
    "\"\"\"\n",
    "struct NLP{n,m,L,Q}\n",
    "    model::L                                 # dynamics model\n",
    "    obj::Vector{QuadraticCost{n,m,Float64}}  # objective function\n",
    "    T::Int                                   # number of knot points\n",
    "    tf::Float64                              # total time (sec)\n",
    "    x0::MVector{n,Float64}                   # initial condition\n",
    "    xf::MVector{n,Float64}                   # final condition\n",
    "    xinds::Vector{SVector{n,Int}}            # Z[xinds[k]] gives states for time step k\n",
    "    uinds::Vector{SVector{m,Int}}            # Z[uinds[k]] gives controls for time step k\n",
    "    times::Vector{Float64}                   # vector of times\n",
    "    function NLP(model::AbstractModel, obj::Vector{<:QuadraticCost{n,m}},\n",
    "            tf::Real, T::Integer, x0::AbstractVector, xf::AbstractVector, integration::Type{<:QuadratureRule}=RK4\n",
    "        ) where {n,m}\n",
    "        xinds = [SVector{n}((k-1)*(n+m) .+ (1:n)) for k = 1:T]\n",
    "        uinds = [SVector{m}((k-1)*(n+m) .+ (n+1:n+m)) for k = 1:T-1]\n",
    "        times = collect(range(0, tf, length=T))\n",
    "        new{n,m,typeof(model), integration}(\n",
    "            model, obj,\n",
    "            T, tf, x0, xf, xinds, uinds, times\n",
    "        )\n",
    "    end\n",
    "end\n",
    "Base.size(nlp::NLP{n,m}) where {n,m} = (n,m,nlp.T)\n",
    "num_primals(nlp::NLP{n,m}) where {n,m} = n*nlp.T + m*(nlp.T-1)\n",
    "num_duals(nlp::NLP) = num_eq(nlp) + num_ineq(nlp)\n",
    "num_eq(nlp::NLP{n,m}) where {n,m} = n*nlp.T + n\n",
    "num_ineq(nlp::NLP) = 0\n",
    "\n",
    "\"\"\"\n",
    "    packZ(nlp, X, U)\n",
    "\n",
    "Take a vector state vectors `X` and controls `U` and stack them into a single vector Z.\n",
    "\"\"\"\n",
    "function packZ(nlp, X, U)\n",
    "    Z = zeros(num_primals(nlp))\n",
    "    for k = 1:nlp.T-1\n",
    "        Z[nlp.xinds[k]] = X[k]\n",
    "        Z[nlp.uinds[k]] = U[k]\n",
    "    end\n",
    "    Z[nlp.xinds[end]] = X[end]\n",
    "    return Z\n",
    "end\n",
    "\n",
    "\"\"\"\n",
    "    unpackZ(nlp, Z)\n",
    "\n",
    "Take a vector of all the states and controls and return a vector of state vectors `X` and\n",
    "controls `U`.\n",
    "\"\"\"\n",
    "function unpackZ(nlp, Z)\n",
    "    X = [Z[xi] for xi in nlp.xinds]\n",
    "    U = [Z[ui] for ui in nlp.uinds]\n",
    "    return X, U\n",
    "end"
   ]
  },
  {
   "cell_type": "markdown",
   "metadata": {},
   "source": [
    "### Objective\n",
    "Complete the following methods to evaluate the objective and its derivatives."
   ]
  },
  {
   "cell_type": "code",
   "execution_count": 4,
   "metadata": {},
   "outputs": [
    {
     "data": {
      "text/plain": [
       "hess_f!"
      ]
     },
     "execution_count": 4,
     "metadata": {},
     "output_type": "execute_result"
    }
   ],
   "source": [
    "# TASK: Finish the following methods\n",
    "#       eval_f\n",
    "#       grad_f!\n",
    "#       hess_f!\n",
    "\n",
    "\"\"\"\n",
    "    eval_f(nlp, Z)\n",
    "\n",
    "Evaluate the objective, returning a scalar.\n",
    "\"\"\"\n",
    "function eval_f(nlp::NLP, Z)\n",
    "    # TASK: compute the objective value (cost)\n",
    "    J = 0.0\n",
    "    \n",
    "    # SOLUTION\n",
    "    xi,ui = nlp.xinds, nlp.uinds\n",
    "    for k = 1:nlp.T-1\n",
    "        x,u = Z[xi[k]], Z[ui[k]]\n",
    "        J += stagecost(nlp.obj[k], x, u)\n",
    "    end\n",
    "    J += termcost(nlp.obj[end], Z[xi[end]])\n",
    "    return J\n",
    "end\n",
    "\n",
    "\"\"\"\n",
    "    grad_f!(nlp, grad, Z)\n",
    "\n",
    "Evaluate the gradient of the objective at `Z`, storing the result in `grad`.\n",
    "\"\"\"\n",
    "function grad_f!(nlp::NLP{n,m}, grad, Z) where {n,m}\n",
    "    xi,ui = nlp.xinds, nlp.uinds\n",
    "    obj = nlp.obj\n",
    "    for k = 1:nlp.T-1\n",
    "        x,u = Z[xi[k]], Z[ui[k]]\n",
    "        # TASK: Compute the cost gradient\n",
    "        grad[xi[k]] .= 0\n",
    "        grad[ui[k]] .= 0\n",
    "        \n",
    "        # SOLUTION\n",
    "        grad[xi[k]] = obj[k].Q*x + obj[k].q\n",
    "        grad[ui[k]] = obj[k].R*u + obj[k].r\n",
    "    end\n",
    "    grad[xi[end]] = obj[end].Q*Z[xi[end]] + obj[end].q\n",
    "    return nothing\n",
    "end\n",
    "\n",
    "\"\"\"\n",
    "    hess_f!(nlp, hess, Z)\n",
    "\n",
    "Evaluate the Hessian of the objective at `Z`, storing the result in `hess`.\n",
    "Should work with `hess` sparse.\n",
    "\"\"\"\n",
    "function hess_f!(nlp::NLP{n,m}, hess, Z, rezero=true) where {n,m}\n",
    "    # TASK: Compute the objective hessian\n",
    "    # HINT: It's a diagonal matrix\n",
    "    if rezero\n",
    "        for i = 1:size(hess,1)\n",
    "            hess[i,i] = 0\n",
    "        end\n",
    "    end\n",
    "    xi,ui = nlp.xinds, nlp.uinds\n",
    "    obj = nlp.obj\n",
    "    i = 1\n",
    "    for k = 1:nlp.T\n",
    "        for j = 1:n\n",
    "            hess[i,i] += nlp.obj[k].Q[j,j]\n",
    "            i += 1\n",
    "        end\n",
    "        if k < nlp.T\n",
    "            for j = 1:m\n",
    "                hess[i,i] += nlp.obj[k].R[j,j]\n",
    "                i += 1\n",
    "            end\n",
    "        end\n",
    "    end\n",
    "end"
   ]
  },
  {
   "cell_type": "markdown",
   "metadata": {},
   "source": [
    "## Constraints\n",
    "Complete the following methods to evaluate the constraints and their derivatives."
   ]
  },
  {
   "cell_type": "code",
   "execution_count": 5,
   "metadata": {},
   "outputs": [
    {
     "data": {
      "text/plain": [
       "jac_c!"
      ]
     },
     "execution_count": 5,
     "metadata": {},
     "output_type": "execute_result"
    }
   ],
   "source": [
    "# TASK: Complete the following methods\n",
    "#       eval_c!\n",
    "#       jac_c!\n",
    "#       ∇jvp!\n",
    "\"\"\"\n",
    "    eval_c!(nlp, c, Z)\n",
    "\n",
    "Evaluate the equality constraints at `Z`, storing the result in `c`.\n",
    "The constraints should be ordered as follows: \n",
    "1. Initial condition ``x_1 = x_\\\\text{init}``\n",
    "2. Dynamics ``f(x_k,u_k) - x_{k+1} = 0``\n",
    "3. Terminal constraint ``x_T = x_\\\\text{goal}``\n",
    "\"\"\"\n",
    "function eval_c!(nlp::NLP{n,m,<:Any,Q}, c, Z) where {n,m,Q}\n",
    "    T = nlp.T\n",
    "    xi,ui = nlp.xinds, nlp.uinds\n",
    "    idx = xi[1]\n",
    "\n",
    "    # TODO: initial condition\n",
    "    c[idx] = Z[xi[1]] - nlp.x0\n",
    "\n",
    "    # dynamics\n",
    "    for k = 1:T-1\n",
    "        idx = idx .+ n\n",
    "        x,u = Z[xi[k]], Z[ui[k]]\n",
    "        x⁺ = Z[xi[k+1]]\n",
    "        dt = nlp.times[k+1] - nlp.times[k]\n",
    "        \n",
    "        # TASK: Dynamics constraint\n",
    "        c[idx] .= 0\n",
    "        \n",
    "        # SOLUTION\n",
    "        c[idx] = discrete_dynamics(Q, nlp.model, x, u, nlp.times[k], dt) - x⁺\n",
    "    end\n",
    "\n",
    "    # TODO: terminal constraint\n",
    "    idx = idx .+ n\n",
    "    c[idx] .= 0\n",
    "    \n",
    "    # SOLUTION\n",
    "    c[idx] = Z[xi[T]] - nlp.xf\n",
    "    return nothing\n",
    "end\n",
    "\n",
    "\"\"\"\n",
    "    jac_c!(nlp, jac, Z)\n",
    "\n",
    "Evaluate the constraint Jacobian, storing the result in the (potentially sparse) matrix `jac`.\n",
    "\"\"\"\n",
    "function jac_c!(nlp::NLP{n,m,<:Any,Q}, jac, Z) where {n,m,Q}\n",
    "    # TODO: Initial condition\n",
    "    # SOLUTION\n",
    "    for i = 1:n\n",
    "        jac[i,i] = 1\n",
    "    end\n",
    "\n",
    "    xi,ui = nlp.xinds, nlp.uinds\n",
    "    idx = xi[1]\n",
    "    for k = 1:nlp.T-1\n",
    "        idx = idx .+ n \n",
    "        zi = [xi[k];ui[k]]\n",
    "        zi2 = k < T-1 ? zi .+ (n+m) : xi[T]\n",
    "        x = Z[xi[k]]\n",
    "        u = Z[ui[k]]\n",
    "        t = nlp.times[k]\n",
    "        dt = nlp.times[k+1] - nlp.times[k]\n",
    "\n",
    "        ∇f = view(jac, idx, zi)\n",
    "        ∇f2 = view(jac, idx, zi2)\n",
    "        \n",
    "        # TODO: Dynamics constraint\n",
    "#         z = StaticKnotPoint(Z[zi], xi[1], ui[1], dt, nlp.times[k])\n",
    "#         discrete_jacobian!(Q, ∇f, nlp.model, z, nothing)\n",
    "        discrete_jacobian!(Q, ∇f, nlp.model, x, u, t, dt)\n",
    "        for i = 1:n\n",
    "            ∇f2[i,i] = -1\n",
    "#             jac[idx[i], zi[end]+i] = -1\n",
    "        end\n",
    "    end\n",
    "    idx = idx .+ n \n",
    "    \n",
    "    # TODO: Terminal constraint\n",
    "    # SOLUTION\n",
    "    for i = 1:n\n",
    "        jac[idx[i], xi[end][i]] = 1\n",
    "    end\n",
    "end"
   ]
  },
  {
   "cell_type": "markdown",
   "metadata": {},
   "source": [
    "## Lagrangian"
   ]
  },
  {
   "cell_type": "code",
   "execution_count": 6,
   "metadata": {},
   "outputs": [
    {
     "data": {
      "text/plain": [
       "grad_lagrangian!"
      ]
     },
     "execution_count": 6,
     "metadata": {},
     "output_type": "execute_result"
    }
   ],
   "source": [
    "# TASK: Complete the following methods\n",
    "#       lagrangian\n",
    "#       grad_lagrangian!\n",
    "#       hess_lagrangian!\n",
    "\n",
    "\"\"\"\n",
    "    lagrangian(nlp, Z, λ, c)\n",
    "\n",
    "Evaluate the Lagrangian at `Z` and `λ`. Calculates the constraints, storing the result in `c`.\n",
    "\n",
    "The sign on the multipliers should be negative, e.g. J(x) - λ'c(x)\n",
    "\"\"\"\n",
    "function lagrangian(nlp::NLP{n,m}, Z, λ, c=zeros(eltype(Z),length(λ))) where {n,m}\n",
    "    # TODO: Calculate the Lagrangian\n",
    "    L = 0\n",
    "    \n",
    "    J = eval_f(nlp, Z)\n",
    "    eval_c!(nlp, c, Z)\n",
    "    L = J - dot(λ,c)\n",
    "    return L\n",
    "end\n",
    "\n",
    "\"\"\"\n",
    "    grad_lagrangian(nlp, grad, Z, λ)\n",
    "\n",
    "Evaluate the gradient of the Lagrangian.\n",
    "\"\"\"\n",
    "function grad_lagrangian!(nlp::NLP{n,m}, grad, Z, λ, jac = spzeros(length(λ), length(Z))) where {n,m}\n",
    "    # TODO: Calculate the gradient of the Lagrangian, store the result in grad\n",
    "    \n",
    "    # SOLUTION\n",
    "    jac_c!(nlp, jac, Z)\n",
    "    grad_f!(nlp, grad, Z)\n",
    "    grad .-= jac'λ\n",
    "    return nothing\n",
    "end"
   ]
  },
  {
   "cell_type": "markdown",
   "metadata": {},
   "source": [
    "## Residuals\n",
    "Feel free to use these function to evaluate the primal and dual residuals."
   ]
  },
  {
   "cell_type": "code",
   "execution_count": 7,
   "metadata": {},
   "outputs": [
    {
     "data": {
      "text/plain": [
       "dual_residual"
      ]
     },
     "execution_count": 7,
     "metadata": {},
     "output_type": "execute_result"
    }
   ],
   "source": [
    "\"\"\"\n",
    "    primal_residual(nlp, Z, λ, [g; p])\n",
    "\n",
    "Evaluate the `p`-norm of the primal residual (stationarity condition).\n",
    "\"\"\"\n",
    "function primal_residual(nlp::NLP, Z, λ, g=zeros(num_primals(nlp)); p=2)\n",
    "    grad_lagrangian!(nlp, g, Z, λ)\n",
    "    return norm(g, p)\n",
    "end\n",
    "\n",
    "\"\"\"\n",
    "    dual_residual(nlp, Z, λ, [c; p])\n",
    "\n",
    "Evaluate the `p`-norm of the dual residual (constraint violation).\n",
    "\"\"\"\n",
    "function dual_residual(nlp::NLP, Z, λ, c=zeros(num_eq(nlp)); p=2)\n",
    "    eval_c!(nlp, c, Z)\n",
    "    norm(c, p)\n",
    "end"
   ]
  },
  {
   "cell_type": "markdown",
   "metadata": {},
   "source": [
    "### Testing the Methods"
   ]
  },
  {
   "cell_type": "code",
   "execution_count": 9,
   "metadata": {},
   "outputs": [],
   "source": [
    "nlp = NLP(model, obj, tf, T, x0, xf)\n",
    "Z = packZ(nlp, X, U)\n",
    "λ = zeros(num_duals(nlp));"
   ]
  },
  {
   "cell_type": "code",
   "execution_count": 12,
   "metadata": {},
   "outputs": [
    {
     "data": {
      "text/plain": [
       "test_nlp (generic function with 1 method)"
      ]
     },
     "execution_count": 12,
     "metadata": {},
     "output_type": "execute_result"
    }
   ],
   "source": [
    "include(\"../test/nlp_test.jl\")"
   ]
  },
  {
   "cell_type": "code",
   "execution_count": 14,
   "metadata": {},
   "outputs": [
    {
     "name": "stdout",
     "output_type": "stream",
     "text": [
      "\u001b[37m\u001b[1mTest Summary: | \u001b[22m\u001b[39m\u001b[32m\u001b[1mPass  \u001b[22m\u001b[39m\u001b[36m\u001b[1mTotal\u001b[22m\u001b[39m\n",
      "NLP tests     | \u001b[32m 115  \u001b[39m\u001b[36m  115\u001b[39m\n"
     ]
    }
   ],
   "source": [
    "# Test methods\n",
    "test_nlp(nlp, Z, λ);"
   ]
  },
  {
   "cell_type": "markdown",
   "metadata": {},
   "source": [
    "## Part (b): Solving the QP\n",
    "Now that we have methods to evaluate our NLP and its derivatives, we need some methods to form the QP from our NLP and then solve it. Use the struct we've provided below and implement the `build_qp!` method to update the QP sub-problem from the current primal and dual variables, as well as the `solve_qp!` method to solve it for the step directions in the primal and dual variables. Note that since our NLP only has equality constraints, the QP sub-problem will also only have equality constraints, so it can be solved directly using a linear solve on the KKT conditions."
   ]
  },
  {
   "cell_type": "code",
   "execution_count": 15,
   "metadata": {},
   "outputs": [
    {
     "data": {
      "text/plain": [
       "num_duals (generic function with 2 methods)"
      ]
     },
     "execution_count": 15,
     "metadata": {},
     "output_type": "execute_result"
    }
   ],
   "source": [
    "@doc raw\"\"\"\n",
    "    TOQP\n",
    "\n",
    "A type specifying a (T)rajectory (O)ptimization (Q)uadratic (P)rogram, of the form\n",
    "\n",
    "\n",
    "``\\begin{aligned} &\\text{minimize} &&\\frac{1}{2} z^T Q z + q^T z \\\\ \n",
    "&\\text{subject to} && A z = b \\\\ \n",
    "&&& l \\leq C z \\leq u \\end{aligned}``\n",
    "\n",
    "where ``z = [x_1^T \\; u_1^T \\; \\dots \\; x_{T-1}^T \\; u_{T-1}^T \\; x_T^T]^T`` and \n",
    "``x \\in \\mathbb{R}^n`` is the state vector and ``u \\in \\mathbb{R}^m`` is the control vector.\n",
    "\n",
    "# Constructors\n",
    "\n",
    "    TOQP(n,m,T,M,P)\n",
    "\n",
    "where `n` is the number of states, `m` is the number of controls, `T` is the horizon, `M` is the number of equality \n",
    "constraints, and `P` is the number of inequality constraints.\n",
    "\n",
    "# Methods\n",
    "\n",
    "    num_ineq(qp)     # number of inequality constraints\n",
    "    num_eq(qp)       # number of equality constraints\n",
    "    num_primals(qp)  # number of primal variables\n",
    "    num_duals(qp)    # total number of dual variables\n",
    "\n",
    "\n",
    "\"\"\"\n",
    "struct TOQP\n",
    "    Q::SparseMatrixCSC{Float64,Int}  # quadratic cost\n",
    "    q::Vector{Float64}               # linear cost\n",
    "    A::SparseMatrixCSC{Float64,Int}  # equality constraint Ax = b\n",
    "    b::Vector{Float64}               # equality constraint \n",
    "    C::SparseMatrixCSC{Float64,Int}  # inequality constraint l ≤ Cx ≤ u\n",
    "    l::Vector{Float64}               # inequality constraint lower bound\n",
    "    u::Vector{Float64}               # inequality constraint upper bound\n",
    "    n::Int\n",
    "    m::Int\n",
    "    T::Int\n",
    "\n",
    "    function TOQP(n,m,T,M,P)\n",
    "        N = n*T + (T-1)*m\n",
    "        Q = spzeros(N,N)\n",
    "        q = zeros(N)\n",
    "        A = spzeros(M,N)\n",
    "        b = zeros(M) \n",
    "        C = spzeros(P,N)\n",
    "        l = fill(-Inf,P)\n",
    "        u = fill(Inf,P)\n",
    "\n",
    "        new(Q,q,A,b,C,l,u,n,m,T)\n",
    "    end\n",
    "end\n",
    "\n",
    "\n",
    "function TOQP(nlp::NLP{n,m}) where {n,m}\n",
    "    TOQP(n,m,nlp.T, num_eq(nlp), num_ineq(nlp))\n",
    "end\n",
    "\n",
    "num_ineq(qp::TOQP) = length(qp.l)\n",
    "num_eq(qp::TOQP) = length(qp.b)\n",
    "num_primals(qp::TOQP) = length(qp.q)\n",
    "num_duals(qp::TOQP) = num_ineq(qp) + num_eq(qp)"
   ]
  },
  {
   "cell_type": "markdown",
   "metadata": {},
   "source": [
    "### Build the QP"
   ]
  },
  {
   "cell_type": "code",
   "execution_count": 16,
   "metadata": {},
   "outputs": [
    {
     "data": {
      "text/plain": [
       "build_qp!"
      ]
     },
     "execution_count": 16,
     "metadata": {},
     "output_type": "execute_result"
    }
   ],
   "source": [
    "# TASK: Complete the following method to build the QP sub-problem\n",
    "\"\"\"\n",
    "    build_qp!(qp, nlp, Z, λ; [gn=true])\n",
    "\n",
    "Build a QP from the NLP, evaluated at primal variables `Z` and dual variables `λ`, \n",
    "optionally using either the Hessian of the cost function (`gn = true`) or the Hessian of the Lagrangian (`gn = false`).\n",
    "\"\"\"\n",
    "function build_qp!(qp::TOQP, nlp::NLP, Z, λ; gn::Bool=true)\n",
    "    # TODO: Build the qp, filling in qp.Q, qp.q, qp.A, qp.b\n",
    "    jac_c!(nlp, qp.A, Z)\n",
    "    eval_c!(nlp, qp.b, Z)\n",
    "    qp.b .*= -1  # reverse sign\n",
    "    grad_lagrangian!(nlp, qp.q, Z, λ)\n",
    "\n",
    "    if gn\n",
    "        hess_f!(nlp, qp.Q, Z)\n",
    "    else\n",
    "        hess_lagrangian!(nlp, qp.Q, Z, λ)\n",
    "    end\n",
    "    return nothing\n",
    "end"
   ]
  },
  {
   "cell_type": "markdown",
   "metadata": {},
   "source": [
    "### Solve the QP"
   ]
  },
  {
   "cell_type": "code",
   "execution_count": 17,
   "metadata": {},
   "outputs": [
    {
     "data": {
      "text/plain": [
       "solve_qp!"
      ]
     },
     "execution_count": 17,
     "metadata": {},
     "output_type": "execute_result"
    }
   ],
   "source": [
    "# TASK: Complete the function to solve the QP\n",
    "\"\"\"\n",
    "    solve_qp!(qp, [reg])\n",
    "\n",
    "Solve the QP, optionally applying regularization `reg`.\n",
    "\"\"\"\n",
    "function solve_qp!(qp::TOQP, reg=0.0)\n",
    "    # TODO: Solve the QP sub-problem\n",
    "    # HINT: Form the KKT system and solve with a single linear solve\n",
    "    N,M = num_primals(qp), num_duals(qp)\n",
    "    \n",
    "    # SOLUTION\n",
    "    K = [qp.Q + reg*I qp.A'; qp.A -reg*I]\n",
    "    t = [-qp.q; qp.b]\n",
    "    dY = K\\t\n",
    "    dZ = dY[1:N]\n",
    "    dλ = dY[N+1:N+M]\n",
    "    return dZ, dλ\n",
    "end"
   ]
  },
  {
   "cell_type": "markdown",
   "metadata": {},
   "source": [
    "## Part (c): Writing the SQP Method\n",
    "Now that you have all the pieces, put them all together into an SQP method. You'll need to implement some sort of globalization strategy to make sure you take good steps. A line search with a merit function will work well, but feel free to try other methods."
   ]
  },
  {
   "cell_type": "code",
   "execution_count": 25,
   "metadata": {},
   "outputs": [
    {
     "data": {
      "text/plain": [
       "minimum_penalty"
      ]
     },
     "execution_count": 25,
     "metadata": {},
     "output_type": "execute_result"
    }
   ],
   "source": [
    "# TASK: Complete the SQP method\n",
    "\"\"\"\n",
    "    solve_sqp!(nlp, Z, λ; kwargs...)\n",
    "\n",
    "Solve the trajectory optimization problem specified by `nlp` using Sequential Quadratic Programming, given the initial \n",
    "guess for the primal variables `Z` and `λ`.\n",
    "\"\"\"\n",
    "function solve_sqp!(nlp, Z0, λ0;\n",
    "        iters=100,                   # max number of iterations\n",
    "        verbose=0,                   # verbosity level\n",
    "        eps_primal=1e-6,             # primal feasibility tolerance\n",
    "        eps_dual=1e-4,               # dual feasibility tolerance\n",
    "        eps_fn=sqrt(eps_primal),     # \n",
    "        gn::Bool=true,               # use Gauss-Newton approximation\n",
    "        enable_soc::Bool=true,       # enable Second-Order-Corrections during the line search\n",
    "        ls_iters=10,                 # max number of line search iterations\n",
    "        reg_min=1e-6,                # minimum regularization\n",
    "    )\n",
    "    t_start = time_ns()\n",
    "\n",
    "    # Initialize solution\n",
    "    Z = deepcopy(Z0)\n",
    "    λ = deepcopy(λ0)\n",
    "    qp = TOQP(size(nlp)..., num_eq(nlp), 0)\n",
    "\n",
    "    # Line Search parameters\n",
    "    μ = 10.0\n",
    "    ḡ = zero(Z)\n",
    "    c̄ = zero(λ)\n",
    "    Z̄ = zero(Z)\n",
    "    dZ = zero(Z)\n",
    "    reg = reg_min \n",
    "    \n",
    "    stats = Dict(\n",
    "        :cost => Float64[],\n",
    "        :viol_primal => Float64[],  # constraint violation\n",
    "        :viol_dual => Float64[],    # stationarity\n",
    "        :time => Float64[]\n",
    "    )\n",
    "\n",
    "    for iter = 1:iters\n",
    "        ## Check the residuals and cost\n",
    "        res_p = primal_residual(nlp, Z, λ)\n",
    "        res_d = dual_residual(nlp, Z, λ)\n",
    "        J = eval_f(nlp, Z)\n",
    "        push!(stats[:viol_primal], res_d)\n",
    "        push!(stats[:viol_dual], res_p)\n",
    "        verbose > 0 && @printf(\"Iteration %d: cost = %0.2f, res_p = %0.2e, res_d = %0.2e,\", iter, J, res_p, res_d)\n",
    "\n",
    "        # Termination conditions\n",
    "        if res_p < eps_dual && res_d < eps_primal\n",
    "            verbose > 0 && println()\n",
    "            break\n",
    "        end\n",
    "\n",
    "        # Build QP\n",
    "        build_qp!(qp, nlp, Z, λ, gn=gn)\n",
    "        \n",
    "        # Solve the QP\n",
    "        dZ, dλ = solve_qp!(qp, reg)\n",
    "\n",
    "        # Update penalty paramter\n",
    "        μ_min = minimum_penalty(qp.Q, qp.q, qp.b, dZ)\n",
    "        if μ < μ_min\n",
    "            μ = μ_min*1.1\n",
    "        end\n",
    "\n",
    "        # Line Search\n",
    "        α = 1.0\n",
    "        J0 = eval_f(nlp, Z)\n",
    "        grad0 = qp.q\n",
    "        c0 = qp.b\n",
    "        phi0 = J0 + μ * norm(c0, 1)            # merit function\n",
    "        dphi0 = grad0'dZ - μ * norm(c0, 1)     # gradient of the merit function (Nocedal & Wright Theorem 18.2)\n",
    "        phi = Inf\n",
    "        \n",
    "        push!(stats[:cost], J0)\n",
    "\n",
    "        soc = false\n",
    "        τ = 0.5\n",
    "        η = 1e-2\n",
    "        # verbose > 2 && @printf(\"\\n   ϕ0: %0.2f, ϕ′: %0.2e, %0.2e\\n\", phi0, dphi0, dphi1)\n",
    "        for i = 1:10\n",
    "            # Calculate merit function at new step\n",
    "            Z̄ .= Z .+ α .* dZ\n",
    "            eval_c!(nlp, c̄, Z̄)\n",
    "            phi = eval_f(nlp, Z̄) + μ * norm(c̄, 1)\n",
    "\n",
    "            # Check Armijo\n",
    "            if phi < phi0 + η*α*dphi0\n",
    "                reg = max(reg /= 100, reg_min)\n",
    "                break\n",
    "            # Try second-order correction\n",
    "            elseif α == 1.0 && enable_soc\n",
    "                A = qp.A\n",
    "                psoc = -A'*((A*A')\\(c̄))\n",
    "                Z̄ .= Z .+ dZ .+ psoc\n",
    "                eval_c!(nlp, c̄, Z̄)\n",
    "                phi = eval_f(nlp, Z̄) + μ * norm(c̄, 1)\n",
    "                if phi < phi0 + η*α*dphi0\n",
    "                    soc = true\n",
    "                    reg = max(reg /= 100, reg_min)\n",
    "                    break\n",
    "                else\n",
    "                    α *= τ\n",
    "                end\n",
    "            else\n",
    "                α *= τ\n",
    "            end\n",
    "\n",
    "            # Line search failure\n",
    "            if i == 10\n",
    "                reg *= 10    # increase regularization\n",
    "                α = 0        # don't take a step\n",
    "                Z̄ .= Z \n",
    "                @warn \"line search failed\"\n",
    "            end\n",
    "        end\n",
    "        # Apply step\n",
    "        Z .= Z̄\n",
    "        λ .= λ .- α .* dλ\n",
    "\n",
    "        # Output\n",
    "        verbose > 0 && @printf(\"   α = %0.2f, ΔJ: %0.2e, Δϕ: %0.2e, reg: %0.2e, pen: %d, soc: %d\\n\", \n",
    "            α, J - eval_f(nlp, Z), phi0 - phi, reg, μ, soc)\n",
    "        push!(stats[:time], (time_ns() - t_start) / 1e6)  # ms\n",
    "    end\n",
    "    push!(stats[:time], (time_ns() - t_start) / 1e6)  # ms\n",
    "    push!(stats[:cost], eval_f(nlp, Z))\n",
    "    return Z, λ, stats \n",
    "end\n",
    "\n",
    "\"\"\"\n",
    "    minimum_penalty(Q,q,c, dZ; ρ)\n",
    "\n",
    "Calculate the minimum penalty needed for the exact penalty function, where `Q` is the Hessian, `q` is the gradient, \n",
    "`c` is the constraint violation, and `dZ` is the search direction. (See Nocedal & Wright Eq. 18.36)\n",
    "\"\"\"\n",
    "function minimum_penalty(Q,q,c, dZ; ρ=0.5)\n",
    "    a = dot(dZ, Q, dZ)\n",
    "    σ = a > 0\n",
    "    num = q'dZ + σ*0.5*a\n",
    "    den = (1-ρ) * norm(c)\n",
    "    return num/den\n",
    "end"
   ]
  },
  {
   "cell_type": "code",
   "execution_count": 26,
   "metadata": {},
   "outputs": [
    {
     "data": {
      "text/plain": [
       "79"
      ]
     },
     "execution_count": 26,
     "metadata": {},
     "output_type": "execute_result"
    }
   ],
   "source": [
    "# TASK: Solve the problem with SQP\n",
    "#       Save the output to Zgn, λgn, stats_gn\n",
    "#       Solve to a tolerance of 1e-6 for constraint satisfaction and 1e-4 for stationarity condition\n",
    "\n",
    "Z = packZ(nlp, X, U)\n",
    "λ = zeros(num_duals(nlp))\n",
    "Zgn, λgn, stats_gn = solve_sqp!(nlp, Z, λ, verbose=0, gn=true);\n",
    "length(stats_gn[:time])"
   ]
  },
  {
   "cell_type": "markdown",
   "metadata": {},
   "source": [
    "## Visualization"
   ]
  },
  {
   "cell_type": "code",
   "execution_count": 22,
   "metadata": {},
   "outputs": [
    {
     "name": "stderr",
     "output_type": "stream",
     "text": [
      "┌ Info: MeshCat server started. You can open the visualizer by visiting the following URL in your browser:\n",
      "│ http://127.0.0.1:8702\n",
      "└ @ MeshCat /home/brian/.julia/packages/MeshCat/GlCMx/src/visualizer.jl:73\n"
     ]
    },
    {
     "data": {
      "text/html": [
       "    <div style=\"height: 500px; width: 100%; overflow-x: auto; overflow-y: hidden; resize: both\">\n",
       "    <iframe src=\"http://127.0.0.1:8702\" style=\"width: 100%; height: 100%; border: none\"></iframe>\n",
       "    </div>\n"
      ],
      "text/plain": [
       "MeshCat.DisplayedVisualizer(MeshCat.CoreVisualizer(MeshCat.SceneTrees.SceneNode(nothing, nothing, Dict{String,Array{UInt8,1}}(), nothing, Dict{String,MeshCat.SceneTrees.SceneNode}(\"meshcat\" => MeshCat.SceneTrees.SceneNode(nothing, nothing, Dict{String,Array{UInt8,1}}(), nothing, Dict{String,MeshCat.SceneTrees.SceneNode}(\"robot\" => MeshCat.SceneTrees.SceneNode(nothing, nothing, Dict{String,Array{UInt8,1}}(), nothing, Dict{String,MeshCat.SceneTrees.SceneNode}(\"rod\" => MeshCat.SceneTrees.SceneNode(UInt8[0x83, 0xa6, 0x6f, 0x62, 0x6a, 0x65, 0x63, 0x74, 0x84, 0xaa  …  0x2f, 0x72, 0x6f, 0x62, 0x6f, 0x74, 0x2f, 0x72, 0x6f, 0x64], nothing, Dict{String,Array{UInt8,1}}(), nothing, Dict{String,MeshCat.SceneTrees.SceneNode}()),\"cart\" => MeshCat.SceneTrees.SceneNode(nothing, nothing, Dict{String,Array{UInt8,1}}(), nothing, Dict{String,MeshCat.SceneTrees.SceneNode}(\"pole\" => MeshCat.SceneTrees.SceneNode(nothing, UInt8[0x83, 0xa6, 0x6d, 0x61, 0x74, 0x72, 0x69, 0x78, 0xc7, 0x40  …  0x2f, 0x63, 0x61, 0x72, 0x74, 0x2f, 0x70, 0x6f, 0x6c, 0x65], Dict{String,Array{UInt8,1}}(), nothing, Dict{String,MeshCat.SceneTrees.SceneNode}(\"geom\" => MeshCat.SceneTrees.SceneNode(nothing, nothing, Dict{String,Array{UInt8,1}}(), nothing, Dict{String,MeshCat.SceneTrees.SceneNode}(\"cyl\" => MeshCat.SceneTrees.SceneNode(UInt8[0x83, 0xa6, 0x6f, 0x62, 0x6a, 0x65, 0x63, 0x74, 0x84, 0xaa  …  0x65, 0x2f, 0x67, 0x65, 0x6f, 0x6d, 0x2f, 0x63, 0x79, 0x6c], nothing, Dict{String,Array{UInt8,1}}(), nothing, Dict{String,MeshCat.SceneTrees.SceneNode}()),\"mass\" => MeshCat.SceneTrees.SceneNode(UInt8[0x83, 0xa6, 0x6f, 0x62, 0x6a, 0x65, 0x63, 0x74, 0x84, 0xaa  …  0x2f, 0x67, 0x65, 0x6f, 0x6d, 0x2f, 0x6d, 0x61, 0x73, 0x73], nothing, Dict{String,Array{UInt8,1}}(), nothing, Dict{String,MeshCat.SceneTrees.SceneNode}()))))),\"box\" => MeshCat.SceneTrees.SceneNode(UInt8[0x83, 0xa6, 0x6f, 0x62, 0x6a, 0x65, 0x63, 0x74, 0x84, 0xaa  …  0x74, 0x2f, 0x63, 0x61, 0x72, 0x74, 0x2f, 0x62, 0x6f, 0x78], nothing, Dict{String,Array{UInt8,1}}(), nothing, Dict{String,MeshCat.SceneTrees.SceneNode}()),\"hinge\" => MeshCat.SceneTrees.SceneNode(UInt8[0x83, 0xa6, 0x6f, 0x62, 0x6a, 0x65, 0x63, 0x74, 0x84, 0xaa  …  0x63, 0x61, 0x72, 0x74, 0x2f, 0x68, 0x69, 0x6e, 0x67, 0x65], nothing, Dict{String,Array{UInt8,1}}(), nothing, Dict{String,MeshCat.SceneTrees.SceneNode}()))))))))), Set{Any}(), ip\"127.0.0.1\", 8702))"
      ]
     },
     "execution_count": 22,
     "metadata": {},
     "output_type": "execute_result"
    }
   ],
   "source": [
    "vis = Visualizer()\n",
    "set_mesh!(vis, model)\n",
    "render(vis)"
   ]
  },
  {
   "cell_type": "code",
   "execution_count": 28,
   "metadata": {},
   "outputs": [],
   "source": [
    "Xgn = [Zgn[xi] for xi in nlp.xinds]\n",
    "visualize!(vis, model, tf, Xgn)"
   ]
  },
  {
   "cell_type": "markdown",
   "metadata": {},
   "source": [
    "## Part (d): Implement Full Newton\n",
    "To compute the full Newton step, we need to evaluate the second-order derivatives of our constraints. Complete the methods below to calculate the full 2nd-order expansion of the Lagrangian."
   ]
  },
  {
   "cell_type": "code",
   "execution_count": 29,
   "metadata": {},
   "outputs": [
    {
     "data": {
      "text/plain": [
       "hess_lagrangian!"
      ]
     },
     "execution_count": 29,
     "metadata": {},
     "output_type": "execute_result"
    }
   ],
   "source": [
    "# TASK: Finish the methods below\n",
    "#       ∇jvp!\n",
    "#       hess_lagrangian!\n",
    "\n",
    "\"\"\"\n",
    "    ∇jvp!(nlp, hess, Z, λ)\n",
    "\n",
    "Evaluate the Jacobian of the constraint Jacobian-transpose vector product, e.g. ``\\\\frac{\\\\partial}{\\\\partial z} \\\\nabla c^T \\\\lambda``,\n",
    "storing the result in the (potentially sparse) matrix `hess`.\n",
    "\"\"\"\n",
    "function ∇jvp!(nlp::NLP{n,m,<:Any,Q}, hess, Z, λ) where {n,m,Q}\n",
    "    xi,ui = nlp.xinds, nlp.uinds\n",
    "    idx = [xi[1]; ui[1]]\n",
    "    idx2 = xi[1]\n",
    "    \n",
    "    # TODO: Initial Constraint\n",
    "    \n",
    "    # Dynamics constraints\n",
    "    for k = 1:nlp.T-1\n",
    "        idx2 = idx2 .+ n\n",
    "        zi2 = k < T-1 ? idx .+ (n+m) : xi[T]\n",
    "        x = Z[xi[k]]\n",
    "        u = Z[ui[k]]\n",
    "        λk = λ[idx2]\n",
    "        t = nlp.times[k]\n",
    "        dt = nlp.times[k+1] - nlp.times[k]\n",
    "        \n",
    "        ∇f = view(hess, idx, idx)\n",
    "        ∇f2 = view(hess, idx, zi2)\n",
    "        \n",
    "        # TODO: Calculate second derivative the dynamics\n",
    "        # SOLUTION\n",
    "#         zi = [xi[k];ui[k]]\n",
    "#         z = StaticKnotPoint(Z[zi], xi[1], ui[1], dt, nlp.times[k])\n",
    "#         RobotDynamics.∇discrete_jacobian!(Q, ∇f, nlp.model, z, λk)\n",
    "        ∇discrete_jacobian!(Q, ∇f, nlp.model, x, u, t, dt, λk)\n",
    "        \n",
    "        # Advance indices\n",
    "        idx = idx .+ (n + m)\n",
    "    end\n",
    "    # TODO: Terminal constraint\n",
    "#     for i = 1:n\n",
    "#         hess[end-i+1,end-i+1] = 0\n",
    "#     end\n",
    "end\n",
    "\n",
    "\"\"\"\n",
    "    hess_lagrangian(nlp, grad, Z, λ)\n",
    "\n",
    "Evaluate the Hessian of the Lagrangian.\n",
    "\"\"\"\n",
    "function hess_lagrangian!(nlp::NLP{n,m}, hess, Z, λ) where {n,m}\n",
    "    # TODO: Calculate the Hessian of the Lagrangian, store the result in hess\n",
    "    \n",
    "    # SOLUTION\n",
    "    ∇jvp!(nlp, hess, Z, λ)\n",
    "    hess .*= -1\n",
    "    hess_f!(nlp, hess, Z, false)\n",
    "    return nothing\n",
    "end\n"
   ]
  },
  {
   "cell_type": "code",
   "execution_count": 30,
   "metadata": {},
   "outputs": [
    {
     "name": "stdout",
     "output_type": "stream",
     "text": [
      "\u001b[37m\u001b[1mTest Summary: | \u001b[22m\u001b[39m\u001b[32m\u001b[1mPass  \u001b[22m\u001b[39m\u001b[36m\u001b[1mTotal\u001b[22m\u001b[39m\n",
      "NLP tests     | \u001b[32m 116  \u001b[39m\u001b[36m  116\u001b[39m\n"
     ]
    }
   ],
   "source": [
    "# Test the methods\n",
    "test_nlp(nlp, Z, λ, full_newton=true);"
   ]
  },
  {
   "cell_type": "markdown",
   "metadata": {},
   "source": [
    "## Part (e): Solve with Full Newton\n",
    "Now that we can calculate our full Newton step, modify `build_qp!` to use `hess_lagrangian!` when the `gn` is false. Then solve the problem with the full Newton solve."
   ]
  },
  {
   "cell_type": "code",
   "execution_count": 34,
   "metadata": {},
   "outputs": [
    {
     "data": {
      "text/plain": [
       "11"
      ]
     },
     "execution_count": 34,
     "metadata": {},
     "output_type": "execute_result"
    }
   ],
   "source": [
    "# TASK: Do the following\n",
    "#       1. Modify build_qp! to use the full Newton Hessian when `gn = false`\n",
    "#       2. Solve the problem using full Newton steps. Save the result in Zfn, λfn, stats_fn\n",
    "\n",
    "# SOLUTION\n",
    "Z = packZ(nlp, X, U)\n",
    "λ = zeros(num_duals(nlp))\n",
    "Zfn, λfn, stats_fn = solve_sqp!(nlp, Z, λ, verbose=0, gn=false, eps_dual=1e-4);\n",
    "length(stats_fn[:time])"
   ]
  },
  {
   "cell_type": "markdown",
   "metadata": {},
   "source": [
    "## Part (f): Convergence Comparison\n",
    "Let's compare the convergence of Gauss Newton versus Full Newton. Generate the following plots:\n",
    "1. Constraint violation vs iterations. Include a line for both Gauss and Full Newton\n",
    "2. Constraint violation vs time. Include a line for both Gauss and Full Newton\n",
    "\n",
    "Once you've generated the plots, take a minute to think about they tell you. What are the tradeoffs of using Gauss-Newton vs full Newton?\n",
    "\n",
    "You are free to use whatever plotting library you want (we suggest PyPlot.jl or Plots.jl).\n",
    "\n",
    "**TIP**: Save the data you need in the stats dictionary that returned from the sqp solver.\n",
    "\n",
    "**TIP**: If your plot vs time has a large offset before the first iteration, run your solver again (remember it has to compile the first time through)."
   ]
  },
  {
   "cell_type": "code",
   "execution_count": 35,
   "metadata": {},
   "outputs": [
    {
     "data": {
      "image/svg+xml": [
       "<?xml version=\"1.0\" encoding=\"utf-8\"?>\n",
       "<svg xmlns=\"http://www.w3.org/2000/svg\" xmlns:xlink=\"http://www.w3.org/1999/xlink\" width=\"600\" height=\"400\" viewBox=\"0 0 2400 1600\">\n",
       "<defs>\n",
       "  <clipPath id=\"clip150\">\n",
       "    <rect x=\"0\" y=\"0\" width=\"2400\" height=\"1600\"/>\n",
       "  </clipPath>\n",
       "</defs>\n",
       "<path clip-path=\"url(#clip150)\" d=\"\n",
       "M0 1600 L2400 1600 L2400 0 L0 0  Z\n",
       "  \" fill=\"#ffffff\" fill-rule=\"evenodd\" fill-opacity=\"1\"/>\n",
       "<defs>\n",
       "  <clipPath id=\"clip151\">\n",
       "    <rect x=\"480\" y=\"0\" width=\"1681\" height=\"1600\"/>\n",
       "  </clipPath>\n",
       "</defs>\n",
       "<path clip-path=\"url(#clip150)\" d=\"\n",
       "M244.308 1423.18 L2352.76 1423.18 L2352.76 47.2441 L244.308 47.2441  Z\n",
       "  \" fill=\"#ffffff\" fill-rule=\"evenodd\" fill-opacity=\"1\"/>\n",
       "<defs>\n",
       "  <clipPath id=\"clip152\">\n",
       "    <rect x=\"244\" y=\"47\" width=\"2109\" height=\"1377\"/>\n",
       "  </clipPath>\n",
       "</defs>\n",
       "<polyline clip-path=\"url(#clip152)\" style=\"stroke:#000000; stroke-width:2; stroke-opacity:0.1; fill:none\" points=\"\n",
       "  278.479,1423.18 278.479,47.2441 \n",
       "  \"/>\n",
       "<polyline clip-path=\"url(#clip152)\" style=\"stroke:#000000; stroke-width:2; stroke-opacity:0.1; fill:none\" points=\"\n",
       "  788.506,1423.18 788.506,47.2441 \n",
       "  \"/>\n",
       "<polyline clip-path=\"url(#clip152)\" style=\"stroke:#000000; stroke-width:2; stroke-opacity:0.1; fill:none\" points=\"\n",
       "  1298.53,1423.18 1298.53,47.2441 \n",
       "  \"/>\n",
       "<polyline clip-path=\"url(#clip152)\" style=\"stroke:#000000; stroke-width:2; stroke-opacity:0.1; fill:none\" points=\"\n",
       "  1808.56,1423.18 1808.56,47.2441 \n",
       "  \"/>\n",
       "<polyline clip-path=\"url(#clip152)\" style=\"stroke:#000000; stroke-width:2; stroke-opacity:0.1; fill:none\" points=\"\n",
       "  2318.58,1423.18 2318.58,47.2441 \n",
       "  \"/>\n",
       "<polyline clip-path=\"url(#clip150)\" style=\"stroke:#000000; stroke-width:4; stroke-opacity:1; fill:none\" points=\"\n",
       "  244.308,1423.18 2352.76,1423.18 \n",
       "  \"/>\n",
       "<polyline clip-path=\"url(#clip150)\" style=\"stroke:#000000; stroke-width:4; stroke-opacity:1; fill:none\" points=\"\n",
       "  278.479,1423.18 278.479,1406.67 \n",
       "  \"/>\n",
       "<polyline clip-path=\"url(#clip150)\" style=\"stroke:#000000; stroke-width:4; stroke-opacity:1; fill:none\" points=\"\n",
       "  788.506,1423.18 788.506,1406.67 \n",
       "  \"/>\n",
       "<polyline clip-path=\"url(#clip150)\" style=\"stroke:#000000; stroke-width:4; stroke-opacity:1; fill:none\" points=\"\n",
       "  1298.53,1423.18 1298.53,1406.67 \n",
       "  \"/>\n",
       "<polyline clip-path=\"url(#clip150)\" style=\"stroke:#000000; stroke-width:4; stroke-opacity:1; fill:none\" points=\"\n",
       "  1808.56,1423.18 1808.56,1406.67 \n",
       "  \"/>\n",
       "<polyline clip-path=\"url(#clip150)\" style=\"stroke:#000000; stroke-width:4; stroke-opacity:1; fill:none\" points=\"\n",
       "  2318.58,1423.18 2318.58,1406.67 \n",
       "  \"/>\n",
       "<path clip-path=\"url(#clip150)\" d=\"M 0 0 M278.479 1452.37 Q274.868 1452.37 273.04 1455.94 Q271.234 1459.48 271.234 1466.61 Q271.234 1473.71 273.04 1477.28 Q274.868 1480.82 278.479 1480.82 Q282.114 1480.82 283.919 1477.28 Q285.748 1473.71 285.748 1466.61 Q285.748 1459.48 283.919 1455.94 Q282.114 1452.37 278.479 1452.37 M278.479 1448.67 Q284.29 1448.67 287.345 1453.27 Q290.424 1457.86 290.424 1466.61 Q290.424 1475.33 287.345 1479.94 Q284.29 1484.52 278.479 1484.52 Q272.669 1484.52 269.591 1479.94 Q266.535 1475.33 266.535 1466.61 Q266.535 1457.86 269.591 1453.27 Q272.669 1448.67 278.479 1448.67 Z\" fill=\"#000000\" fill-rule=\"evenodd\" fill-opacity=\"1\" /><path clip-path=\"url(#clip150)\" d=\"M 0 0 M769.652 1479.92 L785.971 1479.92 L785.971 1483.85 L764.027 1483.85 L764.027 1479.92 Q766.689 1477.16 771.272 1472.53 Q775.878 1467.88 777.059 1466.54 Q779.304 1464.01 780.184 1462.28 Q781.087 1460.52 781.087 1458.83 Q781.087 1456.07 779.142 1454.34 Q777.221 1452.6 774.119 1452.6 Q771.92 1452.6 769.466 1453.37 Q767.036 1454.13 764.258 1455.68 L764.258 1450.96 Q767.082 1449.82 769.536 1449.25 Q771.99 1448.67 774.027 1448.67 Q779.397 1448.67 782.591 1451.35 Q785.786 1454.04 785.786 1458.53 Q785.786 1460.66 784.976 1462.58 Q784.189 1464.48 782.082 1467.07 Q781.503 1467.74 778.402 1470.96 Q775.3 1474.15 769.652 1479.92 Z\" fill=\"#000000\" fill-rule=\"evenodd\" fill-opacity=\"1\" /><path clip-path=\"url(#clip150)\" d=\"M 0 0 M801.04 1452.37 Q797.429 1452.37 795.6 1455.94 Q793.795 1459.48 793.795 1466.61 Q793.795 1473.71 795.6 1477.28 Q797.429 1480.82 801.04 1480.82 Q804.675 1480.82 806.48 1477.28 Q808.309 1473.71 808.309 1466.61 Q808.309 1459.48 806.48 1455.94 Q804.675 1452.37 801.04 1452.37 M801.04 1448.67 Q806.85 1448.67 809.906 1453.27 Q812.985 1457.86 812.985 1466.61 Q812.985 1475.33 809.906 1479.94 Q806.85 1484.52 801.04 1484.52 Q795.23 1484.52 792.151 1479.94 Q789.096 1475.33 789.096 1466.61 Q789.096 1457.86 792.151 1453.27 Q795.23 1448.67 801.04 1448.67 Z\" fill=\"#000000\" fill-rule=\"evenodd\" fill-opacity=\"1\" /><path clip-path=\"url(#clip150)\" d=\"M 0 0 M1288.03 1453.37 L1276.23 1471.81 L1288.03 1471.81 L1288.03 1453.37 M1286.81 1449.29 L1292.69 1449.29 L1292.69 1471.81 L1297.62 1471.81 L1297.62 1475.7 L1292.69 1475.7 L1292.69 1483.85 L1288.03 1483.85 L1288.03 1475.7 L1272.43 1475.7 L1272.43 1471.19 L1286.81 1449.29 Z\" fill=\"#000000\" fill-rule=\"evenodd\" fill-opacity=\"1\" /><path clip-path=\"url(#clip150)\" d=\"M 0 0 M1312.69 1452.37 Q1309.08 1452.37 1307.25 1455.94 Q1305.44 1459.48 1305.44 1466.61 Q1305.44 1473.71 1307.25 1477.28 Q1309.08 1480.82 1312.69 1480.82 Q1316.32 1480.82 1318.13 1477.28 Q1319.96 1473.71 1319.96 1466.61 Q1319.96 1459.48 1318.13 1455.94 Q1316.32 1452.37 1312.69 1452.37 M1312.69 1448.67 Q1318.5 1448.67 1321.55 1453.27 Q1324.63 1457.86 1324.63 1466.61 Q1324.63 1475.33 1321.55 1479.94 Q1318.5 1484.52 1312.69 1484.52 Q1306.88 1484.52 1303.8 1479.94 Q1300.74 1475.33 1300.74 1466.61 Q1300.74 1457.86 1303.8 1453.27 Q1306.88 1448.67 1312.69 1448.67 Z\" fill=\"#000000\" fill-rule=\"evenodd\" fill-opacity=\"1\" /><path clip-path=\"url(#clip150)\" d=\"M 0 0 M1795.46 1464.71 Q1792.31 1464.71 1790.46 1466.86 Q1788.63 1469.01 1788.63 1472.76 Q1788.63 1476.49 1790.46 1478.67 Q1792.31 1480.82 1795.46 1480.82 Q1798.6 1480.82 1800.43 1478.67 Q1802.28 1476.49 1802.28 1472.76 Q1802.28 1469.01 1800.43 1466.86 Q1798.6 1464.71 1795.46 1464.71 M1804.74 1450.06 L1804.74 1454.31 Q1802.98 1453.48 1801.17 1453.04 Q1799.39 1452.6 1797.63 1452.6 Q1793 1452.6 1790.55 1455.73 Q1788.12 1458.85 1787.77 1465.17 Q1789.14 1463.16 1791.2 1462.09 Q1793.26 1461 1795.73 1461 Q1800.94 1461 1803.95 1464.18 Q1806.98 1467.32 1806.98 1472.76 Q1806.98 1478.09 1803.84 1481.31 Q1800.69 1484.52 1795.46 1484.52 Q1789.46 1484.52 1786.29 1479.94 Q1783.12 1475.33 1783.12 1466.61 Q1783.12 1458.41 1787.01 1453.55 Q1790.9 1448.67 1797.45 1448.67 Q1799.21 1448.67 1800.99 1449.01 Q1802.79 1449.36 1804.74 1450.06 Z\" fill=\"#000000\" fill-rule=\"evenodd\" fill-opacity=\"1\" /><path clip-path=\"url(#clip150)\" d=\"M 0 0 M1822.05 1452.37 Q1818.44 1452.37 1816.61 1455.94 Q1814.81 1459.48 1814.81 1466.61 Q1814.81 1473.71 1816.61 1477.28 Q1818.44 1480.82 1822.05 1480.82 Q1825.69 1480.82 1827.49 1477.28 Q1829.32 1473.71 1829.32 1466.61 Q1829.32 1459.48 1827.49 1455.94 Q1825.69 1452.37 1822.05 1452.37 M1822.05 1448.67 Q1827.86 1448.67 1830.92 1453.27 Q1834 1457.86 1834 1466.61 Q1834 1475.33 1830.92 1479.94 Q1827.86 1484.52 1822.05 1484.52 Q1816.24 1484.52 1813.16 1479.94 Q1810.11 1475.33 1810.11 1466.61 Q1810.11 1457.86 1813.16 1453.27 Q1816.24 1448.67 1822.05 1448.67 Z\" fill=\"#000000\" fill-rule=\"evenodd\" fill-opacity=\"1\" /><path clip-path=\"url(#clip150)\" d=\"M 0 0 M2305.08 1467.44 Q2301.74 1467.44 2299.82 1469.22 Q2297.92 1471 2297.92 1474.13 Q2297.92 1477.25 2299.82 1479.04 Q2301.74 1480.82 2305.08 1480.82 Q2308.41 1480.82 2310.33 1479.04 Q2312.25 1477.23 2312.25 1474.13 Q2312.25 1471 2310.33 1469.22 Q2308.43 1467.44 2305.08 1467.44 M2300.4 1465.45 Q2297.39 1464.71 2295.7 1462.65 Q2294.04 1460.59 2294.04 1457.63 Q2294.04 1453.48 2296.98 1451.07 Q2299.94 1448.67 2305.08 1448.67 Q2310.24 1448.67 2313.18 1451.07 Q2316.12 1453.48 2316.12 1457.63 Q2316.12 1460.59 2314.43 1462.65 Q2312.76 1464.71 2309.78 1465.45 Q2313.16 1466.24 2315.03 1468.53 Q2316.93 1470.82 2316.93 1474.13 Q2316.93 1479.15 2313.85 1481.84 Q2310.79 1484.52 2305.08 1484.52 Q2299.36 1484.52 2296.28 1481.84 Q2293.23 1479.15 2293.23 1474.13 Q2293.23 1470.82 2295.12 1468.53 Q2297.02 1466.24 2300.4 1465.45 M2298.69 1458.06 Q2298.69 1460.75 2300.36 1462.25 Q2302.04 1463.76 2305.08 1463.76 Q2308.09 1463.76 2309.78 1462.25 Q2311.49 1460.75 2311.49 1458.06 Q2311.49 1455.38 2309.78 1453.88 Q2308.09 1452.37 2305.08 1452.37 Q2302.04 1452.37 2300.36 1453.88 Q2298.69 1455.38 2298.69 1458.06 Z\" fill=\"#000000\" fill-rule=\"evenodd\" fill-opacity=\"1\" /><path clip-path=\"url(#clip150)\" d=\"M 0 0 M2332 1452.37 Q2328.39 1452.37 2326.56 1455.94 Q2324.75 1459.48 2324.75 1466.61 Q2324.75 1473.71 2326.56 1477.28 Q2328.39 1480.82 2332 1480.82 Q2335.63 1480.82 2337.44 1477.28 Q2339.27 1473.71 2339.27 1466.61 Q2339.27 1459.48 2337.44 1455.94 Q2335.63 1452.37 2332 1452.37 M2332 1448.67 Q2337.81 1448.67 2340.86 1453.27 Q2343.94 1457.86 2343.94 1466.61 Q2343.94 1475.33 2340.86 1479.94 Q2337.81 1484.52 2332 1484.52 Q2326.19 1484.52 2323.11 1479.94 Q2320.05 1475.33 2320.05 1466.61 Q2320.05 1457.86 2323.11 1453.27 Q2326.19 1448.67 2332 1448.67 Z\" fill=\"#000000\" fill-rule=\"evenodd\" fill-opacity=\"1\" /><path clip-path=\"url(#clip150)\" d=\"M 0 0 M1165.44 1532.4 L1171.3 1532.4 L1171.3 1568.04 L1165.44 1568.04 L1165.44 1532.4 M1165.44 1518.52 L1171.3 1518.52 L1171.3 1525.93 L1165.44 1525.93 L1165.44 1518.52 Z\" fill=\"#000000\" fill-rule=\"evenodd\" fill-opacity=\"1\" /><path clip-path=\"url(#clip150)\" d=\"M 0 0 M1183.23 1522.27 L1183.23 1532.4 L1195.3 1532.4 L1195.3 1536.95 L1183.23 1536.95 L1183.23 1556.3 Q1183.23 1560.66 1184.41 1561.9 Q1185.62 1563.14 1189.28 1563.14 L1195.3 1563.14 L1195.3 1568.04 L1189.28 1568.04 Q1182.5 1568.04 1179.92 1565.53 Q1177.34 1562.98 1177.34 1556.3 L1177.34 1536.95 L1173.05 1536.95 L1173.05 1532.4 L1177.34 1532.4 L1177.34 1522.27 L1183.23 1522.27 Z\" fill=\"#000000\" fill-rule=\"evenodd\" fill-opacity=\"1\" /><path clip-path=\"url(#clip150)\" d=\"M 0 0 M1231.93 1548.76 L1231.93 1551.62 L1205 1551.62 Q1205.39 1557.67 1208.63 1560.85 Q1211.91 1564 1217.74 1564 Q1221.11 1564 1224.26 1563.17 Q1227.44 1562.35 1230.56 1560.69 L1230.56 1566.23 Q1227.41 1567.57 1224.1 1568.27 Q1220.79 1568.97 1217.38 1568.97 Q1208.85 1568.97 1203.86 1564 Q1198.89 1559.04 1198.89 1550.57 Q1198.89 1541.82 1203.6 1536.69 Q1208.35 1531.54 1216.37 1531.54 Q1223.56 1531.54 1227.73 1536.18 Q1231.93 1540.8 1231.93 1548.76 M1226.07 1547.04 Q1226.01 1542.23 1223.37 1539.37 Q1220.76 1536.5 1216.43 1536.5 Q1211.53 1536.5 1208.57 1539.27 Q1205.64 1542.04 1205.19 1547.07 L1226.07 1547.04 Z\" fill=\"#000000\" fill-rule=\"evenodd\" fill-opacity=\"1\" /><path clip-path=\"url(#clip150)\" d=\"M 0 0 M1258.73 1537.87 Q1257.74 1537.3 1256.57 1537.04 Q1255.42 1536.76 1254.02 1536.76 Q1249.05 1536.76 1246.38 1540 Q1243.74 1543.22 1243.74 1549.27 L1243.74 1568.04 L1237.85 1568.04 L1237.85 1532.4 L1243.74 1532.4 L1243.74 1537.93 Q1245.59 1534.69 1248.55 1533.13 Q1251.51 1531.54 1255.74 1531.54 Q1256.34 1531.54 1257.08 1531.63 Q1257.81 1531.7 1258.7 1531.85 L1258.73 1537.87 Z\" fill=\"#000000\" fill-rule=\"evenodd\" fill-opacity=\"1\" /><path clip-path=\"url(#clip150)\" d=\"M 0 0 M1281.07 1550.12 Q1273.98 1550.12 1271.24 1551.75 Q1268.5 1553.37 1268.5 1557.29 Q1268.5 1560.4 1270.54 1562.25 Q1272.61 1564.07 1276.14 1564.07 Q1281.01 1564.07 1283.94 1560.63 Q1286.9 1557.16 1286.9 1551.43 L1286.9 1550.12 L1281.07 1550.12 M1292.75 1547.71 L1292.75 1568.04 L1286.9 1568.04 L1286.9 1562.63 Q1284.89 1565.88 1281.9 1567.44 Q1278.91 1568.97 1274.58 1568.97 Q1269.11 1568.97 1265.86 1565.91 Q1262.65 1562.82 1262.65 1557.67 Q1262.65 1551.65 1266.66 1548.6 Q1270.7 1545.54 1278.69 1545.54 L1286.9 1545.54 L1286.9 1544.97 Q1286.9 1540.93 1284.22 1538.73 Q1281.58 1536.5 1276.78 1536.5 Q1273.72 1536.5 1270.83 1537.23 Q1267.93 1537.97 1265.26 1539.43 L1265.26 1534.02 Q1268.47 1532.78 1271.49 1532.17 Q1274.52 1531.54 1277.38 1531.54 Q1285.12 1531.54 1288.94 1535.55 Q1292.75 1539.56 1292.75 1547.71 Z\" fill=\"#000000\" fill-rule=\"evenodd\" fill-opacity=\"1\" /><path clip-path=\"url(#clip150)\" d=\"M 0 0 M1304.69 1522.27 L1304.69 1532.4 L1316.75 1532.4 L1316.75 1536.95 L1304.69 1536.95 L1304.69 1556.3 Q1304.69 1560.66 1305.87 1561.9 Q1307.08 1563.14 1310.74 1563.14 L1316.75 1563.14 L1316.75 1568.04 L1310.74 1568.04 Q1303.96 1568.04 1301.38 1565.53 Q1298.8 1562.98 1298.8 1556.3 L1298.8 1536.95 L1294.51 1536.95 L1294.51 1532.4 L1298.8 1532.4 L1298.8 1522.27 L1304.69 1522.27 Z\" fill=\"#000000\" fill-rule=\"evenodd\" fill-opacity=\"1\" /><path clip-path=\"url(#clip150)\" d=\"M 0 0 M1322.9 1532.4 L1328.75 1532.4 L1328.75 1568.04 L1322.9 1568.04 L1322.9 1532.4 M1322.9 1518.52 L1328.75 1518.52 L1328.75 1525.93 L1322.9 1525.93 L1322.9 1518.52 Z\" fill=\"#000000\" fill-rule=\"evenodd\" fill-opacity=\"1\" /><path clip-path=\"url(#clip150)\" d=\"M 0 0 M1348.71 1536.5 Q1344 1536.5 1341.26 1540.19 Q1338.52 1543.85 1338.52 1550.25 Q1338.52 1556.65 1341.23 1560.34 Q1343.97 1564 1348.71 1564 Q1353.39 1564 1356.13 1560.31 Q1358.86 1556.62 1358.86 1550.25 Q1358.86 1543.92 1356.13 1540.23 Q1353.39 1536.5 1348.71 1536.5 M1348.71 1531.54 Q1356.35 1531.54 1360.71 1536.5 Q1365.07 1541.47 1365.07 1550.25 Q1365.07 1559 1360.71 1564 Q1356.35 1568.97 1348.71 1568.97 Q1341.04 1568.97 1336.68 1564 Q1332.35 1559 1332.35 1550.25 Q1332.35 1541.47 1336.68 1536.5 Q1341.04 1531.54 1348.71 1531.54 Z\" fill=\"#000000\" fill-rule=\"evenodd\" fill-opacity=\"1\" /><path clip-path=\"url(#clip150)\" d=\"M 0 0 M1400.84 1546.53 L1400.84 1568.04 L1394.99 1568.04 L1394.99 1546.72 Q1394.99 1541.66 1393.01 1539.14 Q1391.04 1536.63 1387.09 1536.63 Q1382.35 1536.63 1379.61 1539.65 Q1376.88 1542.68 1376.88 1547.9 L1376.88 1568.04 L1370.99 1568.04 L1370.99 1532.4 L1376.88 1532.4 L1376.88 1537.93 Q1378.98 1534.72 1381.81 1533.13 Q1384.68 1531.54 1388.4 1531.54 Q1394.54 1531.54 1397.69 1535.36 Q1400.84 1539.14 1400.84 1546.53 Z\" fill=\"#000000\" fill-rule=\"evenodd\" fill-opacity=\"1\" /><path clip-path=\"url(#clip150)\" d=\"M 0 0 M1429.71 1533.45 L1429.71 1538.98 Q1427.23 1537.71 1424.56 1537.07 Q1421.88 1536.44 1419.02 1536.44 Q1414.66 1536.44 1412.46 1537.77 Q1410.3 1539.11 1410.3 1541.79 Q1410.3 1543.82 1411.86 1545 Q1413.42 1546.15 1418.13 1547.2 L1420.13 1547.64 Q1426.37 1548.98 1428.98 1551.43 Q1431.62 1553.85 1431.62 1558.21 Q1431.62 1563.17 1427.68 1566.07 Q1423.76 1568.97 1416.89 1568.97 Q1414.02 1568.97 1410.9 1568.39 Q1407.82 1567.85 1404.38 1566.74 L1404.38 1560.69 Q1407.62 1562.38 1410.78 1563.24 Q1413.93 1564.07 1417.01 1564.07 Q1421.15 1564.07 1423.38 1562.66 Q1425.61 1561.23 1425.61 1558.65 Q1425.61 1556.27 1423.98 1554.99 Q1422.39 1553.72 1416.95 1552.54 L1414.91 1552.07 Q1409.47 1550.92 1407.05 1548.56 Q1404.63 1546.18 1404.63 1542.04 Q1404.63 1537.01 1408.2 1534.27 Q1411.76 1531.54 1418.32 1531.54 Q1421.56 1531.54 1424.43 1532.01 Q1427.29 1532.49 1429.71 1533.45 Z\" fill=\"#000000\" fill-rule=\"evenodd\" fill-opacity=\"1\" /><polyline clip-path=\"url(#clip152)\" style=\"stroke:#000000; stroke-width:2; stroke-opacity:0.1; fill:none\" points=\"\n",
       "  244.308,1242.11 2352.76,1242.11 \n",
       "  \"/>\n",
       "<polyline clip-path=\"url(#clip152)\" style=\"stroke:#000000; stroke-width:2; stroke-opacity:0.1; fill:none\" points=\"\n",
       "  244.308,973.673 2352.76,973.673 \n",
       "  \"/>\n",
       "<polyline clip-path=\"url(#clip152)\" style=\"stroke:#000000; stroke-width:2; stroke-opacity:0.1; fill:none\" points=\"\n",
       "  244.308,705.232 2352.76,705.232 \n",
       "  \"/>\n",
       "<polyline clip-path=\"url(#clip152)\" style=\"stroke:#000000; stroke-width:2; stroke-opacity:0.1; fill:none\" points=\"\n",
       "  244.308,436.792 2352.76,436.792 \n",
       "  \"/>\n",
       "<polyline clip-path=\"url(#clip152)\" style=\"stroke:#000000; stroke-width:2; stroke-opacity:0.1; fill:none\" points=\"\n",
       "  244.308,168.351 2352.76,168.351 \n",
       "  \"/>\n",
       "<polyline clip-path=\"url(#clip150)\" style=\"stroke:#000000; stroke-width:4; stroke-opacity:1; fill:none\" points=\"\n",
       "  244.308,1423.18 244.308,47.2441 \n",
       "  \"/>\n",
       "<polyline clip-path=\"url(#clip150)\" style=\"stroke:#000000; stroke-width:4; stroke-opacity:1; fill:none\" points=\"\n",
       "  244.308,1242.11 269.609,1242.11 \n",
       "  \"/>\n",
       "<polyline clip-path=\"url(#clip150)\" style=\"stroke:#000000; stroke-width:4; stroke-opacity:1; fill:none\" points=\"\n",
       "  244.308,973.673 269.609,973.673 \n",
       "  \"/>\n",
       "<polyline clip-path=\"url(#clip150)\" style=\"stroke:#000000; stroke-width:4; stroke-opacity:1; fill:none\" points=\"\n",
       "  244.308,705.232 269.609,705.232 \n",
       "  \"/>\n",
       "<polyline clip-path=\"url(#clip150)\" style=\"stroke:#000000; stroke-width:4; stroke-opacity:1; fill:none\" points=\"\n",
       "  244.308,436.792 269.609,436.792 \n",
       "  \"/>\n",
       "<polyline clip-path=\"url(#clip150)\" style=\"stroke:#000000; stroke-width:4; stroke-opacity:1; fill:none\" points=\"\n",
       "  244.308,168.351 269.609,168.351 \n",
       "  \"/>\n",
       "<path clip-path=\"url(#clip150)\" d=\"M 0 0 M115.402 1261.91 L123.04 1261.91 L123.04 1235.54 L114.73 1237.21 L114.73 1232.95 L122.994 1231.28 L127.67 1231.28 L127.67 1261.91 L135.309 1261.91 L135.309 1265.84 L115.402 1265.84 L115.402 1261.91 Z\" fill=\"#000000\" fill-rule=\"evenodd\" fill-opacity=\"1\" /><path clip-path=\"url(#clip150)\" d=\"M 0 0 M150.378 1234.36 Q146.767 1234.36 144.939 1237.92 Q143.133 1241.47 143.133 1248.6 Q143.133 1255.7 144.939 1259.27 Q146.767 1262.81 150.378 1262.81 Q154.013 1262.81 155.818 1259.27 Q157.647 1255.7 157.647 1248.6 Q157.647 1241.47 155.818 1237.92 Q154.013 1234.36 150.378 1234.36 M150.378 1230.66 Q156.188 1230.66 159.244 1235.26 Q162.323 1239.85 162.323 1248.6 Q162.323 1257.32 159.244 1261.93 Q156.188 1266.51 150.378 1266.51 Q144.568 1266.51 141.489 1261.93 Q138.434 1257.32 138.434 1248.6 Q138.434 1239.85 141.489 1235.26 Q144.568 1230.66 150.378 1230.66 Z\" fill=\"#000000\" fill-rule=\"evenodd\" fill-opacity=\"1\" /><path clip-path=\"url(#clip150)\" d=\"M 0 0 M162.323 1224.76 L186.434 1224.76 L186.434 1227.95 L162.323 1227.95 L162.323 1224.76 Z\" fill=\"#000000\" fill-rule=\"evenodd\" fill-opacity=\"1\" /><path clip-path=\"url(#clip150)\" d=\"M 0 0 M198.678 1225.1 Q195.97 1225.1 194.409 1226.54 Q192.867 1227.99 192.867 1230.53 Q192.867 1233.07 194.409 1234.52 Q195.97 1235.97 198.678 1235.97 Q201.386 1235.97 202.947 1234.52 Q204.509 1233.05 204.509 1230.53 Q204.509 1227.99 202.947 1226.54 Q201.405 1225.1 198.678 1225.1 M194.879 1223.48 Q192.434 1222.88 191.061 1221.2 Q189.707 1219.53 189.707 1217.12 Q189.707 1213.75 192.095 1211.8 Q194.503 1209.84 198.678 1209.84 Q202.872 1209.84 205.261 1211.8 Q207.649 1213.75 207.649 1217.12 Q207.649 1219.53 206.276 1221.2 Q204.922 1222.88 202.496 1223.48 Q205.242 1224.12 206.765 1225.98 Q208.308 1227.84 208.308 1230.53 Q208.308 1234.61 205.806 1236.79 Q203.324 1238.98 198.678 1238.98 Q194.033 1238.98 191.531 1236.79 Q189.049 1234.61 189.049 1230.53 Q189.049 1227.84 190.591 1225.98 Q192.133 1224.12 194.879 1223.48 M193.487 1217.48 Q193.487 1219.66 194.841 1220.88 Q196.214 1222.11 198.678 1222.11 Q201.123 1222.11 202.496 1220.88 Q203.888 1219.66 203.888 1217.48 Q203.888 1215.3 202.496 1214.07 Q201.123 1212.85 198.678 1212.85 Q196.214 1212.85 194.841 1214.07 Q193.487 1215.3 193.487 1217.48 Z\" fill=\"#000000\" fill-rule=\"evenodd\" fill-opacity=\"1\" /><path clip-path=\"url(#clip150)\" d=\"M 0 0 M115.195 993.465 L122.834 993.465 L122.834 967.099 L114.523 968.766 L114.523 964.507 L122.787 962.84 L127.463 962.84 L127.463 993.465 L135.102 993.465 L135.102 997.4 L115.195 997.4 L115.195 993.465 Z\" fill=\"#000000\" fill-rule=\"evenodd\" fill-opacity=\"1\" /><path clip-path=\"url(#clip150)\" d=\"M 0 0 M150.171 965.919 Q146.56 965.919 144.732 969.484 Q142.926 973.025 142.926 980.155 Q142.926 987.261 144.732 990.826 Q146.56 994.368 150.171 994.368 Q153.806 994.368 155.611 990.826 Q157.44 987.261 157.44 980.155 Q157.44 973.025 155.611 969.484 Q153.806 965.919 150.171 965.919 M150.171 962.215 Q155.982 962.215 159.037 966.822 Q162.116 971.405 162.116 980.155 Q162.116 988.882 159.037 993.488 Q155.982 998.072 150.171 998.072 Q144.361 998.072 141.283 993.488 Q138.227 988.882 138.227 980.155 Q138.227 971.405 141.283 966.822 Q144.361 962.215 150.171 962.215 Z\" fill=\"#000000\" fill-rule=\"evenodd\" fill-opacity=\"1\" /><path clip-path=\"url(#clip150)\" d=\"M 0 0 M162.116 956.317 L186.227 956.317 L186.227 959.514 L162.116 959.514 L162.116 956.317 Z\" fill=\"#000000\" fill-rule=\"evenodd\" fill-opacity=\"1\" /><path clip-path=\"url(#clip150)\" d=\"M 0 0 M198.941 954.436 Q196.384 954.436 194.879 956.185 Q193.393 957.934 193.393 960.981 Q193.393 964.009 194.879 965.777 Q196.384 967.526 198.941 967.526 Q201.499 967.526 202.985 965.777 Q204.49 964.009 204.49 960.981 Q204.49 957.934 202.985 956.185 Q201.499 954.436 198.941 954.436 M206.483 942.53 L206.483 945.991 Q205.054 945.314 203.587 944.957 Q202.139 944.599 200.709 944.599 Q196.948 944.599 194.954 947.138 Q192.979 949.677 192.697 954.812 Q193.807 953.176 195.481 952.311 Q197.155 951.427 199.167 951.427 Q203.399 951.427 205.844 954.003 Q208.308 956.561 208.308 960.981 Q208.308 965.307 205.75 967.921 Q203.192 970.535 198.941 970.535 Q194.07 970.535 191.494 966.811 Q188.917 963.069 188.917 955.978 Q188.917 949.32 192.077 945.37 Q195.236 941.402 200.559 941.402 Q201.988 941.402 203.436 941.684 Q204.903 941.966 206.483 942.53 Z\" fill=\"#000000\" fill-rule=\"evenodd\" fill-opacity=\"1\" /><path clip-path=\"url(#clip150)\" d=\"M 0 0 M114.931 725.025 L122.57 725.025 L122.57 698.659 L114.26 700.326 L114.26 696.066 L122.524 694.4 L127.2 694.4 L127.2 725.025 L134.839 725.025 L134.839 728.96 L114.931 728.96 L114.931 725.025 Z\" fill=\"#000000\" fill-rule=\"evenodd\" fill-opacity=\"1\" /><path clip-path=\"url(#clip150)\" d=\"M 0 0 M149.908 697.479 Q146.297 697.479 144.468 701.043 Q142.663 704.585 142.663 711.715 Q142.663 718.821 144.468 722.386 Q146.297 725.927 149.908 725.927 Q153.542 725.927 155.348 722.386 Q157.177 718.821 157.177 711.715 Q157.177 704.585 155.348 701.043 Q153.542 697.479 149.908 697.479 M149.908 693.775 Q155.718 693.775 158.774 698.381 Q161.852 702.965 161.852 711.715 Q161.852 720.441 158.774 725.048 Q155.718 729.631 149.908 729.631 Q144.098 729.631 141.019 725.048 Q137.964 720.441 137.964 711.715 Q137.964 702.965 141.019 698.381 Q144.098 693.775 149.908 693.775 Z\" fill=\"#000000\" fill-rule=\"evenodd\" fill-opacity=\"1\" /><path clip-path=\"url(#clip150)\" d=\"M 0 0 M161.852 687.876 L185.964 687.876 L185.964 691.073 L161.852 691.073 L161.852 687.876 Z\" fill=\"#000000\" fill-rule=\"evenodd\" fill-opacity=\"1\" /><path clip-path=\"url(#clip150)\" d=\"M 0 0 M200.521 676.78 L190.929 691.769 L200.521 691.769 L200.521 676.78 M199.524 673.469 L204.302 673.469 L204.302 691.769 L208.308 691.769 L208.308 694.929 L204.302 694.929 L204.302 701.549 L200.521 701.549 L200.521 694.929 L187.845 694.929 L187.845 691.262 L199.524 673.469 Z\" fill=\"#000000\" fill-rule=\"evenodd\" fill-opacity=\"1\" /><path clip-path=\"url(#clip150)\" d=\"M 0 0 M116.624 456.584 L124.263 456.584 L124.263 430.219 L115.953 431.885 L115.953 427.626 L124.217 425.959 L128.893 425.959 L128.893 456.584 L136.531 456.584 L136.531 460.519 L116.624 460.519 L116.624 456.584 Z\" fill=\"#000000\" fill-rule=\"evenodd\" fill-opacity=\"1\" /><path clip-path=\"url(#clip150)\" d=\"M 0 0 M151.601 429.038 Q147.99 429.038 146.161 432.603 Q144.355 436.145 144.355 443.274 Q144.355 450.381 146.161 453.945 Q147.99 457.487 151.601 457.487 Q155.235 457.487 157.041 453.945 Q158.869 450.381 158.869 443.274 Q158.869 436.145 157.041 432.603 Q155.235 429.038 151.601 429.038 M151.601 425.334 Q157.411 425.334 160.467 429.941 Q163.545 434.524 163.545 443.274 Q163.545 452.001 160.467 456.607 Q157.411 461.191 151.601 461.191 Q145.791 461.191 142.712 456.607 Q139.656 452.001 139.656 443.274 Q139.656 434.524 142.712 429.941 Q145.791 425.334 151.601 425.334 Z\" fill=\"#000000\" fill-rule=\"evenodd\" fill-opacity=\"1\" /><path clip-path=\"url(#clip150)\" d=\"M 0 0 M163.545 419.436 L187.657 419.436 L187.657 422.633 L163.545 422.633 L163.545 419.436 Z\" fill=\"#000000\" fill-rule=\"evenodd\" fill-opacity=\"1\" /><path clip-path=\"url(#clip150)\" d=\"M 0 0 M195.048 429.912 L208.308 429.912 L208.308 433.109 L190.478 433.109 L190.478 429.912 Q192.641 427.674 196.365 423.912 Q200.107 420.132 201.067 419.041 Q202.891 416.991 203.606 415.58 Q204.339 414.151 204.339 412.778 Q204.339 410.54 202.759 409.129 Q201.198 407.719 198.678 407.719 Q196.891 407.719 194.898 408.339 Q192.923 408.96 190.666 410.22 L190.666 406.383 Q192.961 405.462 194.954 404.991 Q196.948 404.521 198.603 404.521 Q202.966 404.521 205.562 406.703 Q208.157 408.885 208.157 412.533 Q208.157 414.264 207.499 415.825 Q206.859 417.367 205.148 419.473 Q204.678 420.019 202.158 422.633 Q199.637 425.229 195.048 429.912 Z\" fill=\"#000000\" fill-rule=\"evenodd\" fill-opacity=\"1\" /><path clip-path=\"url(#clip150)\" d=\"M 0 0 M141.977 188.144 L149.616 188.144 L149.616 161.778 L141.306 163.445 L141.306 159.186 L149.57 157.519 L154.245 157.519 L154.245 188.144 L161.884 188.144 L161.884 192.079 L141.977 192.079 L141.977 188.144 Z\" fill=\"#000000\" fill-rule=\"evenodd\" fill-opacity=\"1\" /><path clip-path=\"url(#clip150)\" d=\"M 0 0 M176.954 160.598 Q173.343 160.598 171.514 164.163 Q169.708 167.704 169.708 174.834 Q169.708 181.94 171.514 185.505 Q173.343 189.047 176.954 189.047 Q180.588 189.047 182.393 185.505 Q184.222 181.94 184.222 174.834 Q184.222 167.704 182.393 164.163 Q180.588 160.598 176.954 160.598 M176.954 156.894 Q182.764 156.894 185.819 161.5 Q188.898 166.084 188.898 174.834 Q188.898 183.561 185.819 188.167 Q182.764 192.75 176.954 192.75 Q171.144 192.75 168.065 188.167 Q165.009 183.561 165.009 174.834 Q165.009 166.084 168.065 161.5 Q171.144 156.894 176.954 156.894 Z\" fill=\"#000000\" fill-rule=\"evenodd\" fill-opacity=\"1\" /><path clip-path=\"url(#clip150)\" d=\"M 0 0 M198.603 139.09 Q195.669 139.09 194.183 141.986 Q192.716 144.864 192.716 150.657 Q192.716 156.431 194.183 159.327 Q195.669 162.205 198.603 162.205 Q201.556 162.205 203.023 159.327 Q204.509 156.431 204.509 150.657 Q204.509 144.864 203.023 141.986 Q201.556 139.09 198.603 139.09 M198.603 136.081 Q203.324 136.081 205.806 139.824 Q208.308 143.547 208.308 150.657 Q208.308 157.747 205.806 161.49 Q203.324 165.214 198.603 165.214 Q193.882 165.214 191.381 161.49 Q188.898 157.747 188.898 150.657 Q188.898 143.547 191.381 139.824 Q193.882 136.081 198.603 136.081 Z\" fill=\"#000000\" fill-rule=\"evenodd\" fill-opacity=\"1\" /><path clip-path=\"url(#clip150)\" d=\"M 0 0 M20.1444 975.677 L26.9239 975.677 Q23.9002 978.923 22.4043 982.615 Q20.9083 986.275 20.9083 990.413 Q20.9083 998.561 25.9054 1002.89 Q30.8707 1007.22 40.2919 1007.22 Q49.6813 1007.22 54.6784 1002.89 Q59.6436 998.561 59.6436 990.413 Q59.6436 986.275 58.1477 982.615 Q56.6518 978.923 53.6281 975.677 L60.3439 975.677 Q62.6355 979.05 63.7814 982.838 Q64.9272 986.594 64.9272 990.795 Q64.9272 1001.58 58.3387 1007.79 Q51.7183 1014 40.2919 1014 Q28.8336 1014 22.2451 1007.79 Q15.6248 1001.58 15.6248 990.795 Q15.6248 986.53 16.7706 982.774 Q17.8846 978.987 20.1444 975.677 Z\" fill=\"#000000\" fill-rule=\"evenodd\" fill-opacity=\"1\" /><path clip-path=\"url(#clip150)\" d=\"M 0 0 M32.4621 955.72 Q32.4621 960.431 36.1542 963.168 Q39.8145 965.905 46.212 965.905 Q52.6095 965.905 56.3017 963.2 Q59.9619 960.462 59.9619 955.72 Q59.9619 951.041 56.2698 948.304 Q52.5777 945.567 46.212 945.567 Q39.8781 945.567 36.186 948.304 Q32.4621 951.041 32.4621 955.72 M27.4968 955.72 Q27.4968 948.081 32.4621 943.721 Q37.4273 939.36 46.212 939.36 Q54.9649 939.36 59.9619 943.721 Q64.9272 948.081 64.9272 955.72 Q64.9272 963.391 59.9619 967.751 Q54.9649 972.08 46.212 972.08 Q37.4273 972.08 32.4621 967.751 Q27.4968 963.391 27.4968 955.72 Z\" fill=\"#000000\" fill-rule=\"evenodd\" fill-opacity=\"1\" /><path clip-path=\"url(#clip150)\" d=\"M 0 0 M42.4881 903.585 L64.0042 903.585 L64.0042 909.441 L42.679 909.441 Q37.6183 909.441 35.1038 911.415 Q32.5894 913.388 32.5894 917.335 Q32.5894 922.077 35.6131 924.815 Q38.6368 927.552 43.8567 927.552 L64.0042 927.552 L64.0042 933.44 L28.3562 933.44 L28.3562 927.552 L33.8944 927.552 Q30.6797 925.451 29.0883 922.618 Q27.4968 919.754 27.4968 916.03 Q27.4968 909.887 31.3163 906.736 Q35.1038 903.585 42.4881 903.585 Z\" fill=\"#000000\" fill-rule=\"evenodd\" fill-opacity=\"1\" /><path clip-path=\"url(#clip150)\" d=\"M 0 0 M29.4065 874.716 L34.9447 874.716 Q33.6716 877.199 33.035 879.873 Q32.3984 882.546 32.3984 885.411 Q32.3984 889.771 33.7352 891.967 Q35.072 894.132 37.7456 894.132 Q39.7826 894.132 40.9603 892.572 Q42.1061 891.013 43.1565 886.302 L43.6021 884.297 Q44.9389 878.058 47.3897 875.448 Q49.8086 872.807 54.1691 872.807 Q59.1344 872.807 62.0308 876.753 Q64.9272 880.668 64.9272 887.543 Q64.9272 890.408 64.3543 893.527 Q63.8132 896.614 62.6992 900.052 L56.6518 900.052 Q58.3387 896.805 59.198 893.654 Q60.0256 890.503 60.0256 887.416 Q60.0256 883.278 58.6251 881.05 Q57.1929 878.822 54.6147 878.822 Q52.2276 878.822 50.9545 880.446 Q49.6813 882.037 48.5037 887.48 L48.0262 889.517 Q46.8804 894.959 44.5251 897.378 Q42.138 899.797 38.0002 899.797 Q32.9713 899.797 30.2341 896.233 Q27.4968 892.668 27.4968 886.111 Q27.4968 882.865 27.9743 880 Q28.4517 877.135 29.4065 874.716 Z\" fill=\"#000000\" fill-rule=\"evenodd\" fill-opacity=\"1\" /><path clip-path=\"url(#clip150)\" d=\"M 0 0 M18.2347 860.871 L28.3562 860.871 L28.3562 848.808 L32.9077 848.808 L32.9077 860.871 L52.2594 860.871 Q56.6199 860.871 57.8613 859.693 Q59.1026 858.484 59.1026 854.824 L59.1026 848.808 L64.0042 848.808 L64.0042 854.824 Q64.0042 861.603 61.4897 864.181 Q58.9434 866.759 52.2594 866.759 L32.9077 866.759 L32.9077 871.056 L28.3562 871.056 L28.3562 866.759 L18.2347 866.759 L18.2347 860.871 Z\" fill=\"#000000\" fill-rule=\"evenodd\" fill-opacity=\"1\" /><path clip-path=\"url(#clip150)\" d=\"M 0 0 M33.8307 822.008 Q33.2578 822.995 33.0032 824.173 Q32.7167 825.319 32.7167 826.719 Q32.7167 831.684 35.9632 834.358 Q39.1779 837 45.2253 837 L64.0042 837 L64.0042 842.888 L28.3562 842.888 L28.3562 837 L33.8944 837 Q30.6479 835.154 29.0883 832.194 Q27.4968 829.233 27.4968 825 Q27.4968 824.396 27.5923 823.663 Q27.656 822.931 27.8151 822.04 L33.8307 822.008 Z\" fill=\"#000000\" fill-rule=\"evenodd\" fill-opacity=\"1\" /><path clip-path=\"url(#clip150)\" d=\"M 0 0 M46.0847 799.665 Q46.0847 806.763 47.7079 809.5 Q49.3312 812.237 53.2461 812.237 Q56.3653 812.237 58.2114 810.2 Q60.0256 808.131 60.0256 804.598 Q60.0256 799.728 56.5881 796.8 Q53.1188 793.84 47.3897 793.84 L46.0847 793.84 L46.0847 799.665 M43.6657 787.984 L64.0042 787.984 L64.0042 793.84 L58.5933 793.84 Q61.8398 795.845 63.3994 798.837 Q64.9272 801.829 64.9272 806.158 Q64.9272 811.632 61.8716 814.879 Q58.7843 818.093 53.6281 818.093 Q47.6125 818.093 44.5569 814.083 Q41.5014 810.041 41.5014 802.052 L41.5014 793.84 L40.9285 793.84 Q36.8862 793.84 34.6901 796.514 Q32.4621 799.155 32.4621 803.962 Q32.4621 807.017 33.1941 809.914 Q33.9262 812.81 35.3903 815.484 L29.9795 815.484 Q28.7381 812.269 28.1334 809.245 Q27.4968 806.221 27.4968 803.357 Q27.4968 795.623 31.5072 791.803 Q35.5176 787.984 43.6657 787.984 Z\" fill=\"#000000\" fill-rule=\"evenodd\" fill-opacity=\"1\" /><path clip-path=\"url(#clip150)\" d=\"M 0 0 M28.3562 781.841 L28.3562 775.984 L64.0042 775.984 L64.0042 781.841 L28.3562 781.841 M14.479 781.841 L14.479 775.984 L21.895 775.984 L21.895 781.841 L14.479 781.841 Z\" fill=\"#000000\" fill-rule=\"evenodd\" fill-opacity=\"1\" /><path clip-path=\"url(#clip150)\" d=\"M 0 0 M42.4881 740.209 L64.0042 740.209 L64.0042 746.065 L42.679 746.065 Q37.6183 746.065 35.1038 748.039 Q32.5894 750.012 32.5894 753.959 Q32.5894 758.701 35.6131 761.439 Q38.6368 764.176 43.8567 764.176 L64.0042 764.176 L64.0042 770.064 L28.3562 770.064 L28.3562 764.176 L33.8944 764.176 Q30.6797 762.075 29.0883 759.243 Q27.4968 756.378 27.4968 752.654 Q27.4968 746.511 31.3163 743.36 Q35.1038 740.209 42.4881 740.209 Z\" fill=\"#000000\" fill-rule=\"evenodd\" fill-opacity=\"1\" /><path clip-path=\"url(#clip150)\" d=\"M 0 0 M18.2347 728.273 L28.3562 728.273 L28.3562 716.21 L32.9077 716.21 L32.9077 728.273 L52.2594 728.273 Q56.6199 728.273 57.8613 727.096 Q59.1026 725.886 59.1026 722.226 L59.1026 716.21 L64.0042 716.21 L64.0042 722.226 Q64.0042 729.005 61.4897 731.584 Q58.9434 734.162 52.2594 734.162 L32.9077 734.162 L32.9077 738.458 L28.3562 738.458 L28.3562 734.162 L18.2347 734.162 L18.2347 728.273 Z\" fill=\"#000000\" fill-rule=\"evenodd\" fill-opacity=\"1\" /><path clip-path=\"url(#clip150)\" d=\"M 0 0 M28.3562 693.548 L28.3562 687.342 L58.275 676.202 L28.3562 665.062 L28.3562 658.855 L64.0042 672.223 L64.0042 680.18 L28.3562 693.548 Z\" fill=\"#000000\" fill-rule=\"evenodd\" fill-opacity=\"1\" /><path clip-path=\"url(#clip150)\" d=\"M 0 0 M28.3562 652.712 L28.3562 646.856 L64.0042 646.856 L64.0042 652.712 L28.3562 652.712 M14.479 652.712 L14.479 646.856 L21.895 646.856 L21.895 652.712 L14.479 652.712 Z\" fill=\"#000000\" fill-rule=\"evenodd\" fill-opacity=\"1\" /><path clip-path=\"url(#clip150)\" d=\"M 0 0 M32.4621 626.899 Q32.4621 631.61 36.1542 634.347 Q39.8145 637.085 46.212 637.085 Q52.6095 637.085 56.3017 634.379 Q59.9619 631.642 59.9619 626.899 Q59.9619 622.221 56.2698 619.483 Q52.5777 616.746 46.212 616.746 Q39.8781 616.746 36.186 619.483 Q32.4621 622.221 32.4621 626.899 M27.4968 626.899 Q27.4968 619.261 32.4621 614.9 Q37.4273 610.54 46.212 610.54 Q54.9649 610.54 59.9619 614.9 Q64.9272 619.261 64.9272 626.899 Q64.9272 634.57 59.9619 638.931 Q54.9649 643.259 46.212 643.259 Q37.4273 643.259 32.4621 638.931 Q27.4968 634.57 27.4968 626.899 Z\" fill=\"#000000\" fill-rule=\"evenodd\" fill-opacity=\"1\" /><path clip-path=\"url(#clip150)\" d=\"M 0 0 M14.479 604.397 L14.479 598.54 L64.0042 598.54 L64.0042 604.397 L14.479 604.397 Z\" fill=\"#000000\" fill-rule=\"evenodd\" fill-opacity=\"1\" /><path clip-path=\"url(#clip150)\" d=\"M 0 0 M46.0847 576.197 Q46.0847 583.294 47.7079 586.032 Q49.3312 588.769 53.2461 588.769 Q56.3653 588.769 58.2114 586.732 Q60.0256 584.663 60.0256 581.13 Q60.0256 576.26 56.5881 573.332 Q53.1188 570.372 47.3897 570.372 L46.0847 570.372 L46.0847 576.197 M43.6657 564.516 L64.0042 564.516 L64.0042 570.372 L58.5933 570.372 Q61.8398 572.377 63.3994 575.369 Q64.9272 578.361 64.9272 582.69 Q64.9272 588.164 61.8716 591.411 Q58.7843 594.625 53.6281 594.625 Q47.6125 594.625 44.5569 590.615 Q41.5014 586.573 41.5014 578.584 L41.5014 570.372 L40.9285 570.372 Q36.8862 570.372 34.6901 573.046 Q32.4621 575.687 32.4621 580.493 Q32.4621 583.549 33.1941 586.445 Q33.9262 589.342 35.3903 592.015 L29.9795 592.015 Q28.7381 588.801 28.1334 585.777 Q27.4968 582.753 27.4968 579.889 Q27.4968 572.154 31.5072 568.335 Q35.5176 564.516 43.6657 564.516 Z\" fill=\"#000000\" fill-rule=\"evenodd\" fill-opacity=\"1\" /><path clip-path=\"url(#clip150)\" d=\"M 0 0 M18.2347 552.58 L28.3562 552.58 L28.3562 540.517 L32.9077 540.517 L32.9077 552.58 L52.2594 552.58 Q56.6199 552.58 57.8613 551.402 Q59.1026 550.193 59.1026 546.532 L59.1026 540.517 L64.0042 540.517 L64.0042 546.532 Q64.0042 553.312 61.4897 555.89 Q58.9434 558.468 52.2594 558.468 L32.9077 558.468 L32.9077 562.765 L28.3562 562.765 L28.3562 558.468 L18.2347 558.468 L18.2347 552.58 Z\" fill=\"#000000\" fill-rule=\"evenodd\" fill-opacity=\"1\" /><path clip-path=\"url(#clip150)\" d=\"M 0 0 M28.3562 534.374 L28.3562 528.517 L64.0042 528.517 L64.0042 534.374 L28.3562 534.374 M14.479 534.374 L14.479 528.517 L21.895 528.517 L21.895 534.374 L14.479 534.374 Z\" fill=\"#000000\" fill-rule=\"evenodd\" fill-opacity=\"1\" /><path clip-path=\"url(#clip150)\" d=\"M 0 0 M32.4621 508.561 Q32.4621 513.272 36.1542 516.009 Q39.8145 518.746 46.212 518.746 Q52.6095 518.746 56.3017 516.041 Q59.9619 513.303 59.9619 508.561 Q59.9619 503.882 56.2698 501.145 Q52.5777 498.408 46.212 498.408 Q39.8781 498.408 36.186 501.145 Q32.4621 503.882 32.4621 508.561 M27.4968 508.561 Q27.4968 500.922 32.4621 496.562 Q37.4273 492.201 46.212 492.201 Q54.9649 492.201 59.9619 496.562 Q64.9272 500.922 64.9272 508.561 Q64.9272 516.232 59.9619 520.592 Q54.9649 524.921 46.212 524.921 Q37.4273 524.921 32.4621 520.592 Q27.4968 516.232 27.4968 508.561 Z\" fill=\"#000000\" fill-rule=\"evenodd\" fill-opacity=\"1\" /><path clip-path=\"url(#clip150)\" d=\"M 0 0 M42.4881 456.426 L64.0042 456.426 L64.0042 462.282 L42.679 462.282 Q37.6183 462.282 35.1038 464.256 Q32.5894 466.229 32.5894 470.176 Q32.5894 474.918 35.6131 477.655 Q38.6368 480.393 43.8567 480.393 L64.0042 480.393 L64.0042 486.281 L28.3562 486.281 L28.3562 480.393 L33.8944 480.393 Q30.6797 478.292 29.0883 475.459 Q27.4968 472.595 27.4968 468.871 Q27.4968 462.728 31.3163 459.577 Q35.1038 456.426 42.4881 456.426 Z\" fill=\"#000000\" fill-rule=\"evenodd\" fill-opacity=\"1\" /><polyline clip-path=\"url(#clip152)\" style=\"stroke:#009af9; stroke-width:4; stroke-opacity:1; fill:none\" points=\"\n",
       "  303.981,105.753 329.482,98.2195 354.983,86.1857 380.485,141.939 405.986,195.713 431.487,277.305 456.989,312.229 482.49,361.588 507.991,373.459 533.493,417.282 \n",
       "  558.994,437.43 584.495,471.54 609.996,494.696 635.498,522.461 660.999,545.632 686.5,569.891 712.002,592.169 737.503,614.436 763.004,635.748 788.506,656.79 \n",
       "  814.007,677.299 839.508,697.528 865.01,717.419 890.511,737.072 916.012,756.486 941.513,775.701 967.015,794.722 992.516,813.561 1018.02,832.211 1043.52,850.66 \n",
       "  1069.02,868.882 1094.52,886.839 1120.02,904.478 1145.52,921.73 1171.03,938.517 1196.53,954.751 1222.03,970.347 1247.53,985.233 1273.03,999.363 1298.53,1012.72 \n",
       "  1324.03,1025.35 1349.53,1037.29 1375.04,1048.63 1400.54,1059.47 1426.04,1069.89 1451.54,1079.99 1477.04,1089.85 1502.54,1099.51 1528.04,1109.02 1553.54,1118.44 \n",
       "  1579.05,1127.77 1604.55,1137.05 1630.05,1146.29 1655.55,1155.5 1681.05,1164.68 1706.55,1173.86 1732.05,1183.02 1757.56,1192.18 1783.06,1201.33 1808.56,1210.48 \n",
       "  1834.06,1219.63 1859.56,1228.77 1885.06,1237.92 1910.56,1247.06 1936.06,1256.21 1961.57,1265.35 1987.07,1274.49 2012.57,1283.64 2038.07,1292.78 2063.57,1301.93 \n",
       "  2089.07,1311.07 2114.57,1320.22 2140.07,1329.36 2165.58,1338.51 2191.08,1347.65 2216.58,1356.8 2242.08,1365.95 2267.58,1375.09 2293.08,1384.24 \n",
       "  \"/>\n",
       "<polyline clip-path=\"url(#clip152)\" style=\"stroke:#e26f46; stroke-width:4; stroke-opacity:1; fill:none\" points=\"\n",
       "  303.981,105.753 329.482,98.2195 354.983,225.326 380.485,229.312 405.986,230.572 431.487,239.004 456.989,316.042 482.49,362.708 507.991,430.981 533.493,851.352 \n",
       "  558.994,1217.09 \n",
       "  \"/>\n",
       "<path clip-path=\"url(#clip150)\" d=\"\n",
       "M1743.57 274.549 L2282.47 274.549 L2282.47 93.1086 L1743.57 93.1086  Z\n",
       "  \" fill=\"#ffffff\" fill-rule=\"evenodd\" fill-opacity=\"1\"/>\n",
       "<polyline clip-path=\"url(#clip150)\" style=\"stroke:#000000; stroke-width:4; stroke-opacity:1; fill:none\" points=\"\n",
       "  1743.57,274.549 2282.47,274.549 2282.47,93.1086 1743.57,93.1086 1743.57,274.549 \n",
       "  \"/>\n",
       "<polyline clip-path=\"url(#clip150)\" style=\"stroke:#009af9; stroke-width:4; stroke-opacity:1; fill:none\" points=\"\n",
       "  1767,153.589 1907.56,153.589 \n",
       "  \"/>\n",
       "<path clip-path=\"url(#clip150)\" d=\"M 0 0 M1956.55 165.938 L1956.55 156.656 L1948.91 156.656 L1948.91 152.813 L1961.18 152.813 L1961.18 167.651 Q1958.47 169.572 1955.2 170.568 Q1951.94 171.54 1948.24 171.54 Q1940.14 171.54 1935.55 166.818 Q1930.99 162.072 1930.99 153.623 Q1930.99 145.151 1935.55 140.429 Q1940.14 135.684 1948.24 135.684 Q1951.62 135.684 1954.65 136.517 Q1957.7 137.35 1960.27 138.971 L1960.27 143.947 Q1957.68 141.748 1954.76 140.637 Q1951.85 139.526 1948.63 139.526 Q1942.29 139.526 1939.09 143.068 Q1935.92 146.609 1935.92 153.623 Q1935.92 160.614 1939.09 164.156 Q1942.29 167.697 1948.63 167.697 Q1951.11 167.697 1953.05 167.281 Q1955 166.841 1956.55 165.938 Z\" fill=\"#000000\" fill-rule=\"evenodd\" fill-opacity=\"1\" /><path clip-path=\"url(#clip150)\" d=\"M 0 0 M1977.43 157.836 Q1972.26 157.836 1970.27 159.017 Q1968.28 160.197 1968.28 163.045 Q1968.28 165.313 1969.76 166.656 Q1971.27 167.975 1973.84 167.975 Q1977.38 167.975 1979.51 165.475 Q1981.66 162.952 1981.66 158.785 L1981.66 157.836 L1977.43 157.836 M1985.92 156.077 L1985.92 170.869 L1981.66 170.869 L1981.66 166.933 Q1980.2 169.295 1978.03 170.429 Q1975.85 171.54 1972.7 171.54 Q1968.72 171.54 1966.36 169.318 Q1964.02 167.072 1964.02 163.322 Q1964.02 158.947 1966.94 156.725 Q1969.88 154.503 1975.69 154.503 L1981.66 154.503 L1981.66 154.086 Q1981.66 151.147 1979.72 149.549 Q1977.8 147.929 1974.3 147.929 Q1972.08 147.929 1969.97 148.461 Q1967.87 148.994 1965.92 150.059 L1965.92 146.123 Q1968.26 145.221 1970.46 144.781 Q1972.66 144.318 1974.74 144.318 Q1980.37 144.318 1983.14 147.234 Q1985.92 150.151 1985.92 156.077 Z\" fill=\"#000000\" fill-rule=\"evenodd\" fill-opacity=\"1\" /><path clip-path=\"url(#clip150)\" d=\"M 0 0 M1989.95 160.637 L1989.95 144.943 L1994.21 144.943 L1994.21 160.475 Q1994.21 164.156 1995.64 166.008 Q1997.08 167.836 1999.95 167.836 Q2003.4 167.836 2005.39 165.637 Q2007.4 163.438 2007.4 159.642 L2007.4 144.943 L2011.66 144.943 L2011.66 170.869 L2007.4 170.869 L2007.4 166.887 Q2005.85 169.248 2003.79 170.406 Q2001.76 171.54 1999.05 171.54 Q1994.58 171.54 1992.26 168.762 Q1989.95 165.984 1989.95 160.637 M2000.67 144.318 L2000.67 144.318 Z\" fill=\"#000000\" fill-rule=\"evenodd\" fill-opacity=\"1\" /><path clip-path=\"url(#clip150)\" d=\"M 0 0 M2032.66 145.707 L2032.66 149.734 Q2030.85 148.809 2028.91 148.346 Q2026.96 147.883 2024.88 147.883 Q2021.71 147.883 2020.11 148.855 Q2018.54 149.827 2018.54 151.771 Q2018.54 153.253 2019.67 154.109 Q2020.81 154.943 2024.23 155.707 L2025.69 156.031 Q2030.23 157.003 2032.13 158.785 Q2034.05 160.545 2034.05 163.716 Q2034.05 167.327 2031.18 169.433 Q2028.33 171.54 2023.33 171.54 Q2021.25 171.54 2018.98 171.123 Q2016.73 170.73 2014.23 169.92 L2014.23 165.521 Q2016.59 166.748 2018.88 167.373 Q2021.18 167.975 2023.42 167.975 Q2026.43 167.975 2028.05 166.957 Q2029.67 165.915 2029.67 164.04 Q2029.67 162.304 2028.49 161.378 Q2027.33 160.452 2023.38 159.596 L2021.89 159.248 Q2017.94 158.415 2016.18 156.702 Q2014.42 154.966 2014.42 151.957 Q2014.42 148.299 2017.01 146.309 Q2019.6 144.318 2024.37 144.318 Q2026.73 144.318 2028.82 144.665 Q2030.9 145.012 2032.66 145.707 Z\" fill=\"#000000\" fill-rule=\"evenodd\" fill-opacity=\"1\" /><path clip-path=\"url(#clip150)\" d=\"M 0 0 M2055.04 145.707 L2055.04 149.734 Q2053.24 148.809 2051.29 148.346 Q2049.35 147.883 2047.26 147.883 Q2044.09 147.883 2042.5 148.855 Q2040.92 149.827 2040.92 151.771 Q2040.92 153.253 2042.06 154.109 Q2043.19 154.943 2046.62 155.707 L2048.07 156.031 Q2052.61 157.003 2054.51 158.785 Q2056.43 160.545 2056.43 163.716 Q2056.43 167.327 2053.56 169.433 Q2050.71 171.54 2045.71 171.54 Q2043.63 171.54 2041.36 171.123 Q2039.12 170.73 2036.62 169.92 L2036.62 165.521 Q2038.98 166.748 2041.27 167.373 Q2043.56 167.975 2045.81 167.975 Q2048.82 167.975 2050.44 166.957 Q2052.06 165.915 2052.06 164.04 Q2052.06 162.304 2050.88 161.378 Q2049.72 160.452 2045.76 159.596 L2044.28 159.248 Q2040.32 158.415 2038.56 156.702 Q2036.8 154.966 2036.8 151.957 Q2036.8 148.299 2039.39 146.309 Q2041.99 144.318 2046.76 144.318 Q2049.12 144.318 2051.2 144.665 Q2053.28 145.012 2055.04 145.707 Z\" fill=\"#000000\" fill-rule=\"evenodd\" fill-opacity=\"1\" /><path clip-path=\"url(#clip150)\" d=\"M 0 0 M2076.15 136.309 L2082.45 136.309 L2097.77 165.221 L2097.77 136.309 L2102.31 136.309 L2102.31 170.869 L2096.01 170.869 L2080.69 141.957 L2080.69 170.869 L2076.15 170.869 L2076.15 136.309 Z\" fill=\"#000000\" fill-rule=\"evenodd\" fill-opacity=\"1\" /><path clip-path=\"url(#clip150)\" d=\"M 0 0 M2128.95 156.841 L2128.95 158.924 L2109.37 158.924 Q2109.65 163.322 2112.01 165.637 Q2114.39 167.929 2118.63 167.929 Q2121.08 167.929 2123.38 167.327 Q2125.69 166.725 2127.96 165.521 L2127.96 169.549 Q2125.67 170.521 2123.26 171.031 Q2120.85 171.54 2118.38 171.54 Q2112.17 171.54 2108.54 167.929 Q2104.93 164.318 2104.93 158.16 Q2104.93 151.795 2108.35 148.068 Q2111.8 144.318 2117.63 144.318 Q2122.87 144.318 2125.9 147.697 Q2128.95 151.054 2128.95 156.841 M2124.69 155.591 Q2124.65 152.096 2122.73 150.012 Q2120.83 147.929 2117.68 147.929 Q2114.12 147.929 2111.96 149.943 Q2109.83 151.957 2109.51 155.614 L2124.69 155.591 Z\" fill=\"#000000\" fill-rule=\"evenodd\" fill-opacity=\"1\" /><path clip-path=\"url(#clip150)\" d=\"M 0 0 M2130.94 144.943 L2135.2 144.943 L2140.53 165.174 L2145.83 144.943 L2150.85 144.943 L2156.18 165.174 L2161.48 144.943 L2165.74 144.943 L2158.95 170.869 L2153.93 170.869 L2148.35 149.619 L2142.75 170.869 L2137.73 170.869 L2130.94 144.943 Z\" fill=\"#000000\" fill-rule=\"evenodd\" fill-opacity=\"1\" /><path clip-path=\"url(#clip150)\" d=\"M 0 0 M2174.42 137.582 L2174.42 144.943 L2183.19 144.943 L2183.19 148.253 L2174.42 148.253 L2174.42 162.327 Q2174.42 165.498 2175.27 166.401 Q2176.15 167.304 2178.81 167.304 L2183.19 167.304 L2183.19 170.869 L2178.81 170.869 Q2173.88 170.869 2172.01 169.04 Q2170.13 167.188 2170.13 162.327 L2170.13 148.253 L2167.01 148.253 L2167.01 144.943 L2170.13 144.943 L2170.13 137.582 L2174.42 137.582 Z\" fill=\"#000000\" fill-rule=\"evenodd\" fill-opacity=\"1\" /><path clip-path=\"url(#clip150)\" d=\"M 0 0 M2197.7 147.929 Q2194.28 147.929 2192.29 150.614 Q2190.3 153.276 2190.3 157.929 Q2190.3 162.582 2192.26 165.267 Q2194.25 167.929 2197.7 167.929 Q2201.11 167.929 2203.1 165.244 Q2205.09 162.558 2205.09 157.929 Q2205.09 153.322 2203.1 150.637 Q2201.11 147.929 2197.7 147.929 M2197.7 144.318 Q2203.26 144.318 2206.43 147.929 Q2209.6 151.54 2209.6 157.929 Q2209.6 164.295 2206.43 167.929 Q2203.26 171.54 2197.7 171.54 Q2192.12 171.54 2188.95 167.929 Q2185.81 164.295 2185.81 157.929 Q2185.81 151.54 2188.95 147.929 Q2192.12 144.318 2197.7 144.318 Z\" fill=\"#000000\" fill-rule=\"evenodd\" fill-opacity=\"1\" /><path clip-path=\"url(#clip150)\" d=\"M 0 0 M2235.62 155.221 L2235.62 170.869 L2231.36 170.869 L2231.36 155.359 Q2231.36 151.679 2229.93 149.85 Q2228.49 148.022 2225.62 148.022 Q2222.17 148.022 2220.18 150.221 Q2218.19 152.42 2218.19 156.216 L2218.19 170.869 L2213.91 170.869 L2213.91 144.943 L2218.19 144.943 L2218.19 148.971 Q2219.72 146.633 2221.78 145.475 Q2223.86 144.318 2226.57 144.318 Q2231.04 144.318 2233.33 147.096 Q2235.62 149.85 2235.62 155.221 Z\" fill=\"#000000\" fill-rule=\"evenodd\" fill-opacity=\"1\" /><polyline clip-path=\"url(#clip150)\" style=\"stroke:#e26f46; stroke-width:4; stroke-opacity:1; fill:none\" points=\"\n",
       "  1767,214.069 1907.56,214.069 \n",
       "  \"/>\n",
       "<path clip-path=\"url(#clip150)\" d=\"M 0 0 M1930.99 196.789 L1950.85 196.789 L1950.85 200.724 L1935.67 200.724 L1935.67 210.909 L1949.37 210.909 L1949.37 214.844 L1935.67 214.844 L1935.67 231.349 L1930.99 231.349 L1930.99 196.789 Z\" fill=\"#000000\" fill-rule=\"evenodd\" fill-opacity=\"1\" /><path clip-path=\"url(#clip150)\" d=\"M 0 0 M1952.29 221.117 L1952.29 205.423 L1956.55 205.423 L1956.55 220.955 Q1956.55 224.636 1957.98 226.488 Q1959.42 228.316 1962.29 228.316 Q1965.74 228.316 1967.73 226.117 Q1969.74 223.918 1969.74 220.122 L1969.74 205.423 L1974 205.423 L1974 231.349 L1969.74 231.349 L1969.74 227.367 Q1968.19 229.728 1966.13 230.886 Q1964.09 232.02 1961.39 232.02 Q1956.92 232.02 1954.6 229.242 Q1952.29 226.464 1952.29 221.117 M1963.01 204.798 L1963.01 204.798 Z\" fill=\"#000000\" fill-rule=\"evenodd\" fill-opacity=\"1\" /><path clip-path=\"url(#clip150)\" d=\"M 0 0 M1978.47 195.33 L1982.73 195.33 L1982.73 231.349 L1978.47 231.349 L1978.47 195.33 Z\" fill=\"#000000\" fill-rule=\"evenodd\" fill-opacity=\"1\" /><path clip-path=\"url(#clip150)\" d=\"M 0 0 M1987.2 195.33 L1991.45 195.33 L1991.45 231.349 L1987.2 231.349 L1987.2 195.33 Z\" fill=\"#000000\" fill-rule=\"evenodd\" fill-opacity=\"1\" /><path clip-path=\"url(#clip150)\" d=\"M 0 0 M2011.18 196.789 L2017.47 196.789 L2032.8 225.701 L2032.8 196.789 L2037.33 196.789 L2037.33 231.349 L2031.04 231.349 L2015.71 202.437 L2015.71 231.349 L2011.18 231.349 L2011.18 196.789 Z\" fill=\"#000000\" fill-rule=\"evenodd\" fill-opacity=\"1\" /><path clip-path=\"url(#clip150)\" d=\"M 0 0 M2063.98 217.321 L2063.98 219.404 L2044.39 219.404 Q2044.67 223.802 2047.03 226.117 Q2049.42 228.409 2053.65 228.409 Q2056.11 228.409 2058.4 227.807 Q2060.71 227.205 2062.98 226.001 L2062.98 230.029 Q2060.69 231.001 2058.28 231.511 Q2055.88 232.02 2053.4 232.02 Q2047.19 232.02 2043.56 228.409 Q2039.95 224.798 2039.95 218.64 Q2039.95 212.275 2043.38 208.548 Q2046.82 204.798 2052.66 204.798 Q2057.89 204.798 2060.92 208.177 Q2063.98 211.534 2063.98 217.321 M2059.72 216.071 Q2059.67 212.576 2057.75 210.492 Q2055.85 208.409 2052.7 208.409 Q2049.14 208.409 2046.99 210.423 Q2044.86 212.437 2044.53 216.094 L2059.72 216.071 Z\" fill=\"#000000\" fill-rule=\"evenodd\" fill-opacity=\"1\" /><path clip-path=\"url(#clip150)\" d=\"M 0 0 M2065.97 205.423 L2070.23 205.423 L2075.55 225.654 L2080.85 205.423 L2085.88 205.423 L2091.2 225.654 L2096.5 205.423 L2100.76 205.423 L2093.98 231.349 L2088.95 231.349 L2083.38 210.099 L2077.77 231.349 L2072.75 231.349 L2065.97 205.423 Z\" fill=\"#000000\" fill-rule=\"evenodd\" fill-opacity=\"1\" /><path clip-path=\"url(#clip150)\" d=\"M 0 0 M2109.44 198.062 L2109.44 205.423 L2118.21 205.423 L2118.21 208.733 L2109.44 208.733 L2109.44 222.807 Q2109.44 225.978 2110.3 226.881 Q2111.18 227.784 2113.84 227.784 L2118.21 227.784 L2118.21 231.349 L2113.84 231.349 Q2108.91 231.349 2107.03 229.52 Q2105.16 227.668 2105.16 222.807 L2105.16 208.733 L2102.03 208.733 L2102.03 205.423 L2105.16 205.423 L2105.16 198.062 L2109.44 198.062 Z\" fill=\"#000000\" fill-rule=\"evenodd\" fill-opacity=\"1\" /><path clip-path=\"url(#clip150)\" d=\"M 0 0 M2132.73 208.409 Q2129.3 208.409 2127.31 211.094 Q2125.32 213.756 2125.32 218.409 Q2125.32 223.062 2127.29 225.747 Q2129.28 228.409 2132.73 228.409 Q2136.13 228.409 2138.12 225.724 Q2140.11 223.038 2140.11 218.409 Q2140.11 213.802 2138.12 211.117 Q2136.13 208.409 2132.73 208.409 M2132.73 204.798 Q2138.28 204.798 2141.45 208.409 Q2144.63 212.02 2144.63 218.409 Q2144.63 224.775 2141.45 228.409 Q2138.28 232.02 2132.73 232.02 Q2127.15 232.02 2123.98 228.409 Q2120.83 224.775 2120.83 218.409 Q2120.83 212.02 2123.98 208.409 Q2127.15 204.798 2132.73 204.798 Z\" fill=\"#000000\" fill-rule=\"evenodd\" fill-opacity=\"1\" /><path clip-path=\"url(#clip150)\" d=\"M 0 0 M2170.64 215.701 L2170.64 231.349 L2166.38 231.349 L2166.38 215.839 Q2166.38 212.159 2164.95 210.33 Q2163.51 208.502 2160.64 208.502 Q2157.19 208.502 2155.2 210.701 Q2153.21 212.9 2153.21 216.696 L2153.21 231.349 L2148.93 231.349 L2148.93 205.423 L2153.21 205.423 L2153.21 209.451 Q2154.74 207.113 2156.8 205.955 Q2158.88 204.798 2161.59 204.798 Q2166.06 204.798 2168.35 207.576 Q2170.64 210.33 2170.64 215.701 Z\" fill=\"#000000\" fill-rule=\"evenodd\" fill-opacity=\"1\" /></svg>\n"
      ]
     },
     "execution_count": 35,
     "metadata": {},
     "output_type": "execute_result"
    }
   ],
   "source": [
    "# TASK: Plot constraint violation vs iterations\n",
    "plot(stats_gn[:viol_primal], label=\"Gauss Newton\",\n",
    "    yscale=:log10, xlabel=\"iterations\", ylabel=\"Constraint violation\", legend=:topright\n",
    ")\n",
    "plot!(stats_fn[:viol_primal], label=\"Full Newton\")"
   ]
  },
  {
   "cell_type": "code",
   "execution_count": 36,
   "metadata": {},
   "outputs": [
    {
     "data": {
      "image/svg+xml": [
       "<?xml version=\"1.0\" encoding=\"utf-8\"?>\n",
       "<svg xmlns=\"http://www.w3.org/2000/svg\" xmlns:xlink=\"http://www.w3.org/1999/xlink\" width=\"600\" height=\"400\" viewBox=\"0 0 2400 1600\">\n",
       "<defs>\n",
       "  <clipPath id=\"clip190\">\n",
       "    <rect x=\"0\" y=\"0\" width=\"2400\" height=\"1600\"/>\n",
       "  </clipPath>\n",
       "</defs>\n",
       "<path clip-path=\"url(#clip190)\" d=\"\n",
       "M0 1600 L2400 1600 L2400 0 L0 0  Z\n",
       "  \" fill=\"#ffffff\" fill-rule=\"evenodd\" fill-opacity=\"1\"/>\n",
       "<defs>\n",
       "  <clipPath id=\"clip191\">\n",
       "    <rect x=\"480\" y=\"0\" width=\"1681\" height=\"1600\"/>\n",
       "  </clipPath>\n",
       "</defs>\n",
       "<path clip-path=\"url(#clip190)\" d=\"\n",
       "M244.308 1423.18 L2352.76 1423.18 L2352.76 47.2441 L244.308 47.2441  Z\n",
       "  \" fill=\"#ffffff\" fill-rule=\"evenodd\" fill-opacity=\"1\"/>\n",
       "<defs>\n",
       "  <clipPath id=\"clip192\">\n",
       "    <rect x=\"244\" y=\"47\" width=\"2109\" height=\"1377\"/>\n",
       "  </clipPath>\n",
       "</defs>\n",
       "<polyline clip-path=\"url(#clip192)\" style=\"stroke:#000000; stroke-width:2; stroke-opacity:0.1; fill:none\" points=\"\n",
       "  287.861,1423.18 287.861,47.2441 \n",
       "  \"/>\n",
       "<polyline clip-path=\"url(#clip192)\" style=\"stroke:#000000; stroke-width:2; stroke-opacity:0.1; fill:none\" points=\"\n",
       "  700.069,1423.18 700.069,47.2441 \n",
       "  \"/>\n",
       "<polyline clip-path=\"url(#clip192)\" style=\"stroke:#000000; stroke-width:2; stroke-opacity:0.1; fill:none\" points=\"\n",
       "  1112.28,1423.18 1112.28,47.2441 \n",
       "  \"/>\n",
       "<polyline clip-path=\"url(#clip192)\" style=\"stroke:#000000; stroke-width:2; stroke-opacity:0.1; fill:none\" points=\"\n",
       "  1524.49,1423.18 1524.49,47.2441 \n",
       "  \"/>\n",
       "<polyline clip-path=\"url(#clip192)\" style=\"stroke:#000000; stroke-width:2; stroke-opacity:0.1; fill:none\" points=\"\n",
       "  1936.7,1423.18 1936.7,47.2441 \n",
       "  \"/>\n",
       "<polyline clip-path=\"url(#clip192)\" style=\"stroke:#000000; stroke-width:2; stroke-opacity:0.1; fill:none\" points=\"\n",
       "  2348.9,1423.18 2348.9,47.2441 \n",
       "  \"/>\n",
       "<polyline clip-path=\"url(#clip190)\" style=\"stroke:#000000; stroke-width:4; stroke-opacity:1; fill:none\" points=\"\n",
       "  244.308,1423.18 2352.76,1423.18 \n",
       "  \"/>\n",
       "<polyline clip-path=\"url(#clip190)\" style=\"stroke:#000000; stroke-width:4; stroke-opacity:1; fill:none\" points=\"\n",
       "  287.861,1423.18 287.861,1406.67 \n",
       "  \"/>\n",
       "<polyline clip-path=\"url(#clip190)\" style=\"stroke:#000000; stroke-width:4; stroke-opacity:1; fill:none\" points=\"\n",
       "  700.069,1423.18 700.069,1406.67 \n",
       "  \"/>\n",
       "<polyline clip-path=\"url(#clip190)\" style=\"stroke:#000000; stroke-width:4; stroke-opacity:1; fill:none\" points=\"\n",
       "  1112.28,1423.18 1112.28,1406.67 \n",
       "  \"/>\n",
       "<polyline clip-path=\"url(#clip190)\" style=\"stroke:#000000; stroke-width:4; stroke-opacity:1; fill:none\" points=\"\n",
       "  1524.49,1423.18 1524.49,1406.67 \n",
       "  \"/>\n",
       "<polyline clip-path=\"url(#clip190)\" style=\"stroke:#000000; stroke-width:4; stroke-opacity:1; fill:none\" points=\"\n",
       "  1936.7,1423.18 1936.7,1406.67 \n",
       "  \"/>\n",
       "<polyline clip-path=\"url(#clip190)\" style=\"stroke:#000000; stroke-width:4; stroke-opacity:1; fill:none\" points=\"\n",
       "  2348.9,1423.18 2348.9,1406.67 \n",
       "  \"/>\n",
       "<path clip-path=\"url(#clip190)\" d=\"M 0 0 M287.861 1452.37 Q284.25 1452.37 282.421 1455.94 Q280.616 1459.48 280.616 1466.61 Q280.616 1473.71 282.421 1477.28 Q284.25 1480.82 287.861 1480.82 Q291.495 1480.82 293.301 1477.28 Q295.129 1473.71 295.129 1466.61 Q295.129 1459.48 293.301 1455.94 Q291.495 1452.37 287.861 1452.37 M287.861 1448.67 Q293.671 1448.67 296.727 1453.27 Q299.805 1457.86 299.805 1466.61 Q299.805 1475.33 296.727 1479.94 Q293.671 1484.52 287.861 1484.52 Q282.051 1484.52 278.972 1479.94 Q275.916 1475.33 275.916 1466.61 Q275.916 1457.86 278.972 1453.27 Q282.051 1448.67 287.861 1448.67 Z\" fill=\"#000000\" fill-rule=\"evenodd\" fill-opacity=\"1\" /><path clip-path=\"url(#clip190)\" d=\"M 0 0 M676.84 1449.29 L695.197 1449.29 L695.197 1453.23 L681.123 1453.23 L681.123 1461.7 Q682.141 1461.35 683.16 1461.19 Q684.178 1461 685.197 1461 Q690.984 1461 694.363 1464.18 Q697.743 1467.35 697.743 1472.76 Q697.743 1478.34 694.271 1481.44 Q690.799 1484.52 684.479 1484.52 Q682.303 1484.52 680.035 1484.15 Q677.789 1483.78 675.382 1483.04 L675.382 1478.34 Q677.465 1479.48 679.688 1480.03 Q681.91 1480.59 684.387 1480.59 Q688.391 1480.59 690.729 1478.48 Q693.067 1476.38 693.067 1472.76 Q693.067 1469.15 690.729 1467.05 Q688.391 1464.94 684.387 1464.94 Q682.512 1464.94 680.637 1465.36 Q678.785 1465.77 676.84 1466.65 L676.84 1449.29 Z\" fill=\"#000000\" fill-rule=\"evenodd\" fill-opacity=\"1\" /><path clip-path=\"url(#clip190)\" d=\"M 0 0 M712.812 1452.37 Q709.201 1452.37 707.373 1455.94 Q705.567 1459.48 705.567 1466.61 Q705.567 1473.71 707.373 1477.28 Q709.201 1480.82 712.812 1480.82 Q716.447 1480.82 718.252 1477.28 Q720.081 1473.71 720.081 1466.61 Q720.081 1459.48 718.252 1455.94 Q716.447 1452.37 712.812 1452.37 M712.812 1448.67 Q718.623 1448.67 721.678 1453.27 Q724.757 1457.86 724.757 1466.61 Q724.757 1475.33 721.678 1479.94 Q718.623 1484.52 712.812 1484.52 Q707.002 1484.52 703.924 1479.94 Q700.868 1475.33 700.868 1466.61 Q700.868 1457.86 703.924 1453.27 Q707.002 1448.67 712.812 1448.67 Z\" fill=\"#000000\" fill-rule=\"evenodd\" fill-opacity=\"1\" /><path clip-path=\"url(#clip190)\" d=\"M 0 0 M1075.65 1479.92 L1083.29 1479.92 L1083.29 1453.55 L1074.97 1455.22 L1074.97 1450.96 L1083.24 1449.29 L1087.91 1449.29 L1087.91 1479.92 L1095.55 1479.92 L1095.55 1483.85 L1075.65 1483.85 L1075.65 1479.92 Z\" fill=\"#000000\" fill-rule=\"evenodd\" fill-opacity=\"1\" /><path clip-path=\"url(#clip190)\" d=\"M 0 0 M1110.62 1452.37 Q1107.01 1452.37 1105.18 1455.94 Q1103.38 1459.48 1103.38 1466.61 Q1103.38 1473.71 1105.18 1477.28 Q1107.01 1480.82 1110.62 1480.82 Q1114.26 1480.82 1116.06 1477.28 Q1117.89 1473.71 1117.89 1466.61 Q1117.89 1459.48 1116.06 1455.94 Q1114.26 1452.37 1110.62 1452.37 M1110.62 1448.67 Q1116.43 1448.67 1119.49 1453.27 Q1122.57 1457.86 1122.57 1466.61 Q1122.57 1475.33 1119.49 1479.94 Q1116.43 1484.52 1110.62 1484.52 Q1104.81 1484.52 1101.73 1479.94 Q1098.68 1475.33 1098.68 1466.61 Q1098.68 1457.86 1101.73 1453.27 Q1104.81 1448.67 1110.62 1448.67 Z\" fill=\"#000000\" fill-rule=\"evenodd\" fill-opacity=\"1\" /><path clip-path=\"url(#clip190)\" d=\"M 0 0 M1137.64 1452.37 Q1134.03 1452.37 1132.2 1455.94 Q1130.39 1459.48 1130.39 1466.61 Q1130.39 1473.71 1132.2 1477.28 Q1134.03 1480.82 1137.64 1480.82 Q1141.27 1480.82 1143.08 1477.28 Q1144.91 1473.71 1144.91 1466.61 Q1144.91 1459.48 1143.08 1455.94 Q1141.27 1452.37 1137.64 1452.37 M1137.64 1448.67 Q1143.45 1448.67 1146.5 1453.27 Q1149.58 1457.86 1149.58 1466.61 Q1149.58 1475.33 1146.5 1479.94 Q1143.45 1484.52 1137.64 1484.52 Q1131.83 1484.52 1128.75 1479.94 Q1125.69 1475.33 1125.69 1466.61 Q1125.69 1457.86 1128.75 1453.27 Q1131.83 1448.67 1137.64 1448.67 Z\" fill=\"#000000\" fill-rule=\"evenodd\" fill-opacity=\"1\" /><path clip-path=\"url(#clip190)\" d=\"M 0 0 M1488.35 1479.92 L1495.99 1479.92 L1495.99 1453.55 L1487.68 1455.22 L1487.68 1450.96 L1495.95 1449.29 L1500.62 1449.29 L1500.62 1479.92 L1508.26 1479.92 L1508.26 1483.85 L1488.35 1483.85 L1488.35 1479.92 Z\" fill=\"#000000\" fill-rule=\"evenodd\" fill-opacity=\"1\" /><path clip-path=\"url(#clip190)\" d=\"M 0 0 M1513.38 1449.29 L1531.73 1449.29 L1531.73 1453.23 L1517.66 1453.23 L1517.66 1461.7 Q1518.68 1461.35 1519.69 1461.19 Q1520.71 1461 1521.73 1461 Q1527.52 1461 1530.9 1464.18 Q1534.28 1467.35 1534.28 1472.76 Q1534.28 1478.34 1530.81 1481.44 Q1527.33 1484.52 1521.01 1484.52 Q1518.84 1484.52 1516.57 1484.15 Q1514.32 1483.78 1511.92 1483.04 L1511.92 1478.34 Q1514 1479.48 1516.22 1480.03 Q1518.44 1480.59 1520.92 1480.59 Q1524.93 1480.59 1527.26 1478.48 Q1529.6 1476.38 1529.6 1472.76 Q1529.6 1469.15 1527.26 1467.05 Q1524.93 1464.94 1520.92 1464.94 Q1519.05 1464.94 1517.17 1465.36 Q1515.32 1465.77 1513.38 1466.65 L1513.38 1449.29 Z\" fill=\"#000000\" fill-rule=\"evenodd\" fill-opacity=\"1\" /><path clip-path=\"url(#clip190)\" d=\"M 0 0 M1549.35 1452.37 Q1545.74 1452.37 1543.91 1455.94 Q1542.1 1459.48 1542.1 1466.61 Q1542.1 1473.71 1543.91 1477.28 Q1545.74 1480.82 1549.35 1480.82 Q1552.98 1480.82 1554.79 1477.28 Q1556.62 1473.71 1556.62 1466.61 Q1556.62 1459.48 1554.79 1455.94 Q1552.98 1452.37 1549.35 1452.37 M1549.35 1448.67 Q1555.16 1448.67 1558.21 1453.27 Q1561.29 1457.86 1561.29 1466.61 Q1561.29 1475.33 1558.21 1479.94 Q1555.16 1484.52 1549.35 1484.52 Q1543.54 1484.52 1540.46 1479.94 Q1537.4 1475.33 1537.4 1466.61 Q1537.4 1457.86 1540.46 1453.27 Q1543.54 1448.67 1549.35 1448.67 Z\" fill=\"#000000\" fill-rule=\"evenodd\" fill-opacity=\"1\" /><path clip-path=\"url(#clip190)\" d=\"M 0 0 M1904.33 1479.92 L1920.65 1479.92 L1920.65 1483.85 L1898.71 1483.85 L1898.71 1479.92 Q1901.37 1477.16 1905.95 1472.53 Q1910.56 1467.88 1911.74 1466.54 Q1913.99 1464.01 1914.87 1462.28 Q1915.77 1460.52 1915.77 1458.83 Q1915.77 1456.07 1913.82 1454.34 Q1911.9 1452.6 1908.8 1452.6 Q1906.6 1452.6 1904.15 1453.37 Q1901.72 1454.13 1898.94 1455.68 L1898.94 1450.96 Q1901.76 1449.82 1904.22 1449.25 Q1906.67 1448.67 1908.71 1448.67 Q1914.08 1448.67 1917.27 1451.35 Q1920.47 1454.04 1920.47 1458.53 Q1920.47 1460.66 1919.66 1462.58 Q1918.87 1464.48 1916.76 1467.07 Q1916.19 1467.74 1913.08 1470.96 Q1909.98 1474.15 1904.33 1479.92 Z\" fill=\"#000000\" fill-rule=\"evenodd\" fill-opacity=\"1\" /><path clip-path=\"url(#clip190)\" d=\"M 0 0 M1935.72 1452.37 Q1932.11 1452.37 1930.28 1455.94 Q1928.48 1459.48 1928.48 1466.61 Q1928.48 1473.71 1930.28 1477.28 Q1932.11 1480.82 1935.72 1480.82 Q1939.36 1480.82 1941.16 1477.28 Q1942.99 1473.71 1942.99 1466.61 Q1942.99 1459.48 1941.16 1455.94 Q1939.36 1452.37 1935.72 1452.37 M1935.72 1448.67 Q1941.53 1448.67 1944.59 1453.27 Q1947.67 1457.86 1947.67 1466.61 Q1947.67 1475.33 1944.59 1479.94 Q1941.53 1484.52 1935.72 1484.52 Q1929.91 1484.52 1926.83 1479.94 Q1923.78 1475.33 1923.78 1466.61 Q1923.78 1457.86 1926.83 1453.27 Q1929.91 1448.67 1935.72 1448.67 Z\" fill=\"#000000\" fill-rule=\"evenodd\" fill-opacity=\"1\" /><path clip-path=\"url(#clip190)\" d=\"M 0 0 M1962.74 1452.37 Q1959.13 1452.37 1957.3 1455.94 Q1955.49 1459.48 1955.49 1466.61 Q1955.49 1473.71 1957.3 1477.28 Q1959.13 1480.82 1962.74 1480.82 Q1966.37 1480.82 1968.18 1477.28 Q1970.01 1473.71 1970.01 1466.61 Q1970.01 1459.48 1968.18 1455.94 Q1966.37 1452.37 1962.74 1452.37 M1962.74 1448.67 Q1968.55 1448.67 1971.6 1453.27 Q1974.68 1457.86 1974.68 1466.61 Q1974.68 1475.33 1971.6 1479.94 Q1968.55 1484.52 1962.74 1484.52 Q1956.93 1484.52 1953.85 1479.94 Q1950.79 1475.33 1950.79 1466.61 Q1950.79 1457.86 1953.85 1453.27 Q1956.93 1448.67 1962.74 1448.67 Z\" fill=\"#000000\" fill-rule=\"evenodd\" fill-opacity=\"1\" /><path clip-path=\"url(#clip190)\" d=\"M 0 0 M2317.04 1479.92 L2333.36 1479.92 L2333.36 1483.85 L2311.42 1483.85 L2311.42 1479.92 Q2314.08 1477.16 2318.66 1472.53 Q2323.27 1467.88 2324.45 1466.54 Q2326.69 1464.01 2327.57 1462.28 Q2328.48 1460.52 2328.48 1458.83 Q2328.48 1456.07 2326.53 1454.34 Q2324.61 1452.6 2321.51 1452.6 Q2319.31 1452.6 2316.86 1453.37 Q2314.42 1454.13 2311.65 1455.68 L2311.65 1450.96 Q2314.47 1449.82 2316.92 1449.25 Q2319.38 1448.67 2321.42 1448.67 Q2326.79 1448.67 2329.98 1451.35 Q2333.17 1454.04 2333.17 1458.53 Q2333.17 1460.66 2332.36 1462.58 Q2331.58 1464.48 2329.47 1467.07 Q2328.89 1467.74 2325.79 1470.96 Q2322.69 1474.15 2317.04 1479.92 Z\" fill=\"#000000\" fill-rule=\"evenodd\" fill-opacity=\"1\" /><path clip-path=\"url(#clip190)\" d=\"M 0 0 M2338.48 1449.29 L2356.83 1449.29 L2356.83 1453.23 L2342.76 1453.23 L2342.76 1461.7 Q2343.78 1461.35 2344.79 1461.19 Q2345.81 1461 2346.83 1461 Q2352.62 1461 2356 1464.18 Q2359.38 1467.35 2359.38 1472.76 Q2359.38 1478.34 2355.91 1481.44 Q2352.43 1484.52 2346.11 1484.52 Q2343.94 1484.52 2341.67 1484.15 Q2339.42 1483.78 2337.02 1483.04 L2337.02 1478.34 Q2339.1 1479.48 2341.32 1480.03 Q2343.54 1480.59 2346.02 1480.59 Q2350.03 1480.59 2352.36 1478.48 Q2354.7 1476.38 2354.7 1472.76 Q2354.7 1469.15 2352.36 1467.05 Q2350.03 1464.94 2346.02 1464.94 Q2344.15 1464.94 2342.27 1465.36 Q2340.42 1465.77 2338.48 1466.65 L2338.48 1449.29 Z\" fill=\"#000000\" fill-rule=\"evenodd\" fill-opacity=\"1\" /><path clip-path=\"url(#clip190)\" d=\"M 0 0 M2374.45 1452.37 Q2370.84 1452.37 2369.01 1455.94 Q2367.2 1459.48 2367.2 1466.61 Q2367.2 1473.71 2369.01 1477.28 Q2370.84 1480.82 2374.45 1480.82 Q2378.08 1480.82 2379.89 1477.28 Q2381.72 1473.71 2381.72 1466.61 Q2381.72 1459.48 2379.89 1455.94 Q2378.08 1452.37 2374.45 1452.37 M2374.45 1448.67 Q2380.26 1448.67 2383.31 1453.27 Q2386.39 1457.86 2386.39 1466.61 Q2386.39 1475.33 2383.31 1479.94 Q2380.26 1484.52 2374.45 1484.52 Q2368.64 1484.52 2365.56 1479.94 Q2362.5 1475.33 2362.5 1466.61 Q2362.5 1457.86 2365.56 1453.27 Q2368.64 1448.67 2374.45 1448.67 Z\" fill=\"#000000\" fill-rule=\"evenodd\" fill-opacity=\"1\" /><path clip-path=\"url(#clip190)\" d=\"M 0 0 M1169.55 1522.27 L1169.55 1532.4 L1181.61 1532.4 L1181.61 1536.95 L1169.55 1536.95 L1169.55 1556.3 Q1169.55 1560.66 1170.72 1561.9 Q1171.93 1563.14 1175.59 1563.14 L1181.61 1563.14 L1181.61 1568.04 L1175.59 1568.04 Q1168.81 1568.04 1166.24 1565.53 Q1163.66 1562.98 1163.66 1556.3 L1163.66 1536.95 L1159.36 1536.95 L1159.36 1532.4 L1163.66 1532.4 L1163.66 1522.27 L1169.55 1522.27 Z\" fill=\"#000000\" fill-rule=\"evenodd\" fill-opacity=\"1\" /><path clip-path=\"url(#clip190)\" d=\"M 0 0 M1187.75 1532.4 L1193.61 1532.4 L1193.61 1568.04 L1187.75 1568.04 L1187.75 1532.4 M1187.75 1518.52 L1193.61 1518.52 L1193.61 1525.93 L1187.75 1525.93 L1187.75 1518.52 Z\" fill=\"#000000\" fill-rule=\"evenodd\" fill-opacity=\"1\" /><path clip-path=\"url(#clip190)\" d=\"M 0 0 M1227.51 1539.24 Q1229.7 1535.29 1232.76 1533.41 Q1235.81 1531.54 1239.95 1531.54 Q1245.52 1531.54 1248.55 1535.45 Q1251.57 1539.33 1251.57 1546.53 L1251.57 1568.04 L1245.68 1568.04 L1245.68 1546.72 Q1245.68 1541.59 1243.87 1539.11 Q1242.05 1536.63 1238.33 1536.63 Q1233.78 1536.63 1231.13 1539.65 Q1228.49 1542.68 1228.49 1547.9 L1228.49 1568.04 L1222.6 1568.04 L1222.6 1546.72 Q1222.6 1541.56 1220.79 1539.11 Q1218.98 1536.63 1215.19 1536.63 Q1210.7 1536.63 1208.06 1539.68 Q1205.42 1542.71 1205.42 1547.9 L1205.42 1568.04 L1199.53 1568.04 L1199.53 1532.4 L1205.42 1532.4 L1205.42 1537.93 Q1207.42 1534.66 1210.22 1533.1 Q1213.02 1531.54 1216.88 1531.54 Q1220.76 1531.54 1223.46 1533.51 Q1226.2 1535.48 1227.51 1539.24 Z\" fill=\"#000000\" fill-rule=\"evenodd\" fill-opacity=\"1\" /><path clip-path=\"url(#clip190)\" d=\"M 0 0 M1288.2 1548.76 L1288.2 1551.62 L1261.28 1551.62 Q1261.66 1557.67 1264.9 1560.85 Q1268.18 1564 1274.01 1564 Q1277.38 1564 1280.53 1563.17 Q1283.72 1562.35 1286.83 1560.69 L1286.83 1566.23 Q1283.68 1567.57 1280.37 1568.27 Q1277.06 1568.97 1273.66 1568.97 Q1265.13 1568.97 1260.13 1564 Q1255.17 1559.04 1255.17 1550.57 Q1255.17 1541.82 1259.88 1536.69 Q1264.62 1531.54 1272.64 1531.54 Q1279.83 1531.54 1284 1536.18 Q1288.2 1540.8 1288.2 1548.76 M1282.35 1547.04 Q1282.28 1542.23 1279.64 1539.37 Q1277.03 1536.5 1272.7 1536.5 Q1267.8 1536.5 1264.84 1539.27 Q1261.91 1542.04 1261.47 1547.07 L1282.35 1547.04 Z\" fill=\"#000000\" fill-rule=\"evenodd\" fill-opacity=\"1\" /><path clip-path=\"url(#clip190)\" d=\"M 0 0 M1329.13 1518.58 Q1324.87 1525.9 1322.8 1533.06 Q1320.73 1540.23 1320.73 1547.58 Q1320.73 1554.93 1322.8 1562.16 Q1324.9 1569.35 1329.13 1576.64 L1324.04 1576.64 Q1319.27 1569.16 1316.88 1561.93 Q1314.53 1554.71 1314.53 1547.58 Q1314.53 1540.48 1316.88 1533.29 Q1319.24 1526.09 1324.04 1518.58 L1329.13 1518.58 Z\" fill=\"#000000\" fill-rule=\"evenodd\" fill-opacity=\"1\" /><path clip-path=\"url(#clip190)\" d=\"M 0 0 M1363.03 1539.24 Q1365.23 1535.29 1368.28 1533.41 Q1371.34 1531.54 1375.48 1531.54 Q1381.05 1531.54 1384.07 1535.45 Q1387.09 1539.33 1387.09 1546.53 L1387.09 1568.04 L1381.21 1568.04 L1381.21 1546.72 Q1381.21 1541.59 1379.39 1539.11 Q1377.58 1536.63 1373.85 1536.63 Q1369.3 1536.63 1366.66 1539.65 Q1364.02 1542.68 1364.02 1547.9 L1364.02 1568.04 L1358.13 1568.04 L1358.13 1546.72 Q1358.13 1541.56 1356.32 1539.11 Q1354.5 1536.63 1350.71 1536.63 Q1346.23 1536.63 1343.59 1539.68 Q1340.94 1542.71 1340.94 1547.9 L1340.94 1568.04 L1335.06 1568.04 L1335.06 1532.4 L1340.94 1532.4 L1340.94 1537.93 Q1342.95 1534.66 1345.75 1533.1 Q1348.55 1531.54 1352.4 1531.54 Q1356.28 1531.54 1358.99 1533.51 Q1361.73 1535.48 1363.03 1539.24 Z\" fill=\"#000000\" fill-rule=\"evenodd\" fill-opacity=\"1\" /><path clip-path=\"url(#clip190)\" d=\"M 0 0 M1415.96 1533.45 L1415.96 1538.98 Q1413.48 1537.71 1410.81 1537.07 Q1408.13 1536.44 1405.27 1536.44 Q1400.91 1536.44 1398.71 1537.77 Q1396.55 1539.11 1396.55 1541.79 Q1396.55 1543.82 1398.11 1545 Q1399.67 1546.15 1404.38 1547.2 L1406.38 1547.64 Q1412.62 1548.98 1415.23 1551.43 Q1417.87 1553.85 1417.87 1558.21 Q1417.87 1563.17 1413.93 1566.07 Q1410.01 1568.97 1403.14 1568.97 Q1400.27 1568.97 1397.15 1568.39 Q1394.07 1567.85 1390.63 1566.74 L1390.63 1560.69 Q1393.87 1562.38 1397.03 1563.24 Q1400.18 1564.07 1403.26 1564.07 Q1407.4 1564.07 1409.63 1562.66 Q1411.86 1561.23 1411.86 1558.65 Q1411.86 1556.27 1410.23 1554.99 Q1408.64 1553.72 1403.2 1552.54 L1401.16 1552.07 Q1395.72 1550.92 1393.3 1548.56 Q1390.88 1546.18 1390.88 1542.04 Q1390.88 1537.01 1394.45 1534.27 Q1398.01 1531.54 1404.57 1531.54 Q1407.82 1531.54 1410.68 1532.01 Q1413.54 1532.49 1415.96 1533.45 Z\" fill=\"#000000\" fill-rule=\"evenodd\" fill-opacity=\"1\" /><path clip-path=\"url(#clip190)\" d=\"M 0 0 M1423.09 1518.58 L1428.19 1518.58 Q1432.96 1526.09 1435.31 1533.29 Q1437.7 1540.48 1437.7 1547.58 Q1437.7 1554.71 1435.31 1561.93 Q1432.96 1569.16 1428.19 1576.64 L1423.09 1576.64 Q1427.33 1569.35 1429.39 1562.16 Q1431.5 1554.93 1431.5 1547.58 Q1431.5 1540.23 1429.39 1533.06 Q1427.33 1525.9 1423.09 1518.58 Z\" fill=\"#000000\" fill-rule=\"evenodd\" fill-opacity=\"1\" /><polyline clip-path=\"url(#clip192)\" style=\"stroke:#000000; stroke-width:2; stroke-opacity:0.1; fill:none\" points=\"\n",
       "  244.308,1242.11 2352.76,1242.11 \n",
       "  \"/>\n",
       "<polyline clip-path=\"url(#clip192)\" style=\"stroke:#000000; stroke-width:2; stroke-opacity:0.1; fill:none\" points=\"\n",
       "  244.308,973.673 2352.76,973.673 \n",
       "  \"/>\n",
       "<polyline clip-path=\"url(#clip192)\" style=\"stroke:#000000; stroke-width:2; stroke-opacity:0.1; fill:none\" points=\"\n",
       "  244.308,705.232 2352.76,705.232 \n",
       "  \"/>\n",
       "<polyline clip-path=\"url(#clip192)\" style=\"stroke:#000000; stroke-width:2; stroke-opacity:0.1; fill:none\" points=\"\n",
       "  244.308,436.792 2352.76,436.792 \n",
       "  \"/>\n",
       "<polyline clip-path=\"url(#clip192)\" style=\"stroke:#000000; stroke-width:2; stroke-opacity:0.1; fill:none\" points=\"\n",
       "  244.308,168.351 2352.76,168.351 \n",
       "  \"/>\n",
       "<polyline clip-path=\"url(#clip190)\" style=\"stroke:#000000; stroke-width:4; stroke-opacity:1; fill:none\" points=\"\n",
       "  244.308,1423.18 244.308,47.2441 \n",
       "  \"/>\n",
       "<polyline clip-path=\"url(#clip190)\" style=\"stroke:#000000; stroke-width:4; stroke-opacity:1; fill:none\" points=\"\n",
       "  244.308,1242.11 269.609,1242.11 \n",
       "  \"/>\n",
       "<polyline clip-path=\"url(#clip190)\" style=\"stroke:#000000; stroke-width:4; stroke-opacity:1; fill:none\" points=\"\n",
       "  244.308,973.673 269.609,973.673 \n",
       "  \"/>\n",
       "<polyline clip-path=\"url(#clip190)\" style=\"stroke:#000000; stroke-width:4; stroke-opacity:1; fill:none\" points=\"\n",
       "  244.308,705.232 269.609,705.232 \n",
       "  \"/>\n",
       "<polyline clip-path=\"url(#clip190)\" style=\"stroke:#000000; stroke-width:4; stroke-opacity:1; fill:none\" points=\"\n",
       "  244.308,436.792 269.609,436.792 \n",
       "  \"/>\n",
       "<polyline clip-path=\"url(#clip190)\" style=\"stroke:#000000; stroke-width:4; stroke-opacity:1; fill:none\" points=\"\n",
       "  244.308,168.351 269.609,168.351 \n",
       "  \"/>\n",
       "<path clip-path=\"url(#clip190)\" d=\"M 0 0 M115.402 1261.91 L123.04 1261.91 L123.04 1235.54 L114.73 1237.21 L114.73 1232.95 L122.994 1231.28 L127.67 1231.28 L127.67 1261.91 L135.309 1261.91 L135.309 1265.84 L115.402 1265.84 L115.402 1261.91 Z\" fill=\"#000000\" fill-rule=\"evenodd\" fill-opacity=\"1\" /><path clip-path=\"url(#clip190)\" d=\"M 0 0 M150.378 1234.36 Q146.767 1234.36 144.939 1237.92 Q143.133 1241.47 143.133 1248.6 Q143.133 1255.7 144.939 1259.27 Q146.767 1262.81 150.378 1262.81 Q154.013 1262.81 155.818 1259.27 Q157.647 1255.7 157.647 1248.6 Q157.647 1241.47 155.818 1237.92 Q154.013 1234.36 150.378 1234.36 M150.378 1230.66 Q156.188 1230.66 159.244 1235.26 Q162.323 1239.85 162.323 1248.6 Q162.323 1257.32 159.244 1261.93 Q156.188 1266.51 150.378 1266.51 Q144.568 1266.51 141.489 1261.93 Q138.434 1257.32 138.434 1248.6 Q138.434 1239.85 141.489 1235.26 Q144.568 1230.66 150.378 1230.66 Z\" fill=\"#000000\" fill-rule=\"evenodd\" fill-opacity=\"1\" /><path clip-path=\"url(#clip190)\" d=\"M 0 0 M162.323 1224.76 L186.434 1224.76 L186.434 1227.95 L162.323 1227.95 L162.323 1224.76 Z\" fill=\"#000000\" fill-rule=\"evenodd\" fill-opacity=\"1\" /><path clip-path=\"url(#clip190)\" d=\"M 0 0 M198.678 1225.1 Q195.97 1225.1 194.409 1226.54 Q192.867 1227.99 192.867 1230.53 Q192.867 1233.07 194.409 1234.52 Q195.97 1235.97 198.678 1235.97 Q201.386 1235.97 202.947 1234.52 Q204.509 1233.05 204.509 1230.53 Q204.509 1227.99 202.947 1226.54 Q201.405 1225.1 198.678 1225.1 M194.879 1223.48 Q192.434 1222.88 191.061 1221.2 Q189.707 1219.53 189.707 1217.12 Q189.707 1213.75 192.095 1211.8 Q194.503 1209.84 198.678 1209.84 Q202.872 1209.84 205.261 1211.8 Q207.649 1213.75 207.649 1217.12 Q207.649 1219.53 206.276 1221.2 Q204.922 1222.88 202.496 1223.48 Q205.242 1224.12 206.765 1225.98 Q208.308 1227.84 208.308 1230.53 Q208.308 1234.61 205.806 1236.79 Q203.324 1238.98 198.678 1238.98 Q194.033 1238.98 191.531 1236.79 Q189.049 1234.61 189.049 1230.53 Q189.049 1227.84 190.591 1225.98 Q192.133 1224.12 194.879 1223.48 M193.487 1217.48 Q193.487 1219.66 194.841 1220.88 Q196.214 1222.11 198.678 1222.11 Q201.123 1222.11 202.496 1220.88 Q203.888 1219.66 203.888 1217.48 Q203.888 1215.3 202.496 1214.07 Q201.123 1212.85 198.678 1212.85 Q196.214 1212.85 194.841 1214.07 Q193.487 1215.3 193.487 1217.48 Z\" fill=\"#000000\" fill-rule=\"evenodd\" fill-opacity=\"1\" /><path clip-path=\"url(#clip190)\" d=\"M 0 0 M115.195 993.465 L122.834 993.465 L122.834 967.099 L114.523 968.766 L114.523 964.507 L122.787 962.84 L127.463 962.84 L127.463 993.465 L135.102 993.465 L135.102 997.4 L115.195 997.4 L115.195 993.465 Z\" fill=\"#000000\" fill-rule=\"evenodd\" fill-opacity=\"1\" /><path clip-path=\"url(#clip190)\" d=\"M 0 0 M150.171 965.919 Q146.56 965.919 144.732 969.484 Q142.926 973.025 142.926 980.155 Q142.926 987.261 144.732 990.826 Q146.56 994.368 150.171 994.368 Q153.806 994.368 155.611 990.826 Q157.44 987.261 157.44 980.155 Q157.44 973.025 155.611 969.484 Q153.806 965.919 150.171 965.919 M150.171 962.215 Q155.982 962.215 159.037 966.822 Q162.116 971.405 162.116 980.155 Q162.116 988.882 159.037 993.488 Q155.982 998.072 150.171 998.072 Q144.361 998.072 141.283 993.488 Q138.227 988.882 138.227 980.155 Q138.227 971.405 141.283 966.822 Q144.361 962.215 150.171 962.215 Z\" fill=\"#000000\" fill-rule=\"evenodd\" fill-opacity=\"1\" /><path clip-path=\"url(#clip190)\" d=\"M 0 0 M162.116 956.317 L186.227 956.317 L186.227 959.514 L162.116 959.514 L162.116 956.317 Z\" fill=\"#000000\" fill-rule=\"evenodd\" fill-opacity=\"1\" /><path clip-path=\"url(#clip190)\" d=\"M 0 0 M198.941 954.436 Q196.384 954.436 194.879 956.185 Q193.393 957.934 193.393 960.981 Q193.393 964.009 194.879 965.777 Q196.384 967.526 198.941 967.526 Q201.499 967.526 202.985 965.777 Q204.49 964.009 204.49 960.981 Q204.49 957.934 202.985 956.185 Q201.499 954.436 198.941 954.436 M206.483 942.53 L206.483 945.991 Q205.054 945.314 203.587 944.957 Q202.139 944.599 200.709 944.599 Q196.948 944.599 194.954 947.138 Q192.979 949.677 192.697 954.812 Q193.807 953.176 195.481 952.311 Q197.155 951.427 199.167 951.427 Q203.399 951.427 205.844 954.003 Q208.308 956.561 208.308 960.981 Q208.308 965.307 205.75 967.921 Q203.192 970.535 198.941 970.535 Q194.07 970.535 191.494 966.811 Q188.917 963.069 188.917 955.978 Q188.917 949.32 192.077 945.37 Q195.236 941.402 200.559 941.402 Q201.988 941.402 203.436 941.684 Q204.903 941.966 206.483 942.53 Z\" fill=\"#000000\" fill-rule=\"evenodd\" fill-opacity=\"1\" /><path clip-path=\"url(#clip190)\" d=\"M 0 0 M114.931 725.025 L122.57 725.025 L122.57 698.659 L114.26 700.326 L114.26 696.066 L122.524 694.4 L127.2 694.4 L127.2 725.025 L134.839 725.025 L134.839 728.96 L114.931 728.96 L114.931 725.025 Z\" fill=\"#000000\" fill-rule=\"evenodd\" fill-opacity=\"1\" /><path clip-path=\"url(#clip190)\" d=\"M 0 0 M149.908 697.479 Q146.297 697.479 144.468 701.043 Q142.663 704.585 142.663 711.715 Q142.663 718.821 144.468 722.386 Q146.297 725.927 149.908 725.927 Q153.542 725.927 155.348 722.386 Q157.177 718.821 157.177 711.715 Q157.177 704.585 155.348 701.043 Q153.542 697.479 149.908 697.479 M149.908 693.775 Q155.718 693.775 158.774 698.381 Q161.852 702.965 161.852 711.715 Q161.852 720.441 158.774 725.048 Q155.718 729.631 149.908 729.631 Q144.098 729.631 141.019 725.048 Q137.964 720.441 137.964 711.715 Q137.964 702.965 141.019 698.381 Q144.098 693.775 149.908 693.775 Z\" fill=\"#000000\" fill-rule=\"evenodd\" fill-opacity=\"1\" /><path clip-path=\"url(#clip190)\" d=\"M 0 0 M161.852 687.876 L185.964 687.876 L185.964 691.073 L161.852 691.073 L161.852 687.876 Z\" fill=\"#000000\" fill-rule=\"evenodd\" fill-opacity=\"1\" /><path clip-path=\"url(#clip190)\" d=\"M 0 0 M200.521 676.78 L190.929 691.769 L200.521 691.769 L200.521 676.78 M199.524 673.469 L204.302 673.469 L204.302 691.769 L208.308 691.769 L208.308 694.929 L204.302 694.929 L204.302 701.549 L200.521 701.549 L200.521 694.929 L187.845 694.929 L187.845 691.262 L199.524 673.469 Z\" fill=\"#000000\" fill-rule=\"evenodd\" fill-opacity=\"1\" /><path clip-path=\"url(#clip190)\" d=\"M 0 0 M116.624 456.584 L124.263 456.584 L124.263 430.219 L115.953 431.885 L115.953 427.626 L124.217 425.959 L128.893 425.959 L128.893 456.584 L136.531 456.584 L136.531 460.519 L116.624 460.519 L116.624 456.584 Z\" fill=\"#000000\" fill-rule=\"evenodd\" fill-opacity=\"1\" /><path clip-path=\"url(#clip190)\" d=\"M 0 0 M151.601 429.038 Q147.99 429.038 146.161 432.603 Q144.355 436.145 144.355 443.274 Q144.355 450.381 146.161 453.945 Q147.99 457.487 151.601 457.487 Q155.235 457.487 157.041 453.945 Q158.869 450.381 158.869 443.274 Q158.869 436.145 157.041 432.603 Q155.235 429.038 151.601 429.038 M151.601 425.334 Q157.411 425.334 160.467 429.941 Q163.545 434.524 163.545 443.274 Q163.545 452.001 160.467 456.607 Q157.411 461.191 151.601 461.191 Q145.791 461.191 142.712 456.607 Q139.656 452.001 139.656 443.274 Q139.656 434.524 142.712 429.941 Q145.791 425.334 151.601 425.334 Z\" fill=\"#000000\" fill-rule=\"evenodd\" fill-opacity=\"1\" /><path clip-path=\"url(#clip190)\" d=\"M 0 0 M163.545 419.436 L187.657 419.436 L187.657 422.633 L163.545 422.633 L163.545 419.436 Z\" fill=\"#000000\" fill-rule=\"evenodd\" fill-opacity=\"1\" /><path clip-path=\"url(#clip190)\" d=\"M 0 0 M195.048 429.912 L208.308 429.912 L208.308 433.109 L190.478 433.109 L190.478 429.912 Q192.641 427.674 196.365 423.912 Q200.107 420.132 201.067 419.041 Q202.891 416.991 203.606 415.58 Q204.339 414.151 204.339 412.778 Q204.339 410.54 202.759 409.129 Q201.198 407.719 198.678 407.719 Q196.891 407.719 194.898 408.339 Q192.923 408.96 190.666 410.22 L190.666 406.383 Q192.961 405.462 194.954 404.991 Q196.948 404.521 198.603 404.521 Q202.966 404.521 205.562 406.703 Q208.157 408.885 208.157 412.533 Q208.157 414.264 207.499 415.825 Q206.859 417.367 205.148 419.473 Q204.678 420.019 202.158 422.633 Q199.637 425.229 195.048 429.912 Z\" fill=\"#000000\" fill-rule=\"evenodd\" fill-opacity=\"1\" /><path clip-path=\"url(#clip190)\" d=\"M 0 0 M141.977 188.144 L149.616 188.144 L149.616 161.778 L141.306 163.445 L141.306 159.186 L149.57 157.519 L154.245 157.519 L154.245 188.144 L161.884 188.144 L161.884 192.079 L141.977 192.079 L141.977 188.144 Z\" fill=\"#000000\" fill-rule=\"evenodd\" fill-opacity=\"1\" /><path clip-path=\"url(#clip190)\" d=\"M 0 0 M176.954 160.598 Q173.343 160.598 171.514 164.163 Q169.708 167.704 169.708 174.834 Q169.708 181.94 171.514 185.505 Q173.343 189.047 176.954 189.047 Q180.588 189.047 182.393 185.505 Q184.222 181.94 184.222 174.834 Q184.222 167.704 182.393 164.163 Q180.588 160.598 176.954 160.598 M176.954 156.894 Q182.764 156.894 185.819 161.5 Q188.898 166.084 188.898 174.834 Q188.898 183.561 185.819 188.167 Q182.764 192.75 176.954 192.75 Q171.144 192.75 168.065 188.167 Q165.009 183.561 165.009 174.834 Q165.009 166.084 168.065 161.5 Q171.144 156.894 176.954 156.894 Z\" fill=\"#000000\" fill-rule=\"evenodd\" fill-opacity=\"1\" /><path clip-path=\"url(#clip190)\" d=\"M 0 0 M198.603 139.09 Q195.669 139.09 194.183 141.986 Q192.716 144.864 192.716 150.657 Q192.716 156.431 194.183 159.327 Q195.669 162.205 198.603 162.205 Q201.556 162.205 203.023 159.327 Q204.509 156.431 204.509 150.657 Q204.509 144.864 203.023 141.986 Q201.556 139.09 198.603 139.09 M198.603 136.081 Q203.324 136.081 205.806 139.824 Q208.308 143.547 208.308 150.657 Q208.308 157.747 205.806 161.49 Q203.324 165.214 198.603 165.214 Q193.882 165.214 191.381 161.49 Q188.898 157.747 188.898 150.657 Q188.898 143.547 191.381 139.824 Q193.882 136.081 198.603 136.081 Z\" fill=\"#000000\" fill-rule=\"evenodd\" fill-opacity=\"1\" /><path clip-path=\"url(#clip190)\" d=\"M 0 0 M20.1444 975.677 L26.9239 975.677 Q23.9002 978.923 22.4043 982.615 Q20.9083 986.275 20.9083 990.413 Q20.9083 998.561 25.9054 1002.89 Q30.8707 1007.22 40.2919 1007.22 Q49.6813 1007.22 54.6784 1002.89 Q59.6436 998.561 59.6436 990.413 Q59.6436 986.275 58.1477 982.615 Q56.6518 978.923 53.6281 975.677 L60.3439 975.677 Q62.6355 979.05 63.7814 982.838 Q64.9272 986.594 64.9272 990.795 Q64.9272 1001.58 58.3387 1007.79 Q51.7183 1014 40.2919 1014 Q28.8336 1014 22.2451 1007.79 Q15.6248 1001.58 15.6248 990.795 Q15.6248 986.53 16.7706 982.774 Q17.8846 978.987 20.1444 975.677 Z\" fill=\"#000000\" fill-rule=\"evenodd\" fill-opacity=\"1\" /><path clip-path=\"url(#clip190)\" d=\"M 0 0 M32.4621 955.72 Q32.4621 960.431 36.1542 963.168 Q39.8145 965.905 46.212 965.905 Q52.6095 965.905 56.3017 963.2 Q59.9619 960.462 59.9619 955.72 Q59.9619 951.041 56.2698 948.304 Q52.5777 945.567 46.212 945.567 Q39.8781 945.567 36.186 948.304 Q32.4621 951.041 32.4621 955.72 M27.4968 955.72 Q27.4968 948.081 32.4621 943.721 Q37.4273 939.36 46.212 939.36 Q54.9649 939.36 59.9619 943.721 Q64.9272 948.081 64.9272 955.72 Q64.9272 963.391 59.9619 967.751 Q54.9649 972.08 46.212 972.08 Q37.4273 972.08 32.4621 967.751 Q27.4968 963.391 27.4968 955.72 Z\" fill=\"#000000\" fill-rule=\"evenodd\" fill-opacity=\"1\" /><path clip-path=\"url(#clip190)\" d=\"M 0 0 M42.4881 903.585 L64.0042 903.585 L64.0042 909.441 L42.679 909.441 Q37.6183 909.441 35.1038 911.415 Q32.5894 913.388 32.5894 917.335 Q32.5894 922.077 35.6131 924.815 Q38.6368 927.552 43.8567 927.552 L64.0042 927.552 L64.0042 933.44 L28.3562 933.44 L28.3562 927.552 L33.8944 927.552 Q30.6797 925.451 29.0883 922.618 Q27.4968 919.754 27.4968 916.03 Q27.4968 909.887 31.3163 906.736 Q35.1038 903.585 42.4881 903.585 Z\" fill=\"#000000\" fill-rule=\"evenodd\" fill-opacity=\"1\" /><path clip-path=\"url(#clip190)\" d=\"M 0 0 M29.4065 874.716 L34.9447 874.716 Q33.6716 877.199 33.035 879.873 Q32.3984 882.546 32.3984 885.411 Q32.3984 889.771 33.7352 891.967 Q35.072 894.132 37.7456 894.132 Q39.7826 894.132 40.9603 892.572 Q42.1061 891.013 43.1565 886.302 L43.6021 884.297 Q44.9389 878.058 47.3897 875.448 Q49.8086 872.807 54.1691 872.807 Q59.1344 872.807 62.0308 876.753 Q64.9272 880.668 64.9272 887.543 Q64.9272 890.408 64.3543 893.527 Q63.8132 896.614 62.6992 900.052 L56.6518 900.052 Q58.3387 896.805 59.198 893.654 Q60.0256 890.503 60.0256 887.416 Q60.0256 883.278 58.6251 881.05 Q57.1929 878.822 54.6147 878.822 Q52.2276 878.822 50.9545 880.446 Q49.6813 882.037 48.5037 887.48 L48.0262 889.517 Q46.8804 894.959 44.5251 897.378 Q42.138 899.797 38.0002 899.797 Q32.9713 899.797 30.2341 896.233 Q27.4968 892.668 27.4968 886.111 Q27.4968 882.865 27.9743 880 Q28.4517 877.135 29.4065 874.716 Z\" fill=\"#000000\" fill-rule=\"evenodd\" fill-opacity=\"1\" /><path clip-path=\"url(#clip190)\" d=\"M 0 0 M18.2347 860.871 L28.3562 860.871 L28.3562 848.808 L32.9077 848.808 L32.9077 860.871 L52.2594 860.871 Q56.6199 860.871 57.8613 859.693 Q59.1026 858.484 59.1026 854.824 L59.1026 848.808 L64.0042 848.808 L64.0042 854.824 Q64.0042 861.603 61.4897 864.181 Q58.9434 866.759 52.2594 866.759 L32.9077 866.759 L32.9077 871.056 L28.3562 871.056 L28.3562 866.759 L18.2347 866.759 L18.2347 860.871 Z\" fill=\"#000000\" fill-rule=\"evenodd\" fill-opacity=\"1\" /><path clip-path=\"url(#clip190)\" d=\"M 0 0 M33.8307 822.008 Q33.2578 822.995 33.0032 824.173 Q32.7167 825.319 32.7167 826.719 Q32.7167 831.684 35.9632 834.358 Q39.1779 837 45.2253 837 L64.0042 837 L64.0042 842.888 L28.3562 842.888 L28.3562 837 L33.8944 837 Q30.6479 835.154 29.0883 832.194 Q27.4968 829.233 27.4968 825 Q27.4968 824.396 27.5923 823.663 Q27.656 822.931 27.8151 822.04 L33.8307 822.008 Z\" fill=\"#000000\" fill-rule=\"evenodd\" fill-opacity=\"1\" /><path clip-path=\"url(#clip190)\" d=\"M 0 0 M46.0847 799.665 Q46.0847 806.763 47.7079 809.5 Q49.3312 812.237 53.2461 812.237 Q56.3653 812.237 58.2114 810.2 Q60.0256 808.131 60.0256 804.598 Q60.0256 799.728 56.5881 796.8 Q53.1188 793.84 47.3897 793.84 L46.0847 793.84 L46.0847 799.665 M43.6657 787.984 L64.0042 787.984 L64.0042 793.84 L58.5933 793.84 Q61.8398 795.845 63.3994 798.837 Q64.9272 801.829 64.9272 806.158 Q64.9272 811.632 61.8716 814.879 Q58.7843 818.093 53.6281 818.093 Q47.6125 818.093 44.5569 814.083 Q41.5014 810.041 41.5014 802.052 L41.5014 793.84 L40.9285 793.84 Q36.8862 793.84 34.6901 796.514 Q32.4621 799.155 32.4621 803.962 Q32.4621 807.017 33.1941 809.914 Q33.9262 812.81 35.3903 815.484 L29.9795 815.484 Q28.7381 812.269 28.1334 809.245 Q27.4968 806.221 27.4968 803.357 Q27.4968 795.623 31.5072 791.803 Q35.5176 787.984 43.6657 787.984 Z\" fill=\"#000000\" fill-rule=\"evenodd\" fill-opacity=\"1\" /><path clip-path=\"url(#clip190)\" d=\"M 0 0 M28.3562 781.841 L28.3562 775.984 L64.0042 775.984 L64.0042 781.841 L28.3562 781.841 M14.479 781.841 L14.479 775.984 L21.895 775.984 L21.895 781.841 L14.479 781.841 Z\" fill=\"#000000\" fill-rule=\"evenodd\" fill-opacity=\"1\" /><path clip-path=\"url(#clip190)\" d=\"M 0 0 M42.4881 740.209 L64.0042 740.209 L64.0042 746.065 L42.679 746.065 Q37.6183 746.065 35.1038 748.039 Q32.5894 750.012 32.5894 753.959 Q32.5894 758.701 35.6131 761.439 Q38.6368 764.176 43.8567 764.176 L64.0042 764.176 L64.0042 770.064 L28.3562 770.064 L28.3562 764.176 L33.8944 764.176 Q30.6797 762.075 29.0883 759.243 Q27.4968 756.378 27.4968 752.654 Q27.4968 746.511 31.3163 743.36 Q35.1038 740.209 42.4881 740.209 Z\" fill=\"#000000\" fill-rule=\"evenodd\" fill-opacity=\"1\" /><path clip-path=\"url(#clip190)\" d=\"M 0 0 M18.2347 728.273 L28.3562 728.273 L28.3562 716.21 L32.9077 716.21 L32.9077 728.273 L52.2594 728.273 Q56.6199 728.273 57.8613 727.096 Q59.1026 725.886 59.1026 722.226 L59.1026 716.21 L64.0042 716.21 L64.0042 722.226 Q64.0042 729.005 61.4897 731.584 Q58.9434 734.162 52.2594 734.162 L32.9077 734.162 L32.9077 738.458 L28.3562 738.458 L28.3562 734.162 L18.2347 734.162 L18.2347 728.273 Z\" fill=\"#000000\" fill-rule=\"evenodd\" fill-opacity=\"1\" /><path clip-path=\"url(#clip190)\" d=\"M 0 0 M28.3562 693.548 L28.3562 687.342 L58.275 676.202 L28.3562 665.062 L28.3562 658.855 L64.0042 672.223 L64.0042 680.18 L28.3562 693.548 Z\" fill=\"#000000\" fill-rule=\"evenodd\" fill-opacity=\"1\" /><path clip-path=\"url(#clip190)\" d=\"M 0 0 M28.3562 652.712 L28.3562 646.856 L64.0042 646.856 L64.0042 652.712 L28.3562 652.712 M14.479 652.712 L14.479 646.856 L21.895 646.856 L21.895 652.712 L14.479 652.712 Z\" fill=\"#000000\" fill-rule=\"evenodd\" fill-opacity=\"1\" /><path clip-path=\"url(#clip190)\" d=\"M 0 0 M32.4621 626.899 Q32.4621 631.61 36.1542 634.347 Q39.8145 637.085 46.212 637.085 Q52.6095 637.085 56.3017 634.379 Q59.9619 631.642 59.9619 626.899 Q59.9619 622.221 56.2698 619.483 Q52.5777 616.746 46.212 616.746 Q39.8781 616.746 36.186 619.483 Q32.4621 622.221 32.4621 626.899 M27.4968 626.899 Q27.4968 619.261 32.4621 614.9 Q37.4273 610.54 46.212 610.54 Q54.9649 610.54 59.9619 614.9 Q64.9272 619.261 64.9272 626.899 Q64.9272 634.57 59.9619 638.931 Q54.9649 643.259 46.212 643.259 Q37.4273 643.259 32.4621 638.931 Q27.4968 634.57 27.4968 626.899 Z\" fill=\"#000000\" fill-rule=\"evenodd\" fill-opacity=\"1\" /><path clip-path=\"url(#clip190)\" d=\"M 0 0 M14.479 604.397 L14.479 598.54 L64.0042 598.54 L64.0042 604.397 L14.479 604.397 Z\" fill=\"#000000\" fill-rule=\"evenodd\" fill-opacity=\"1\" /><path clip-path=\"url(#clip190)\" d=\"M 0 0 M46.0847 576.197 Q46.0847 583.294 47.7079 586.032 Q49.3312 588.769 53.2461 588.769 Q56.3653 588.769 58.2114 586.732 Q60.0256 584.663 60.0256 581.13 Q60.0256 576.26 56.5881 573.332 Q53.1188 570.372 47.3897 570.372 L46.0847 570.372 L46.0847 576.197 M43.6657 564.516 L64.0042 564.516 L64.0042 570.372 L58.5933 570.372 Q61.8398 572.377 63.3994 575.369 Q64.9272 578.361 64.9272 582.69 Q64.9272 588.164 61.8716 591.411 Q58.7843 594.625 53.6281 594.625 Q47.6125 594.625 44.5569 590.615 Q41.5014 586.573 41.5014 578.584 L41.5014 570.372 L40.9285 570.372 Q36.8862 570.372 34.6901 573.046 Q32.4621 575.687 32.4621 580.493 Q32.4621 583.549 33.1941 586.445 Q33.9262 589.342 35.3903 592.015 L29.9795 592.015 Q28.7381 588.801 28.1334 585.777 Q27.4968 582.753 27.4968 579.889 Q27.4968 572.154 31.5072 568.335 Q35.5176 564.516 43.6657 564.516 Z\" fill=\"#000000\" fill-rule=\"evenodd\" fill-opacity=\"1\" /><path clip-path=\"url(#clip190)\" d=\"M 0 0 M18.2347 552.58 L28.3562 552.58 L28.3562 540.517 L32.9077 540.517 L32.9077 552.58 L52.2594 552.58 Q56.6199 552.58 57.8613 551.402 Q59.1026 550.193 59.1026 546.532 L59.1026 540.517 L64.0042 540.517 L64.0042 546.532 Q64.0042 553.312 61.4897 555.89 Q58.9434 558.468 52.2594 558.468 L32.9077 558.468 L32.9077 562.765 L28.3562 562.765 L28.3562 558.468 L18.2347 558.468 L18.2347 552.58 Z\" fill=\"#000000\" fill-rule=\"evenodd\" fill-opacity=\"1\" /><path clip-path=\"url(#clip190)\" d=\"M 0 0 M28.3562 534.374 L28.3562 528.517 L64.0042 528.517 L64.0042 534.374 L28.3562 534.374 M14.479 534.374 L14.479 528.517 L21.895 528.517 L21.895 534.374 L14.479 534.374 Z\" fill=\"#000000\" fill-rule=\"evenodd\" fill-opacity=\"1\" /><path clip-path=\"url(#clip190)\" d=\"M 0 0 M32.4621 508.561 Q32.4621 513.272 36.1542 516.009 Q39.8145 518.746 46.212 518.746 Q52.6095 518.746 56.3017 516.041 Q59.9619 513.303 59.9619 508.561 Q59.9619 503.882 56.2698 501.145 Q52.5777 498.408 46.212 498.408 Q39.8781 498.408 36.186 501.145 Q32.4621 503.882 32.4621 508.561 M27.4968 508.561 Q27.4968 500.922 32.4621 496.562 Q37.4273 492.201 46.212 492.201 Q54.9649 492.201 59.9619 496.562 Q64.9272 500.922 64.9272 508.561 Q64.9272 516.232 59.9619 520.592 Q54.9649 524.921 46.212 524.921 Q37.4273 524.921 32.4621 520.592 Q27.4968 516.232 27.4968 508.561 Z\" fill=\"#000000\" fill-rule=\"evenodd\" fill-opacity=\"1\" /><path clip-path=\"url(#clip190)\" d=\"M 0 0 M42.4881 456.426 L64.0042 456.426 L64.0042 462.282 L42.679 462.282 Q37.6183 462.282 35.1038 464.256 Q32.5894 466.229 32.5894 470.176 Q32.5894 474.918 35.6131 477.655 Q38.6368 480.393 43.8567 480.393 L64.0042 480.393 L64.0042 486.281 L28.3562 486.281 L28.3562 480.393 L33.8944 480.393 Q30.6797 478.292 29.0883 475.459 Q27.4968 472.595 27.4968 468.871 Q27.4968 462.728 31.3163 459.577 Q35.1038 456.426 42.4881 456.426 Z\" fill=\"#000000\" fill-rule=\"evenodd\" fill-opacity=\"1\" /><polyline clip-path=\"url(#clip192)\" style=\"stroke:#009af9; stroke-width:4; stroke-opacity:1; fill:none\" points=\"\n",
       "  303.981,105.753 319.368,98.2195 331.953,86.1857 344.452,141.939 532.067,195.713 545.43,277.305 557.992,312.229 570.785,361.588 583.881,373.459 596.718,417.282 \n",
       "  609.495,437.43 622.3,471.54 634.65,494.696 647.231,522.461 659.856,545.632 672.542,569.891 685.006,592.169 697.638,614.436 710.506,635.748 722.979,656.79 \n",
       "  735.398,677.299 747.899,697.528 760.346,717.419 772.728,737.072 788.951,756.486 805.958,775.701 822.467,794.722 840.04,813.561 857.179,832.211 874.11,850.66 \n",
       "  977.823,868.882 991.451,886.839 1004.76,904.478 1017.87,921.73 1031.23,938.517 1044.36,954.751 1057.35,970.347 1070.66,985.233 1083.33,999.363 1096.41,1012.72 \n",
       "  1109.1,1025.35 1121.65,1037.29 1134.36,1048.63 1146.94,1059.47 1159.18,1069.89 1171.93,1079.99 1184.35,1089.85 1196.79,1099.51 1209.45,1109.02 1221.87,1118.44 \n",
       "  1234.41,1127.77 1246.71,1137.05 1259.19,1146.29 1271.77,1155.5 1284.1,1164.68 1296.71,1173.86 1385.87,1183.02 1398.57,1192.18 1410.66,1201.33 1423.45,1210.48 \n",
       "  1436.43,1219.63 1448.96,1228.77 1461.52,1237.92 1474.17,1247.06 1486.98,1256.21 1499.61,1265.35 1512.18,1274.49 1524.69,1283.64 1537.06,1292.78 1549.34,1301.93 \n",
       "  1561.67,1311.07 1574.11,1320.22 1586.74,1329.36 1599.28,1338.51 1611.66,1347.65 1624.01,1356.8 1636.52,1365.95 1648.98,1375.09 1650.96,1384.24 \n",
       "  \"/>\n",
       "<polyline clip-path=\"url(#clip192)\" style=\"stroke:#e26f46; stroke-width:4; stroke-opacity:1; fill:none\" points=\"\n",
       "  320.934,105.753 504.52,98.2195 881.951,225.326 1305.74,229.312 1546.39,230.572 1768.06,239.004 1904.25,316.042 1985.31,362.708 2135.99,430.981 2290,851.352 \n",
       "  2293.08,1217.09 \n",
       "  \"/>\n",
       "<path clip-path=\"url(#clip190)\" d=\"\n",
       "M314.589 1377.32 L853.489 1377.32 L853.489 1195.88 L314.589 1195.88  Z\n",
       "  \" fill=\"#ffffff\" fill-rule=\"evenodd\" fill-opacity=\"1\"/>\n",
       "<polyline clip-path=\"url(#clip190)\" style=\"stroke:#000000; stroke-width:4; stroke-opacity:1; fill:none\" points=\"\n",
       "  314.589,1377.32 853.489,1377.32 853.489,1195.88 314.589,1195.88 314.589,1377.32 \n",
       "  \"/>\n",
       "<polyline clip-path=\"url(#clip190)\" style=\"stroke:#009af9; stroke-width:4; stroke-opacity:1; fill:none\" points=\"\n",
       "  338.016,1256.36 478.58,1256.36 \n",
       "  \"/>\n",
       "<path clip-path=\"url(#clip190)\" d=\"M 0 0 M527.562 1268.7 L527.562 1259.42 L519.923 1259.42 L519.923 1255.58 L532.192 1255.58 L532.192 1270.42 Q529.484 1272.34 526.22 1273.33 Q522.956 1274.31 519.252 1274.31 Q511.15 1274.31 506.567 1269.58 Q502.007 1264.84 502.007 1256.39 Q502.007 1247.92 506.567 1243.2 Q511.15 1238.45 519.252 1238.45 Q522.632 1238.45 525.664 1239.28 Q528.72 1240.12 531.289 1241.74 L531.289 1246.71 Q528.697 1244.52 525.78 1243.4 Q522.863 1242.29 519.646 1242.29 Q513.303 1242.29 510.109 1245.83 Q506.937 1249.38 506.937 1256.39 Q506.937 1263.38 510.109 1266.92 Q513.303 1270.46 519.646 1270.46 Q522.123 1270.46 524.067 1270.05 Q526.011 1269.61 527.562 1268.7 Z\" fill=\"#000000\" fill-rule=\"evenodd\" fill-opacity=\"1\" /><path clip-path=\"url(#clip190)\" d=\"M 0 0 M548.442 1260.6 Q543.28 1260.6 541.289 1261.78 Q539.298 1262.96 539.298 1265.81 Q539.298 1268.08 540.78 1269.42 Q542.284 1270.74 544.854 1270.74 Q548.396 1270.74 550.525 1268.24 Q552.678 1265.72 552.678 1261.55 L552.678 1260.6 L548.442 1260.6 M556.937 1258.84 L556.937 1273.64 L552.678 1273.64 L552.678 1269.7 Q551.22 1272.06 549.044 1273.2 Q546.868 1274.31 543.72 1274.31 Q539.738 1274.31 537.377 1272.08 Q535.039 1269.84 535.039 1266.09 Q535.039 1261.71 537.956 1259.49 Q540.896 1257.27 546.706 1257.27 L552.678 1257.27 L552.678 1256.85 Q552.678 1253.91 550.734 1252.32 Q548.812 1250.7 545.317 1250.7 Q543.095 1250.7 540.988 1251.23 Q538.882 1251.76 536.937 1252.83 L536.937 1248.89 Q539.275 1247.99 541.474 1247.55 Q543.673 1247.08 545.757 1247.08 Q551.382 1247.08 554.159 1250 Q556.937 1252.92 556.937 1258.84 Z\" fill=\"#000000\" fill-rule=\"evenodd\" fill-opacity=\"1\" /><path clip-path=\"url(#clip190)\" d=\"M 0 0 M560.965 1263.4 L560.965 1247.71 L565.224 1247.71 L565.224 1263.24 Q565.224 1266.92 566.659 1268.77 Q568.095 1270.6 570.965 1270.6 Q574.414 1270.6 576.405 1268.4 Q578.419 1266.2 578.419 1262.41 L578.419 1247.71 L582.678 1247.71 L582.678 1273.64 L578.419 1273.64 L578.419 1269.65 Q576.868 1272.01 574.807 1273.17 Q572.77 1274.31 570.062 1274.31 Q565.595 1274.31 563.28 1271.53 Q560.965 1268.75 560.965 1263.4 M571.682 1247.08 L571.682 1247.08 Z\" fill=\"#000000\" fill-rule=\"evenodd\" fill-opacity=\"1\" /><path clip-path=\"url(#clip190)\" d=\"M 0 0 M603.673 1248.47 L603.673 1252.5 Q601.867 1251.58 599.923 1251.11 Q597.979 1250.65 595.895 1250.65 Q592.724 1250.65 591.127 1251.62 Q589.553 1252.59 589.553 1254.54 Q589.553 1256.02 590.687 1256.88 Q591.821 1257.71 595.247 1258.47 L596.705 1258.8 Q601.242 1259.77 603.141 1261.55 Q605.062 1263.31 605.062 1266.48 Q605.062 1270.09 602.192 1272.2 Q599.344 1274.31 594.344 1274.31 Q592.261 1274.31 589.993 1273.89 Q587.747 1273.5 585.247 1272.69 L585.247 1268.29 Q587.608 1269.51 589.9 1270.14 Q592.192 1270.74 594.437 1270.74 Q597.446 1270.74 599.067 1269.72 Q600.687 1268.68 600.687 1266.81 Q600.687 1265.07 599.506 1264.14 Q598.349 1263.22 594.391 1262.36 L592.909 1262.02 Q588.951 1261.18 587.192 1259.47 Q585.432 1257.73 585.432 1254.72 Q585.432 1251.07 588.025 1249.08 Q590.618 1247.08 595.386 1247.08 Q597.747 1247.08 599.83 1247.43 Q601.914 1247.78 603.673 1248.47 Z\" fill=\"#000000\" fill-rule=\"evenodd\" fill-opacity=\"1\" /><path clip-path=\"url(#clip190)\" d=\"M 0 0 M626.057 1248.47 L626.057 1252.5 Q624.252 1251.58 622.307 1251.11 Q620.363 1250.65 618.279 1250.65 Q615.108 1250.65 613.511 1251.62 Q611.937 1252.59 611.937 1254.54 Q611.937 1256.02 613.071 1256.88 Q614.205 1257.71 617.631 1258.47 L619.09 1258.8 Q623.627 1259.77 625.525 1261.55 Q627.446 1263.31 627.446 1266.48 Q627.446 1270.09 624.576 1272.2 Q621.728 1274.31 616.729 1274.31 Q614.645 1274.31 612.377 1273.89 Q610.131 1273.5 607.631 1272.69 L607.631 1268.29 Q609.992 1269.51 612.284 1270.14 Q614.576 1270.74 616.821 1270.74 Q619.83 1270.74 621.451 1269.72 Q623.071 1268.68 623.071 1266.81 Q623.071 1265.07 621.891 1264.14 Q620.733 1263.22 616.775 1262.36 L615.293 1262.02 Q611.335 1261.18 609.576 1259.47 Q607.817 1257.73 607.817 1254.72 Q607.817 1251.07 610.409 1249.08 Q613.002 1247.08 617.77 1247.08 Q620.131 1247.08 622.215 1247.43 Q624.298 1247.78 626.057 1248.47 Z\" fill=\"#000000\" fill-rule=\"evenodd\" fill-opacity=\"1\" /><path clip-path=\"url(#clip190)\" d=\"M 0 0 M647.168 1239.08 L653.464 1239.08 L668.788 1267.99 L668.788 1239.08 L673.325 1239.08 L673.325 1273.64 L667.029 1273.64 L651.705 1244.72 L651.705 1273.64 L647.168 1273.64 L647.168 1239.08 Z\" fill=\"#000000\" fill-rule=\"evenodd\" fill-opacity=\"1\" /><path clip-path=\"url(#clip190)\" d=\"M 0 0 M699.969 1259.61 L699.969 1261.69 L680.386 1261.69 Q680.663 1266.09 683.024 1268.4 Q685.409 1270.7 689.645 1270.7 Q692.098 1270.7 694.39 1270.09 Q696.705 1269.49 698.973 1268.29 L698.973 1272.32 Q696.682 1273.29 694.274 1273.8 Q691.867 1274.31 689.39 1274.31 Q683.186 1274.31 679.552 1270.7 Q675.941 1267.08 675.941 1260.93 Q675.941 1254.56 679.367 1250.83 Q682.816 1247.08 688.649 1247.08 Q693.881 1247.08 696.913 1250.46 Q699.969 1253.82 699.969 1259.61 M695.71 1258.36 Q695.663 1254.86 693.742 1252.78 Q691.844 1250.7 688.696 1250.7 Q685.131 1250.7 682.978 1252.71 Q680.849 1254.72 680.524 1258.38 L695.71 1258.36 Z\" fill=\"#000000\" fill-rule=\"evenodd\" fill-opacity=\"1\" /><path clip-path=\"url(#clip190)\" d=\"M 0 0 M701.96 1247.71 L706.219 1247.71 L711.543 1267.94 L716.844 1247.71 L721.867 1247.71 L727.191 1267.94 L732.492 1247.71 L736.751 1247.71 L729.969 1273.64 L724.946 1273.64 L719.367 1252.39 L713.765 1273.64 L708.742 1273.64 L701.96 1247.71 Z\" fill=\"#000000\" fill-rule=\"evenodd\" fill-opacity=\"1\" /><path clip-path=\"url(#clip190)\" d=\"M 0 0 M745.432 1240.35 L745.432 1247.71 L754.205 1247.71 L754.205 1251.02 L745.432 1251.02 L745.432 1265.09 Q745.432 1268.26 746.288 1269.17 Q747.168 1270.07 749.83 1270.07 L754.205 1270.07 L754.205 1273.64 L749.83 1273.64 Q744.899 1273.64 743.024 1271.81 Q741.149 1269.95 741.149 1265.09 L741.149 1251.02 L738.024 1251.02 L738.024 1247.71 L741.149 1247.71 L741.149 1240.35 L745.432 1240.35 Z\" fill=\"#000000\" fill-rule=\"evenodd\" fill-opacity=\"1\" /><path clip-path=\"url(#clip190)\" d=\"M 0 0 M768.718 1250.7 Q765.293 1250.7 763.302 1253.38 Q761.311 1256.04 761.311 1260.7 Q761.311 1265.35 763.279 1268.03 Q765.269 1270.7 768.718 1270.7 Q772.121 1270.7 774.112 1268.01 Q776.103 1265.33 776.103 1260.7 Q776.103 1256.09 774.112 1253.4 Q772.121 1250.7 768.718 1250.7 M768.718 1247.08 Q774.274 1247.08 777.445 1250.7 Q780.617 1254.31 780.617 1260.7 Q780.617 1267.06 777.445 1270.7 Q774.274 1274.31 768.718 1274.31 Q763.14 1274.31 759.968 1270.7 Q756.82 1267.06 756.82 1260.7 Q756.82 1254.31 759.968 1250.7 Q763.14 1247.08 768.718 1247.08 Z\" fill=\"#000000\" fill-rule=\"evenodd\" fill-opacity=\"1\" /><path clip-path=\"url(#clip190)\" d=\"M 0 0 M806.635 1257.99 L806.635 1273.64 L802.376 1273.64 L802.376 1258.13 Q802.376 1254.45 800.94 1252.62 Q799.505 1250.79 796.635 1250.79 Q793.186 1250.79 791.195 1252.99 Q789.204 1255.19 789.204 1258.98 L789.204 1273.64 L784.922 1273.64 L784.922 1247.71 L789.204 1247.71 L789.204 1251.74 Q790.732 1249.4 792.792 1248.24 Q794.876 1247.08 797.584 1247.08 Q802.052 1247.08 804.343 1249.86 Q806.635 1252.62 806.635 1257.99 Z\" fill=\"#000000\" fill-rule=\"evenodd\" fill-opacity=\"1\" /><polyline clip-path=\"url(#clip190)\" style=\"stroke:#e26f46; stroke-width:4; stroke-opacity:1; fill:none\" points=\"\n",
       "  338.016,1316.84 478.58,1316.84 \n",
       "  \"/>\n",
       "<path clip-path=\"url(#clip190)\" d=\"M 0 0 M502.007 1299.56 L521.868 1299.56 L521.868 1303.49 L506.683 1303.49 L506.683 1313.68 L520.386 1313.68 L520.386 1317.61 L506.683 1317.61 L506.683 1334.12 L502.007 1334.12 L502.007 1299.56 Z\" fill=\"#000000\" fill-rule=\"evenodd\" fill-opacity=\"1\" /><path clip-path=\"url(#clip190)\" d=\"M 0 0 M523.303 1323.88 L523.303 1308.19 L527.562 1308.19 L527.562 1323.72 Q527.562 1327.4 528.998 1329.25 Q530.433 1331.08 533.303 1331.08 Q536.752 1331.08 538.743 1328.88 Q540.757 1326.68 540.757 1322.89 L540.757 1308.19 L545.016 1308.19 L545.016 1334.12 L540.757 1334.12 L540.757 1330.13 Q539.206 1332.49 537.146 1333.65 Q535.109 1334.79 532.4 1334.79 Q527.933 1334.79 525.618 1332.01 Q523.303 1329.23 523.303 1323.88 M534.021 1307.56 L534.021 1307.56 Z\" fill=\"#000000\" fill-rule=\"evenodd\" fill-opacity=\"1\" /><path clip-path=\"url(#clip190)\" d=\"M 0 0 M549.484 1298.1 L553.743 1298.1 L553.743 1334.12 L549.484 1334.12 L549.484 1298.1 Z\" fill=\"#000000\" fill-rule=\"evenodd\" fill-opacity=\"1\" /><path clip-path=\"url(#clip190)\" d=\"M 0 0 M558.21 1298.1 L562.47 1298.1 L562.47 1334.12 L558.21 1334.12 L558.21 1298.1 Z\" fill=\"#000000\" fill-rule=\"evenodd\" fill-opacity=\"1\" /><path clip-path=\"url(#clip190)\" d=\"M 0 0 M582.192 1299.56 L588.488 1299.56 L603.812 1328.47 L603.812 1299.56 L608.349 1299.56 L608.349 1334.12 L602.053 1334.12 L586.729 1305.2 L586.729 1334.12 L582.192 1334.12 L582.192 1299.56 Z\" fill=\"#000000\" fill-rule=\"evenodd\" fill-opacity=\"1\" /><path clip-path=\"url(#clip190)\" d=\"M 0 0 M634.992 1320.09 L634.992 1322.17 L615.409 1322.17 Q615.687 1326.57 618.048 1328.88 Q620.432 1331.18 624.668 1331.18 Q627.122 1331.18 629.414 1330.57 Q631.728 1329.97 633.997 1328.77 L633.997 1332.8 Q631.705 1333.77 629.298 1334.28 Q626.891 1334.79 624.414 1334.79 Q618.21 1334.79 614.576 1331.18 Q610.965 1327.56 610.965 1321.41 Q610.965 1315.04 614.391 1311.31 Q617.84 1307.56 623.673 1307.56 Q628.904 1307.56 631.937 1310.94 Q634.992 1314.3 634.992 1320.09 M630.733 1318.84 Q630.687 1315.34 628.765 1313.26 Q626.867 1311.18 623.719 1311.18 Q620.154 1311.18 618.002 1313.19 Q615.872 1315.2 615.548 1318.86 L630.733 1318.84 Z\" fill=\"#000000\" fill-rule=\"evenodd\" fill-opacity=\"1\" /><path clip-path=\"url(#clip190)\" d=\"M 0 0 M636.983 1308.19 L641.242 1308.19 L646.566 1328.42 L651.867 1308.19 L656.89 1308.19 L662.214 1328.42 L667.515 1308.19 L671.775 1308.19 L664.992 1334.12 L659.969 1334.12 L654.39 1312.87 L648.789 1334.12 L643.765 1334.12 L636.983 1308.19 Z\" fill=\"#000000\" fill-rule=\"evenodd\" fill-opacity=\"1\" /><path clip-path=\"url(#clip190)\" d=\"M 0 0 M680.455 1300.83 L680.455 1308.19 L689.228 1308.19 L689.228 1311.5 L680.455 1311.5 L680.455 1325.57 Q680.455 1328.74 681.312 1329.65 Q682.191 1330.55 684.853 1330.55 L689.228 1330.55 L689.228 1334.12 L684.853 1334.12 Q679.923 1334.12 678.048 1332.29 Q676.173 1330.43 676.173 1325.57 L676.173 1311.5 L673.048 1311.5 L673.048 1308.19 L676.173 1308.19 L676.173 1300.83 L680.455 1300.83 Z\" fill=\"#000000\" fill-rule=\"evenodd\" fill-opacity=\"1\" /><path clip-path=\"url(#clip190)\" d=\"M 0 0 M703.742 1311.18 Q700.316 1311.18 698.325 1313.86 Q696.335 1316.52 696.335 1321.18 Q696.335 1325.83 698.302 1328.51 Q700.293 1331.18 703.742 1331.18 Q707.145 1331.18 709.135 1328.49 Q711.126 1325.81 711.126 1321.18 Q711.126 1316.57 709.135 1313.88 Q707.145 1311.18 703.742 1311.18 M703.742 1307.56 Q709.297 1307.56 712.469 1311.18 Q715.64 1314.79 715.64 1321.18 Q715.64 1327.54 712.469 1331.18 Q709.297 1334.79 703.742 1334.79 Q698.163 1334.79 694.992 1331.18 Q691.844 1327.54 691.844 1321.18 Q691.844 1314.79 694.992 1311.18 Q698.163 1307.56 703.742 1307.56 Z\" fill=\"#000000\" fill-rule=\"evenodd\" fill-opacity=\"1\" /><path clip-path=\"url(#clip190)\" d=\"M 0 0 M741.658 1318.47 L741.658 1334.12 L737.399 1334.12 L737.399 1318.61 Q737.399 1314.93 735.964 1313.1 Q734.529 1311.27 731.658 1311.27 Q728.209 1311.27 726.219 1313.47 Q724.228 1315.67 724.228 1319.46 L724.228 1334.12 L719.946 1334.12 L719.946 1308.19 L724.228 1308.19 L724.228 1312.22 Q725.756 1309.88 727.816 1308.72 Q729.899 1307.56 732.608 1307.56 Q737.075 1307.56 739.367 1310.34 Q741.658 1313.1 741.658 1318.47 Z\" fill=\"#000000\" fill-rule=\"evenodd\" fill-opacity=\"1\" /></svg>\n"
      ]
     },
     "execution_count": 36,
     "metadata": {},
     "output_type": "execute_result"
    }
   ],
   "source": [
    "# TASK: Plot constraint violation vs time\n",
    "plot(stats_gn[:time], stats_gn[:viol_primal], label=\"Gauss Newton\",\n",
    "    yscale=:log10, xlabel=\"time (ms)\", ylabel=\"Constraint violation\", legend=:bottomleft\n",
    ")\n",
    "plot!(stats_fn[:time], stats_fn[:viol_primal], label=\"Full Newton\")"
   ]
  },
  {
   "cell_type": "markdown",
   "metadata": {},
   "source": [
    "## Part (g): Track the solution with TVLQR\n",
    "Let's now use our trajectory and simulate it on a system with some model mismatch.\n",
    "\n",
    "**TASK**:\n",
    "1. Generate a TVLQR controller that tracks your optimized trajectories.\n",
    "2. Run your controller on a simulated cartpole with a cart mass of 1.1 kg instead of 1 kg. Get it to successfully stabilize. The final stabilized position doesn't have to to be at an x-position of 0. Simulate for at least 4 seconds.\n",
    "\n",
    "**TIPS**:\n",
    "1. Use code you've generated previously to build your TVLQR controller\n",
    "2. If your cartpole gets it to the top but doesn't stabilize it for the full 4 seconds, think about how you could design your controller to stabilize it..."
   ]
  },
  {
   "cell_type": "code",
   "execution_count": 114,
   "metadata": {},
   "outputs": [],
   "source": [
    "# TASK: Generate a TVLQR controller\n",
    "#       Store your controller as the variable `ctrl`\n",
    "\n",
    "# TODO: Replace this with a controller of your choice\n",
    "ctrl = NullController(model)\n",
    "\n",
    "# SOLUTION\n",
    "using ControlSystems\n",
    "\n",
    "function tvlqr(A,B,Q,R,Qf)\n",
    "    # Extract some variables\n",
    "    T = length(A)+1\n",
    "    n,m = size(B[1])\n",
    "    P = [zeros(n,n) for k = 1:T]\n",
    "    K = [zeros(m,n) for k = 1:T-1]\n",
    "    \n",
    "    P[end] .= Qf\n",
    "    for k = reverse(1:T-1) \n",
    "        K[k] .= (R + B[k]'P[k+1]*B[k])\\(B[k]'P[k+1]*A[k])\n",
    "        P[k] .= Q + A[k]'P[k+1]*A[k] - A[k]'P[k+1]*B[k]*K[k]\n",
    "    end\n",
    "    \n",
    "    return K,P\n",
    "end\n",
    "\n",
    "\"\"\"\n",
    "    LQRController\n",
    "\n",
    "A TVLQR controller that tracks the trajectory specified by `Xref` and `Uref`\n",
    "using the linear feedback gains `K`.\n",
    "\"\"\"\n",
    "struct LQRController\n",
    "    K::Vector{Matrix{Float64}}\n",
    "    Xref::Vector{Vector{Float64}}\n",
    "    Uref::Vector{Vector{Float64}}\n",
    "    times::Vector{Float64}\n",
    "end\n",
    "get_k(controller, t) = searchsortedlast(controller.times, t)\n",
    "\n",
    "function get_control(ctrl::LQRController, x, t)\n",
    "    k = get_k(ctrl, t)\n",
    "    K = ctrl.K[k]\n",
    "    return ctrl.Uref[k] - K*(x - ctrl.Xref[k])\n",
    "end\n",
    "\n",
    "# Generate A,B matrices\n",
    "Xfn,Ufn = unpackZ(nlp, Zfn)\n",
    "A = [zeros(n,n) for k = 1:T-1]\n",
    "B = [zeros(n,m) for k = 1:T-1]\n",
    "∇f = RobotDynamics.DynamicsJacobian(model)\n",
    "for k = 1:T-1\n",
    "    t = nlp.times[k]\n",
    "    dt = nlp.times[k+1] - nlp.times[k]\n",
    "    discrete_jacobian!(RK4, ∇f, model, Xfn[k], Ufn[k], t, dt)\n",
    "    A[k] .= ∇f.A\n",
    "    B[k] .= ∇f.B\n",
    "end\n",
    "\n",
    "\n",
    "Kinf = dlqr(A[end], B[end], Matrix(Q), Matrix(R))\n",
    "\n",
    "K, = tvlqr(A,B,Q,R,Qf)\n",
    "push!(K,Kinf)\n",
    "push!(Ufn,zeros(m))\n",
    "ctrl = LQRController(K, Xfn, Ufn, nlp.times);"
   ]
  },
  {
   "cell_type": "code",
   "execution_count": 54,
   "metadata": {},
   "outputs": [
    {
     "data": {
      "text/html": [
       "    <div style=\"height: 500px; width: 100%; overflow-x: auto; overflow-y: hidden; resize: both\">\n",
       "    <iframe src=\"http://127.0.0.1:8702\" style=\"width: 100%; height: 100%; border: none\"></iframe>\n",
       "    </div>\n"
      ],
      "text/plain": [
       "MeshCat.DisplayedVisualizer(MeshCat.CoreVisualizer(MeshCat.SceneTrees.SceneNode(nothing, nothing, Dict{String,Array{UInt8,1}}(), UInt8[0x83, 0xa7, 0x6f, 0x70, 0x74, 0x69, 0x6f, 0x6e, 0x73, 0x82  …  0x5f, 0x61, 0x6e, 0x69, 0x6d, 0x61, 0x74, 0x69, 0x6f, 0x6e], Dict{String,MeshCat.SceneTrees.SceneNode}(\"meshcat\" => MeshCat.SceneTrees.SceneNode(nothing, nothing, Dict{String,Array{UInt8,1}}(), nothing, Dict{String,MeshCat.SceneTrees.SceneNode}(\"robot\" => MeshCat.SceneTrees.SceneNode(nothing, nothing, Dict{String,Array{UInt8,1}}(), nothing, Dict{String,MeshCat.SceneTrees.SceneNode}(\"rod\" => MeshCat.SceneTrees.SceneNode(UInt8[0x83, 0xa6, 0x6f, 0x62, 0x6a, 0x65, 0x63, 0x74, 0x84, 0xaa  …  0x2f, 0x72, 0x6f, 0x62, 0x6f, 0x74, 0x2f, 0x72, 0x6f, 0x64], nothing, Dict{String,Array{UInt8,1}}(), nothing, Dict{String,MeshCat.SceneTrees.SceneNode}()),\"cart\" => MeshCat.SceneTrees.SceneNode(nothing, nothing, Dict{String,Array{UInt8,1}}(), nothing, Dict{String,MeshCat.SceneTrees.SceneNode}(\"pole\" => MeshCat.SceneTrees.SceneNode(nothing, UInt8[0x83, 0xa6, 0x6d, 0x61, 0x74, 0x72, 0x69, 0x78, 0xc7, 0x40  …  0x2f, 0x63, 0x61, 0x72, 0x74, 0x2f, 0x70, 0x6f, 0x6c, 0x65], Dict{String,Array{UInt8,1}}(), nothing, Dict{String,MeshCat.SceneTrees.SceneNode}(\"geom\" => MeshCat.SceneTrees.SceneNode(nothing, nothing, Dict{String,Array{UInt8,1}}(), nothing, Dict{String,MeshCat.SceneTrees.SceneNode}(\"cyl\" => MeshCat.SceneTrees.SceneNode(UInt8[0x83, 0xa6, 0x6f, 0x62, 0x6a, 0x65, 0x63, 0x74, 0x84, 0xaa  …  0x65, 0x2f, 0x67, 0x65, 0x6f, 0x6d, 0x2f, 0x63, 0x79, 0x6c], nothing, Dict{String,Array{UInt8,1}}(), nothing, Dict{String,MeshCat.SceneTrees.SceneNode}()),\"mass\" => MeshCat.SceneTrees.SceneNode(UInt8[0x83, 0xa6, 0x6f, 0x62, 0x6a, 0x65, 0x63, 0x74, 0x84, 0xaa  …  0x2f, 0x67, 0x65, 0x6f, 0x6d, 0x2f, 0x6d, 0x61, 0x73, 0x73], nothing, Dict{String,Array{UInt8,1}}(), nothing, Dict{String,MeshCat.SceneTrees.SceneNode}()))))),\"box\" => MeshCat.SceneTrees.SceneNode(UInt8[0x83, 0xa6, 0x6f, 0x62, 0x6a, 0x65, 0x63, 0x74, 0x84, 0xaa  …  0x74, 0x2f, 0x63, 0x61, 0x72, 0x74, 0x2f, 0x62, 0x6f, 0x78], nothing, Dict{String,Array{UInt8,1}}(), nothing, Dict{String,MeshCat.SceneTrees.SceneNode}()),\"hinge\" => MeshCat.SceneTrees.SceneNode(UInt8[0x83, 0xa6, 0x6f, 0x62, 0x6a, 0x65, 0x63, 0x74, 0x84, 0xaa  …  0x63, 0x61, 0x72, 0x74, 0x2f, 0x68, 0x69, 0x6e, 0x67, 0x65], nothing, Dict{String,Array{UInt8,1}}(), nothing, Dict{String,MeshCat.SceneTrees.SceneNode}()))))))))), Set(Any[WebSocket(server, \u001b[32mCONNECTED\u001b[39m)]), ip\"127.0.0.1\", 8702))"
      ]
     },
     "execution_count": 54,
     "metadata": {},
     "output_type": "execute_result"
    }
   ],
   "source": [
    "render(vis)"
   ]
  },
  {
   "cell_type": "code",
   "execution_count": 115,
   "metadata": {},
   "outputs": [
    {
     "name": "stdout",
     "output_type": "stream",
     "text": [
      "Controller ran at 9772.054388705497 Hz\n"
     ]
    }
   ],
   "source": [
    "# Simulate with a different model\n",
    "model2 = RobotZoo.Cartpole(1.1, 0.2, 0.5, 9.81)\n",
    "Xsim, Usim, tsim = simulate(model2, x0, ctrl, tf=2tf)\n",
    "visualize!(vis, model, tsim[end], Xsim)"
   ]
  }
 ],
 "metadata": {
  "kernelspec": {
   "display_name": "Julia 1.5.3",
   "language": "julia",
   "name": "julia-1.5"
  },
  "language_info": {
   "file_extension": ".jl",
   "mimetype": "application/julia",
   "name": "julia",
   "version": "1.5.3"
  }
 },
 "nbformat": 4,
 "nbformat_minor": 4
}
