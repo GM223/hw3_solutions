{
 "cells": [
  {
   "cell_type": "code",
   "execution_count": 3,
   "metadata": {},
   "outputs": [
    {
     "name": "stderr",
     "output_type": "stream",
     "text": [
      "\u001b[32m\u001b[1m  Activating\u001b[22m\u001b[39m environment at `~/Classes/16745_OptimalControl/hw3_solutions/Project.toml`\n"
     ]
    },
    {
     "data": {
      "text/plain": [
       "false"
      ]
     },
     "execution_count": 3,
     "metadata": {},
     "output_type": "execute_result"
    }
   ],
   "source": [
    "import Pkg; Pkg.activate(joinpath(@__DIR__,\"..\")); Pkg.instantiate()\n",
    "using ForwardDiff\n",
    "using Test\n",
    "using RobotZoo\n",
    "import RobotDynamics\n",
    "using LinearAlgebra\n",
    "using StaticArrays\n",
    "using SparseArrays\n",
    "using Printf\n",
    "using MeshCat\n",
    "using Plots\n",
    "using FiniteDiff\n",
    "import MathOptInterface as MOI\n",
    "using Ipopt\n",
    "using JLD2\n",
    "\n",
    "include(\"quadratic_cost.jl\")   # defines the quadratic cost function type\n",
    "include(\"q2_model.jl\")         # sets up the dynamics\n",
    "const isautograder = @isdefined autograder"
   ]
  },
  {
   "cell_type": "markdown",
   "metadata": {},
   "source": [
    "# Q1: Sequential Quadratic Programming (SQP) (50 pts)\n",
    "In this problem you'll solve the canonical cartpole swing-up problem using the classic direct collocation algorithm with Hermite-Simpson integration. \n",
    "\n",
    "### Continuous Problem\n",
    "We will be solving a trajectory optimization problem of the form:\n",
    "$$\n",
    "\\begin{aligned} \n",
    "&\\underset{x(t), u(t)}{\\text{minimize}} && J_f(x(t_f)) + \\int_{t_0}^{t_f} J(x(t), u(t)) dt \\\\\n",
    "&\\text{subject to} && \\dot{x}(t) = f(x(t), u(t), t) \\\\\n",
    "&&& x(t_0) = x_\\text{init} \\\\\n",
    "&&& x(t_f) = x_\\text{goal}\n",
    "\\end{aligned} \n",
    "$$\n",
    "\n",
    "### Hermite-Simpson Collocation\n",
    "Recall from lecture that direct collocation \"transcribes\" the continuous-time optimal control problem into a finite-dimensional nonlinear program (NLP). We will use Hermite-Simpson integration on both our dynamics and our cost function. We will split our \n",
    "cost integral into $N-1$ segments of length $h$ seconds, and approximate the cost \n",
    "over this interval using a Hermite spline:\n",
    "\n",
    "$$ \\int_{t_k}^{t_{k+1}} J\\big(x(t),u(t)\\big) dt \\approx \n",
    "\\frac{h}{6}\\bigg(\n",
    "J\\big(x(t_k), u(t_k)\\big) + \n",
    "4 J\\big(x(t_k + h/2), u(t_k + h/2)\\big) + \n",
    "J\\big(x(t_k + h), u(t_k + h)\\big) \\bigg) $$\n",
    "\n",
    "where we calculate the state at the midpoint with:\n",
    "$$ x(t_k + h/2) = x_m = \\frac{1}{2} \\big(x_1 + x_2 \\big) + \n",
    "\\frac{h}{8}\\big(f(x_k, u_k, t_k) - f(x_{k+1}, u_{k+1}, t_{k+1}) \\big) $$\n",
    "\n",
    "and we use first-order-hold on the controls:\n",
    "$$ u(t_k + h/2) = u_m = \\frac{1}{2} \\big( u_1 + u_2 \\big) $$\n",
    "\n",
    "For our dynamics constraint, we use implicit integration with the same Hermite spline:\n",
    "$$ \\frac{h}{6} \\big(f(x_k,u_k,t_k) + 4f(x_m,u_m,t_m) + f(x_{k+1}, u_{k+1}, t_{k+1}) \\big) + x_k - x_{k+1} = 0 $$\n",
    "\n",
    "### Discrete Problem\n",
    "The resulting NLP has the following form:\n",
    "$$\n",
    "\\begin{aligned} \n",
    "&\\underset{x_{1:N}, u_{1:N}}{\\text{minimize}} && J_f(x_N) + \n",
    "\\sum_{k=1}^{N-1} \\frac{h}{6}(J(x_k,u_k) + 4J(x_m,u_m) + J(x_{k+1}, u_{k+1}))  \\\\\n",
    "&\\text{subject to} && \\frac{h}{6} \\big(f(x_k,u_k,t_k) + 4f(x_m,u_m,t_m) + f(x_{k+1}, u_{k+1}, t_{k+1}) \\big) + x_k - x_{k+1} = 0 \\\\\n",
    "&&& x_1 = x_\\text{init} \\\\\n",
    "&&& x_N = x_\\text{goal}\n",
    "\\end{aligned} \n",
    "$$\n",
    "\n",
    "Note that the state midpoint is really a function of the states and controls at the surrounding knot points: $x_m(x_k, u_k, x_{k+1}, u_{k+1}, t_k, h)$ and the control at the midpoint is a function of the previous and next and control values: $u_m(u_k, u_{k+1})$. You will need differentiate through these splines using the chain rule to generate the methods we need to solve our NLP.\n",
    "\n",
    "### Solving the Problem\n",
    "To make things easier, we'll use Ipopt to solve our NLP, but you'll still need to define the functions we pass to Ipopt. Ipopt expects a problem of the following form:\n",
    "\n",
    "$$\n",
    "\\begin{aligned} \n",
    "&\\underset{x}{\\text{minimize}} && f(x) \\\\\n",
    "&\\text{subject to} && l \\leq c(x) \\leq u\\\\\n",
    "\\end{aligned} \n",
    "$$\n",
    "\n",
    "Since our problem only has equality constraints, our upper and lower bounds $u$ and $l$ will both be zero. Ipopt requires that we specify analytical functions that evaluate $\\nabla f$ and $\\nabla c$. For best performance, the function evaluating the constraint Jacobian typically only evaluates the nonzero elements. To make things simple, we treat the Jacobian as dense. \n",
    "\n",
    "This homework problem will give you valuable experience in setting up the optimization problems in a way that can be passed to off-the-shelf NLP solvers like Ipopt.\n",
    "\n",
    "## The Problem\n",
    "You likely have already seen the cartpole swing-up problem previously.The system is comprised of a pendulum attached to a cart, where forces can only be applied to the cart. The goal is to balance the pendulum above the cart. The system dynamics can be written as:\n",
    "\n",
    "$$ x = \\begin{bmatrix} y \\\\ \\theta \\\\ v \\\\ \\omega \\end{bmatrix}, \\quad \\dot{x} = \\begin{bmatrix} \\dot{q} \\\\ \\ddot{q} \\end{bmatrix}, \\quad\n",
    "q = \\begin{bmatrix} y \\\\ \\theta \\end{bmatrix}, \\quad\n",
    "\\ddot{q} = -H^{-1} (C \\dot{q} + G - B u)$$\n",
    "\n",
    "where \n",
    "$$ H = \\begin{bmatrix} m_c + m_p & m_p l \\cos{\\theta} \\\\\n",
    "m_p l \\cos{\\theta} & m_p l^2 \\end{bmatrix}, \\;\n",
    "C = \\begin{bmatrix} 0 & -m_p \\omega l \\sin{\\theta} \\\\ 0 & 0 \\end{bmatrix}, \\;\n",
    "G = \\begin{bmatrix} 0 \\\\ m_p g l \\sin{\\theta} \\end{bmatrix}, \\;\n",
    "B = \\begin{bmatrix} 1 \\\\ 0 \\end{bmatrix} $$\n",
    "\n",
    "with the following parameters:\n",
    "* $m_p$: mass of the pole\n",
    "* $m_c$: mass of the cart\n",
    "* $g$: gravity\n",
    "* $l$: length of the rod\n",
    "\n",
    "Our goal is to move the cart in a way that we get the pendulum to swing from the downward position (`[0,0,0,0]`) to an upright position (`[0,pi,0,0]`).\n",
    "\n",
    "We've encapsulated all of the problem information into a `struct` for convenience (and to avoid polluting our global workspace with uncessary global variables). \n",
    "\n",
    "\n",
    "## Developing in External Editor\n",
    "All of the methods you need to implement in this problem are in external Julia files.\n",
    "Feel free to use a text editor / IDE of your choice (the Julia VSCode extension is the IDE recommended by the Julia community) to write and test these methods. You can use the `q2.jl` script to run the code, which includes tests that are identical to those in this notebook. We will be running the notebooks for for the autograder, so before you submit make sure this notebook runs as expected and passes the tests (or run `test/runtests.jl` which will run the autograder)."
   ]
  },
  {
   "cell_type": "code",
   "execution_count": 4,
   "metadata": {},
   "outputs": [
    {
     "data": {
      "text/plain": [
       "get_initial_trajectory"
      ]
     },
     "execution_count": 4,
     "metadata": {},
     "output_type": "execute_result"
    }
   ],
   "source": [
    "include(\"q2_prob.jl\")  # Defines a struct containing all of the problem information"
   ]
  },
  {
   "cell_type": "code",
   "execution_count": 5,
   "metadata": {},
   "outputs": [],
   "source": [
    "prob = CartpoleProblem();"
   ]
  },
  {
   "cell_type": "code",
   "execution_count": 6,
   "metadata": {},
   "outputs": [
    {
     "name": "stderr",
     "output_type": "stream",
     "text": [
      "┌ Info: MeshCat server started. You can open the visualizer by visiting the following URL in your browser:\n",
      "│ http://127.0.0.1:8700\n",
      "└ @ MeshCat /home/brian/.julia/packages/MeshCat/Ax8pH/src/visualizer.jl:73\n"
     ]
    },
    {
     "data": {
      "text/html": [
       "    <div style=\"height: 500px; width: 100%; overflow-x: auto; overflow-y: hidden; resize: both\">\n",
       "    <iframe src=\"http://127.0.0.1:8700\" style=\"width: 100%; height: 100%; border: none\"></iframe>\n",
       "    </div>\n"
      ],
      "text/plain": [
       "MeshCat.DisplayedVisualizer(MeshCat.CoreVisualizer(MeshCat.SceneTrees.SceneNode(nothing, nothing, Dict{String, Vector{UInt8}}(), nothing, Dict{String, MeshCat.SceneTrees.SceneNode}(\"meshcat\" => MeshCat.SceneTrees.SceneNode(nothing, nothing, Dict{String, Vector{UInt8}}(), nothing, Dict{String, MeshCat.SceneTrees.SceneNode}(\"robot\" => MeshCat.SceneTrees.SceneNode(nothing, nothing, Dict{String, Vector{UInt8}}(), nothing, Dict{String, MeshCat.SceneTrees.SceneNode}(\"rod\" => MeshCat.SceneTrees.SceneNode(UInt8[0x83, 0xa6, 0x6f, 0x62, 0x6a, 0x65, 0x63, 0x74, 0x84, 0xaa  …  0x2f, 0x72, 0x6f, 0x62, 0x6f, 0x74, 0x2f, 0x72, 0x6f, 0x64], nothing, Dict{String, Vector{UInt8}}(), nothing, Dict{String, MeshCat.SceneTrees.SceneNode}()), \"cart\" => MeshCat.SceneTrees.SceneNode(nothing, nothing, Dict{String, Vector{UInt8}}(), nothing, Dict{String, MeshCat.SceneTrees.SceneNode}(\"pole\" => MeshCat.SceneTrees.SceneNode(nothing, UInt8[0x83, 0xa6, 0x6d, 0x61, 0x74, 0x72, 0x69, 0x78, 0xc7, 0x40  …  0x2f, 0x63, 0x61, 0x72, 0x74, 0x2f, 0x70, 0x6f, 0x6c, 0x65], Dict{String, Vector{UInt8}}(), nothing, Dict{String, MeshCat.SceneTrees.SceneNode}(\"geom\" => MeshCat.SceneTrees.SceneNode(nothing, nothing, Dict{String, Vector{UInt8}}(), nothing, Dict{String, MeshCat.SceneTrees.SceneNode}(\"cyl\" => MeshCat.SceneTrees.SceneNode(UInt8[0x83, 0xa6, 0x6f, 0x62, 0x6a, 0x65, 0x63, 0x74, 0x84, 0xaa  …  0x65, 0x2f, 0x67, 0x65, 0x6f, 0x6d, 0x2f, 0x63, 0x79, 0x6c], nothing, Dict{String, Vector{UInt8}}(), nothing, Dict{String, MeshCat.SceneTrees.SceneNode}()), \"mass\" => MeshCat.SceneTrees.SceneNode(UInt8[0x83, 0xa6, 0x6f, 0x62, 0x6a, 0x65, 0x63, 0x74, 0x84, 0xaa  …  0x2f, 0x67, 0x65, 0x6f, 0x6d, 0x2f, 0x6d, 0x61, 0x73, 0x73], nothing, Dict{String, Vector{UInt8}}(), nothing, Dict{String, MeshCat.SceneTrees.SceneNode}()))))), \"box\" => MeshCat.SceneTrees.SceneNode(UInt8[0x83, 0xa6, 0x6f, 0x62, 0x6a, 0x65, 0x63, 0x74, 0x84, 0xaa  …  0x74, 0x2f, 0x63, 0x61, 0x72, 0x74, 0x2f, 0x62, 0x6f, 0x78], nothing, Dict{String, Vector{UInt8}}(), nothing, Dict{String, MeshCat.SceneTrees.SceneNode}()), \"hinge\" => MeshCat.SceneTrees.SceneNode(UInt8[0x83, 0xa6, 0x6f, 0x62, 0x6a, 0x65, 0x63, 0x74, 0x84, 0xaa  …  0x63, 0x61, 0x72, 0x74, 0x2f, 0x68, 0x69, 0x6e, 0x67, 0x65], nothing, Dict{String, Vector{UInt8}}(), nothing, Dict{String, MeshCat.SceneTrees.SceneNode}()))))))))), Set{Any}(), ip\"127.0.0.1\", 8700))"
      ]
     },
     "execution_count": 6,
     "metadata": {},
     "output_type": "execute_result"
    }
   ],
   "source": [
    "let model = prob.model\n",
    "    isautograder && return\n",
    "    global vis = Visualizer()\n",
    "    set_mesh!(vis, model)\n",
    "    render(vis)\n",
    "end"
   ]
  },
  {
   "cell_type": "code",
   "execution_count": 7,
   "metadata": {},
   "outputs": [],
   "source": [
    "let X = get_initial_trajectory(prob)[1]\n",
    "    isautograder || visualize!(vis, prob.model, prob.tf, X)\n",
    "end"
   ]
  },
  {
   "cell_type": "markdown",
   "metadata": {},
   "source": [
    "## Part (a): Write Cost Functions (15 pts)\n",
    "Our first task will be to write methods to evaluate our objective / cost function. We first create a `struct` that will be responsible for evaluating all the functions we need to pass to Ipopt."
   ]
  },
  {
   "cell_type": "code",
   "execution_count": 8,
   "metadata": {},
   "outputs": [
    {
     "data": {
      "text/plain": [
       "unpackZ"
      ]
     },
     "execution_count": 8,
     "metadata": {},
     "output_type": "execute_result"
    }
   ],
   "source": [
    "include(\"q2_nlp.jl\")"
   ]
  },
  {
   "cell_type": "code",
   "execution_count": 9,
   "metadata": {},
   "outputs": [
    {
     "name": "stdout",
     "output_type": "stream",
     "text": [
      "search: \u001b[0m\u001b[1mN\u001b[22m\u001b[0m\u001b[1mL\u001b[22m\u001b[0m\u001b[1mP\u001b[22m \u001b[0m\u001b[1mn\u001b[22mu\u001b[0m\u001b[1ml\u001b[22mls\u001b[0m\u001b[1mp\u001b[22mace Tria\u001b[0m\u001b[1mn\u001b[22mg\u001b[0m\u001b[1ml\u001b[22me\u001b[0m\u001b[1mP\u001b[22m Li\u001b[0m\u001b[1mn\u001b[22me\u001b[0m\u001b[1mL\u001b[22moo\u001b[0m\u001b[1mp\u001b[22m seque\u001b[0m\u001b[1mn\u001b[22mtia\u001b[0m\u001b[1ml\u001b[22m_\u001b[0m\u001b[1mp\u001b[22malette i\u001b[0m\u001b[1mn\u001b[22mc\u001b[0m\u001b[1ml\u001b[22mude_de\u001b[0m\u001b[1mp\u001b[22mendency\n",
      "\n"
     ]
    },
    {
     "data": {
      "text/latex": [
       "\\begin{verbatim}\n",
       "NLP{n,m,L,Q}\n",
       "\\end{verbatim}\n",
       "Represents a (N)on(L)inear (P)rogram of a trajectory optimization problem, with a dynamics model of type \\texttt{L}, a quadratic cost function, horizon \\texttt{T},  and initial and final state \\texttt{x0}, \\texttt{xf}.\n",
       "\n",
       "The kth state and control can be extracted from the concatenated state vector \\texttt{Z} using \\texttt{Z[nlp.xinds[k]]}, and \\texttt{Z[nlp.uinds[k]]}.\n",
       "\n",
       "\\section{Constructor}\n",
       "\\begin{verbatim}\n",
       "NLP(model, obj, tf, T, x0, xf, [integration])\n",
       "\\end{verbatim}\n",
       "\\section{Basic Methods}\n",
       "\\begin{verbatim}\n",
       "Base.size(nlp)    # returns (n,m,T)\n",
       "num_ineq(nlp)     # number of inequality constraints\n",
       "num_eq(nlp)       # number of equality constraints\n",
       "num_primals(nlp)  # number of primal variables\n",
       "num_duals(nlp)    # total number of dual variables\n",
       "packZ(nlp, X, U)  # Stacks state `X` and controls `U` into one vector `Z`\n",
       "\\end{verbatim}\n",
       "\\section{Evaluating the NLP}\n",
       "The NLP supports the following API for evaluating various pieces of the NLP:\n",
       "\n",
       "\\begin{verbatim}\n",
       "eval_f(nlp, Z)         # evaluate the objective\n",
       "grad_f!(nlp, grad, Z)  # gradient of the objective\n",
       "hess_f!(nlp, hess, Z)  # Hessian of the objective\n",
       "eval_c!(nlp, c, Z)     # evaluate the constraints\n",
       "jac_c!(nlp, c, Z)      # constraint Jacobian\n",
       "\\end{verbatim}\n"
      ],
      "text/markdown": [
       "```\n",
       "NLP{n,m,L,Q}\n",
       "```\n",
       "\n",
       "Represents a (N)on(L)inear (P)rogram of a trajectory optimization problem, with a dynamics model of type `L`, a quadratic cost function, horizon `T`,  and initial and final state `x0`, `xf`.\n",
       "\n",
       "The kth state and control can be extracted from the concatenated state vector `Z` using `Z[nlp.xinds[k]]`, and `Z[nlp.uinds[k]]`.\n",
       "\n",
       "# Constructor\n",
       "\n",
       "```\n",
       "NLP(model, obj, tf, T, x0, xf, [integration])\n",
       "```\n",
       "\n",
       "# Basic Methods\n",
       "\n",
       "```\n",
       "Base.size(nlp)    # returns (n,m,T)\n",
       "num_ineq(nlp)     # number of inequality constraints\n",
       "num_eq(nlp)       # number of equality constraints\n",
       "num_primals(nlp)  # number of primal variables\n",
       "num_duals(nlp)    # total number of dual variables\n",
       "packZ(nlp, X, U)  # Stacks state `X` and controls `U` into one vector `Z`\n",
       "```\n",
       "\n",
       "# Evaluating the NLP\n",
       "\n",
       "The NLP supports the following API for evaluating various pieces of the NLP:\n",
       "\n",
       "```\n",
       "eval_f(nlp, Z)         # evaluate the objective\n",
       "grad_f!(nlp, grad, Z)  # gradient of the objective\n",
       "hess_f!(nlp, hess, Z)  # Hessian of the objective\n",
       "eval_c!(nlp, c, Z)     # evaluate the constraints\n",
       "jac_c!(nlp, c, Z)      # constraint Jacobian\n",
       "```\n"
      ],
      "text/plain": [
       "\u001b[36m  NLP{n,m,L,Q}\u001b[39m\n",
       "\n",
       "  Represents a (N)on(L)inear (P)rogram of a trajectory optimization problem,\n",
       "  with a dynamics model of type \u001b[36mL\u001b[39m, a quadratic cost function, horizon \u001b[36mT\u001b[39m, and\n",
       "  initial and final state \u001b[36mx0\u001b[39m, \u001b[36mxf\u001b[39m.\n",
       "\n",
       "  The kth state and control can be extracted from the concatenated state\n",
       "  vector \u001b[36mZ\u001b[39m using \u001b[36mZ[nlp.xinds[k]]\u001b[39m, and \u001b[36mZ[nlp.uinds[k]]\u001b[39m.\n",
       "\n",
       "\u001b[1m  Constructor\u001b[22m\n",
       "\u001b[1m  ≡≡≡≡≡≡≡≡≡≡≡≡≡\u001b[22m\n",
       "\n",
       "\u001b[36m  NLP(model, obj, tf, T, x0, xf, [integration])\u001b[39m\n",
       "\n",
       "\u001b[1m  Basic Methods\u001b[22m\n",
       "\u001b[1m  ≡≡≡≡≡≡≡≡≡≡≡≡≡≡≡\u001b[22m\n",
       "\n",
       "\u001b[36m  Base.size(nlp)    # returns (n,m,T)\u001b[39m\n",
       "\u001b[36m  num_ineq(nlp)     # number of inequality constraints\u001b[39m\n",
       "\u001b[36m  num_eq(nlp)       # number of equality constraints\u001b[39m\n",
       "\u001b[36m  num_primals(nlp)  # number of primal variables\u001b[39m\n",
       "\u001b[36m  num_duals(nlp)    # total number of dual variables\u001b[39m\n",
       "\u001b[36m  packZ(nlp, X, U)  # Stacks state `X` and controls `U` into one vector `Z`\u001b[39m\n",
       "\n",
       "\u001b[1m  Evaluating the NLP\u001b[22m\n",
       "\u001b[1m  ≡≡≡≡≡≡≡≡≡≡≡≡≡≡≡≡≡≡≡≡\u001b[22m\n",
       "\n",
       "  The NLP supports the following API for evaluating various pieces of the NLP:\n",
       "\n",
       "\u001b[36m  eval_f(nlp, Z)         # evaluate the objective\u001b[39m\n",
       "\u001b[36m  grad_f!(nlp, grad, Z)  # gradient of the objective\u001b[39m\n",
       "\u001b[36m  hess_f!(nlp, hess, Z)  # Hessian of the objective\u001b[39m\n",
       "\u001b[36m  eval_c!(nlp, c, Z)     # evaluate the constraints\u001b[39m\n",
       "\u001b[36m  jac_c!(nlp, c, Z)      # constraint Jacobian\u001b[39m"
      ]
     },
     "execution_count": 9,
     "metadata": {},
     "output_type": "execute_result"
    }
   ],
   "source": [
    "?NLP"
   ]
  },
  {
   "cell_type": "markdown",
   "metadata": {},
   "source": [
    "### Useful Examples\n",
    "You may find the following code snippets helpful as you complete the methods for the NLP."
   ]
  },
  {
   "cell_type": "code",
   "execution_count": 10,
   "metadata": {},
   "outputs": [],
   "source": [
    "let\n",
    "    # Create NLP\n",
    "    nlp = NLP(prob)\n",
    "\n",
    "    # Create a vector of all states and controls\n",
    "    X,U = get_initial_trajectory(prob)\n",
    "    Z = packZ(nlp, X, U)\n",
    "\n",
    "    # Unpack into states and vectors\n",
    "    X2, U2 = unpackZ(nlp, Z)\n",
    "\n",
    "    # Get kth state, control\n",
    "    k = 10\n",
    "    x = Z[nlp.xinds[k]]\n",
    "    u = Z[nlp.uinds[k]]\n",
    "\n",
    "    # Dynamics\n",
    "    t = nlp.times[k]\n",
    "    dt = nlp.times[k+1] - nlp.times[k]\n",
    "    dynamics(nlp.model, x, u, t)\n",
    "\n",
    "    # Dynamics Jacobian\n",
    "    A,B = dynamics_jacobians(nlp.model, x, u, t);\n",
    "end;"
   ]
  },
  {
   "cell_type": "markdown",
   "metadata": {},
   "source": [
    "## Objective\n",
    "**TASK** Finish the following methods defined in this file included in the cell below:\n",
    "- `eval_f` (5 pts)\n",
    "- `grad_f!` (10 pts)\n",
    "\n",
    "The docstrings for these function are printed below. You will be graded on the number of function and Jacobian evaluations you use. You should avoid unnecessary dynamics and dynamics Jacobian evaluations. You should only need a maximum `N + (N-1)` evaluations each of the dynamics and dynamics Jacobians for each function.\n",
    "\n",
    "**TIP**: You may find it helpful to define some helper function that evaluate all of the terms you need upfront. We've provided some example starter code in `q2_dynamics.jl`. Feel free to include that file and modify as needed. You can also add fields to the `NLP` struct if you feel the need (the TA's solution uses the provided fields)."
   ]
  },
  {
   "cell_type": "code",
   "execution_count": 11,
   "metadata": {},
   "outputs": [
    {
     "data": {
      "text/plain": [
       "grad_f!"
      ]
     },
     "execution_count": 11,
     "metadata": {},
     "output_type": "execute_result"
    }
   ],
   "source": [
    "include(\"q2_cost_methods.jl\")"
   ]
  },
  {
   "cell_type": "code",
   "execution_count": 12,
   "metadata": {},
   "outputs": [
    {
     "name": "stdout",
     "output_type": "stream",
     "text": [
      "search: \u001b[0m\u001b[1me\u001b[22m\u001b[0m\u001b[1mv\u001b[22m\u001b[0m\u001b[1ma\u001b[22m\u001b[0m\u001b[1ml\u001b[22m\u001b[0m\u001b[1m_\u001b[22m\u001b[0m\u001b[1mf\u001b[22m\n",
      "\n"
     ]
    },
    {
     "data": {
      "text/latex": [
       "\\begin{verbatim}\n",
       "eval_f(nlp, Z)\n",
       "\\end{verbatim}\n",
       "Evaluate the objective, returning a scalar. The continuous time objective is of the form:\n",
       "\n",
       "$$\\int_{t0}^{tf} \\ell(x(t), u(t)) dt $$\n",
       "You need to approximate this with an integral of the form:\n",
       "\n",
       "$$\\sum_{k=1}^{N-1} \\frac{h}{6}(\\ell(x_k,u_k) + 4\\ell(x_m, u_m) + \\ell(x_{k+1}, u_{k+1}))$$\n",
       "where\n",
       "\n",
       "$$x_m = \\frac{1}{2} (x_1 + x_2) + \\frac{h}{8}(f(x_1, u_1, t) - f(x_2, u_2, t + h))$$\n",
       "and\n",
       "\n",
       "$$u_m = \\frac{1}{2} (u_1 + u_2)$$\n"
      ],
      "text/markdown": [
       "```\n",
       "eval_f(nlp, Z)\n",
       "```\n",
       "\n",
       "Evaluate the objective, returning a scalar. The continuous time objective is of the form:\n",
       "\n",
       "$$\n",
       "\\int_{t0}^{tf} \\ell(x(t), u(t)) dt \n",
       "$$\n",
       "\n",
       "You need to approximate this with an integral of the form:\n",
       "\n",
       "$$\n",
       "\\sum_{k=1}^{N-1} \\frac{h}{6}(\\ell(x_k,u_k) + 4\\ell(x_m, u_m) + \\ell(x_{k+1}, u_{k+1}))\n",
       "$$\n",
       "\n",
       "where\n",
       "\n",
       "$$\n",
       "x_m = \\frac{1}{2} (x_1 + x_2) + \\frac{h}{8}(f(x_1, u_1, t) - f(x_2, u_2, t + h))\n",
       "$$\n",
       "\n",
       "and\n",
       "\n",
       "$$\n",
       "u_m = \\frac{1}{2} (u_1 + u_2)\n",
       "$$\n"
      ],
      "text/plain": [
       "\u001b[36m  eval_f(nlp, Z)\u001b[39m\n",
       "\n",
       "  Evaluate the objective, returning a scalar. The continuous time objective is\n",
       "  of the form:\n",
       "\n",
       "\u001b[35m  \\int_{t0}^{tf} \\ell(x(t), u(t)) dt \u001b[39m\n",
       "\n",
       "  You need to approximate this with an integral of the form:\n",
       "\n",
       "\u001b[35m  \\sum_{k=1}^{N-1} \\frac{h}{6}(\\ell(x_k,u_k) + 4\\ell(x_m, u_m) + \\ell(x_{k+1}, u_{k+1}))\u001b[39m\n",
       "\n",
       "  where\n",
       "\n",
       "\u001b[35m  x_m = \\frac{1}{2} (x_1 + x_2) + \\frac{h}{8}(f(x_1, u_1, t) - f(x_2, u_2, t + h))\u001b[39m\n",
       "\n",
       "  and\n",
       "\n",
       "\u001b[35m  u_m = \\frac{1}{2} (u_1 + u_2)\u001b[39m"
      ]
     },
     "execution_count": 12,
     "metadata": {},
     "output_type": "execute_result"
    }
   ],
   "source": [
    "?eval_f"
   ]
  },
  {
   "cell_type": "code",
   "execution_count": 13,
   "metadata": {},
   "outputs": [
    {
     "name": "stdout",
     "output_type": "stream",
     "text": [
      "search: \u001b[0m\u001b[1mg\u001b[22m\u001b[0m\u001b[1mr\u001b[22m\u001b[0m\u001b[1ma\u001b[22m\u001b[0m\u001b[1md\u001b[22m\u001b[0m\u001b[1m_\u001b[22m\u001b[0m\u001b[1mf\u001b[22m\u001b[0m\u001b[1m!\u001b[22m\n",
      "\n"
     ]
    },
    {
     "data": {
      "text/latex": [
       "\\begin{verbatim}\n",
       "grad_f!(nlp, grad, Z)\n",
       "\\end{verbatim}\n",
       "Evaluate the gradient of the objective at \\texttt{Z}, storing the result in \\texttt{grad}.\n",
       "\n"
      ],
      "text/markdown": [
       "```\n",
       "grad_f!(nlp, grad, Z)\n",
       "```\n",
       "\n",
       "Evaluate the gradient of the objective at `Z`, storing the result in `grad`.\n"
      ],
      "text/plain": [
       "\u001b[36m  grad_f!(nlp, grad, Z)\u001b[39m\n",
       "\n",
       "  Evaluate the gradient of the objective at \u001b[36mZ\u001b[39m, storing the result in \u001b[36mgrad\u001b[39m."
      ]
     },
     "execution_count": 13,
     "metadata": {},
     "output_type": "execute_result"
    }
   ],
   "source": [
    "?grad_f!"
   ]
  },
  {
   "cell_type": "code",
   "execution_count": 36,
   "metadata": {},
   "outputs": [
    {
     "name": "stdout",
     "output_type": "stream",
     "text": [
      "eval_f: \u001b[91m\u001b[1mTest Failed\u001b[22m\u001b[39m at \u001b[39m\u001b[1mIn[36]:9\u001b[22m\n",
      "  Expression: ≈(eval_f(nlp, Z), 0.22766546346850902, atol = 1.0e-6)\n",
      "   Evaluated: NaN ≈ 0.22766546346850902 (atol=1.0e-6)\n",
      "Stacktrace:\n",
      " [1] \u001b[0m\u001b[1mmacro expansion\u001b[22m\n",
      "\u001b[90m   @ \u001b[39m\u001b[90;4mIn[36]:9\u001b[0m\u001b[90m [inlined]\u001b[39m\n",
      " [2] \u001b[0m\u001b[1mmacro expansion\u001b[22m\n",
      "\u001b[90m   @ \u001b[39m\u001b[90m/buildworker/worker/package_linux64/build/usr/share/julia/stdlib/v1.6/Test/src/\u001b[39m\u001b[90;4mTest.jl:1151\u001b[0m\u001b[90m [inlined]\u001b[39m\n",
      " [3] \u001b[0m\u001b[1mmacro expansion\u001b[22m\n",
      "\u001b[90m   @ \u001b[39m\u001b[90;4mIn[36]:9\u001b[0m\u001b[90m [inlined]\u001b[39m\n",
      " [4] \u001b[0m\u001b[1mmacro expansion\u001b[22m\n",
      "\u001b[90m   @ \u001b[39m\u001b[90m/buildworker/worker/package_linux64/build/usr/share/julia/stdlib/v1.6/Test/src/\u001b[39m\u001b[90;4mTest.jl:1151\u001b[0m\u001b[90m [inlined]\u001b[39m\n",
      " [5] top-level scope\n",
      "\u001b[90m   @ \u001b[39m\u001b[90;4mIn[36]:2\u001b[0m\n",
      "eval_f: \u001b[91m\u001b[1mTest Failed\u001b[22m\u001b[39m at \u001b[39m\u001b[1mIn[36]:11\u001b[22m\n",
      "  Expression: 200 <= devals <= 201\n",
      "   Evaluated: 200 <= 0 <= 201\n",
      "Stacktrace:\n",
      " [1] \u001b[0m\u001b[1mmacro expansion\u001b[22m\n",
      "\u001b[90m   @ \u001b[39m\u001b[90;4mIn[36]:11\u001b[0m\u001b[90m [inlined]\u001b[39m\n",
      " [2] \u001b[0m\u001b[1mmacro expansion\u001b[22m\n",
      "\u001b[90m   @ \u001b[39m\u001b[90m/buildworker/worker/package_linux64/build/usr/share/julia/stdlib/v1.6/Test/src/\u001b[39m\u001b[90;4mTest.jl:1151\u001b[0m\u001b[90m [inlined]\u001b[39m\n",
      " [3] \u001b[0m\u001b[1mmacro expansion\u001b[22m\n",
      "\u001b[90m   @ \u001b[39m\u001b[90;4mIn[36]:9\u001b[0m\u001b[90m [inlined]\u001b[39m\n",
      " [4] \u001b[0m\u001b[1mmacro expansion\u001b[22m\n",
      "\u001b[90m   @ \u001b[39m\u001b[90m/buildworker/worker/package_linux64/build/usr/share/julia/stdlib/v1.6/Test/src/\u001b[39m\u001b[90;4mTest.jl:1151\u001b[0m\u001b[90m [inlined]\u001b[39m\n",
      " [5] top-level scope\n",
      "\u001b[90m   @ \u001b[39m\u001b[90;4mIn[36]:2\u001b[0m\n",
      "grad_f: \u001b[91m\u001b[1mTest Failed\u001b[22m\u001b[39m at \u001b[39m\u001b[1mIn[36]:20\u001b[22m\n",
      "  Expression: 200 <= devals <= 201\n",
      "   Evaluated: 200 <= 0 <= 201\n",
      "Stacktrace:\n",
      " [1] \u001b[0m\u001b[1mmacro expansion\u001b[22m\n",
      "\u001b[90m   @ \u001b[39m\u001b[90;4mIn[36]:20\u001b[0m\u001b[90m [inlined]\u001b[39m\n",
      " [2] \u001b[0m\u001b[1mmacro expansion\u001b[22m\n",
      "\u001b[90m   @ \u001b[39m\u001b[90m/buildworker/worker/package_linux64/build/usr/share/julia/stdlib/v1.6/Test/src/\u001b[39m\u001b[90;4mTest.jl:1151\u001b[0m\u001b[90m [inlined]\u001b[39m\n",
      " [3] \u001b[0m\u001b[1mmacro expansion\u001b[22m\n",
      "\u001b[90m   @ \u001b[39m\u001b[90;4mIn[36]:16\u001b[0m\u001b[90m [inlined]\u001b[39m\n",
      " [4] \u001b[0m\u001b[1mmacro expansion\u001b[22m\n",
      "\u001b[90m   @ \u001b[39m\u001b[90m/buildworker/worker/package_linux64/build/usr/share/julia/stdlib/v1.6/Test/src/\u001b[39m\u001b[90;4mTest.jl:1151\u001b[0m\u001b[90m [inlined]\u001b[39m\n",
      " [5] top-level scope\n",
      "\u001b[90m   @ \u001b[39m\u001b[90;4mIn[36]:2\u001b[0m\n",
      "grad_f: \u001b[91m\u001b[1mTest Failed\u001b[22m\u001b[39m at \u001b[39m\u001b[1mIn[36]:21\u001b[22m\n",
      "  Expression: 200 <= jevals <= 201\n",
      "   Evaluated: 200 <= 0 <= 201\n",
      "Stacktrace:\n",
      " [1] \u001b[0m\u001b[1mmacro expansion\u001b[22m\n",
      "\u001b[90m   @ \u001b[39m\u001b[90;4mIn[36]:21\u001b[0m\u001b[90m [inlined]\u001b[39m\n",
      " [2] \u001b[0m\u001b[1mmacro expansion\u001b[22m\n",
      "\u001b[90m   @ \u001b[39m\u001b[90m/buildworker/worker/package_linux64/build/usr/share/julia/stdlib/v1.6/Test/src/\u001b[39m\u001b[90;4mTest.jl:1151\u001b[0m\u001b[90m [inlined]\u001b[39m\n",
      " [3] \u001b[0m\u001b[1mmacro expansion\u001b[22m\n",
      "\u001b[90m   @ \u001b[39m\u001b[90;4mIn[36]:16\u001b[0m\u001b[90m [inlined]\u001b[39m\n",
      " [4] \u001b[0m\u001b[1mmacro expansion\u001b[22m\n",
      "\u001b[90m   @ \u001b[39m\u001b[90m/buildworker/worker/package_linux64/build/usr/share/julia/stdlib/v1.6/Test/src/\u001b[39m\u001b[90;4mTest.jl:1151\u001b[0m\u001b[90m [inlined]\u001b[39m\n",
      " [5] top-level scope\n",
      "\u001b[90m   @ \u001b[39m\u001b[90;4mIn[36]:2\u001b[0m\n",
      "grad_f: \u001b[91m\u001b[1mTest Failed\u001b[22m\u001b[39m at \u001b[39m\u001b[1mIn[36]:24\u001b[22m\n",
      "  Expression: norm(grad - grad_fd) < 1.0e-8\n",
      "   Evaluated: NaN < 1.0e-8\n",
      "Stacktrace:\n",
      " [1] \u001b[0m\u001b[1mmacro expansion\u001b[22m\n",
      "\u001b[90m   @ \u001b[39m\u001b[90;4mIn[36]:24\u001b[0m\u001b[90m [inlined]\u001b[39m\n",
      " [2] \u001b[0m\u001b[1mmacro expansion\u001b[22m\n",
      "\u001b[90m   @ \u001b[39m\u001b[90m/buildworker/worker/package_linux64/build/usr/share/julia/stdlib/v1.6/Test/src/\u001b[39m\u001b[90;4mTest.jl:1151\u001b[0m\u001b[90m [inlined]\u001b[39m\n",
      " [3] \u001b[0m\u001b[1mmacro expansion\u001b[22m\n",
      "\u001b[90m   @ \u001b[39m\u001b[90;4mIn[36]:16\u001b[0m\u001b[90m [inlined]\u001b[39m\n",
      " [4] \u001b[0m\u001b[1mmacro expansion\u001b[22m\n",
      "\u001b[90m   @ \u001b[39m\u001b[90m/buildworker/worker/package_linux64/build/usr/share/julia/stdlib/v1.6/Test/src/\u001b[39m\u001b[90;4mTest.jl:1151\u001b[0m\u001b[90m [inlined]\u001b[39m\n",
      " [5] top-level scope\n",
      "\u001b[90m   @ \u001b[39m\u001b[90;4mIn[36]:2\u001b[0m\n",
      "\u001b[0m\u001b[1mTest Summary: | \u001b[22m\u001b[91m\u001b[1mFail  \u001b[22m\u001b[39m\u001b[36m\u001b[1mTotal\u001b[22m\u001b[39m\n",
      "Q2a           | \u001b[91m   5  \u001b[39m\u001b[36m    5\u001b[39m\n",
      "  eval_f      | \u001b[91m   2  \u001b[39m\u001b[36m    2\u001b[39m\n",
      "  grad_f      | \u001b[91m   3  \u001b[39m\u001b[36m    3\u001b[39m\n"
     ]
    },
    {
     "ename": "LoadError",
     "evalue": "\u001b[91mSome tests did not pass: 0 passed, 5 failed, 0 errored, 0 broken.\u001b[39m",
     "output_type": "error",
     "traceback": [
      "\u001b[91mSome tests did not pass: 0 passed, 5 failed, 0 errored, 0 broken.\u001b[39m",
      "",
      "Stacktrace:",
      " [1] finish(ts::Test.DefaultTestSet)",
      "   @ Test /buildworker/worker/package_linux64/build/usr/share/julia/stdlib/v1.6/Test/src/Test.jl:913",
      " [2] macro expansion",
      "   @ /buildworker/worker/package_linux64/build/usr/share/julia/stdlib/v1.6/Test/src/Test.jl:1161 [inlined]",
      " [3] top-level scope",
      "   @ In[36]:2",
      " [4] eval",
      "   @ ./boot.jl:360 [inlined]",
      " [5] include_string(mapexpr::typeof(REPL.softscope), mod::Module, code::String, filename::String)",
      "   @ Base ./loading.jl:1116"
     ]
    }
   ],
   "source": [
    "@testset \"Q2a\" begin                                               # POINTS = 15\n",
    "    prob = CartpoleProblem()\n",
    "    nlp = NLP(prob)\n",
    "    X,U = get_initial_trajectory(prob) \n",
    "    Z = packZ(nlp, X, U)\n",
    "\n",
    "    @testset \"eval_f\" begin                                        # POINTS = 5\n",
    "        # Test the cost\n",
    "        @test eval_f(nlp, Z) ≈ 0.22766546346850902 atol=1e-6       # POINTS = 3\n",
    "        devals = @dynamicsevals eval_f(nlp, Z)\n",
    "        @test 200 <= devals <= 201                                 # POINTS = 2\n",
    "    end\n",
    "\n",
    "    @testset \"grad_f\" begin                                        # POINTS = 10\n",
    "        # Test the cost gradient with FiniteDiff\n",
    "        grad = zero(Z)\n",
    "        grad_f!(nlp, grad, Z)\n",
    "        devals = @dynamicsevals grad_f!(nlp, grad, Z)\n",
    "        jevals = @jacobianevals grad_f!(nlp, grad, Z)\n",
    "        @test 200 <= devals <= 201                                 # POINTS = 2\n",
    "        @test 200 <= jevals <= 201                                 # POINTS = 2\n",
    "        \n",
    "        grad_fd = FiniteDiff.finite_difference_gradient(x->eval_f(nlp, x), Z)\n",
    "        @test norm(grad - grad_fd) < 1e-8                          # POINTS = 6\n",
    "    end    \n",
    "end;"
   ]
  },
  {
   "cell_type": "markdown",
   "metadata": {},
   "source": [
    "# Part (b): Evaluate the Constraints (20 pts)\n",
    "Next, we need to define functions to evaluate our constraints. We should have `n + (N-1) n + n` constraints, since we have an initial and goal state, and `(N-1)` dynamics constraints of size `n`, where `n` is the size of our state vector (4).\n",
    "The vector should be stacked as follows:\n",
    "\n",
    "$$ \\begin{bmatrix}\n",
    "x_1 - x_\\text{init} \\\\\n",
    "\\frac{h}{6}(f(x_1, u_1, t_1) + 4 f(x_m, u_m, t_m) + f(x_2, u_2, t_2) + x_1 - x_2 \\\\\n",
    "\\vdots \\\\\n",
    "\\frac{h}{6}(f(x_{N-1}, u_{N-1}, t_{N-1}) + 4 f(x_m, u_m, t_m) + f(x_N, u_N, t_N) + x_{N-1} - x_N \\\\\n",
    "x_N - x_\\text{goal}\n",
    "\\end{bmatrix} $$\n",
    "\n",
    "**TASK**: Complete the following functions defined in the file included in the cell below:\n",
    "- eval_c!(nlp, c, Z)\n",
    "- jac_c!(nlp, jac, Z)\n",
    "\n",
    "As with the cost functions, you will be graded on how many dynamics function evaluations you use. You should only need $N + (N-1)$ dynamics evaluations for the \n",
    "constraints and $N + (N-1)$ dynamics Jacobian evaluations for the constraint Jacobian.\n",
    "\n",
    "You are **NOT** allowed to use finite differencing or automatic differentiation in this function. Not only should you be familiar with how to apply the chain rule to get the pieces you need analytically, we already use ForwardDiff to get the dynamics Jacobians, and nesting calls to ForwardDiff usually results in poor performance.\n",
    "\n",
    "**TIPS**: \n",
    "- Don't worry about the number of dynamics / Jacobian evaluations to begin with. Do something that works, then worry about \"performance.\"\n",
    "- Consider writing some helper functions to evaluate all the pieces you need before the loop. These will probably be the same as the ones you needed for the cost functions.\n",
    "- Write out the derivatives you need by hand using the chain rule. Cache the individual pieces of the chain rule you need and then multiply them together to get the final \n",
    "Jacobians.\n",
    "- Check intermediate Jacobians (e.g. the Jacobians for a single dynamics constraint) with ForwardDiff or FiniteDiff to make sure you've applied the chain rule correctly, then apply it in a loop.\n",
    "\n",
    "The docstrings for these functions are printed below."
   ]
  },
  {
   "cell_type": "code",
   "execution_count": 15,
   "metadata": {},
   "outputs": [
    {
     "data": {
      "text/plain": [
       "jac_c! (generic function with 2 methods)"
      ]
     },
     "execution_count": 15,
     "metadata": {},
     "output_type": "execute_result"
    }
   ],
   "source": [
    "include(\"q2_constraints.jl\")"
   ]
  },
  {
   "cell_type": "code",
   "execution_count": 16,
   "metadata": {},
   "outputs": [
    {
     "name": "stdout",
     "output_type": "stream",
     "text": [
      "search: \u001b[0m\u001b[1me\u001b[22m\u001b[0m\u001b[1mv\u001b[22m\u001b[0m\u001b[1ma\u001b[22m\u001b[0m\u001b[1ml\u001b[22m\u001b[0m\u001b[1m_\u001b[22m\u001b[0m\u001b[1mc\u001b[22m\u001b[0m\u001b[1m!\u001b[22m \u001b[0m\u001b[1me\u001b[22m\u001b[0m\u001b[1mv\u001b[22m\u001b[0m\u001b[1ma\u001b[22m\u001b[0m\u001b[1ml\u001b[22m\u001b[0m\u001b[1m_\u001b[22mf\n",
      "\n"
     ]
    },
    {
     "data": {
      "text/latex": [
       "\\begin{verbatim}\n",
       "eval_c!(nlp, c, Z)\n",
       "\\end{verbatim}\n",
       "Evaluate the equality constraints at \\texttt{Z}, storing the result in \\texttt{c}. The constraints should be ordered as follows: \n",
       "\n",
       "\\begin{itemize}\n",
       "\\item[1. ] Initial condition $x_1 = x_\\text{init}$\n",
       "\n",
       "\n",
       "\\item[2. ] Hermite Simpson Dynamics: $\\frac{h}{6} (f(x_k, u_k) + 4 f(x_m, u_m) + f(x_{k+1}, u_{k+1})) + x_k - x_{k+1} = 0$\n",
       "\n",
       "\n",
       "\\item[3. ] Terminal constraint $x_N = x_\\text{goal}$\n",
       "\n",
       "\\end{itemize}\n",
       "Consider leveraging the caches in \\texttt{nlp} to evaluate the dynamics and the midpoints  before the main loop, so that you can making redundant calls to the dynamics.\n",
       "\n",
       "Remember, you will loose points if you make more dynamics calls than necessary.  Start with something that works, then think about how to eliminate any redundant  dynamics calls.\n",
       "\n"
      ],
      "text/markdown": [
       "```\n",
       "eval_c!(nlp, c, Z)\n",
       "```\n",
       "\n",
       "Evaluate the equality constraints at `Z`, storing the result in `c`. The constraints should be ordered as follows: \n",
       "\n",
       "1. Initial condition $x_1 = x_\\text{init}$\n",
       "2. Hermite Simpson Dynamics: $\\frac{h}{6} (f(x_k, u_k) + 4 f(x_m, u_m) + f(x_{k+1}, u_{k+1})) + x_k - x_{k+1} = 0$\n",
       "3. Terminal constraint $x_N = x_\\text{goal}$\n",
       "\n",
       "Consider leveraging the caches in `nlp` to evaluate the dynamics and the midpoints  before the main loop, so that you can making redundant calls to the dynamics.\n",
       "\n",
       "Remember, you will loose points if you make more dynamics calls than necessary.  Start with something that works, then think about how to eliminate any redundant  dynamics calls.\n"
      ],
      "text/plain": [
       "\u001b[36m  eval_c!(nlp, c, Z)\u001b[39m\n",
       "\n",
       "  Evaluate the equality constraints at \u001b[36mZ\u001b[39m, storing the result in \u001b[36mc\u001b[39m. The\n",
       "  constraints should be ordered as follows:\n",
       "\n",
       "    1. Initial condition \u001b[35mx_1 = x_\\text{init}\u001b[39m\n",
       "\n",
       "    2. Hermite Simpson Dynamics: \u001b[35m\\frac{h}{6} (f(x_k, u_k) + 4 f(x_m, u_m)\n",
       "       + f(x_{k+1}, u_{k+1})) + x_k - x_{k+1} = 0\u001b[39m\n",
       "\n",
       "    3. Terminal constraint \u001b[35mx_N = x_\\text{goal}\u001b[39m\n",
       "\n",
       "  Consider leveraging the caches in \u001b[36mnlp\u001b[39m to evaluate the dynamics and the\n",
       "  midpoints before the main loop, so that you can making redundant calls to\n",
       "  the dynamics.\n",
       "\n",
       "  Remember, you will loose points if you make more dynamics calls than\n",
       "  necessary. Start with something that works, then think about how to\n",
       "  eliminate any redundant dynamics calls."
      ]
     },
     "execution_count": 16,
     "metadata": {},
     "output_type": "execute_result"
    }
   ],
   "source": [
    "?eval_c!"
   ]
  },
  {
   "cell_type": "code",
   "execution_count": 17,
   "metadata": {},
   "outputs": [
    {
     "name": "stdout",
     "output_type": "stream",
     "text": [
      "search: \u001b[0m\u001b[1mj\u001b[22m\u001b[0m\u001b[1ma\u001b[22m\u001b[0m\u001b[1mc\u001b[22m\u001b[0m\u001b[1m_\u001b[22m\u001b[0m\u001b[1mc\u001b[22m\u001b[0m\u001b[1m!\u001b[22m CARTPOLE_\u001b[0m\u001b[1mJ\u001b[22m\u001b[0m\u001b[1mA\u001b[22m\u001b[0m\u001b[1mC\u001b[22mOBIAN\u001b[0m\u001b[1m_\u001b[22m\u001b[0m\u001b[1mC\u001b[22mACHE\n",
      "\n"
     ]
    },
    {
     "data": {
      "text/latex": [
       "\\begin{verbatim}\n",
       "jac_c!(nlp, jac, Z)\n",
       "\\end{verbatim}\n",
       "Evaluate the constraint Jacobian, storing the result in the matrix \\texttt{jac}. You will need to apply the chain rule to calculate the derivative of the dynamics constraints with respect to the states and controls at the current and next time  steps.\n",
       "\n",
       "\\subsubsection{Use of automated differentiation tools}\n",
       "You are not allowed to use automatic differentiation methods for this function.  You are only allowed to call \\texttt{dynamics\\_jacobians} (which under the hood does use ForwardDiff). You are allowed to check your answer with these tools, but your final  solution should not use them.\n",
       "\n"
      ],
      "text/markdown": [
       "```\n",
       "jac_c!(nlp, jac, Z)\n",
       "```\n",
       "\n",
       "Evaluate the constraint Jacobian, storing the result in the matrix `jac`. You will need to apply the chain rule to calculate the derivative of the dynamics constraints with respect to the states and controls at the current and next time  steps.\n",
       "\n",
       "### Use of automated differentiation tools\n",
       "\n",
       "You are not allowed to use automatic differentiation methods for this function.  You are only allowed to call `dynamics_jacobians` (which under the hood does use ForwardDiff). You are allowed to check your answer with these tools, but your final  solution should not use them.\n"
      ],
      "text/plain": [
       "\u001b[36m  jac_c!(nlp, jac, Z)\u001b[39m\n",
       "\n",
       "  Evaluate the constraint Jacobian, storing the result in the matrix \u001b[36mjac\u001b[39m. You\n",
       "  will need to apply the chain rule to calculate the derivative of the\n",
       "  dynamics constraints with respect to the states and controls at the current\n",
       "  and next time steps.\n",
       "\n",
       "\u001b[1m  Use of automated differentiation tools\u001b[22m\n",
       "\u001b[1m  ––––––––––––––––––––––––––––––––––––––––\u001b[22m\n",
       "\n",
       "  You are not allowed to use automatic differentiation methods for this\n",
       "  function. You are only allowed to call \u001b[36mdynamics_jacobians\u001b[39m (which under the\n",
       "  hood does use ForwardDiff). You are allowed to check your answer with these\n",
       "  tools, but your final solution should not use them."
      ]
     },
     "execution_count": 17,
     "metadata": {},
     "output_type": "execute_result"
    }
   ],
   "source": [
    "?jac_c!"
   ]
  },
  {
   "cell_type": "code",
   "execution_count": 41,
   "metadata": {},
   "outputs": [
    {
     "name": "stdout",
     "output_type": "stream",
     "text": [
      "eval_c: \u001b[91m\u001b[1mTest Failed\u001b[22m\u001b[39m at \u001b[39m\u001b[1mIn[41]:13\u001b[22m\n",
      "  Expression: 200 <= devals <= 201\n",
      "   Evaluated: 200 <= 0 <= 201\n",
      "Stacktrace:\n",
      " [1] \u001b[0m\u001b[1mmacro expansion\u001b[22m\n",
      "\u001b[90m   @ \u001b[39m\u001b[90;4mIn[41]:13\u001b[0m\u001b[90m [inlined]\u001b[39m\n",
      " [2] \u001b[0m\u001b[1mmacro expansion\u001b[22m\n",
      "\u001b[90m   @ \u001b[39m\u001b[90m/buildworker/worker/package_linux64/build/usr/share/julia/stdlib/v1.6/Test/src/\u001b[39m\u001b[90;4mTest.jl:1151\u001b[0m\u001b[90m [inlined]\u001b[39m\n",
      " [3] \u001b[0m\u001b[1mmacro expansion\u001b[22m\n",
      "\u001b[90m   @ \u001b[39m\u001b[90;4mIn[41]:11\u001b[0m\u001b[90m [inlined]\u001b[39m\n",
      " [4] \u001b[0m\u001b[1mmacro expansion\u001b[22m\n",
      "\u001b[90m   @ \u001b[39m\u001b[90m/buildworker/worker/package_linux64/build/usr/share/julia/stdlib/v1.6/Test/src/\u001b[39m\u001b[90;4mTest.jl:1151\u001b[0m\u001b[90m [inlined]\u001b[39m\n",
      " [5] top-level scope\n",
      "\u001b[90m   @ \u001b[39m\u001b[90;4mIn[41]:2\u001b[0m\n",
      "eval_c: \u001b[91m\u001b[1mTest Failed\u001b[22m\u001b[39m at \u001b[39m\u001b[1mIn[41]:15\u001b[22m\n",
      "  Expression: norm(c - load(resfile, \"c0\")) < 1.0e-8\n",
      "   Evaluated: 6.901519834564673 < 1.0e-8\n",
      "Stacktrace:\n",
      " [1] \u001b[0m\u001b[1mmacro expansion\u001b[22m\n",
      "\u001b[90m   @ \u001b[39m\u001b[90;4mIn[41]:15\u001b[0m\u001b[90m [inlined]\u001b[39m\n",
      " [2] \u001b[0m\u001b[1mmacro expansion\u001b[22m\n",
      "\u001b[90m   @ \u001b[39m\u001b[90m/buildworker/worker/package_linux64/build/usr/share/julia/stdlib/v1.6/Test/src/\u001b[39m\u001b[90;4mTest.jl:1151\u001b[0m\u001b[90m [inlined]\u001b[39m\n",
      " [3] \u001b[0m\u001b[1mmacro expansion\u001b[22m\n",
      "\u001b[90m   @ \u001b[39m\u001b[90;4mIn[41]:11\u001b[0m\u001b[90m [inlined]\u001b[39m\n",
      " [4] \u001b[0m\u001b[1mmacro expansion\u001b[22m\n",
      "\u001b[90m   @ \u001b[39m\u001b[90m/buildworker/worker/package_linux64/build/usr/share/julia/stdlib/v1.6/Test/src/\u001b[39m\u001b[90;4mTest.jl:1151\u001b[0m\u001b[90m [inlined]\u001b[39m\n",
      " [5] top-level scope\n",
      "\u001b[90m   @ \u001b[39m\u001b[90;4mIn[41]:2\u001b[0m\n",
      "jac_c: \u001b[91m\u001b[1mTest Failed\u001b[22m\u001b[39m at \u001b[39m\u001b[1mIn[41]:25\u001b[22m\n",
      "  Expression: 200 <= jevals <= 201\n",
      "   Evaluated: 200 <= 0 <= 201\n",
      "Stacktrace:\n",
      " [1] \u001b[0m\u001b[1mmacro expansion\u001b[22m\n",
      "\u001b[90m   @ \u001b[39m\u001b[90;4mIn[41]:25\u001b[0m\u001b[90m [inlined]\u001b[39m\n",
      " [2] \u001b[0m\u001b[1mmacro expansion\u001b[22m\n",
      "\u001b[90m   @ \u001b[39m\u001b[90m/buildworker/worker/package_linux64/build/usr/share/julia/stdlib/v1.6/Test/src/\u001b[39m\u001b[90;4mTest.jl:1151\u001b[0m\u001b[90m [inlined]\u001b[39m\n",
      " [3] \u001b[0m\u001b[1mmacro expansion\u001b[22m\n",
      "\u001b[90m   @ \u001b[39m\u001b[90;4mIn[41]:21\u001b[0m\u001b[90m [inlined]\u001b[39m\n",
      " [4] \u001b[0m\u001b[1mmacro expansion\u001b[22m\n",
      "\u001b[90m   @ \u001b[39m\u001b[90m/buildworker/worker/package_linux64/build/usr/share/julia/stdlib/v1.6/Test/src/\u001b[39m\u001b[90;4mTest.jl:1151\u001b[0m\u001b[90m [inlined]\u001b[39m\n",
      " [5] top-level scope\n",
      "\u001b[90m   @ \u001b[39m\u001b[90;4mIn[41]:2\u001b[0m\n",
      "jac_c: \u001b[91m\u001b[1mTest Failed\u001b[22m\u001b[39m at \u001b[39m\u001b[1mIn[41]:30\u001b[22m\n",
      "  Expression: norm(jac - jac_fd) < 1.0e-6\n",
      "   Evaluated: NaN < 1.0e-6\n",
      "Stacktrace:\n",
      " [1] \u001b[0m\u001b[1mmacro expansion\u001b[22m\n",
      "\u001b[90m   @ \u001b[39m\u001b[90;4mIn[41]:30\u001b[0m\u001b[90m [inlined]\u001b[39m\n",
      " [2] \u001b[0m\u001b[1mmacro expansion\u001b[22m\n",
      "\u001b[90m   @ \u001b[39m\u001b[90m/buildworker/worker/package_linux64/build/usr/share/julia/stdlib/v1.6/Test/src/\u001b[39m\u001b[90;4mTest.jl:1151\u001b[0m\u001b[90m [inlined]\u001b[39m\n",
      " [3] \u001b[0m\u001b[1mmacro expansion\u001b[22m\n",
      "\u001b[90m   @ \u001b[39m\u001b[90;4mIn[41]:21\u001b[0m\u001b[90m [inlined]\u001b[39m\n",
      " [4] \u001b[0m\u001b[1mmacro expansion\u001b[22m\n",
      "\u001b[90m   @ \u001b[39m\u001b[90m/buildworker/worker/package_linux64/build/usr/share/julia/stdlib/v1.6/Test/src/\u001b[39m\u001b[90;4mTest.jl:1151\u001b[0m\u001b[90m [inlined]\u001b[39m\n",
      " [5] top-level scope\n",
      "\u001b[90m   @ \u001b[39m\u001b[90;4mIn[41]:2\u001b[0m\n",
      "\u001b[0m\u001b[1mTest Summary: | \u001b[22m\u001b[32m\u001b[1mPass  \u001b[22m\u001b[39m\u001b[91m\u001b[1mFail  \u001b[22m\u001b[39m\u001b[36m\u001b[1mTotal\u001b[22m\u001b[39m\n",
      "Q2b           | \u001b[32m   1  \u001b[39m\u001b[91m   4  \u001b[39m\u001b[36m    5\u001b[39m\n",
      "  eval_c      |       \u001b[91m   2  \u001b[39m\u001b[36m    2\u001b[39m\n",
      "  jac_c       | \u001b[32m   1  \u001b[39m\u001b[91m   2  \u001b[39m\u001b[36m    3\u001b[39m\n"
     ]
    },
    {
     "ename": "LoadError",
     "evalue": "\u001b[91mSome tests did not pass: 1 passed, 4 failed, 0 errored, 0 broken.\u001b[39m",
     "output_type": "error",
     "traceback": [
      "\u001b[91mSome tests did not pass: 1 passed, 4 failed, 0 errored, 0 broken.\u001b[39m",
      "",
      "Stacktrace:",
      " [1] finish(ts::Test.DefaultTestSet)",
      "   @ Test /buildworker/worker/package_linux64/build/usr/share/julia/stdlib/v1.6/Test/src/Test.jl:913",
      " [2] macro expansion",
      "   @ /buildworker/worker/package_linux64/build/usr/share/julia/stdlib/v1.6/Test/src/Test.jl:1161 [inlined]",
      " [3] top-level scope",
      "   @ In[41]:2",
      " [4] eval",
      "   @ ./boot.jl:360 [inlined]",
      " [5] include_string(mapexpr::typeof(REPL.softscope), mod::Module, code::String, filename::String)",
      "   @ Base ./loading.jl:1116"
     ]
    }
   ],
   "source": [
    "@testset \"Q2b\" begin                                              # POINTS = 20\n",
    "    prob = CartpoleProblem()\n",
    "    nlp = NLP(prob)\n",
    "    X,U = get_initial_trajectory(prob) \n",
    "    Z = packZ(nlp, X, U)\n",
    "\n",
    "    resfile = joinpath(@__DIR__, \"Q2.jld2\")\n",
    "\n",
    "    @testset \"eval_c\" begin                                      # POINTS = 8\n",
    "        # Constraint function\n",
    "        c = zeros(num_duals(nlp))\n",
    "        devals = @dynamicsevals eval_c!(nlp, c, Z)\n",
    "        @test 200 <= devals <= 201                               # POINTS = 2\n",
    "\n",
    "        @test norm(c - load(resfile, \"c0\")) < 1e-8               # POINTS = 6\n",
    "    end\n",
    "    \n",
    "\n",
    "    @testset \"jac_c\" begin                                       # POINTS = 12 \n",
    "        # Calc constraint Jacobian and check Jacobian evals\n",
    "        jac = zeros(num_duals(nlp), num_primals(nlp)) * NaN\n",
    "        jevals = @jacobianevals jac_c!(nlp, jac, Z)\n",
    "        devals = @dynamicsevals jac_c!(nlp, jac, Z)\n",
    "        @test devals == 0                                        # POINTS = 1\n",
    "        @test 200 <= jevals <= 201                               # POINTS = 4\n",
    "\n",
    "        # Check constraint Jacobian with FiniteDiff\n",
    "        jac_fd = zero(jac)\n",
    "        FiniteDiff.finite_difference_jacobian!(jac_fd, (y,x)->eval_c!(nlp, y, x), Z)\n",
    "        @test norm(jac - jac_fd) < 1e-6                          # POINTS = 7\n",
    "    end\n",
    "end;"
   ]
  },
  {
   "cell_type": "markdown",
   "metadata": {},
   "source": [
    "## Part (c): Solving the NLP (5 pts)\n",
    "Now that we have the methods we need to evaluate our NLP, we can solve it with Ipopt. \n",
    "We use [`MathOptInterface.jl`](https://github.com/jump-dev/MathOptInterface.jl) to interface with the Ipopt solver. Don't worry too much about this interface: we take care of all of the boilerplate code in the file below.\n",
    "\n",
    "You don't need to do anything for this part: if you all of your methods above are correct, your problem should converge in about 30 iterations. If your problem isn't converging, go check your methods above. Remember, the tests aren't perfect and won't catch all of your mistakes. Debugging these types of solvers is a critical skill that takes practice."
   ]
  },
  {
   "cell_type": "code",
   "execution_count": 19,
   "metadata": {},
   "outputs": [
    {
     "data": {
      "text/plain": [
       "solve"
      ]
     },
     "execution_count": 19,
     "metadata": {},
     "output_type": "execute_result"
    }
   ],
   "source": [
    "include(\"q2_moi.jl\")"
   ]
  },
  {
   "cell_type": "code",
   "execution_count": 23,
   "metadata": {},
   "outputs": [
    {
     "name": "stdout",
     "output_type": "stream",
     "text": [
      "Creating NLP Block Data...\n",
      "Creating Ipopt...\n",
      "Adding constraints...\n",
      "starting Ipopt Solve...\n",
      "This is Ipopt version 3.14.4, running with linear solver MUMPS 5.4.1.\n",
      "\n",
      "Number of nonzeros in equality constraint Jacobian...:   206040\n",
      "Number of nonzeros in inequality constraint Jacobian.:        0\n",
      "Number of nonzeros in Lagrangian Hessian.............:        0\n",
      "\n",
      "Total number of variables............................:      505\n",
      "                     variables with only lower bounds:        0\n",
      "                variables with lower and upper bounds:        0\n",
      "                     variables with only upper bounds:        0\n",
      "Total number of equality constraints.................:      408\n",
      "Total number of inequality constraints...............:        0\n",
      "        inequality constraints with only lower bounds:        0\n",
      "   inequality constraints with lower and upper bounds:        0\n",
      "        inequality constraints with only upper bounds:        0\n",
      "\n",
      "\n",
      "Number of Iterations....: 0\n",
      "\n",
      "Number of objective function evaluations             = 1\n",
      "Number of objective gradient evaluations             = 1\n",
      "Number of equality constraint evaluations            = 1\n",
      "Number of inequality constraint evaluations          = 0\n",
      "Number of equality constraint Jacobian evaluations   = 1\n",
      "Number of inequality constraint Jacobian evaluations = 0\n",
      "Number of Lagrangian Hessian evaluations             = 0\n",
      "Total seconds in IPOPT                               = 0.086\n",
      "\n",
      "EXIT: Invalid number in NLP function or derivative detected.\n"
     ]
    },
    {
     "data": {
      "text/plain": [
       "([0.0, -0.0, 0.0, -0.0, 0.0, 0.0, -0.031415926535897934, 0.0, -0.0, 0.0  …  -0.0, -3.1101767270538954, 0.0, -0.0, 0.0, 0.0, 3.141592653589793, 0.0, 0.0, 0.0], Ipopt.Optimizer)"
      ]
     },
     "execution_count": 23,
     "metadata": {},
     "output_type": "execute_result"
    }
   ],
   "source": [
    "prob = CartpoleProblem()\n",
    "X,U = get_initial_trajectory(prob)\n",
    "nlp = NLP(prob)\n",
    "Z0 = packZ(nlp, X, U)\n",
    "Zsol,solver = solve(Z0, nlp)"
   ]
  },
  {
   "cell_type": "code",
   "execution_count": 34,
   "metadata": {},
   "outputs": [
    {
     "data": {
      "text/html": [
       "    <div style=\"height: 500px; width: 100%; overflow-x: auto; overflow-y: hidden; resize: both\">\n",
       "    <iframe src=\"http://127.0.0.1:8700\" style=\"width: 100%; height: 100%; border: none\"></iframe>\n",
       "    </div>\n"
      ],
      "text/plain": [
       "MeshCat.DisplayedVisualizer(MeshCat.CoreVisualizer(MeshCat.SceneTrees.SceneNode(nothing, nothing, Dict{String, Vector{UInt8}}(), UInt8[0x83, 0xa7, 0x6f, 0x70, 0x74, 0x69, 0x6f, 0x6e, 0x73, 0x82  …  0x5f, 0x61, 0x6e, 0x69, 0x6d, 0x61, 0x74, 0x69, 0x6f, 0x6e], Dict{String, MeshCat.SceneTrees.SceneNode}(\"meshcat\" => MeshCat.SceneTrees.SceneNode(nothing, nothing, Dict{String, Vector{UInt8}}(), nothing, Dict{String, MeshCat.SceneTrees.SceneNode}(\"robot\" => MeshCat.SceneTrees.SceneNode(nothing, nothing, Dict{String, Vector{UInt8}}(), nothing, Dict{String, MeshCat.SceneTrees.SceneNode}(\"rod\" => MeshCat.SceneTrees.SceneNode(UInt8[0x83, 0xa6, 0x6f, 0x62, 0x6a, 0x65, 0x63, 0x74, 0x84, 0xaa  …  0x2f, 0x72, 0x6f, 0x62, 0x6f, 0x74, 0x2f, 0x72, 0x6f, 0x64], nothing, Dict{String, Vector{UInt8}}(), nothing, Dict{String, MeshCat.SceneTrees.SceneNode}()), \"cart\" => MeshCat.SceneTrees.SceneNode(nothing, nothing, Dict{String, Vector{UInt8}}(), nothing, Dict{String, MeshCat.SceneTrees.SceneNode}(\"pole\" => MeshCat.SceneTrees.SceneNode(nothing, UInt8[0x83, 0xa6, 0x6d, 0x61, 0x74, 0x72, 0x69, 0x78, 0xc7, 0x40  …  0x2f, 0x63, 0x61, 0x72, 0x74, 0x2f, 0x70, 0x6f, 0x6c, 0x65], Dict{String, Vector{UInt8}}(), nothing, Dict{String, MeshCat.SceneTrees.SceneNode}(\"geom\" => MeshCat.SceneTrees.SceneNode(nothing, nothing, Dict{String, Vector{UInt8}}(), nothing, Dict{String, MeshCat.SceneTrees.SceneNode}(\"cyl\" => MeshCat.SceneTrees.SceneNode(UInt8[0x83, 0xa6, 0x6f, 0x62, 0x6a, 0x65, 0x63, 0x74, 0x84, 0xaa  …  0x65, 0x2f, 0x67, 0x65, 0x6f, 0x6d, 0x2f, 0x63, 0x79, 0x6c], nothing, Dict{String, Vector{UInt8}}(), nothing, Dict{String, MeshCat.SceneTrees.SceneNode}()), \"mass\" => MeshCat.SceneTrees.SceneNode(UInt8[0x83, 0xa6, 0x6f, 0x62, 0x6a, 0x65, 0x63, 0x74, 0x84, 0xaa  …  0x2f, 0x67, 0x65, 0x6f, 0x6d, 0x2f, 0x6d, 0x61, 0x73, 0x73], nothing, Dict{String, Vector{UInt8}}(), nothing, Dict{String, MeshCat.SceneTrees.SceneNode}()))))), \"box\" => MeshCat.SceneTrees.SceneNode(UInt8[0x83, 0xa6, 0x6f, 0x62, 0x6a, 0x65, 0x63, 0x74, 0x84, 0xaa  …  0x74, 0x2f, 0x63, 0x61, 0x72, 0x74, 0x2f, 0x62, 0x6f, 0x78], nothing, Dict{String, Vector{UInt8}}(), nothing, Dict{String, MeshCat.SceneTrees.SceneNode}()), \"hinge\" => MeshCat.SceneTrees.SceneNode(UInt8[0x83, 0xa6, 0x6f, 0x62, 0x6a, 0x65, 0x63, 0x74, 0x84, 0xaa  …  0x63, 0x61, 0x72, 0x74, 0x2f, 0x68, 0x69, 0x6e, 0x67, 0x65], nothing, Dict{String, Vector{UInt8}}(), nothing, Dict{String, MeshCat.SceneTrees.SceneNode}()))))))))), Set(Any[WebSocket(server, \u001b[32mCONNECTED\u001b[39m), WebSocket(server, \u001b[32mCONNECTED\u001b[39m)]), ip\"127.0.0.1\", 8700))"
      ]
     },
     "execution_count": 34,
     "metadata": {},
     "output_type": "execute_result"
    }
   ],
   "source": [
    "isautograder || render(vis)"
   ]
  },
  {
   "cell_type": "code",
   "execution_count": 21,
   "metadata": {},
   "outputs": [],
   "source": [
    "let X = [Zsol[xi] for xi in nlp.xinds]\n",
    "    isautograder || visualize!(vis, prob.model, prob.tf, X)\n",
    "end"
   ]
  },
  {
   "cell_type": "code",
   "execution_count": 28,
   "metadata": {},
   "outputs": [
    {
     "name": "stdout",
     "output_type": "stream",
     "text": [
      "norm(grad - jac' * λ, Inf) = NaN\n",
      "Q2c: \u001b[91m\u001b[1mTest Failed\u001b[22m\u001b[39m at \u001b[39m\u001b[1mIn[28]:13\u001b[22m\n",
      "  Expression: norm(grad - jac' * λ, Inf) < 1.0e-6\n",
      "   Evaluated: NaN < 1.0e-6\n",
      "Stacktrace:\n",
      " [1] \u001b[0m\u001b[1mmacro expansion\u001b[22m\n",
      "\u001b[90m   @ \u001b[39m\u001b[90;4mIn[28]:13\u001b[0m\u001b[90m [inlined]\u001b[39m\n",
      " [2] \u001b[0m\u001b[1mmacro expansion\u001b[22m\n",
      "\u001b[90m   @ \u001b[39m\u001b[90m/buildworker/worker/package_linux64/build/usr/share/julia/stdlib/v1.6/Test/src/\u001b[39m\u001b[90;4mTest.jl:1151\u001b[0m\u001b[90m [inlined]\u001b[39m\n",
      " [3] top-level scope\n",
      "\u001b[90m   @ \u001b[39m\u001b[90;4mIn[28]:2\u001b[0m\n",
      "Q2c: \u001b[91m\u001b[1mTest Failed\u001b[22m\u001b[39m at \u001b[39m\u001b[1mIn[28]:14\u001b[22m\n",
      "  Expression: norm(c, Inf) < 1.0e-6\n",
      "   Evaluated: NaN < 1.0e-6\n",
      "Stacktrace:\n",
      " [1] \u001b[0m\u001b[1mmacro expansion\u001b[22m\n",
      "\u001b[90m   @ \u001b[39m\u001b[90;4mIn[28]:14\u001b[0m\u001b[90m [inlined]\u001b[39m\n",
      " [2] \u001b[0m\u001b[1mmacro expansion\u001b[22m\n",
      "\u001b[90m   @ \u001b[39m\u001b[90m/buildworker/worker/package_linux64/build/usr/share/julia/stdlib/v1.6/Test/src/\u001b[39m\u001b[90;4mTest.jl:1151\u001b[0m\u001b[90m [inlined]\u001b[39m\n",
      " [3] top-level scope\n",
      "\u001b[90m   @ \u001b[39m\u001b[90;4mIn[28]:2\u001b[0m\n",
      "\u001b[0m\u001b[1mTest Summary: | \u001b[22m\u001b[32m\u001b[1mPass  \u001b[22m\u001b[39m\u001b[91m\u001b[1mFail  \u001b[22m\u001b[39m\u001b[36m\u001b[1mTotal\u001b[22m\u001b[39m\n",
      "Q2c           | \u001b[32m   2  \u001b[39m\u001b[91m   2  \u001b[39m\u001b[36m    4\u001b[39m\n"
     ]
    },
    {
     "ename": "LoadError",
     "evalue": "\u001b[91mSome tests did not pass: 2 passed, 2 failed, 0 errored, 0 broken.\u001b[39m",
     "output_type": "error",
     "traceback": [
      "\u001b[91mSome tests did not pass: 2 passed, 2 failed, 0 errored, 0 broken.\u001b[39m",
      "",
      "Stacktrace:",
      " [1] finish(ts::Test.DefaultTestSet)",
      "   @ Test /buildworker/worker/package_linux64/build/usr/share/julia/stdlib/v1.6/Test/src/Test.jl:913",
      " [2] macro expansion",
      "   @ /buildworker/worker/package_linux64/build/usr/share/julia/stdlib/v1.6/Test/src/Test.jl:1161 [inlined]",
      " [3] top-level scope",
      "   @ In[28]:2",
      " [4] eval",
      "   @ ./boot.jl:360 [inlined]",
      " [5] include_string(mapexpr::typeof(REPL.softscope), mod::Module, code::String, filename::String)",
      "   @ Base ./loading.jl:1116"
     ]
    }
   ],
   "source": [
    "@testset \"Q2c\" begin                                     # POINTS = 5\n",
    "    Z = copy(Zsol)\n",
    "    λ = MOI.get(solver, MOI.NLPBlockDual()) # get the duals\n",
    "    X,U = unpackZ(nlp, Zsol)\n",
    "    @test norm(X[1] - prob.x0) < 1e-6                    # POINTS = 0.5\n",
    "    @test norm(X[end] - prob.xf) < 1e-6                  # POINTS = 0.5\n",
    "    grad = zeros(num_primals(nlp)) * NaN\n",
    "    grad_f!(nlp, grad, Z)\n",
    "    c = zeros(num_duals(nlp)) * NaN\n",
    "    eval_c!(nlp, c, Z)\n",
    "    jac = spzeros(num_duals(nlp), num_primals(nlp))\n",
    "    @show norm(grad - jac'λ, Inf)\n",
    "    @test norm(grad - jac'λ, Inf) < 1e-6                 # POINTS = 2\n",
    "    @test norm(c, Inf) < 1e-6                            # POINTS = 2\n",
    "end;"
   ]
  },
  {
   "cell_type": "markdown",
   "metadata": {},
   "source": [
    "## Part (d): Track the solution with model error (10 pts)\n",
    "Let's now use our trajectory and simulate it on a system with some model mismatch.\n",
    "\n",
    "**TASK**:\n",
    "1. Generate controller that tracks your optimized trajectories.\n",
    "2. Run your controller on a simulated cartpole with a cart mass of 1.5 kg instead of 1 kg. Get it to successfully stabilize. The final stabilized position doesn't have to to be at an x-position of 0. Simulate for at least 10 seconds.\n",
    "\n",
    "**TIPS**:\n",
    "1. Feel free to use code from previous homeworks. \n",
    "2. It will stabilize with TVLQR\n",
    "3. If your cartpole gets it to the top but doesn't stabilize it for the full 10 seconds, think about how you could design your controller to stabilize it about the unstable equilibrium..."
   ]
  },
  {
   "cell_type": "code",
   "execution_count": 29,
   "metadata": {},
   "outputs": [
    {
     "data": {
      "text/plain": [
       "gen_controller"
      ]
     },
     "execution_count": 29,
     "metadata": {},
     "output_type": "execute_result"
    }
   ],
   "source": [
    "include(\"q2_controller.jl\")"
   ]
  },
  {
   "cell_type": "code",
   "execution_count": 30,
   "metadata": {},
   "outputs": [
    {
     "name": "stdout",
     "output_type": "stream",
     "text": [
      "search: \u001b[0m\u001b[1mg\u001b[22m\u001b[0m\u001b[1me\u001b[22m\u001b[0m\u001b[1mn\u001b[22m\u001b[0m\u001b[1m_\u001b[22m\u001b[0m\u001b[1mc\u001b[22m\u001b[0m\u001b[1mo\u001b[22m\u001b[0m\u001b[1mn\u001b[22m\u001b[0m\u001b[1mt\u001b[22m\u001b[0m\u001b[1mr\u001b[22m\u001b[0m\u001b[1mo\u001b[22m\u001b[0m\u001b[1ml\u001b[22m\u001b[0m\u001b[1ml\u001b[22m\u001b[0m\u001b[1me\u001b[22m\u001b[0m\u001b[1mr\u001b[22m\n",
      "\n"
     ]
    },
    {
     "data": {
      "text/latex": [
       "\\begin{verbatim}\n",
       "gen_controller(nlp, Zref)\n",
       "\\end{verbatim}\n",
       "Create a controller that tracks the output of the NLP solver, \\texttt{Zref}. The \\texttt{ctrl} object you output should support a function with the following signature:\n",
       "\n",
       "\\begin{verbatim}\n",
       "get_control(ctrl, x, t)\n",
       "\\end{verbatim}\n",
       "that returns the control \\texttt{u} given the state vector \\texttt{x} and time \\texttt{t}.\n",
       "\n",
       "You are free to implement any controller that satisfies this signature  (LQR, TVLQR, MPC, a learned policy, etc.) The only requirements are that it achieves the  swing-up for a cartpole mass of 1.5 kg (the reference was designed with a mass of 1.0 kg), and runs in faster than real time.\n",
       "\n",
       "Before you try anything crazy, consider the simplest controller that can probably achieve  this goal.\n",
       "\n"
      ],
      "text/markdown": [
       "```\n",
       "gen_controller(nlp, Zref)\n",
       "```\n",
       "\n",
       "Create a controller that tracks the output of the NLP solver, `Zref`. The `ctrl` object you output should support a function with the following signature:\n",
       "\n",
       "```\n",
       "get_control(ctrl, x, t)\n",
       "```\n",
       "\n",
       "that returns the control `u` given the state vector `x` and time `t`.\n",
       "\n",
       "You are free to implement any controller that satisfies this signature  (LQR, TVLQR, MPC, a learned policy, etc.) The only requirements are that it achieves the  swing-up for a cartpole mass of 1.5 kg (the reference was designed with a mass of 1.0 kg), and runs in faster than real time.\n",
       "\n",
       "Before you try anything crazy, consider the simplest controller that can probably achieve  this goal.\n"
      ],
      "text/plain": [
       "\u001b[36m  gen_controller(nlp, Zref)\u001b[39m\n",
       "\n",
       "  Create a controller that tracks the output of the NLP solver, \u001b[36mZref\u001b[39m. The \u001b[36mctrl\u001b[39m\n",
       "  object you output should support a function with the following signature:\n",
       "\n",
       "\u001b[36m  get_control(ctrl, x, t)\u001b[39m\n",
       "\n",
       "  that returns the control \u001b[36mu\u001b[39m given the state vector \u001b[36mx\u001b[39m and time \u001b[36mt\u001b[39m.\n",
       "\n",
       "  You are free to implement any controller that satisfies this signature (LQR,\n",
       "  TVLQR, MPC, a learned policy, etc.) The only requirements are that it\n",
       "  achieves the swing-up for a cartpole mass of 1.5 kg (the reference was\n",
       "  designed with a mass of 1.0 kg), and runs in faster than real time.\n",
       "\n",
       "  Before you try anything crazy, consider the simplest controller that can\n",
       "  probably achieve this goal."
      ]
     },
     "execution_count": 30,
     "metadata": {},
     "output_type": "execute_result"
    }
   ],
   "source": [
    "?gen_controller"
   ]
  },
  {
   "cell_type": "code",
   "execution_count": 31,
   "metadata": {},
   "outputs": [
    {
     "data": {
      "text/html": [
       "    <div style=\"height: 500px; width: 100%; overflow-x: auto; overflow-y: hidden; resize: both\">\n",
       "    <iframe src=\"http://127.0.0.1:8700\" style=\"width: 100%; height: 100%; border: none\"></iframe>\n",
       "    </div>\n"
      ],
      "text/plain": [
       "MeshCat.DisplayedVisualizer(MeshCat.CoreVisualizer(MeshCat.SceneTrees.SceneNode(nothing, nothing, Dict{String, Vector{UInt8}}(), UInt8[0x83, 0xa7, 0x6f, 0x70, 0x74, 0x69, 0x6f, 0x6e, 0x73, 0x82  …  0x5f, 0x61, 0x6e, 0x69, 0x6d, 0x61, 0x74, 0x69, 0x6f, 0x6e], Dict{String, MeshCat.SceneTrees.SceneNode}(\"meshcat\" => MeshCat.SceneTrees.SceneNode(nothing, nothing, Dict{String, Vector{UInt8}}(), nothing, Dict{String, MeshCat.SceneTrees.SceneNode}(\"robot\" => MeshCat.SceneTrees.SceneNode(nothing, nothing, Dict{String, Vector{UInt8}}(), nothing, Dict{String, MeshCat.SceneTrees.SceneNode}(\"rod\" => MeshCat.SceneTrees.SceneNode(UInt8[0x83, 0xa6, 0x6f, 0x62, 0x6a, 0x65, 0x63, 0x74, 0x84, 0xaa  …  0x2f, 0x72, 0x6f, 0x62, 0x6f, 0x74, 0x2f, 0x72, 0x6f, 0x64], nothing, Dict{String, Vector{UInt8}}(), nothing, Dict{String, MeshCat.SceneTrees.SceneNode}()), \"cart\" => MeshCat.SceneTrees.SceneNode(nothing, nothing, Dict{String, Vector{UInt8}}(), nothing, Dict{String, MeshCat.SceneTrees.SceneNode}(\"pole\" => MeshCat.SceneTrees.SceneNode(nothing, UInt8[0x83, 0xa6, 0x6d, 0x61, 0x74, 0x72, 0x69, 0x78, 0xc7, 0x40  …  0x2f, 0x63, 0x61, 0x72, 0x74, 0x2f, 0x70, 0x6f, 0x6c, 0x65], Dict{String, Vector{UInt8}}(), nothing, Dict{String, MeshCat.SceneTrees.SceneNode}(\"geom\" => MeshCat.SceneTrees.SceneNode(nothing, nothing, Dict{String, Vector{UInt8}}(), nothing, Dict{String, MeshCat.SceneTrees.SceneNode}(\"cyl\" => MeshCat.SceneTrees.SceneNode(UInt8[0x83, 0xa6, 0x6f, 0x62, 0x6a, 0x65, 0x63, 0x74, 0x84, 0xaa  …  0x65, 0x2f, 0x67, 0x65, 0x6f, 0x6d, 0x2f, 0x63, 0x79, 0x6c], nothing, Dict{String, Vector{UInt8}}(), nothing, Dict{String, MeshCat.SceneTrees.SceneNode}()), \"mass\" => MeshCat.SceneTrees.SceneNode(UInt8[0x83, 0xa6, 0x6f, 0x62, 0x6a, 0x65, 0x63, 0x74, 0x84, 0xaa  …  0x2f, 0x67, 0x65, 0x6f, 0x6d, 0x2f, 0x6d, 0x61, 0x73, 0x73], nothing, Dict{String, Vector{UInt8}}(), nothing, Dict{String, MeshCat.SceneTrees.SceneNode}()))))), \"box\" => MeshCat.SceneTrees.SceneNode(UInt8[0x83, 0xa6, 0x6f, 0x62, 0x6a, 0x65, 0x63, 0x74, 0x84, 0xaa  …  0x74, 0x2f, 0x63, 0x61, 0x72, 0x74, 0x2f, 0x62, 0x6f, 0x78], nothing, Dict{String, Vector{UInt8}}(), nothing, Dict{String, MeshCat.SceneTrees.SceneNode}()), \"hinge\" => MeshCat.SceneTrees.SceneNode(UInt8[0x83, 0xa6, 0x6f, 0x62, 0x6a, 0x65, 0x63, 0x74, 0x84, 0xaa  …  0x63, 0x61, 0x72, 0x74, 0x2f, 0x68, 0x69, 0x6e, 0x67, 0x65], nothing, Dict{String, Vector{UInt8}}(), nothing, Dict{String, MeshCat.SceneTrees.SceneNode}()))))))))), Set(Any[WebSocket(server, \u001b[32mCONNECTED\u001b[39m)]), ip\"127.0.0.1\", 8700))"
      ]
     },
     "execution_count": 31,
     "metadata": {},
     "output_type": "execute_result"
    }
   ],
   "source": [
    "isautograder || render(vis)"
   ]
  },
  {
   "cell_type": "code",
   "execution_count": 46,
   "metadata": {},
   "outputs": [
    {
     "name": "stdout",
     "output_type": "stream",
     "text": [
      "Controller ran at 3.962627334801413e6 Hz\n"
     ]
    }
   ],
   "source": [
    "# Simulate with a different model\n",
    "let Zref = copy(Zsol)\n",
    "    ctrl = gen_controller(nlp, Zref)\n",
    "    model2 = RobotZoo.Cartpole(1.1, 0.2, 0.5, 9.81)\n",
    "    Xsim, Usim, tsim = simulate(model2, nlp.x0, ctrl, tf=5nlp.tf, dt=0.005)\n",
    "    isautograder || visualize!(vis, model2, tsim[end], Xsim)\n",
    "end"
   ]
  },
  {
   "cell_type": "code",
   "execution_count": 42,
   "metadata": {
    "scrolled": true
   },
   "outputs": [
    {
     "name": "stdout",
     "output_type": "stream",
     "text": [
      "Controller ran at 4.196120947262246e6 Hz\n",
      "Q2d: \u001b[91m\u001b[1mTest Failed\u001b[22m\u001b[39m at \u001b[39m\u001b[1mIn[42]:14\u001b[22m\n",
      "  Expression: abs((Xsim[end])[2] - pi) < 0.01\n",
      "   Evaluated: 3.1395269696510897 < 0.01\n",
      "Stacktrace:\n",
      " [1] \u001b[0m\u001b[1mmacro expansion\u001b[22m\n",
      "\u001b[90m   @ \u001b[39m\u001b[90m./\u001b[39m\u001b[90;4mIn[42]:14\u001b[0m\u001b[90m [inlined]\u001b[39m\n",
      " [2] \u001b[0m\u001b[1mmacro expansion\u001b[22m\n",
      "\u001b[90m   @ \u001b[39m\u001b[90m/buildworker/worker/package_linux64/build/usr/share/julia/stdlib/v1.6/Test/src/\u001b[39m\u001b[90;4mTest.jl:1151\u001b[0m\u001b[90m [inlined]\u001b[39m\n",
      " [3] top-level scope\n",
      "\u001b[90m   @ \u001b[39m\u001b[90m./\u001b[39m\u001b[90;4mIn[42]:3\u001b[0m\n",
      "Q2d: \u001b[91m\u001b[1mTest Failed\u001b[22m\u001b[39m at \u001b[39m\u001b[1mIn[42]:16\u001b[22m\n",
      "  Expression: abs((Xsim[end])[4]) < 0.01\n",
      "   Evaluated: 0.045828076610626434 < 0.01\n",
      "Stacktrace:\n",
      " [1] \u001b[0m\u001b[1mmacro expansion\u001b[22m\n",
      "\u001b[90m   @ \u001b[39m\u001b[90m./\u001b[39m\u001b[90;4mIn[42]:16\u001b[0m\u001b[90m [inlined]\u001b[39m\n",
      " [2] \u001b[0m\u001b[1mmacro expansion\u001b[22m\n",
      "\u001b[90m   @ \u001b[39m\u001b[90m/buildworker/worker/package_linux64/build/usr/share/julia/stdlib/v1.6/Test/src/\u001b[39m\u001b[90;4mTest.jl:1151\u001b[0m\u001b[90m [inlined]\u001b[39m\n",
      " [3] top-level scope\n",
      "\u001b[90m   @ \u001b[39m\u001b[90m./\u001b[39m\u001b[90;4mIn[42]:3\u001b[0m\n",
      "\u001b[0m\u001b[1mTest Summary: | \u001b[22m\u001b[32m\u001b[1mPass  \u001b[22m\u001b[39m\u001b[91m\u001b[1mFail  \u001b[22m\u001b[39m\u001b[36m\u001b[1mTotal\u001b[22m\u001b[39m\n",
      "Q2d           | \u001b[32m   4  \u001b[39m\u001b[91m   2  \u001b[39m\u001b[36m    6\u001b[39m\n"
     ]
    },
    {
     "ename": "LoadError",
     "evalue": "\u001b[91mSome tests did not pass: 4 passed, 2 failed, 0 errored, 0 broken.\u001b[39m",
     "output_type": "error",
     "traceback": [
      "\u001b[91mSome tests did not pass: 4 passed, 2 failed, 0 errored, 0 broken.\u001b[39m",
      "",
      "Stacktrace:",
      " [1] finish(ts::Test.DefaultTestSet)",
      "   @ Test /buildworker/worker/package_linux64/build/usr/share/julia/stdlib/v1.6/Test/src/Test.jl:913",
      " [2] macro expansion",
      "   @ /buildworker/worker/package_linux64/build/usr/share/julia/stdlib/v1.6/Test/src/Test.jl:1161 [inlined]",
      " [3] top-level scope",
      "   @ ./In[42]:3",
      " [4] eval",
      "   @ ./boot.jl:360 [inlined]",
      " [5] include_string(mapexpr::typeof(REPL.softscope), mod::Module, code::String, filename::String)",
      "   @ Base ./loading.jl:1116"
     ]
    }
   ],
   "source": [
    "using Random\n",
    "@testset \"Q2d\" begin                                                # POINTS = 10\n",
    "    Random.seed!(1)\n",
    "    model2 = RobotZoo.Cartpole(1.1, 0.2, 0.5, 9.81)\n",
    "    ctrl = gen_controller(nlp, Zsol)\n",
    "    tsim = @elapsed Xsim, Usim, tsim = \n",
    "        simulate(model2, nlp.x0, ctrl, tf=5nlp.tf, dt=0.005)\n",
    "    \n",
    "    # Test real-time performance\n",
    "    @test tsim < 5nlp.tf                                            # POINTS = 1\n",
    "    \n",
    "    # Check that it gets to the goal\n",
    "    @test abs(Xsim[end][1]) < 0.1                                   # POINTS = 0.5\n",
    "    @test abs(Xsim[end][2] - pi) < 1e-2                             # POINTS = 7\n",
    "    @test abs(Xsim[end][3]) < 0.1                                   # POINTS = 0.5\n",
    "    @test abs(Xsim[end][4]) < 1e-2                                  # POINTS = 0.5\n",
    "    @test norm(Usim[end-10:end], Inf) < 0.3                         # POINTS = 0.5\n",
    "end;"
   ]
  },
  {
   "cell_type": "markdown",
   "metadata": {},
   "source": [
    "# Part (e): EXTRA CREDIT Leveraging sparsity (max 5 pts)\n",
    "NLP solvers like Ipopt or SNOPT are designed to leverage sparsity in the problem, especially in the constraint Jacobian. Right now we're ignoring the sparsity structure in the constraint Jacobian, so the solver iterations are fairly slow. Get up to 5 extra credit points by leveraging the sparsity structure in the constraint Jacobian. You'll need to read up on how to specify the sparsity pattern in the [MathOptInterface.jl documentation](http://jump.dev/MathOptInterface.jl/stable/reference/nonlinear/). You should only leverage the sparsity when the `use_sparse_jacobian` flag in the `NLP` struct is set to true. We use this flag to compare the solutions between the normal (dense) version and your sparse version. You'll get points for having matching Jacobians, the size of the nonzeros vector you're passing to Ipopt (shoot for a sparsity of less than 2-5%). You'll also get up to 2 points for the speedup you get from the solver (the TA solution got a speed up of about 100x).\n",
    "\n",
    "**TIPS**\n",
    "- You'll need to modify the `MOI.jacobian_structure` method in `q2_moi.jl`\n",
    "- You'll need to modify the `jac_c!` method that takes a vector in `q2_constraints.jl`\n",
    "\n",
    "We will run the following function to calculate your extra credit:"
   ]
  },
  {
   "cell_type": "code",
   "execution_count": 34,
   "metadata": {},
   "outputs": [],
   "source": [
    "include(\"q2_tests.jl\");"
   ]
  },
  {
   "cell_type": "code",
   "execution_count": 35,
   "metadata": {},
   "outputs": [
    {
     "name": "stdout",
     "output_type": "stream",
     "text": [
      "Creating NLP Block Data...\n",
      "Creating Ipopt...\n",
      "Adding constraints...\n",
      "starting Ipopt Solve...\n",
      "This is Ipopt version 3.14.4, running with linear solver MUMPS 5.4.1.\n",
      "\n",
      "Number of nonzeros in equality constraint Jacobian...:   206040\n",
      "Number of nonzeros in inequality constraint Jacobian.:        0\n",
      "Number of nonzeros in Lagrangian Hessian.............:        0\n",
      "\n",
      "The Jacobian for the equality constraints contains an invalid number\n",
      "\n",
      "Number of Iterations....: 0\n",
      "\n",
      "Number of objective function evaluations             = 0\n",
      "Number of objective gradient evaluations             = 0\n",
      "Number of equality constraint evaluations            = 0\n",
      "Number of inequality constraint evaluations          = 0\n",
      "Number of equality constraint Jacobian evaluations   = 1\n",
      "Number of inequality constraint Jacobian evaluations = 0\n",
      "Number of Lagrangian Hessian evaluations             = 0\n",
      "Total seconds in IPOPT                               = 0.006\n",
      "\n",
      "EXIT: Invalid number in NLP function or derivative detected.\n",
      "Creating NLP Block Data...\n",
      "Creating Ipopt...\n",
      "Adding constraints...\n",
      "starting Ipopt Solve...\n"
     ]
    },
    {
     "ename": "LoadError",
     "evalue": "IPOPT: Failed to construct problem for some unknown reason.",
     "output_type": "error",
     "traceback": [
      "IPOPT: Failed to construct problem for some unknown reason.",
      "",
      "Stacktrace:",
      "  [1] error(s::String)",
      "    @ Base ./error.jl:33",
      "  [2] CreateIpoptProblem(n::Int64, x_L::Vector{Float64}, x_U::Vector{Float64}, m::Int64, g_L::Vector{Float64}, g_U::Vector{Float64}, nele_jac::Int64, nele_hess::Int64, eval_f::Ipopt.var\"#eval_f_cb#3\"{Ipopt.Optimizer}, eval_g::Ipopt.var\"#eval_g_cb#5\"{Ipopt.Optimizer}, eval_grad_f::Ipopt.var\"#eval_grad_f_cb#4\"{Ipopt.Optimizer}, eval_jac_g::Ipopt.var\"#eval_jac_g_cb#6\"{Ipopt.Optimizer, Vector{Tuple{Int64, Int64}}}, eval_h::Nothing)",
      "    @ Ipopt ~/.julia/packages/Ipopt/M2QE8/src/C_wrapper.jl:266",
      "  [3] optimize!(model::Ipopt.Optimizer)",
      "    @ Ipopt ~/.julia/packages/Ipopt/M2QE8/src/MOI_wrapper.jl:1130",
      "  [4] solve(x0::Vector{Float64}, prob::NLP{4, 1, RobotZoo.Cartpole{Float64}}; tol::Float64, c_tol::Float64, max_iter::Int64)",
      "    @ Main ~/Classes/16745_OptimalControl/hw3_solutions/src/q2_moi.jl:86",
      "  [5] solve",
      "    @ ~/Classes/16745_OptimalControl/hw3_solutions/src/q2_moi.jl:56 [inlined]",
      "  [6] macro expansion",
      "    @ ./timing.jl:287 [inlined]",
      "  [7] test_extracredit()",
      "    @ Main ~/Classes/16745_OptimalControl/hw3_solutions/src/q2_tests.jl:115",
      "  [8] top-level scope",
      "    @ In[35]:2",
      "  [9] eval",
      "    @ ./boot.jl:360 [inlined]",
      " [10] include_string(mapexpr::typeof(REPL.softscope), mod::Module, code::String, filename::String)",
      "    @ Base ./loading.jl:1116"
     ]
    }
   ],
   "source": [
    "isautograder && println(\"Running extra credit\")\n",
    "extra_credit_points = test_extracredit()"
   ]
  }
 ],
 "metadata": {
  "@webio": {
   "lastCommId": null,
   "lastKernelId": null
  },
  "kernelspec": {
   "display_name": "Julia 1.6.5",
   "language": "julia",
   "name": "julia-1.6"
  },
  "language_info": {
   "file_extension": ".jl",
   "mimetype": "application/julia",
   "name": "julia",
   "version": "1.6.5"
  }
 },
 "nbformat": 4,
 "nbformat_minor": 4
}
