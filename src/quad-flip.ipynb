{
 "cells": [
  {
   "cell_type": "code",
   "execution_count": 1,
   "metadata": {},
   "outputs": [],
   "source": [
    "using LinearAlgebra\n",
    "using PyPlot\n",
    "using ForwardDiff\n",
    "using MatrixCalculus"
   ]
  },
  {
   "cell_type": "code",
   "execution_count": 2,
   "metadata": {},
   "outputs": [
    {
     "data": {
      "text/plain": [
       "0.025"
      ]
     },
     "execution_count": 2,
     "metadata": {},
     "output_type": "execute_result"
    }
   ],
   "source": [
    "#Model parameters\n",
    "g = 9.81 #m/s^2\n",
    "m = 1.0 #kg \n",
    "ℓ = 0.3 #meters\n",
    "\n",
    "#Thrust and gimbal limits\n",
    "umin = [0.0; 0.0]\n",
    "umax = [0.6*m*g; 0.6*m*g]\n",
    "\n",
    "h = 0.025 #time step (50 Hz)"
   ]
  },
  {
   "cell_type": "code",
   "execution_count": 3,
   "metadata": {},
   "outputs": [
    {
     "data": {
      "text/plain": [
       "quad_dynamics (generic function with 1 method)"
      ]
     },
     "execution_count": 3,
     "metadata": {},
     "output_type": "execute_result"
    }
   ],
   "source": [
    "#Planar Quadrotor Dynamics\n",
    "function quad_dynamics(x,u)\n",
    "    J = 0.2*m*ℓ*ℓ\n",
    "    \n",
    "    θ = x[3]\n",
    "    \n",
    "    ẍ = (1/m)*(u[1] + u[2])*sin(θ)\n",
    "    ÿ = (1/m)*(u[1] + u[2])*cos(θ) - g\n",
    "    θ̈ = (1/J)*(ℓ/2)*(u[2] - u[1])\n",
    "    \n",
    "    return [x[4:6]; ẍ; ÿ; θ̈]\n",
    "end"
   ]
  },
  {
   "cell_type": "code",
   "execution_count": 4,
   "metadata": {},
   "outputs": [
    {
     "data": {
      "text/plain": [
       "quad_dynamics_rk4 (generic function with 1 method)"
      ]
     },
     "execution_count": 4,
     "metadata": {},
     "output_type": "execute_result"
    }
   ],
   "source": [
    "function quad_dynamics_rk4(x,u)\n",
    "    #RK4 integration with zero-order hold on u\n",
    "    f1 = quad_dynamics(x, u)\n",
    "    f2 = quad_dynamics(x + 0.5*h*f1, u)\n",
    "    f3 = quad_dynamics(x + 0.5*h*f2, u)\n",
    "    f4 = quad_dynamics(x + h*f3, u)\n",
    "    return x + (h/6.0)*(f1 + 2*f2 + 2*f3 + f4)\n",
    "end"
   ]
  },
  {
   "cell_type": "code",
   "execution_count": 5,
   "metadata": {},
   "outputs": [
    {
     "data": {
      "text/plain": [
       "dfdu (generic function with 1 method)"
      ]
     },
     "execution_count": 5,
     "metadata": {},
     "output_type": "execute_result"
    }
   ],
   "source": [
    "#First derivatives of dynamics\n",
    "\n",
    "function dfdx(x,u)\n",
    "    return ForwardDiff.jacobian(dx->quad_dynamics_rk4(dx,u),x)\n",
    "end\n",
    "\n",
    "function dfdu(x,u)\n",
    "    return ForwardDiff.jacobian(du->quad_dynamics_rk4(x,du),u)\n",
    "end"
   ]
  },
  {
   "cell_type": "code",
   "execution_count": 6,
   "metadata": {},
   "outputs": [
    {
     "data": {
      "text/plain": [
       "dBdu (generic function with 1 method)"
      ]
     },
     "execution_count": 6,
     "metadata": {},
     "output_type": "execute_result"
    }
   ],
   "source": [
    "#Second derivatives of dynamics\n",
    "\n",
    "function dAdx(x,u)\n",
    "    return ForwardDiff.jacobian(dx->vec(dfdx(dx,u)),x)\n",
    "end\n",
    "\n",
    "function dBdx(x,u)\n",
    "    return ForwardDiff.jacobian(dx->vec(dfdu(dx,u)),x)\n",
    "end\n",
    "\n",
    "function dAdu(x,u)\n",
    "    return ForwardDiff.jacobian(du->vec(dfdx(x,du)),u)\n",
    "end\n",
    "\n",
    "function dBdu(x,u)\n",
    "    return ForwardDiff.jacobian(du->vec(dfdu(x,du)),u)\n",
    "end"
   ]
  },
  {
   "cell_type": "code",
   "execution_count": 7,
   "metadata": {},
   "outputs": [],
   "source": [
    "Nx = 6     # number of state\n",
    "Nu = 2     # number of controls\n",
    "Tfinal = 1.5 # final time\n",
    "Nt = Int(Tfinal/h)+1    # number of time steps\n",
    "thist = Array(range(0,h*(Nt-1), step=h));"
   ]
  },
  {
   "cell_type": "code",
   "execution_count": 8,
   "metadata": {},
   "outputs": [],
   "source": [
    "# Cost weights\n",
    "Q = Diagonal([ones(3); 0.1*ones(3)]);\n",
    "R = Array(.01*I(Nu));\n",
    "Qn = Array(100.0*I(Nx));"
   ]
  },
  {
   "cell_type": "code",
   "execution_count": 24,
   "metadata": {},
   "outputs": [
    {
     "data": {
      "text/plain": [
       "6×61 Array{Float64,2}:\n",
       " -3.0  -2.84211  -2.68421  -2.52632  …   2.7       2.85      3.0\n",
       "  1.0   1.0       1.0       1.0          1.0       1.0       1.0\n",
       "  0.0   0.0       0.0       0.0         -6.28319  -6.28319  -6.28319\n",
       "  6.0   6.0       6.0       6.0          6.0       6.0       6.0\n",
       "  0.0   0.0       0.0       0.0          0.0       0.0       0.0\n",
       "  0.0   0.0       0.0       0.0      …   0.0       0.0       0.0"
      ]
     },
     "execution_count": 24,
     "metadata": {},
     "output_type": "execute_result"
    }
   ],
   "source": [
    "#Reference trajectory for flip\n",
    "x1ref = [LinRange(-3,0,20); zeros(20); LinRange(0,3,21)]\n",
    "x2ref = [ones(20); LinRange(1,3,10); LinRange(3,1,10); ones(21)]\n",
    "θref = [zeros(20); LinRange(0,-2*pi,20); -2*pi*ones(21)]\n",
    "v1ref = [6.0*ones(20); zeros(20); 6.0*ones(21)]\n",
    "v2ref = [zeros(20); 8.0*ones(10); -8.0*ones(10); zeros(21)]\n",
    "ωref = [zeros(20); -4*pi*ones(20); zeros(21)]\n",
    "xref = [x1ref'; x2ref'; θref'; v1ref'; v2ref'; ωref']"
   ]
  },
  {
   "cell_type": "code",
   "execution_count": 10,
   "metadata": {},
   "outputs": [
    {
     "data": {
      "text/plain": [
       "6×101 Array{Float64,2}:\n",
       " -2.0      -1.96     -1.92     …  1.88     1.92     1.96     2.0\n",
       "  1.0       1.0       1.0         1.0      1.0      1.0      1.0\n",
       "  0.0       0.0       0.0         0.0      0.0      0.0      0.0\n",
       "  1.33333   1.33333   1.33333     1.33333  1.33333  1.33333  1.33333\n",
       "  0.0       0.0       0.0         0.0      0.0      0.0      0.0\n",
       "  0.0       0.0       0.0      …  0.0      0.0      0.0      0.0"
      ]
     },
     "execution_count": 10,
     "metadata": {},
     "output_type": "execute_result"
    }
   ],
   "source": [
    "#Reference trajectory for straight line\n",
    "x1ref = Array(LinRange(-2,2,101))\n",
    "x2ref = Array(ones(101))\n",
    "θref = Array(zeros(101))\n",
    "v1ref = Array((4.0/3.0)*ones(101))\n",
    "v2ref = Array(zeros(101))\n",
    "ωref = Array(zeros(101))\n",
    "xref = [x1ref'; x2ref'; θref'; v1ref'; v2ref'; ωref']"
   ]
  },
  {
   "cell_type": "code",
   "execution_count": 11,
   "metadata": {},
   "outputs": [
    {
     "data": {
      "text/plain": [
       "stage_cost (generic function with 1 method)"
      ]
     },
     "execution_count": 11,
     "metadata": {},
     "output_type": "execute_result"
    }
   ],
   "source": [
    "function stage_cost(x,u,k)\n",
    "    return 0.5*(x-xref[:,k])'*Q*(x-xref[:,k]) + 0.5*(u-uhover)'*R*(u-uhover)\n",
    "    #return 0.5*(x-xgoal)'*Q*(x-xgoal) + 0.5*(u-uhover)'*R*(u-uhover)\n",
    "end"
   ]
  },
  {
   "cell_type": "code",
   "execution_count": 12,
   "metadata": {},
   "outputs": [
    {
     "data": {
      "text/plain": [
       "terminal_cost (generic function with 1 method)"
      ]
     },
     "execution_count": 12,
     "metadata": {},
     "output_type": "execute_result"
    }
   ],
   "source": [
    "function terminal_cost(x)\n",
    "    return 0.5*(x-xref[:,Nt])'*Qn*(x-xref[:,Nt])\n",
    "    #return 0.5*(x-xgoal)'*Qn*(x-xgoal)\n",
    "end"
   ]
  },
  {
   "cell_type": "code",
   "execution_count": 13,
   "metadata": {},
   "outputs": [
    {
     "data": {
      "text/plain": [
       "cost (generic function with 1 method)"
      ]
     },
     "execution_count": 13,
     "metadata": {},
     "output_type": "execute_result"
    }
   ],
   "source": [
    "function cost(xtraj,utraj)\n",
    "    J = 0\n",
    "    for k = 1:(Nt-1)\n",
    "        J += stage_cost(xtraj[:,k],utraj[:,k],k)\n",
    "    end\n",
    "    J += terminal_cost(xtraj[:,Nt])\n",
    "    return J\n",
    "end"
   ]
  },
  {
   "cell_type": "code",
   "execution_count": 57,
   "metadata": {},
   "outputs": [
    {
     "data": {
      "text/plain": [
       "6037.32751887312"
      ]
     },
     "execution_count": 57,
     "metadata": {},
     "output_type": "execute_result"
    }
   ],
   "source": [
    "#Initial guess trajectory (hover)\n",
    "x0 = [-2.0; 1.0; 0; 0; 0; 0]\n",
    "xgoal = [2.0; 1.0; 0; 0; 0; 0]\n",
    "uhover = [0.5*m*g; 0.5*m*g]\n",
    "xtraj = kron(ones(1,Nt), x0)\n",
    "utraj = kron(ones(1,Nt-1), uhover)\n",
    "J = cost(xtraj,utraj)"
   ]
  },
  {
   "cell_type": "code",
   "execution_count": 58,
   "metadata": {},
   "outputs": [
    {
     "data": {
      "text/plain": [
       "2×60 Array{Float64,2}:\n",
       "  0.276789   0.231704   1.63459  …  -0.247756  -0.197595  -0.0760077\n",
       " -0.107451  -0.0583631  0.15475      0.248686   0.198475   0.0763627"
      ]
     },
     "metadata": {},
     "output_type": "display_data"
    },
    {
     "data": {
      "text/plain": [
       "1.0"
      ]
     },
     "metadata": {},
     "output_type": "display_data"
    },
    {
     "data": {
      "text/plain": [
       "2×60 Array{Float64,2}:\n",
       "  1.21297    0.255573   0.212515   …  -0.29987   -0.175469     0.0381024\n",
       " -0.164034  -0.137417  -0.0942177      0.105942  -0.00241665  -0.201056"
      ]
     },
     "metadata": {},
     "output_type": "display_data"
    },
    {
     "data": {
      "text/plain": [
       "1.0"
      ]
     },
     "metadata": {},
     "output_type": "display_data"
    },
    {
     "data": {
      "text/plain": [
       "2×60 Array{Float64,2}:\n",
       "  0.664664   0.113022    0.827947  …  -0.364577  -0.174679   0.844091\n",
       " -0.221232  -0.0634397  -0.324556      0.3705     0.205428  -0.357579"
      ]
     },
     "metadata": {},
     "output_type": "display_data"
    },
    {
     "data": {
      "text/plain": [
       "1.0"
      ]
     },
     "metadata": {},
     "output_type": "display_data"
    },
    {
     "data": {
      "text/plain": [
       "2×60 Array{Float64,2}:\n",
       " -0.206939  -0.124222  -0.0614842  …  -0.246112  0.00449731  1.66756\n",
       "  0.317574   0.261894   0.205393       0.443748  2.29637     1.02706"
      ]
     },
     "metadata": {},
     "output_type": "display_data"
    },
    {
     "data": {
      "text/plain": [
       "1.0"
      ]
     },
     "metadata": {},
     "output_type": "display_data"
    },
    {
     "data": {
      "text/plain": [
       "2×60 Array{Float64,2}:\n",
       " 1.06964  0.0976097  1.04805  1.10182  …  -0.783001  0.548968  2.08212\n",
       " 1.45328  0.15961    1.39849  1.35214      3.09974   2.41888   1.48822"
      ]
     },
     "metadata": {},
     "output_type": "display_data"
    },
    {
     "data": {
      "text/plain": [
       "0.5"
      ]
     },
     "metadata": {},
     "output_type": "display_data"
    },
    {
     "data": {
      "text/plain": [
       "2×60 Array{Float64,2}:\n",
       " -3.6072   -3.34458  -3.38604  -3.15241  …  -2.1985   -4.80702  6.04722\n",
       " -2.49435  -2.92157  -3.45601  -3.91136      2.29935  10.1625   5.41113"
      ]
     },
     "metadata": {},
     "output_type": "display_data"
    },
    {
     "data": {
      "text/plain": [
       "1.0"
      ]
     },
     "metadata": {},
     "output_type": "display_data"
    },
    {
     "data": {
      "text/plain": [
       "2×60 Array{Float64,2}:\n",
       " 0.974963   0.193837   0.17543    …  -1.36954  -5.35244  -0.0066842\n",
       " 0.23686   -0.037825  -0.0220856      4.5212   -5.35812  -0.00813859"
      ]
     },
     "metadata": {},
     "output_type": "display_data"
    },
    {
     "data": {
      "text/plain": [
       "1.0"
      ]
     },
     "metadata": {},
     "output_type": "display_data"
    },
    {
     "data": {
      "text/plain": [
       "2×60 Array{Float64,2}:\n",
       " 0.527538    0.0929847   0.0741965   …  -7.42984  -4.78153  -0.00597633\n",
       " 0.0724047  -0.0190562  -0.00488445      8.41982  -4.78524  -0.00734129"
      ]
     },
     "metadata": {},
     "output_type": "display_data"
    },
    {
     "data": {
      "text/plain": [
       "1.0"
      ]
     },
     "metadata": {},
     "output_type": "display_data"
    },
    {
     "data": {
      "text/plain": [
       "2×60 Array{Float64,2}:\n",
       "  0.342346    0.0519963  0.332656   …  -12.4932   -4.2392   -0.00527008\n",
       " -0.0249785  -0.0125359  0.0171856       5.93222  -4.24224  -0.00656608"
      ]
     },
     "metadata": {},
     "output_type": "display_data"
    },
    {
     "data": {
      "text/plain": [
       "1.0"
      ]
     },
     "metadata": {},
     "output_type": "display_data"
    },
    {
     "data": {
      "text/plain": [
       "2×60 Array{Float64,2}:\n",
       "  0.0539806   0.417971    0.054425   …  -23.1432  -15.162   -0.0460712\n",
       " -0.00708953  0.0683817  -0.0045592     -14.8451  -15.1842  -0.0577"
      ]
     },
     "metadata": {},
     "output_type": "display_data"
    },
    {
     "data": {
      "text/plain": [
       "1.0"
      ]
     },
     "metadata": {},
     "output_type": "display_data"
    },
    {
     "data": {
      "text/plain": [
       "2×60 Array{Float64,2}:\n",
       "  0.0623302    0.50539   0.465463  0.462076  …  -8.37553  -1.6158   -0.138432\n",
       " -0.000228422  0.117746  0.140016  0.139326     -7.76026  -1.65171  -0.232854"
      ]
     },
     "metadata": {},
     "output_type": "display_data"
    },
    {
     "data": {
      "text/plain": [
       "1.0"
      ]
     },
     "metadata": {},
     "output_type": "display_data"
    },
    {
     "data": {
      "text/plain": [
       "2×60 Array{Float64,2}:\n",
       "  0.326645   2.02676    1.62201    0.227882  …  2.93311  2.63421  -2.93137\n",
       " -0.215993  -0.837559  -0.731165  -0.152853     2.02408  1.01818  -2.93225"
      ]
     },
     "metadata": {},
     "output_type": "display_data"
    },
    {
     "data": {
      "text/plain": [
       "1.0"
      ]
     },
     "metadata": {},
     "output_type": "display_data"
    },
    {
     "data": {
      "text/plain": [
       "2×60 Array{Float64,2}:\n",
       "  0.222352   0.201526   0.171873   0.15423   …  0.419535  2.59444  3.92287\n",
       " -0.222712  -0.163561  -0.139158  -0.112362     0.897513  3.79589  3.92704"
      ]
     },
     "metadata": {},
     "output_type": "display_data"
    },
    {
     "data": {
      "text/plain": [
       "1.0"
      ]
     },
     "metadata": {},
     "output_type": "display_data"
    },
    {
     "data": {
      "text/plain": [
       "2×60 Array{Float64,2}:\n",
       "  8.24557   7.38947    4.73235    2.52909  …  8.611    -1.61948  2.81546\n",
       " -2.60057  -0.352601  -0.897874  -1.02072     8.36051  -1.34793  2.81799"
      ]
     },
     "metadata": {},
     "output_type": "display_data"
    },
    {
     "data": {
      "text/plain": [
       "1.0"
      ]
     },
     "metadata": {},
     "output_type": "display_data"
    },
    {
     "data": {
      "text/plain": [
       "2×60 Array{Float64,2}:\n",
       "  0.77225    0.535264   0.213847  …  -1.99951  -0.776795  0.0774735\n",
       " -0.291821  -0.485753  -0.590802     -4.24596  -3.14444   0.0759773"
      ]
     },
     "metadata": {},
     "output_type": "display_data"
    },
    {
     "data": {
      "text/plain": [
       "0.5"
      ]
     },
     "metadata": {},
     "output_type": "display_data"
    },
    {
     "data": {
      "text/plain": [
       "2×60 Array{Float64,2}:\n",
       "  2.22301     1.93108    1.39227   …  -1.97243  -0.779579  -0.131034\n",
       " -0.0458392  -0.264429  -0.266159     -3.32423  -2.19608   -0.131794"
      ]
     },
     "metadata": {},
     "output_type": "display_data"
    },
    {
     "data": {
      "text/plain": [
       "0.5"
      ]
     },
     "metadata": {},
     "output_type": "display_data"
    },
    {
     "data": {
      "text/plain": [
       "2×60 Array{Float64,2}:\n",
       " 1.67862   1.51275   1.15591   5.49853  …  -0.606118   0.0750982  -0.103904\n",
       " 0.300177  0.107524  0.049545  1.44276     -3.47053   -1.99742    -0.104967"
      ]
     },
     "metadata": {},
     "output_type": "display_data"
    },
    {
     "data": {
      "text/plain": [
       "1.0"
      ]
     },
     "metadata": {},
     "output_type": "display_data"
    },
    {
     "data": {
      "text/plain": [
       "2×60 Array{Float64,2}:\n",
       " 1.52953  0.0273029  -1.71962  -6.66575  …  -0.951635   -0.426437  -0.228623\n",
       " 4.63461  3.22417     1.89771  -1.4385      -0.0334084  -0.105972  -0.228809"
      ]
     },
     "metadata": {},
     "output_type": "display_data"
    },
    {
     "data": {
      "text/plain": [
       "0.5"
      ]
     },
     "metadata": {},
     "output_type": "display_data"
    },
    {
     "data": {
      "text/plain": [
       "2×60 Array{Float64,2}:\n",
       "  0.307124   0.279407   0.168281  …   0.246121  -0.263465  -0.548825\n",
       " -0.3538    -0.385091  -0.295278     -1.70216   -0.934778  -0.548908"
      ]
     },
     "metadata": {},
     "output_type": "display_data"
    },
    {
     "data": {
      "text/plain": [
       "1.0"
      ]
     },
     "metadata": {},
     "output_type": "display_data"
    },
    {
     "data": {
      "text/plain": [
       "2×60 Array{Float64,2}:\n",
       "  0.0197594  -0.0102132  -0.0642952  …  0.0108431  -0.113296   -2.28865\n",
       " -0.159906   -0.151918   -0.094775      0.047974   -0.0948685  -2.28957"
      ]
     },
     "metadata": {},
     "output_type": "display_data"
    },
    {
     "data": {
      "text/plain": [
       "1.0"
      ]
     },
     "metadata": {},
     "output_type": "display_data"
    },
    {
     "data": {
      "text/plain": [
       "2×60 Array{Float64,2}:\n",
       " -0.717598  -1.46798  -2.46461  -2.70704   …  3.81508  1.97689  -0.601787\n",
       " -0.877315  -1.37877  -1.53147  -0.511176     1.46586  3.81846  -0.600049"
      ]
     },
     "metadata": {},
     "output_type": "display_data"
    },
    {
     "data": {
      "text/plain": [
       "1.0"
      ]
     },
     "metadata": {},
     "output_type": "display_data"
    },
    {
     "data": {
      "text/plain": [
       "2×60 Array{Float64,2}:\n",
       "  0.287373   0.202325   0.161238  …  -0.0460858  -0.0691374  -0.0542153\n",
       " -1.16663   -1.06163   -0.940676     -0.098418   -0.111688   -0.0542628"
      ]
     },
     "metadata": {},
     "output_type": "display_data"
    },
    {
     "data": {
      "text/plain": [
       "1.0"
      ]
     },
     "metadata": {},
     "output_type": "display_data"
    },
    {
     "data": {
      "text/plain": [
       "2×60 Array{Float64,2}:\n",
       " 0.232447  0.0258412  -0.210356   …  -0.0547049  -0.032779   -0.0181036\n",
       " 0.314318  0.211893    0.0941131     -0.0445417  -0.0268872  -0.0180979"
      ]
     },
     "metadata": {},
     "output_type": "display_data"
    },
    {
     "data": {
      "text/plain": [
       "1.0"
      ]
     },
     "metadata": {},
     "output_type": "display_data"
    },
    {
     "data": {
      "text/plain": [
       "2×60 Array{Float64,2}:\n",
       " -0.0698815  -0.0491576  -0.0183855   0.0242512  …  -0.000258031  -5.80922e-5\n",
       " -0.249219   -0.260067   -0.225226   -0.168066      -0.000285844  -5.80738e-5"
      ]
     },
     "metadata": {},
     "output_type": "display_data"
    },
    {
     "data": {
      "text/plain": [
       "1.0"
      ]
     },
     "metadata": {},
     "output_type": "display_data"
    },
    {
     "data": {
      "text/plain": [
       "2×60 Array{Float64,2}:\n",
       " 0.0881251  0.0559178  0.01225    -0.0288512  …  -1.68985e-5  -2.92733e-7\n",
       " 0.0692606  0.0690433  0.0470581   0.0207201     -2.03009e-5  -2.93974e-7"
      ]
     },
     "metadata": {},
     "output_type": "display_data"
    },
    {
     "data": {
      "text/plain": [
       "1.0"
      ]
     },
     "metadata": {},
     "output_type": "display_data"
    },
    {
     "data": {
      "text/plain": [
       "2×60 Array{Float64,2}:\n",
       " -0.0125427  -0.00988385  -0.00532043  …  8.46123e-6  2.69753e-6  -2.61393e-9\n",
       " -0.0249818  -0.0359355   -0.0352566      7.71565e-6  2.61364e-6  -2.62751e-9"
      ]
     },
     "metadata": {},
     "output_type": "display_data"
    },
    {
     "data": {
      "text/plain": [
       "1.0"
      ]
     },
     "metadata": {},
     "output_type": "display_data"
    },
    {
     "data": {
      "text/plain": [
       "2×60 Array{Float64,2}:\n",
       " 0.0111137  0.00815443  0.00272503  -0.00317325  …  -1.70385e-6  -6.05896e-9\n",
       " 0.0072053  0.00932186  0.00752123   0.0037711      -1.68265e-6  -6.06028e-9"
      ]
     },
     "metadata": {},
     "output_type": "display_data"
    },
    {
     "data": {
      "text/plain": [
       "1.0"
      ]
     },
     "metadata": {},
     "output_type": "display_data"
    },
    {
     "data": {
      "text/plain": [
       "2×60 Array{Float64,2}:\n",
       " -0.00163705  -0.00141327  -0.000852128  …  3.67631e-7  -2.74507e-10\n",
       " -0.00277831  -0.00455912  -0.00476127      3.60181e-7  -2.74663e-10"
      ]
     },
     "metadata": {},
     "output_type": "display_data"
    },
    {
     "data": {
      "text/plain": [
       "1.0"
      ]
     },
     "metadata": {},
     "output_type": "display_data"
    }
   ],
   "source": [
    "#DDP Algorithm\n",
    "p = zeros(Nx,Nt)\n",
    "P = zeros(Nx,Nx,Nt)\n",
    "j = ones(Nu,Nt-1)\n",
    "K = zeros(Nu,Nx,Nt-1)\n",
    "ΔJ = 0.0\n",
    "\n",
    "iter = 0\n",
    "while maximum(abs.(j[:])) > 1e-2\n",
    "    iter += 1\n",
    "    \n",
    "    p = zeros(Nx,Nt)\n",
    "    P = zeros(Nx,Nx,Nt)\n",
    "    j = zeros(Nu,Nt-1)\n",
    "    K = zeros(Nu,Nx,Nt-1)\n",
    "    ΔJ = 0.0\n",
    "\n",
    "    p[:,Nt] = ForwardDiff.gradient(terminal_cost,xtraj[:,Nt])\n",
    "    P[:,:,Nt] = ForwardDiff.hessian(terminal_cost,xtraj[:,Nt])\n",
    "    \n",
    "    #Backward Pass\n",
    "    for k = (Nt-1):-1:1\n",
    "        #Calculate derivatives\n",
    "        q = ForwardDiff.gradient(x->stage_cost(x,utraj[:,k],k),xtraj[:,k])\n",
    "        Q = ForwardDiff.hessian(x->stage_cost(x,utraj[:,k],k),xtraj[:,k])\n",
    "    \n",
    "        r = ForwardDiff.gradient(u->stage_cost(xtraj[:,k],u,k),utraj[:,k])\n",
    "        R = ForwardDiff.hessian(u->stage_cost(xtraj[:,k],u,k),utraj[:,k])\n",
    "    \n",
    "        A = dfdx(xtraj[:,k],utraj[:,k])\n",
    "        B = dfdu(xtraj[:,k],utraj[:,k])\n",
    "    \n",
    "        Ax = dAdx(xtraj[:,k],utraj[:,k])\n",
    "        Bx = dBdx(xtraj[:,k],utraj[:,k])\n",
    "        Au = dAdu(xtraj[:,k],utraj[:,k])\n",
    "        Bu = dBdu(xtraj[:,k],utraj[:,k])\n",
    "    \n",
    "        gx = q + A'*p[:,k+1]\n",
    "        gu = r + B'*p[:,k+1]\n",
    "    \n",
    "        Gxx = Q + A'*P[:,:,k+1]*A + kron(p[:,k+1]',I(Nx))*comm(Nx,Nx)*Ax\n",
    "        Guu = R + B'*P[:,:,k+1]*B + kron(p[:,k+1]',I(Nu))*comm(Nx,Nu)*Bu\n",
    "        Gxu = A'*P[:,:,k+1]*B + kron(p[:,Nt]',I(Nx))*comm(Nx,Nx)*Au\n",
    "        Gux = B'*P[:,:,k+1]*A + kron(p[:,Nt]',I(Nu))*comm(Nx,Nu)*Bx\n",
    "    \n",
    "        C = cholesky(Symmetric([Gxx Gxu; Gux Guu]), check=false)\n",
    "        α = 1.0\n",
    "        while !issuccess(C)\n",
    "            Guu += α*I\n",
    "            Gxx += α*I\n",
    "            C = cholesky(Symmetric([Gxx Gxu; Gux Guu]), check=false)\n",
    "            α = 10.0*α\n",
    "        end\n",
    "    \n",
    "        j[:,k] .= Guu\\gu\n",
    "        K[:,:,k] .= Guu\\Gux\n",
    "    \n",
    "        p[:,k] .= gx - K[:,:,k]'*gu + K[:,:,k]'*Guu*j[:,k] - Gxu*j[:,k]\n",
    "        P[:,:,k] .= Gxx + K[:,:,k]'*Guu*K[:,:,k] - Gxu*K[:,:,k] - K[:,:,k]'*Gux\n",
    "    \n",
    "        ΔJ += gu'*j[:,k]\n",
    "    end\n",
    "    display(j)\n",
    "\n",
    "    #Forward rollout with line search\n",
    "    xn = zeros(Nx,Nt)\n",
    "    un = zeros(Nu,Nt-1)\n",
    "    xn[:,1] = xtraj[:,1]\n",
    "    α = 1.0\n",
    "\n",
    "    for k = 1:Nt-1\n",
    "        un[:,k] .= utraj[:,k] - α*j[:,k] - K[:,:,k]*(xn[:,k]-xtraj[:,k])\n",
    "        xn[:,k+1] .= quad_dynamics_rk4(xn[:,k],un[:,k])\n",
    "    end\n",
    "    Jn = cost(xn,un)\n",
    "    \n",
    "    while Jn > (J - 1e-2*α*ΔJ)\n",
    "        α = 0.5*α\n",
    "        for k = 1:Nt-1\n",
    "            un[:,k] .= utraj[:,k] - α*j[:,k] - K[:,:,k]*(xn[:,k]-xtraj[:,k])\n",
    "            xn[:,k+1] .= quad_dynamics_rk4(xn[:,k],un[:,k])\n",
    "        end\n",
    "        Jn = cost(xn,un)\n",
    "    end\n",
    "    display(α)\n",
    "    \n",
    "    J = Jn\n",
    "    xtraj .= xn\n",
    "    utraj .= un\n",
    "end"
   ]
  },
  {
   "cell_type": "code",
   "execution_count": 59,
   "metadata": {},
   "outputs": [
    {
     "data": {
      "text/plain": [
       "28"
      ]
     },
     "execution_count": 59,
     "metadata": {},
     "output_type": "execute_result"
    }
   ],
   "source": [
    "iter"
   ]
  },
  {
   "cell_type": "code",
   "execution_count": 19,
   "metadata": {},
   "outputs": [
    {
     "data": {
      "text/plain": [
       "visualize! (generic function with 2 methods)"
      ]
     },
     "execution_count": 19,
     "metadata": {},
     "output_type": "execute_result"
    }
   ],
   "source": [
    "#Set up visualization\n",
    "using MeshCat\n",
    "using RobotZoo: Quadrotor, PlanarQuadrotor\n",
    "using CoordinateTransformations, Rotations, Colors, StaticArrays, RobotDynamics\n",
    "\n",
    "function set_mesh!(vis, model::L;\n",
    "        scaling=1.0, color=colorant\"black\"\n",
    "    ) where {L <: Union{Quadrotor, PlanarQuadrotor}} \n",
    "    # urdf_folder = joinpath(@__DIR__, \"..\", \"data\", \"meshes\")\n",
    "    urdf_folder = @__DIR__\n",
    "    # if scaling != 1.0\n",
    "    #     quad_scaling = 0.085 * scaling\n",
    "    obj = joinpath(urdf_folder, \"quadrotor_scaled.obj\")\n",
    "    if scaling != 1.0\n",
    "        error(\"Scaling not implemented after switching to MeshCat 0.12\")\n",
    "    end\n",
    "    robot_obj = MeshFileGeometry(obj)\n",
    "    mat = MeshPhongMaterial(color=color)\n",
    "    setobject!(vis[\"robot\"][\"geom\"], robot_obj, mat)\n",
    "    if hasfield(L, :ned)\n",
    "        model.ned && settransform!(vis[\"robot\"][\"geom\"], LinearMap(RotX(pi)))\n",
    "    end\n",
    "end\n",
    "\n",
    "function visualize!(vis, model::PlanarQuadrotor, x::StaticVector)\n",
    "    py,pz = x[1], x[2]\n",
    "    θ = x[3]\n",
    "    settransform!(vis[\"robot\"], compose(Translation(0,py,pz), LinearMap(RotX(-θ))))\n",
    "end\n",
    "\n",
    "function visualize!(vis, model, tf::Real, X)\n",
    "    fps = Int(round((length(X)-1)/tf))\n",
    "    anim = MeshCat.Animation(fps)\n",
    "    n = state_dim(model)\n",
    "    for (k,x) in enumerate(X)\n",
    "        atframe(anim, k) do\n",
    "            x = X[k]\n",
    "            visualize!(vis, model, SVector{n}(x)) \n",
    "        end\n",
    "    end\n",
    "    setanimation!(vis, anim)\n",
    "end"
   ]
  },
  {
   "cell_type": "code",
   "execution_count": 20,
   "metadata": {},
   "outputs": [
    {
     "name": "stderr",
     "output_type": "stream",
     "text": [
      "┌ Info: MeshCat server started. You can open the visualizer by visiting the following URL in your browser:\n",
      "│ http://127.0.0.1:8700\n",
      "└ @ MeshCat /Users/zac/.julia/packages/MeshCat/GlCMx/src/visualizer.jl:73\n"
     ]
    },
    {
     "data": {
      "text/html": [
       "    <div style=\"height: 500px; width: 100%; overflow-x: auto; overflow-y: hidden; resize: both\">\n",
       "    <iframe src=\"http://127.0.0.1:8700\" style=\"width: 100%; height: 100%; border: none\"></iframe>\n",
       "    </div>\n"
      ],
      "text/plain": [
       "MeshCat.DisplayedVisualizer(MeshCat.CoreVisualizer(MeshCat.SceneTrees.SceneNode(nothing, nothing, Dict{String,Array{UInt8,1}}(), nothing, Dict{String,MeshCat.SceneTrees.SceneNode}(\"meshcat\" => MeshCat.SceneTrees.SceneNode(nothing, nothing, Dict{String,Array{UInt8,1}}(), nothing, Dict{String,MeshCat.SceneTrees.SceneNode}(\"robot\" => MeshCat.SceneTrees.SceneNode(nothing, nothing, Dict{String,Array{UInt8,1}}(), nothing, Dict{String,MeshCat.SceneTrees.SceneNode}(\"geom\" => MeshCat.SceneTrees.SceneNode(UInt8[0x83, 0xa6, 0x6f, 0x62, 0x6a, 0x65, 0x63, 0x74, 0x84, 0xaa  …  0x72, 0x6f, 0x62, 0x6f, 0x74, 0x2f, 0x67, 0x65, 0x6f, 0x6d], nothing, Dict{String,Array{UInt8,1}}(), nothing, Dict{String,MeshCat.SceneTrees.SceneNode}()))))))), Set{Any}(), ip\"127.0.0.1\", 8700))"
      ]
     },
     "execution_count": 20,
     "metadata": {},
     "output_type": "execute_result"
    }
   ],
   "source": [
    "vis = Visualizer()\n",
    "model = PlanarQuadrotor()\n",
    "set_mesh!(vis, model)\n",
    "render(vis)"
   ]
  },
  {
   "cell_type": "code",
   "execution_count": 60,
   "metadata": {},
   "outputs": [],
   "source": [
    "X1 = [SVector{6}(x) for x in eachcol(xtraj)];\n",
    "visualize!(vis, model, thist[end], X1)"
   ]
  },
  {
   "cell_type": "code",
   "execution_count": null,
   "metadata": {},
   "outputs": [],
   "source": []
  }
 ],
 "metadata": {
  "kernelspec": {
   "display_name": "Julia 1.5.3",
   "language": "julia",
   "name": "julia-1.5"
  },
  "language_info": {
   "file_extension": ".jl",
   "mimetype": "application/julia",
   "name": "julia",
   "version": "1.5.3"
  }
 },
 "nbformat": 4,
 "nbformat_minor": 4
}
