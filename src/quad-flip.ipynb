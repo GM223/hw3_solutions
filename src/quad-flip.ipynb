{
 "cells": [
  {
   "cell_type": "code",
   "execution_count": 1,
   "metadata": {},
   "outputs": [],
   "source": [
    "using LinearAlgebra\n",
    "using PyPlot\n",
    "using ForwardDiff\n",
    "using MatrixCalculus"
   ]
  },
  {
   "cell_type": "code",
   "execution_count": 2,
   "metadata": {},
   "outputs": [
    {
     "data": {
      "text/plain": [
       "0.025"
      ]
     },
     "execution_count": 2,
     "metadata": {},
     "output_type": "execute_result"
    }
   ],
   "source": [
    "#Model parameters\n",
    "g = 9.81 #m/s^2\n",
    "m = 1.0 #kg \n",
    "ℓ = 0.3 #meters\n",
    "\n",
    "#Thrust and gimbal limits\n",
    "umin = [0.0; 0.0]\n",
    "umax = [0.6*m*g; 0.6*m*g]\n",
    "\n",
    "uhover = [0.5*m*g; 0.5*m*g]\n",
    "\n",
    "h = 0.025 #time step (50 Hz)"
   ]
  },
  {
   "cell_type": "code",
   "execution_count": 3,
   "metadata": {},
   "outputs": [
    {
     "data": {
      "text/plain": [
       "quad_dynamics (generic function with 1 method)"
      ]
     },
     "execution_count": 3,
     "metadata": {},
     "output_type": "execute_result"
    }
   ],
   "source": [
    "#Planar Quadrotor Dynamics\n",
    "function quad_dynamics(x,u)\n",
    "    J = 0.2*m*ℓ*ℓ\n",
    "    \n",
    "    θ = x[3]\n",
    "    \n",
    "    ẍ = (1/m)*(u[1] + u[2])*sin(θ)\n",
    "    ÿ = (1/m)*(u[1] + u[2])*cos(θ) - g\n",
    "    θ̈ = (1/J)*(ℓ/2)*(u[2] - u[1])\n",
    "    \n",
    "    return [x[4:6]; ẍ; ÿ; θ̈]\n",
    "end"
   ]
  },
  {
   "cell_type": "code",
   "execution_count": 4,
   "metadata": {},
   "outputs": [
    {
     "data": {
      "text/plain": [
       "quad_dynamics_rk4 (generic function with 1 method)"
      ]
     },
     "execution_count": 4,
     "metadata": {},
     "output_type": "execute_result"
    }
   ],
   "source": [
    "function quad_dynamics_rk4(x,u)\n",
    "    #RK4 integration with zero-order hold on u\n",
    "    f1 = quad_dynamics(x, u)\n",
    "    f2 = quad_dynamics(x + 0.5*h*f1, u)\n",
    "    f3 = quad_dynamics(x + 0.5*h*f2, u)\n",
    "    f4 = quad_dynamics(x + h*f3, u)\n",
    "    return x + (h/6.0)*(f1 + 2*f2 + 2*f3 + f4)\n",
    "end"
   ]
  },
  {
   "cell_type": "code",
   "execution_count": 5,
   "metadata": {},
   "outputs": [
    {
     "data": {
      "text/plain": [
       "dfdu (generic function with 1 method)"
      ]
     },
     "execution_count": 5,
     "metadata": {},
     "output_type": "execute_result"
    }
   ],
   "source": [
    "#First derivatives of dynamics\n",
    "function dfdx(x,u)\n",
    "    return ForwardDiff.jacobian(dx->quad_dynamics_rk4(dx,u),x)\n",
    "end\n",
    "\n",
    "function dfdu(x,u)\n",
    "    return ForwardDiff.jacobian(du->quad_dynamics_rk4(x,du),u)\n",
    "end"
   ]
  },
  {
   "cell_type": "code",
   "execution_count": 6,
   "metadata": {},
   "outputs": [
    {
     "data": {
      "text/plain": [
       "dBdu (generic function with 1 method)"
      ]
     },
     "execution_count": 6,
     "metadata": {},
     "output_type": "execute_result"
    }
   ],
   "source": [
    "#Second derivatives of dynamics\n",
    "function dAdx(x,u)\n",
    "    return ForwardDiff.jacobian(dx->vec(dfdx(dx,u)),x)\n",
    "end\n",
    "\n",
    "function dBdx(x,u)\n",
    "    return ForwardDiff.jacobian(dx->vec(dfdu(dx,u)),x)\n",
    "end\n",
    "\n",
    "function dAdu(x,u)\n",
    "    return ForwardDiff.jacobian(du->vec(dfdx(x,du)),u)\n",
    "end\n",
    "\n",
    "function dBdu(x,u)\n",
    "    return ForwardDiff.jacobian(du->vec(dfdu(x,du)),u)\n",
    "end"
   ]
  },
  {
   "cell_type": "code",
   "execution_count": 7,
   "metadata": {},
   "outputs": [],
   "source": [
    "Nx = 6     # number of state\n",
    "Nu = 2     # number of controls\n",
    "Tfinal = 1.5 # final time\n",
    "Nt = Int(Tfinal/h)+1    # number of time steps\n",
    "thist = Array(range(0,h*(Nt-1), step=h));"
   ]
  },
  {
   "cell_type": "code",
   "execution_count": 8,
   "metadata": {},
   "outputs": [],
   "source": [
    "# Cost weights\n",
    "Q = Diagonal([ones(3); 0.1*ones(3)]);\n",
    "R = Array(.01*I(Nu));\n",
    "Qn = Array(100.0*I(Nx));"
   ]
  },
  {
   "cell_type": "code",
   "execution_count": 9,
   "metadata": {},
   "outputs": [
    {
     "data": {
      "text/plain": [
       "6×61 Array{Float64,2}:\n",
       " -3.0  -2.84211  -2.68421  -2.52632  …   2.7       2.85      3.0\n",
       "  1.0   1.0       1.0       1.0          1.0       1.0       1.0\n",
       "  0.0   0.0       0.0       0.0         -6.28319  -6.28319  -6.28319\n",
       "  6.0   6.0       6.0       6.0          6.0       6.0       6.0\n",
       "  0.0   0.0       0.0       0.0          0.0       0.0       0.0\n",
       "  0.0   0.0       0.0       0.0      …   0.0       0.0       0.0"
      ]
     },
     "execution_count": 9,
     "metadata": {},
     "output_type": "execute_result"
    }
   ],
   "source": [
    "#Reference trajectory for flip\n",
    "x1ref = [LinRange(-3,0,20); zeros(20); LinRange(0,3,21)]\n",
    "x2ref = [ones(20); LinRange(1,3,10); LinRange(3,1,10); ones(21)]\n",
    "θref = [zeros(20); LinRange(0,-2*pi,20); -2*pi*ones(21)]\n",
    "v1ref = [6.0*ones(20); zeros(20); 6.0*ones(21)]\n",
    "v2ref = [zeros(20); 8.0*ones(10); -8.0*ones(10); zeros(21)]\n",
    "ωref = [zeros(20); -4*pi*ones(20); zeros(21)]\n",
    "xref = [x1ref'; x2ref'; θref'; v1ref'; v2ref'; ωref']"
   ]
  },
  {
   "cell_type": "code",
   "execution_count": 10,
   "metadata": {},
   "outputs": [
    {
     "data": {
      "text/plain": [
       "6×101 Array{Float64,2}:\n",
       " -2.0      -1.96     -1.92     …  1.88     1.92     1.96     2.0\n",
       "  1.0       1.0       1.0         1.0      1.0      1.0      1.0\n",
       "  0.0       0.0       0.0         0.0      0.0      0.0      0.0\n",
       "  1.33333   1.33333   1.33333     1.33333  1.33333  1.33333  1.33333\n",
       "  0.0       0.0       0.0         0.0      0.0      0.0      0.0\n",
       "  0.0       0.0       0.0      …  0.0      0.0      0.0      0.0"
      ]
     },
     "execution_count": 10,
     "metadata": {},
     "output_type": "execute_result"
    }
   ],
   "source": [
    "#Reference trajectory for straight line\n",
    "x1ref = Array(LinRange(-2,2,101))\n",
    "x2ref = Array(ones(101))\n",
    "θref = Array(zeros(101))\n",
    "v1ref = Array((4.0/3.0)*ones(101))\n",
    "v2ref = Array(zeros(101))\n",
    "ωref = Array(zeros(101))\n",
    "xref = [x1ref'; x2ref'; θref'; v1ref'; v2ref'; ωref']"
   ]
  },
  {
   "cell_type": "code",
   "execution_count": 11,
   "metadata": {},
   "outputs": [
    {
     "data": {
      "text/plain": [
       "stage_cost (generic function with 1 method)"
      ]
     },
     "execution_count": 11,
     "metadata": {},
     "output_type": "execute_result"
    }
   ],
   "source": [
    "function stage_cost(x,u,k)\n",
    "    return 0.5*(x-xref[:,k])'*Q*(x-xref[:,k]) + 0.5*(u-uhover)'*R*(u-uhover)\n",
    "    #return 0.5*(x-xgoal)'*Q*(x-xgoal) + 0.5*(u-uhover)'*R*(u-uhover)\n",
    "end"
   ]
  },
  {
   "cell_type": "code",
   "execution_count": 12,
   "metadata": {},
   "outputs": [
    {
     "data": {
      "text/plain": [
       "terminal_cost (generic function with 1 method)"
      ]
     },
     "execution_count": 12,
     "metadata": {},
     "output_type": "execute_result"
    }
   ],
   "source": [
    "function terminal_cost(x)\n",
    "    return 0.5*(x-xref[:,Nt])'*Qn*(x-xref[:,Nt])\n",
    "    #return 0.5*(x-xgoal)'*Qn*(x-xgoal)\n",
    "end"
   ]
  },
  {
   "cell_type": "code",
   "execution_count": 13,
   "metadata": {},
   "outputs": [
    {
     "data": {
      "text/plain": [
       "cost (generic function with 1 method)"
      ]
     },
     "execution_count": 13,
     "metadata": {},
     "output_type": "execute_result"
    }
   ],
   "source": [
    "function cost(xtraj,utraj)\n",
    "    J = 0\n",
    "    for k = 1:(Nt-1)\n",
    "        J += stage_cost(xtraj[:,k],utraj[:,k],k)\n",
    "    end\n",
    "    J += terminal_cost(xtraj[:,Nt])\n",
    "    return J\n",
    "end"
   ]
  },
  {
   "cell_type": "code",
   "execution_count": 14,
   "metadata": {},
   "outputs": [
    {
     "data": {
      "text/plain": [
       "V (generic function with 1 method)"
      ]
     },
     "execution_count": 14,
     "metadata": {},
     "output_type": "execute_result"
    }
   ],
   "source": [
    "function V(x,k)\n",
    "    Δx = x-xtraj[:,k]\n",
    "    return 0.5*Δx'*P[:,:,k]*Δx + p[:,k]'*Δx\n",
    "end"
   ]
  },
  {
   "cell_type": "code",
   "execution_count": 15,
   "metadata": {},
   "outputs": [
    {
     "data": {
      "text/plain": [
       "S (generic function with 1 method)"
      ]
     },
     "execution_count": 15,
     "metadata": {},
     "output_type": "execute_result"
    }
   ],
   "source": [
    "function S(x,u,k)\n",
    "    return stage_cost(x,u,k) + V(quad_dynamics_rk4(x,u),k+1)\n",
    "end"
   ]
  },
  {
   "cell_type": "code",
   "execution_count": 22,
   "metadata": {},
   "outputs": [
    {
     "data": {
      "text/plain": [
       "438.3902222222222"
      ]
     },
     "execution_count": 22,
     "metadata": {},
     "output_type": "execute_result"
    }
   ],
   "source": [
    "#Initial guess trajectory (hover)\n",
    "x0 = [-2.0; 1.0; 0; 0; 0; 0]\n",
    "xgoal = [2.0; 1.0; 0; 0; 0; 0]\n",
    "xtraj = kron(ones(1,Nt), x0)\n",
    "utraj = kron(ones(1,Nt-1), uhover)\n",
    "J = cost(xtraj,utraj)"
   ]
  },
  {
   "cell_type": "code",
   "execution_count": 23,
   "metadata": {},
   "outputs": [
    {
     "data": {
      "text/plain": [
       "2.0e-6"
      ]
     },
     "metadata": {},
     "output_type": "display_data"
    },
    {
     "data": {
      "text/plain": [
       "4.0e-6"
      ]
     },
     "metadata": {},
     "output_type": "display_data"
    },
    {
     "data": {
      "text/plain": [
       "8.0e-6"
      ]
     },
     "metadata": {},
     "output_type": "display_data"
    },
    {
     "data": {
      "text/plain": [
       "1.6e-5"
      ]
     },
     "metadata": {},
     "output_type": "display_data"
    },
    {
     "data": {
      "text/plain": [
       "3.2e-5"
      ]
     },
     "metadata": {},
     "output_type": "display_data"
    },
    {
     "data": {
      "text/plain": [
       "6.4e-5"
      ]
     },
     "metadata": {},
     "output_type": "display_data"
    },
    {
     "data": {
      "text/plain": [
       "0.000128"
      ]
     },
     "metadata": {},
     "output_type": "display_data"
    },
    {
     "data": {
      "text/plain": [
       "0.000256"
      ]
     },
     "metadata": {},
     "output_type": "display_data"
    },
    {
     "data": {
      "text/plain": [
       "0.000512"
      ]
     },
     "metadata": {},
     "output_type": "display_data"
    },
    {
     "data": {
      "text/plain": [
       "0.001024"
      ]
     },
     "metadata": {},
     "output_type": "display_data"
    },
    {
     "data": {
      "text/plain": [
       "0.002048"
      ]
     },
     "metadata": {},
     "output_type": "display_data"
    },
    {
     "data": {
      "text/plain": [
       "0.004096"
      ]
     },
     "metadata": {},
     "output_type": "display_data"
    },
    {
     "data": {
      "text/plain": [
       "0.008192"
      ]
     },
     "metadata": {},
     "output_type": "display_data"
    },
    {
     "data": {
      "text/plain": [
       "0.016384"
      ]
     },
     "metadata": {},
     "output_type": "display_data"
    },
    {
     "data": {
      "text/plain": [
       "0.032768"
      ]
     },
     "metadata": {},
     "output_type": "display_data"
    },
    {
     "data": {
      "text/plain": [
       "0.065536"
      ]
     },
     "metadata": {},
     "output_type": "display_data"
    },
    {
     "data": {
      "text/plain": [
       "0.131072"
      ]
     },
     "metadata": {},
     "output_type": "display_data"
    },
    {
     "data": {
      "text/plain": [
       "0.262144"
      ]
     },
     "metadata": {},
     "output_type": "display_data"
    },
    {
     "data": {
      "text/plain": [
       "0.524288"
      ]
     },
     "metadata": {},
     "output_type": "display_data"
    },
    {
     "data": {
      "text/plain": [
       "0.9437184"
      ]
     },
     "metadata": {},
     "output_type": "display_data"
    },
    {
     "data": {
      "text/plain": [
       "0.9027551703859202"
      ]
     },
     "metadata": {},
     "output_type": "display_data"
    },
    {
     "data": {
      "text/plain": [
       "0.8635699989091149"
      ]
     },
     "metadata": {},
     "output_type": "display_data"
    }
   ],
   "source": [
    "#DDP Algorithm\n",
    "p = zeros(Nx,Nt)\n",
    "P = zeros(Nx,Nx,Nt)\n",
    "j = ones(Nu,Nt-1)\n",
    "K = zeros(Nu,Nx,Nt-1)\n",
    "ΔJ = 0.0\n",
    "\n",
    "Gxx = zeros(Nx,Nx)\n",
    "Guu = zeros(Nu,Nu)\n",
    "Gxu = zeros(Nx,Nu)\n",
    "Gux = zeros(Nu,Nx)\n",
    "\n",
    "iter = 0\n",
    "tol = 1.0\n",
    "β = 1e-6\n",
    "while tol > 1e-5\n",
    "    iter += 1\n",
    "    \n",
    "    p = zeros(Nx,Nt)\n",
    "    P = zeros(Nx,Nx,Nt)\n",
    "    j = zeros(Nu,Nt-1)\n",
    "    K = zeros(Nu,Nx,Nt-1)\n",
    "    ΔJ = 0.0\n",
    "\n",
    "    p[:,Nt] = ForwardDiff.gradient(terminal_cost,xtraj[:,Nt])\n",
    "    P[:,:,Nt] = ForwardDiff.hessian(terminal_cost,xtraj[:,Nt])\n",
    "    \n",
    "    #Backward Pass\n",
    "    failed = false\n",
    "    for k = (Nt-1):-1:1\n",
    "        #Calculate derivatives\n",
    "        q = ForwardDiff.gradient(dx->stage_cost(dx,utraj[:,k],k),xtraj[:,k])\n",
    "        Q = ForwardDiff.hessian(dx->stage_cost(dx,utraj[:,k],k),xtraj[:,k])\n",
    "    \n",
    "        r = ForwardDiff.gradient(du->stage_cost(xtraj[:,k],du,k),utraj[:,k])\n",
    "        R = ForwardDiff.hessian(du->stage_cost(xtraj[:,k],du,k),utraj[:,k])\n",
    "    \n",
    "        A = dfdx(xtraj[:,k],utraj[:,k])\n",
    "        B = dfdu(xtraj[:,k],utraj[:,k])\n",
    "    \n",
    "        gx = q + A'*p[:,k+1]\n",
    "        gu = r + B'*p[:,k+1]\n",
    "    \n",
    "        Gxx = Q + A'*P[:,:,k+1]*A\n",
    "        Guu = R + B'*P[:,:,k+1]*B\n",
    "        Gux = B'*P[:,:,k+1]*A\n",
    "        \n",
    "        if tol < 1e-2\n",
    "            #Add full Newton terms\n",
    "            Ax = dAdx(xtraj[:,k],utraj[:,k])\n",
    "            Bx = dBdx(xtraj[:,k],utraj[:,k])\n",
    "            Bu = dBdu(xtraj[:,k],utraj[:,k])\n",
    "            \n",
    "            Gxx += kron(p[:,k+1]',I(Nx))*comm(Nx,Nx)*Ax\n",
    "            Guu += kron(p[:,k+1]',I(Nu))*comm(Nx,Nu)*Bu\n",
    "            Gux += kron(p[:,k+1]',I(Nu))*comm(Nx,Nu)*Bx\n",
    "        end\n",
    "    \n",
    "        #Regularization\n",
    "        Gxx_reg = Gxx + A'*β*I*A\n",
    "        Guu_reg = Guu + B'*β*I*B\n",
    "        Gux_reg = Gux + B'*β*I*A\n",
    "        C = cholesky(Symmetric([Gxx_reg Gux_reg'; Gux_reg Guu_reg]), check=false)\n",
    "        if !issuccess(C)\n",
    "            β = 2*β\n",
    "            failed = true\n",
    "            display(β)\n",
    "            break\n",
    "        end\n",
    "    \n",
    "        j[:,k] .= Guu_reg\\gu\n",
    "        K[:,:,k] .= Guu_reg\\Gux_reg\n",
    "    \n",
    "        p[:,k] .= gx - K[:,:,k]'*gu + K[:,:,k]'*Guu*j[:,k] - Gux'*j[:,k]\n",
    "        P[:,:,k] .= Gxx + K[:,:,k]'*Guu*K[:,:,k] - Gux'*K[:,:,k] - K[:,:,k]'*Gux\n",
    "    \n",
    "        ΔJ += gu'*j[:,k]\n",
    "    end\n",
    "    #display(j)\n",
    "\n",
    "    #Forward rollout with line search\n",
    "    if !failed\n",
    "    xn = zeros(Nx,Nt)\n",
    "    un = zeros(Nu,Nt-1)\n",
    "    xn[:,1] = xtraj[:,1]\n",
    "    α = 1.0\n",
    "\n",
    "    for k = 1:(Nt-1)\n",
    "        un[:,k] .= utraj[:,k] - α*j[:,k] - K[:,:,k]*(xn[:,k]-xtraj[:,k])\n",
    "        xn[:,k+1] .= quad_dynamics_rk4(xn[:,k],un[:,k])\n",
    "    end\n",
    "    Jn = cost(xn,un)\n",
    "    \n",
    "    while Jn > (J - 1e-2*α*ΔJ)\n",
    "        α = 0.5*α\n",
    "        for k = 1:(Nt-1)\n",
    "            un[:,k] .= utraj[:,k] - α*j[:,k] - K[:,:,k]*(xn[:,k]-xtraj[:,k])\n",
    "            xn[:,k+1] .= quad_dynamics_rk4(xn[:,k],un[:,k])\n",
    "        end\n",
    "        Jn = cost(xn,un)\n",
    "    end\n",
    "    #display(α)\n",
    "    \n",
    "    J = Jn\n",
    "    xtraj .= xn\n",
    "    utraj .= un\n",
    "    \n",
    "    tol = maximum(abs.(j[:]))\n",
    "    β = max(0.9*β, 1e-6)\n",
    "    end\n",
    "end"
   ]
  },
  {
   "cell_type": "code",
   "execution_count": 24,
   "metadata": {},
   "outputs": [
    {
     "data": {
      "text/plain": [
       "46"
      ]
     },
     "execution_count": 24,
     "metadata": {},
     "output_type": "execute_result"
    }
   ],
   "source": [
    "iter"
   ]
  },
  {
   "cell_type": "code",
   "execution_count": null,
   "metadata": {},
   "outputs": [],
   "source": [
    "#Set up visualization\n",
    "using MeshCat\n",
    "using RobotZoo: Quadrotor, PlanarQuadrotor\n",
    "using CoordinateTransformations, Rotations, Colors, StaticArrays, RobotDynamics\n",
    "\n",
    "function set_mesh!(vis, model::L;\n",
    "        scaling=1.0, color=colorant\"black\"\n",
    "    ) where {L <: Union{Quadrotor, PlanarQuadrotor}} \n",
    "    # urdf_folder = joinpath(@__DIR__, \"..\", \"data\", \"meshes\")\n",
    "    urdf_folder = @__DIR__\n",
    "    # if scaling != 1.0\n",
    "    #     quad_scaling = 0.085 * scaling\n",
    "    obj = joinpath(urdf_folder, \"quadrotor_scaled.obj\")\n",
    "    if scaling != 1.0\n",
    "        error(\"Scaling not implemented after switching to MeshCat 0.12\")\n",
    "    end\n",
    "    robot_obj = MeshFileGeometry(obj)\n",
    "    mat = MeshPhongMaterial(color=color)\n",
    "    setobject!(vis[\"robot\"][\"geom\"], robot_obj, mat)\n",
    "    if hasfield(L, :ned)\n",
    "        model.ned && settransform!(vis[\"robot\"][\"geom\"], LinearMap(RotX(pi)))\n",
    "    end\n",
    "end\n",
    "\n",
    "function visualize!(vis, model::PlanarQuadrotor, x::StaticVector)\n",
    "    py,pz = x[1], x[2]\n",
    "    θ = x[3]\n",
    "    settransform!(vis[\"robot\"], compose(Translation(0,py,pz), LinearMap(RotX(-θ))))\n",
    "end\n",
    "\n",
    "function visualize!(vis, model, tf::Real, X)\n",
    "    fps = Int(round((length(X)-1)/tf))\n",
    "    anim = MeshCat.Animation(fps)\n",
    "    n = state_dim(model)\n",
    "    for (k,x) in enumerate(X)\n",
    "        atframe(anim, k) do\n",
    "            x = X[k]\n",
    "            visualize!(vis, model, SVector{n}(x)) \n",
    "        end\n",
    "    end\n",
    "    setanimation!(vis, anim)\n",
    "end"
   ]
  },
  {
   "cell_type": "code",
   "execution_count": null,
   "metadata": {},
   "outputs": [],
   "source": [
    "vis = Visualizer()\n",
    "model = PlanarQuadrotor()\n",
    "set_mesh!(vis, model)\n",
    "render(vis)"
   ]
  },
  {
   "cell_type": "code",
   "execution_count": null,
   "metadata": {},
   "outputs": [],
   "source": [
    "X1 = [SVector{6}(x) for x in eachcol(xtraj)];\n",
    "visualize!(vis, model, thist[end], X1)"
   ]
  },
  {
   "cell_type": "code",
   "execution_count": null,
   "metadata": {},
   "outputs": [],
   "source": []
  }
 ],
 "metadata": {
  "kernelspec": {
   "display_name": "Julia 1.5.3",
   "language": "julia",
   "name": "julia-1.5"
  },
  "language_info": {
   "file_extension": ".jl",
   "mimetype": "application/julia",
   "name": "julia",
   "version": "1.5.3"
  }
 },
 "nbformat": 4,
 "nbformat_minor": 4
}
